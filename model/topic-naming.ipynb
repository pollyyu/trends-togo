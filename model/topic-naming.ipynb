{
 "cells": [
  {
   "cell_type": "code",
   "execution_count": 1,
   "metadata": {},
   "outputs": [],
   "source": [
    "# !pip install geoplotlib\n",
    "# !pip install folium --user\n",
    "# !pip install geopandas --user"
   ]
  },
  {
   "cell_type": "code",
   "execution_count": 31,
   "metadata": {},
   "outputs": [],
   "source": [
    "import pandas as pd\n",
    "import numpy as np\n",
    "from collections import defaultdict\n",
    "import pandabase"
   ]
  },
  {
   "cell_type": "markdown",
   "metadata": {},
   "source": [
    "## Download relevant files"
   ]
  },
  {
   "cell_type": "code",
   "execution_count": 32,
   "metadata": {},
   "outputs": [],
   "source": [
    "with open('df_complete.pickle','rb') as read_file:\n",
    "    df_complete = pickle.load(read_file)\n",
    "    \n",
    "with open('cuisine_topic_info.pickle','rb') as read_file:\n",
    "    cuisine_topic_info = pickle.load(read_file)\n",
    "    \n",
    "with open('dish_topic_info.pickle','rb') as read_file:\n",
    "    dish_topic_info = pickle.load(read_file)"
   ]
  },
  {
   "cell_type": "markdown",
   "metadata": {},
   "source": [
    "## Curating information for Topic Naming\n",
    "\n",
    "Now that we have clustered the data into 30 restaurant profiles, I am going to name them using the same information we fed into our K-means model\n",
    "\n",
    "**Cuisines:** Remember the LDA topic modeling earlier? The cuisine topic-keyword distribution and the document-topic distribution became useful in analyzing each clusters. I am going to get each cluster's top 3 Cuisine dimensions by their key topic keywords and percentage contribution to the final k-means clustering.\\\n",
    "**Dishes:** The same process as cuisines but with dishes LDA topic modeling\\\n",
    "**Price:** Get the average max price for each cluster\\\n",
    "**Menu Variability:** Get the average count of top dishes for each cluster"
   ]
  },
  {
   "cell_type": "markdown",
   "metadata": {},
   "source": [
    "**Getting cuisine representation**"
   ]
  },
  {
   "cell_type": "code",
   "execution_count": 23,
   "metadata": {},
   "outputs": [],
   "source": [
    "km_label_grped = df_complete.groupby(['km_label','cuisine_dominant_topic']).count()\n",
    "tot = df_complete.groupby(['km_label']).count().reset_index()\n",
    "\n",
    "# km_label_grped\n",
    "g = km_label_grped['row_number'].groupby(level=0, group_keys=False)\n",
    "res = g.apply(lambda x: x.sort_values(ascending=False).head(3)).reset_index()\n",
    "merged = pd.merge(res, tot, how='left',on='km_label')\n",
    "merged['perc'] = merged['row_number_x']/merged['row_number_y']\n",
    "\n",
    "cuisine_inf = pd.merge(merged[['km_label','cuisine_dominant_topic_x','row_number_x','perc']],cuisine_topic_info, how='left',\n",
    "        left_on='cuisine_dominant_topic_x', right_on = 'cuisine_dominant_topic')\n",
    "\n",
    "cuisine_inf = cuisine_inf[['km_label','cuisine_dominant_topic_x','row_number_x','perc','top_doc_cuisines','cuisine_topic_keywords']]\n",
    "cuisine_inf.columns = ['km_label','cuisine_dominant_topic','cuisine_topic_count','cuisine_topic_perc','top_doc_cuisines',\n",
    "                       'cuisine_topic_keywords']"
   ]
  },
  {
   "cell_type": "markdown",
   "metadata": {},
   "source": [
    "**Getting dish representation**"
   ]
  },
  {
   "cell_type": "code",
   "execution_count": 24,
   "metadata": {},
   "outputs": [],
   "source": [
    "km_label_grped = df_complete.groupby(['km_label','dish_dominant_topic']).count()\n",
    "tot = df_complete.groupby(['km_label']).count().reset_index()\n",
    "\n",
    "# km_label_grped\n",
    "g = km_label_grped['row_number'].groupby(level=0, group_keys=False)\n",
    "res = g.apply(lambda x: x.sort_values(ascending=False).head(3)).reset_index()\n",
    "merged = pd.merge(res, tot, how='left',on='km_label')\n",
    "merged['perc'] = merged['row_number_x']/merged['row_number_y']\n",
    "\n",
    "dish_inf = pd.merge(merged[['km_label','dish_dominant_topic_x','row_number_x','perc']],dish_topic_info, how='left',\n",
    "        left_on='dish_dominant_topic_x', right_on = 'dish_dominant_topic')\n",
    "dish_inf = dish_inf[['km_label','dish_dominant_topic_x','row_number_x','perc','top_doc_dish','dish_topic_keywords']]\n",
    "dish_inf.columns = ['km_label1','dish_dominant_topic','dish_topic_count','dish_topic_perc','top_doc_dish',\n",
    "                       'dish_topic_keywords']"
   ]
  },
  {
   "cell_type": "markdown",
   "metadata": {},
   "source": [
    "**Getting price inference**"
   ]
  },
  {
   "cell_type": "code",
   "execution_count": 25,
   "metadata": {},
   "outputs": [],
   "source": [
    "restaurant_inf = df_complete.groupby('km_label').agg({'row_number':'count','price_rating_x':'median','max_price':'median',\n",
    "                                     'count_top_dishes':'median','unique_dishes':'median',\n",
    "                                     'unique_hashtag_count':'median'}).reset_index()"
   ]
  },
  {
   "cell_type": "markdown",
   "metadata": {},
   "source": [
    "**Joining Cuisine and Dish Interpretation into one table**"
   ]
  },
  {
   "cell_type": "code",
   "execution_count": 39,
   "metadata": {},
   "outputs": [],
   "source": [
    "inference_df = pd.merge(pd.concat([cuisine_inf, dish_inf], axis=1), restaurant_inf, how = 'left', on = 'km_label')\n",
    "\n",
    "## saving inference into excel\n",
    "inference_df.to_excel(\"inference2.xlsx\")"
   ]
  }
 ],
 "metadata": {
  "kernelspec": {
   "display_name": "Python 3",
   "language": "python",
   "name": "python3"
  },
  "language_info": {
   "codemirror_mode": {
    "name": "ipython",
    "version": 3
   },
   "file_extension": ".py",
   "mimetype": "text/x-python",
   "name": "python",
   "nbconvert_exporter": "python",
   "pygments_lexer": "ipython3",
   "version": "3.7.5"
  }
 },
 "nbformat": 4,
 "nbformat_minor": 2
}
