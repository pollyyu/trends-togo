{
 "cells": [
  {
   "cell_type": "code",
   "execution_count": 7,
   "metadata": {},
   "outputs": [],
   "source": [
    "# !pip install --user gensim\n",
    "# !pip install psycopg2\n",
    "# !pip install wordcloud\n",
    "# !pip install --user pyldavis"
   ]
  },
  {
   "cell_type": "markdown",
   "metadata": {},
   "source": [
    "<a class=\"anchor\" id=\"toc\"></a>"
   ]
  },
  {
   "cell_type": "markdown",
   "metadata": {},
   "source": [
    "# Table of Contents\n",
    "\n",
    "## Getting the Data Ready\n",
    "[Download data](#data_download)\n",
    "\n",
    "[EDA](#EDA)\n",
    "\n",
    "[Text Preprocessing](#text_process)\n",
    " * [Compound Words for dishes](#compound) \n",
    " * [Restaurant-level Processing](#collapse)  - [load/save df](#df_save)\n",
    " * [Merge restaurant and menu](#merge)\n",
    "\n",
    "## Modeling\n",
    "[Load joined df](#load_joined)\n",
    "\n",
    "[Dimension Reduction](#dim_reduce)\n",
    "* [Exploring LSA - Cuisines](#lsa_cuisine)\n",
    "* [Exploring LSA - Dishes](#lsa_dishes)\n",
    "* [LDA (cuisines) & PyLDAvis](#lda_cuisines)\n",
    "* [LDA (dishes) & PyLDAvis](#lda_dishes)\n",
    "\n",
    "[Clustering](#cluster)\n",
    "* [DBSCAN](#dbscan)\n",
    "* [MeanShift](#meanshift)\n",
    "* [KMeans](#kmeans)\n",
    "* [Hierarchical](#hierachy)\n",
    "\n",
    "## Saving\n",
    "[Save final clustering](#save_final)"
   ]
  },
  {
   "cell_type": "code",
   "execution_count": 2,
   "metadata": {
    "scrolled": true
   },
   "outputs": [
    {
     "name": "stderr",
     "output_type": "stream",
     "text": [
      "/home/ubuntu/anaconda3/lib/python3.7/site-packages/gensim/corpora/dictionary.py:11: DeprecationWarning: Using or importing the ABCs from 'collections' instead of from 'collections.abc' is deprecated since Python 3.3,and in 3.9 it will stop working\n",
      "  from collections import Mapping, defaultdict\n",
      "/home/ubuntu/anaconda3/lib/python3.7/site-packages/scipy/sparse/sparsetools.py:21: DeprecationWarning: `scipy.sparse.sparsetools` is deprecated!\n",
      "scipy.sparse.sparsetools is a private module for scipy.sparse, and should not be used.\n",
      "  _deprecated()\n"
     ]
    }
   ],
   "source": [
    "import pandas as pd\n",
    "import numpy as np\n",
    "from collections import defaultdict\n",
    "from itertools import chain\n",
    "import pickle\n",
    "import string\n",
    "import collections\n",
    "import re\n",
    "import json\n",
    "import ast\n",
    "import matplotlib.pyplot as plt\n",
    "import seaborn as sns\n",
    "# from wordcloud import WordCloud, STOPWORDS, ImageColorGenerator\n",
    "from nltk.corpus import stopwords \n",
    "from nltk.tokenize import word_tokenize \n",
    "\n",
    "from sklearn.feature_extraction.text import CountVectorizer, TfidfVectorizer\n",
    "from sklearn.cluster import DBSCAN, SpectralClustering, MeanShift\n",
    "from sklearn.decomposition import TruncatedSVD\n",
    "from sklearn.decomposition import NMF\n",
    "from sklearn.metrics.pairwise import cosine_similarity\n",
    "from sklearn.preprocessing import StandardScaler\n",
    "from sklearn.cluster import MeanShift, estimate_bandwidth\n",
    "\n",
    "from sklearn.manifold import TSNE\n",
    "import pyLDAvis\n",
    "import pyLDAvis.gensim\n",
    "from gensim import corpora, models, similarities, matutils\n",
    "import gensim.corpora as corpora\n",
    "from gensim.utils import simple_preprocess\n",
    "from gensim.models import CoherenceModel"
   ]
  },
  {
   "cell_type": "markdown",
   "metadata": {},
   "source": [
    "<a class=\"anchor\" id=\"data_download\"></a>"
   ]
  },
  {
   "cell_type": "markdown",
   "metadata": {},
   "source": [
    "## Download Data"
   ]
  },
  {
   "cell_type": "markdown",
   "metadata": {},
   "source": [
    "[Table of Contents](#toc)"
   ]
  },
  {
   "cell_type": "code",
   "execution_count": 150,
   "metadata": {},
   "outputs": [],
   "source": [
    "import sys\n",
    "try:\n",
    "    import psycopg2 as pg\n",
    "except ImportError:\n",
    "    print(\"You should install psycopg2 with the command\")\n",
    "    print(\"  conda install psycopg2\")\n",
    "    sys.exit(0)"
   ]
  },
  {
   "cell_type": "code",
   "execution_count": 151,
   "metadata": {},
   "outputs": [],
   "source": [
    "connection_args = {\n",
    "#     'host': \"54.153.84.135\",  # You'll have to update this to your IP\n",
    "    'host': 'localhost',\n",
    "    'user': 'postgres',  # username\n",
    "    'password': 'vF_7gjg>n9.a\"F(PS\\'#YjaWDz,mz]=4XJUT5Tr(Z2FVx\\'+WMQs',\n",
    "    'dbname': 'grubhub',  # DB that we are connecting to\n",
    "    'port': 5432  # port we opened on AWS\n",
    "}"
   ]
  },
  {
   "cell_type": "code",
   "execution_count": 152,
   "metadata": {},
   "outputs": [],
   "source": [
    "connection = pg.connect(**connection_args)\n",
    "\n",
    "cursor = connection.cursor()"
   ]
  },
  {
   "cell_type": "markdown",
   "metadata": {},
   "source": [
    "#### Getting restaurant data"
   ]
  },
  {
   "cell_type": "code",
   "execution_count": 153,
   "metadata": {},
   "outputs": [],
   "source": [
    "# making sure there are no duplicates, and business is not a chain\n",
    "cursor.execute(\"SELECT * FROM (SELECT ROW_NUMBER() OVER(PARTITION BY restaurant_id) AS row_num,* FROM restaurant) \\\n",
    "                a WHERE row_num = 1 AND brand_id is null\")"
   ]
  },
  {
   "cell_type": "code",
   "execution_count": 154,
   "metadata": {},
   "outputs": [],
   "source": [
    "df_rest = pd.DataFrame(cursor.fetchall())"
   ]
  },
  {
   "cell_type": "code",
   "execution_count": 155,
   "metadata": {},
   "outputs": [
    {
     "data": {
      "text/plain": [
       "34027"
      ]
     },
     "execution_count": 155,
     "metadata": {},
     "output_type": "execute_result"
    }
   ],
   "source": [
    "len(df_rest)"
   ]
  },
  {
   "cell_type": "code",
   "execution_count": 156,
   "metadata": {},
   "outputs": [],
   "source": [
    "df_rest.columns =['row_number','index','restaurant_id','name','restaurant_hash','faceted_rating_data','logo','description',\n",
    "                 'billing_comment','pickup boolean','delivery boolean','ratings' ,'delivery_fee','service_fee',\n",
    "                 'delivery_minimum','total_menu_items','cuisines' ,'phone_only','phone_number','routing_number',\n",
    "                 'track_your_grub','accepts_credit','accepts_cash','address','time_zone','price_rating',\n",
    "                 'min_delivery_fee','min_delivery_fee_without_discounts','restaurant_cdn_image_url',\n",
    "                 'media_image','merchant_url_path','score','new_restaurant','brand_name','brand_id','chain_id',\n",
    "                 'available_promo_codes','percentage_ad_fee','vendor_location_id','catering']"
   ]
  },
  {
   "cell_type": "markdown",
   "metadata": {},
   "source": [
    "#### Getting Json data for restaurants"
   ]
  },
  {
   "cell_type": "code",
   "execution_count": 157,
   "metadata": {},
   "outputs": [],
   "source": [
    "turn_json = ['faceted_rating_data','ratings','delivery_minimum','phone_number','routing_number','address','min_delivery_fee',\n",
    "'media_image']\n",
    "\n",
    "for j in turn_json:\n",
    "    df_rest[j] = df_rest[j].apply(lambda x: ast.literal_eval(x))"
   ]
  },
  {
   "cell_type": "code",
   "execution_count": 158,
   "metadata": {},
   "outputs": [],
   "source": [
    "# getting rating count, value and city\n",
    "df_rest['rating_count'] = df_rest['ratings'].apply(lambda x: x['rating_count'])\n",
    "df_rest['rating_value'] = df_rest['ratings'].apply(lambda x: x['actual_rating_value'])\n",
    "df_rest['city'] = df_rest['address'].apply(lambda x: x['address_locality'])"
   ]
  },
  {
   "cell_type": "code",
   "execution_count": 159,
   "metadata": {},
   "outputs": [],
   "source": [
    "df_rest['long'] = df_rest['address'].apply(lambda x: x['longitude'])\n",
    "df_rest['lat'] = df_rest['address'].apply(lambda x: x['latitude'])"
   ]
  },
  {
   "cell_type": "code",
   "execution_count": 84,
   "metadata": {},
   "outputs": [],
   "source": [
    "imp_rest = df_rest[['restaurant_id', 'name', 'total_menu_items','cuisines','rating_count','rating_value','city',\n",
    "                    'price_rating']]"
   ]
  },
  {
   "cell_type": "markdown",
   "metadata": {},
   "source": [
    "#### Getting menu data"
   ]
  },
  {
   "cell_type": "code",
   "execution_count": 85,
   "metadata": {},
   "outputs": [],
   "source": [
    "cursor.execute(\"SELECT * FROM (SELECT ROW_NUMBER() OVER(PARTITION BY restaurant_id, id) AS row_num, * \\\n",
    "                FROM menu WHERE popular = 't' and deleted = 'f') a WHERE row_num = 1\")"
   ]
  },
  {
   "cell_type": "code",
   "execution_count": 86,
   "metadata": {},
   "outputs": [],
   "source": [
    "df_menu = pd.DataFrame(cursor.fetchall())"
   ]
  },
  {
   "cell_type": "code",
   "execution_count": 87,
   "metadata": {},
   "outputs": [
    {
     "data": {
      "text/plain": [
       "153776"
      ]
     },
     "execution_count": 87,
     "metadata": {},
     "output_type": "execute_result"
    }
   ],
   "source": [
    "len(df_menu)"
   ]
  },
  {
   "cell_type": "code",
   "execution_count": 16,
   "metadata": {},
   "outputs": [],
   "source": [
    "df_menu.columns = ['row_num','index','uuid', 'id','restaurant_id','merchant_uuid', 'menu_category_name','name',\n",
    "                   'description','price','media_image','dishes','allowable_order_types','menu_item_features',\n",
    "                   'item_coupon','popular','deleted']"
   ]
  },
  {
   "cell_type": "markdown",
   "metadata": {},
   "source": [
    "since there are some restaurants that sell not just food (restaurant_id = 287827 sells toilet paper), we remove menu dthat does not have dishes"
   ]
  },
  {
   "cell_type": "code",
   "execution_count": 17,
   "metadata": {
    "scrolled": true
   },
   "outputs": [
    {
     "data": {
      "text/html": [
       "<div>\n",
       "<style scoped>\n",
       "    .dataframe tbody tr th:only-of-type {\n",
       "        vertical-align: middle;\n",
       "    }\n",
       "\n",
       "    .dataframe tbody tr th {\n",
       "        vertical-align: top;\n",
       "    }\n",
       "\n",
       "    .dataframe thead th {\n",
       "        text-align: right;\n",
       "    }\n",
       "</style>\n",
       "<table border=\"1\" class=\"dataframe\">\n",
       "  <thead>\n",
       "    <tr style=\"text-align: right;\">\n",
       "      <th></th>\n",
       "      <th>row_number</th>\n",
       "      <th>index</th>\n",
       "      <th>restaurant_id</th>\n",
       "      <th>name</th>\n",
       "      <th>restaurant_hash</th>\n",
       "      <th>faceted_rating_data</th>\n",
       "      <th>logo</th>\n",
       "      <th>description</th>\n",
       "      <th>billing_comment</th>\n",
       "      <th>pickup boolean</th>\n",
       "      <th>...</th>\n",
       "      <th>chain_id</th>\n",
       "      <th>available_promo_codes</th>\n",
       "      <th>percentage_ad_fee</th>\n",
       "      <th>vendor_location_id</th>\n",
       "      <th>catering</th>\n",
       "      <th>rating_count</th>\n",
       "      <th>rating_value</th>\n",
       "      <th>city</th>\n",
       "      <th>long</th>\n",
       "      <th>lat</th>\n",
       "    </tr>\n",
       "  </thead>\n",
       "  <tbody>\n",
       "    <tr>\n",
       "      <td>4486</td>\n",
       "      <td>1</td>\n",
       "      <td>7</td>\n",
       "      <td>287827</td>\n",
       "      <td>Freshco Grocery and Deli</td>\n",
       "      <td>5984ce8ad2a7303fd13e5b58c698ca3c</td>\n",
       "      <td>{'review_data': {'total_count': 191, 'valid_co...</td>\n",
       "      <td>https://media-cdn.grubhub.com/image/upload/v15...</td>\n",
       "      <td>None</td>\n",
       "      <td>Stanton St</td>\n",
       "      <td>True</td>\n",
       "      <td>...</td>\n",
       "      <td>None</td>\n",
       "      <td>None</td>\n",
       "      <td>0.0</td>\n",
       "      <td>31490.0</td>\n",
       "      <td>False</td>\n",
       "      <td>2789.0</td>\n",
       "      <td>4.164052</td>\n",
       "      <td>New York</td>\n",
       "      <td>-73.98811</td>\n",
       "      <td>40.72134</td>\n",
       "    </tr>\n",
       "  </tbody>\n",
       "</table>\n",
       "<p>1 rows × 45 columns</p>\n",
       "</div>"
      ],
      "text/plain": [
       "      row_number  index  restaurant_id                      name  \\\n",
       "4486           1      7         287827  Freshco Grocery and Deli   \n",
       "\n",
       "                       restaurant_hash  \\\n",
       "4486  5984ce8ad2a7303fd13e5b58c698ca3c   \n",
       "\n",
       "                                    faceted_rating_data  \\\n",
       "4486  {'review_data': {'total_count': 191, 'valid_co...   \n",
       "\n",
       "                                                   logo description  \\\n",
       "4486  https://media-cdn.grubhub.com/image/upload/v15...        None   \n",
       "\n",
       "     billing_comment  pickup boolean  ...  chain_id available_promo_codes  \\\n",
       "4486      Stanton St            True  ...      None                  None   \n",
       "\n",
       "     percentage_ad_fee vendor_location_id catering rating_count rating_value  \\\n",
       "4486               0.0            31490.0    False       2789.0     4.164052   \n",
       "\n",
       "          city       long       lat  \n",
       "4486  New York  -73.98811  40.72134  \n",
       "\n",
       "[1 rows x 45 columns]"
      ]
     },
     "execution_count": 17,
     "metadata": {},
     "output_type": "execute_result"
    }
   ],
   "source": [
    "df_rest[df_rest['restaurant_id']==287827]"
   ]
  },
  {
   "cell_type": "code",
   "execution_count": 18,
   "metadata": {
    "scrolled": false
   },
   "outputs": [
    {
     "data": {
      "text/html": [
       "<div>\n",
       "<style scoped>\n",
       "    .dataframe tbody tr th:only-of-type {\n",
       "        vertical-align: middle;\n",
       "    }\n",
       "\n",
       "    .dataframe tbody tr th {\n",
       "        vertical-align: top;\n",
       "    }\n",
       "\n",
       "    .dataframe thead th {\n",
       "        text-align: right;\n",
       "    }\n",
       "</style>\n",
       "<table border=\"1\" class=\"dataframe\">\n",
       "  <thead>\n",
       "    <tr style=\"text-align: right;\">\n",
       "      <th></th>\n",
       "      <th>row_num</th>\n",
       "      <th>index</th>\n",
       "      <th>uuid</th>\n",
       "      <th>id</th>\n",
       "      <th>restaurant_id</th>\n",
       "      <th>merchant_uuid</th>\n",
       "      <th>menu_category_name</th>\n",
       "      <th>name</th>\n",
       "      <th>description</th>\n",
       "      <th>price</th>\n",
       "      <th>media_image</th>\n",
       "      <th>dishes</th>\n",
       "      <th>allowable_order_types</th>\n",
       "      <th>menu_item_features</th>\n",
       "      <th>item_coupon</th>\n",
       "      <th>popular</th>\n",
       "      <th>deleted</th>\n",
       "    </tr>\n",
       "  </thead>\n",
       "  <tbody>\n",
       "    <tr>\n",
       "      <td>26</td>\n",
       "      <td>1</td>\n",
       "      <td>36</td>\n",
       "      <td>uJZOIIVDEeaMJYsU8O4blQ</td>\n",
       "      <td>9920648</td>\n",
       "      <td>194</td>\n",
       "      <td>8lG6sIBqEeaf1avwO2f_3w</td>\n",
       "      <td>Main Entrees</td>\n",
       "      <td>Palak Paneer</td>\n",
       "      <td>Fresh organic spinach and pan-seared vegan che...</td>\n",
       "      <td>{'amount': 1200, 'currency': 'USD'}</td>\n",
       "      <td>{'base_url': 'https://media-cdn.grubhub.com/im...</td>\n",
       "      <td>None</td>\n",
       "      <td>['standard']</td>\n",
       "      <td>[]</td>\n",
       "      <td>False</td>\n",
       "      <td>True</td>\n",
       "      <td>False</td>\n",
       "    </tr>\n",
       "    <tr>\n",
       "      <td>43</td>\n",
       "      <td>1</td>\n",
       "      <td>58</td>\n",
       "      <td>D0QTkaSsEei_ocGyUvbWeA</td>\n",
       "      <td>35108640</td>\n",
       "      <td>250</td>\n",
       "      <td>ZsRFUHVuEeaY3_l3FpLaKw</td>\n",
       "      <td>Curries</td>\n",
       "      <td>Chicken Pad Ped Curry</td>\n",
       "      <td>Red hot curry chicken. Classic chicken curry c...</td>\n",
       "      <td>{'amount': 1125, 'currency': 'USD'}</td>\n",
       "      <td>None</td>\n",
       "      <td>None</td>\n",
       "      <td>['standard', 'group']</td>\n",
       "      <td>[]</td>\n",
       "      <td>False</td>\n",
       "      <td>True</td>\n",
       "      <td>False</td>\n",
       "    </tr>\n",
       "  </tbody>\n",
       "</table>\n",
       "</div>"
      ],
      "text/plain": [
       "    row_num  index                    uuid        id  restaurant_id  \\\n",
       "26        1     36  uJZOIIVDEeaMJYsU8O4blQ   9920648            194   \n",
       "43        1     58  D0QTkaSsEei_ocGyUvbWeA  35108640            250   \n",
       "\n",
       "             merchant_uuid menu_category_name                   name  \\\n",
       "26  8lG6sIBqEeaf1avwO2f_3w       Main Entrees           Palak Paneer   \n",
       "43  ZsRFUHVuEeaY3_l3FpLaKw            Curries  Chicken Pad Ped Curry   \n",
       "\n",
       "                                          description  \\\n",
       "26  Fresh organic spinach and pan-seared vegan che...   \n",
       "43  Red hot curry chicken. Classic chicken curry c...   \n",
       "\n",
       "                                  price  \\\n",
       "26  {'amount': 1200, 'currency': 'USD'}   \n",
       "43  {'amount': 1125, 'currency': 'USD'}   \n",
       "\n",
       "                                          media_image dishes  \\\n",
       "26  {'base_url': 'https://media-cdn.grubhub.com/im...   None   \n",
       "43                                               None   None   \n",
       "\n",
       "    allowable_order_types menu_item_features  item_coupon  popular  deleted  \n",
       "26           ['standard']                 []        False     True    False  \n",
       "43  ['standard', 'group']                 []        False     True    False  "
      ]
     },
     "execution_count": 18,
     "metadata": {},
     "output_type": "execute_result"
    }
   ],
   "source": [
    "df_menu[df_menu['dishes'].isna() == True].head(2)"
   ]
  },
  {
   "cell_type": "markdown",
   "metadata": {},
   "source": [
    "<a class=\"anchor\" id=\"EDA\"></a>"
   ]
  },
  {
   "cell_type": "markdown",
   "metadata": {},
   "source": [
    "## Data Exploration"
   ]
  },
  {
   "cell_type": "markdown",
   "metadata": {},
   "source": [
    "[Table of Contents](#toc)"
   ]
  },
  {
   "cell_type": "code",
   "execution_count": 19,
   "metadata": {},
   "outputs": [
    {
     "data": {
      "text/html": [
       "<div>\n",
       "<style scoped>\n",
       "    .dataframe tbody tr th:only-of-type {\n",
       "        vertical-align: middle;\n",
       "    }\n",
       "\n",
       "    .dataframe tbody tr th {\n",
       "        vertical-align: top;\n",
       "    }\n",
       "\n",
       "    .dataframe thead th {\n",
       "        text-align: right;\n",
       "    }\n",
       "</style>\n",
       "<table border=\"1\" class=\"dataframe\">\n",
       "  <thead>\n",
       "    <tr style=\"text-align: right;\">\n",
       "      <th></th>\n",
       "      <th>price_rating</th>\n",
       "      <th>name</th>\n",
       "    </tr>\n",
       "  </thead>\n",
       "  <tbody>\n",
       "    <tr>\n",
       "      <td>39</td>\n",
       "      <td>1.0</td>\n",
       "      <td>Armand's Restaurant &amp; Lounge</td>\n",
       "    </tr>\n",
       "    <tr>\n",
       "      <td>44</td>\n",
       "      <td>1.0</td>\n",
       "      <td>Stadium Sports Club &amp; Pizza</td>\n",
       "    </tr>\n",
       "    <tr>\n",
       "      <td>47</td>\n",
       "      <td>1.0</td>\n",
       "      <td>Edwardo's Natural Pizza</td>\n",
       "    </tr>\n",
       "    <tr>\n",
       "      <td>50</td>\n",
       "      <td>1.0</td>\n",
       "      <td>New York Pizza</td>\n",
       "    </tr>\n",
       "    <tr>\n",
       "      <td>57</td>\n",
       "      <td>1.0</td>\n",
       "      <td>Columbus Gourmet Food</td>\n",
       "    </tr>\n",
       "  </tbody>\n",
       "</table>\n",
       "</div>"
      ],
      "text/plain": [
       "    price_rating                          name\n",
       "39           1.0  Armand's Restaurant & Lounge\n",
       "44           1.0   Stadium Sports Club & Pizza\n",
       "47           1.0       Edwardo's Natural Pizza\n",
       "50           1.0                New York Pizza\n",
       "57           1.0         Columbus Gourmet Food"
      ]
     },
     "execution_count": 19,
     "metadata": {},
     "output_type": "execute_result"
    }
   ],
   "source": [
    "imp_rest[['price_rating','name']][imp_rest['price_rating'] == 1].head()"
   ]
  },
  {
   "cell_type": "markdown",
   "metadata": {},
   "source": [
    "Looking at price rating distribution"
   ]
  },
  {
   "cell_type": "code",
   "execution_count": 20,
   "metadata": {},
   "outputs": [
    {
     "data": {
      "text/plain": [
       "2.0    15872\n",
       "3.0     8955\n",
       "0.0     5067\n",
       "1.0     3779\n",
       "4.0      354\n",
       "Name: price_rating, dtype: int64"
      ]
     },
     "execution_count": 20,
     "metadata": {},
     "output_type": "execute_result"
    }
   ],
   "source": [
    "imp_rest['price_rating'].value_counts()"
   ]
  },
  {
   "cell_type": "markdown",
   "metadata": {},
   "source": [
    "Analyzing cuisines"
   ]
  },
  {
   "cell_type": "code",
   "execution_count": 21,
   "metadata": {
    "scrolled": true
   },
   "outputs": [
    {
     "name": "stderr",
     "output_type": "stream",
     "text": [
      "/home/ubuntu/anaconda3/lib/python3.7/site-packages/ipykernel_launcher.py:1: SettingWithCopyWarning: \n",
      "A value is trying to be set on a copy of a slice from a DataFrame.\n",
      "Try using .loc[row_indexer,col_indexer] = value instead\n",
      "\n",
      "See the caveats in the documentation: http://pandas.pydata.org/pandas-docs/stable/user_guide/indexing.html#returning-a-view-versus-a-copy\n",
      "  \"\"\"Entry point for launching an IPython kernel.\n"
     ]
    }
   ],
   "source": [
    "imp_rest['cuisines'] = imp_rest['cuisines'].str.replace('[','').str.replace(']','')"
   ]
  },
  {
   "cell_type": "code",
   "execution_count": 22,
   "metadata": {},
   "outputs": [
    {
     "name": "stdout",
     "output_type": "stream",
     "text": [
      "number of unique cuisines is 163\n"
     ]
    }
   ],
   "source": [
    "# foods = []\n",
    "cuisines = defaultdict(int)\n",
    "\n",
    "for rows in imp_rest['cuisines']:\n",
    "    for food in rows.split(\",\"):\n",
    "        food_c = re.sub(r'[^\\w]', ' ', food)\n",
    "        food_c = food_c.strip()\n",
    "        cuisines[food_c] += 1\n",
    "\n",
    "print(f'number of unique cuisines is {len(cuisines)}')"
   ]
  },
  {
   "cell_type": "markdown",
   "metadata": {},
   "source": [
    "There are a lot of cuisines, and a lot of lunch specials which seem pretty generic. "
   ]
  },
  {
   "cell_type": "code",
   "execution_count": 23,
   "metadata": {},
   "outputs": [
    {
     "data": {
      "text/plain": [
       "OrderedDict([('Lunch Specials', 15350),\n",
       "             ('Sandwiches', 9596),\n",
       "             ('Asian', 7268),\n",
       "             ('Salads', 6839),\n",
       "             ('Breakfast', 5949),\n",
       "             ('Pizza', 5247),\n",
       "             ('American', 4491),\n",
       "             ('Seafood', 3743),\n",
       "             ('Hamburgers', 3624),\n",
       "             ('Mexican', 3201),\n",
       "             ('Pasta', 3087),\n",
       "             ('Healthy', 3027),\n",
       "             ('Chinese', 2998),\n",
       "             ('Vegetarian', 2750),\n",
       "             ('Chicken', 2662),\n",
       "             ('Dessert', 2643),\n",
       "             ('Soup', 2481),\n",
       "             ('Italian', 2305),\n",
       "             ('Sushi', 2205),\n",
       "             ('Japanese', 2198),\n",
       "             ('Noodles', 2027),\n",
       "             ('Wraps', 1910),\n",
       "             ('Thai', 1861),\n",
       "             ('Coffee and Tea', 1844),\n",
       "             ('Wings', 1667),\n",
       "             ('Smoothies and Juices', 1664),\n",
       "             ('Indian', 1610),\n",
       "             ('Latin American', 1610),\n",
       "             ('Mediterranean', 1587),\n",
       "             ('Deli', 1073),\n",
       "             ('Bakery', 1003),\n",
       "             ('Middle Eastern', 948),\n",
       "             ('Vegan', 917),\n",
       "             ('Subs', 898),\n",
       "             ('Tacos', 871),\n",
       "             ('Grill', 695),\n",
       "             ('BBQ', 686),\n",
       "             ('Vietnamese', 683),\n",
       "             ('Calzones', 647),\n",
       "             ('Gluten Free', 545),\n",
       "             ('Kids Menu', 540),\n",
       "             ('Burritos', 532),\n",
       "             ('Ice Cream', 528),\n",
       "             ('Halal', 511),\n",
       "             ('Steak', 508),\n",
       "             ('Greek', 488),\n",
       "             ('Korean', 473),\n",
       "             ('Bagels', 457),\n",
       "             ('Gyro', 453),\n",
       "             ('Bowls', 413),\n",
       "             ('Hot Dogs', 399),\n",
       "             ('Diner', 365),\n",
       "             ('Cheesesteaks', 360),\n",
       "             ('Ramen', 344),\n",
       "             ('Caribbean', 326),\n",
       "             ('Pub Food', 317),\n",
       "             ('Shakes', 296),\n",
       "             ('Hawaiian', 288),\n",
       "             ('Snacks', 279),\n",
       "             ('Cafe', 274),\n",
       "             ('Southern', 250),\n",
       "             ('Bubble Tea', 247),\n",
       "             ('New American', 245),\n",
       "             ('Pitas', 242),\n",
       "             ('Cantonese', 228),\n",
       "             ('Curry', 228),\n",
       "             ('Tex Mex', 209),\n",
       "             ('Spanish', 209),\n",
       "             ('Organic', 206),\n",
       "             ('Poke', 204),\n",
       "             ('Peruvian', 201),\n",
       "             ('Cuban', 200),\n",
       "             ('Asian Fusion', 200),\n",
       "             ('Hoagies', 192),\n",
       "             ('Soul Food', 192),\n",
       "             ('French', 192),\n",
       "             ('Crepes', 176),\n",
       "             ('Jamaican', 168),\n",
       "             ('Empanadas', 167),\n",
       "             ('Pakistani', 166),\n",
       "             ('Bar Food', 163),\n",
       "             ('Turkish', 159),\n",
       "             ('Szechwan', 157),\n",
       "             ('Dim Sum', 157),\n",
       "             ('Grocery Items', 157),\n",
       "             ('Cajun', 155),\n",
       "             ('Ribs', 154),\n",
       "             ('Eclectic', 153),\n",
       "             ('Tapas', 144),\n",
       "             ('Kosher', 143),\n",
       "             ('Pho', 140),\n",
       "             ('African', 130),\n",
       "             ('Colombian', 127),\n",
       "             ('Lebanese', 123),\n",
       "             ('Frozen Yogurt', 121),\n",
       "             ('Cakes', 105),\n",
       "             ('Ethiopian', 105),\n",
       "             ('Dominican', 103),\n",
       "             ('Brazilian', 102),\n",
       "             ('Alcohol', 99),\n",
       "             ('Fine Dining', 97),\n",
       "             ('Persian', 96),\n",
       "             ('Donuts', 89),\n",
       "             ('Falafel', 84),\n",
       "             ('Fresh Fruits', 81),\n",
       "             ('El Salvadoran', 79),\n",
       "             ('Food Truck', 79),\n",
       "             ('Low Carb', 72),\n",
       "             ('Irish', 72),\n",
       "             ('Nepalese', 71),\n",
       "             ('Filipino', 71),\n",
       "             ('Mandarin', 69),\n",
       "             ('Venezuelan', 69),\n",
       "             ('Waffles', 69),\n",
       "             ('South American', 68),\n",
       "             ('Low Fat', 64),\n",
       "             ('Russian', 63),\n",
       "             ('Taiwanese', 60),\n",
       "             ('Kosher Style', 59),\n",
       "             ('Californian', 59),\n",
       "             ('Argentinian', 53),\n",
       "             ('Puerto Rican', 52),\n",
       "             ('Classic', 51),\n",
       "             ('Potato', 47),\n",
       "             ('German', 43),\n",
       "             ('Afghan', 41),\n",
       "             ('Malaysian', 40),\n",
       "             ('Southwestern', 33),\n",
       "             ('Polish', 29),\n",
       "             ('Burmese', 29),\n",
       "             ('Moroccan', 28),\n",
       "             ('Candy', 27),\n",
       "             ('Indonesian', 25),\n",
       "             ('Haitian', 23),\n",
       "             ('Chili', 22),\n",
       "             ('Creole', 22),\n",
       "             ('', 21),\n",
       "             ('Indian Chinese', 20),\n",
       "             ('Portuguese', 19),\n",
       "             ('Meatballs', 18),\n",
       "             ('Cambodian', 15),\n",
       "             ('Pretzels', 15),\n",
       "             ('Popcorn', 15),\n",
       "             ('Egyptian', 14),\n",
       "             ('Ecuadorian', 13),\n",
       "             ('South Indian', 12),\n",
       "             ('British', 11),\n",
       "             ('Mongolian', 10),\n",
       "             ('Ukrainian', 9),\n",
       "             ('Australian', 8),\n",
       "             ('Tibetan', 8),\n",
       "             ('Israeli', 8),\n",
       "             ('English', 7),\n",
       "             ('Senegalese', 7),\n",
       "             ('Belgian', 7),\n",
       "             ('Guatemalan', 7),\n",
       "             ('Scandinavian', 6),\n",
       "             ('Austrian', 5),\n",
       "             ('Meal Kit', 4),\n",
       "             ('Albanian', 3),\n",
       "             ('Yemeni', 2),\n",
       "             ('South African', 2),\n",
       "             ('Costa Rican', 1)])"
      ]
     },
     "execution_count": 23,
     "metadata": {},
     "output_type": "execute_result"
    }
   ],
   "source": [
    "sorted_x = sorted(cuisines.items(), key=lambda kv: kv[1], reverse=True)\n",
    "\n",
    "collections.OrderedDict(sorted_x)"
   ]
  },
  {
   "cell_type": "code",
   "execution_count": 24,
   "metadata": {
    "scrolled": true
   },
   "outputs": [
    {
     "data": {
      "image/png": "[encoded data removed]",
      "text/plain": [
       "<Figure size 432x288 with 1 Axes>"
      ]
     },
     "metadata": {
      "needs_background": "light"
     },
     "output_type": "display_data"
    }
   ],
   "source": [
    "# long tail popularity\n",
    "plt.hist(df_rest['rating_count']);"
   ]
  },
  {
   "cell_type": "code",
   "execution_count": 25,
   "metadata": {
    "scrolled": true
   },
   "outputs": [
    {
     "data": {
      "image/png": "[encoded data removed]",
      "text/plain": [
       "<Figure size 432x288 with 1 Axes>"
      ]
     },
     "metadata": {
      "needs_background": "light"
     },
     "output_type": "display_data"
    }
   ],
   "source": [
    "# there seems to be a bunch with zero valuesm and others distributed around 3.2 and 4.8\n",
    "round(imp_rest['rating_value'],1).value_counts()[::1]\n",
    "\n",
    "rating_dist = round(imp_rest['rating_value'],1).value_counts().reset_index()\n",
    "plt.scatter(rating_dist['index'],rating_dist['rating_value']);"
   ]
  },
  {
   "cell_type": "code",
   "execution_count": 26,
   "metadata": {},
   "outputs": [
    {
     "data": {
      "image/png": "[encoded data removed]",
      "text/plain": [
       "<Figure size 1440x432 with 1 Axes>"
      ]
     },
     "metadata": {
      "needs_background": "light"
     },
     "output_type": "display_data"
    }
   ],
   "source": [
    "f, ax = plt.subplots(figsize=(20,6))\n",
    "plot_city = imp_rest['city'].value_counts().reset_index()[:10]\n",
    "plot_city.columns = ['city','count']\n",
    "\n",
    "sns.barplot(plot_city['city'],plot_city['count']);"
   ]
  },
  {
   "cell_type": "markdown",
   "metadata": {},
   "source": [
    "<a class=\"anchor\" id=\"text_process\"></a>"
   ]
  },
  {
   "cell_type": "markdown",
   "metadata": {},
   "source": [
    "## Text Processing"
   ]
  },
  {
   "cell_type": "markdown",
   "metadata": {},
   "source": [
    "[Table of Contents](#toc)"
   ]
  },
  {
   "cell_type": "markdown",
   "metadata": {},
   "source": [
    "<a class=\"anchor\" id=\"compound\"></a>"
   ]
  },
  {
   "cell_type": "markdown",
   "metadata": {},
   "source": [
    "### Transform dishes to Compound words"
   ]
  },
  {
   "cell_type": "markdown",
   "metadata": {},
   "source": [
    "#### make compound words of hashtage ('dishes)'"
   ]
  },
  {
   "cell_type": "code",
   "execution_count": 27,
   "metadata": {},
   "outputs": [
    {
     "data": {
      "text/html": [
       "<div>\n",
       "<style scoped>\n",
       "    .dataframe tbody tr th:only-of-type {\n",
       "        vertical-align: middle;\n",
       "    }\n",
       "\n",
       "    .dataframe tbody tr th {\n",
       "        vertical-align: top;\n",
       "    }\n",
       "\n",
       "    .dataframe thead th {\n",
       "        text-align: right;\n",
       "    }\n",
       "</style>\n",
       "<table border=\"1\" class=\"dataframe\">\n",
       "  <thead>\n",
       "    <tr style=\"text-align: right;\">\n",
       "      <th></th>\n",
       "      <th>0</th>\n",
       "      <th>1</th>\n",
       "      <th>2</th>\n",
       "      <th>3</th>\n",
       "      <th>4</th>\n",
       "      <th>5</th>\n",
       "      <th>6</th>\n",
       "      <th>7</th>\n",
       "      <th>8</th>\n",
       "      <th>9</th>\n",
       "    </tr>\n",
       "  </thead>\n",
       "  <tbody>\n",
       "    <tr>\n",
       "      <td>0</td>\n",
       "      <td>'beef sandwiches'</td>\n",
       "      <td>'sandwiches'</td>\n",
       "      <td>None</td>\n",
       "      <td>None</td>\n",
       "      <td>None</td>\n",
       "      <td>None</td>\n",
       "      <td>None</td>\n",
       "      <td>None</td>\n",
       "      <td>None</td>\n",
       "      <td>None</td>\n",
       "    </tr>\n",
       "    <tr>\n",
       "      <td>1</td>\n",
       "      <td>'beef sandwiches'</td>\n",
       "      <td>'sandwiches'</td>\n",
       "      <td>None</td>\n",
       "      <td>None</td>\n",
       "      <td>None</td>\n",
       "      <td>None</td>\n",
       "      <td>None</td>\n",
       "      <td>None</td>\n",
       "      <td>None</td>\n",
       "      <td>None</td>\n",
       "    </tr>\n",
       "  </tbody>\n",
       "</table>\n",
       "</div>"
      ],
      "text/plain": [
       "                   0              1     2     3     4     5     6     7     8  \\\n",
       "0  'beef sandwiches'   'sandwiches'  None  None  None  None  None  None  None   \n",
       "1  'beef sandwiches'   'sandwiches'  None  None  None  None  None  None  None   \n",
       "\n",
       "      9  \n",
       "0  None  \n",
       "1  None  "
      ]
     },
     "execution_count": 27,
     "metadata": {},
     "output_type": "execute_result"
    }
   ],
   "source": [
    "# expanding to compound the words\n",
    "df_menu['dishes'] = df_menu['dishes'].str.replace(\"[\",\"\").str.replace(\"]\",\"\")\n",
    "dish_expand = df_menu['dishes'].str.split(\",\", expand=True)\n",
    "dish_expand.head(2)"
   ]
  },
  {
   "cell_type": "code",
   "execution_count": 28,
   "metadata": {},
   "outputs": [],
   "source": [
    "# compounding the words\n",
    "for i in dish_expand.columns:\n",
    "    dish_expand[i] = dish_expand[i].str.split(\" \").str.join(\"_\")\n",
    "    dish_expand[i] = [str(x).replace(\"_\\'\",\"\").replace(\"\\'\",\"\") if x is not None else None for x in dish_expand[i]]"
   ]
  },
  {
   "cell_type": "code",
   "execution_count": 29,
   "metadata": {
    "scrolled": true
   },
   "outputs": [
    {
     "data": {
      "text/html": [
       "<div>\n",
       "<style scoped>\n",
       "    .dataframe tbody tr th:only-of-type {\n",
       "        vertical-align: middle;\n",
       "    }\n",
       "\n",
       "    .dataframe tbody tr th {\n",
       "        vertical-align: top;\n",
       "    }\n",
       "\n",
       "    .dataframe thead th {\n",
       "        text-align: right;\n",
       "    }\n",
       "</style>\n",
       "<table border=\"1\" class=\"dataframe\">\n",
       "  <thead>\n",
       "    <tr style=\"text-align: right;\">\n",
       "      <th></th>\n",
       "      <th>dish_compound</th>\n",
       "    </tr>\n",
       "  </thead>\n",
       "  <tbody>\n",
       "    <tr>\n",
       "      <td>0</td>\n",
       "      <td>beef_sandwiches sandwiches</td>\n",
       "    </tr>\n",
       "    <tr>\n",
       "      <td>1</td>\n",
       "      <td>beef_sandwiches sandwiches</td>\n",
       "    </tr>\n",
       "  </tbody>\n",
       "</table>\n",
       "</div>"
      ],
      "text/plain": [
       "                        dish_compound\n",
       "0  beef_sandwiches sandwiches        \n",
       "1  beef_sandwiches sandwiches        "
      ]
     },
     "execution_count": 29,
     "metadata": {},
     "output_type": "execute_result"
    }
   ],
   "source": [
    "# collapsing to one column\n",
    "dish_clean = dish_expand[0].fillna('') + ' ' + dish_expand[1].fillna('') + ' ' + dish_expand[2].fillna('') + ' ' +\\\n",
    "            dish_expand[3].fillna('') + ' '  + dish_expand[4].fillna('') + ' ' + dish_expand[5].fillna('') + ' ' + \\\n",
    "            dish_expand[6].fillna('') + ' ' + dish_expand[7].fillna('') + ' ' + dish_expand[8].fillna('') + ' ' + \\\n",
    "            dish_expand[9].fillna('')\n",
    "\n",
    "dish_clean = pd.DataFrame(dish_clean)\n",
    "dish_clean.columns = ['dish_compound']\n",
    "\n",
    "# clean up the nulls\n",
    "dish_clean['dish_compound'].apply(lambda x: len(x.strip()))\n",
    "\n",
    "dish_clean.head(2)"
   ]
  },
  {
   "cell_type": "code",
   "execution_count": 30,
   "metadata": {},
   "outputs": [],
   "source": [
    "df_menu = pd.concat([df_menu,dish_clean],axis=1)"
   ]
  },
  {
   "cell_type": "markdown",
   "metadata": {},
   "source": [
    "#### remove numbers, capital letters and punctuation"
   ]
  },
  {
   "cell_type": "code",
   "execution_count": 31,
   "metadata": {},
   "outputs": [],
   "source": [
    "alphanumeric = lambda x: re.sub('\\w*\\d\\w*', ' ', str(x))\n",
    "punc_lower = lambda x: re.sub('[%s]' % re.escape(string.punctuation), ' ', str(x).lower())\n",
    "\n",
    "df_menu['description'] = df_menu.description.map(alphanumeric).map(punc_lower)\n",
    "df_menu['name'] = df_menu['name'].map(alphanumeric).map(punc_lower)\n",
    "df_menu['menu_category_name'] = df_menu['menu_category_name'].map(alphanumeric).map(punc_lower)"
   ]
  },
  {
   "cell_type": "markdown",
   "metadata": {},
   "source": [
    "#### combine menu_category_name, name, description and dishes into array of words"
   ]
  },
  {
   "cell_type": "code",
   "execution_count": 32,
   "metadata": {},
   "outputs": [],
   "source": [
    "word_analyze = df_menu['menu_category_name'].fillna('') + ' ' + df_menu['name'] + ' ' + \\\n",
    "                df_menu['description'].fillna('') + ' ' + df_menu['dish_compound'].fillna('')\n",
    "\n",
    "word_analyze = pd.DataFrame(word_analyze)\n",
    "word_analyze.columns = ['words_to_analyze']"
   ]
  },
  {
   "cell_type": "code",
   "execution_count": 33,
   "metadata": {},
   "outputs": [],
   "source": [
    "df_menu = pd.concat([df_menu,word_analyze],axis=1)"
   ]
  },
  {
   "cell_type": "markdown",
   "metadata": {},
   "source": [
    "<a class=\"anchor\" id=\"collapse\"></a>"
   ]
  },
  {
   "cell_type": "markdown",
   "metadata": {},
   "source": [
    "### Restaurant-level Processing\n",
    "\n",
    "#### Collapsing words in menu to analyze by restaurant\n",
    "\n",
    "Since we plan to have restaurant as a document, we want to collapse information in menu to feed to our menu. \n",
    "Important features are: \n",
    "* dishes (dish compound field) combined\n",
    "* most expensive item in the menu (as an indicator of price)\n",
    "* number of top items in the menu\n",
    "* getting count of unique dish hashtags\n",
    "* count of unique dish sets (e.g. chicken, chicken kebab hashtags for two dishes will count as 1 unique dish sets)\n",
    "* total words to analyze combined (but will not be used for now)"
   ]
  },
  {
   "cell_type": "code",
   "execution_count": 231,
   "metadata": {
    "scrolled": true
   },
   "outputs": [
    {
     "data": {
      "text/html": [
       "<div>\n",
       "<style scoped>\n",
       "    .dataframe tbody tr th:only-of-type {\n",
       "        vertical-align: middle;\n",
       "    }\n",
       "\n",
       "    .dataframe tbody tr th {\n",
       "        vertical-align: top;\n",
       "    }\n",
       "\n",
       "    .dataframe thead th {\n",
       "        text-align: right;\n",
       "    }\n",
       "</style>\n",
       "<table border=\"1\" class=\"dataframe\">\n",
       "  <thead>\n",
       "    <tr style=\"text-align: right;\">\n",
       "      <th></th>\n",
       "      <th>row_num</th>\n",
       "      <th>index</th>\n",
       "      <th>uuid</th>\n",
       "      <th>id</th>\n",
       "      <th>restaurant_id</th>\n",
       "      <th>merchant_uuid</th>\n",
       "      <th>menu_category_name</th>\n",
       "      <th>name</th>\n",
       "      <th>description</th>\n",
       "      <th>price</th>\n",
       "      <th>...</th>\n",
       "      <th>dishes</th>\n",
       "      <th>allowable_order_types</th>\n",
       "      <th>menu_item_features</th>\n",
       "      <th>item_coupon</th>\n",
       "      <th>popular</th>\n",
       "      <th>deleted</th>\n",
       "      <th>dish_compound</th>\n",
       "      <th>words_to_analyze</th>\n",
       "      <th>price_amt</th>\n",
       "      <th>currency</th>\n",
       "    </tr>\n",
       "  </thead>\n",
       "  <tbody>\n",
       "    <tr>\n",
       "      <td>0</td>\n",
       "      <td>1</td>\n",
       "      <td>33</td>\n",
       "      <td>eqNOslqCEeaRxfuKZf6fTA</td>\n",
       "      <td>15190959</td>\n",
       "      <td>188</td>\n",
       "      <td>eF0TsHiIEeaxeV0pJr4qQw</td>\n",
       "      <td>al s italian beef</td>\n",
       "      <td>regular beef sandwich</td>\n",
       "      <td>none</td>\n",
       "      <td>{'amount': 735, 'currency': 'USD'}</td>\n",
       "      <td>...</td>\n",
       "      <td>'beef sandwiches', 'sandwiches'</td>\n",
       "      <td>['group', 'standard']</td>\n",
       "      <td>[]</td>\n",
       "      <td>False</td>\n",
       "      <td>True</td>\n",
       "      <td>False</td>\n",
       "      <td>beef_sandwiches sandwiches</td>\n",
       "      <td>beef_sandwiches sandwiches</td>\n",
       "      <td>735</td>\n",
       "      <td>USD</td>\n",
       "    </tr>\n",
       "    <tr>\n",
       "      <td>1</td>\n",
       "      <td>1</td>\n",
       "      <td>34</td>\n",
       "      <td>eqzroFqCEea-wsHpmIQDtw</td>\n",
       "      <td>15190960</td>\n",
       "      <td>188</td>\n",
       "      <td>eF0TsHiIEeaxeV0pJr4qQw</td>\n",
       "      <td>al s italian beef</td>\n",
       "      <td>big beef sandwich</td>\n",
       "      <td>none</td>\n",
       "      <td>{'amount': 975, 'currency': 'USD'}</td>\n",
       "      <td>...</td>\n",
       "      <td>'beef sandwiches', 'sandwiches'</td>\n",
       "      <td>['group', 'standard']</td>\n",
       "      <td>[]</td>\n",
       "      <td>False</td>\n",
       "      <td>True</td>\n",
       "      <td>False</td>\n",
       "      <td>beef_sandwiches sandwiches</td>\n",
       "      <td>beef_sandwiches sandwiches</td>\n",
       "      <td>975</td>\n",
       "      <td>USD</td>\n",
       "    </tr>\n",
       "  </tbody>\n",
       "</table>\n",
       "<p>2 rows × 21 columns</p>\n",
       "</div>"
      ],
      "text/plain": [
       "   row_num  index                    uuid        id  restaurant_id  \\\n",
       "0        1     33  eqNOslqCEeaRxfuKZf6fTA  15190959            188   \n",
       "1        1     34  eqzroFqCEea-wsHpmIQDtw  15190960            188   \n",
       "\n",
       "            merchant_uuid menu_category_name                   name  \\\n",
       "0  eF0TsHiIEeaxeV0pJr4qQw  al s italian beef  regular beef sandwich   \n",
       "1  eF0TsHiIEeaxeV0pJr4qQw  al s italian beef      big beef sandwich   \n",
       "\n",
       "  description                               price  ...  \\\n",
       "0        none  {'amount': 735, 'currency': 'USD'}  ...   \n",
       "1        none  {'amount': 975, 'currency': 'USD'}  ...   \n",
       "\n",
       "                            dishes  allowable_order_types menu_item_features  \\\n",
       "0  'beef sandwiches', 'sandwiches'  ['group', 'standard']                 []   \n",
       "1  'beef sandwiches', 'sandwiches'  ['group', 'standard']                 []   \n",
       "\n",
       "  item_coupon  popular  deleted               dish_compound  \\\n",
       "0       False     True    False  beef_sandwiches sandwiches   \n",
       "1       False     True    False  beef_sandwiches sandwiches   \n",
       "\n",
       "             words_to_analyze price_amt  currency  \n",
       "0  beef_sandwiches sandwiches       735       USD  \n",
       "1  beef_sandwiches sandwiches       975       USD  \n",
       "\n",
       "[2 rows x 21 columns]"
      ]
     },
     "execution_count": 231,
     "metadata": {},
     "output_type": "execute_result"
    }
   ],
   "source": [
    "df_menu.head(2)"
   ]
  },
  {
   "cell_type": "markdown",
   "metadata": {},
   "source": [
    "<a class=\"anchor\" id=\"df_save\"></a>"
   ]
  },
  {
   "cell_type": "code",
   "execution_count": 34,
   "metadata": {},
   "outputs": [],
   "source": [
    "with open('df_menu.pickle', 'wb') as to_write:\n",
    "    pickle.dump(df_menu, to_write)\n",
    "    \n",
    "with open('df_rest.pickle', 'wb') as to_write:\n",
    "    pickle.dump(df_rest, to_write)"
   ]
  },
  {
   "cell_type": "code",
   "execution_count": 22,
   "metadata": {},
   "outputs": [],
   "source": [
    "with open('df_menu.pickle','rb') as read_file:\n",
    "    df_menu = pickle.load(read_file)\n",
    "    \n",
    "with open('df_rest.pickle','rb') as read_file:\n",
    "    df_rest = pickle.load(read_file)"
   ]
  },
  {
   "cell_type": "code",
   "execution_count": null,
   "metadata": {},
   "outputs": [],
   "source": [
    "# Getting a view of the first five restaurants"
   ]
  },
  {
   "cell_type": "code",
   "execution_count": 40,
   "metadata": {},
   "outputs": [
    {
     "data": {
      "text/html": [
       "<div>\n",
       "<style scoped>\n",
       "    .dataframe tbody tr th:only-of-type {\n",
       "        vertical-align: middle;\n",
       "    }\n",
       "\n",
       "    .dataframe tbody tr th {\n",
       "        vertical-align: top;\n",
       "    }\n",
       "\n",
       "    .dataframe thead th {\n",
       "        text-align: right;\n",
       "    }\n",
       "</style>\n",
       "<table border=\"1\" class=\"dataframe\">\n",
       "  <thead>\n",
       "    <tr style=\"text-align: right;\">\n",
       "      <th></th>\n",
       "      <th>name</th>\n",
       "      <th>cuisines</th>\n",
       "    </tr>\n",
       "  </thead>\n",
       "  <tbody>\n",
       "    <tr>\n",
       "      <th>0</th>\n",
       "      <td>Al's Italian Beef</td>\n",
       "      <td>['American', 'Hamburgers', 'Hot Dogs', 'Lunch Specials', 'Salads', 'Sandwiches']</td>\n",
       "    </tr>\n",
       "    <tr>\n",
       "      <th>1</th>\n",
       "      <td>Amarit Thai &amp; Sushi</td>\n",
       "      <td>['Asian', 'Lunch Specials', 'Sushi', 'Thai']</td>\n",
       "    </tr>\n",
       "    <tr>\n",
       "      <th>2</th>\n",
       "      <td>Andies</td>\n",
       "      <td>['Alcohol', 'Chicken', 'Greek', 'Gyro', 'Hamburgers', 'Healthy', 'Mediterranean', 'Middle Eastern', 'Sandwiches', 'Seafood', 'Vegan', 'Vegetarian']</td>\n",
       "    </tr>\n",
       "    <tr>\n",
       "      <th>3</th>\n",
       "      <td>Arya Bhavan</td>\n",
       "      <td>['Gluten-Free', 'Healthy', 'Indian', 'Lunch Specials', 'Middle Eastern', 'Organic', 'Vegan', 'Vegetarian']</td>\n",
       "    </tr>\n",
       "    <tr>\n",
       "      <th>4</th>\n",
       "      <td>Connie's Pizza (Archer Ave)</td>\n",
       "      <td>['American', 'Italian', 'Lunch Specials', 'Pasta', 'Pizza', 'Sandwiches']</td>\n",
       "    </tr>\n",
       "  </tbody>\n",
       "</table>\n",
       "</div>"
      ],
      "text/plain": [
       "                          name                                                                                                                                             cuisines\n",
       "0            Al's Italian Beef                                                                     ['American', 'Hamburgers', 'Hot Dogs', 'Lunch Specials', 'Salads', 'Sandwiches']\n",
       "1          Amarit Thai & Sushi                                                                                                         ['Asian', 'Lunch Specials', 'Sushi', 'Thai']\n",
       "2                       Andies  ['Alcohol', 'Chicken', 'Greek', 'Gyro', 'Hamburgers', 'Healthy', 'Mediterranean', 'Middle Eastern', 'Sandwiches', 'Seafood', 'Vegan', 'Vegetarian']\n",
       "3                  Arya Bhavan                                           ['Gluten-Free', 'Healthy', 'Indian', 'Lunch Specials', 'Middle Eastern', 'Organic', 'Vegan', 'Vegetarian']\n",
       "4  Connie's Pizza (Archer Ave)                                                                            ['American', 'Italian', 'Lunch Specials', 'Pasta', 'Pizza', 'Sandwiches']"
      ]
     },
     "execution_count": 40,
     "metadata": {},
     "output_type": "execute_result"
    }
   ],
   "source": [
    "pd.set_option('max_colwidth', 600)\n",
    "df_rest[['name', 'cuisines']][:5]\n"
   ]
  },
  {
   "cell_type": "markdown",
   "metadata": {},
   "source": [
    "[Table of Contents](#toc)"
   ]
  },
  {
   "cell_type": "markdown",
   "metadata": {},
   "source": [
    "#### Getting item price in menu (as indicator of price)"
   ]
  },
  {
   "cell_type": "code",
   "execution_count": 36,
   "metadata": {},
   "outputs": [],
   "source": [
    "df_menu['price'] = df_menu['price'].apply(lambda x: json.loads(str(x).replace(\"\\'\", \"\\\"\")) if x is not None else None)\n",
    "df_menu['media_image'] = df_menu['media_image'].apply(lambda x: json.loads(str(x).replace(\"\\'\", \"\\\"\")) if x is not None else None)"
   ]
  },
  {
   "cell_type": "code",
   "execution_count": 37,
   "metadata": {
    "scrolled": true
   },
   "outputs": [],
   "source": [
    "df_menu['price_amt'] = df_menu['price'].apply(lambda x: x['amount'])\n",
    "df_menu['currency'] = df_menu['price'].apply(lambda x: x['currency'])\n"
   ]
  },
  {
   "cell_type": "markdown",
   "metadata": {},
   "source": [
    "#### Collapsing information at restaurant level"
   ]
  },
  {
   "cell_type": "markdown",
   "metadata": {},
   "source": [
    "Collapsing dishes"
   ]
  },
  {
   "cell_type": "code",
   "execution_count": 38,
   "metadata": {},
   "outputs": [],
   "source": [
    "# cleaning the white space\n",
    "df_menu['dish_compound'] = df_menu['dish_compound'].apply(lambda x: x.strip())\n",
    "\n",
    "# collapsing dish\n",
    "dish_collapsed = pd.DataFrame(df_menu.groupby('restaurant_id')['dish_compound'].apply(' '.join)).reset_index()"
   ]
  },
  {
   "cell_type": "markdown",
   "metadata": {},
   "source": [
    "Collapsing all words"
   ]
  },
  {
   "cell_type": "code",
   "execution_count": 39,
   "metadata": {},
   "outputs": [],
   "source": [
    "# cleaning up white space\n",
    "df_menu['words_to_analyze'] = df_menu['dish_compound'].apply(lambda x: x.strip())\n",
    "\n",
    "all_words = pd.DataFrame(df_menu.groupby('restaurant_id')['words_to_analyze'].apply(' '.join)).reset_index()"
   ]
  },
  {
   "cell_type": "markdown",
   "metadata": {},
   "source": [
    "#### Grouping menu attributes\n",
    "Getting:\n",
    "* max price\n",
    "* count top items"
   ]
  },
  {
   "cell_type": "code",
   "execution_count": 40,
   "metadata": {},
   "outputs": [],
   "source": [
    "# aggregating restaurant level\n",
    "menu_collapsed = df_menu.groupby('restaurant_id').agg({'price_amt':'max', 'index':'count','dish_compound':'unique'}).\\\n",
    "            reset_index() "
   ]
  },
  {
   "cell_type": "markdown",
   "metadata": {},
   "source": [
    "#### Dish variability\n",
    "Getting:\n",
    "* unique dish count\n",
    "* hashtag count"
   ]
  },
  {
   "cell_type": "code",
   "execution_count": 41,
   "metadata": {
    "scrolled": true
   },
   "outputs": [
    {
     "data": {
      "text/html": [
       "<div>\n",
       "<style scoped>\n",
       "    .dataframe tbody tr th:only-of-type {\n",
       "        vertical-align: middle;\n",
       "    }\n",
       "\n",
       "    .dataframe tbody tr th {\n",
       "        vertical-align: top;\n",
       "    }\n",
       "\n",
       "    .dataframe thead th {\n",
       "        text-align: right;\n",
       "    }\n",
       "</style>\n",
       "<table border=\"1\" class=\"dataframe\">\n",
       "  <thead>\n",
       "    <tr style=\"text-align: right;\">\n",
       "      <th></th>\n",
       "      <th>restaurant_id</th>\n",
       "      <th>price_amt</th>\n",
       "      <th>index</th>\n",
       "      <th>dish_compound</th>\n",
       "      <th>unique_dishes</th>\n",
       "      <th>dish_hashtag_count</th>\n",
       "    </tr>\n",
       "  </thead>\n",
       "  <tbody>\n",
       "    <tr>\n",
       "      <td>0</td>\n",
       "      <td>188</td>\n",
       "      <td>975</td>\n",
       "      <td>5</td>\n",
       "      <td>[beef_sandwiches sandwiches, appetizers fries]</td>\n",
       "      <td>2</td>\n",
       "      <td>4</td>\n",
       "    </tr>\n",
       "    <tr>\n",
       "      <td>1</td>\n",
       "      <td>190</td>\n",
       "      <td>1150</td>\n",
       "      <td>10</td>\n",
       "      <td>[appetizers crab_rangoon crab_rangoon rangoon,...</td>\n",
       "      <td>10</td>\n",
       "      <td>25</td>\n",
       "    </tr>\n",
       "    <tr>\n",
       "      <td>2</td>\n",
       "      <td>191</td>\n",
       "      <td>1495</td>\n",
       "      <td>10</td>\n",
       "      <td>[classic_sandwiches sandwiches, hummus, appeti...</td>\n",
       "      <td>9</td>\n",
       "      <td>14</td>\n",
       "    </tr>\n",
       "    <tr>\n",
       "      <td>3</td>\n",
       "      <td>194</td>\n",
       "      <td>1200</td>\n",
       "      <td>4</td>\n",
       "      <td>[bread_varieties garlic_naan indian_breads naa...</td>\n",
       "      <td>4</td>\n",
       "      <td>10</td>\n",
       "    </tr>\n",
       "  </tbody>\n",
       "</table>\n",
       "</div>"
      ],
      "text/plain": [
       "   restaurant_id  price_amt  index  \\\n",
       "0            188        975      5   \n",
       "1            190       1150     10   \n",
       "2            191       1495     10   \n",
       "3            194       1200      4   \n",
       "\n",
       "                                       dish_compound  unique_dishes  \\\n",
       "0     [beef_sandwiches sandwiches, appetizers fries]              2   \n",
       "1  [appetizers crab_rangoon crab_rangoon rangoon,...             10   \n",
       "2  [classic_sandwiches sandwiches, hummus, appeti...              9   \n",
       "3  [bread_varieties garlic_naan indian_breads naa...              4   \n",
       "\n",
       "   dish_hashtag_count  \n",
       "0                   4  \n",
       "1                  25  \n",
       "2                  14  \n",
       "3                  10  "
      ]
     },
     "execution_count": 41,
     "metadata": {},
     "output_type": "execute_result"
    }
   ],
   "source": [
    "# getting count of unique dishes\n",
    "menu_collapsed['unique_dishes'] = menu_collapsed['dish_compound'].apply(lambda x: len(x))\n",
    "\n",
    "\n",
    "# long-winded way of getting unique hashtag dishes\n",
    "menu_collapsed['dish_hashtag_count'] = menu_collapsed['dish_compound'].apply(lambda x: len(set(re.sub(r'[^\\w]', ' ',str(x)).strip().replace(\" \",\",\").replace(\",,,\",\",\").\\\n",
    "                            replace(\",,\",\",\").split(\",\"))))\n",
    "\n",
    "menu_collapsed['dish_hashtag_count'] = menu_collapsed['dish_compound'].apply(lambda x: len(set(re.sub(r'[^\\w]', ' ',str(x)).strip().replace(\" \",\",\").replace(\",,,\",\",\").\\\n",
    "                            replace(\",,\",\",\").split(\",\"))))\n",
    "\n",
    "menu_collapsed.head(4)"
   ]
  },
  {
   "cell_type": "code",
   "execution_count": 42,
   "metadata": {},
   "outputs": [],
   "source": [
    "# making sure we can process this later with count vectorizer or TF-IDF\n",
    "menu_collapsed['dish_compound'] = menu_collapsed['dish_compound'].apply(lambda x: re.sub(r'[^\\w]', ' ',str(x)).strip().replace(\" \",\",\").replace(\",,,\",\",\").\\\n",
    "                            replace(\",,\",\",\").replace(\",\",\" \"))\n",
    "\n",
    "menu_collapsed.columns = ['restaurant_id','max_price','count_top_dishes','dish_compound','unique_dishes',\\\n",
    "                          'unique_hashtag_count']"
   ]
  },
  {
   "cell_type": "code",
   "execution_count": 43,
   "metadata": {},
   "outputs": [
    {
     "data": {
      "text/html": [
       "<div>\n",
       "<style scoped>\n",
       "    .dataframe tbody tr th:only-of-type {\n",
       "        vertical-align: middle;\n",
       "    }\n",
       "\n",
       "    .dataframe tbody tr th {\n",
       "        vertical-align: top;\n",
       "    }\n",
       "\n",
       "    .dataframe thead th {\n",
       "        text-align: right;\n",
       "    }\n",
       "</style>\n",
       "<table border=\"1\" class=\"dataframe\">\n",
       "  <thead>\n",
       "    <tr style=\"text-align: right;\">\n",
       "      <th></th>\n",
       "      <th>restaurant_id</th>\n",
       "      <th>max_price</th>\n",
       "      <th>count_top_dishes</th>\n",
       "      <th>dish_compound</th>\n",
       "      <th>unique_dishes</th>\n",
       "      <th>unique_hashtag_count</th>\n",
       "    </tr>\n",
       "  </thead>\n",
       "  <tbody>\n",
       "    <tr>\n",
       "      <td>0</td>\n",
       "      <td>188</td>\n",
       "      <td>975</td>\n",
       "      <td>5</td>\n",
       "      <td>beef_sandwiches sandwiches appetizers fries</td>\n",
       "      <td>2</td>\n",
       "      <td>4</td>\n",
       "    </tr>\n",
       "    <tr>\n",
       "      <td>1</td>\n",
       "      <td>190</td>\n",
       "      <td>1150</td>\n",
       "      <td>10</td>\n",
       "      <td>appetizers crab_rangoon crab_rangoon rangoon a...</td>\n",
       "      <td>10</td>\n",
       "      <td>25</td>\n",
       "    </tr>\n",
       "  </tbody>\n",
       "</table>\n",
       "</div>"
      ],
      "text/plain": [
       "   restaurant_id  max_price  count_top_dishes  \\\n",
       "0            188        975                 5   \n",
       "1            190       1150                10   \n",
       "\n",
       "                                       dish_compound  unique_dishes  \\\n",
       "0        beef_sandwiches sandwiches appetizers fries              2   \n",
       "1  appetizers crab_rangoon crab_rangoon rangoon a...             10   \n",
       "\n",
       "   unique_hashtag_count  \n",
       "0                     4  \n",
       "1                    25  "
      ]
     },
     "execution_count": 43,
     "metadata": {},
     "output_type": "execute_result"
    }
   ],
   "source": [
    "menu_collapsed.head(2)"
   ]
  },
  {
   "cell_type": "markdown",
   "metadata": {},
   "source": [
    "<a class=\"anchor\" id=\"merge\"></a>"
   ]
  },
  {
   "cell_type": "markdown",
   "metadata": {},
   "source": [
    "### Merging menu and restaurant DFs"
   ]
  },
  {
   "cell_type": "markdown",
   "metadata": {},
   "source": [
    "[Table of Contents](#toc)"
   ]
  },
  {
   "cell_type": "code",
   "execution_count": 44,
   "metadata": {},
   "outputs": [],
   "source": [
    "joined_df = df_rest[['cuisines','price_rating','restaurant_id']].merge(menu_collapsed, on = 'restaurant_id',how='inner')"
   ]
  },
  {
   "cell_type": "code",
   "execution_count": 45,
   "metadata": {},
   "outputs": [
    {
     "data": {
      "text/html": [
       "<div>\n",
       "<style scoped>\n",
       "    .dataframe tbody tr th:only-of-type {\n",
       "        vertical-align: middle;\n",
       "    }\n",
       "\n",
       "    .dataframe tbody tr th {\n",
       "        vertical-align: top;\n",
       "    }\n",
       "\n",
       "    .dataframe thead th {\n",
       "        text-align: right;\n",
       "    }\n",
       "</style>\n",
       "<table border=\"1\" class=\"dataframe\">\n",
       "  <thead>\n",
       "    <tr style=\"text-align: right;\">\n",
       "      <th></th>\n",
       "      <th>cuisines</th>\n",
       "      <th>price_rating</th>\n",
       "      <th>restaurant_id</th>\n",
       "      <th>max_price</th>\n",
       "      <th>count_top_dishes</th>\n",
       "      <th>dish_compound</th>\n",
       "      <th>unique_dishes</th>\n",
       "      <th>unique_hashtag_count</th>\n",
       "    </tr>\n",
       "  </thead>\n",
       "  <tbody>\n",
       "    <tr>\n",
       "      <td>0</td>\n",
       "      <td>['American', 'Hamburgers', 'Hot Dogs', 'Lunch ...</td>\n",
       "      <td>2.0</td>\n",
       "      <td>188</td>\n",
       "      <td>975</td>\n",
       "      <td>5</td>\n",
       "      <td>beef_sandwiches sandwiches appetizers fries</td>\n",
       "      <td>2</td>\n",
       "      <td>4</td>\n",
       "    </tr>\n",
       "    <tr>\n",
       "      <td>1</td>\n",
       "      <td>['Asian', 'Lunch Specials', 'Sushi', 'Thai']</td>\n",
       "      <td>2.0</td>\n",
       "      <td>190</td>\n",
       "      <td>1150</td>\n",
       "      <td>10</td>\n",
       "      <td>appetizers crab_rangoon crab_rangoon rangoon a...</td>\n",
       "      <td>10</td>\n",
       "      <td>25</td>\n",
       "    </tr>\n",
       "    <tr>\n",
       "      <td>2</td>\n",
       "      <td>['Alcohol', 'Chicken', 'Greek', 'Gyro', 'Hambu...</td>\n",
       "      <td>3.0</td>\n",
       "      <td>191</td>\n",
       "      <td>1495</td>\n",
       "      <td>10</td>\n",
       "      <td>classic_sandwiches sandwiches hummus appetizer...</td>\n",
       "      <td>9</td>\n",
       "      <td>14</td>\n",
       "    </tr>\n",
       "  </tbody>\n",
       "</table>\n",
       "</div>"
      ],
      "text/plain": [
       "                                            cuisines  price_rating  \\\n",
       "0  ['American', 'Hamburgers', 'Hot Dogs', 'Lunch ...           2.0   \n",
       "1       ['Asian', 'Lunch Specials', 'Sushi', 'Thai']           2.0   \n",
       "2  ['Alcohol', 'Chicken', 'Greek', 'Gyro', 'Hambu...           3.0   \n",
       "\n",
       "   restaurant_id  max_price  count_top_dishes  \\\n",
       "0            188        975                 5   \n",
       "1            190       1150                10   \n",
       "2            191       1495                10   \n",
       "\n",
       "                                       dish_compound  unique_dishes  \\\n",
       "0        beef_sandwiches sandwiches appetizers fries              2   \n",
       "1  appetizers crab_rangoon crab_rangoon rangoon a...             10   \n",
       "2  classic_sandwiches sandwiches hummus appetizer...              9   \n",
       "\n",
       "   unique_hashtag_count  \n",
       "0                     4  \n",
       "1                    25  \n",
       "2                    14  "
      ]
     },
     "execution_count": 45,
     "metadata": {},
     "output_type": "execute_result"
    }
   ],
   "source": [
    "joined_df.head(3)"
   ]
  },
  {
   "cell_type": "code",
   "execution_count": 46,
   "metadata": {},
   "outputs": [
    {
     "name": "stdout",
     "output_type": "stream",
     "text": [
      "<class 'str'>\n"
     ]
    }
   ],
   "source": [
    "for i in joined_df['cuisines']:\n",
    "    print(type(i))\n",
    "    break\n",
    "#     type(joined_df['cuisines'])"
   ]
  },
  {
   "cell_type": "code",
   "execution_count": 47,
   "metadata": {},
   "outputs": [],
   "source": [
    "joined_df['cuisines'] = joined_df['cuisines'].map(lambda x: x.replace(\"'Lunch Specials', \",\"\").replace(\",'Lunch Specials'\",\"\"))"
   ]
  },
  {
   "cell_type": "markdown",
   "metadata": {},
   "source": [
    "We are now at 163 unique cuisines"
   ]
  },
  {
   "cell_type": "code",
   "execution_count": 48,
   "metadata": {
    "scrolled": true
   },
   "outputs": [
    {
     "name": "stdout",
     "output_type": "stream",
     "text": [
      "number of unique cuisines is 163\n"
     ]
    }
   ],
   "source": [
    "# foods = []\n",
    "cuisines = defaultdict(int)\n",
    "\n",
    "for rows in joined_df['cuisines']:\n",
    "    for food in rows.split(\",\"):\n",
    "        food_c = re.sub(r'[^\\w]', ' ', food)\n",
    "        food_c = food_c.strip()\n",
    "        cuisines[food_c] += 1\n",
    "\n",
    "print(f'number of unique cuisines is {len(cuisines)}')"
   ]
  },
  {
   "cell_type": "markdown",
   "metadata": {},
   "source": [
    "### Clean / tokenize some columns first"
   ]
  },
  {
   "cell_type": "markdown",
   "metadata": {},
   "source": [
    "<a class=\"anchor\" id=\"load_joined\"></a>"
   ]
  },
  {
   "cell_type": "code",
   "execution_count": 49,
   "metadata": {},
   "outputs": [],
   "source": [
    "with open('joined_df.pickle', 'wb') as to_write:\n",
    "    pickle.dump(joined_df, to_write)"
   ]
  },
  {
   "cell_type": "code",
   "execution_count": 3,
   "metadata": {},
   "outputs": [],
   "source": [
    "with open('joined_df.pickle','rb') as read_file:\n",
    "    joined_df = pickle.load(read_file)"
   ]
  },
  {
   "cell_type": "markdown",
   "metadata": {},
   "source": [
    "## Modelling"
   ]
  },
  {
   "cell_type": "markdown",
   "metadata": {},
   "source": [
    "[Table of Contents](#toc)"
   ]
  },
  {
   "cell_type": "markdown",
   "metadata": {},
   "source": [
    "The approach here is to combine some ordinal and numerical data with NLP when performing clustering. Because there are 163 unique cuisines for our dataset, and many unique types of dishes we will do dimension reduction on cuisines and dish_compound. Then we can combine the reduced dimensions to the ordinal and numerical data.\n",
    "\n",
    "Feature input: \n",
    "* Ordinal: price rating\n",
    "* Numerical: max_price, count_top_dishes, unique_dishes, unique_hashtag_count\n",
    "* Reduced to N dimensions: cuisines\n",
    "* Reduced to N dimensions: dish_compound"
   ]
  },
  {
   "cell_type": "markdown",
   "metadata": {},
   "source": [
    "<a class=\"anchor\" id=\"dim_reduce\"></a>"
   ]
  },
  {
   "cell_type": "markdown",
   "metadata": {},
   "source": [
    "## Dimension Reduction"
   ]
  },
  {
   "cell_type": "markdown",
   "metadata": {},
   "source": [
    "###  Defining some Functions"
   ]
  },
  {
   "cell_type": "code",
   "execution_count": 3,
   "metadata": {},
   "outputs": [],
   "source": [
    "def count_vect(dataframe):\n",
    "    \"\"\"\n",
    "    input: cleaned pd.series \n",
    "    output: vectorized word\n",
    "    \"\"\"\n",
    "    vectorizer = CountVectorizer()\n",
    "    doc_word = vectorizer.fit_transform(dataframe)\n",
    "    return doc_word"
   ]
  },
  {
   "cell_type": "code",
   "execution_count": 4,
   "metadata": {},
   "outputs": [],
   "source": [
    "def tfidf_process(dataframe):\n",
    "    \"\"\"\n",
    "    input: cleaned pd.series \n",
    "    output: TF-IDF word\n",
    "    \"\"\"\n",
    "    tfidf1 = TfidfVectorizer()\n",
    "    doc_word = tfidf1.fit_transform(dataframe)\n",
    "    return doc_word"
   ]
  },
  {
   "cell_type": "code",
   "execution_count": 5,
   "metadata": {},
   "outputs": [],
   "source": [
    "def display_topics(model, feature_names, no_top_words, topic_names=None):\n",
    "    for ix, topic in enumerate(model.components_):\n",
    "        if not topic_names or not topic_names[ix]:\n",
    "            print(\"\\nTopic \", ix)\n",
    "        else:\n",
    "            print(\"\\nTopic: '\",topic_names[ix],\"'\")\n",
    "        print(\", \".join([feature_names[i]\n",
    "                        for i in topic.argsort()[:-no_top_words - 1:-1]]))"
   ]
  },
  {
   "cell_type": "code",
   "execution_count": 6,
   "metadata": {},
   "outputs": [],
   "source": [
    "def reduce_dimension(doc_word, dim_red, n_topics, topic):\n",
    "    '''\n",
    "    input: \n",
    "    - series vectorized\n",
    "    - dimensions reduction technique: TruncatedSVD, NMF\n",
    "    - n_topics to reduce dimensions to\n",
    "    - topic: is it cuisines, or dishes or whatever!\n",
    "    return: reduced dimensions and values\n",
    "    '''\n",
    "    model = dim_red(n_topics)\n",
    "    \n",
    "    doc_topic = model.fit_transform(doc_word)\n",
    "\n",
    "    comp_set = []\n",
    "    for i in range(1,n_topics+1):\n",
    "        comp_set.append(topic + \"_dim_\" + str(i))\n",
    "        \n",
    "    Vt = pd.DataFrame(doc_topic.round(5),\n",
    "             columns = comp_set)\n",
    "    \n",
    "#     print(model.explained_variance_ratio_)\n",
    "    return Vt"
   ]
  },
  {
   "cell_type": "markdown",
   "metadata": {},
   "source": [
    "<a class=\"anchor\" id=\"lsa_cuisines\"></a>"
   ]
  },
  {
   "cell_type": "markdown",
   "metadata": {},
   "source": [
    "## Exploring LSA - Cuisines"
   ]
  },
  {
   "cell_type": "markdown",
   "metadata": {},
   "source": [
    "#### Compound and process words in cuisines"
   ]
  },
  {
   "cell_type": "code",
   "execution_count": 8,
   "metadata": {
    "scrolled": true
   },
   "outputs": [
    {
     "data": {
      "text/plain": [
       "0    ['American,Hamburgers,Hot_Dogs,Salads,Sandwich...\n",
       "1                                 ['Asian,Sushi,Thai']\n",
       "Name: cuisines, dtype: object"
      ]
     },
     "execution_count": 8,
     "metadata": {},
     "output_type": "execute_result"
    }
   ],
   "source": [
    "clean_cuisines = joined_df['cuisines'].str.replace(\"', '\",\",\").str.replace(\" \",\"_\")\n",
    "clean_cuisines.head(2)"
   ]
  },
  {
   "cell_type": "code",
   "execution_count": 9,
   "metadata": {
    "scrolled": true
   },
   "outputs": [
    {
     "data": {
      "text/plain": [
       "(28436, 164)"
      ]
     },
     "execution_count": 9,
     "metadata": {},
     "output_type": "execute_result"
    }
   ],
   "source": [
    "# run count vectorizer\n",
    "vectorizer = CountVectorizer()\n",
    "doc_word = vectorizer.fit_transform(clean_cuisines)\n",
    "doc_word.shape"
   ]
  },
  {
   "cell_type": "code",
   "execution_count": 10,
   "metadata": {},
   "outputs": [],
   "source": [
    "# vectorizer = TfidfVectorizer()\n",
    "# doc_word = vectorizer.fit_transform(clean_cuisines)"
   ]
  },
  {
   "cell_type": "markdown",
   "metadata": {},
   "source": [
    "[Table of Content](#toc)"
   ]
  },
  {
   "cell_type": "code",
   "execution_count": 11,
   "metadata": {
    "scrolled": true
   },
   "outputs": [
    {
     "data": {
      "text/html": [
       "<div>\n",
       "<style scoped>\n",
       "    .dataframe tbody tr th:only-of-type {\n",
       "        vertical-align: middle;\n",
       "    }\n",
       "\n",
       "    .dataframe tbody tr th {\n",
       "        vertical-align: top;\n",
       "    }\n",
       "\n",
       "    .dataframe thead th {\n",
       "        text-align: right;\n",
       "    }\n",
       "</style>\n",
       "<table border=\"1\" class=\"dataframe\">\n",
       "  <thead>\n",
       "    <tr style=\"text-align: right;\">\n",
       "      <th></th>\n",
       "      <th>afghan</th>\n",
       "      <th>african</th>\n",
       "      <th>albanian</th>\n",
       "      <th>alcohol</th>\n",
       "      <th>american</th>\n",
       "      <th>argentinian</th>\n",
       "      <th>asian</th>\n",
       "      <th>asian_fusion</th>\n",
       "      <th>australian</th>\n",
       "      <th>austrian</th>\n",
       "      <th>...</th>\n",
       "      <th>turkish</th>\n",
       "      <th>ukrainian</th>\n",
       "      <th>vegan</th>\n",
       "      <th>vegetarian</th>\n",
       "      <th>venezuelan</th>\n",
       "      <th>vietnamese</th>\n",
       "      <th>waffles</th>\n",
       "      <th>wings</th>\n",
       "      <th>wraps</th>\n",
       "      <th>yemeni</th>\n",
       "    </tr>\n",
       "    <tr>\n",
       "      <th>cuisines</th>\n",
       "      <th></th>\n",
       "      <th></th>\n",
       "      <th></th>\n",
       "      <th></th>\n",
       "      <th></th>\n",
       "      <th></th>\n",
       "      <th></th>\n",
       "      <th></th>\n",
       "      <th></th>\n",
       "      <th></th>\n",
       "      <th></th>\n",
       "      <th></th>\n",
       "      <th></th>\n",
       "      <th></th>\n",
       "      <th></th>\n",
       "      <th></th>\n",
       "      <th></th>\n",
       "      <th></th>\n",
       "      <th></th>\n",
       "      <th></th>\n",
       "      <th></th>\n",
       "    </tr>\n",
       "  </thead>\n",
       "  <tbody>\n",
       "    <tr>\n",
       "      <th>['American,Hamburgers,Hot_Dogs,Salads,Sandwiches']</th>\n",
       "      <td>0</td>\n",
       "      <td>0</td>\n",
       "      <td>0</td>\n",
       "      <td>0</td>\n",
       "      <td>1</td>\n",
       "      <td>0</td>\n",
       "      <td>0</td>\n",
       "      <td>0</td>\n",
       "      <td>0</td>\n",
       "      <td>0</td>\n",
       "      <td>...</td>\n",
       "      <td>0</td>\n",
       "      <td>0</td>\n",
       "      <td>0</td>\n",
       "      <td>0</td>\n",
       "      <td>0</td>\n",
       "      <td>0</td>\n",
       "      <td>0</td>\n",
       "      <td>0</td>\n",
       "      <td>0</td>\n",
       "      <td>0</td>\n",
       "    </tr>\n",
       "    <tr>\n",
       "      <th>['Asian,Sushi,Thai']</th>\n",
       "      <td>0</td>\n",
       "      <td>0</td>\n",
       "      <td>0</td>\n",
       "      <td>0</td>\n",
       "      <td>0</td>\n",
       "      <td>0</td>\n",
       "      <td>1</td>\n",
       "      <td>0</td>\n",
       "      <td>0</td>\n",
       "      <td>0</td>\n",
       "      <td>...</td>\n",
       "      <td>0</td>\n",
       "      <td>0</td>\n",
       "      <td>0</td>\n",
       "      <td>0</td>\n",
       "      <td>0</td>\n",
       "      <td>0</td>\n",
       "      <td>0</td>\n",
       "      <td>0</td>\n",
       "      <td>0</td>\n",
       "      <td>0</td>\n",
       "    </tr>\n",
       "  </tbody>\n",
       "</table>\n",
       "<p>2 rows × 164 columns</p>\n",
       "</div>"
      ],
      "text/plain": [
       "                                                    afghan  african  albanian  \\\n",
       "cuisines                                                                        \n",
       "['American,Hamburgers,Hot_Dogs,Salads,Sandwiches']       0        0         0   \n",
       "['Asian,Sushi,Thai']                                     0        0         0   \n",
       "\n",
       "                                                    alcohol  american  \\\n",
       "cuisines                                                                \n",
       "['American,Hamburgers,Hot_Dogs,Salads,Sandwiches']        0         1   \n",
       "['Asian,Sushi,Thai']                                      0         0   \n",
       "\n",
       "                                                    argentinian  asian  \\\n",
       "cuisines                                                                 \n",
       "['American,Hamburgers,Hot_Dogs,Salads,Sandwiches']            0      0   \n",
       "['Asian,Sushi,Thai']                                          0      1   \n",
       "\n",
       "                                                    asian_fusion  australian  \\\n",
       "cuisines                                                                       \n",
       "['American,Hamburgers,Hot_Dogs,Salads,Sandwiches']             0           0   \n",
       "['Asian,Sushi,Thai']                                           0           0   \n",
       "\n",
       "                                                    austrian  ...  turkish  \\\n",
       "cuisines                                                      ...            \n",
       "['American,Hamburgers,Hot_Dogs,Salads,Sandwiches']         0  ...        0   \n",
       "['Asian,Sushi,Thai']                                       0  ...        0   \n",
       "\n",
       "                                                    ukrainian  vegan  \\\n",
       "cuisines                                                               \n",
       "['American,Hamburgers,Hot_Dogs,Salads,Sandwiches']          0      0   \n",
       "['Asian,Sushi,Thai']                                        0      0   \n",
       "\n",
       "                                                    vegetarian  venezuelan  \\\n",
       "cuisines                                                                     \n",
       "['American,Hamburgers,Hot_Dogs,Salads,Sandwiches']           0           0   \n",
       "['Asian,Sushi,Thai']                                         0           0   \n",
       "\n",
       "                                                    vietnamese  waffles  \\\n",
       "cuisines                                                                  \n",
       "['American,Hamburgers,Hot_Dogs,Salads,Sandwiches']           0        0   \n",
       "['Asian,Sushi,Thai']                                         0        0   \n",
       "\n",
       "                                                    wings  wraps  yemeni  \n",
       "cuisines                                                                  \n",
       "['American,Hamburgers,Hot_Dogs,Salads,Sandwiches']      0      0       0  \n",
       "['Asian,Sushi,Thai']                                    0      0       0  \n",
       "\n",
       "[2 rows x 164 columns]"
      ]
     },
     "execution_count": 11,
     "metadata": {},
     "output_type": "execute_result"
    }
   ],
   "source": [
    "pd.DataFrame(doc_word.toarray(), index=clean_cuisines,columns=vectorizer.get_feature_names()).head(2)"
   ]
  },
  {
   "cell_type": "code",
   "execution_count": 12,
   "metadata": {},
   "outputs": [
    {
     "name": "stderr",
     "output_type": "stream",
     "text": [
      "[nltk_data] Downloading package punkt to /home/ubuntu/nltk_data...\n",
      "[nltk_data]   Package punkt is already up-to-date!\n"
     ]
    }
   ],
   "source": [
    "import nltk\n",
    "nltk.download('punkt')\n",
    "from nltk.tokenize import word_tokenize"
   ]
  },
  {
   "cell_type": "markdown",
   "metadata": {},
   "source": [
    "Deciding how many number of components to take for cuisines using LSA"
   ]
  },
  {
   "cell_type": "code",
   "execution_count": 13,
   "metadata": {},
   "outputs": [],
   "source": [
    "num_components = 100\n",
    "lsa = TruncatedSVD(num_components)\n",
    "doc_topic = lsa.fit_transform(doc_word)\n",
    "\n",
    "lsa_score = defaultdict(int)\n",
    "\n",
    "# lsa_score = defaultdic(int)\n",
    "lsa_score[0] = lsa.explained_variance_ratio_[0]\n",
    "\n",
    "for i in range(1,num_components):\n",
    "    lsa_score[i] = lsa.explained_variance_ratio_[i] + lsa_score[i-1]"
   ]
  },
  {
   "cell_type": "code",
   "execution_count": 14,
   "metadata": {},
   "outputs": [
    {
     "data": {
      "text/plain": [
       "[<matplotlib.lines.Line2D at 0x7f62ce03c850>]"
      ]
     },
     "execution_count": 14,
     "metadata": {},
     "output_type": "execute_result"
    },
    {
     "data": {
      "image/png": "[encoded data removed]",
      "text/plain": [
       "<Figure size 432x288 with 1 Axes>"
      ]
     },
     "metadata": {
      "needs_background": "light"
     },
     "output_type": "display_data"
    }
   ],
   "source": [
    "plt.plot(list(lsa_score.values()))"
   ]
  },
  {
   "cell_type": "code",
   "execution_count": 15,
   "metadata": {
    "scrolled": true
   },
   "outputs": [
    {
     "data": {
      "text/plain": [
       "0.7325433142669427"
      ]
     },
     "execution_count": 15,
     "metadata": {},
     "output_type": "execute_result"
    }
   ],
   "source": [
    "# if we stop at 23 dimensions, we can explain 73% of the variance\n",
    "lsa_score[23]"
   ]
  },
  {
   "cell_type": "code",
   "execution_count": 16,
   "metadata": {
    "scrolled": true
   },
   "outputs": [
    {
     "data": {
      "text/html": [
       "<div>\n",
       "<style scoped>\n",
       "    .dataframe tbody tr th:only-of-type {\n",
       "        vertical-align: middle;\n",
       "    }\n",
       "\n",
       "    .dataframe tbody tr th {\n",
       "        vertical-align: top;\n",
       "    }\n",
       "\n",
       "    .dataframe thead th {\n",
       "        text-align: right;\n",
       "    }\n",
       "</style>\n",
       "<table border=\"1\" class=\"dataframe\">\n",
       "  <thead>\n",
       "    <tr style=\"text-align: right;\">\n",
       "      <th></th>\n",
       "      <th>afghan</th>\n",
       "      <th>african</th>\n",
       "      <th>albanian</th>\n",
       "      <th>alcohol</th>\n",
       "      <th>american</th>\n",
       "      <th>argentinian</th>\n",
       "      <th>asian</th>\n",
       "      <th>asian_fusion</th>\n",
       "      <th>australian</th>\n",
       "      <th>austrian</th>\n",
       "      <th>...</th>\n",
       "      <th>turkish</th>\n",
       "      <th>ukrainian</th>\n",
       "      <th>vegan</th>\n",
       "      <th>vegetarian</th>\n",
       "      <th>venezuelan</th>\n",
       "      <th>vietnamese</th>\n",
       "      <th>waffles</th>\n",
       "      <th>wings</th>\n",
       "      <th>wraps</th>\n",
       "      <th>yemeni</th>\n",
       "    </tr>\n",
       "  </thead>\n",
       "  <tbody>\n",
       "    <tr>\n",
       "      <th>component_1</th>\n",
       "      <td>0.000</td>\n",
       "      <td>0.001</td>\n",
       "      <td>0.000</td>\n",
       "      <td>0.005</td>\n",
       "      <td>0.245</td>\n",
       "      <td>0.001</td>\n",
       "      <td>0.120</td>\n",
       "      <td>0.003</td>\n",
       "      <td>0.000</td>\n",
       "      <td>0.000</td>\n",
       "      <td>...</td>\n",
       "      <td>0.004</td>\n",
       "      <td>0.0</td>\n",
       "      <td>0.040</td>\n",
       "      <td>0.118</td>\n",
       "      <td>0.001</td>\n",
       "      <td>0.013</td>\n",
       "      <td>0.002</td>\n",
       "      <td>0.091</td>\n",
       "      <td>0.135</td>\n",
       "      <td>0.0</td>\n",
       "    </tr>\n",
       "    <tr>\n",
       "      <th>component_2</th>\n",
       "      <td>0.000</td>\n",
       "      <td>0.001</td>\n",
       "      <td>-0.000</td>\n",
       "      <td>0.000</td>\n",
       "      <td>-0.078</td>\n",
       "      <td>-0.000</td>\n",
       "      <td>0.731</td>\n",
       "      <td>0.012</td>\n",
       "      <td>-0.000</td>\n",
       "      <td>-0.000</td>\n",
       "      <td>...</td>\n",
       "      <td>0.001</td>\n",
       "      <td>0.0</td>\n",
       "      <td>0.024</td>\n",
       "      <td>0.135</td>\n",
       "      <td>-0.000</td>\n",
       "      <td>0.045</td>\n",
       "      <td>-0.000</td>\n",
       "      <td>-0.007</td>\n",
       "      <td>-0.030</td>\n",
       "      <td>-0.0</td>\n",
       "    </tr>\n",
       "    <tr>\n",
       "      <th>component_3</th>\n",
       "      <td>0.000</td>\n",
       "      <td>0.002</td>\n",
       "      <td>-0.000</td>\n",
       "      <td>0.003</td>\n",
       "      <td>-0.007</td>\n",
       "      <td>-0.000</td>\n",
       "      <td>-0.105</td>\n",
       "      <td>-0.001</td>\n",
       "      <td>0.000</td>\n",
       "      <td>0.000</td>\n",
       "      <td>...</td>\n",
       "      <td>0.003</td>\n",
       "      <td>0.0</td>\n",
       "      <td>0.043</td>\n",
       "      <td>0.116</td>\n",
       "      <td>0.002</td>\n",
       "      <td>-0.000</td>\n",
       "      <td>0.004</td>\n",
       "      <td>-0.073</td>\n",
       "      <td>0.046</td>\n",
       "      <td>0.0</td>\n",
       "    </tr>\n",
       "    <tr>\n",
       "      <th>component_4</th>\n",
       "      <td>0.002</td>\n",
       "      <td>0.005</td>\n",
       "      <td>0.000</td>\n",
       "      <td>0.001</td>\n",
       "      <td>-0.198</td>\n",
       "      <td>0.000</td>\n",
       "      <td>-0.255</td>\n",
       "      <td>0.000</td>\n",
       "      <td>0.000</td>\n",
       "      <td>-0.000</td>\n",
       "      <td>...</td>\n",
       "      <td>0.011</td>\n",
       "      <td>0.0</td>\n",
       "      <td>0.113</td>\n",
       "      <td>0.406</td>\n",
       "      <td>0.001</td>\n",
       "      <td>-0.013</td>\n",
       "      <td>-0.001</td>\n",
       "      <td>0.039</td>\n",
       "      <td>0.025</td>\n",
       "      <td>-0.0</td>\n",
       "    </tr>\n",
       "    <tr>\n",
       "      <th>component_5</th>\n",
       "      <td>0.000</td>\n",
       "      <td>0.002</td>\n",
       "      <td>-0.000</td>\n",
       "      <td>0.001</td>\n",
       "      <td>0.131</td>\n",
       "      <td>0.003</td>\n",
       "      <td>-0.018</td>\n",
       "      <td>-0.002</td>\n",
       "      <td>-0.000</td>\n",
       "      <td>-0.000</td>\n",
       "      <td>...</td>\n",
       "      <td>-0.005</td>\n",
       "      <td>0.0</td>\n",
       "      <td>0.009</td>\n",
       "      <td>0.056</td>\n",
       "      <td>0.001</td>\n",
       "      <td>-0.012</td>\n",
       "      <td>0.002</td>\n",
       "      <td>0.009</td>\n",
       "      <td>-0.070</td>\n",
       "      <td>-0.0</td>\n",
       "    </tr>\n",
       "    <tr>\n",
       "      <th>component_6</th>\n",
       "      <td>0.001</td>\n",
       "      <td>0.003</td>\n",
       "      <td>0.000</td>\n",
       "      <td>-0.001</td>\n",
       "      <td>0.559</td>\n",
       "      <td>-0.002</td>\n",
       "      <td>-0.046</td>\n",
       "      <td>0.000</td>\n",
       "      <td>0.000</td>\n",
       "      <td>-0.000</td>\n",
       "      <td>...</td>\n",
       "      <td>-0.002</td>\n",
       "      <td>-0.0</td>\n",
       "      <td>-0.008</td>\n",
       "      <td>0.067</td>\n",
       "      <td>-0.001</td>\n",
       "      <td>-0.003</td>\n",
       "      <td>-0.002</td>\n",
       "      <td>0.163</td>\n",
       "      <td>-0.012</td>\n",
       "      <td>0.0</td>\n",
       "    </tr>\n",
       "    <tr>\n",
       "      <th>component_7</th>\n",
       "      <td>-0.001</td>\n",
       "      <td>-0.003</td>\n",
       "      <td>0.000</td>\n",
       "      <td>-0.004</td>\n",
       "      <td>0.021</td>\n",
       "      <td>0.001</td>\n",
       "      <td>-0.054</td>\n",
       "      <td>0.005</td>\n",
       "      <td>-0.000</td>\n",
       "      <td>-0.000</td>\n",
       "      <td>...</td>\n",
       "      <td>-0.005</td>\n",
       "      <td>0.0</td>\n",
       "      <td>-0.144</td>\n",
       "      <td>-0.371</td>\n",
       "      <td>0.001</td>\n",
       "      <td>-0.016</td>\n",
       "      <td>0.000</td>\n",
       "      <td>0.066</td>\n",
       "      <td>-0.018</td>\n",
       "      <td>-0.0</td>\n",
       "    </tr>\n",
       "    <tr>\n",
       "      <th>component_8</th>\n",
       "      <td>-0.000</td>\n",
       "      <td>0.000</td>\n",
       "      <td>-0.000</td>\n",
       "      <td>0.002</td>\n",
       "      <td>0.320</td>\n",
       "      <td>-0.002</td>\n",
       "      <td>-0.034</td>\n",
       "      <td>0.002</td>\n",
       "      <td>0.000</td>\n",
       "      <td>-0.000</td>\n",
       "      <td>...</td>\n",
       "      <td>0.000</td>\n",
       "      <td>-0.0</td>\n",
       "      <td>0.067</td>\n",
       "      <td>0.165</td>\n",
       "      <td>0.000</td>\n",
       "      <td>-0.033</td>\n",
       "      <td>-0.000</td>\n",
       "      <td>0.011</td>\n",
       "      <td>0.020</td>\n",
       "      <td>-0.0</td>\n",
       "    </tr>\n",
       "    <tr>\n",
       "      <th>component_9</th>\n",
       "      <td>0.000</td>\n",
       "      <td>-0.000</td>\n",
       "      <td>-0.000</td>\n",
       "      <td>0.000</td>\n",
       "      <td>0.313</td>\n",
       "      <td>-0.001</td>\n",
       "      <td>0.045</td>\n",
       "      <td>-0.001</td>\n",
       "      <td>-0.000</td>\n",
       "      <td>-0.000</td>\n",
       "      <td>...</td>\n",
       "      <td>-0.002</td>\n",
       "      <td>0.0</td>\n",
       "      <td>0.008</td>\n",
       "      <td>-0.063</td>\n",
       "      <td>-0.001</td>\n",
       "      <td>-0.024</td>\n",
       "      <td>0.002</td>\n",
       "      <td>-0.022</td>\n",
       "      <td>0.083</td>\n",
       "      <td>-0.0</td>\n",
       "    </tr>\n",
       "    <tr>\n",
       "      <th>component_10</th>\n",
       "      <td>0.001</td>\n",
       "      <td>-0.001</td>\n",
       "      <td>0.000</td>\n",
       "      <td>-0.002</td>\n",
       "      <td>-0.134</td>\n",
       "      <td>0.001</td>\n",
       "      <td>0.072</td>\n",
       "      <td>-0.001</td>\n",
       "      <td>-0.000</td>\n",
       "      <td>0.000</td>\n",
       "      <td>...</td>\n",
       "      <td>0.001</td>\n",
       "      <td>-0.0</td>\n",
       "      <td>0.030</td>\n",
       "      <td>0.095</td>\n",
       "      <td>0.003</td>\n",
       "      <td>0.006</td>\n",
       "      <td>-0.006</td>\n",
       "      <td>0.008</td>\n",
       "      <td>0.008</td>\n",
       "      <td>0.0</td>\n",
       "    </tr>\n",
       "    <tr>\n",
       "      <th>component_11</th>\n",
       "      <td>0.002</td>\n",
       "      <td>0.004</td>\n",
       "      <td>0.000</td>\n",
       "      <td>0.001</td>\n",
       "      <td>-0.270</td>\n",
       "      <td>0.004</td>\n",
       "      <td>-0.089</td>\n",
       "      <td>-0.005</td>\n",
       "      <td>0.000</td>\n",
       "      <td>0.000</td>\n",
       "      <td>...</td>\n",
       "      <td>0.009</td>\n",
       "      <td>0.0</td>\n",
       "      <td>-0.010</td>\n",
       "      <td>-0.044</td>\n",
       "      <td>0.001</td>\n",
       "      <td>-0.085</td>\n",
       "      <td>0.001</td>\n",
       "      <td>0.100</td>\n",
       "      <td>0.062</td>\n",
       "      <td>0.0</td>\n",
       "    </tr>\n",
       "    <tr>\n",
       "      <th>component_12</th>\n",
       "      <td>-0.000</td>\n",
       "      <td>-0.004</td>\n",
       "      <td>0.000</td>\n",
       "      <td>0.002</td>\n",
       "      <td>-0.179</td>\n",
       "      <td>-0.002</td>\n",
       "      <td>0.052</td>\n",
       "      <td>0.007</td>\n",
       "      <td>0.001</td>\n",
       "      <td>0.000</td>\n",
       "      <td>...</td>\n",
       "      <td>-0.004</td>\n",
       "      <td>-0.0</td>\n",
       "      <td>0.010</td>\n",
       "      <td>-0.029</td>\n",
       "      <td>-0.000</td>\n",
       "      <td>0.040</td>\n",
       "      <td>0.004</td>\n",
       "      <td>0.170</td>\n",
       "      <td>0.038</td>\n",
       "      <td>0.0</td>\n",
       "    </tr>\n",
       "    <tr>\n",
       "      <th>component_13</th>\n",
       "      <td>0.002</td>\n",
       "      <td>0.000</td>\n",
       "      <td>0.000</td>\n",
       "      <td>0.002</td>\n",
       "      <td>0.460</td>\n",
       "      <td>0.002</td>\n",
       "      <td>-0.027</td>\n",
       "      <td>-0.000</td>\n",
       "      <td>0.000</td>\n",
       "      <td>0.001</td>\n",
       "      <td>...</td>\n",
       "      <td>0.006</td>\n",
       "      <td>-0.0</td>\n",
       "      <td>0.005</td>\n",
       "      <td>-0.022</td>\n",
       "      <td>0.000</td>\n",
       "      <td>-0.000</td>\n",
       "      <td>0.000</td>\n",
       "      <td>-0.133</td>\n",
       "      <td>-0.177</td>\n",
       "      <td>0.0</td>\n",
       "    </tr>\n",
       "    <tr>\n",
       "      <th>component_14</th>\n",
       "      <td>0.001</td>\n",
       "      <td>-0.000</td>\n",
       "      <td>0.001</td>\n",
       "      <td>-0.002</td>\n",
       "      <td>0.052</td>\n",
       "      <td>-0.003</td>\n",
       "      <td>0.035</td>\n",
       "      <td>0.007</td>\n",
       "      <td>-0.001</td>\n",
       "      <td>-0.000</td>\n",
       "      <td>...</td>\n",
       "      <td>0.006</td>\n",
       "      <td>-0.0</td>\n",
       "      <td>-0.018</td>\n",
       "      <td>-0.029</td>\n",
       "      <td>-0.002</td>\n",
       "      <td>0.004</td>\n",
       "      <td>0.001</td>\n",
       "      <td>0.271</td>\n",
       "      <td>0.049</td>\n",
       "      <td>0.0</td>\n",
       "    </tr>\n",
       "    <tr>\n",
       "      <th>component_15</th>\n",
       "      <td>-0.002</td>\n",
       "      <td>0.001</td>\n",
       "      <td>0.000</td>\n",
       "      <td>0.001</td>\n",
       "      <td>-0.002</td>\n",
       "      <td>-0.002</td>\n",
       "      <td>-0.219</td>\n",
       "      <td>0.004</td>\n",
       "      <td>0.000</td>\n",
       "      <td>0.000</td>\n",
       "      <td>...</td>\n",
       "      <td>-0.015</td>\n",
       "      <td>-0.0</td>\n",
       "      <td>-0.005</td>\n",
       "      <td>0.055</td>\n",
       "      <td>-0.000</td>\n",
       "      <td>-0.013</td>\n",
       "      <td>-0.000</td>\n",
       "      <td>-0.024</td>\n",
       "      <td>-0.044</td>\n",
       "      <td>-0.0</td>\n",
       "    </tr>\n",
       "    <tr>\n",
       "      <th>component_16</th>\n",
       "      <td>0.001</td>\n",
       "      <td>-0.003</td>\n",
       "      <td>0.000</td>\n",
       "      <td>-0.002</td>\n",
       "      <td>0.026</td>\n",
       "      <td>-0.005</td>\n",
       "      <td>0.011</td>\n",
       "      <td>-0.003</td>\n",
       "      <td>0.000</td>\n",
       "      <td>-0.000</td>\n",
       "      <td>...</td>\n",
       "      <td>0.030</td>\n",
       "      <td>0.0</td>\n",
       "      <td>-0.010</td>\n",
       "      <td>-0.100</td>\n",
       "      <td>-0.002</td>\n",
       "      <td>-0.017</td>\n",
       "      <td>0.002</td>\n",
       "      <td>0.065</td>\n",
       "      <td>0.404</td>\n",
       "      <td>-0.0</td>\n",
       "    </tr>\n",
       "    <tr>\n",
       "      <th>component_17</th>\n",
       "      <td>0.005</td>\n",
       "      <td>0.005</td>\n",
       "      <td>0.000</td>\n",
       "      <td>-0.001</td>\n",
       "      <td>-0.037</td>\n",
       "      <td>0.001</td>\n",
       "      <td>-0.032</td>\n",
       "      <td>0.002</td>\n",
       "      <td>-0.001</td>\n",
       "      <td>0.000</td>\n",
       "      <td>...</td>\n",
       "      <td>0.044</td>\n",
       "      <td>0.0</td>\n",
       "      <td>-0.042</td>\n",
       "      <td>-0.014</td>\n",
       "      <td>-0.001</td>\n",
       "      <td>0.011</td>\n",
       "      <td>-0.003</td>\n",
       "      <td>-0.095</td>\n",
       "      <td>0.118</td>\n",
       "      <td>0.0</td>\n",
       "    </tr>\n",
       "    <tr>\n",
       "      <th>component_18</th>\n",
       "      <td>0.002</td>\n",
       "      <td>-0.001</td>\n",
       "      <td>0.000</td>\n",
       "      <td>0.001</td>\n",
       "      <td>0.114</td>\n",
       "      <td>-0.001</td>\n",
       "      <td>0.000</td>\n",
       "      <td>0.003</td>\n",
       "      <td>-0.000</td>\n",
       "      <td>-0.000</td>\n",
       "      <td>...</td>\n",
       "      <td>0.030</td>\n",
       "      <td>-0.0</td>\n",
       "      <td>-0.008</td>\n",
       "      <td>-0.051</td>\n",
       "      <td>-0.002</td>\n",
       "      <td>0.008</td>\n",
       "      <td>-0.000</td>\n",
       "      <td>-0.087</td>\n",
       "      <td>0.218</td>\n",
       "      <td>0.0</td>\n",
       "    </tr>\n",
       "    <tr>\n",
       "      <th>component_19</th>\n",
       "      <td>-0.001</td>\n",
       "      <td>0.003</td>\n",
       "      <td>0.000</td>\n",
       "      <td>0.001</td>\n",
       "      <td>0.033</td>\n",
       "      <td>0.008</td>\n",
       "      <td>0.003</td>\n",
       "      <td>0.001</td>\n",
       "      <td>0.000</td>\n",
       "      <td>0.000</td>\n",
       "      <td>...</td>\n",
       "      <td>-0.010</td>\n",
       "      <td>-0.0</td>\n",
       "      <td>-0.025</td>\n",
       "      <td>-0.142</td>\n",
       "      <td>0.004</td>\n",
       "      <td>0.045</td>\n",
       "      <td>0.003</td>\n",
       "      <td>-0.027</td>\n",
       "      <td>0.364</td>\n",
       "      <td>0.0</td>\n",
       "    </tr>\n",
       "    <tr>\n",
       "      <th>component_20</th>\n",
       "      <td>-0.002</td>\n",
       "      <td>-0.004</td>\n",
       "      <td>-0.000</td>\n",
       "      <td>-0.002</td>\n",
       "      <td>-0.001</td>\n",
       "      <td>-0.005</td>\n",
       "      <td>0.001</td>\n",
       "      <td>0.000</td>\n",
       "      <td>-0.001</td>\n",
       "      <td>0.000</td>\n",
       "      <td>...</td>\n",
       "      <td>-0.027</td>\n",
       "      <td>-0.0</td>\n",
       "      <td>-0.061</td>\n",
       "      <td>0.053</td>\n",
       "      <td>-0.007</td>\n",
       "      <td>-0.024</td>\n",
       "      <td>-0.004</td>\n",
       "      <td>0.103</td>\n",
       "      <td>0.609</td>\n",
       "      <td>-0.0</td>\n",
       "    </tr>\n",
       "    <tr>\n",
       "      <th>component_21</th>\n",
       "      <td>-0.002</td>\n",
       "      <td>0.005</td>\n",
       "      <td>0.000</td>\n",
       "      <td>0.001</td>\n",
       "      <td>-0.014</td>\n",
       "      <td>0.021</td>\n",
       "      <td>-0.020</td>\n",
       "      <td>-0.007</td>\n",
       "      <td>-0.000</td>\n",
       "      <td>0.000</td>\n",
       "      <td>...</td>\n",
       "      <td>0.001</td>\n",
       "      <td>-0.0</td>\n",
       "      <td>0.049</td>\n",
       "      <td>0.034</td>\n",
       "      <td>0.016</td>\n",
       "      <td>-0.019</td>\n",
       "      <td>-0.004</td>\n",
       "      <td>0.037</td>\n",
       "      <td>0.169</td>\n",
       "      <td>-0.0</td>\n",
       "    </tr>\n",
       "    <tr>\n",
       "      <th>component_22</th>\n",
       "      <td>-0.002</td>\n",
       "      <td>0.005</td>\n",
       "      <td>0.000</td>\n",
       "      <td>0.007</td>\n",
       "      <td>0.027</td>\n",
       "      <td>-0.009</td>\n",
       "      <td>-0.022</td>\n",
       "      <td>-0.002</td>\n",
       "      <td>-0.000</td>\n",
       "      <td>0.000</td>\n",
       "      <td>...</td>\n",
       "      <td>-0.004</td>\n",
       "      <td>-0.0</td>\n",
       "      <td>0.033</td>\n",
       "      <td>-0.006</td>\n",
       "      <td>-0.007</td>\n",
       "      <td>-0.003</td>\n",
       "      <td>-0.002</td>\n",
       "      <td>0.394</td>\n",
       "      <td>0.110</td>\n",
       "      <td>-0.0</td>\n",
       "    </tr>\n",
       "    <tr>\n",
       "      <th>component_23</th>\n",
       "      <td>0.000</td>\n",
       "      <td>0.004</td>\n",
       "      <td>0.001</td>\n",
       "      <td>-0.002</td>\n",
       "      <td>-0.021</td>\n",
       "      <td>0.004</td>\n",
       "      <td>-0.004</td>\n",
       "      <td>-0.003</td>\n",
       "      <td>0.000</td>\n",
       "      <td>0.000</td>\n",
       "      <td>...</td>\n",
       "      <td>0.008</td>\n",
       "      <td>-0.0</td>\n",
       "      <td>0.029</td>\n",
       "      <td>0.001</td>\n",
       "      <td>0.000</td>\n",
       "      <td>0.015</td>\n",
       "      <td>0.001</td>\n",
       "      <td>0.765</td>\n",
       "      <td>-0.235</td>\n",
       "      <td>-0.0</td>\n",
       "    </tr>\n",
       "  </tbody>\n",
       "</table>\n",
       "<p>23 rows × 164 columns</p>\n",
       "</div>"
      ],
      "text/plain": [
       "              afghan  african  albanian  alcohol  american  argentinian  \\\n",
       "component_1    0.000    0.001     0.000    0.005     0.245        0.001   \n",
       "component_2    0.000    0.001    -0.000    0.000    -0.078       -0.000   \n",
       "component_3    0.000    0.002    -0.000    0.003    -0.007       -0.000   \n",
       "component_4    0.002    0.005     0.000    0.001    -0.198        0.000   \n",
       "component_5    0.000    0.002    -0.000    0.001     0.131        0.003   \n",
       "component_6    0.001    0.003     0.000   -0.001     0.559       -0.002   \n",
       "component_7   -0.001   -0.003     0.000   -0.004     0.021        0.001   \n",
       "component_8   -0.000    0.000    -0.000    0.002     0.320       -0.002   \n",
       "component_9    0.000   -0.000    -0.000    0.000     0.313       -0.001   \n",
       "component_10   0.001   -0.001     0.000   -0.002    -0.134        0.001   \n",
       "component_11   0.002    0.004     0.000    0.001    -0.270        0.004   \n",
       "component_12  -0.000   -0.004     0.000    0.002    -0.179       -0.002   \n",
       "component_13   0.002    0.000     0.000    0.002     0.460        0.002   \n",
       "component_14   0.001   -0.000     0.001   -0.002     0.052       -0.003   \n",
       "component_15  -0.002    0.001     0.000    0.001    -0.002       -0.002   \n",
       "component_16   0.001   -0.003     0.000   -0.002     0.026       -0.005   \n",
       "component_17   0.005    0.005     0.000   -0.001    -0.037        0.001   \n",
       "component_18   0.002   -0.001     0.000    0.001     0.114       -0.001   \n",
       "component_19  -0.001    0.003     0.000    0.001     0.033        0.008   \n",
       "component_20  -0.002   -0.004    -0.000   -0.002    -0.001       -0.005   \n",
       "component_21  -0.002    0.005     0.000    0.001    -0.014        0.021   \n",
       "component_22  -0.002    0.005     0.000    0.007     0.027       -0.009   \n",
       "component_23   0.000    0.004     0.001   -0.002    -0.021        0.004   \n",
       "\n",
       "              asian  asian_fusion  australian  austrian  ...  turkish  \\\n",
       "component_1   0.120         0.003       0.000     0.000  ...    0.004   \n",
       "component_2   0.731         0.012      -0.000    -0.000  ...    0.001   \n",
       "component_3  -0.105        -0.001       0.000     0.000  ...    0.003   \n",
       "component_4  -0.255         0.000       0.000    -0.000  ...    0.011   \n",
       "component_5  -0.018        -0.002      -0.000    -0.000  ...   -0.005   \n",
       "component_6  -0.046         0.000       0.000    -0.000  ...   -0.002   \n",
       "component_7  -0.054         0.005      -0.000    -0.000  ...   -0.005   \n",
       "component_8  -0.034         0.002       0.000    -0.000  ...    0.000   \n",
       "component_9   0.045        -0.001      -0.000    -0.000  ...   -0.002   \n",
       "component_10  0.072        -0.001      -0.000     0.000  ...    0.001   \n",
       "component_11 -0.089        -0.005       0.000     0.000  ...    0.009   \n",
       "component_12  0.052         0.007       0.001     0.000  ...   -0.004   \n",
       "component_13 -0.027        -0.000       0.000     0.001  ...    0.006   \n",
       "component_14  0.035         0.007      -0.001    -0.000  ...    0.006   \n",
       "component_15 -0.219         0.004       0.000     0.000  ...   -0.015   \n",
       "component_16  0.011        -0.003       0.000    -0.000  ...    0.030   \n",
       "component_17 -0.032         0.002      -0.001     0.000  ...    0.044   \n",
       "component_18  0.000         0.003      -0.000    -0.000  ...    0.030   \n",
       "component_19  0.003         0.001       0.000     0.000  ...   -0.010   \n",
       "component_20  0.001         0.000      -0.001     0.000  ...   -0.027   \n",
       "component_21 -0.020        -0.007      -0.000     0.000  ...    0.001   \n",
       "component_22 -0.022        -0.002      -0.000     0.000  ...   -0.004   \n",
       "component_23 -0.004        -0.003       0.000     0.000  ...    0.008   \n",
       "\n",
       "              ukrainian  vegan  vegetarian  venezuelan  vietnamese  waffles  \\\n",
       "component_1         0.0  0.040       0.118       0.001       0.013    0.002   \n",
       "component_2         0.0  0.024       0.135      -0.000       0.045   -0.000   \n",
       "component_3         0.0  0.043       0.116       0.002      -0.000    0.004   \n",
       "component_4         0.0  0.113       0.406       0.001      -0.013   -0.001   \n",
       "component_5         0.0  0.009       0.056       0.001      -0.012    0.002   \n",
       "component_6        -0.0 -0.008       0.067      -0.001      -0.003   -0.002   \n",
       "component_7         0.0 -0.144      -0.371       0.001      -0.016    0.000   \n",
       "component_8        -0.0  0.067       0.165       0.000      -0.033   -0.000   \n",
       "component_9         0.0  0.008      -0.063      -0.001      -0.024    0.002   \n",
       "component_10       -0.0  0.030       0.095       0.003       0.006   -0.006   \n",
       "component_11        0.0 -0.010      -0.044       0.001      -0.085    0.001   \n",
       "component_12       -0.0  0.010      -0.029      -0.000       0.040    0.004   \n",
       "component_13       -0.0  0.005      -0.022       0.000      -0.000    0.000   \n",
       "component_14       -0.0 -0.018      -0.029      -0.002       0.004    0.001   \n",
       "component_15       -0.0 -0.005       0.055      -0.000      -0.013   -0.000   \n",
       "component_16        0.0 -0.010      -0.100      -0.002      -0.017    0.002   \n",
       "component_17        0.0 -0.042      -0.014      -0.001       0.011   -0.003   \n",
       "component_18       -0.0 -0.008      -0.051      -0.002       0.008   -0.000   \n",
       "component_19       -0.0 -0.025      -0.142       0.004       0.045    0.003   \n",
       "component_20       -0.0 -0.061       0.053      -0.007      -0.024   -0.004   \n",
       "component_21       -0.0  0.049       0.034       0.016      -0.019   -0.004   \n",
       "component_22       -0.0  0.033      -0.006      -0.007      -0.003   -0.002   \n",
       "component_23       -0.0  0.029       0.001       0.000       0.015    0.001   \n",
       "\n",
       "              wings  wraps  yemeni  \n",
       "component_1   0.091  0.135     0.0  \n",
       "component_2  -0.007 -0.030    -0.0  \n",
       "component_3  -0.073  0.046     0.0  \n",
       "component_4   0.039  0.025    -0.0  \n",
       "component_5   0.009 -0.070    -0.0  \n",
       "component_6   0.163 -0.012     0.0  \n",
       "component_7   0.066 -0.018    -0.0  \n",
       "component_8   0.011  0.020    -0.0  \n",
       "component_9  -0.022  0.083    -0.0  \n",
       "component_10  0.008  0.008     0.0  \n",
       "component_11  0.100  0.062     0.0  \n",
       "component_12  0.170  0.038     0.0  \n",
       "component_13 -0.133 -0.177     0.0  \n",
       "component_14  0.271  0.049     0.0  \n",
       "component_15 -0.024 -0.044    -0.0  \n",
       "component_16  0.065  0.404    -0.0  \n",
       "component_17 -0.095  0.118     0.0  \n",
       "component_18 -0.087  0.218     0.0  \n",
       "component_19 -0.027  0.364     0.0  \n",
       "component_20  0.103  0.609    -0.0  \n",
       "component_21  0.037  0.169    -0.0  \n",
       "component_22  0.394  0.110    -0.0  \n",
       "component_23  0.765 -0.235    -0.0  \n",
       "\n",
       "[23 rows x 164 columns]"
      ]
     },
     "execution_count": 16,
     "metadata": {},
     "output_type": "execute_result"
    }
   ],
   "source": [
    "topic_word = pd.DataFrame(lsa.components_.round(3), index = ['component_' + str(i + 1) for i in range(num_components)],\n",
    "#              index = [\"component_1\",\"component_2\",\"component_3\",\"component_4\",\"component_5\"],\n",
    "             columns = vectorizer.get_feature_names())\n",
    "topic_word.loc[:'component_23',:]"
   ]
  },
  {
   "cell_type": "code",
   "execution_count": 17,
   "metadata": {},
   "outputs": [],
   "source": [
    "def display_topics(model, feature_names, no_top_words, topic_names=None):\n",
    "    for ix, topic in enumerate(model.components_):\n",
    "        if not topic_names or not topic_names[ix]:\n",
    "            print(\"\\nTopic \", ix)\n",
    "        else:\n",
    "            print(\"\\nTopic: '\",topic_names[ix],\"'\")\n",
    "        print(\", \".join([feature_names[i]\n",
    "                        for i in topic.argsort()[:-no_top_words - 1:-1]]))"
   ]
  },
  {
   "cell_type": "code",
   "execution_count": 18,
   "metadata": {
    "scrolled": true
   },
   "outputs": [
    {
     "name": "stdout",
     "output_type": "stream",
     "text": [
      "\n",
      "Topic  0\n",
      "sandwiches, salads, breakfast, pizza, american\n",
      "\n",
      "Topic  1\n",
      "asian, chinese, japanese, sushi, noodles\n",
      "\n",
      "Topic  2\n",
      "breakfast, mexican, healthy, coffee_and_tea, smoothies_and_juices\n",
      "\n",
      "Topic  3\n",
      "vegetarian, healthy, salads, seafood, soup\n",
      "\n",
      "Topic  4\n",
      "mexican, breakfast, pizza, pasta, italian\n",
      "\n",
      "Topic  5\n",
      "american, hamburgers, chicken, seafood, wings\n",
      "\n",
      "Topic  6\n",
      "seafood, salads, mexican, soup, chicken\n",
      "\n",
      "Topic  7\n",
      "sushi, japanese, american, healthy, vegetarian\n",
      "\n",
      "Topic  8\n",
      "salads, american, lunch_specials, hamburgers, chinese\n",
      "\n",
      "Topic  9\n",
      "mexican, sandwiches, tacos, latin_american, hamburgers\n",
      "\n",
      "Topic  10\n",
      "lunch_specials, chicken, dessert, japanese, sushi\n",
      "\n",
      "Topic  11\n",
      "dessert, hamburgers, coffee_and_tea, wings, chicken\n",
      "\n",
      "Topic  12\n",
      "american, dessert, sandwiches, mexican, lunch_specials\n",
      "\n",
      "Topic  13\n",
      "chicken, wings, pizza, breakfast, mediterranean\n",
      "\n",
      "Topic  14\n",
      "soup, chinese, noodles, japanese, sushi\n",
      "\n",
      "Topic  15\n",
      "wraps, mediterranean, chinese, smoothies_and_juices, pizza\n",
      "\n",
      "Topic  16\n",
      "mediterranean, soup, indian, middle_eastern, lunch_specials\n",
      "\n",
      "Topic  17\n",
      "pasta, italian, mediterranean, wraps, chicken\n",
      "\n",
      "Topic  18\n",
      "smoothies_and_juices, wraps, coffee_and_tea, lunch_specials, soup\n",
      "\n",
      "Topic  19\n",
      "wraps, indian, pasta, subs, dessert\n",
      "\n",
      "Topic  20\n",
      "latin_american, wraps, lunch_specials, healthy, soup\n",
      "\n",
      "Topic  21\n",
      "italian, wings, lunch_specials, deli, wraps\n",
      "\n",
      "Topic  22\n",
      "wings, pasta, mediterranean, soup, coffee_and_tea\n",
      "\n",
      "Topic  23\n",
      "noodles, latin_american, indian, italian, wings\n",
      "\n",
      "Topic  24\n",
      "soup, indian, latin_american, chinese, italian\n",
      "\n",
      "Topic  25\n",
      "coffee_and_tea, wraps, free, gluten, vegetarian\n",
      "\n",
      "Topic  26\n",
      "free, gluten, vegan, smoothies_and_juices, indian\n",
      "\n",
      "Topic  27\n",
      "deli, subs, thai, bagels, grill\n",
      "\n",
      "Topic  28\n",
      "thai, chinese, sushi, japanese, noodles\n",
      "\n",
      "Topic  29\n",
      "tacos, burritos, latin_american, vegetarian, deli\n",
      "\n",
      "Topic  30\n",
      "deli, bakery, bagels, pasta, pizza\n",
      "\n",
      "Topic  31\n",
      "healthy, bakery, tacos, subs, middle_eastern\n",
      "\n",
      "Topic  32\n",
      "bakery, vegetarian, smoothies_and_juices, vegan, subs\n",
      "\n",
      "Topic  33\n",
      "bbq, grill, bakery, korean, vegetarian\n",
      "\n",
      "Topic  34\n",
      "middle_eastern, bbq, vegan, korean, halal\n",
      "\n",
      "Topic  35\n",
      "grill, middle_eastern, vietnamese, vegetarian, halal\n",
      "\n",
      "Topic  36\n",
      "calzones, kids_menu, vegetarian, gluten, free\n",
      "\n",
      "Topic  37\n",
      "vietnamese, sushi, chinese, thai, bbq\n",
      "\n",
      "Topic  38\n",
      "gluten, free, vegetarian, subs, vietnamese\n",
      "\n",
      "Topic  39\n",
      "kids_menu, vegan, subs, healthy, greek\n",
      "\n",
      "Topic  40\n",
      "japanese, vietnamese, ramen, steak, gyro\n",
      "\n",
      "Topic  41\n",
      "gyro, greek, halal, steak, cheesesteaks\n",
      "\n",
      "Topic  42\n",
      "halal, gyro, kids_menu, hot_dogs, japanese\n",
      "\n",
      "Topic  43\n",
      "steak, halal, cheesesteaks, diner, mediterranean\n",
      "\n",
      "Topic  44\n",
      "korean, ice_cream, halal, steak, diner\n",
      "\n",
      "Topic  45\n",
      "ice_cream, shakes, diner, hot_dogs, frozen_yogurt\n",
      "\n",
      "Topic  46\n",
      "tex, mex, bowls, deli, bakery\n",
      "\n",
      "Topic  47\n",
      "mex, tex, bagels, diner, cheesesteaks\n",
      "\n",
      "Topic  48\n",
      "bowls, bagels, cheesesteaks, poke, hawaiian\n",
      "\n",
      "Topic  49\n",
      "cheesesteaks, gyro, hoagies, hot_dogs, mediterranean\n",
      "\n",
      "Topic  50\n",
      "cheesesteaks, greek, diner, hoagies, bowls\n",
      "\n",
      "Topic  51\n",
      "caribbean, jamaican, bagels, pub_food, steak\n",
      "\n",
      "Topic  52\n",
      "diner, gyro, caribbean, jamaican, kosher\n",
      "\n",
      "Topic  53\n",
      "hot_dogs, greek, caribbean, cheesesteaks, shakes\n",
      "\n",
      "Topic  54\n",
      "kosher, style, ramen, greek, ice_cream\n",
      "\n",
      "Topic  55\n",
      "ramen, pub_food, hot_dogs, irish, sushi\n",
      "\n",
      "Topic  56\n",
      "pub_food, hot_dogs, bowls, irish, japanese\n",
      "\n",
      "Topic  57\n",
      "hawaiian, poke, caribbean, kosher, korean\n",
      "\n",
      "Topic  58\n",
      "shakes, kosher, cafe, pub_food, bubble_tea\n",
      "\n",
      "Topic  59\n",
      "southern, soul_food, cajun, hawaiian, shakes\n",
      "\n",
      "Topic  60\n",
      "cafe, snacks, bubble_tea, burritos, curry\n",
      "\n",
      "Topic  61\n",
      "cantonese, szechwan, mandarin, curry, dim_sum\n",
      "\n",
      "Topic  62\n",
      "burritos, cantonese, southern, ramen, soul_food\n",
      "\n",
      "Topic  63\n",
      "pitas, cafe, falafel, lebanese, crepes\n",
      "\n",
      "Topic  64\n",
      "snacks, curry, pitas, spanish, bubble_tea\n",
      "\n",
      "Topic  65\n",
      "spanish, snacks, organic, new_american, tapas\n",
      "\n",
      "Topic  66\n",
      "new_american, spanish, curry, cafe, tapas\n",
      "\n",
      "Topic  67\n",
      "bubble_tea, new_american, poke, peruvian, cantonese\n",
      "\n",
      "Topic  68\n",
      "new_american, snacks, curry, cafe, hawaiian\n",
      "\n",
      "Topic  69\n",
      "asian_fusion, cuban, snacks, french, burritos\n",
      "\n",
      "Topic  70\n",
      "cuban, curry, empanadas, bubble_tea, new_american\n",
      "\n",
      "Topic  71\n",
      "organic, grocery_items, alcohol, low_fat, low_carb\n",
      "\n",
      "Topic  72\n",
      "crepes, french, organic, grocery_items, cuban\n",
      "\n",
      "Topic  73\n",
      "peruvian, cuban, hoagies, spanish, hawaiian\n",
      "\n",
      "Topic  74\n",
      "hoagies, organic, colombian, latin_american, classic\n",
      "\n",
      "Topic  75\n",
      "poke, peruvian, asian_fusion, snacks, cafe\n",
      "\n",
      "Topic  76\n",
      "soul_food, african, grocery_items, jamaican, alcohol\n",
      "\n",
      "Topic  77\n",
      "bar_food, empanadas, peruvian, cajun, hoagies\n",
      "\n",
      "Topic  78\n",
      "ribs, empanadas, grocery_items, alcohol, peruvian\n",
      "\n",
      "Topic  79\n",
      "eclectic, empanadas, african, organic, szechwan\n",
      "\n",
      "Topic  80\n",
      "ribs, bar_food, turkish, eclectic, hoagies\n",
      "\n",
      "Topic  81\n",
      "turkish, empanadas, grocery_items, crepes, alcohol\n",
      "\n",
      "Topic  82\n",
      "african, grocery_items, ethiopian, szechwan, alcohol\n",
      "\n",
      "Topic  83\n",
      "african, organic, turkish, ethiopian, ribs\n",
      "\n",
      "Topic  84\n",
      "szechwan, dim_sum, ribs, organic, mandarin\n",
      "\n",
      "Topic  85\n",
      "cajun, pakistani, soul_food, ribs, turkish\n",
      "\n",
      "Topic  86\n",
      "pakistani, turkish, southern, jamaican, szechwan\n",
      "\n",
      "Topic  87\n",
      "jamaican, colombian, tapas, cuban, spanish\n",
      "\n",
      "Topic  88\n",
      "dim_sum, taiwanese, pho, eclectic, fine_dining\n",
      "\n",
      "Topic  89\n",
      "lebanese, colombian, low_carb, pakistani, low_fat\n",
      "\n",
      "Topic  90\n",
      "pho, colombian, lebanese, crepes, peruvian\n",
      "\n",
      "Topic  91\n",
      "colombian, french, peruvian, south_american, venezuelan\n",
      "\n",
      "Topic  92\n",
      "french, tapas, pho, frozen_yogurt, lebanese\n",
      "\n",
      "Topic  93\n",
      "tapas, low_carb, low_fat, colombian, caribbean\n",
      "\n",
      "Topic  94\n",
      "low_carb, low_fat, dominican, french, persian\n",
      "\n",
      "Topic  95\n",
      "dominican, tapas, frozen_yogurt, colombian, jamaican\n",
      "\n",
      "Topic  96\n",
      "frozen_yogurt, fine_dining, alcohol, spanish, fresh_fruits\n",
      "\n",
      "Topic  97\n",
      "persian, brazilian, south_american, alcohol, falafel\n",
      "\n",
      "Topic  98\n",
      "alcohol, nepalese, cakes, falafel, low_carb\n",
      "\n",
      "Topic  99\n",
      "brazilian, south_american, frozen_yogurt, dominican, falafel\n"
     ]
    }
   ],
   "source": [
    "display_topics(lsa, vectorizer.get_feature_names(), 5)"
   ]
  },
  {
   "cell_type": "code",
   "execution_count": 19,
   "metadata": {
    "scrolled": true
   },
   "outputs": [
    {
     "data": {
      "text/html": [
       "<div>\n",
       "<style scoped>\n",
       "    .dataframe tbody tr th:only-of-type {\n",
       "        vertical-align: middle;\n",
       "    }\n",
       "\n",
       "    .dataframe tbody tr th {\n",
       "        vertical-align: top;\n",
       "    }\n",
       "\n",
       "    .dataframe thead th {\n",
       "        text-align: right;\n",
       "    }\n",
       "</style>\n",
       "<table border=\"1\" class=\"dataframe\">\n",
       "  <thead>\n",
       "    <tr style=\"text-align: right;\">\n",
       "      <th></th>\n",
       "      <th>component_1</th>\n",
       "      <th>component_2</th>\n",
       "      <th>component_3</th>\n",
       "      <th>component_4</th>\n",
       "      <th>component_5</th>\n",
       "      <th>component_6</th>\n",
       "      <th>component_7</th>\n",
       "      <th>component_8</th>\n",
       "      <th>component_9</th>\n",
       "      <th>component_10</th>\n",
       "      <th>...</th>\n",
       "      <th>component_91</th>\n",
       "      <th>component_92</th>\n",
       "      <th>component_93</th>\n",
       "      <th>component_94</th>\n",
       "      <th>component_95</th>\n",
       "      <th>component_96</th>\n",
       "      <th>component_97</th>\n",
       "      <th>component_98</th>\n",
       "      <th>component_99</th>\n",
       "      <th>component_100</th>\n",
       "    </tr>\n",
       "  </thead>\n",
       "  <tbody>\n",
       "    <tr>\n",
       "      <th>0</th>\n",
       "      <td>1.48661</td>\n",
       "      <td>-0.34009</td>\n",
       "      <td>0.16087</td>\n",
       "      <td>-0.34091</td>\n",
       "      <td>-0.67235</td>\n",
       "      <td>0.69349</td>\n",
       "      <td>0.28318</td>\n",
       "      <td>0.22153</td>\n",
       "      <td>0.50534</td>\n",
       "      <td>0.31579</td>\n",
       "      <td>...</td>\n",
       "      <td>-0.00646</td>\n",
       "      <td>-0.01787</td>\n",
       "      <td>0.00066</td>\n",
       "      <td>-0.00052</td>\n",
       "      <td>0.00786</td>\n",
       "      <td>0.00363</td>\n",
       "      <td>0.01056</td>\n",
       "      <td>0.00125</td>\n",
       "      <td>-0.00676</td>\n",
       "      <td>0.00003</td>\n",
       "    </tr>\n",
       "    <tr>\n",
       "      <th>1</th>\n",
       "      <td>0.18786</td>\n",
       "      <td>1.14312</td>\n",
       "      <td>-0.17750</td>\n",
       "      <td>-0.38777</td>\n",
       "      <td>-0.16901</td>\n",
       "      <td>-0.24148</td>\n",
       "      <td>0.06395</td>\n",
       "      <td>0.39736</td>\n",
       "      <td>-0.04639</td>\n",
       "      <td>0.01479</td>\n",
       "      <td>...</td>\n",
       "      <td>0.00185</td>\n",
       "      <td>-0.00153</td>\n",
       "      <td>0.00020</td>\n",
       "      <td>0.00113</td>\n",
       "      <td>-0.00187</td>\n",
       "      <td>-0.00012</td>\n",
       "      <td>-0.00063</td>\n",
       "      <td>0.00039</td>\n",
       "      <td>0.00031</td>\n",
       "      <td>-0.00042</td>\n",
       "    </tr>\n",
       "    <tr>\n",
       "      <th>2</th>\n",
       "      <td>1.45484</td>\n",
       "      <td>0.27376</td>\n",
       "      <td>0.61462</td>\n",
       "      <td>1.11739</td>\n",
       "      <td>-0.18863</td>\n",
       "      <td>0.99404</td>\n",
       "      <td>-0.60908</td>\n",
       "      <td>0.30704</td>\n",
       "      <td>-0.95501</td>\n",
       "      <td>0.31068</td>\n",
       "      <td>...</td>\n",
       "      <td>-0.02142</td>\n",
       "      <td>0.02059</td>\n",
       "      <td>-0.01106</td>\n",
       "      <td>-0.01845</td>\n",
       "      <td>-0.05178</td>\n",
       "      <td>0.05630</td>\n",
       "      <td>0.16094</td>\n",
       "      <td>0.05353</td>\n",
       "      <td>0.81113</td>\n",
       "      <td>0.01238</td>\n",
       "    </tr>\n",
       "    <tr>\n",
       "      <th>3</th>\n",
       "      <td>0.40347</td>\n",
       "      <td>0.34199</td>\n",
       "      <td>0.39126</td>\n",
       "      <td>1.23689</td>\n",
       "      <td>0.15222</td>\n",
       "      <td>0.11249</td>\n",
       "      <td>-1.34463</td>\n",
       "      <td>0.57393</td>\n",
       "      <td>-0.03628</td>\n",
       "      <td>0.29777</td>\n",
       "      <td>...</td>\n",
       "      <td>-0.03021</td>\n",
       "      <td>0.12280</td>\n",
       "      <td>0.02022</td>\n",
       "      <td>-0.21822</td>\n",
       "      <td>-0.13829</td>\n",
       "      <td>-0.00963</td>\n",
       "      <td>-0.04205</td>\n",
       "      <td>-0.03860</td>\n",
       "      <td>0.00298</td>\n",
       "      <td>-0.01921</td>\n",
       "    </tr>\n",
       "    <tr>\n",
       "      <th>4</th>\n",
       "      <td>1.38953</td>\n",
       "      <td>-0.49954</td>\n",
       "      <td>-1.18172</td>\n",
       "      <td>-0.40387</td>\n",
       "      <td>0.50083</td>\n",
       "      <td>0.22457</td>\n",
       "      <td>-0.32541</td>\n",
       "      <td>0.16777</td>\n",
       "      <td>-0.22598</td>\n",
       "      <td>-0.11332</td>\n",
       "      <td>...</td>\n",
       "      <td>0.00106</td>\n",
       "      <td>0.00211</td>\n",
       "      <td>-0.00354</td>\n",
       "      <td>0.00223</td>\n",
       "      <td>0.00390</td>\n",
       "      <td>0.00096</td>\n",
       "      <td>-0.00244</td>\n",
       "      <td>-0.00256</td>\n",
       "      <td>-0.00357</td>\n",
       "      <td>0.00591</td>\n",
       "    </tr>\n",
       "  </tbody>\n",
       "</table>\n",
       "<p>5 rows × 100 columns</p>\n",
       "</div>"
      ],
      "text/plain": [
       "   component_1  component_2  component_3  component_4  component_5  \\\n",
       "0      1.48661     -0.34009      0.16087     -0.34091     -0.67235   \n",
       "1      0.18786      1.14312     -0.17750     -0.38777     -0.16901   \n",
       "2      1.45484      0.27376      0.61462      1.11739     -0.18863   \n",
       "3      0.40347      0.34199      0.39126      1.23689      0.15222   \n",
       "4      1.38953     -0.49954     -1.18172     -0.40387      0.50083   \n",
       "\n",
       "   component_6  component_7  component_8  component_9  component_10  ...  \\\n",
       "0      0.69349      0.28318      0.22153      0.50534       0.31579  ...   \n",
       "1     -0.24148      0.06395      0.39736     -0.04639       0.01479  ...   \n",
       "2      0.99404     -0.60908      0.30704     -0.95501       0.31068  ...   \n",
       "3      0.11249     -1.34463      0.57393     -0.03628       0.29777  ...   \n",
       "4      0.22457     -0.32541      0.16777     -0.22598      -0.11332  ...   \n",
       "\n",
       "   component_91  component_92  component_93  component_94  component_95  \\\n",
       "0      -0.00646      -0.01787       0.00066      -0.00052       0.00786   \n",
       "1       0.00185      -0.00153       0.00020       0.00113      -0.00187   \n",
       "2      -0.02142       0.02059      -0.01106      -0.01845      -0.05178   \n",
       "3      -0.03021       0.12280       0.02022      -0.21822      -0.13829   \n",
       "4       0.00106       0.00211      -0.00354       0.00223       0.00390   \n",
       "\n",
       "   component_96  component_97  component_98  component_99  component_100  \n",
       "0       0.00363       0.01056       0.00125      -0.00676        0.00003  \n",
       "1      -0.00012      -0.00063       0.00039       0.00031       -0.00042  \n",
       "2       0.05630       0.16094       0.05353       0.81113        0.01238  \n",
       "3      -0.00963      -0.04205      -0.03860       0.00298       -0.01921  \n",
       "4       0.00096      -0.00244      -0.00256      -0.00357        0.00591  \n",
       "\n",
       "[5 rows x 100 columns]"
      ]
     },
     "execution_count": 19,
     "metadata": {},
     "output_type": "execute_result"
    }
   ],
   "source": [
    "Vt = pd.DataFrame(doc_topic.round(5),\n",
    "             index = clean_cuisines.index,\n",
    "             columns = ['component_' + str(i + 1) for i in range(num_components)])\n",
    "Vt.head()"
   ]
  },
  {
   "cell_type": "markdown",
   "metadata": {},
   "source": [
    "<a class=\"anchor\" id=\"lsa_dishes\"></a>"
   ]
  },
  {
   "cell_type": "markdown",
   "metadata": {},
   "source": [
    "## Exploring LSA - Dishes"
   ]
  },
  {
   "cell_type": "markdown",
   "metadata": {},
   "source": [
    "[Table of Contents](#toc)"
   ]
  },
  {
   "cell_type": "code",
   "execution_count": 4,
   "metadata": {},
   "outputs": [],
   "source": [
    "dishes = joined_df['dish_compound']"
   ]
  },
  {
   "cell_type": "code",
   "execution_count": 5,
   "metadata": {},
   "outputs": [],
   "source": [
    "vectorizer = CountVectorizer()\n",
    "dishes_v = vectorizer.fit_transform(dishes)\n",
    "\n",
    "# getting doc topic term for dishes\n",
    "doc_term_dish = pd.DataFrame(dishes_v.toarray(),columns=vectorizer.get_feature_names())"
   ]
  },
  {
   "cell_type": "code",
   "execution_count": 6,
   "metadata": {},
   "outputs": [],
   "source": [
    "vectorizer = TfidfVectorizer()\n",
    "dishes_v = vectorizer.fit_transform(dishes)\n",
    "\n",
    "doc_term_dish = pd.DataFrame(dishes_v.toarray(),columns=vectorizer.get_feature_names())"
   ]
  },
  {
   "cell_type": "code",
   "execution_count": 7,
   "metadata": {},
   "outputs": [
    {
     "data": {
      "text/plain": [
       "(28436, 2239)"
      ]
     },
     "execution_count": 7,
     "metadata": {},
     "output_type": "execute_result"
    }
   ],
   "source": [
    "doc_term_dish.shape"
   ]
  },
  {
   "cell_type": "code",
   "execution_count": 8,
   "metadata": {},
   "outputs": [],
   "source": [
    "num_components = 200\n",
    "lsa = TruncatedSVD(num_components)\n",
    "doc_topic = lsa.fit_transform(doc_term_dish)\n",
    "\n",
    "lsa_score_dish = defaultdict(int)\n",
    "\n",
    "# lsa_score = defaultdic(int)\n",
    "lsa_score_dish[0] = lsa.explained_variance_ratio_[0]\n",
    "\n",
    "for i in range(1,num_components):\n",
    "    lsa_score_dish[i] = lsa.explained_variance_ratio_[i] + lsa_score_dish[i-1]"
   ]
  },
  {
   "cell_type": "code",
   "execution_count": 9,
   "metadata": {
    "scrolled": false
   },
   "outputs": [
    {
     "data": {
      "text/plain": [
       "[<matplotlib.lines.Line2D at 0x7f8591c78b90>]"
      ]
     },
     "execution_count": 9,
     "metadata": {},
     "output_type": "execute_result"
    },
    {
     "data": {
      "image/png": "[encoded data removed]",
      "text/plain": [
       "<Figure size 432x288 with 1 Axes>"
      ]
     },
     "metadata": {
      "needs_background": "light"
     },
     "output_type": "display_data"
    }
   ],
   "source": [
    "plt.plot(list(lsa_score_dish.values()))\n"
   ]
  },
  {
   "cell_type": "code",
   "execution_count": 10,
   "metadata": {},
   "outputs": [
    {
     "data": {
      "text/plain": [
       "0.396388948983626"
      ]
     },
     "execution_count": 10,
     "metadata": {},
     "output_type": "execute_result"
    }
   ],
   "source": [
    "# similarly, looks like components up to 23 explains quite a bit!\n",
    "lsa_score_dish[23]"
   ]
  },
  {
   "cell_type": "code",
   "execution_count": 11,
   "metadata": {
    "scrolled": false
   },
   "outputs": [],
   "source": [
    "# display_topics(lsa, vectorizer.get_feature_names(), 5)"
   ]
  },
  {
   "cell_type": "markdown",
   "metadata": {},
   "source": [
    "<a class=\"anchor\" id=\"lda_cuisines\"></a>"
   ]
  },
  {
   "cell_type": "markdown",
   "metadata": {},
   "source": [
    "### LDA - cuisines"
   ]
  },
  {
   "cell_type": "markdown",
   "metadata": {},
   "source": [
    "[Table of Contents](#toc)"
   ]
  },
  {
   "cell_type": "code",
   "execution_count": 107,
   "metadata": {},
   "outputs": [],
   "source": [
    "lda_cuisines = []\n",
    "for i in joined_df['cuisines']:\n",
    "    p = str(i.replace(\"', '\",\",\").replace(\" \",\"_\")).replace(\"['\",\"\").replace(\"']\",\"\")\n",
    "    p = p.split(\",\")\n",
    "    lda_cuisines.append(p)"
   ]
  },
  {
   "cell_type": "code",
   "execution_count": 108,
   "metadata": {},
   "outputs": [
    {
     "data": {
      "text/plain": [
       "['Asian', 'Sushi', 'Thai']"
      ]
     },
     "execution_count": 108,
     "metadata": {},
     "output_type": "execute_result"
    }
   ],
   "source": [
    "lda_cuisines[1]"
   ]
  },
  {
   "cell_type": "code",
   "execution_count": 109,
   "metadata": {},
   "outputs": [],
   "source": [
    "id2word = corpora.Dictionary(lda_cuisines)\n",
    "\n",
    "corpus = [id2word.doc2bow(text) for text in lda_cuisines]"
   ]
  },
  {
   "cell_type": "code",
   "execution_count": 110,
   "metadata": {},
   "outputs": [],
   "source": [
    "lda = models.LdaModel(corpus=corpus, num_topics=30, id2word=id2word, random_state=12)"
   ]
  },
  {
   "cell_type": "code",
   "execution_count": 111,
   "metadata": {},
   "outputs": [
    {
     "data": {
      "text/plain": [
       "<gensim.interfaces.TransformedCorpus object at 0x7f858f73a550>"
      ]
     },
     "execution_count": 111,
     "metadata": {},
     "output_type": "execute_result"
    }
   ],
   "source": [
    "lda_corpus = lda[corpus]\n",
    "lda_corpus"
   ]
  },
  {
   "cell_type": "code",
   "execution_count": 112,
   "metadata": {},
   "outputs": [],
   "source": [
    "lda_docs = [doc for doc in lda_corpus]"
   ]
  },
  {
   "cell_type": "code",
   "execution_count": 171,
   "metadata": {},
   "outputs": [
    {
     "name": "stdout",
     "output_type": "stream",
     "text": [
      "\n",
      "Perplexity:  -4.709618866771708\n"
     ]
    }
   ],
   "source": [
    "# Compute Perplexity\n",
    "print('\\nPerplexity: ', lda.log_perplexity(corpus))  # a measure of how good the model is. lower is better"
   ]
  },
  {
   "cell_type": "code",
   "execution_count": 172,
   "metadata": {},
   "outputs": [
    {
     "name": "stdout",
     "output_type": "stream",
     "text": [
      "\n",
      "Coherence Score:  0.40737849809790433\n"
     ]
    }
   ],
   "source": [
    "# Compute Coherence Score\n",
    "coherence_model_lda = CoherenceModel(model=lda, texts=lda_cuisines, dictionary=id2word, coherence='c_v')\n",
    "coherence_lda = coherence_model_lda.get_coherence()\n",
    "print('\\nCoherence Score: ', coherence_lda)"
   ]
  },
  {
   "cell_type": "code",
   "execution_count": 173,
   "metadata": {},
   "outputs": [
    {
     "name": "stderr",
     "output_type": "stream",
     "text": [
      "/home/ubuntu/anaconda3/lib/python3.7/site-packages/pyLDAvis/_prepare.py:257: FutureWarning: Sorting because non-concatenation axis is not aligned. A future version\n",
      "of pandas will change to not sort by default.\n",
      "\n",
      "To accept the future behavior, pass 'sort=False'.\n",
      "\n",
      "To retain the current behavior and silence the warning, pass 'sort=True'.\n",
      "\n",
      "  return pd.concat([default_term_info] + list(topic_dfs))\n"
     ]
    },
    {
     "data": {
      "text/html": [
       "\n",
       "<link rel=\"stylesheet\" type=\"text/css\" href=\"https://cdn.rawgit.com/bmabey/pyLDAvis/files/ldavis.v1.0.0.css\">\n",
       "\n",
       "\n",
       "<div id=\"ldavis_el319441399667130025764438658063\"></div>\n",
       "<script type=\"text/javascript\">\n",
       "\n",
       "var ldavis_el319441399667130025764438658063_data = {\"mdsDat\": {\"x\": [-0.3945103979314527, 0.1355705209117018, 0.22626823393381637, 0.2477383743435281, -0.11599637399581339, -0.32936965409849006, 0.15510164466234622, 0.19473143405223067, 0.08326660624596456, 0.07033256929813898, -0.25736799640398605, 0.06485439003177279, 0.09027386269669357, 0.18281003406775062, 0.014433116321582489, 0.05698589899783909, 0.11736732269581042, -0.161251419759666, 0.04986203872134843, -0.310441892274275, 0.13035749987299805, 0.0559553684346625, -0.27220855381026887, 0.10682238984818795, 0.17958877458462955, 0.02861238226878561, 0.15405712240438388, 0.08794018641446454, -0.27594511473819683, -0.3158383677964873], \"y\": [-0.020912624496436487, 0.252272059791276, 0.15591927449736992, 0.02197577677766711, 0.07573152279963656, 0.003993728524785714, 0.2478799353042118, -0.11377081677751992, 0.12041795412981586, 0.1201990046082222, 0.0675019079008438, -0.20451184866444647, -0.053323319118130284, -0.05779278746548576, 0.17900277353599225, -0.26259751822041816, -0.16851272744864185, -0.055072162116287564, -0.22993792724976994, 0.0770196724318457, -0.04613415596728741, -0.21449083670912827, -0.013363735508787864, 0.059685271487092864, 0.035598944383808936, -0.052945331233912804, 0.0880546525325372, -0.04493521888219213, 0.01929309633914216, 0.013755434814197715], \"topics\": [1, 2, 3, 4, 5, 6, 7, 8, 9, 10, 11, 12, 13, 14, 15, 16, 17, 18, 19, 20, 21, 22, 23, 24, 25, 26, 27, 28, 29, 30], \"cluster\": [1, 1, 1, 1, 1, 1, 1, 1, 1, 1, 1, 1, 1, 1, 1, 1, 1, 1, 1, 1, 1, 1, 1, 1, 1, 1, 1, 1, 1, 1], \"Freq\": [7.0748114585876465, 6.985334396362305, 5.924226760864258, 5.43379545211792, 5.146610736846924, 5.138105392456055, 5.003363132476807, 4.178836345672607, 4.095394134521484, 4.013516426086426, 3.8156707286834717, 3.8110010623931885, 3.6997365951538086, 3.432030200958252, 3.1947402954101562, 3.054046869277954, 2.8581464290618896, 2.687774896621704, 2.2816061973571777, 2.2395248413085938, 2.1943070888519287, 1.7860323190689087, 1.7049143314361572, 1.66018807888031, 1.5720391273498535, 1.5558134317398071, 1.5113224983215332, 1.403291940689087, 1.3819516897201538, 1.1618727445602417]}, \"tinfo\": {\"Category\": [\"Default\", \"Default\", \"Default\", \"Default\", \"Default\", \"Default\", \"Default\", \"Default\", \"Default\", \"Default\", \"Default\", \"Default\", \"Default\", \"Default\", \"Default\", \"Default\", \"Default\", \"Default\", \"Default\", \"Default\", \"Default\", \"Default\", \"Default\", \"Default\", \"Default\", \"Default\", \"Default\", \"Default\", \"Default\", \"Default\", \"Topic1\", \"Topic1\", \"Topic1\", \"Topic1\", \"Topic1\", \"Topic1\", \"Topic1\", \"Topic1\", \"Topic1\", \"Topic1\", \"Topic1\", \"Topic1\", \"Topic1\", \"Topic1\", \"Topic1\", \"Topic1\", \"Topic1\", \"Topic1\", \"Topic1\", \"Topic1\", \"Topic1\", \"Topic1\", \"Topic1\", \"Topic1\", \"Topic1\", \"Topic1\", \"Topic1\", \"Topic1\", \"Topic1\", \"Topic1\", \"Topic1\", \"Topic1\", \"Topic1\", \"Topic1\", \"Topic1\", \"Topic1\", \"Topic1\", \"Topic1\", \"Topic1\", \"Topic1\", \"Topic1\", \"Topic1\", \"Topic1\", \"Topic1\", \"Topic1\", \"Topic1\", \"Topic1\", \"Topic1\", \"Topic1\", \"Topic1\", \"Topic1\", \"Topic1\", \"Topic1\", \"Topic1\", \"Topic1\", \"Topic1\", \"Topic1\", \"Topic1\", \"Topic1\", \"Topic1\", \"Topic1\", \"Topic1\", \"Topic2\", \"Topic2\", \"Topic2\", \"Topic2\", \"Topic2\", \"Topic2\", \"Topic2\", \"Topic2\", \"Topic2\", \"Topic2\", \"Topic2\", \"Topic2\", \"Topic2\", \"Topic2\", \"Topic2\", \"Topic2\", \"Topic2\", \"Topic2\", \"Topic2\", \"Topic2\", \"Topic2\", \"Topic2\", \"Topic2\", \"Topic2\", \"Topic2\", \"Topic2\", \"Topic2\", \"Topic2\", \"Topic2\", \"Topic2\", \"Topic2\", \"Topic2\", \"Topic2\", \"Topic2\", \"Topic2\", \"Topic2\", \"Topic2\", \"Topic2\", \"Topic2\", \"Topic2\", \"Topic2\", \"Topic2\", \"Topic2\", \"Topic2\", \"Topic2\", \"Topic2\", \"Topic2\", \"Topic2\", \"Topic2\", \"Topic2\", \"Topic2\", \"Topic2\", \"Topic2\", \"Topic2\", \"Topic2\", \"Topic2\", \"Topic2\", \"Topic3\", \"Topic3\", \"Topic3\", \"Topic3\", \"Topic3\", \"Topic3\", \"Topic3\", \"Topic3\", \"Topic3\", \"Topic3\", \"Topic3\", \"Topic3\", \"Topic3\", \"Topic3\", \"Topic3\", \"Topic3\", \"Topic3\", \"Topic3\", \"Topic3\", \"Topic3\", \"Topic3\", \"Topic3\", \"Topic3\", \"Topic3\", \"Topic3\", \"Topic3\", \"Topic3\", \"Topic3\", \"Topic3\", \"Topic3\", \"Topic3\", \"Topic3\", \"Topic3\", \"Topic3\", \"Topic3\", \"Topic3\", \"Topic3\", \"Topic3\", \"Topic3\", \"Topic3\", \"Topic3\", \"Topic3\", \"Topic3\", \"Topic3\", \"Topic3\", \"Topic3\", \"Topic3\", \"Topic3\", \"Topic3\", \"Topic3\", \"Topic3\", \"Topic4\", \"Topic4\", \"Topic4\", \"Topic4\", \"Topic4\", \"Topic4\", \"Topic4\", \"Topic4\", \"Topic4\", \"Topic4\", \"Topic4\", \"Topic4\", \"Topic4\", \"Topic4\", \"Topic4\", \"Topic4\", \"Topic4\", \"Topic4\", \"Topic4\", \"Topic4\", \"Topic4\", \"Topic4\", \"Topic4\", \"Topic4\", \"Topic4\", \"Topic4\", \"Topic4\", \"Topic4\", \"Topic4\", \"Topic4\", \"Topic4\", \"Topic4\", \"Topic4\", \"Topic4\", \"Topic4\", \"Topic4\", \"Topic4\", \"Topic4\", \"Topic4\", \"Topic4\", \"Topic4\", \"Topic4\", \"Topic4\", \"Topic4\", \"Topic4\", \"Topic4\", \"Topic4\", \"Topic4\", \"Topic4\", \"Topic5\", \"Topic5\", \"Topic5\", \"Topic5\", \"Topic5\", \"Topic5\", \"Topic5\", \"Topic5\", \"Topic5\", \"Topic5\", \"Topic5\", \"Topic5\", \"Topic5\", \"Topic5\", \"Topic5\", \"Topic5\", \"Topic5\", \"Topic5\", \"Topic5\", \"Topic5\", \"Topic5\", \"Topic5\", \"Topic5\", \"Topic5\", \"Topic5\", \"Topic5\", \"Topic5\", \"Topic5\", \"Topic5\", \"Topic5\", \"Topic5\", \"Topic5\", \"Topic5\", \"Topic5\", \"Topic5\", \"Topic5\", \"Topic5\", \"Topic5\", \"Topic5\", \"Topic5\", \"Topic5\", \"Topic5\", \"Topic5\", \"Topic5\", \"Topic5\", \"Topic5\", \"Topic5\", \"Topic5\", \"Topic5\", \"Topic5\", \"Topic5\", \"Topic5\", \"Topic5\", \"Topic5\", \"Topic5\", \"Topic5\", \"Topic5\", \"Topic5\", \"Topic5\", \"Topic6\", \"Topic6\", \"Topic6\", \"Topic6\", \"Topic6\", \"Topic6\", \"Topic6\", \"Topic6\", \"Topic6\", \"Topic6\", \"Topic6\", \"Topic6\", \"Topic6\", \"Topic6\", \"Topic6\", \"Topic6\", \"Topic6\", \"Topic6\", \"Topic6\", \"Topic6\", \"Topic6\", \"Topic6\", \"Topic6\", \"Topic6\", \"Topic6\", \"Topic6\", \"Topic6\", \"Topic6\", \"Topic6\", \"Topic6\", \"Topic6\", \"Topic6\", \"Topic6\", \"Topic6\", \"Topic6\", \"Topic6\", \"Topic6\", \"Topic6\", \"Topic6\", \"Topic6\", \"Topic6\", \"Topic6\", \"Topic6\", \"Topic6\", \"Topic6\", \"Topic6\", \"Topic6\", \"Topic6\", \"Topic6\", \"Topic6\", \"Topic6\", \"Topic6\", \"Topic6\", \"Topic6\", \"Topic6\", \"Topic6\", \"Topic6\", \"Topic6\", \"Topic6\", \"Topic6\", \"Topic6\", \"Topic6\", \"Topic6\", \"Topic6\", \"Topic6\", \"Topic6\", \"Topic7\", \"Topic7\", \"Topic7\", \"Topic7\", \"Topic7\", \"Topic7\", \"Topic7\", \"Topic7\", \"Topic7\", \"Topic7\", \"Topic7\", \"Topic7\", \"Topic7\", \"Topic7\", \"Topic7\", \"Topic7\", \"Topic7\", \"Topic7\", \"Topic7\", \"Topic7\", \"Topic7\", \"Topic7\", \"Topic7\", \"Topic7\", \"Topic7\", \"Topic7\", \"Topic7\", \"Topic7\", \"Topic7\", \"Topic7\", \"Topic7\", \"Topic7\", \"Topic7\", \"Topic7\", \"Topic7\", \"Topic7\", \"Topic7\", \"Topic7\", \"Topic7\", \"Topic7\", \"Topic7\", \"Topic7\", \"Topic7\", \"Topic7\", \"Topic7\", \"Topic7\", \"Topic7\", \"Topic7\", \"Topic7\", \"Topic7\", \"Topic7\", \"Topic7\", \"Topic7\", \"Topic7\", \"Topic7\", \"Topic7\", \"Topic7\", \"Topic7\", \"Topic7\", \"Topic7\", \"Topic7\", \"Topic7\", \"Topic7\", \"Topic7\", \"Topic7\", \"Topic8\", \"Topic8\", \"Topic8\", \"Topic8\", \"Topic8\", \"Topic8\", \"Topic8\", \"Topic8\", \"Topic8\", \"Topic8\", \"Topic8\", \"Topic8\", \"Topic8\", \"Topic8\", \"Topic8\", \"Topic8\", \"Topic8\", \"Topic8\", \"Topic8\", \"Topic8\", \"Topic8\", \"Topic8\", \"Topic8\", \"Topic8\", \"Topic8\", \"Topic8\", \"Topic8\", \"Topic8\", \"Topic8\", \"Topic8\", \"Topic8\", \"Topic8\", \"Topic8\", \"Topic8\", \"Topic8\", \"Topic8\", \"Topic8\", \"Topic8\", \"Topic8\", \"Topic8\", \"Topic8\", \"Topic8\", \"Topic8\", \"Topic8\", \"Topic8\", \"Topic8\", \"Topic8\", \"Topic8\", \"Topic8\", \"Topic8\", \"Topic8\", \"Topic8\", \"Topic8\", \"Topic8\", \"Topic8\", \"Topic8\", \"Topic8\", \"Topic8\", \"Topic9\", \"Topic9\", \"Topic9\", \"Topic9\", \"Topic9\", \"Topic9\", \"Topic9\", \"Topic9\", \"Topic9\", \"Topic9\", \"Topic9\", \"Topic9\", \"Topic9\", \"Topic9\", \"Topic9\", \"Topic9\", \"Topic9\", \"Topic9\", \"Topic9\", \"Topic9\", \"Topic9\", \"Topic9\", \"Topic9\", \"Topic9\", \"Topic9\", \"Topic9\", \"Topic9\", \"Topic9\", \"Topic9\", \"Topic9\", \"Topic9\", \"Topic9\", \"Topic9\", \"Topic9\", \"Topic9\", \"Topic9\", \"Topic9\", \"Topic9\", \"Topic9\", \"Topic9\", \"Topic9\", \"Topic9\", \"Topic9\", \"Topic9\", \"Topic9\", \"Topic9\", \"Topic9\", \"Topic9\", \"Topic9\", \"Topic9\", \"Topic9\", \"Topic9\", \"Topic9\", \"Topic9\", \"Topic9\", \"Topic9\", \"Topic10\", \"Topic10\", \"Topic10\", \"Topic10\", \"Topic10\", \"Topic10\", \"Topic10\", \"Topic10\", \"Topic10\", \"Topic10\", \"Topic10\", \"Topic10\", \"Topic10\", \"Topic10\", \"Topic10\", \"Topic10\", \"Topic10\", \"Topic10\", \"Topic10\", \"Topic10\", \"Topic10\", \"Topic10\", \"Topic10\", \"Topic10\", \"Topic10\", \"Topic10\", \"Topic10\", \"Topic10\", \"Topic10\", \"Topic10\", \"Topic10\", \"Topic10\", \"Topic10\", \"Topic10\", \"Topic10\", \"Topic10\", \"Topic10\", \"Topic10\", \"Topic10\", \"Topic10\", \"Topic10\", \"Topic10\", \"Topic10\", \"Topic10\", \"Topic10\", \"Topic10\", \"Topic10\", \"Topic10\", \"Topic10\", \"Topic10\", \"Topic10\", \"Topic10\", \"Topic10\", \"Topic10\", \"Topic10\", \"Topic10\", \"Topic10\", \"Topic10\", \"Topic10\", \"Topic10\", \"Topic10\", \"Topic10\", \"Topic10\", \"Topic10\", \"Topic11\", \"Topic11\", \"Topic11\", \"Topic11\", \"Topic11\", \"Topic11\", \"Topic11\", \"Topic11\", \"Topic11\", \"Topic11\", \"Topic11\", \"Topic11\", \"Topic11\", \"Topic11\", \"Topic11\", \"Topic11\", \"Topic11\", \"Topic11\", \"Topic11\", \"Topic11\", \"Topic11\", \"Topic11\", \"Topic11\", \"Topic11\", \"Topic11\", \"Topic11\", \"Topic11\", \"Topic11\", \"Topic11\", \"Topic11\", \"Topic11\", \"Topic11\", \"Topic11\", \"Topic11\", \"Topic11\", \"Topic11\", \"Topic11\", \"Topic11\", \"Topic11\", \"Topic11\", \"Topic11\", \"Topic11\", \"Topic11\", \"Topic11\", \"Topic11\", \"Topic11\", \"Topic11\", \"Topic11\", \"Topic11\", \"Topic11\", \"Topic11\", \"Topic11\", \"Topic11\", \"Topic11\", \"Topic11\", \"Topic11\", \"Topic11\", \"Topic11\", \"Topic11\", \"Topic12\", \"Topic12\", \"Topic12\", \"Topic12\", \"Topic12\", \"Topic12\", \"Topic12\", \"Topic12\", \"Topic12\", \"Topic12\", \"Topic12\", \"Topic12\", \"Topic12\", \"Topic12\", \"Topic12\", \"Topic12\", \"Topic12\", \"Topic12\", \"Topic12\", \"Topic12\", \"Topic12\", \"Topic12\", \"Topic12\", \"Topic12\", \"Topic12\", \"Topic12\", \"Topic12\", \"Topic12\", \"Topic12\", \"Topic12\", \"Topic12\", \"Topic12\", \"Topic12\", \"Topic12\", \"Topic12\", \"Topic12\", \"Topic12\", \"Topic12\", \"Topic12\", \"Topic12\", \"Topic12\", \"Topic12\", \"Topic12\", \"Topic12\", \"Topic12\", \"Topic12\", \"Topic12\", \"Topic12\", \"Topic12\", \"Topic12\", \"Topic12\", \"Topic12\", \"Topic12\", \"Topic12\", \"Topic12\", \"Topic12\", \"Topic12\", \"Topic13\", \"Topic13\", \"Topic13\", \"Topic13\", \"Topic13\", \"Topic13\", \"Topic13\", \"Topic13\", \"Topic13\", \"Topic13\", \"Topic13\", \"Topic13\", \"Topic13\", \"Topic13\", \"Topic13\", \"Topic13\", \"Topic13\", \"Topic13\", \"Topic13\", \"Topic13\", \"Topic13\", \"Topic13\", \"Topic13\", \"Topic13\", \"Topic13\", \"Topic13\", \"Topic13\", \"Topic13\", \"Topic13\", \"Topic13\", \"Topic13\", \"Topic13\", \"Topic13\", \"Topic13\", \"Topic13\", \"Topic13\", \"Topic13\", \"Topic13\", \"Topic13\", \"Topic13\", \"Topic13\", \"Topic13\", \"Topic13\", \"Topic13\", \"Topic13\", \"Topic13\", \"Topic13\", \"Topic13\", \"Topic13\", \"Topic13\", \"Topic13\", \"Topic13\", \"Topic13\", \"Topic13\", \"Topic13\", \"Topic14\", \"Topic14\", \"Topic14\", \"Topic14\", \"Topic14\", \"Topic14\", \"Topic14\", \"Topic14\", \"Topic14\", \"Topic14\", \"Topic14\", \"Topic14\", \"Topic14\", \"Topic14\", \"Topic14\", \"Topic14\", \"Topic14\", \"Topic14\", \"Topic14\", \"Topic14\", \"Topic14\", \"Topic14\", \"Topic14\", \"Topic14\", \"Topic14\", \"Topic14\", \"Topic14\", \"Topic14\", \"Topic14\", \"Topic14\", \"Topic14\", \"Topic14\", \"Topic14\", \"Topic14\", \"Topic14\", \"Topic14\", \"Topic14\", \"Topic14\", \"Topic14\", \"Topic14\", \"Topic14\", \"Topic14\", \"Topic14\", \"Topic14\", \"Topic14\", \"Topic14\", \"Topic14\", \"Topic14\", \"Topic14\", \"Topic14\", \"Topic14\", \"Topic14\", \"Topic14\", \"Topic14\", \"Topic14\", \"Topic14\", \"Topic14\", \"Topic14\", \"Topic14\", \"Topic14\", \"Topic14\", \"Topic14\", \"Topic14\", \"Topic14\", \"Topic15\", \"Topic15\", \"Topic15\", \"Topic15\", \"Topic15\", \"Topic15\", \"Topic15\", \"Topic15\", \"Topic15\", \"Topic15\", \"Topic15\", \"Topic15\", \"Topic15\", \"Topic15\", \"Topic15\", \"Topic15\", \"Topic15\", \"Topic15\", \"Topic15\", \"Topic15\", \"Topic15\", \"Topic15\", \"Topic15\", \"Topic15\", \"Topic15\", \"Topic15\", \"Topic15\", \"Topic15\", \"Topic15\", \"Topic15\", \"Topic15\", \"Topic15\", \"Topic15\", \"Topic15\", \"Topic15\", \"Topic15\", \"Topic15\", \"Topic15\", \"Topic15\", \"Topic15\", \"Topic15\", \"Topic15\", \"Topic15\", \"Topic15\", \"Topic15\", \"Topic15\", \"Topic15\", \"Topic15\", \"Topic15\", \"Topic15\", \"Topic15\", \"Topic15\", \"Topic15\", \"Topic15\", \"Topic15\", \"Topic15\", \"Topic15\", \"Topic15\", \"Topic15\", \"Topic15\", \"Topic15\", \"Topic15\", \"Topic16\", \"Topic16\", \"Topic16\", \"Topic16\", \"Topic16\", \"Topic16\", \"Topic16\", \"Topic16\", \"Topic16\", \"Topic16\", \"Topic16\", \"Topic16\", \"Topic16\", \"Topic16\", \"Topic16\", \"Topic16\", \"Topic16\", \"Topic16\", \"Topic16\", \"Topic16\", \"Topic16\", \"Topic16\", \"Topic16\", \"Topic16\", \"Topic16\", \"Topic16\", \"Topic16\", \"Topic16\", \"Topic16\", \"Topic16\", \"Topic16\", \"Topic16\", \"Topic16\", \"Topic16\", \"Topic16\", \"Topic16\", \"Topic16\", \"Topic16\", \"Topic16\", \"Topic16\", \"Topic16\", \"Topic16\", \"Topic16\", \"Topic16\", \"Topic16\", \"Topic16\", \"Topic16\", \"Topic16\", \"Topic16\", \"Topic16\", \"Topic16\", \"Topic16\", \"Topic16\", \"Topic16\", \"Topic16\", \"Topic16\", \"Topic16\", \"Topic16\", \"Topic16\", \"Topic16\", \"Topic16\", \"Topic17\", \"Topic17\", \"Topic17\", \"Topic17\", \"Topic17\", \"Topic17\", \"Topic17\", \"Topic17\", \"Topic17\", \"Topic17\", \"Topic17\", \"Topic17\", \"Topic17\", \"Topic17\", \"Topic17\", \"Topic17\", \"Topic17\", \"Topic17\", \"Topic17\", \"Topic17\", \"Topic17\", \"Topic17\", \"Topic17\", \"Topic17\", \"Topic17\", \"Topic17\", \"Topic17\", \"Topic17\", \"Topic17\", \"Topic17\", \"Topic17\", \"Topic17\", \"Topic17\", \"Topic17\", \"Topic17\", \"Topic17\", \"Topic17\", \"Topic17\", \"Topic17\", \"Topic17\", \"Topic17\", \"Topic17\", \"Topic17\", \"Topic17\", \"Topic17\", \"Topic17\", \"Topic17\", \"Topic17\", \"Topic17\", \"Topic17\", \"Topic17\", \"Topic17\", \"Topic17\", \"Topic18\", \"Topic18\", \"Topic18\", \"Topic18\", \"Topic18\", \"Topic18\", \"Topic18\", \"Topic18\", \"Topic18\", \"Topic18\", \"Topic18\", \"Topic18\", \"Topic18\", \"Topic18\", \"Topic18\", \"Topic18\", \"Topic18\", \"Topic18\", \"Topic18\", \"Topic18\", \"Topic18\", \"Topic18\", \"Topic18\", \"Topic18\", \"Topic18\", \"Topic18\", \"Topic18\", \"Topic18\", \"Topic18\", \"Topic18\", \"Topic18\", \"Topic18\", \"Topic18\", \"Topic18\", \"Topic18\", \"Topic18\", \"Topic18\", \"Topic18\", \"Topic18\", \"Topic18\", \"Topic18\", \"Topic18\", \"Topic18\", \"Topic18\", \"Topic18\", \"Topic18\", \"Topic18\", \"Topic18\", \"Topic18\", \"Topic18\", \"Topic18\", \"Topic18\", \"Topic18\", \"Topic18\", \"Topic18\", \"Topic18\", \"Topic18\", \"Topic18\", \"Topic18\", \"Topic18\", \"Topic18\", \"Topic18\", \"Topic18\", \"Topic19\", \"Topic19\", \"Topic19\", \"Topic19\", \"Topic19\", \"Topic19\", \"Topic19\", \"Topic19\", \"Topic19\", \"Topic19\", \"Topic19\", \"Topic19\", \"Topic19\", \"Topic19\", \"Topic19\", \"Topic19\", \"Topic19\", \"Topic19\", \"Topic19\", \"Topic19\", \"Topic19\", \"Topic19\", \"Topic19\", \"Topic19\", \"Topic19\", \"Topic19\", \"Topic19\", \"Topic19\", \"Topic19\", \"Topic19\", \"Topic19\", \"Topic19\", \"Topic19\", \"Topic19\", \"Topic19\", \"Topic19\", \"Topic19\", \"Topic19\", \"Topic19\", \"Topic19\", \"Topic19\", \"Topic19\", \"Topic19\", \"Topic19\", \"Topic19\", \"Topic19\", \"Topic19\", \"Topic19\", \"Topic19\", \"Topic19\", \"Topic19\", \"Topic19\", \"Topic19\", \"Topic19\", \"Topic19\", \"Topic19\", \"Topic19\", \"Topic19\", \"Topic19\", \"Topic19\", \"Topic19\", \"Topic19\", \"Topic19\", \"Topic20\", \"Topic20\", \"Topic20\", \"Topic20\", \"Topic20\", \"Topic20\", \"Topic20\", \"Topic20\", \"Topic20\", \"Topic20\", \"Topic20\", \"Topic20\", \"Topic20\", \"Topic20\", \"Topic20\", \"Topic20\", \"Topic20\", \"Topic20\", \"Topic20\", \"Topic20\", \"Topic20\", \"Topic20\", \"Topic20\", \"Topic20\", \"Topic20\", \"Topic20\", \"Topic20\", \"Topic20\", \"Topic20\", \"Topic20\", \"Topic20\", \"Topic20\", \"Topic20\", \"Topic20\", \"Topic20\", \"Topic20\", \"Topic20\", \"Topic20\", \"Topic20\", \"Topic20\", \"Topic20\", \"Topic20\", \"Topic20\", \"Topic20\", \"Topic20\", \"Topic20\", \"Topic20\", \"Topic20\", \"Topic20\", \"Topic20\", \"Topic20\", \"Topic20\", \"Topic20\", \"Topic20\", \"Topic20\", \"Topic20\", \"Topic20\", \"Topic20\", \"Topic20\", \"Topic20\", \"Topic20\", \"Topic20\", \"Topic20\", \"Topic21\", \"Topic21\", \"Topic21\", \"Topic21\", \"Topic21\", \"Topic21\", \"Topic21\", \"Topic21\", \"Topic21\", \"Topic21\", \"Topic21\", \"Topic21\", \"Topic21\", \"Topic21\", \"Topic21\", \"Topic21\", \"Topic21\", \"Topic21\", \"Topic21\", \"Topic21\", \"Topic21\", \"Topic21\", \"Topic21\", \"Topic21\", \"Topic21\", \"Topic21\", \"Topic21\", \"Topic21\", \"Topic21\", \"Topic21\", \"Topic21\", \"Topic21\", \"Topic21\", \"Topic21\", \"Topic21\", \"Topic21\", \"Topic21\", \"Topic21\", \"Topic21\", \"Topic21\", \"Topic21\", \"Topic21\", \"Topic21\", \"Topic21\", \"Topic21\", \"Topic21\", \"Topic21\", \"Topic21\", \"Topic21\", \"Topic21\", \"Topic21\", \"Topic21\", \"Topic21\", \"Topic21\", \"Topic22\", \"Topic22\", \"Topic22\", \"Topic22\", \"Topic22\", \"Topic22\", \"Topic22\", \"Topic22\", \"Topic22\", \"Topic22\", \"Topic22\", \"Topic22\", \"Topic22\", \"Topic22\", \"Topic22\", \"Topic22\", \"Topic22\", \"Topic22\", \"Topic22\", \"Topic22\", \"Topic22\", \"Topic22\", \"Topic22\", \"Topic22\", \"Topic22\", \"Topic22\", \"Topic22\", \"Topic22\", \"Topic22\", \"Topic22\", \"Topic22\", \"Topic22\", \"Topic22\", \"Topic22\", \"Topic22\", \"Topic22\", \"Topic22\", \"Topic22\", \"Topic22\", \"Topic22\", \"Topic22\", \"Topic22\", \"Topic22\", \"Topic22\", \"Topic22\", \"Topic22\", \"Topic22\", \"Topic22\", \"Topic22\", \"Topic22\", \"Topic22\", \"Topic22\", \"Topic23\", \"Topic23\", \"Topic23\", \"Topic23\", \"Topic23\", \"Topic23\", \"Topic23\", \"Topic23\", \"Topic23\", \"Topic23\", \"Topic23\", \"Topic23\", \"Topic23\", \"Topic23\", \"Topic23\", \"Topic23\", \"Topic23\", \"Topic23\", \"Topic23\", \"Topic23\", \"Topic23\", \"Topic23\", \"Topic23\", \"Topic23\", \"Topic23\", \"Topic23\", \"Topic23\", \"Topic23\", \"Topic23\", \"Topic23\", \"Topic23\", \"Topic23\", \"Topic23\", \"Topic23\", \"Topic23\", \"Topic23\", \"Topic23\", \"Topic23\", \"Topic23\", \"Topic23\", \"Topic23\", \"Topic23\", \"Topic23\", \"Topic23\", \"Topic23\", \"Topic23\", \"Topic23\", \"Topic23\", \"Topic23\", \"Topic23\", \"Topic23\", \"Topic23\", \"Topic23\", \"Topic23\", \"Topic23\", \"Topic23\", \"Topic23\", \"Topic23\", \"Topic23\", \"Topic23\", \"Topic23\", \"Topic24\", \"Topic24\", \"Topic24\", \"Topic24\", \"Topic24\", \"Topic24\", \"Topic24\", \"Topic24\", \"Topic24\", \"Topic24\", \"Topic24\", \"Topic24\", \"Topic24\", \"Topic24\", \"Topic24\", \"Topic24\", \"Topic24\", \"Topic24\", \"Topic24\", \"Topic24\", \"Topic24\", \"Topic24\", \"Topic24\", \"Topic24\", \"Topic24\", \"Topic24\", \"Topic24\", \"Topic24\", \"Topic24\", \"Topic24\", \"Topic24\", \"Topic24\", \"Topic24\", \"Topic24\", \"Topic24\", \"Topic24\", \"Topic24\", \"Topic24\", \"Topic24\", \"Topic24\", \"Topic24\", \"Topic24\", \"Topic24\", \"Topic24\", \"Topic24\", \"Topic24\", \"Topic24\", \"Topic24\", \"Topic24\", \"Topic24\", \"Topic24\", \"Topic24\", \"Topic24\", \"Topic24\", \"Topic24\", \"Topic24\", \"Topic24\", \"Topic24\", \"Topic24\", \"Topic24\", \"Topic24\", \"Topic24\", \"Topic24\", \"Topic24\", \"Topic25\", \"Topic25\", \"Topic25\", \"Topic25\", \"Topic25\", \"Topic25\", \"Topic25\", \"Topic25\", \"Topic25\", \"Topic25\", \"Topic25\", \"Topic25\", \"Topic25\", \"Topic25\", \"Topic25\", \"Topic25\", \"Topic25\", \"Topic25\", \"Topic25\", \"Topic25\", \"Topic25\", \"Topic25\", \"Topic25\", \"Topic25\", \"Topic25\", \"Topic25\", \"Topic25\", \"Topic25\", \"Topic25\", \"Topic25\", \"Topic25\", \"Topic25\", \"Topic25\", \"Topic25\", \"Topic25\", \"Topic25\", \"Topic25\", \"Topic25\", \"Topic25\", \"Topic25\", \"Topic25\", \"Topic25\", \"Topic25\", \"Topic25\", \"Topic25\", \"Topic25\", \"Topic25\", \"Topic25\", \"Topic25\", \"Topic25\", \"Topic25\", \"Topic25\", \"Topic25\", \"Topic25\", \"Topic25\", \"Topic25\", \"Topic25\", \"Topic25\", \"Topic25\", \"Topic25\", \"Topic25\", \"Topic25\", \"Topic25\", \"Topic25\", \"Topic26\", \"Topic26\", \"Topic26\", \"Topic26\", \"Topic26\", \"Topic26\", \"Topic26\", \"Topic26\", \"Topic26\", \"Topic26\", \"Topic26\", \"Topic26\", \"Topic26\", \"Topic26\", \"Topic26\", \"Topic26\", \"Topic26\", \"Topic26\", \"Topic26\", \"Topic26\", \"Topic26\", \"Topic26\", \"Topic26\", \"Topic26\", \"Topic26\", \"Topic26\", \"Topic26\", \"Topic26\", \"Topic26\", \"Topic26\", \"Topic26\", \"Topic26\", \"Topic26\", \"Topic26\", \"Topic26\", \"Topic26\", \"Topic26\", \"Topic26\", \"Topic26\", \"Topic26\", \"Topic26\", \"Topic26\", \"Topic26\", \"Topic26\", \"Topic26\", \"Topic26\", \"Topic26\", \"Topic26\", \"Topic26\", \"Topic26\", \"Topic26\", \"Topic26\", \"Topic26\", \"Topic26\", \"Topic26\", \"Topic26\", \"Topic26\", \"Topic26\", \"Topic26\", \"Topic26\", \"Topic26\", \"Topic26\", \"Topic26\", \"Topic26\", \"Topic26\", \"Topic27\", \"Topic27\", \"Topic27\", \"Topic27\", \"Topic27\", \"Topic27\", \"Topic27\", \"Topic27\", \"Topic27\", \"Topic27\", \"Topic27\", \"Topic27\", \"Topic27\", \"Topic27\", \"Topic27\", \"Topic27\", \"Topic27\", \"Topic27\", \"Topic27\", \"Topic27\", \"Topic27\", \"Topic27\", \"Topic27\", \"Topic27\", \"Topic27\", \"Topic27\", \"Topic27\", \"Topic27\", \"Topic27\", \"Topic27\", \"Topic27\", \"Topic27\", \"Topic27\", \"Topic27\", \"Topic27\", \"Topic27\", \"Topic27\", \"Topic27\", \"Topic27\", \"Topic27\", \"Topic27\", \"Topic27\", \"Topic27\", \"Topic27\", \"Topic27\", \"Topic27\", \"Topic27\", \"Topic27\", \"Topic27\", \"Topic27\", \"Topic27\", \"Topic27\", \"Topic27\", \"Topic27\", \"Topic27\", \"Topic27\", \"Topic27\", \"Topic27\", \"Topic27\", \"Topic27\", \"Topic27\", \"Topic27\", \"Topic27\", \"Topic27\", \"Topic27\", \"Topic28\", \"Topic28\", \"Topic28\", \"Topic28\", \"Topic28\", \"Topic28\", \"Topic28\", \"Topic28\", \"Topic28\", \"Topic28\", \"Topic28\", \"Topic28\", \"Topic28\", \"Topic28\", \"Topic28\", \"Topic28\", \"Topic28\", \"Topic28\", \"Topic28\", \"Topic28\", \"Topic28\", \"Topic28\", \"Topic28\", \"Topic28\", \"Topic28\", \"Topic28\", \"Topic28\", \"Topic28\", \"Topic28\", \"Topic28\", \"Topic28\", \"Topic28\", \"Topic28\", \"Topic28\", \"Topic28\", \"Topic28\", \"Topic28\", \"Topic28\", \"Topic28\", \"Topic28\", \"Topic28\", \"Topic28\", \"Topic28\", \"Topic28\", \"Topic28\", \"Topic28\", \"Topic28\", \"Topic28\", \"Topic28\", \"Topic28\", \"Topic28\", \"Topic28\", \"Topic28\", \"Topic28\", \"Topic28\", \"Topic28\", \"Topic28\", \"Topic28\", \"Topic28\", \"Topic28\", \"Topic28\", \"Topic28\", \"Topic29\", \"Topic29\", \"Topic29\", \"Topic29\", \"Topic29\", \"Topic29\", \"Topic29\", \"Topic29\", \"Topic29\", \"Topic29\", \"Topic29\", \"Topic29\", \"Topic29\", \"Topic29\", \"Topic29\", \"Topic29\", \"Topic29\", \"Topic29\", \"Topic29\", \"Topic29\", \"Topic29\", \"Topic29\", \"Topic29\", \"Topic29\", \"Topic29\", \"Topic29\", \"Topic29\", \"Topic29\", \"Topic29\", \"Topic29\", \"Topic29\", \"Topic29\", \"Topic29\", \"Topic29\", \"Topic29\", \"Topic29\", \"Topic29\", \"Topic29\", \"Topic29\", \"Topic29\", \"Topic29\", \"Topic29\", \"Topic29\", \"Topic29\", \"Topic29\", \"Topic29\", \"Topic29\", \"Topic29\", \"Topic29\", \"Topic29\", \"Topic29\", \"Topic29\", \"Topic29\", \"Topic29\", \"Topic29\", \"Topic29\", \"Topic29\", \"Topic29\", \"Topic29\", \"Topic30\", \"Topic30\", \"Topic30\", \"Topic30\", \"Topic30\", \"Topic30\", \"Topic30\", \"Topic30\", \"Topic30\", \"Topic30\", \"Topic30\", \"Topic30\", \"Topic30\", \"Topic30\", \"Topic30\", \"Topic30\", \"Topic30\", \"Topic30\", \"Topic30\", \"Topic30\", \"Topic30\", \"Topic30\", \"Topic30\", \"Topic30\", \"Topic30\", \"Topic30\", \"Topic30\", \"Topic30\", \"Topic30\", \"Topic30\", \"Topic30\", \"Topic30\", \"Topic30\", \"Topic30\", \"Topic30\", \"Topic30\", \"Topic30\", \"Topic30\", \"Topic30\", \"Topic30\", \"Topic30\", \"Topic30\", \"Topic30\", \"Topic30\", \"Topic30\", \"Topic30\", \"Topic30\", \"Topic30\", \"Topic30\", \"Topic30\", \"Topic30\", \"Topic30\", \"Topic30\", \"Topic30\", \"Topic30\", \"Topic30\", \"Topic30\", \"Topic30\", \"Topic30\", \"Topic30\", \"Topic30\", \"Topic30\", \"Topic30\", \"Topic30\"], \"Freq\": [4304.0, 4998.0, 2549.0, 2365.0, 2059.0, 1637.0, 2228.0, 2230.0, 2630.0, 3117.0, 3614.0, 1848.0, 4653.0, 7902.0, 1890.0, 1633.0, 1362.0, 2303.0, 1348.0, 3270.0, 1368.0, 2433.0, 6218.0, 1294.0, 909.0, 2174.0, 1538.0, 793.0, 1516.0, 907.0, 2295.456787109375, 1273.11376953125, 2567.87451171875, 835.5264282226562, 12.821490287780762, 206.18380737304688, 7.865261554718018, 0.047903597354888916, 0.04790358990430832, 0.04790358990430832, 0.04790358990430832, 0.04790358990430832, 0.04790358990430832, 0.04790358990430832, 0.04790358990430832, 0.04790358990430832, 0.04790358990430832, 0.04790358990430832, 0.04790358990430832, 0.04790358990430832, 0.04790358990430832, 0.04790358990430832, 0.04790358990430832, 0.04790358990430832, 0.04790358990430832, 0.04790358990430832, 0.04790358990430832, 0.04790358990430832, 0.04790358990430832, 0.04790358990430832, 0.04790358990430832, 0.04790358990430832, 0.04790358990430832, 0.04790358990430832, 0.04790358990430832, 5.11546516418457, 0.04790358990430832, 0.04790358990430832, 0.8715032935142517, 0.04790358990430832, 2.879753589630127, 1.0474815368652344, 1.3482458591461182, 1.4154216051101685, 0.8820944428443909, 0.9751118421554565, 0.6666501760482788, 0.44901230931282043, 0.4969382882118225, 0.44165927171707153, 0.43667927384376526, 0.4276680052280426, 0.2024860680103302, 0.22521887719631195, 0.22122614085674286, 0.15235519409179688, 0.12733419239521027, 0.09842803329229355, 0.18957437574863434, 0.13711927831172943, 0.12499555945396423, 0.11332283914089203, 1868.8399658203125, 528.5306396484375, 1399.7467041015625, 218.5050811767578, 1470.7236328125, 768.4353637695312, 153.7477264404297, 107.59305572509766, 571.027587890625, 0.040077466517686844, 0.040077466517686844, 0.040077466517686844, 0.040077466517686844, 0.040077466517686844, 0.040077466517686844, 0.040077466517686844, 0.040077466517686844, 0.040077466517686844, 0.040077466517686844, 0.040077466517686844, 0.040077466517686844, 0.040077466517686844, 0.040077466517686844, 0.040077466517686844, 0.040077466517686844, 0.040077466517686844, 0.040077466517686844, 0.040077466517686844, 0.040077466517686844, 0.040077466517686844, 35.91363525390625, 0.040077466517686844, 0.040077466517686844, 0.040077466517686844, 0.3905757963657379, 0.39326223731040955, 0.040077466517686844, 0.6289893388748169, 0.28320181369781494, 0.4631304442882538, 0.4544687569141388, 0.3454514145851135, 0.44293513894081116, 0.30116698145866394, 0.15887899696826935, 0.15328924357891083, 0.07651355117559433, 0.08337027579545975, 0.09759923070669174, 0.058323852717876434, 0.06483978033065796, 0.08026610314846039, 0.06206878647208214, 0.07678139954805374, 0.06614526361227036, 0.06816846132278442, 0.06483952701091766, 139.90591430664062, 242.4432830810547, 1904.62744140625, 484.7126159667969, 920.3076782226562, 1163.194580078125, 76.38899230957031, 146.22654724121094, 41.97056198120117, 339.2991638183594, 472.9455871582031, 1.043232798576355, 91.80424499511719, 0.03959425538778305, 0.03959425538778305, 0.03959425538778305, 0.03959425538778305, 0.03959425538778305, 0.03959425538778305, 0.03959425538778305, 0.03959425538778305, 0.03959425538778305, 0.03959425538778305, 0.03959425538778305, 0.03959425538778305, 0.03959425538778305, 0.03959425538778305, 0.03959425538778305, 0.03959425538778305, 0.03959425538778305, 3.4511454105377197, 3.137169361114502, 3.6490211486816406, 0.7659029960632324, 0.8412365317344666, 1.2722185850143433, 0.9458944797515869, 0.6791999936103821, 0.5130633115768433, 0.5254708528518677, 0.7245588302612305, 0.31166210770606995, 0.14778128266334534, 0.24991023540496826, 0.1748071312904358, 0.16615337133407593, 0.16546709835529327, 0.22260913252830505, 0.24265296757221222, 0.17924660444259644, 0.18410944938659668, 18.493091583251953, 9.83875846862793, 675.2412719726562, 337.9808654785156, 1284.947265625, 935.3787841796875, 576.6885986328125, 1360.2679443359375, 203.4220733642578, 23.46857261657715, 56.70201873779297, 12.903868675231934, 0.032576024532318115, 0.032576024532318115, 0.032576024532318115, 0.032576024532318115, 0.032576024532318115, 0.032576024532318115, 0.032576024532318115, 0.032576024532318115, 0.032576024532318115, 0.032576024532318115, 0.032576024532318115, 0.032576024532318115, 0.032576024532318115, 0.032576024532318115, 0.032576024532318115, 0.032576024532318115, 0.032576024532318115, 0.032576024532318115, 0.032576024532318115, 17.372079849243164, 2.497995376586914, 0.874006450176239, 5.25691556930542, 6.359168529510498, 3.8741064071655273, 3.5468332767486572, 0.9364410638809204, 0.8833291530609131, 1.6073850393295288, 0.3019133508205414, 1.4843213558197021, 0.8711863160133362, 0.20299263298511505, 0.6046149730682373, 0.3662545680999756, 0.4587070047855377, 0.23827868700027466, 1293.6942138671875, 68.0495376586914, 847.315185546875, 319.2331237792969, 876.5947265625, 1107.69287109375, 1.5249683856964111, 384.9733581542969, 79.05829620361328, 0.04707834869623184, 0.04707834869623184, 0.04707834869623184, 0.047078344970941544, 0.047078344970941544, 0.047078344970941544, 0.047078344970941544, 0.047078344970941544, 0.047078344970941544, 0.047078344970941544, 0.047078344970941544, 0.047078344970941544, 0.047078344970941544, 0.047078344970941544, 0.047078344970941544, 0.047078344970941544, 0.047078344970941544, 0.047078344970941544, 0.047078344970941544, 0.047078344970941544, 0.047078344970941544, 0.047078344970941544, 0.047078344970941544, 0.047078344970941544, 0.047078344970941544, 2.7656567096710205, 91.31050109863281, 83.09300231933594, 1.614292025566101, 0.047078344970941544, 25.95736312866211, 22.780733108520508, 0.047078344970941544, 15.685054779052734, 7.932415008544922, 2.9183778762817383, 5.304611682891846, 0.847443163394928, 2.6504933834075928, 0.9756768941879272, 2.0794949531555176, 0.4457486569881439, 0.6267536282539368, 0.9652619361877441, 0.6384179592132568, 0.39833712577819824, 0.20286759734153748, 0.3346247673034668, 0.5314282178878784, 0.33876943588256836, 2048.828369140625, 1664.611328125, 1247.112060546875, 193.65399169921875, 13.120074272155762, 0.04258102551102638, 0.04258102551102638, 0.042581021785736084, 0.042581021785736084, 0.042581021785736084, 0.042581021785736084, 0.042581021785736084, 0.042581021785736084, 0.042581021785736084, 0.042581021785736084, 0.042581021785736084, 0.042581021785736084, 0.042581021785736084, 0.042581021785736084, 0.042581021785736084, 0.042581021785736084, 0.042581021785736084, 0.042581021785736084, 0.042581021785736084, 0.042581021785736084, 0.042581021785736084, 0.042581021785736084, 0.042581021785736084, 0.042581021785736084, 0.042581021785736084, 0.042581021785736084, 0.042581021785736084, 0.042581021785736084, 0.042581021785736084, 0.042581021785736084, 20.603368759155273, 38.8000602722168, 7.512566566467285, 0.042581021785736084, 0.9388670921325684, 0.042581021785736084, 0.8530027270317078, 0.042581021785736084, 1.0330657958984375, 0.472443550825119, 0.042581021785736084, 0.27874067425727844, 0.17877978086471558, 0.1401127129793167, 0.31220412254333496, 0.21411794424057007, 0.1808347851037979, 0.20866574347019196, 0.22974830865859985, 0.18015488982200623, 0.2131214439868927, 0.07415619492530823, 0.14492899179458618, 0.15444520115852356, 0.1146601215004921, 0.1189313530921936, 0.14466102421283722, 0.06874662637710571, 0.10903137177228928, 0.11579296737909317, 0.08646278828382492, 2453.45751953125, 229.1161651611328, 843.800537109375, 773.4190063476562, 734.0076904296875, 0.0366266667842865, 0.0366266667842865, 0.0366266667842865, 0.0366266667842865, 0.0366266667842865, 0.0366266667842865, 0.0366266667842865, 0.0366266667842865, 0.0366266667842865, 0.0366266667842865, 0.0366266667842865, 0.0366266667842865, 0.0366266667842865, 0.0366266667842865, 0.0366266667842865, 0.0366266667842865, 0.0366266667842865, 0.0366266667842865, 0.0366266667842865, 0.0366266667842865, 0.0366266667842865, 0.0366266667842865, 0.0366266667842865, 0.0366266667842865, 0.0366266667842865, 56.895259857177734, 0.0366266667842865, 0.0366266667842865, 0.0366266667842865, 4.765754222869873, 0.0366266667842865, 2.427098274230957, 0.0366266667842865, 0.0366266667842865, 1.1794333457946777, 0.0366266667842865, 0.24522730708122253, 0.0366266667842865, 0.34582680463790894, 0.5457290410995483, 0.0366266667842865, 0.4856092929840088, 0.5099831223487854, 0.24854926764965057, 0.3651585578918457, 0.2714725732803345, 0.22133401036262512, 0.22018952667713165, 0.20635069906711578, 0.23760513961315155, 0.11093832552433014, 0.1138944998383522, 0.13089625537395477, 0.08221227675676346, 0.14411327242851257, 0.13538731634616852, 0.11364956945180893, 0.11680455505847931, 0.08985945582389832, 0.10554462671279907, 785.2608642578125, 391.36956787109375, 1367.0933837890625, 1416.880615234375, 48.534507751464844, 206.70523071289062, 2.17399525642395, 0.04169023036956787, 0.04169022664427757, 0.04169022664427757, 0.04169022664427757, 0.04169022664427757, 0.04169022664427757, 0.04169022664427757, 0.04169022664427757, 0.04169022664427757, 0.04169022664427757, 0.04169022664427757, 0.04169022664427757, 0.04169022664427757, 0.04169022664427757, 0.04169022664427757, 0.04169022664427757, 0.04169022664427757, 0.04169022664427757, 0.04169022664427757, 0.04169022664427757, 0.04169022664427757, 0.04169022664427757, 0.04169022664427757, 0.04169022664427757, 0.04169022664427757, 31.46183204650879, 0.04169022664427757, 1.0187594890594482, 0.04169022664427757, 0.9813679456710815, 0.04169022664427757, 1.0400158166885376, 1.441664457321167, 1.25858473777771, 1.7574557065963745, 1.4742085933685303, 0.6785586476325989, 0.33830341696739197, 0.3504863381385803, 0.1799663007259369, 0.2703479528427124, 0.14178244769573212, 0.17763131856918335, 0.09358063340187073, 0.1776677370071411, 0.11966955661773682, 0.1570184975862503, 0.1198076605796814, 0.11445867270231247, 0.10155069828033447, 0.08012687414884567, 1846.076171875, 860.9548950195312, 508.7290954589844, 104.22271728515625, 141.59518432617188, 235.04421997070312, 286.9261779785156, 81.33467864990234, 0.026095004752278328, 0.02609500288963318, 0.02609500288963318, 0.02609500288963318, 0.02609500288963318, 0.02609500288963318, 0.02609500288963318, 0.02609500288963318, 0.02609500288963318, 0.02609500288963318, 0.02609500288963318, 0.02609500288963318, 0.02609500288963318, 0.02609500288963318, 0.02609500288963318, 0.02609500288963318, 0.02609500288963318, 0.02609500288963318, 0.02609500288963318, 0.02609500288963318, 0.02609500288963318, 0.02609500288963318, 26.110570907592773, 0.02609500288963318, 9.052929878234863, 7.997790336608887, 0.02609500288963318, 26.21422576904297, 0.02609500288963318, 14.33797836303711, 0.25728845596313477, 7.2946929931640625, 3.087045431137085, 8.040218353271484, 3.7329158782958984, 0.18847373127937317, 1.1443105936050415, 1.2390367984771729, 0.3993510901927948, 0.6329465508460999, 0.5957469940185547, 0.4009193181991577, 0.2920142710208893, 0.47806692123413086, 0.20449285209178925, 0.6295464038848877, 0.32292425632476807, 0.24488236010074615, 422.7027587890625, 1337.108154296875, 215.9748992919922, 117.53297424316406, 113.18756866455078, 51.748958587646484, 482.99981689453125, 412.38226318359375, 205.841064453125, 330.223876953125, 298.36669921875, 0.04162351414561272, 0.04162350669503212, 0.04162350669503212, 0.04162350669503212, 0.04162350669503212, 0.04162350669503212, 0.04162350669503212, 0.04162350669503212, 0.04162350669503212, 0.04162350669503212, 0.04162350669503212, 0.04162350669503212, 0.04162350669503212, 0.04162350669503212, 0.04162350669503212, 0.04162350669503212, 0.04162350669503212, 0.04162350669503212, 0.04162350669503212, 45.044921875, 0.04162350669503212, 0.04162350669503212, 0.04162350669503212, 0.04162350669503212, 11.212313652038574, 3.403512954711914, 13.561662673950195, 6.122963905334473, 6.8766865730285645, 1.6089198589324951, 5.692846775054932, 0.04162350669503212, 0.04162350669503212, 0.04162350669503212, 0.04162350669503212, 0.04162350669503212, 0.04162350669503212, 0.04162350669503212, 0.04162350669503212, 0.04162350669503212, 4.151431083679199, 0.28084805607795715, 1.3747894763946533, 1.394404649734497, 1.5229607820510864, 0.4663926064968109, 0.22965064644813538, 0.2825491726398468, 0.1466577649116516, 0.2660193145275116, 0.18854427337646484, 0.2632075846195221, 0.19577857851982117, 124.95386505126953, 53.306907653808594, 46.70591735839844, 373.166015625, 1760.585693359375, 321.88641357421875, 323.1111755371094, 38.598731994628906, 238.41790771484375, 270.7197265625, 113.39974212646484, 110.93710327148438, 0.027949903160333633, 0.027949903160333633, 0.027949903160333633, 0.027949899435043335, 0.027949899435043335, 0.027949899435043335, 0.027949899435043335, 0.027949899435043335, 0.027949899435043335, 0.027949899435043335, 0.027949899435043335, 0.027949899435043335, 0.027949899435043335, 0.027949899435043335, 0.027949899435043335, 0.027949899435043335, 0.027949899435043335, 0.027949899435043335, 0.027949899435043335, 0.027949899435043335, 0.027949899435043335, 19.983747482299805, 53.16525650024414, 15.336705207824707, 1.0660300254821777, 4.784531593322754, 4.793789386749268, 4.093596935272217, 0.027949899435043335, 0.027949899435043335, 0.027949899435043335, 0.027949899435043335, 0.027949899435043335, 0.027949899435043335, 0.027949899435043335, 0.027949899435043335, 6.560301780700684, 1.0907427072525024, 1.0159122943878174, 0.5451728105545044, 0.5464823246002197, 0.7991204857826233, 0.6844512224197388, 0.7509172558784485, 0.44317641854286194, 0.28984174132347107, 0.34334325790405273, 335.4267578125, 574.9275512695312, 1666.2030029296875, 779.1124877929688, 34.246559143066406, 353.1147766113281, 20.760622024536133, 0.027288595214486122, 0.027288593351840973, 0.027288593351840973, 0.027288593351840973, 0.027288593351840973, 0.027288593351840973, 0.027288593351840973, 0.027288593351840973, 0.027288593351840973, 0.027288593351840973, 0.027288593351840973, 0.027288593351840973, 0.027288593351840973, 0.027288593351840973, 0.027288593351840973, 0.027288593351840973, 0.027288593351840973, 0.027288593351840973, 0.027288593351840973, 0.027288593351840973, 0.027288593351840973, 0.027288593351840973, 0.027288593351840973, 0.027288593351840973, 0.027288593351840973, 87.43070983886719, 0.31776192784309387, 0.5530954599380493, 17.01286506652832, 0.027288593351840973, 0.027288593351840973, 6.4252448081970215, 1.0152910947799683, 2.8732357025146484, 0.6722711324691772, 1.8217639923095703, 1.179606556892395, 0.3946365714073181, 0.8724783062934875, 0.3903806209564209, 0.46409860253334045, 0.4785071313381195, 0.40733349323272705, 0.1876133233308792, 0.27466684579849243, 0.31268206238746643, 0.1728808879852295, 0.2429928332567215, 0.2439979761838913, 0.21856768429279327, 60.95883560180664, 114.5073471069336, 49.444305419921875, 80.93790435791016, 1483.4910888671875, 410.69091796875, 328.1688232421875, 134.5540771484375, 84.13459777832031, 366.01983642578125, 23.999906539916992, 113.47417449951172, 222.12841796875, 233.65589904785156, 0.035426653921604156, 0.035426653921604156, 0.035426653921604156, 0.035426653921604156, 0.035426653921604156, 0.035426653921604156, 0.035426653921604156, 0.035426653921604156, 0.035426653921604156, 0.035426653921604156, 0.035426653921604156, 0.035426653921604156, 0.035426653921604156, 0.035426653921604156, 0.035426653921604156, 0.035426653921604156, 0.035426653921604156, 22.15894889831543, 3.571450710296631, 5.101726055145264, 3.4587483406066895, 5.573008060455322, 2.591768264770508, 0.828859269618988, 2.1398229598999023, 6.6905517578125, 4.794404983520508, 0.6205807328224182, 4.760717868804932, 0.035426653921604156, 0.035426653921604156, 0.035426653921604156, 0.035426653921604156, 0.8823662400245667, 0.3891286551952362, 0.035426653921604156, 0.6581102013587952, 0.035426653921604156, 0.4077345132827759, 0.7124622464179993, 0.5096435546875, 332.4384765625, 422.4002380371094, 1487.045166015625, 581.4553833007812, 206.847412109375, 0.05468521639704704, 0.054685208946466446, 0.054685208946466446, 0.054685208946466446, 0.054685208946466446, 0.054685208946466446, 0.054685208946466446, 0.054685208946466446, 0.054685208946466446, 0.054685208946466446, 0.054685208946466446, 0.054685208946466446, 0.054685208946466446, 0.054685208946466446, 0.054685208946466446, 0.054685208946466446, 0.054685208946466446, 0.054685208946466446, 0.054685208946466446, 0.054685208946466446, 0.054685208946466446, 0.054685208946466446, 0.054685208946466446, 0.054685208946466446, 0.054685208946466446, 0.05468521639704704, 0.054685208946466446, 234.67391967773438, 0.054685208946466446, 0.054685208946466446, 61.84963607788086, 106.99894714355469, 0.054685208946466446, 42.594783782958984, 0.054685208946466446, 8.207023620605469, 1.6943618059158325, 5.547056674957275, 0.4225936233997345, 0.8347336053848267, 1.2186012268066406, 0.41501614451408386, 0.3654974400997162, 0.22772681713104248, 0.2382863163948059, 0.18089455366134644, 0.21549010276794434, 0.1135503500699997, 0.13179783523082733, 0.1513572335243225, 0.1357770562171936, 0.11650942265987396, 0.12691648304462433, 0.1320342868566513, 0.10667690634727478, 0.09257449209690094, 0.10579575598239899, 0.11801785230636597, 0.11521174013614655, 56.470306396484375, 16.387537002563477, 1810.349365234375, 861.8265991210938, 257.53778076171875, 18.614660263061523, 0.03143730014562607, 0.03143730014562607, 0.03143730014562607, 0.03143730014562607, 0.03143730014562607, 0.03143730014562607, 0.03143730014562607, 0.03143730014562607, 0.03143730014562607, 0.03143730014562607, 0.03143730014562607, 0.03143730014562607, 0.03143730014562607, 0.03143730014562607, 0.03143730014562607, 0.03143730014562607, 0.03143730014562607, 0.03143730014562607, 0.03143730014562607, 0.03143730014562607, 0.03143730014562607, 0.03143730014562607, 0.03143730014562607, 0.03143730014562607, 0.03143730014562607, 0.03143730014562607, 0.03143730014562607, 0.03143730014562607, 164.12396240234375, 0.03143730014562607, 26.802120208740234, 0.03143730014562607, 11.409295082092285, 8.504337310791016, 0.03143730014562607, 5.0573554039001465, 1.284631609916687, 6.500728607177734, 1.3492436408996582, 2.350325345993042, 1.1632754802703857, 1.3617711067199707, 1.3838695287704468, 0.9519302248954773, 0.8410800695419312, 0.8674359917640686, 0.3190482258796692, 0.5445097088813782, 0.22880704700946808, 0.26089683175086975, 0.14401045441627502, 0.1986323595046997, 0.19833607971668243, 0.13616539537906647, 0.23317520320415497, 0.16857832670211792, 206.34051513671875, 1878.577880859375, 343.6044616699219, 366.5454406738281, 200.23199462890625, 0.045571863651275635, 0.045571863651275635, 0.045571863651275635, 0.045571863651275635, 0.045571863651275635, 0.045571863651275635, 0.045571863651275635, 0.045571863651275635, 0.045571863651275635, 0.045571863651275635, 0.045571863651275635, 0.045571863651275635, 0.045571863651275635, 0.045571863651275635, 0.045571863651275635, 0.045571863651275635, 0.045571863651275635, 0.045571863651275635, 0.045571863651275635, 0.045571863651275635, 0.045571863651275635, 0.045571863651275635, 0.045571863651275635, 0.045571863651275635, 0.045571863651275635, 2.4954519271850586, 0.045571863651275635, 0.045571863651275635, 0.045571863651275635, 23.709949493408203, 33.54901123046875, 27.553993225097656, 0.045571863651275635, 5.437421798706055, 0.045571863651275635, 0.045571863651275635, 1.0394694805145264, 7.1520771980285645, 5.026414394378662, 1.1066445112228394, 1.2472974061965942, 1.8002287149429321, 1.455556035041809, 1.6907073259353638, 0.6168428063392639, 0.6944150328636169, 0.46300676465034485, 0.16981297731399536, 0.4959702789783478, 0.25171294808387756, 0.25053757429122925, 0.0981529951095581, 0.1524268239736557, 0.13213706016540527, 0.10460976511240005, 0.13056373596191406, 905.01513671875, 602.189208984375, 117.41130828857422, 29.79259490966797, 8.35400104522705, 36.0328369140625, 661.7883911132812, 186.41761779785156, 107.5239028930664, 88.95543670654297, 109.84972381591797, 0.01725066266953945, 0.01725066266953945, 0.01725066266953945, 0.01725066266953945, 0.01725066266953945, 0.01725066266953945, 0.01725066266953945, 0.01725066266953945, 0.01725066266953945, 0.01725066266953945, 0.01725066266953945, 0.01725066266953945, 0.01725066266953945, 0.01725066266953945, 0.01725066266953945, 0.01725066266953945, 0.01725066266953945, 0.01725066266953945, 0.01725066266953945, 38.46530532836914, 0.01725066266953945, 14.288641929626465, 4.678674697875977, 0.9285101890563965, 0.7262465357780457, 0.7361973524093628, 0.34658291935920715, 0.06545201689004898, 0.5032960176467896, 0.392057329416275, 0.18869903683662415, 0.13060767948627472, 0.1697872430086136, 0.23399244248867035, 0.14235903322696686, 0.07481998205184937, 0.08954983204603195, 0.06904085725545883, 0.11972558498382568, 0.08107253909111023, 0.08585290610790253, 0.0791078582406044, 1620.7503662109375, 130.7315216064453, 50.67662048339844, 158.34266662597656, 515.2094116210938, 72.68262481689453, 138.43313598632812, 0.05028428137302399, 0.05028428137302399, 0.05028427764773369, 0.05028427764773369, 0.05028427764773369, 0.05028427764773369, 0.05028427764773369, 0.05028427764773369, 0.05028427764773369, 0.05028427764773369, 0.05028427764773369, 0.05028427764773369, 0.05028427764773369, 0.05028427764773369, 0.05028427764773369, 0.05028427764773369, 0.05028427764773369, 0.05028427764773369, 0.05028427764773369, 0.05028427764773369, 0.05028427764773369, 0.05028427764773369, 0.05028427764773369, 0.05028427764773369, 0.05028427764773369, 25.2148380279541, 0.05028427764773369, 0.05028427764773369, 0.05028427764773369, 0.05028427764773369, 0.05028427764773369, 0.05028427764773369, 14.129347801208496, 0.05028427764773369, 2.0018556118011475, 2.828090190887451, 0.5434590578079224, 1.6074678897857666, 1.143532395362854, 1.0104235410690308, 0.21512532234191895, 0.36465227603912354, 0.6139178276062012, 0.3832548260688782, 0.1413334310054779, 0.16704139113426208, 0.1302577406167984, 0.1033225804567337, 0.11307959258556366, 0.08831565827131271, 0.08849869668483734, 0.06581850349903107, 0.07087665796279907, 0.07251887023448944, 0.06587261706590652, 0.06729114800691605, 506.4834289550781, 154.4477996826172, 1128.91650390625, 56.26169204711914, 0.13361364603042603, 0.13361361622810364, 0.13361361622810364, 0.13361361622810364, 0.13361361622810364, 0.13361361622810364, 0.13361361622810364, 0.13361361622810364, 0.13361361622810364, 0.13361361622810364, 0.13361361622810364, 0.13361361622810364, 0.13361361622810364, 0.13361361622810364, 0.13361361622810364, 0.13361361622810364, 0.13361361622810364, 0.13361361622810364, 0.13361361622810364, 0.13361361622810364, 0.13361361622810364, 0.13361361622810364, 0.13361361622810364, 0.13361361622810364, 0.13361361622810364, 0.13361361622810364, 0.13361361622810364, 0.13361361622810364, 16.72905921936035, 0.13361361622810364, 164.7072296142578, 114.48052215576172, 0.13361361622810364, 0.13361361622810364, 16.6131591796875, 78.08428955078125, 31.708332061767578, 0.13361361622810364, 5.698154926300049, 0.13361361622810364, 13.007075309753418, 3.138314962387085, 1.6529062986373901, 3.3024706840515137, 2.6437575817108154, 1.1678470373153687, 1.6749041080474854, 1.7301512956619263, 1.6677637100219727, 1.0986448526382446, 0.434975266456604, 0.8778921961784363, 0.8259597420692444, 0.5151320099830627, 0.6697385907173157, 0.41658657789230347, 0.3687893748283386, 0.41534873843193054, 0.5043694376945496, 722.3695678710938, 23.259538650512695, 21.155153274536133, 619.0941162109375, 249.78981018066406, 403.49249267578125, 81.3455581665039, 0.04155357927083969, 0.0415535531938076, 0.0415535494685173, 0.0415535494685173, 0.0415535494685173, 0.0415535494685173, 0.0415535494685173, 0.0415535494685173, 0.0415535494685173, 0.0415535494685173, 0.0415535494685173, 0.0415535494685173, 0.0415535494685173, 0.0415535494685173, 0.0415535494685173, 0.0415535494685173, 0.0415535494685173, 0.0415535494685173, 0.0415535494685173, 0.0415535494685173, 0.0415535494685173, 0.0415535494685173, 0.0415535494685173, 0.0415535494685173, 0.0415535494685173, 26.937328338623047, 0.0415535494685173, 21.378673553466797, 0.0415535494685173, 84.9007797241211, 12.179734230041504, 0.0415535494685173, 2.503342390060425, 5.262491226196289, 1.6348130702972412, 0.8975543975830078, 0.0415535494685173, 0.0415535494685173, 0.0415535494685173, 0.0415535494685173, 0.9663887619972229, 0.0415535494685173, 0.9761072993278503, 1.0491187572479248, 0.47505706548690796, 0.3391311466693878, 0.19523882865905762, 0.2283303141593933, 0.138438418507576, 0.081441730260849, 0.11318861693143845, 0.08574124425649643, 0.11274099349975586, 0.10960373282432556, 0.07870008051395416, 0.08926355838775635, 197.79873657226562, 286.2647705078125, 429.9035949707031, 7.862594127655029, 293.0376892089844, 394.9648132324219, 37.202640533447266, 86.2333984375, 114.77474975585938, 0.035120733082294464, 0.035120729357004166, 0.035120729357004166, 0.035120729357004166, 0.035120729357004166, 0.035120729357004166, 0.035120729357004166, 0.035120729357004166, 0.035120729357004166, 0.035120729357004166, 0.035120729357004166, 0.035120729357004166, 0.035120729357004166, 0.035120729357004166, 0.035120729357004166, 0.035120729357004166, 0.035120729357004166, 0.035120729357004166, 0.035120729357004166, 0.035120729357004166, 0.035120729357004166, 113.22865295410156, 0.035120729357004166, 105.46038818359375, 45.90606689453125, 55.23504638671875, 7.430524826049805, 17.438817977905273, 2.6256062984466553, 1.4890097379684448, 2.477194309234619, 5.369377136230469, 5.922453880310059, 4.4530348777771, 2.0138907432556152, 3.6579997539520264, 0.4006514549255371, 1.2894352674484253, 1.0062052011489868, 1.988411545753479, 1.8484128713607788, 0.4471014142036438, 1.6982157230377197, 1.7075506448745728, 1.0732667446136475, 160.75823974609375, 154.209716796875, 83.87520599365234, 42.773353576660156, 210.23745727539062, 413.7374572753906, 314.9772644042969, 177.35130310058594, 8.251984596252441, 5.261626243591309, 0.048245009034872055, 0.04824500158429146, 0.04824500158429146, 0.04824500158429146, 0.04824500158429146, 0.04824500158429146, 0.04824500158429146, 0.04824500158429146, 0.04824500158429146, 0.04824500158429146, 0.04824500158429146, 0.04824500158429146, 0.04824500158429146, 0.04824500158429146, 0.04824500158429146, 0.04824500158429146, 0.04824500158429146, 0.04824500158429146, 0.04824500158429146, 0.04824500158429146, 0.04824500158429146, 0.04824500158429146, 80.8972396850586, 22.03761100769043, 47.502384185791016, 70.04676818847656, 14.024354934692383, 2.9230802059173584, 1.407946228981018, 0.24025015532970428, 0.9780534505844116, 1.14548921585083, 0.9656746983528137, 0.6826619505882263, 0.4637831747531891, 0.2926792800426483, 0.3282195031642914, 0.2946029007434845, 0.372023344039917, 0.2085200399160385, 0.2165854573249817, 0.14756819605827332, 599.1075439453125, 211.3334503173828, 20.555431365966797, 20.090055465698242, 133.7283477783203, 14.771784782409668, 36.48054122924805, 102.97220611572266, 36.485286712646484, 177.10731506347656, 126.40547180175781, 74.34513854980469, 0.04213346913456917, 0.04213346913456917, 0.04213346913456917, 0.04213346913456917, 0.04213346913456917, 0.04213346913456917, 0.04213346913456917, 0.04213346913456917, 0.04213346913456917, 0.04213346913456917, 0.04213346913456917, 0.04213346913456917, 0.04213346913456917, 0.04213346913456917, 0.04213346913456917, 0.04213346913456917, 0.04213346913456917, 0.04213346913456917, 0.04213346913456917, 0.04213346913456917, 122.12432098388672, 0.04213346913456917, 0.04213346913456917, 0.04213346913456917, 0.04213346913456917, 0.04213346913456917, 0.04213346913456917, 0.04213346913456917, 0.04213346913456917, 14.188542366027832, 12.986723899841309, 5.71980094909668, 4.405900001525879, 2.2963194847106934, 4.099122524261475, 1.826311469078064, 1.4597903490066528, 0.17484498023986816, 2.5980989933013916, 0.9939470887184143, 1.4959979057312012, 1.1823445558547974, 0.7959117293357849, 0.9216169714927673, 0.13563132286071777, 0.40546855330467224, 0.302100270986557, 0.41736358404159546, 0.4103202819824219, 762.2407836914062, 317.114990234375, 137.75259399414062, 161.1841278076172, 0.03992684558033943, 0.03992684558033943, 0.03992684558033943, 0.03992684558033943, 0.03992684558033943, 0.03992684558033943, 0.03992684558033943, 0.03992684558033943, 0.03992684558033943, 0.03992684558033943, 0.03992684558033943, 0.03992684558033943, 0.03992684558033943, 0.03992684558033943, 0.03992684558033943, 0.03992684558033943, 0.03992684558033943, 0.03992684558033943, 0.03992684558033943, 0.03992684558033943, 0.03992684558033943, 0.03992684558033943, 0.03992684558033943, 0.03992684558033943, 0.03992684558033943, 0.03992684558033943, 0.03992684558033943, 200.37652587890625, 32.96031951904297, 0.03992684558033943, 17.827068328857422, 16.212039947509766, 26.8173828125, 0.03992684558033943, 0.03992684558033943, 0.03992684558033943, 3.4866113662719727, 0.03992684558033943, 0.03992684558033943, 1.1708954572677612, 2.8811142444610596, 1.1558609008789062, 1.5213720798492432, 0.19815199077129364, 0.5064031481742859, 0.7711527943611145, 0.6214908957481384, 0.7134611010551453, 0.5779815912246704, 0.5454025268554688, 0.2537615895271301, 0.426277220249176, 0.39207059144973755, 0.15272541344165802, 0.30625417828559875, 0.27351921796798706, 0.2805439829826355, 0.20191653072834015, 0.10249228775501251, 0.11032669991254807, 140.67567443847656, 784.9671630859375, 0.05732510983943939, 309.8292541503906, 0.04379541054368019, 0.04379540681838989, 0.04379540681838989, 0.04379540681838989, 0.04379540681838989, 0.04379540681838989, 0.04379540681838989, 0.04379540681838989, 0.04379540681838989, 0.04379540681838989, 0.04379540681838989, 0.04379540681838989, 0.04379540681838989, 0.04379540681838989, 0.04379540681838989, 0.04379540681838989, 0.04379540681838989, 0.04379540681838989, 0.04379540681838989, 0.04379540681838989, 0.04379540681838989, 0.04379540681838989, 0.04379540681838989, 0.04379540681838989, 0.04379540681838989, 0.04379540681838989, 0.04379540681838989, 0.04379540681838989, 163.6803741455078, 101.56802368164062, 0.04379540681838989, 66.5733413696289, 0.04379540681838989, 15.5958251953125, 0.04379540681838989, 2.189509630203247, 2.614252805709839, 0.04379540681838989, 2.295860767364502, 1.6176104545593262, 0.04379540681838989, 1.0298852920532227, 0.9396806359291077, 1.4369810819625854, 0.6188308000564575, 1.1709034442901611, 0.4859846532344818, 0.256443053483963, 0.15129147469997406, 0.182785302400589, 0.20484879612922668, 0.19914120435714722, 0.10351797938346863, 0.1690918505191803, 0.15362778306007385, 0.12663084268569946, 0.10920531302690506, 0.08880806714296341, 0.10242263227701187, 0.10434980690479279, 247.52316284179688, 172.2502899169922, 56.4890251159668, 69.94801330566406, 796.0547485351562, 38.67417526245117, 0.05600103735923767, 0.05600103735923767, 0.05600103735923767, 0.05600103735923767, 0.05600103735923767, 0.05600103735923767, 0.05600103735923767, 0.05600103735923767, 0.05600103735923767, 0.05600103735923767, 0.05600103735923767, 0.05600103735923767, 0.05600103735923767, 0.05600103735923767, 0.05600103735923767, 0.05600103735923767, 0.05600103735923767, 0.05600103735923767, 0.05600103735923767, 0.05600103735923767, 0.05600103735923767, 0.05600103735923767, 0.05600103735923767, 0.05600103735923767, 0.05600103735923767, 0.05600103735923767, 0.05600103735923767, 0.05600103735923767, 44.172584533691406, 74.27186584472656, 0.05600103735923767, 0.05600103735923767, 39.402099609375, 13.147274017333984, 0.05600103735923767, 0.05600103735923767, 2.5593035221099854, 0.05600103735923767, 4.710085391998291, 4.287110328674316, 5.36022424697876, 1.9742403030395508, 0.24334990978240967, 2.25034236907959, 1.2460050582885742, 0.654062032699585, 0.535413384437561, 0.5035803318023682, 0.8327370285987854, 0.7689771056175232, 0.34468328952789307, 0.29561907052993774, 0.37872955203056335, 0.30351659655570984, 0.1598038375377655, 0.192438006401062, 0.20225968956947327, 0.19763953983783722, 0.20209121704101562, 899.206298828125, 0.06522542238235474, 0.06522542238235474, 0.06522542238235474, 0.06522542238235474, 0.06522542238235474, 0.06522542238235474, 0.06522542238235474, 0.06522542238235474, 0.06522542238235474, 0.06522542238235474, 0.06522542238235474, 0.06522542238235474, 0.06522542238235474, 0.06522542238235474, 0.06522542238235474, 0.06522542238235474, 0.06522542238235474, 0.06522542238235474, 0.06522542238235474, 0.06522542238235474, 0.06522542238235474, 0.06522542238235474, 0.06522542983293533, 0.06522542238235474, 0.06522542238235474, 0.06522542238235474, 0.06522542238235474, 0.06522542238235474, 0.06522542238235474, 153.35211181640625, 0.06522542238235474, 110.93040466308594, 160.17205810546875, 0.06522542238235474, 119.2184829711914, 25.393917083740234, 8.416993141174316, 11.361420631408691, 0.06522542238235474, 12.261882781982422, 2.772920846939087, 0.06522542238235474, 10.899758338928223, 3.8177688121795654, 1.9102327823638916, 4.9698944091796875, 1.812515139579773, 0.9368606209754944, 1.3455755710601807, 0.32646411657333374, 0.24218760430812836, 0.5808541774749756, 0.4234394431114197, 0.3040994107723236, 0.4529285132884979, 0.370782732963562, 0.33437252044677734, 0.3549102544784546, 0.1751037836074829, 0.21864451467990875, 0.2486031949520111, 0.21352112293243408, 0.2454831451177597, 0.22334156930446625, 245.62693786621094, 105.37759399414062, 100.49781036376953, 231.9808807373047, 422.1264953613281, 20.57013702392578, 1.3134613037109375, 0.04958413168787956, 0.04958411678671837, 0.04958411678671837, 0.04958411678671837, 0.04958411678671837, 0.04958411678671837, 0.04958411678671837, 0.04958411678671837, 0.04958411678671837, 0.04958411678671837, 0.04958411678671837, 0.04958411678671837, 0.04958411678671837, 0.04958411678671837, 0.04958411678671837, 0.04958411678671837, 0.04958411678671837, 0.04958411678671837, 0.04958411678671837, 0.04958411678671837, 0.04958411678671837, 0.04958411678671837, 0.04958411678671837, 0.04958411678671837, 0.04958411678671837, 0.04958411678671837, 0.04958411678671837, 0.04958411678671837, 0.04958411678671837, 0.04958411678671837, 105.9483642578125, 46.55097961425781, 57.36699295043945, 45.87916564941406, 10.621480941772461, 8.349844932556152, 6.356154441833496, 2.87088942527771, 1.8799147605895996, 3.772020101547241, 0.38233497738838196, 1.9183191061019897, 1.7598432302474976, 0.6360087990760803, 1.3327820301055908, 0.8258596658706665, 0.1550266593694687, 0.26980066299438477, 0.30042871832847595, 0.2220640778541565, 0.172930508852005, 0.13115698099136353, 0.17073580622673035, 0.1567264348268509, 0.17652344703674316, 443.48486328125, 373.92596435546875, 99.0115966796875, 79.93714141845703, 14.237442016601562, 93.61966705322266, 119.64971160888672, 117.3499526977539, 0.02954948879778385, 0.02954948879778385, 0.02954948879778385, 0.029549486935138702, 0.029549486935138702, 0.029549486935138702, 0.029549486935138702, 0.029549486935138702, 0.029549486935138702, 0.029549486935138702, 0.029549486935138702, 0.029549486935138702, 0.029549486935138702, 0.029549486935138702, 0.029549486935138702, 0.029549486935138702, 0.029549486935138702, 0.029549486935138702, 0.029549486935138702, 0.029549486935138702, 0.029549486935138702, 0.029549486935138702, 0.029549486935138702, 0.029549486935138702, 0.029549486935138702, 18.22431755065918, 26.340681076049805, 7.563762187957764, 0.029549486935138702, 5.244070529937744, 1.7234138250350952, 1.7045416831970215, 0.2070157825946808, 1.1992578506469727, 1.6866662502288818, 0.31508901715278625, 0.12594667077064514, 0.31350278854370117, 0.12087332457304001, 0.14838597178459167, 0.14640745520591736, 0.1014193668961525, 0.09384530782699585, 0.0964762344956398, 0.07006027549505234, 0.06082979962229729, 0.0773385614156723, 0.04332097992300987, 0.0710068792104721, 0.07260937243700027, 0.0764288604259491, 608.202392578125, 59.01836395263672, 173.0011444091797, 162.9610137939453, 0.043193552643060684, 0.043193552643060684, 0.043193548917770386, 0.043193548917770386, 0.043193548917770386, 0.043193548917770386, 0.043193548917770386, 0.043193548917770386, 0.043193548917770386, 0.043193548917770386, 0.043193548917770386, 0.043193548917770386, 0.043193548917770386, 0.043193548917770386, 0.043193548917770386, 0.043193548917770386, 0.043193548917770386, 0.043193548917770386, 0.043193548917770386, 0.043193548917770386, 0.043193548917770386, 0.043193548917770386, 0.043193548917770386, 0.043193548917770386, 0.043193548917770386, 0.043193548917770386, 152.53851318359375, 0.043193548917770386, 0.043193548917770386, 0.043193548917770386, 0.043193548917770386, 1.0577794313430786, 7.163600444793701, 0.25178366899490356, 0.043193548917770386, 4.63161563873291, 0.043193548917770386, 2.106356382369995, 2.432934284210205, 0.043193548917770386, 0.8394353985786438, 0.8103492259979248, 0.9641568660736084, 0.7098491191864014, 0.8099599480628967, 0.4135034680366516, 0.3505650460720062, 0.3548208177089691, 0.3082799017429352, 0.3420029580593109, 0.16345439851284027, 0.12096359580755234, 0.1287839412689209, 0.15164417028427124, 0.1354377716779709, 0.12557998299598694, 0.08238978683948517, 0.1268065869808197, 0.09656841307878494, 0.10886286199092865], \"Term\": [\"Pizza\", \"Asian\", \"Mexican\", \"Soup\", \"Sushi\", \"Indian\", \"Chicken\", \"Dessert\", \"Chinese\", \"Seafood\", \"American\", \"Japanese\", \"Breakfast\", \"Sandwiches\", \"Italian\", \"Smoothies_and_Juices\", \"Lunch_Specials\", \"Noodles\", \"Mediterranean\", \"Hamburgers\", \"Latin_American\", \"Pasta\", \"Salads\", \"Bowls\", \"Grill\", \"Vegetarian\", \"Coffee_and_Tea\", \"Kids_Menu\", \"Wings\", \"Tacos\", \"Chinese\", \"Thai\", \"Asian\", \"Noodles\", \"Cantonese\", \"Lunch_Specials\", \"Eclectic\", \"Asian_Fusion\", \"Venezuelan\", \"Albanian\", \"Senegalese\", \"Falafel\", \"German\", \"Poke\", \"Hawaiian\", \"Afghan\", \"Filipino\", \"Meatballs\", \"English\", \"British\", \"Ukrainian\", \"Haitian\", \"Jamaican\", \"Popcorn\", \"Irish\", \"Meal_Kit\", \"Australian\", \"Egyptian\", \"Yemeni\", \"Pretzels\", \"Creole\", \"South_African\", \"Scandinavian\", \"Austrian\", \"Food_Truck\", \"Japanese\", \"Mongolian\", \"Indian_Chinese\", \"Szechwan\", \"Candy\", \"Sushi\", \"Vietnamese\", \"Healthy\", \"Seafood\", \"American\", \"Salads\", \"Vegetarian\", \"Kids_Menu\", \"Coffee_and_Tea\", \"Smoothies_and_Juices\", \"Breakfast\", \"Sandwiches\", \"BBQ\", \"Soup\", \"Dessert\", \"Korean\", \"Fine_Dining\", \"Alcohol\", \"Hamburgers\", \"Latin_American\", \"Grill\", \"Pasta\", \"Italian\", \"Subs\", \"Pasta\", \"Calzones\", \"Pizza\", \"Salads\", \"Wings\", \"Wraps\", \"Sandwiches\", \"Poke\", \"Afghan\", \"Hawaiian\", \"Meal_Kit\", \"German\", \"Falafel\", \"Meatballs\", \"Venezuelan\", \"Jamaican\", \"English\", \"British\", \"Filipino\", \"Haitian\", \"Albanian\", \"Asian_Fusion\", \"Senegalese\", \"Irish\", \"Scandinavian\", \"Ukrainian\", \"Yemeni\", \"Pretzels\", \"American\", \"Popcorn\", \"Austrian\", \"Donuts\", \"Gluten-Free\", \"Gyro\", \"Mongolian\", \"Breakfast\", \"Halal\", \"Chinese\", \"Hamburgers\", \"Lunch_Specials\", \"Asian\", \"Seafood\", \"Kids_Menu\", \"Coffee_and_Tea\", \"Cantonese\", \"Potato\", \"Healthy\", \"Argentinian\", \"Szechwan\", \"Smoothies_and_Juices\", \"Eclectic\", \"Mediterranean\", \"Middle_Eastern\", \"Latin_American\", \"Thai\", \"Hoagies\", \"Cheesesteaks\", \"Hamburgers\", \"Wings\", \"American\", \"Sandwiches\", \"Subs\", \"Wraps\", \"Calzones\", \"Pizza\", \"Salads\", \"Classic\", \"Pasta\", \"Popcorn\", \"Senegalese\", \"Asian_Fusion\", \"Jamaican\", \"Haitian\", \"Filipino\", \"British\", \"English\", \"Meatballs\", \"Venezuelan\", \"Afghan\", \"Hawaiian\", \"Poke\", \"German\", \"Falafel\", \"Meal_Kit\", \"Albanian\", \"Italian\", \"Dessert\", \"Breakfast\", \"Steak\", \"Gyro\", \"Vegetarian\", \"Chicken\", \"Healthy\", \"Kids_Menu\", \"Vegan\", \"Seafood\", \"BBQ\", \"French\", \"Grill\", \"Hot_Dogs\", \"Halal\", \"Middle_Eastern\", \"Soup\", \"Asian\", \"Deli\", \"Indian\", \"Classic\", \"Portuguese\", \"Wraps\", \"Coffee_and_Tea\", \"Salads\", \"Breakfast\", \"Hamburgers\", \"Sandwiches\", \"American\", \"Subs\", \"Smoothies_and_Juices\", \"Bagels\", \"English\", \"German\", \"Poke\", \"Hawaiian\", \"Afghan\", \"Venezuelan\", \"Meatballs\", \"British\", \"Filipino\", \"Haitian\", \"Jamaican\", \"Asian_Fusion\", \"Senegalese\", \"Popcorn\", \"Falafel\", \"Meal_Kit\", \"Albanian\", \"Yemeni\", \"Mongolian\", \"Deli\", \"Diner\", \"Grocery_Items\", \"Healthy\", \"Soup\", \"Pasta\", \"Dessert\", \"Steak\", \"Bakery\", \"Seafood\", \"Ribs\", \"Pizza\", \"Chicken\", \"Kosher\", \"Noodles\", \"Grill\", \"Asian\", \"Vegetarian\", \"Bowls\", \"Alcohol\", \"Vegan\", \"Gluten-Free\", \"Healthy\", \"Vegetarian\", \"Kosher-Style\", \"Salads\", \"Thai\", \"Poke\", \"Hawaiian\", \"Asian_Fusion\", \"Afghan\", \"Meal_Kit\", \"Falafel\", \"Meatballs\", \"Senegalese\", \"Venezuelan\", \"Jamaican\", \"English\", \"British\", \"Filipino\", \"Haitian\", \"Irish\", \"Popcorn\", \"Albanian\", \"German\", \"Ukrainian\", \"Indian_Chinese\", \"Food_Truck\", \"South_African\", \"Scandinavian\", \"Yemeni\", \"Pretzels\", \"Kosher\", \"Asian\", \"Sandwiches\", \"Organic\", \"Mongolian\", \"Noodles\", \"Seafood\", \"Israeli\", \"American\", \"Dessert\", \"Vietnamese\", \"Soup\", \"Tapas\", \"Wraps\", \"Steak\", \"Hamburgers\", \"Middle_Eastern\", \"Mediterranean\", \"Breakfast\", \"Smoothies_and_Juices\", \"Halal\", \"Turkish\", \"BBQ\", \"Pizza\", \"Pasta\", \"Sushi\", \"Japanese\", \"Asian\", \"Noodles\", \"Korean\", \"Asian_Fusion\", \"Poke\", \"Meal_Kit\", \"Afghan\", \"Irish\", \"Senegalese\", \"Falafel\", \"German\", \"Hawaiian\", \"English\", \"Venezuelan\", \"Meatballs\", \"Australian\", \"British\", \"Filipino\", \"Haitian\", \"Jamaican\", \"Popcorn\", \"Ukrainian\", \"Albanian\", \"Belgian\", \"Austrian\", \"Yemeni\", \"Pretzels\", \"Creole\", \"Cambodian\", \"Egyptian\", \"Indian_Chinese\", \"South_African\", \"Food_Truck\", \"Chinese\", \"Salads\", \"Thai\", \"Scandinavian\", \"American\", \"Donuts\", \"Hamburgers\", \"South_Indian\", \"Sandwiches\", \"Wraps\", \"Mongolian\", \"Kids_Menu\", \"Cheesesteaks\", \"Hoagies\", \"Breakfast\", \"Healthy\", \"BBQ\", \"Smoothies_and_Juices\", \"Seafood\", \"Wings\", \"Pizza\", \"Low_Carb\", \"Grill\", \"Lunch_Specials\", \"Greek\", \"Subs\", \"Chicken\", \"Kosher-Style\", \"Diner\", \"Italian\", \"Steak\", \"Pizza\", \"Calzones\", \"Pasta\", \"Salads\", \"Sandwiches\", \"Meal_Kit\", \"Venezuelan\", \"Albanian\", \"Senegalese\", \"Falafel\", \"German\", \"Poke\", \"Hawaiian\", \"Afghan\", \"British\", \"Meatballs\", \"English\", \"Ukrainian\", \"Filipino\", \"Haitian\", \"Jamaican\", \"Asian_Fusion\", \"Irish\", \"Australian\", \"Egyptian\", \"Belgian\", \"Yemeni\", \"Pretzels\", \"Creole\", \"Food_Truck\", \"American\", \"Popcorn\", \"South_African\", \"Indian_Chinese\", \"Seafood\", \"Candy\", \"Hamburgers\", \"Scandinavian\", \"Donuts\", \"Mexican\", \"South_Indian\", \"Spanish\", \"Austrian\", \"Subs\", \"Soup\", \"Mongolian\", \"Italian\", \"Dessert\", \"Gluten-Free\", \"Chicken\", \"Grill\", \"Latin_American\", \"Sushi\", \"Japanese\", \"Asian\", \"Tapas\", \"Peruvian\", \"Middle_Eastern\", \"Alcohol\", \"Healthy\", \"Indian\", \"Vegetarian\", \"Breakfast\", \"Kids_Menu\", \"Chinese\", \"Deli\", \"Bagels\", \"Breakfast\", \"Sandwiches\", \"Bakery\", \"American\", \"Mandarin\", \"Donuts\", \"Meatballs\", \"Senegalese\", \"Falafel\", \"German\", \"Poke\", \"Hawaiian\", \"Afghan\", \"Venezuelan\", \"Haitian\", \"English\", \"British\", \"Filipino\", \"Irish\", \"Jamaican\", \"Asian_Fusion\", \"Popcorn\", \"Albanian\", \"Meal_Kit\", \"Ukrainian\", \"Scandinavian\", \"South_African\", \"Indian_Chinese\", \"Food_Truck\", \"Creole\", \"Wraps\", \"South_Indian\", \"Cantonese\", \"Austrian\", \"Szechwan\", \"Mongolian\", \"Coffee_and_Tea\", \"Hamburgers\", \"Chinese\", \"Salads\", \"Asian\", \"Lunch_Specials\", \"Healthy\", \"Soup\", \"Cheesesteaks\", \"Pizza\", \"Greek\", \"Wings\", \"Tex-Mex\", \"Noodles\", \"Diner\", \"Pasta\", \"Sushi\", \"Japanese\", \"Mexican\", \"Mediterranean\", \"Chicken\", \"Wings\", \"Seafood\", \"Dessert\", \"Hamburgers\", \"Salads\", \"Sandwiches\", \"American\", \"Jamaican\", \"Venezuelan\", \"Senegalese\", \"Falafel\", \"German\", \"Poke\", \"Hawaiian\", \"Afghan\", \"Haitian\", \"Meatballs\", \"English\", \"British\", \"Filipino\", \"Irish\", \"Asian_Fusion\", \"Popcorn\", \"Albanian\", \"Meal_Kit\", \"Ukrainian\", \"Indian_Chinese\", \"Candy\", \"Australian\", \"Wraps\", \"Scandinavian\", \"Gyro\", \"Halal\", \"Yemeni\", \"Vegetarian\", \"Mongolian\", \"Soup\", \"Low_Carb\", \"Pasta\", \"Grill\", \"Pizza\", \"Healthy\", \"Low_Fat\", \"Gluten-Free\", \"BBQ\", \"Pitas\", \"Subs\", \"Kids_Menu\", \"Middle_Eastern\", \"Calzones\", \"Italian\", \"Cheesesteaks\", \"Breakfast\", \"Mediterranean\", \"Noodles\", \"Greek\", \"Mediterranean\", \"Pitas\", \"Turkish\", \"Lebanese\", \"Persian\", \"Gyro\", \"Middle_Eastern\", \"Wraps\", \"Salads\", \"Sandwiches\", \"Falafel\", \"Meatballs\", \"German\", \"Poke\", \"Hawaiian\", \"Afghan\", \"Venezuelan\", \"Asian_Fusion\", \"English\", \"British\", \"Filipino\", \"Haitian\", \"Jamaican\", \"Albanian\", \"Popcorn\", \"Senegalese\", \"Meal_Kit\", \"Irish\", \"Scandinavian\", \"Vegetarian\", \"South_African\", \"Mongolian\", \"Yemeni\", \"Donuts\", \"Healthy\", \"Steak\", \"Hamburgers\", \"Chicken\", \"Seafood\", \"Gluten-Free\", \"American\", \"Burmese\", \"Austrian\", \"Pho\", \"Waffles\", \"Tibetan\", \"Guatemalan\", \"Israeli\", \"Egyptian\", \"South_Indian\", \"Breakfast\", \"Alcohol\", \"Dessert\", \"Pasta\", \"Pizza\", \"Grill\", \"Ribs\", \"BBQ\", \"New_American\", \"Italian\", \"Vegan\", \"Asian\", \"Coffee_and_Tea\", \"Cajun\", \"Brazilian\", \"South_American\", \"Korean\", \"Seafood\", \"Chicken\", \"Noodles\", \"Steak\", \"Soup\", \"Asian\", \"Vegetarian\", \"Chinese\", \"Hawaiian\", \"Poke\", \"Asian_Fusion\", \"Haitian\", \"Filipino\", \"British\", \"English\", \"Meatballs\", \"Venezuelan\", \"Afghan\", \"Jamaican\", \"Albanian\", \"German\", \"Popcorn\", \"Senegalese\", \"Meal_Kit\", \"Irish\", \"Ukrainian\", \"Falafel\", \"Yemeni\", \"Pretzels\", \"Healthy\", \"Salads\", \"Dessert\", \"Ribs\", \"Latin_American\", \"Thai\", \"Wings\", \"Scandinavian\", \"Egyptian\", \"Mongolian\", \"Austrian\", \"South_Indian\", \"Donuts\", \"Candy\", \"South_African\", \"Sandwiches\", \"Kids_Menu\", \"Tacos\", \"Caribbean\", \"Burritos\", \"Japanese\", \"Lunch_Specials\", \"Sushi\", \"Wraps\", \"Grill\", \"American\", \"Cafe\", \"Bakery\", \"Dessert\", \"Coffee_and_Tea\", \"Tex-Mex\", \"Breakfast\", \"Gluten-Free\", \"Donuts\", \"Meal_Kit\", \"Venezuelan\", \"Senegalese\", \"Falafel\", \"German\", \"Poke\", \"Hawaiian\", \"Afghan\", \"Haitian\", \"Meatballs\", \"English\", \"British\", \"Filipino\", \"Ukrainian\", \"Jamaican\", \"Asian_Fusion\", \"Albanian\", \"Irish\", \"Egyptian\", \"Scandinavian\", \"Yemeni\", \"Pretzels\", \"Australian\", \"Creole\", \"Sandwiches\", \"Kosher-Style\", \"Fresh_Fruits\", \"American\", \"Popcorn\", \"Mongolian\", \"Salads\", \"Bagels\", \"Soup\", \"Shakes\", \"Asian\", \"Seafood\", \"Steak\", \"Mexican\", \"Diner\", \"Healthy\", \"Sushi\", \"Japanese\", \"Cheesesteaks\", \"Deli\", \"Wraps\", \"Ice_Cream\", \"Vegetarian\", \"Pasta\", \"Hamburgers\", \"Ethiopian\", \"Grocery_Items\", \"Fresh_Fruits\", \"Organic\", \"Smoothies_and_Juices\", \"Coffee_and_Tea\", \"Healthy\", \"Wraps\", \"Vegan\", \"Breakfast\", \"Gluten-Free\", \"Vegetarian\", \"Salads\", \"Sandwiches\", \"Senegalese\", \"Popcorn\", \"Asian_Fusion\", \"Jamaican\", \"Haitian\", \"Filipino\", \"British\", \"English\", \"Meatballs\", \"Venezuelan\", \"Afghan\", \"Hawaiian\", \"German\", \"Falafel\", \"Meal_Kit\", \"Albanian\", \"Poke\", \"Dessert\", \"Ice_Cream\", \"Deli\", \"Bakery\", \"Mediterranean\", \"Middle_Eastern\", \"Lebanese\", \"Halal\", \"Hamburgers\", \"Soup\", \"Turkish\", \"American\", \"Irish\", \"Scandinavian\", \"Belgian\", \"Australian\", \"Greek\", \"African\", \"Mongolian\", \"Mexican\", \"Pretzels\", \"Grill\", \"Pizza\", \"Seafood\", \"Soul_Food\", \"Diner\", \"American\", \"Breakfast\", \"Seafood\", \"Waffles\", \"Venezuelan\", \"Albanian\", \"Senegalese\", \"Falafel\", \"German\", \"Poke\", \"Hawaiian\", \"Afghan\", \"English\", \"Meatballs\", \"Ukrainian\", \"British\", \"Filipino\", \"Haitian\", \"Jamaican\", \"Asian_Fusion\", \"Popcorn\", \"Irish\", \"Meal_Kit\", \"Australian\", \"Egyptian\", \"Food_Truck\", \"Creole\", \"Indian_Chinese\", \"Bar_Food\", \"Austrian\", \"Sandwiches\", \"South_African\", \"Pretzels\", \"Hamburgers\", \"Salads\", \"Donuts\", \"Pasta\", \"Candy\", \"Italian\", \"Steak\", \"Pizza\", \"Eclectic\", \"Deli\", \"Soup\", \"Bagels\", \"Healthy\", \"Calzones\", \"Grill\", \"Subs\", \"Asian\", \"Hoagies\", \"Hot_Dogs\", \"Mexican\", \"Wraps\", \"Caribbean\", \"Lunch_Specials\", \"Chicken\", \"Gluten-Free\", \"Ribs\", \"Middle_Eastern\", \"Vegetarian\", \"Chinese\", \"Taiwanese\", \"Southwestern\", \"Soup\", \"Salads\", \"Seafood\", \"Empanadas\", \"Meal_Kit\", \"Meatballs\", \"Albanian\", \"Senegalese\", \"Falafel\", \"German\", \"Poke\", \"Afghan\", \"Venezuelan\", \"Filipino\", \"English\", \"British\", \"Ukrainian\", \"Haitian\", \"Jamaican\", \"Asian_Fusion\", \"Popcorn\", \"Irish\", \"Hawaiian\", \"Australian\", \"Egyptian\", \"Yemeni\", \"Pretzels\", \"Creole\", \"Food_Truck\", \"Belgian\", \"Indian_Chinese\", \"South_African\", \"Sandwiches\", \"Austrian\", \"Vegetarian\", \"Scandinavian\", \"Healthy\", \"Wraps\", \"Mongolian\", \"Noodles\", \"Curry\", \"Breakfast\", \"Subs\", \"Hamburgers\", \"Dessert\", \"American\", \"Asian\", \"Pasta\", \"Chicken\", \"Mexican\", \"Shakes\", \"Mediterranean\", \"Grill\", \"Sushi\", \"Halal\", \"Japanese\", \"Italian\", \"Greek\", \"Pizza\", \"Coffee_and_Tea\", \"Spanish\", \"Mexican\", \"Latin_American\", \"Breakfast\", \"Seafood\", \"Meal_Kit\", \"Venezuelan\", \"Albanian\", \"Senegalese\", \"Falafel\", \"German\", \"Poke\", \"Hawaiian\", \"Afghan\", \"British\", \"Meatballs\", \"English\", \"Australian\", \"Filipino\", \"Haitian\", \"Jamaican\", \"Asian_Fusion\", \"Popcorn\", \"Irish\", \"Ukrainian\", \"Egyptian\", \"Pretzels\", \"Creole\", \"Food_Truck\", \"Indian_Chinese\", \"Tex-Mex\", \"Belgian\", \"Yemeni\", \"Austrian\", \"American\", \"Salads\", \"Sandwiches\", \"Donuts\", \"Healthy\", \"Scandinavian\", \"South_Indian\", \"Colombian\", \"Hamburgers\", \"Vegetarian\", \"Steak\", \"Hot_Dogs\", \"Chicken\", \"Smoothies_and_Juices\", \"Pasta\", \"Kids_Menu\", \"Soup\", \"Wings\", \"Organic\", \"Pizza\", \"Caribbean\", \"Coffee_and_Tea\", \"Argentinian\", \"Italian\", \"Dessert\", \"Subs\", \"Asian\", \"Tacos\", \"Burritos\", \"Pub_Food\", \"El_Salvadoran\", \"Polish\", \"Tex-Mex\", \"Mexican\", \"Breakfast\", \"Hamburgers\", \"Salads\", \"Sandwiches\", \"Poke\", \"Afghan\", \"Hawaiian\", \"Meal_Kit\", \"German\", \"Meatballs\", \"Falafel\", \"Venezuelan\", \"Asian_Fusion\", \"English\", \"British\", \"Filipino\", \"Haitian\", \"Jamaican\", \"Popcorn\", \"Senegalese\", \"Albanian\", \"Irish\", \"Ukrainian\", \"American\", \"Egyptian\", \"Wraps\", \"Latin_American\", \"Grill\", \"Chicken\", \"Seafood\", \"Deli\", \"Low_Carb\", \"Dessert\", \"Soup\", \"Gyro\", \"Steak\", \"Healthy\", \"Pizza\", \"Wings\", \"Peruvian\", \"Middle_Eastern\", \"Pitas\", \"Vegetarian\", \"Bakery\", \"Vegan\", \"Pasta\", \"Indian\", \"Pakistani\", \"Nepalese\", \"Halal\", \"Vegetarian\", \"Middle_Eastern\", \"Healthy\", \"Indian_Chinese\", \"South_Indian\", \"Meatballs\", \"Senegalese\", \"Falafel\", \"German\", \"Poke\", \"Hawaiian\", \"Afghan\", \"Venezuelan\", \"Haitian\", \"English\", \"British\", \"Filipino\", \"Irish\", \"Jamaican\", \"Asian_Fusion\", \"Popcorn\", \"Albanian\", \"Meal_Kit\", \"Ukrainian\", \"Mongolian\", \"Australian\", \"Donuts\", \"Candy\", \"Vegan\", \"Egyptian\", \"Food_Truck\", \"Creole\", \"Scandinavian\", \"Yemeni\", \"Pretzels\", \"Asian\", \"Israeli\", \"Gluten-Free\", \"Dessert\", \"Eclectic\", \"Noodles\", \"Soup\", \"Chinese\", \"Lebanese\", \"Kids_Menu\", \"Sandwiches\", \"Thai\", \"Ice_Cream\", \"American\", \"Sushi\", \"Vietnamese\", \"Italian\", \"Japanese\", \"Mexican\", \"Spanish\", \"Pasta\", \"Breakfast\", \"Latin_American\", \"Hamburgers\", \"Frozen_Yogurt\", \"Ecuadorian\", \"Lunch_Specials\", \"Caribbean\", \"Pretzels\", \"Meal_Kit\", \"Venezuelan\", \"Albanian\", \"Senegalese\", \"Falafel\", \"German\", \"Poke\", \"Hawaiian\", \"Afghan\", \"British\", \"Meatballs\", \"English\", \"Australian\", \"Filipino\", \"Haitian\", \"Jamaican\", \"Asian_Fusion\", \"Popcorn\", \"Irish\", \"Ukrainian\", \"Egyptian\", \"Scandinavian\", \"South_African\", \"Creole\", \"Yemeni\", \"Food_Truck\", \"Indian_Chinese\", \"Cuban\", \"Belgian\", \"Breakfast\", \"American\", \"Donuts\", \"Candy\", \"Hot_Dogs\", \"Hamburgers\", \"Latin_American\", \"Austrian\", \"Cheesesteaks\", \"Mongolian\", \"Indian\", \"Ice_Cream\", \"Calzones\", \"Sandwiches\", \"Pizza\", \"Subs\", \"Pasta\", \"Seafood\", \"Salads\", \"Italian\", \"Grocery_Items\", \"Chicken\", \"Dessert\", \"Steak\", \"Coffee_and_Tea\", \"Crepes\", \"Lebanese\", \"Curry\", \"Wraps\", \"Vietnamese\", \"Low_Fat\", \"Low_Carb\", \"Noodles\", \"Soup\", \"Asian\", \"Vegetarian\", \"Pho\", \"Asian_Fusion\", \"Meal_Kit\", \"Venezuelan\", \"Falafel\", \"German\", \"Poke\", \"Hawaiian\", \"Afghan\", \"Filipino\", \"Meatballs\", \"English\", \"British\", \"Irish\", \"Haitian\", \"Jamaican\", \"Popcorn\", \"Albanian\", \"Senegalese\", \"Ukrainian\", \"Egyptian\", \"Yemeni\", \"Pretzels\", \"Food_Truck\", \"Indian_Chinese\", \"Healthy\", \"South_African\", \"Thai\", \"Donuts\", \"Sandwiches\", \"Chinese\", \"Scandinavian\", \"Coffee_and_Tea\", \"Salads\", \"Wraps\", \"Grill\", \"Mongolian\", \"Austrian\", \"South_Indian\", \"Candy\", \"Wings\", \"Creole\", \"Chicken\", \"Breakfast\", \"Indian\", \"Vegan\", \"Kids_Menu\", \"American\", \"Lunch_Specials\", \"Hoagies\", \"Japanese\", \"Cheesesteaks\", \"Hamburgers\", \"Pizza\", \"Middle_Eastern\", \"Sushi\", \"Crepes\", \"Shakes\", \"Ice_Cream\", \"Chili\", \"Steak\", \"Dessert\", \"Hot_Dogs\", \"Smoothies_and_Juices\", \"Hamburgers\", \"Waffles\", \"Poke\", \"Hawaiian\", \"Meal_Kit\", \"German\", \"Venezuelan\", \"Falafel\", \"Afghan\", \"Haitian\", \"Meatballs\", \"English\", \"British\", \"Filipino\", \"Jamaican\", \"Asian_Fusion\", \"Popcorn\", \"Senegalese\", \"Albanian\", \"Irish\", \"Egyptian\", \"Yemeni\", \"Salads\", \"Ukrainian\", \"Sandwiches\", \"American\", \"Breakfast\", \"Gyro\", \"Wraps\", \"Cheesesteaks\", \"Hoagies\", \"Southern\", \"Wings\", \"Chicken\", \"Pasta\", \"Kids_Menu\", \"Seafood\", \"French\", \"Subs\", \"Diner\", \"Coffee_and_Tea\", \"Healthy\", \"Ribs\", \"Soup\", \"Pizza\", \"Vegetarian\", \"Fine_Dining\", \"Colombian\", \"Dominican\", \"Argentinian\", \"Empanadas\", \"Hot_Dogs\", \"Halal\", \"Latin_American\", \"Spanish\", \"Szechwan\", \"Venezuelan\", \"Senegalese\", \"Meatballs\", \"Falafel\", \"Poke\", \"Hawaiian\", \"Afghan\", \"Jamaican\", \"English\", \"British\", \"Filipino\", \"Haitian\", \"Irish\", \"Asian_Fusion\", \"Popcorn\", \"Albanian\", \"Meal_Kit\", \"Ukrainian\", \"Egyptian\", \"Yemeni\", \"Scandinavian\", \"German\", \"Breakfast\", \"Lunch_Specials\", \"Hamburgers\", \"Sandwiches\", \"American\", \"BBQ\", \"Seafood\", \"Cantonese\", \"Dessert\", \"Salads\", \"Asian\", \"Chinese\", \"Grill\", \"Steak\", \"Bakery\", \"Subs\", \"Chicken\", \"Deli\", \"Indian\", \"Middle_Eastern\", \"Snacks\", \"Cakes\", \"Californian\", \"Malaysian\", \"Szechwan\", \"Indonesian\", \"Mandarin\", \"Eclectic\", \"Cantonese\", \"Chinese\", \"Vegetarian\", \"Healthy\", \"German\", \"English\", \"Poke\", \"Hawaiian\", \"Afghan\", \"Venezuelan\", \"Meatballs\", \"Meal_Kit\", \"British\", \"Filipino\", \"Jamaican\", \"Asian_Fusion\", \"Senegalese\", \"Popcorn\", \"Falafel\", \"Haitian\", \"Albanian\", \"Mongolian\", \"Irish\", \"Scandinavian\", \"Asian\", \"South_Indian\", \"Egyptian\", \"Donuts\", \"Candy\", \"South_African\", \"Indian_Chinese\", \"Food_Truck\", \"Creole\", \"Noodles\", \"Seafood\", \"Soup\", \"Chicken\", \"Japanese\", \"Salads\", \"Sushi\", \"Smoothies_and_Juices\", \"Low_Carb\", \"Sandwiches\", \"Coffee_and_Tea\", \"Breakfast\", \"American\", \"Dessert\", \"Hamburgers\", \"Low_Fat\", \"Vegan\", \"Gluten-Free\", \"Lunch_Specials\", \"Thai\", \"BBQ\", \"Southern\", \"Ribs\", \"American\", \"Venezuelan\", \"Irish\", \"Albanian\", \"Senegalese\", \"Falafel\", \"German\", \"Poke\", \"Hawaiian\", \"Afghan\", \"English\", \"Meatballs\", \"Australian\", \"British\", \"Filipino\", \"Haitian\", \"Jamaican\", \"Asian_Fusion\", \"Popcorn\", \"Ukrainian\", \"Meal_Kit\", \"Belgian\", \"Austrian\", \"Food_Truck\", \"Creole\", \"Cambodian\", \"Pretzels\", \"Yemeni\", \"Sandwiches\", \"Chicken\", \"Egyptian\", \"Hamburgers\", \"Seafood\", \"Salads\", \"South_African\", \"Scandinavian\", \"Donuts\", \"Pasta\", \"South_Indian\", \"Indian_Chinese\", \"Subs\", \"Pizza\", \"Dessert\", \"Asian\", \"Cantonese\", \"Calzones\", \"Italian\", \"Thai\", \"Vegetarian\", \"Healthy\", \"Wings\", \"Middle_Eastern\", \"Chinese\", \"Soup\", \"Eclectic\", \"Noodles\", \"Indian\", \"Breakfast\", \"Wraps\", \"Szechwan\", \"Greek\", \"New_American\", \"Kids_Menu\", \"Costa_Rican\", \"Sandwiches\", \"Donuts\", \"Venezuelan\", \"Albanian\", \"Senegalese\", \"Falafel\", \"German\", \"Poke\", \"Hawaiian\", \"Afghan\", \"British\", \"Meatballs\", \"English\", \"Australian\", \"Filipino\", \"Haitian\", \"Jamaican\", \"Asian_Fusion\", \"Popcorn\", \"Irish\", \"Meal_Kit\", \"Belgian\", \"Scandinavian\", \"Yemeni\", \"Pretzels\", \"Creole\", \"Food_Truck\", \"Ukrainian\", \"Egyptian\", \"Salads\", \"Breakfast\", \"Cambodian\", \"Hamburgers\", \"Austrian\", \"American\", \"South_African\", \"Wings\", \"Mexican\", \"Candy\", \"Pasta\", \"Wraps\", \"Mongolian\", \"Smoothies_and_Juices\", \"Coffee_and_Tea\", \"Pizza\", \"Subs\", \"Asian\", \"Vietnamese\", \"Deli\", \"Cheesesteaks\", \"Grill\", \"Vegetarian\", \"Soup\", \"Szechwan\", \"Noodles\", \"Healthy\", \"Chicken\", \"Italian\", \"Calzones\", \"Chinese\", \"Seafood\", \"Peruvian\", \"Tapas\", \"Russian\", \"Puerto_Rican\", \"Latin_American\", \"Gluten-Free\", \"Meal_Kit\", \"Afghan\", \"Irish\", \"Albanian\", \"Senegalese\", \"Falafel\", \"German\", \"Poke\", \"Hawaiian\", \"English\", \"Venezuelan\", \"Meatballs\", \"Australian\", \"British\", \"Filipino\", \"Haitian\", \"Jamaican\", \"Ukrainian\", \"Asian_Fusion\", \"Belgian\", \"Austrian\", \"Yemeni\", \"Pretzels\", \"Creole\", \"Popcorn\", \"Egyptian\", \"Food_Truck\", \"Indian_Chinese\", \"Seafood\", \"Sandwiches\", \"South_African\", \"Scandinavian\", \"Salads\", \"Pasta\", \"Candy\", \"Donuts\", \"Calzones\", \"South_Indian\", \"Healthy\", \"Italian\", \"Pizza\", \"Wraps\", \"Low_Carb\", \"Chicken\", \"Vegetarian\", \"Subs\", \"Middle_Eastern\", \"Kids_Menu\", \"American\", \"Breakfast\", \"Deli\", \"Mediterranean\", \"Asian\", \"Mexican\", \"Szechwan\", \"BBQ\", \"Sushi\", \"Japanese\", \"Chinese\", \"Grill\", \"Meal_Kit\", \"Afghan\", \"Ukrainian\", \"Irish\", \"Albanian\", \"Senegalese\", \"Falafel\", \"German\", \"Poke\", \"Hawaiian\", \"Venezuelan\", \"Belgian\", \"Meatballs\", \"English\", \"British\", \"Filipino\", \"Haitian\", \"Jamaican\", \"Asian_Fusion\", \"Australian\", \"Cambodian\", \"Austrian\", \"Bar_Food\", \"Yemeni\", \"Pretzels\", \"Creole\", \"Food_Truck\", \"Indian_Chinese\", \"South_African\", \"American\", \"Popcorn\", \"Hamburgers\", \"Sandwiches\", \"Egyptian\", \"Salads\", \"Healthy\", \"Gyro\", \"Pasta\", \"Candy\", \"Seafood\", \"Steak\", \"Scandinavian\", \"Breakfast\", \"Vegetarian\", \"Subs\", \"Pizza\", \"Mediterranean\", \"Middle_Eastern\", \"Wraps\", \"Persian\", \"Lebanese\", \"Chinese\", \"Italian\", \"BBQ\", \"Asian\", \"Chicken\", \"Wings\", \"Dessert\", \"Turkish\", \"Greek\", \"Deli\", \"Halal\", \"Lunch_Specials\", \"Smoothies_and_Juices\", \"African\", \"Potato\", \"Kosher\", \"Cuban\", \"Caribbean\", \"Kosher-Style\", \"Moroccan\", \"Jamaican\", \"Meal_Kit\", \"Afghan\", \"Albanian\", \"Senegalese\", \"Falafel\", \"German\", \"Poke\", \"Hawaiian\", \"Haitian\", \"Venezuelan\", \"English\", \"British\", \"Filipino\", \"Ukrainian\", \"Asian_Fusion\", \"Popcorn\", \"Irish\", \"Meatballs\", \"Australian\", \"Scandinavian\", \"Donuts\", \"Indian_Chinese\", \"South_African\", \"Belgian\", \"Egyptian\", \"Yemeni\", \"Pretzels\", \"Creole\", \"Food_Truck\", \"Sandwiches\", \"Seafood\", \"Breakfast\", \"Salads\", \"Wraps\", \"Latin_American\", \"American\", \"Healthy\", \"Deli\", \"Hamburgers\", \"Puerto_Rican\", \"Vegetarian\", \"Pasta\", \"Bagels\", \"Pizza\", \"Soup\", \"Persian\", \"Middle_Eastern\", \"Italian\", \"Grill\", \"Vegan\", \"Diner\", \"Chicken\", \"Indian\", \"Asian\", \"Bubble_Tea\", \"Curry\", \"Dim_Sum\", \"French\", \"Moroccan\", \"Thai\", \"Noodles\", \"Asian\", \"Asian_Fusion\", \"Poke\", \"Pho\", \"Falafel\", \"German\", \"Venezuelan\", \"Hawaiian\", \"Afghan\", \"Senegalese\", \"Meal_Kit\", \"Meatballs\", \"English\", \"British\", \"Irish\", \"Haitian\", \"Jamaican\", \"Popcorn\", \"Filipino\", \"Albanian\", \"Ukrainian\", \"Egyptian\", \"Yemeni\", \"Indian_Chinese\", \"Scandinavian\", \"South_African\", \"Soup\", \"Salads\", \"Chinese\", \"Mongolian\", \"Breakfast\", \"Lunch_Specials\", \"Dessert\", \"Cantonese\", \"Vegetarian\", \"Sandwiches\", \"Coffee_and_Tea\", \"Eclectic\", \"Seafood\", \"Greek\", \"Wraps\", \"American\", \"Healthy\", \"Italian\", \"Pasta\", \"Gyro\", \"African\", \"Smoothies_and_Juices\", \"Kosher-Style\", \"Mediterranean\", \"Sushi\", \"Pizza\", \"Ramen\", \"[]\", \"Japanese\", \"Noodles\", \"Asian_Fusion\", \"Poke\", \"Afghan\", \"Irish\", \"Albanian\", \"Senegalese\", \"Falafel\", \"German\", \"Hawaiian\", \"Meatballs\", \"Venezuelan\", \"Belgian\", \"English\", \"British\", \"Filipino\", \"Haitian\", \"Jamaican\", \"Popcorn\", \"Australian\", \"Meal_Kit\", \"Cambodian\", \"Austrian\", \"Yemeni\", \"Pretzels\", \"Creole\", \"Food_Truck\", \"Asian\", \"Ukrainian\", \"Egyptian\", \"Indian_Chinese\", \"South_African\", \"Ribs\", \"Salads\", \"Kosher-Style\", \"Scandinavian\", \"Sandwiches\", \"Candy\", \"Sushi\", \"Seafood\", \"Mongolian\", \"Thai\", \"Wings\", \"Chinese\", \"Vegetarian\", \"Pizza\", \"Pasta\", \"Healthy\", \"Hamburgers\", \"Dessert\", \"American\", \"Vietnamese\", \"Peruvian\", \"Middle_Eastern\", \"Italian\", \"Wraps\", \"Latin_American\", \"Kosher\", \"Soup\", \"Calzones\", \"Indian\"], \"Total\": [4304.0, 4998.0, 2549.0, 2365.0, 2059.0, 1637.0, 2228.0, 2230.0, 2630.0, 3117.0, 3614.0, 1848.0, 4653.0, 7902.0, 1890.0, 1633.0, 1362.0, 2303.0, 1348.0, 3270.0, 1368.0, 2433.0, 6218.0, 1294.0, 909.0, 2174.0, 1538.0, 793.0, 1516.0, 907.0, 2630.976318359375, 1483.3111572265625, 4998.4521484375, 2303.311767578125, 52.24440002441406, 1362.5726318359375, 113.29645538330078, 1.3136829137802124, 1.3136829137802124, 1.3136829137802124, 1.3136829137802124, 1.3136829137802124, 1.3136829137802124, 1.3136829137802124, 1.3136829137802124, 1.3136829137802124, 1.3136829137802124, 1.3136829137802124, 1.3136829137802124, 1.3136829137802124, 1.3136829137802124, 1.3136829137802124, 1.3136829137802124, 1.3136829137802124, 1.3136829137802124, 1.3136829137802124, 1.3136829137802124, 1.3136829137802124, 1.3136829137802124, 1.3136829137802124, 1.3136829137802124, 1.3136829137802124, 1.3136829137802124, 1.3136829137802124, 1.3136829137802124, 1848.52490234375, 1.3136829137802124, 1.3136829137802124, 142.2852783203125, 1.3136829137802124, 2059.311767578125, 728.4139404296875, 1541.6405029296875, 3117.02392578125, 3614.274658203125, 6218.52587890625, 2174.70751953125, 793.2255859375, 1538.4847412109375, 1633.156005859375, 4653.0888671875, 7902.912109375, 769.2738647460938, 2365.03173828125, 2230.8388671875, 387.85113525390625, 162.18443298339844, 69.74147033691406, 3270.928466796875, 1368.59619140625, 909.28564453125, 2433.774169921875, 1890.6029052734375, 639.0368041992188, 2433.774169921875, 496.7882080078125, 4304.83544921875, 6218.52587890625, 1516.2071533203125, 1390.2060546875, 7902.912109375, 1.3136829137802124, 1.3136829137802124, 1.3136829137802124, 1.3136829137802124, 1.3136829137802124, 1.3136829137802124, 1.3136829137802124, 1.3136829137802124, 1.3136829137802124, 1.3136829137802124, 1.3136829137802124, 1.3136829137802124, 1.3136829137802124, 1.3136829137802124, 1.3136829137802124, 1.3136829137802124, 1.3136829137802124, 1.3136829137802124, 1.3136829137802124, 1.3136829137802124, 1.3136829137802124, 3614.274658203125, 1.3136829137802124, 1.3136829137802124, 1.3136829137802124, 409.5945129394531, 510.7328186035156, 1.3136829137802124, 4653.0888671875, 485.7829284667969, 2630.976318359375, 3270.928466796875, 1362.5726318359375, 4998.4521484375, 3117.02392578125, 793.2255859375, 1538.4847412109375, 52.24440002441406, 106.72921752929688, 1541.6405029296875, 44.14634323120117, 142.2852783203125, 1633.156005859375, 113.29645538330078, 1348.3236083984375, 492.4649963378906, 1368.59619140625, 1483.3111572265625, 143.13706970214844, 252.9469451904297, 3270.928466796875, 1516.2071533203125, 3614.274658203125, 7902.912109375, 639.0368041992188, 1390.2060546875, 496.7882080078125, 4304.83544921875, 6218.52587890625, 20.777835845947266, 2433.774169921875, 1.3136829137802124, 1.3136829137802124, 1.3136829137802124, 1.3136829137802124, 1.3136829137802124, 1.3136829137802124, 1.3136829137802124, 1.3136829137802124, 1.3136829137802124, 1.3136829137802124, 1.3136829137802124, 1.3136829137802124, 1.3136829137802124, 1.3136829137802124, 1.3136829137802124, 1.3136829137802124, 1.3136829137802124, 1890.6029052734375, 2230.8388671875, 4653.0888671875, 345.6586608886719, 510.7328186035156, 2174.70751953125, 2228.94921875, 1541.6405029296875, 793.2255859375, 959.6712646484375, 3117.02392578125, 769.2738647460938, 81.84490966796875, 909.28564453125, 470.27764892578125, 485.7829284667969, 492.4649963378906, 2365.03173828125, 4998.4521484375, 813.5136108398438, 1637.047607421875, 20.777835845947266, 11.130810737609863, 1390.2060546875, 1538.4847412109375, 6218.52587890625, 4653.0888671875, 3270.928466796875, 7902.912109375, 3614.274658203125, 639.0368041992188, 1633.156005859375, 408.19805908203125, 1.3136829137802124, 1.3136829137802124, 1.3136829137802124, 1.3136829137802124, 1.3136829137802124, 1.3136829137802124, 1.3136829137802124, 1.3136829137802124, 1.3136829137802124, 1.3136829137802124, 1.3136829137802124, 1.3136829137802124, 1.3136829137802124, 1.3136829137802124, 1.3136829137802124, 1.3136829137802124, 1.3136829137802124, 1.3136829137802124, 1.3136829137802124, 813.5136108398438, 428.1043701171875, 116.9607925415039, 1541.6405029296875, 2365.03173828125, 2433.774169921875, 2230.8388671875, 345.6586608886719, 630.1790161132812, 3117.02392578125, 142.2101287841797, 4304.83544921875, 2228.94921875, 104.87266540527344, 2303.311767578125, 909.28564453125, 4998.4521484375, 2174.70751953125, 1294.9771728515625, 69.74147033691406, 959.6712646484375, 409.5945129394531, 1541.6405029296875, 2174.70751953125, 23.96159553527832, 6218.52587890625, 1483.3111572265625, 1.3136829137802124, 1.3136829137802124, 1.3136829137802124, 1.3136829137802124, 1.3136829137802124, 1.3136829137802124, 1.3136829137802124, 1.3136829137802124, 1.3136829137802124, 1.3136829137802124, 1.3136829137802124, 1.3136829137802124, 1.3136829137802124, 1.3136829137802124, 1.3136829137802124, 1.3136829137802124, 1.3136829137802124, 1.3136829137802124, 1.3136829137802124, 1.3136829137802124, 1.3136829137802124, 1.3136829137802124, 1.3136829137802124, 1.3136829137802124, 1.3136829137802124, 104.87266540527344, 4998.4521484375, 7902.912109375, 84.04119873046875, 1.3136829137802124, 2303.311767578125, 3117.02392578125, 1.3136829137802124, 3614.274658203125, 2230.8388671875, 728.4139404296875, 2365.03173828125, 174.45187377929688, 1390.2060546875, 345.6586608886719, 3270.928466796875, 492.4649963378906, 1348.3236083984375, 4653.0888671875, 1633.156005859375, 485.7829284667969, 119.77474975585938, 769.2738647460938, 4304.83544921875, 2433.774169921875, 2059.311767578125, 1848.52490234375, 4998.4521484375, 2303.311767578125, 387.85113525390625, 1.3136829137802124, 1.3136829137802124, 1.3136829137802124, 1.3136829137802124, 1.3136829137802124, 1.3136829137802124, 1.3136829137802124, 1.3136829137802124, 1.3136829137802124, 1.3136829137802124, 1.3136829137802124, 1.3136829137802124, 1.3136829137802124, 1.3136829137802124, 1.3136829137802124, 1.3136829137802124, 1.3136829137802124, 1.3136829137802124, 1.3136829137802124, 1.3136829137802124, 1.3136829137802124, 1.3136829137802124, 1.3136829137802124, 1.3136829137802124, 1.3136829137802124, 1.3136829137802124, 1.3136829137802124, 1.3136829137802124, 1.3136829137802124, 1.3136829137802124, 2630.976318359375, 6218.52587890625, 1483.3111572265625, 1.3136829137802124, 3614.274658203125, 1.3136829137802124, 3270.928466796875, 1.3136829137802124, 7902.912109375, 1390.2060546875, 1.3136829137802124, 793.2255859375, 252.9469451904297, 143.13706970214844, 4653.0888671875, 1541.6405029296875, 769.2738647460938, 1633.156005859375, 3117.02392578125, 1516.2071533203125, 4304.83544921875, 23.169273376464844, 909.28564453125, 1362.5726318359375, 426.0716247558594, 639.0368041992188, 2228.94921875, 23.96159553527832, 428.1043701171875, 1890.6029052734375, 345.6586608886719, 4304.83544921875, 496.7882080078125, 2433.774169921875, 6218.52587890625, 7902.912109375, 1.3136829137802124, 1.3136829137802124, 1.3136829137802124, 1.3136829137802124, 1.3136829137802124, 1.3136829137802124, 1.3136829137802124, 1.3136829137802124, 1.3136829137802124, 1.3136829137802124, 1.3136829137802124, 1.3136829137802124, 1.3136829137802124, 1.3136829137802124, 1.3136829137802124, 1.3136829137802124, 1.3136829137802124, 1.3136829137802124, 1.3136829137802124, 1.3136829137802124, 1.3136829137802124, 1.3136829137802124, 1.3136829137802124, 1.3136829137802124, 1.3136829137802124, 3614.274658203125, 1.3136829137802124, 1.3136829137802124, 1.3136829137802124, 3117.02392578125, 1.3136829137802124, 3270.928466796875, 1.3136829137802124, 1.3136829137802124, 2549.801025390625, 1.3136829137802124, 216.13270568847656, 1.3136829137802124, 639.0368041992188, 2365.03173828125, 1.3136829137802124, 1890.6029052734375, 2230.8388671875, 409.5945129394531, 2228.94921875, 909.28564453125, 1368.59619140625, 2059.311767578125, 1848.52490234375, 4998.4521484375, 174.45187377929688, 248.99346923828125, 492.4649963378906, 69.74147033691406, 1541.6405029296875, 1637.047607421875, 2174.70751953125, 4653.0888671875, 793.2255859375, 2630.976318359375, 813.5136108398438, 408.19805908203125, 4653.0888671875, 7902.912109375, 630.1790161132812, 3614.274658203125, 40.004783630371094, 1.3136829137802124, 1.3136829137802124, 1.3136829137802124, 1.3136829137802124, 1.3136829137802124, 1.3136829137802124, 1.3136829137802124, 1.3136829137802124, 1.3136829137802124, 1.3136829137802124, 1.3136829137802124, 1.3136829137802124, 1.3136829137802124, 1.3136829137802124, 1.3136829137802124, 1.3136829137802124, 1.3136829137802124, 1.3136829137802124, 1.3136829137802124, 1.3136829137802124, 1.3136829137802124, 1.3136829137802124, 1.3136829137802124, 1.3136829137802124, 1.3136829137802124, 1390.2060546875, 1.3136829137802124, 52.24440002441406, 1.3136829137802124, 142.2852783203125, 1.3136829137802124, 1538.4847412109375, 3270.928466796875, 2630.976318359375, 6218.52587890625, 4998.4521484375, 1362.5726318359375, 1541.6405029296875, 2365.03173828125, 252.9469451904297, 4304.83544921875, 426.0716247558594, 1516.2071533203125, 74.1943130493164, 2303.311767578125, 428.1043701171875, 2433.774169921875, 2059.311767578125, 1848.52490234375, 2549.801025390625, 1348.3236083984375, 2228.94921875, 1516.2071533203125, 3117.02392578125, 2230.8388671875, 3270.928466796875, 6218.52587890625, 7902.912109375, 3614.274658203125, 1.3136829137802124, 1.3136829137802124, 1.3136829137802124, 1.3136829137802124, 1.3136829137802124, 1.3136829137802124, 1.3136829137802124, 1.3136829137802124, 1.3136829137802124, 1.3136829137802124, 1.3136829137802124, 1.3136829137802124, 1.3136829137802124, 1.3136829137802124, 1.3136829137802124, 1.3136829137802124, 1.3136829137802124, 1.3136829137802124, 1.3136829137802124, 1.3136829137802124, 1.3136829137802124, 1.3136829137802124, 1390.2060546875, 1.3136829137802124, 510.7328186035156, 485.7829284667969, 1.3136829137802124, 2174.70751953125, 1.3136829137802124, 2365.03173828125, 23.169273376464844, 2433.774169921875, 909.28564453125, 4304.83544921875, 1541.6405029296875, 24.845073699951172, 409.5945129394531, 769.2738647460938, 218.27626037597656, 639.0368041992188, 793.2255859375, 492.4649963378906, 496.7882080078125, 1890.6029052734375, 252.9469451904297, 4653.0888671875, 1348.3236083984375, 2303.311767578125, 426.0716247558594, 1348.3236083984375, 218.27626037597656, 119.77474975585938, 115.86334228515625, 53.399932861328125, 510.7328186035156, 492.4649963378906, 1390.2060546875, 6218.52587890625, 7902.912109375, 1.3136829137802124, 1.3136829137802124, 1.3136829137802124, 1.3136829137802124, 1.3136829137802124, 1.3136829137802124, 1.3136829137802124, 1.3136829137802124, 1.3136829137802124, 1.3136829137802124, 1.3136829137802124, 1.3136829137802124, 1.3136829137802124, 1.3136829137802124, 1.3136829137802124, 1.3136829137802124, 1.3136829137802124, 1.3136829137802124, 1.3136829137802124, 2174.70751953125, 1.3136829137802124, 1.3136829137802124, 1.3136829137802124, 1.3136829137802124, 1541.6405029296875, 345.6586608886719, 3270.928466796875, 2228.94921875, 3117.02392578125, 409.5945129394531, 3614.274658203125, 1.3136829137802124, 1.3136829137802124, 1.3136829137802124, 1.3136829137802124, 1.3136829137802124, 1.3136829137802124, 1.3136829137802124, 1.3136829137802124, 1.3136829137802124, 4653.0888671875, 69.74147033691406, 2230.8388671875, 2433.774169921875, 4304.83544921875, 909.28564453125, 142.2101287841797, 769.2738647460938, 142.08880615234375, 1890.6029052734375, 959.6712646484375, 4998.4521484375, 1538.4847412109375, 126.23959350585938, 54.63307189941406, 48.033451080322266, 387.85113525390625, 3117.02392578125, 2228.94921875, 2303.311767578125, 345.6586608886719, 2365.03173828125, 4998.4521484375, 2174.70751953125, 2630.976318359375, 1.3136829137802124, 1.3136829137802124, 1.3136829137802124, 1.3136829137802124, 1.3136829137802124, 1.3136829137802124, 1.3136829137802124, 1.3136829137802124, 1.3136829137802124, 1.3136829137802124, 1.3136829137802124, 1.3136829137802124, 1.3136829137802124, 1.3136829137802124, 1.3136829137802124, 1.3136829137802124, 1.3136829137802124, 1.3136829137802124, 1.3136829137802124, 1.3136829137802124, 1.3136829137802124, 1541.6405029296875, 6218.52587890625, 2230.8388671875, 142.2101287841797, 1368.59619140625, 1483.3111572265625, 1516.2071533203125, 1.3136829137802124, 1.3136829137802124, 1.3136829137802124, 1.3136829137802124, 1.3136829137802124, 1.3136829137802124, 1.3136829137802124, 1.3136829137802124, 7902.912109375, 793.2255859375, 907.4031982421875, 480.5104675292969, 604.0760498046875, 1848.52490234375, 1362.5726318359375, 2059.311767578125, 1390.2060546875, 909.28564453125, 3614.274658203125, 336.713134765625, 630.1790161132812, 2230.8388671875, 1538.4847412109375, 74.1943130493164, 4653.0888671875, 409.5945129394531, 1.3136829137802124, 1.3136829137802124, 1.3136829137802124, 1.3136829137802124, 1.3136829137802124, 1.3136829137802124, 1.3136829137802124, 1.3136829137802124, 1.3136829137802124, 1.3136829137802124, 1.3136829137802124, 1.3136829137802124, 1.3136829137802124, 1.3136829137802124, 1.3136829137802124, 1.3136829137802124, 1.3136829137802124, 1.3136829137802124, 1.3136829137802124, 1.3136829137802124, 1.3136829137802124, 1.3136829137802124, 1.3136829137802124, 1.3136829137802124, 1.3136829137802124, 7902.912109375, 23.96159553527832, 51.315216064453125, 3614.274658203125, 1.3136829137802124, 1.3136829137802124, 6218.52587890625, 408.19805908203125, 2365.03173828125, 288.8828430175781, 4998.4521484375, 3117.02392578125, 345.6586608886719, 2549.801025390625, 428.1043701171875, 1541.6405029296875, 2059.311767578125, 1848.52490234375, 252.9469451904297, 813.5136108398438, 1390.2060546875, 438.1490173339844, 2174.70751953125, 2433.774169921875, 3270.928466796875, 62.24715042114258, 116.9607925415039, 51.315216064453125, 84.04119873046875, 1633.156005859375, 1538.4847412109375, 1541.6405029296875, 1390.2060546875, 959.6712646484375, 4653.0888671875, 409.5945129394531, 2174.70751953125, 6218.52587890625, 7902.912109375, 1.3136829137802124, 1.3136829137802124, 1.3136829137802124, 1.3136829137802124, 1.3136829137802124, 1.3136829137802124, 1.3136829137802124, 1.3136829137802124, 1.3136829137802124, 1.3136829137802124, 1.3136829137802124, 1.3136829137802124, 1.3136829137802124, 1.3136829137802124, 1.3136829137802124, 1.3136829137802124, 1.3136829137802124, 2230.8388671875, 438.1490173339844, 813.5136108398438, 630.1790161132812, 1348.3236083984375, 492.4649963378906, 115.86334228515625, 485.7829284667969, 3270.928466796875, 2365.03173828125, 119.77474975585938, 3614.274658203125, 1.3136829137802124, 1.3136829137802124, 1.3136829137802124, 1.3136829137802124, 426.0716247558594, 247.30148315429688, 1.3136829137802124, 2549.801025390625, 1.3136829137802124, 909.28564453125, 4304.83544921875, 3117.02392578125, 333.7246398925781, 428.1043701171875, 3614.274658203125, 4653.0888671875, 3117.02392578125, 1.3136829137802124, 1.3136829137802124, 1.3136829137802124, 1.3136829137802124, 1.3136829137802124, 1.3136829137802124, 1.3136829137802124, 1.3136829137802124, 1.3136829137802124, 1.3136829137802124, 1.3136829137802124, 1.3136829137802124, 1.3136829137802124, 1.3136829137802124, 1.3136829137802124, 1.3136829137802124, 1.3136829137802124, 1.3136829137802124, 1.3136829137802124, 1.3136829137802124, 1.3136829137802124, 1.3136829137802124, 1.3136829137802124, 1.3136829137802124, 1.3136829137802124, 1.313683032989502, 1.3136829137802124, 7902.912109375, 1.3136829137802124, 1.3136829137802124, 3270.928466796875, 6218.52587890625, 1.3136829137802124, 2433.774169921875, 1.3136829137802124, 1890.6029052734375, 345.6586608886719, 4304.83544921875, 113.29645538330078, 813.5136108398438, 2365.03173828125, 408.19805908203125, 1541.6405029296875, 496.7882080078125, 909.28564453125, 639.0368041992188, 4998.4521484375, 143.13706970214844, 470.27764892578125, 2549.801025390625, 1390.2060546875, 480.5104675292969, 1362.5726318359375, 2228.94921875, 409.5945129394531, 142.2101287841797, 492.4649963378906, 2174.70751953125, 2630.976318359375, 57.765872955322266, 17.742416381835938, 2365.03173828125, 6218.52587890625, 3117.02392578125, 230.1648406982422, 1.3136829137802124, 1.3136829137802124, 1.3136829137802124, 1.3136829137802124, 1.3136829137802124, 1.3136829137802124, 1.3136829137802124, 1.3136829137802124, 1.3136829137802124, 1.3136829137802124, 1.3136829137802124, 1.3136829137802124, 1.3136829137802124, 1.3136829137802124, 1.3136829137802124, 1.3136829137802124, 1.3136829137802124, 1.3136829137802124, 1.3136829137802124, 1.3136829137802124, 1.3136829137802124, 1.3136829137802124, 1.3136829137802124, 1.3136829137802124, 1.3136829137802124, 1.3136829137802124, 1.3136829137802124, 1.3136829137802124, 7902.912109375, 1.3136829137802124, 2174.70751953125, 1.3136829137802124, 1541.6405029296875, 1390.2060546875, 1.3136829137802124, 2303.311767578125, 376.76947021484375, 4653.0888671875, 639.0368041992188, 3270.928466796875, 2230.8388671875, 3614.274658203125, 4998.4521484375, 2433.774169921875, 2228.94921875, 2549.801025390625, 288.8828430175781, 1348.3236083984375, 909.28564453125, 2059.311767578125, 485.7829284667969, 1848.52490234375, 1890.6029052734375, 426.0716247558594, 4304.83544921875, 1538.4847412109375, 216.13270568847656, 2549.801025390625, 1368.59619140625, 4653.0888671875, 3117.02392578125, 1.3136829137802124, 1.3136829137802124, 1.3136829137802124, 1.3136829137802124, 1.3136829137802124, 1.3136829137802124, 1.3136829137802124, 1.3136829137802124, 1.3136829137802124, 1.3136829137802124, 1.3136829137802124, 1.3136829137802124, 1.3136829137802124, 1.3136829137802124, 1.3136829137802124, 1.3136829137802124, 1.3136829137802124, 1.3136829137802124, 1.3136829137802124, 1.3136829137802124, 1.3136829137802124, 1.3136829137802124, 1.3136829137802124, 1.3136829137802124, 1.3136829137802124, 74.1943130493164, 1.3136829137802124, 1.3136829137802124, 1.3136829137802124, 3614.274658203125, 6218.52587890625, 7902.912109375, 1.3136829137802124, 1541.6405029296875, 1.3136829137802124, 1.3136829137802124, 156.484375, 3270.928466796875, 2174.70751953125, 345.6586608886719, 470.27764892578125, 2228.94921875, 1633.156005859375, 2433.774169921875, 793.2255859375, 2365.03173828125, 1516.2071533203125, 84.04119873046875, 4304.83544921875, 480.5104675292969, 1538.4847412109375, 44.14634323120117, 1890.6029052734375, 2230.8388671875, 639.0368041992188, 4998.4521484375, 907.4031982421875, 604.0760498046875, 118.70773315429688, 31.100778579711914, 9.661748886108398, 74.1943130493164, 2549.801025390625, 4653.0888671875, 3270.928466796875, 6218.52587890625, 7902.912109375, 1.3136829137802124, 1.3136829137802124, 1.3136829137802124, 1.3136829137802124, 1.3136829137802124, 1.3136829137802124, 1.3136829137802124, 1.3136829137802124, 1.3136829137802124, 1.3136829137802124, 1.3136829137802124, 1.3136829137802124, 1.3136829137802124, 1.3136829137802124, 1.3136829137802124, 1.3136829137802124, 1.3136829137802124, 1.3136829137802124, 1.3136829137802124, 3614.274658203125, 1.3136829137802124, 1390.2060546875, 1368.59619140625, 909.28564453125, 2228.94921875, 3117.02392578125, 813.5136108398438, 23.169273376464844, 2230.8388671875, 2365.03173828125, 510.7328186035156, 345.6586608886719, 1541.6405029296875, 4304.83544921875, 1516.2071533203125, 248.99346923828125, 492.4649963378906, 218.27626037597656, 2174.70751953125, 630.1790161132812, 959.6712646484375, 2433.774169921875, 1637.047607421875, 132.1580810546875, 52.00410079956055, 485.7829284667969, 2174.70751953125, 492.4649963378906, 1541.6405029296875, 1.3136829137802124, 1.3136829137802124, 1.3136829137802124, 1.3136829137802124, 1.3136829137802124, 1.3136829137802124, 1.3136829137802124, 1.3136829137802124, 1.3136829137802124, 1.3136829137802124, 1.3136829137802124, 1.3136829137802124, 1.3136829137802124, 1.3136829137802124, 1.3136829137802124, 1.3136829137802124, 1.3136829137802124, 1.3136829137802124, 1.3136829137802124, 1.3136829137802124, 1.3136829137802124, 1.3136829137802124, 1.3136829137802124, 1.3136829137802124, 1.3136829137802124, 959.6712646484375, 1.3136829137802124, 1.3136829137802124, 1.3136829137802124, 1.3136829137802124, 1.3136829137802124, 1.3136829137802124, 4998.4521484375, 1.3136829137802124, 409.5945129394531, 2230.8388671875, 113.29645538330078, 2303.311767578125, 2365.03173828125, 2630.976318359375, 115.86334228515625, 793.2255859375, 7902.912109375, 1483.3111572265625, 438.1490173339844, 3614.274658203125, 2059.311767578125, 728.4139404296875, 1890.6029052734375, 1848.52490234375, 2549.801025390625, 216.13270568847656, 2433.774169921875, 4653.0888671875, 1368.59619140625, 3270.928466796875, 507.6814270019531, 155.6409149169922, 1362.5726318359375, 480.5104675292969, 1.3136829137802124, 1.3136829137802124, 1.3136829137802124, 1.3136829137802124, 1.3136829137802124, 1.3136829137802124, 1.3136829137802124, 1.3136829137802124, 1.3136829137802124, 1.3136829137802124, 1.3136829137802124, 1.3136829137802124, 1.3136829137802124, 1.3136829137802124, 1.3136829137802124, 1.3136829137802124, 1.3136829137802124, 1.3136829137802124, 1.3136829137802124, 1.3136829137802124, 1.3136829137802124, 1.3136829137802124, 1.3136829137802124, 1.3136829137802124, 1.3136829137802124, 1.3136829137802124, 1.3136829137802124, 1.3136829137802124, 249.94216918945312, 1.3136829137802124, 4653.0888671875, 3614.274658203125, 1.3136829137802124, 1.3136829137802124, 470.27764892578125, 3270.928466796875, 1368.59619140625, 1.3136829137802124, 252.9469451904297, 1.3136829137802124, 1637.047607421875, 438.1490173339844, 496.7882080078125, 7902.912109375, 4304.83544921875, 639.0368041992188, 2433.774169921875, 3117.02392578125, 6218.52587890625, 1890.6029052734375, 116.9607925415039, 2228.94921875, 2230.8388671875, 345.6586608886719, 1538.4847412109375, 199.40744018554688, 115.86334228515625, 376.76947021484375, 1390.2060546875, 728.4139404296875, 24.845073699951172, 23.169273376464844, 2303.311767578125, 2365.03173828125, 4998.4521484375, 2174.70751953125, 1.3136829137802124, 1.3136829137802124, 1.3136829137802124, 1.3136829137802124, 1.3136829137802124, 1.3136829137802124, 1.3136829137802124, 1.3136829137802124, 1.3136829137802124, 1.3136829137802124, 1.3136829137802124, 1.3136829137802124, 1.3136829137802124, 1.3136829137802124, 1.3136829137802124, 1.3136829137802124, 1.3136829137802124, 1.3136829137802124, 1.3136829137802124, 1.3136829137802124, 1.3136829137802124, 1.3136829137802124, 1.3136829137802124, 1.3136829137802124, 1.3136829137802124, 1541.6405029296875, 1.3136829137802124, 1483.3111572265625, 1.3136829137802124, 7902.912109375, 2630.976318359375, 1.3136829137802124, 1538.4847412109375, 6218.52587890625, 1390.2060546875, 909.28564453125, 1.3136829137802124, 1.3136829137802124, 1.3136829137802124, 1.3136829137802124, 1516.2071533203125, 1.3136829137802124, 2228.94921875, 4653.0888671875, 1637.047607421875, 959.6712646484375, 793.2255859375, 3614.274658203125, 1362.5726318359375, 143.13706970214844, 1848.52490234375, 252.9469451904297, 3270.928466796875, 4304.83544921875, 492.4649963378906, 2059.311767578125, 199.40744018554688, 288.8828430175781, 438.1490173339844, 9.141157150268555, 345.6586608886719, 2230.8388671875, 470.27764892578125, 1633.156005859375, 3270.928466796875, 1.3136829137802124, 1.3136829137802124, 1.3136829137802124, 1.3136829137802124, 1.3136829137802124, 1.3136829137802124, 1.3136829137802124, 1.3136829137802124, 1.3136829137802124, 1.3136829137802124, 1.3136829137802124, 1.3136829137802124, 1.3136829137802124, 1.3136829137802124, 1.3136829137802124, 1.3136829137802124, 1.3136829137802124, 1.3136829137802124, 1.3136829137802124, 1.3136829137802124, 1.3136829137802124, 6218.52587890625, 1.3136829137802124, 7902.912109375, 3614.274658203125, 4653.0888671875, 510.7328186035156, 1390.2060546875, 252.9469451904297, 143.13706970214844, 320.8307800292969, 1516.2071533203125, 2228.94921875, 2433.774169921875, 793.2255859375, 3117.02392578125, 81.84490966796875, 639.0368041992188, 428.1043701171875, 1538.4847412109375, 1541.6405029296875, 142.2101287841797, 2365.03173828125, 4304.83544921875, 2174.70751953125, 162.18443298339844, 156.484375, 85.15157318115234, 44.14634323120117, 230.1648406982422, 470.27764892578125, 485.7829284667969, 1368.59619140625, 216.13270568847656, 142.2852783203125, 1.3136829137802124, 1.3136829137802124, 1.3136829137802124, 1.3136829137802124, 1.3136829137802124, 1.3136829137802124, 1.3136829137802124, 1.3136829137802124, 1.3136829137802124, 1.3136829137802124, 1.3136829137802124, 1.3136829137802124, 1.3136829137802124, 1.3136829137802124, 1.3136829137802124, 1.3136829137802124, 1.3136829137802124, 1.3136829137802124, 1.3136829137802124, 1.3136829137802124, 1.3136829137802124, 1.3136829137802124, 4653.0888671875, 1362.5726318359375, 3270.928466796875, 7902.912109375, 3614.274658203125, 769.2738647460938, 3117.02392578125, 52.24440002441406, 2230.8388671875, 6218.52587890625, 4998.4521484375, 2630.976318359375, 909.28564453125, 345.6586608886719, 630.1790161132812, 639.0368041992188, 2228.94921875, 813.5136108398438, 1637.047607421875, 492.4649963378906, 600.379150390625, 212.6050262451172, 21.84412956237793, 21.37383460998535, 142.2852783203125, 16.054279327392578, 40.004783630371094, 113.29645538330078, 52.24440002441406, 2630.976318359375, 2174.70751953125, 1541.6405029296875, 1.3136829137802124, 1.3136829137802124, 1.3136829137802124, 1.3136829137802124, 1.3136829137802124, 1.3136829137802124, 1.3136829137802124, 1.3136829137802124, 1.3136829137802124, 1.3136829137802124, 1.3136829137802124, 1.3136829137802124, 1.3136829137802124, 1.3136829137802124, 1.3136829137802124, 1.3136829137802124, 1.3136829137802124, 1.3136829137802124, 1.3136829137802124, 1.3136829137802124, 4998.4521484375, 1.3136829137802124, 1.3136829137802124, 1.3136829137802124, 1.3136829137802124, 1.3136829137802124, 1.3136829137802124, 1.3136829137802124, 1.3136829137802124, 2303.311767578125, 3117.02392578125, 2365.03173828125, 2228.94921875, 1848.52490234375, 6218.52587890625, 2059.311767578125, 1633.156005859375, 23.169273376464844, 7902.912109375, 1538.4847412109375, 4653.0888671875, 3614.274658203125, 2230.8388671875, 3270.928466796875, 24.845073699951172, 959.6712646484375, 409.5945129394531, 1362.5726318359375, 1483.3111572265625, 769.2738647460938, 320.8307800292969, 142.2101287841797, 3614.274658203125, 1.3136829137802124, 1.3136829137802124, 1.3136829137802124, 1.3136829137802124, 1.3136829137802124, 1.3136829137802124, 1.3136829137802124, 1.3136829137802124, 1.3136829137802124, 1.3136829137802124, 1.3136829137802124, 1.3136829137802124, 1.3136829137802124, 1.3136829137802124, 1.3136829137802124, 1.3136829137802124, 1.3136829137802124, 1.3136829137802124, 1.3136829137802124, 1.3136829137802124, 1.3136829137802124, 1.3136829137802124, 1.3136829137802124, 1.3136829137802124, 1.3136829137802124, 1.3136829137802124, 1.3136829137802124, 7902.912109375, 2228.94921875, 1.3136829137802124, 3270.928466796875, 3117.02392578125, 6218.52587890625, 1.3136829137802124, 1.3136829137802124, 1.3136829137802124, 2433.774169921875, 1.3136829137802124, 1.3136829137802124, 639.0368041992188, 4304.83544921875, 2230.8388671875, 4998.4521484375, 52.24440002441406, 496.7882080078125, 1890.6029052734375, 1483.3111572265625, 2174.70751953125, 1541.6405029296875, 1516.2071533203125, 492.4649963378906, 2630.976318359375, 2365.03173828125, 113.29645538330078, 2303.311767578125, 1637.047607421875, 4653.0888671875, 1390.2060546875, 142.2852783203125, 426.0716247558594, 142.08880615234375, 793.2255859375, 1.3272126913070679, 7902.912109375, 1.3136829137802124, 1.3136829137802124, 1.3136829137802124, 1.3136829137802124, 1.3136829137802124, 1.3136829137802124, 1.3136829137802124, 1.3136829137802124, 1.3136829137802124, 1.3136829137802124, 1.3136829137802124, 1.3136829137802124, 1.3136829137802124, 1.3136829137802124, 1.3136829137802124, 1.3136829137802124, 1.3136829137802124, 1.3136829137802124, 1.3136829137802124, 1.3136829137802124, 1.3136829137802124, 1.3136829137802124, 1.3136829137802124, 1.3136829137802124, 1.3136829137802124, 1.3136829137802124, 1.3136829137802124, 1.3136829137802124, 6218.52587890625, 4653.0888671875, 1.3136829137802124, 3270.928466796875, 1.3136829137802124, 3614.274658203125, 1.3136829137802124, 1516.2071533203125, 2549.801025390625, 1.3136829137802124, 2433.774169921875, 1390.2060546875, 1.3136829137802124, 1633.156005859375, 1538.4847412109375, 4304.83544921875, 639.0368041992188, 4998.4521484375, 728.4139404296875, 813.5136108398438, 252.9469451904297, 909.28564453125, 2174.70751953125, 2365.03173828125, 142.2852783203125, 2303.311767578125, 1541.6405029296875, 2228.94921875, 1890.6029052734375, 496.7882080078125, 2630.976318359375, 3117.02392578125, 248.99346923828125, 174.45187377929688, 57.7467041015625, 71.53843688964844, 1368.59619140625, 409.5945129394531, 1.3136829137802124, 1.3136829137802124, 1.3136829137802124, 1.3136829137802124, 1.3136829137802124, 1.3136829137802124, 1.3136829137802124, 1.3136829137802124, 1.3136829137802124, 1.3136829137802124, 1.3136829137802124, 1.3136829137802124, 1.3136829137802124, 1.3136829137802124, 1.3136829137802124, 1.3136829137802124, 1.3136829137802124, 1.3136829137802124, 1.3136829137802124, 1.3136829137802124, 1.3136829137802124, 1.3136829137802124, 1.3136829137802124, 1.3136829137802124, 1.3136829137802124, 1.3136829137802124, 1.3136829137802124, 1.3136829137802124, 3117.02392578125, 7902.912109375, 1.3136829137802124, 1.3136829137802124, 6218.52587890625, 2433.774169921875, 1.3136829137802124, 1.3136829137802124, 496.7882080078125, 1.3136829137802124, 1541.6405029296875, 1890.6029052734375, 4304.83544921875, 1390.2060546875, 23.169273376464844, 2228.94921875, 2174.70751953125, 639.0368041992188, 492.4649963378906, 793.2255859375, 3614.274658203125, 4653.0888671875, 813.5136108398438, 1348.3236083984375, 4998.4521484375, 2549.801025390625, 142.2852783203125, 769.2738647460938, 2059.311767578125, 1848.52490234375, 2630.976318359375, 909.28564453125, 1.3136829137802124, 1.3136829137802124, 1.3136829137802124, 1.3136829137802124, 1.3136829137802124, 1.3136829137802124, 1.3136829137802124, 1.3136829137802124, 1.3136829137802124, 1.3136829137802124, 1.3136829137802124, 1.3136829137802124, 1.3136829137802124, 1.3136829137802124, 1.3136829137802124, 1.3136829137802124, 1.3136829137802124, 1.3136829137802124, 1.3136829137802124, 1.3136829137802124, 1.3136829137802124, 1.3136829137802124, 1.313683032989502, 1.3136829137802124, 1.3136829137802124, 1.3136829137802124, 1.3136829137802124, 1.3136829137802124, 1.3136829137802124, 3614.274658203125, 1.3136829137802124, 3270.928466796875, 7902.912109375, 1.3136829137802124, 6218.52587890625, 1541.6405029296875, 510.7328186035156, 2433.774169921875, 1.3136829137802124, 3117.02392578125, 345.6586608886719, 1.3136829137802124, 4653.0888671875, 2174.70751953125, 639.0368041992188, 4304.83544921875, 1348.3236083984375, 492.4649963378906, 1390.2060546875, 53.399932861328125, 115.86334228515625, 2630.976318359375, 1890.6029052734375, 769.2738647460938, 4998.4521484375, 2228.94921875, 1516.2071533203125, 2230.8388671875, 119.77474975585938, 426.0716247558594, 813.5136108398438, 485.7829284667969, 1362.5726318359375, 1633.156005859375, 247.30148315429688, 106.72921752929688, 104.87266540527344, 249.94216918945312, 480.5104675292969, 23.96159553527832, 16.78545379638672, 1.3136829137802124, 1.3136829137802124, 1.3136829137802124, 1.3136829137802124, 1.3136829137802124, 1.3136829137802124, 1.3136829137802124, 1.3136829137802124, 1.3136829137802124, 1.3136829137802124, 1.3136829137802124, 1.3136829137802124, 1.3136829137802124, 1.3136829137802124, 1.3136829137802124, 1.3136829137802124, 1.3136829137802124, 1.3136829137802124, 1.3136829137802124, 1.3136829137802124, 1.3136829137802124, 1.3136829137802124, 1.3136829137802124, 1.3136829137802124, 1.3136829137802124, 1.3136829137802124, 1.3136829137802124, 1.3136829137802124, 1.3136829137802124, 1.3136829137802124, 7902.912109375, 3117.02392578125, 4653.0888671875, 6218.52587890625, 1390.2060546875, 1368.59619140625, 3614.274658203125, 1541.6405029296875, 813.5136108398438, 3270.928466796875, 71.53843688964844, 2174.70751953125, 2433.774169921875, 408.19805908203125, 4304.83544921875, 2365.03173828125, 53.399932861328125, 492.4649963378906, 1890.6029052734375, 909.28564453125, 959.6712646484375, 428.1043701171875, 2228.94921875, 1637.047607421875, 4998.4521484375, 444.76898193359375, 376.76947021484375, 100.43151092529297, 81.84490966796875, 16.78545379638672, 1483.3111572265625, 2303.311767578125, 4998.4521484375, 1.3136829137802124, 1.3136829137802124, 1.3136829137802124, 1.3136829137802124, 1.3136829137802124, 1.3136829137802124, 1.3136829137802124, 1.3136829137802124, 1.3136829137802124, 1.3136829137802124, 1.3136829137802124, 1.3136829137802124, 1.3136829137802124, 1.3136829137802124, 1.3136829137802124, 1.3136829137802124, 1.3136829137802124, 1.3136829137802124, 1.3136829137802124, 1.3136829137802124, 1.3136829137802124, 1.3136829137802124, 1.3136829137802124, 1.3136829137802124, 1.3136829137802124, 2365.03173828125, 6218.52587890625, 2630.976318359375, 1.3136829137802124, 4653.0888671875, 1362.5726318359375, 2230.8388671875, 52.24440002441406, 2174.70751953125, 7902.912109375, 1538.4847412109375, 113.29645538330078, 3117.02392578125, 426.0716247558594, 1390.2060546875, 3614.274658203125, 1541.6405029296875, 1890.6029052734375, 2433.774169921875, 510.7328186035156, 247.30148315429688, 1633.156005859375, 23.96159553527832, 1348.3236083984375, 2059.311767578125, 4304.83544921875, 609.578857421875, 60.28885269165039, 1848.52490234375, 2303.311767578125, 1.3136829137802124, 1.3136829137802124, 1.3136829137802124, 1.3136829137802124, 1.3136829137802124, 1.3136829137802124, 1.3136829137802124, 1.3136829137802124, 1.3136829137802124, 1.3136829137802124, 1.3136829137802124, 1.3136829137802124, 1.3136829137802124, 1.3136829137802124, 1.3136829137802124, 1.3136829137802124, 1.3136829137802124, 1.3136829137802124, 1.3136829137802124, 1.3136829137802124, 1.3136829137802124, 1.3136829137802124, 1.3136829137802124, 1.3136829137802124, 1.3136829137802124, 1.3136829137802124, 4998.4521484375, 1.3136829137802124, 1.3136829137802124, 1.3136829137802124, 1.3136829137802124, 142.2101287841797, 6218.52587890625, 23.96159553527832, 1.3136829137802124, 7902.912109375, 1.3136829137802124, 2059.311767578125, 3117.02392578125, 1.3136829137802124, 1483.3111572265625, 1516.2071533203125, 2630.976318359375, 2174.70751953125, 4304.83544921875, 2433.774169921875, 1541.6405029296875, 3270.928466796875, 2230.8388671875, 3614.274658203125, 728.4139404296875, 248.99346923828125, 492.4649963378906, 1890.6029052734375, 1390.2060546875, 1368.59619140625, 104.87266540527344, 2365.03173828125, 496.7882080078125, 1637.047607421875], \"loglift\": [30.0, 29.0, 28.0, 27.0, 26.0, 25.0, 24.0, 23.0, 22.0, 21.0, 20.0, 19.0, 18.0, 17.0, 16.0, 15.0, 14.0, 13.0, 12.0, 11.0, 10.0, 9.0, 8.0, 7.0, 6.0, 5.0, 4.0, 3.0, 2.0, 1.0, 2.512200117111206, 2.495800018310547, 1.9825999736785889, 1.634600043296814, 1.2438000440597534, 0.7602999806404114, -0.01889999955892563, -0.6628000140190125, -0.6628000140190125, -0.6628000140190125, -0.6628000140190125, -0.6628000140190125, -0.6628000140190125, -0.6628000140190125, -0.6628000140190125, -0.6628000140190125, -0.6628000140190125, -0.6628000140190125, -0.6628000140190125, -0.6628000140190125, -0.6628000140190125, -0.6628000140190125, -0.6628000140190125, -0.6628000140190125, -0.6628000140190125, -0.6628000140190125, -0.6628000140190125, -0.6628000140190125, -0.6628000140190125, -0.6628000140190125, -0.6628000140190125, -0.6628000140190125, -0.6628000140190125, -0.6628000140190125, -0.6628000140190125, -3.2411999702453613, -0.6628000140190125, -0.6628000140190125, -2.446700096130371, -0.6628000140190125, -3.923799991607666, -3.895900011062622, -4.393199920654297, -5.048600196838379, -5.66949987411499, -6.1118998527526855, -5.441500186920166, -4.828199863433838, -5.389200210571289, -5.56689977645874, -6.625199794769287, -7.17579984664917, -5.593900203704834, -6.610599994659424, -6.570099830627441, -5.19350004196167, -4.500999927520752, -3.914599895477295, -7.1072001457214355, -6.559800148010254, -6.243500232696533, -7.326099872589111, 2.6498000621795654, 2.4714999198913574, 2.1082000732421875, 1.840000033378601, 1.587399959564209, 0.5703999996185303, 0.3727000057697296, 0.10249999910593033, 0.033799998462200165, -0.8284000158309937, -0.8284000158309937, -0.8284000158309937, -0.8284000158309937, -0.8284000158309937, -0.8284000158309937, -0.8284000158309937, -0.8284000158309937, -0.8284000158309937, -0.8284000158309937, -0.8284000158309937, -0.8284000158309937, -0.8284000158309937, -0.8284000158309937, -0.8284000158309937, -0.8284000158309937, -0.8284000158309937, -0.8284000158309937, -0.8284000158309937, -0.8284000158309937, -0.8284000158309937, -1.9501999616622925, -0.8284000158309937, -0.8284000158309937, -0.8284000158309937, -4.293900012969971, -4.507800102233887, -0.8284000158309937, -6.247600078582764, -4.785999774932861, -5.983500003814697, -6.220099925994873, -5.61870002746582, -6.669899940490723, -6.583399772644043, -5.854400157928467, -6.552599906921387, -3.8649001121520996, -4.4934000968933105, -7.006100177764893, -3.967900037765503, -5.032299995422363, -7.259300231933594, -4.848199844360352, -7.112100124359131, -6.254000186920166, -7.245999813079834, -7.376500129699707, 2.803299903869629, 2.7836999893188477, 2.2853000164031982, 1.6857000589370728, 1.4581999778747559, 0.910099983215332, 0.7020000219345093, 0.5741000175476074, 0.3549000024795532, 0.2854999899864197, 0.24979999661445618, -0.16539999842643738, -0.4514000117778778, -0.6758000254631042, -0.6758000254631042, -0.6758000254631042, -0.6758000254631042, -0.6758000254631042, -0.6758000254631042, -0.6758000254631042, -0.6758000254631042, -0.6758000254631042, -0.6758000254631042, -0.6758000254631042, -0.6758000254631042, -0.6758000254631042, -0.6758000254631042, -0.6758000254631042, -0.6758000254631042, -0.6758000254631042, -3.47979998588562, -3.7407000064849854, -4.324699878692627, -3.2860000133514404, -3.5826001167297363, -4.617800235748291, -4.938799858093262, -4.901299953460693, -4.517300128936768, -4.683899879455566, -5.5406999588012695, -4.985199928283691, -3.4907000064849854, -5.373199939727783, -5.071300029754639, -5.1545000076293945, -5.172299861907959, -6.444799900054932, -7.106900215148926, -5.594200134277344, -6.2667999267578125, 2.7960000038146973, 2.789099931716919, 2.1903998851776123, 1.3969999551773071, 1.3357000350952148, 1.3082000017166138, 1.1770000457763672, 1.152999997138977, 0.03519999980926514, -0.3917999863624573, -0.4478999972343445, -0.541700005531311, -0.784500002861023, -0.784500002861023, -0.784500002861023, -0.784500002861023, -0.784500002861023, -0.784500002861023, -0.784500002861023, -0.784500002861023, -0.784500002861023, -0.784500002861023, -0.784500002861023, -0.784500002861023, -0.784500002861023, -0.784500002861023, -0.784500002861023, -0.784500002861023, -0.784500002861023, -0.784500002861023, -0.784500002861023, -0.9340000152587891, -2.231300115585327, -1.9839999675750732, -2.7685000896453857, -3.0060999393463135, -3.530400037765503, -3.5315001010894775, -2.9986000061035156, -3.6575000286102295, -4.65749979019165, -3.2423999309539795, -5.059999942779541, -4.934700012207031, -3.3348000049591064, -5.332699775695801, -4.904600143432617, -6.383699893951416, -6.206399917602539, 2.9658000469207764, 2.9423000812530518, 2.8422999382019043, 2.717600107192993, 2.4022998809814453, 2.2922000885009766, 0.21240000426769257, 0.18469999730587006, 0.03500000014901161, -0.3619000017642975, -0.3619000017642975, -0.3619000017642975, -0.3619000017642975, -0.3619000017642975, -0.3619000017642975, -0.3619000017642975, -0.3619000017642975, -0.3619000017642975, -0.3619000017642975, -0.3619000017642975, -0.3619000017642975, -0.3619000017642975, -0.3619000017642975, -0.3619000017642975, -0.3619000017642975, -0.3619000017642975, -0.3619000017642975, -0.3619000017642975, -0.3619000017642975, -0.3619000017642975, -0.3619000017642975, -0.3619000017642975, -0.3619000017642975, -0.3619000017642975, -0.6686000227928162, -1.0357999801635742, -1.5881999731063843, -0.9855999946594238, -0.3619000017642975, -1.5188000202178955, -1.9519000053405762, -0.3619000017642975, -2.473099946975708, -2.672300100326538, -2.552999973297119, -3.1331000328063965, -2.360300064086914, -3.295599937438965, -2.9031999111175537, -4.393899917602539, -4.040599822998047, -4.706999778747559, -5.513800144195557, -4.880199909210205, -4.139400005340576, -3.4140000343322754, -4.773399829864502, -6.032800197601318, -5.912799835205078, 2.963399887084961, 2.8636999130249023, 1.580199956893921, 0.4925000071525574, -0.4180000126361847, -0.46070000529289246, -0.46070000529289246, -0.46070000529289246, -0.46070000529289246, -0.46070000529289246, -0.46070000529289246, -0.46070000529289246, -0.46070000529289246, -0.46070000529289246, -0.46070000529289246, -0.46070000529289246, -0.46070000529289246, -0.46070000529289246, -0.46070000529289246, -0.46070000529289246, -0.46070000529289246, -0.46070000529289246, -0.46070000529289246, -0.46070000529289246, -0.46070000529289246, -0.46070000529289246, -0.46070000529289246, -0.46070000529289246, -0.46070000529289246, -0.46070000529289246, -0.46070000529289246, -0.46070000529289246, -0.46070000529289246, -0.46070000529289246, -0.46070000529289246, -1.8811999559402466, -2.1084001064300537, -2.316999912261963, -0.46070000529289246, -5.287199974060059, -0.46070000529289246, -5.283299922943115, -0.46070000529289246, -5.973999977111816, -5.018599987030029, -0.46070000529289246, -4.985099792480469, -4.286300182342529, -3.960599899291992, -6.640900135040283, -5.913300037384033, -5.3871002197265625, -5.996799945831299, -6.546899795532227, -6.069399833679199, -6.944900035858154, -2.775899887084961, -5.775700092315674, -6.116600036621094, -5.2519001960754395, -5.620699882507324, -6.674200057983398, -2.8852999210357666, -5.307000160217285, -6.732100009918213, -5.324999809265137, 2.432800054550171, 2.221100091934204, 1.9357999563217163, 0.9106000065803528, 0.6186000108718872, -0.5848000049591064, -0.5848000049591064, -0.5848000049591064, -0.5848000049591064, -0.5848000049591064, -0.5848000049591064, -0.5848000049591064, -0.5848000049591064, -0.5848000049591064, -0.5848000049591064, -0.5848000049591064, -0.5848000049591064, -0.5848000049591064, -0.5848000049591064, -0.5848000049591064, -0.5848000049591064, -0.5848000049591064, -0.5848000049591064, -0.5848000049591064, -0.5848000049591064, -0.5848000049591064, -0.5848000049591064, -0.5848000049591064, -0.5848000049591064, -0.5848000049591064, -1.1563999652862549, -0.5848000049591064, -0.5848000049591064, -0.5848000049591064, -3.488100051879883, -0.5848000049591064, -4.211100101470947, -0.5848000049591064, -0.5848000049591064, -4.683700084686279, -0.5848000049591064, -3.786400079727173, -0.5848000049591064, -4.526700019836426, -5.3790998458862305, -0.5848000049591064, -5.271900177001953, -5.388500213623047, -4.412199974060059, -5.72160005569458, -5.121500015258789, -5.734600067138672, -6.1483001708984375, -6.105299949645996, -6.959000110626221, -4.3653998374938965, -4.694799900054932, -5.23769998550415, -3.748199939727783, -6.282700061798096, -6.405200004577637, -6.864200115203857, -7.597499847412109, -6.09060001373291, -7.128699779510498, 3.1398000717163086, 3.132999897003174, 1.9502999782562256, 1.4564000368118286, 0.6114000082015991, 0.31380000710487366, 0.26269999146461487, -0.2752000093460083, -0.2752000093460083, -0.2752000093460083, -0.2752000093460083, -0.2752000093460083, -0.2752000093460083, -0.2752000093460083, -0.2752000093460083, -0.2752000093460083, -0.2752000093460083, -0.2752000093460083, -0.2752000093460083, -0.2752000093460083, -0.2752000093460083, -0.2752000093460083, -0.2752000093460083, -0.2752000093460083, -0.2752000093460083, -0.2752000093460083, -0.2752000093460083, -0.2752000093460083, -0.2752000093460083, -0.2752000093460083, -0.2752000093460083, -0.2752000093460083, -0.6133000254631042, -0.2752000093460083, -0.7621999979019165, -0.2752000093460083, -1.8014999628067017, -0.2752000093460083, -4.124199867248535, -4.5518999099731445, -4.46999979019165, -4.996300220489502, -4.95359992980957, -4.429800033569336, -5.249300003051758, -5.6417999267578125, -4.072999954223633, -6.500400066375732, -4.832900047302246, -5.8769001960754395, -3.500499963760376, -6.2947998046875, -5.007299900054932, -6.473499774932861, -6.576900005340576, -6.514500141143799, -6.9558000564575195, -6.555600166320801, 3.0067999362945557, 2.6294000148773193, 1.382599949836731, 0.13169999420642853, 0.05550000071525574, -0.08020000159740448, -0.12049999833106995, -0.598800003528595, -0.7235000133514404, -0.7235000133514404, -0.7235000133514404, -0.7235000133514404, -0.7235000133514404, -0.7235000133514404, -0.7235000133514404, -0.7235000133514404, -0.7235000133514404, -0.7235000133514404, -0.7235000133514404, -0.7235000133514404, -0.7235000133514404, -0.7235000133514404, -0.7235000133514404, -0.7235000133514404, -0.7235000133514404, -0.7235000133514404, -0.7235000133514404, -0.7235000133514404, -0.7235000133514404, -0.7235000133514404, -0.7796000242233276, -0.7235000133514404, -0.8374999761581421, -0.911300003528595, -0.7235000133514404, -1.2230000495910645, -0.7235000133514404, -1.9103000164031982, -1.3050999641418457, -2.6147000789642334, -2.4900999069213867, -3.0876998901367188, -2.8280999660491943, -1.6861000061035156, -2.6851000785827637, -3.23580002784729, -3.1084001064300537, -3.7219998836517334, -3.998699903488159, -3.918100118637085, -4.243800163269043, -5.087299823760986, -3.925100088119507, -5.712699890136719, -5.141600131988525, -5.953800201416016, 3.2076001167297363, 3.2070999145507812, 3.204900026321411, 3.1965999603271484, 3.1921000480651855, 3.1840999126434326, 3.1596999168395996, 3.0380001068115234, 1.305400013923645, 0.2800000011920929, -0.06120000034570694, -0.23639999330043793, -0.23639999330043793, -0.23639999330043793, -0.23639999330043793, -0.23639999330043793, -0.23639999330043793, -0.23639999330043793, -0.23639999330043793, -0.23639999330043793, -0.23639999330043793, -0.23639999330043793, -0.23639999330043793, -0.23639999330043793, -0.23639999330043793, -0.23639999330043793, -0.23639999330043793, -0.23639999330043793, -0.23639999330043793, -0.23639999330043793, -0.6614999771118164, -0.23639999330043793, -0.23639999330043793, -0.23639999330043793, -0.23639999330043793, -1.7080999612808228, -1.4050999879837036, -2.2701001167297363, -2.6816999912261963, -2.9010000228881836, -2.3241000175476074, -3.2379000186920166, -0.23639999330043793, -0.23639999330043793, -0.23639999330043793, -0.23639999330043793, -0.23639999330043793, -0.23639999330043793, -0.23639999330043793, -0.23639999330043793, -0.23639999330043793, -3.806299924850464, -2.2992000579833984, -4.176300048828125, -4.249199867248535, -4.731299877166748, -4.359899997711182, -3.2130000591278076, -4.69379997253418, -3.660599946975708, -5.653299808502197, -5.319499969482422, -6.636199951171875, -5.753799915313721, 3.2558000087738037, 3.241499900817871, 3.23799991607666, 3.2274999618530273, 2.6947999000549316, 1.3309999704360962, 1.301900029182434, 1.073799967765808, 0.9714999794960022, 0.35030001401901245, 0.3122999966144562, 0.09989999979734421, -0.5841000080108643, -0.5841000080108643, -0.5841000080108643, -0.5841000080108643, -0.5841000080108643, -0.5841000080108643, -0.5841000080108643, -0.5841000080108643, -0.5841000080108643, -0.5841000080108643, -0.5841000080108643, -0.5841000080108643, -0.5841000080108643, -0.5841000080108643, -0.5841000080108643, -0.5841000080108643, -0.5841000080108643, -0.5841000080108643, -0.5841000080108643, -0.5841000080108643, -0.5841000080108643, -1.0795999765396118, -1.4958000183105469, -1.7137999534606934, -1.6273000240325928, -2.3901000022888184, -2.4686999320983887, -2.6484999656677246, -0.5841000080108643, -0.5841000080108643, -0.5841000080108643, -0.5841000080108643, -0.5841000080108643, -0.5841000080108643, -0.5841000080108643, -0.5841000080108643, -3.827899932861328, -3.323199987411499, -3.528700113296509, -3.515399932861328, -3.7418999671936035, -4.480299949645996, -4.3302001953125, -4.6504998207092285, -4.784900188446045, -4.784999847412109, -5.99560022354126, 3.2634999752044678, 3.17549991607666, 2.975399971008301, 2.586899995803833, 2.4941999912261963, 0.6887999773025513, 0.28519999980926514, -0.6068000197410583, -0.6068000197410583, -0.6068000197410583, -0.6068000197410583, -0.6068000197410583, -0.6068000197410583, -0.6068000197410583, -0.6068000197410583, -0.6068000197410583, -0.6068000197410583, -0.6068000197410583, -0.6068000197410583, -0.6068000197410583, -0.6068000197410583, -0.6068000197410583, -0.6068000197410583, -0.6068000197410583, -0.6068000197410583, -0.6068000197410583, -0.6068000197410583, -0.6068000197410583, -0.6068000197410583, -0.6068000197410583, -0.6068000197410583, -0.6068000197410583, -1.236899971961975, -1.0556000471115112, -1.2628999948501587, -2.091399908065796, -0.6068000197410583, -0.6068000197410583, -3.607800006866455, -2.729300022125244, -3.4458000659942627, -2.795799970626831, -4.649799823760986, -4.612199783325195, -3.507999897003174, -4.712900161743164, -3.7327001094818115, -4.841000080108643, -5.099899768829346, -5.1529998779296875, -3.939300060272217, -4.72629976272583, -5.132500171661377, -4.570400238037109, -5.832099914550781, -5.940499782562256, -6.346199989318848, 3.2760000228881836, 3.275700092315674, 3.2597999572753906, 3.2592999935150146, 3.2007999420166016, 1.976199984550476, 1.7497999668121338, 0.9617000222206116, 0.8626999855041504, 0.7542999982833862, 0.45980000495910645, 0.34380000829696655, -0.035100001841783524, -0.22419999539852142, -0.31619998812675476, -0.31619998812675476, -0.31619998812675476, -0.31619998812675476, -0.31619998812675476, -0.31619998812675476, -0.31619998812675476, -0.31619998812675476, -0.31619998812675476, -0.31619998812675476, -0.31619998812675476, -0.31619998812675476, -0.31619998812675476, -0.31619998812675476, -0.31619998812675476, -0.31619998812675476, -0.31619998812675476, -1.315000057220459, -1.5126999616622925, -1.774899959564209, -1.9082000255584717, -2.191800117492676, -1.9501999616622925, -1.6432000398635864, -2.1280999183654785, -2.89520001411438, -2.9042000770568848, -1.9658000469207764, -3.3352999687194824, -0.31619998812675476, -0.31619998812675476, -0.31619998812675476, -0.31619998812675476, -2.8828001022338867, -3.1575000286102295, -0.31619998812675476, -4.965199947357178, -0.31619998812675476, -4.412899971008301, -5.409599781036377, -5.421800136566162, 3.3682000637054443, 3.358599901199341, 2.4839000701904297, 1.2922999858856201, 0.6593999862670898, 0.19300000369548798, 0.19300000369548798, 0.19300000369548798, 0.19300000369548798, 0.19300000369548798, 0.19300000369548798, 0.19300000369548798, 0.19300000369548798, 0.19300000369548798, 0.19300000369548798, 0.19300000369548798, 0.19300000369548798, 0.19300000369548798, 0.19300000369548798, 0.19300000369548798, 0.19300000369548798, 0.19300000369548798, 0.19300000369548798, 0.19300000369548798, 0.19300000369548798, 0.19300000369548798, 0.19300000369548798, 0.19300000369548798, 0.19300000369548798, 0.19300000369548798, 0.19300000369548798, 0.19300000369548798, -0.14480000734329224, 0.19300000369548798, 0.19300000369548798, -0.5960999727249146, -0.690500020980835, 0.19300000369548798, -0.6733999848365784, 0.19300000369548798, -2.0676000118255615, -1.9460999965667725, -3.2822000980377197, -2.2193000316619873, -3.509999990463257, -4.198800086975098, -3.519200086593628, -4.975100040435791, -4.315800189971924, -4.874899864196777, -4.797800064086914, -6.679699897766113, -3.7672998905181885, -4.807799816131592, -6.359899997711182, -5.8618998527526855, -4.952600002288818, -5.909299850463867, -6.361999988555908, -4.881100177764893, -3.9649999141693115, -5.073699951171875, -6.4496002197265625, -6.664100170135498, 3.4210000038146973, 3.3642001152038574, 3.1763999462127686, 1.4673999547958374, 0.9502000212669373, 0.9287999868392944, -0.2888999879360199, -0.2888999879360199, -0.2888999879360199, -0.2888999879360199, -0.2888999879360199, -0.2888999879360199, -0.2888999879360199, -0.2888999879360199, -0.2888999879360199, -0.2888999879360199, -0.2888999879360199, -0.2888999879360199, -0.2888999879360199, -0.2888999879360199, -0.2888999879360199, -0.2888999879360199, -0.2888999879360199, -0.2888999879360199, -0.2888999879360199, -0.2888999879360199, -0.2888999879360199, -0.2888999879360199, -0.2888999879360199, -0.2888999879360199, -0.2888999879360199, -0.2888999879360199, -0.2888999879360199, -0.2888999879360199, -0.43070000410079956, -0.2888999879360199, -0.9524999856948853, -0.2888999879360199, -1.462499976158142, -1.652999997138977, -0.2888999879360199, -2.6775999069213867, -2.237499952316284, -3.129699945449829, -2.7167999744415283, -3.794600009918213, -4.115200042724609, -4.440199851989746, -4.748300075531006, -4.4028000831604, -4.438700199127197, -4.542300224304199, -3.364799976348877, -4.370800018310547, -4.843900203704834, -5.530099868774414, -4.679999828338623, -5.694799900054932, -5.718800067901611, -4.604800224304199, -6.379799842834473, -5.67519998550415, 3.4423000812530518, 3.183199882507324, 2.1066999435424805, 0.9474999904632568, 0.7434999942779541, 0.1273999959230423, 0.1273999959230423, 0.1273999959230423, 0.1273999959230423, 0.1273999959230423, 0.1273999959230423, 0.1273999959230423, 0.1273999959230423, 0.1273999959230423, 0.1273999959230423, 0.1273999959230423, 0.1273999959230423, 0.1273999959230423, 0.1273999959230423, 0.1273999959230423, 0.1273999959230423, 0.1273999959230423, 0.1273999959230423, 0.1273999959230423, 0.1273999959230423, 0.1273999959230423, 0.1273999959230423, 0.1273999959230423, 0.1273999959230423, 0.1273999959230423, 0.09650000184774399, 0.1273999959230423, 0.1273999959230423, 0.1273999959230423, -1.5379999876022339, -1.7336000204086304, -2.170099973678589, 0.1273999959230423, -2.158600091934204, 0.1273999959230423, 0.1273999959230423, -1.5255000591278076, -2.636699914932251, -2.581199884414673, -2.2553999423980713, -2.4435999393463135, -3.632699966430664, -3.5341999530792236, -3.7832999229431152, -3.6705000400543213, -4.644499778747559, -4.605299949645996, -2.7156999111175537, -5.579999923706055, -4.0655999183654785, -5.234000205993652, -2.619999885559082, -5.936999797821045, -6.245299816131592, -5.228799819946289, -7.0640997886657715, 3.5524001121520996, 3.5518999099731445, 3.5439999103546143, 3.51200008392334, 3.409600019454956, 2.83270001411438, 2.206199884414673, 0.3377000093460083, 0.13989999890327454, -0.6922000050544739, -0.7208999991416931, -0.7777000069618225, -0.7777000069618225, -0.7777000069618225, -0.7777000069618225, -0.7777000069618225, -0.7777000069618225, -0.7777000069618225, -0.7777000069618225, -0.7777000069618225, -0.7777000069618225, -0.7777000069618225, -0.7777000069618225, -0.7777000069618225, -0.7777000069618225, -0.7777000069618225, -0.7777000069618225, -0.7777000069618225, -0.7777000069618225, -0.7777000069618225, -0.9879000186920166, -0.7777000069618225, -1.0226999521255493, -2.123500108718872, -3.3317999839782715, -4.4741997718811035, -4.795899868011475, -4.205999851226807, -2.314300060272217, -4.841700077056885, -5.149899959564209, -4.348499774932861, -4.326000213623047, -5.558800220489502, -6.264999866485596, -5.718400001525879, -4.555099964141846, -5.057400226593018, -4.503799915313721, -6.252200126647949, -5.40339994430542, -5.76669979095459, -6.779099941253662, 3.6064999103546143, 3.605600118637085, 3.59060001373291, 2.495500087738037, 2.1763999462127686, 1.7030999660491943, 1.2062000036239624, 0.35359999537467957, 0.35359999537467957, 0.35359999537467957, 0.35359999537467957, 0.35359999537467957, 0.35359999537467957, 0.35359999537467957, 0.35359999537467957, 0.35359999537467957, 0.35359999537467957, 0.35359999537467957, 0.35359999537467957, 0.35359999537467957, 0.35359999537467957, 0.35359999537467957, 0.35359999537467957, 0.35359999537467957, 0.35359999537467957, 0.35359999537467957, 0.35359999537467957, 0.35359999537467957, 0.35359999537467957, 0.35359999537467957, 0.35359999537467957, 0.35359999537467957, -0.022700000554323196, 0.35359999537467957, 0.35359999537467957, 0.35359999537467957, 0.35359999537467957, 0.35359999537467957, 0.35359999537467957, -2.25219988822937, 0.35359999537467957, -1.7045999765396118, -3.0541000366210938, -1.7233999967575073, -3.6510000228881836, -4.01800012588501, -4.248300075531006, -2.672499895095825, -4.06850004196167, -5.846399784088135, -4.644599914550781, -4.422699928283691, -6.365699768066406, -6.0518999099731445, -5.24429988861084, -6.107900142669678, -6.332499980926514, -6.652100086212158, -4.480299949645996, -6.827600002288818, -7.452700138092041, -6.325099945068359, -7.175099849700928, 3.777899980545044, 3.772599935531616, 3.5922000408172607, 1.6354999542236328, 1.4946999549865723, 1.4946999549865723, 1.4946999549865723, 1.4946999549865723, 1.4946999549865723, 1.4946999549865723, 1.4946999549865723, 1.4946999549865723, 1.4946999549865723, 1.4946999549865723, 1.4946999549865723, 1.4946999549865723, 1.4946999549865723, 1.4946999549865723, 1.4946999549865723, 1.4946999549865723, 1.4946999549865723, 1.4946999549865723, 1.4946999549865723, 1.4946999549865723, 1.4946999549865723, 1.4946999549865723, 1.4946999549865723, 1.4946999549865723, 1.4946999549865723, 1.4946999549865723, 1.4946999549865723, 1.4946999549865723, 1.076200008392334, 1.4946999549865723, 0.4392000138759613, 0.328000009059906, 1.4946999549865723, 1.4946999549865723, 0.43720000982284546, 0.04529999941587448, 0.015300000086426735, 1.4946999549865723, -0.01269999984651804, 1.4946999549865723, -1.054900050163269, -1.1585999727249146, -1.9253000020980835, -4.0, -3.615000009536743, -2.5244998931884766, -3.501199960708618, -3.716099977493286, -4.44350004196167, -3.670300006866455, -1.8140000104904175, -4.059199810028076, -4.121099948883057, -2.7284998893737793, -3.9591000080108643, -2.390700101852417, -1.9696999788284302, -3.0299999713897705, -4.14139986038208, 3.790600061416626, 3.7330000400543213, 3.7079999446868896, 2.485100030899048, 1.5509999990463257, 1.2821999788284302, 0.5130000114440918, 0.34529998898506165, 0.34529998898506165, 0.34529998898506165, 0.34529998898506165, 0.34529998898506165, 0.34529998898506165, 0.34529998898506165, 0.34529998898506165, 0.34529998898506165, 0.34529998898506165, 0.34529998898506165, 0.34529998898506165, 0.34529998898506165, 0.34529998898506165, 0.34529998898506165, 0.34529998898506165, 0.34529998898506165, 0.34529998898506165, 0.34529998898506165, 0.34529998898506165, 0.34529998898506165, 0.34529998898506165, 0.34529998898506165, 0.34529998898506165, 0.34529998898506165, -0.24819999933242798, 0.34529998898506165, -0.4406999945640564, 0.34529998898506165, -0.7346000075340271, -1.5764000415802002, 0.34529998898506165, -2.621999979019165, -3.2757999897003174, -2.9467999935150146, -3.121799945831299, 0.34529998898506165, 0.34529998898506165, 0.34529998898506165, 0.34529998898506165, -3.5592000484466553, 0.34529998898506165, -3.9346001148223877, -4.598400115966797, -4.346099853515625, -4.149099826812744, -4.510700225830078, -5.870699882507324, -5.395599842071533, -3.672800064086914, -5.901899814605713, -4.190700054168701, -6.476600170135498, -6.7795000076293945, -4.942599773406982, -6.247399806976318, 3.811199903488159, 3.8101999759674072, 3.800299882888794, 3.668600082397461, 3.6542000770568848, 2.0880000591278076, 1.2824000120162964, 0.8780999779701233, 0.46939998865127563, 0.19750000536441803, 0.19750000536441803, 0.19750000536441803, 0.19750000536441803, 0.19750000536441803, 0.19750000536441803, 0.19750000536441803, 0.19750000536441803, 0.19750000536441803, 0.19750000536441803, 0.19750000536441803, 0.19750000536441803, 0.19750000536441803, 0.19750000536441803, 0.19750000536441803, 0.19750000536441803, 0.19750000536441803, 0.19750000536441803, 0.19750000536441803, 0.19750000536441803, 0.19750000536441803, -0.186599999666214, 0.19750000536441803, -0.49729999899864197, -0.5467000007629395, -0.6144000291824341, -0.4108999967575073, -0.5591999888420105, -0.7486000061035156, -0.746399998664856, -1.0444999933242798, -1.8240000009536743, -2.1112000942230225, -2.484299898147583, -2.1566998958587646, -2.9284000396728516, -1.5002000331878662, -2.3864998817443848, -2.2339000701904297, -2.831899881362915, -2.9070000648498535, -1.9429999589920044, -3.4196999073028564, -4.0131001472473145, -3.794600009918213, 4.016300201416016, 4.010499954223633, 4.0100998878479, 3.9935998916625977, 3.9346001148223877, 3.8970999717712402, 3.591900110244751, 1.9817999601364136, 0.7597000002861023, 0.7278000116348267, 0.7208999991416931, 0.7208999991416931, 0.7208999991416931, 0.7208999991416931, 0.7208999991416931, 0.7208999991416931, 0.7208999991416931, 0.7208999991416931, 0.7208999991416931, 0.7208999991416931, 0.7208999991416931, 0.7208999991416931, 0.7208999991416931, 0.7208999991416931, 0.7208999991416931, 0.7208999991416931, 0.7208999991416931, 0.7208999991416931, 0.7208999991416931, 0.7208999991416931, 0.7208999991416931, 0.7208999991416931, -0.026900000870227814, -0.09920000284910202, -0.2069000005722046, -0.7006000280380249, -1.5267000198364258, -1.5476000308990479, -3.677299976348877, -1.3567999601364136, -3.707200050354004, -4.5742998123168945, -4.526599884033203, -4.2316999435424805, -3.555799961090088, -3.0490000247955322, -3.534899950027466, -3.656899929046631, -4.672900199890137, -4.243899822235107, -4.905200004577637, -4.087699890136719, 4.069499969482422, 4.065700054168701, 4.010799884796143, 4.009699821472168, 4.0096001625061035, 3.9883999824523926, 3.9793999195098877, 3.976099967956543, 3.712599992752075, 1.3732999563217163, 1.2265000343322754, 1.0398000478744507, 0.6319000124931335, 0.6319000124931335, 0.6319000124931335, 0.6319000124931335, 0.6319000124931335, 0.6319000124931335, 0.6319000124931335, 0.6319000124931335, 0.6319000124931335, 0.6319000124931335, 0.6319000124931335, 0.6319000124931335, 0.6319000124931335, 0.6319000124931335, 0.6319000124931335, 0.6319000124931335, 0.6319000124931335, 0.6319000124931335, 0.6319000124931335, 0.6319000124931335, 0.3598000109195709, 0.6319000124931335, 0.6319000124931335, 0.6319000124931335, 0.6319000124931335, 0.6319000124931335, 0.6319000124931335, 0.6319000124931335, 0.6319000124931335, -1.0180000066757202, -1.40910005569458, -1.9529999494552612, -2.1547000408172607, -2.6191999912261963, -3.2528998851776123, -2.956199884414673, -2.9482998847961426, -0.8149999976158142, -3.9486000537872314, -3.2730000019073486, -3.9707999229431152, -3.9535000324249268, -3.8666999340057373, -4.102799892425537, -1.138800024986267, -3.6975998878479004, -3.140500068664551, -4.0192999839782715, -4.121200084686279, 4.089099884033203, 4.086599826812744, 4.066400051116943, 0.988099992275238, 0.6047000288963318, 0.6047000288963318, 0.6047000288963318, 0.6047000288963318, 0.6047000288963318, 0.6047000288963318, 0.6047000288963318, 0.6047000288963318, 0.6047000288963318, 0.6047000288963318, 0.6047000288963318, 0.6047000288963318, 0.6047000288963318, 0.6047000288963318, 0.6047000288963318, 0.6047000288963318, 0.6047000288963318, 0.6047000288963318, 0.6047000288963318, 0.6047000288963318, 0.6047000288963318, 0.6047000288963318, 0.6047000288963318, 0.6047000288963318, 0.6047000288963318, 0.6047000288963318, 0.6047000288963318, 0.4235000014305115, -0.11569999903440475, 0.6047000288963318, -1.1138999462127686, -1.160599946975708, -1.3480000495910645, 0.6047000288963318, 0.6047000288963318, 0.6047000288963318, -2.450000047683716, 0.6047000288963318, 0.6047000288963318, -2.2039999961853027, -3.2111001014709473, -3.4670000076293945, -3.999000072479248, -1.4764000177383423, -2.790299892425537, -3.7063000202178955, -3.6793999671936035, -3.9240000247955322, -3.790600061416626, -3.8320000171661377, -3.4725000858306885, -4.629499912261963, -4.606599807739258, -2.5109000205993652, -4.827199935913086, -4.598800182342529, -5.618100166320801, -4.738900184631348, -3.1375999450683594, -4.160699844360352, 4.1427998542785645, 4.142300128936768, 1.010699987411499, 0.9138000011444092, 0.7516999840736389, 0.7516999840736389, 0.7516999840736389, 0.7516999840736389, 0.7516999840736389, 0.7516999840736389, 0.7516999840736389, 0.7516999840736389, 0.7516999840736389, 0.7516999840736389, 0.7516999840736389, 0.7516999840736389, 0.7516999840736389, 0.7516999840736389, 0.7516999840736389, 0.7516999840736389, 0.7516999840736389, 0.7516999840736389, 0.7516999840736389, 0.7516999840736389, 0.7516999840736389, 0.7516999840736389, 0.7516999840736389, 0.7516999840736389, 0.7516999840736389, 0.7516999840736389, 0.7516999840736389, 0.7516999840736389, 0.5153999924659729, 0.32820001244544983, 0.7516999840736389, 0.2583000063896179, 0.7516999840736389, -1.292799949645996, 0.7516999840736389, -2.387500047683716, -2.7300000190734863, 0.7516999840736389, -2.8132998943328857, -2.6034998893737793, 0.7516999840736389, -3.2160000801086426, -3.247999906539917, -3.8522000312805176, -2.787100076675415, -4.206299781799316, -3.1596999168395996, -3.90939998626709, -3.268899917602539, -4.359300136566162, -5.117300033569336, -5.229499816894531, -3.072999954223633, -5.366600036621094, -5.060999870300293, -5.623000144958496, -5.606400012969971, -4.476600170135498, -6.000999927520752, -6.151800155639648, 4.157199859619141, 4.1504998207092285, 4.141200065612793, 4.140699863433838, 3.621299982070923, 1.8032000064849854, 1.0080000162124634, 1.0080000162124634, 1.0080000162124634, 1.0080000162124634, 1.0080000162124634, 1.0080000162124634, 1.0080000162124634, 1.0080000162124634, 1.0080000162124634, 1.0080000162124634, 1.0080000162124634, 1.0080000162124634, 1.0080000162124634, 1.0080000162124634, 1.0080000162124634, 1.0080000162124634, 1.0080000162124634, 1.0080000162124634, 1.0080000162124634, 1.0080000162124634, 1.0080000162124634, 1.0080000162124634, 1.0080000162124634, 1.0080000162124634, 1.0080000162124634, 1.0080000162124634, 1.0080000162124634, 1.0080000162124634, -0.0934000015258789, -0.5041000247001648, 1.0080000162124634, 1.0080000162124634, -0.8982999920845032, -1.057800054550171, 1.0080000162124634, 1.0080000162124634, -1.105299949645996, 1.0080000162124634, -1.6276999711990356, -1.9258999824523926, -2.5253000259399414, -2.393899917602539, -0.3928999900817871, -2.734999895095825, -3.301500082015991, -2.721299886703491, -2.6610000133514404, -3.198899984359741, -4.212500095367432, -4.5447998046875, -3.603300094604492, -4.2621002197265625, -5.3246002197265625, -4.872900009155273, -2.628499984741211, -4.130300045013428, -5.065199851989746, -4.980299949645996, -5.310999870300293, 4.181000232696533, 1.1893999576568604, 1.1893999576568604, 1.1893999576568604, 1.1893999576568604, 1.1893999576568604, 1.1893999576568604, 1.1893999576568604, 1.1893999576568604, 1.1893999576568604, 1.1893999576568604, 1.1893999576568604, 1.1893999576568604, 1.1893999576568604, 1.1893999576568604, 1.1893999576568604, 1.1893999576568604, 1.1893999576568604, 1.1893999576568604, 1.1893999576568604, 1.1893999576568604, 1.1893999576568604, 1.1893999576568604, 1.1893999576568604, 1.1893999576568604, 1.1893999576568604, 1.1893999576568604, 1.1893999576568604, 1.1893999576568604, 1.1893999576568604, 1.0322999954223633, 1.1893999576568604, 0.8083000183105469, 0.29339998960494995, 1.1893999576568604, 0.2379000037908554, 0.08609999716281891, 0.08659999817609787, -1.1748000383377075, 1.1893999576568604, -1.3459999561309814, -0.633400022983551, 1.1893999576568604, -1.864400029182434, -2.1528000831604004, -1.6205999851226807, -2.571899890899658, -2.4196999073028564, -2.072499990463257, -2.748199939727783, -0.9050999879837036, -1.9782999753952026, -4.226200103759766, -4.2118000984191895, -3.643699884414673, -5.116700172424316, -4.509200096130371, -4.22730016708374, -4.553800106048584, -2.3357999324798584, -3.382699966430664, -3.901099920272827, -3.537600040435791, -4.429500102996826, -4.705100059509277, 4.2596001625061035, 4.253600120544434, 4.223700046539307, 4.191800117492676, 4.1367998123168945, 4.113699913024902, 1.718500018119812, 0.9894000291824341, 0.9894000291824341, 0.9894000291824341, 0.9894000291824341, 0.9894000291824341, 0.9894000291824341, 0.9894000291824341, 0.9894000291824341, 0.9894000291824341, 0.9894000291824341, 0.9894000291824341, 0.9894000291824341, 0.9894000291824341, 0.9894000291824341, 0.9894000291824341, 0.9894000291824341, 0.9894000291824341, 0.9894000291824341, 0.9894000291824341, 0.9894000291824341, 0.9894000291824341, 0.9894000291824341, 0.9894000291824341, 0.9894000291824341, 0.9894000291824341, 0.9894000291824341, 0.9894000291824341, 0.9894000291824341, 0.9894000291824341, 0.9894000291824341, -0.04569999873638153, 0.062300000339746475, -0.12950000166893005, -0.6428999900817871, -0.6079999804496765, -0.8328999876976013, -2.076900005340576, -2.0195999145507812, -1.8037999868392944, -2.4988999366760254, -0.9653000235557556, -2.766900062561035, -2.96560001373291, -2.1979000568389893, -3.8138999938964844, -3.69350004196167, -1.575600028038025, -3.2430999279022217, -4.480800151824951, -4.05109977722168, -4.355100154876709, -3.824399948120117, -5.210599899291992, -4.987599849700928, -5.984799861907959, 4.278800010681152, 4.274099826812744, 4.267399787902832, 4.2581000328063965, 4.117000102996826, 1.5189000368118286, 1.3241000175476074, 0.5299999713897705, 0.487199991941452, 0.487199991941452, 0.487199991941452, 0.4871000051498413, 0.4871000051498413, 0.4871000051498413, 0.4871000051498413, 0.4871000051498413, 0.4871000051498413, 0.4871000051498413, 0.4871000051498413, 0.4871000051498413, 0.4871000051498413, 0.4871000051498413, 0.4871000051498413, 0.4871000051498413, 0.4871000051498413, 0.4871000051498413, 0.4871000051498413, 0.4871000051498413, 0.4871000051498413, 0.4871000051498413, 0.4871000051498413, 0.4871000051498413, 0.4871000051498413, -0.5841000080108643, -1.1825000047683716, -1.570099949836731, 0.4871000051498413, -2.506500005722046, -2.3910999298095703, -2.89520001411438, -1.2491999864578247, -3.221299886703491, -4.170599937438965, -4.2118000984191895, -2.52020001411438, -4.922900199890137, -3.8859000205993652, -4.863500118255615, -5.832300186157227, -5.347400188446045, -5.6290998458862305, -5.854000091552734, -4.612599849700928, -4.028600215911865, -5.676199913024902, -2.033900022506714, -5.569900035858154, -5.971099853515625, -6.657199859619141, 4.452899932861328, 4.433800220489502, 2.0862998962402344, 1.80649995803833, 1.0401999950408936, 1.0401999950408936, 1.0401999950408936, 1.0401999950408936, 1.0401999950408936, 1.0401999950408936, 1.0401999950408936, 1.0401999950408936, 1.0401999950408936, 1.0401999950408936, 1.0401999950408936, 1.0401999950408936, 1.0401999950408936, 1.0401999950408936, 1.0401999950408936, 1.0401999950408936, 1.0401999950408936, 1.0401999950408936, 1.0401999950408936, 1.0401999950408936, 1.0401999950408936, 1.0401999950408936, 1.0401999950408936, 1.0401999950408936, 1.0401999950408936, 1.0401999950408936, 0.9656999707221985, 1.0401999950408936, 1.0401999950408936, 1.0401999950408936, 1.0401999950408936, -0.44600000977516174, -2.3111000061035156, -0.10050000250339508, 1.0401999950408936, -2.9869000911712646, 1.0401999950408936, -2.430000066757202, -2.7004001140594482, 1.0401999950408936, -3.021899938583374, -3.0790998935699463, -3.4565000534057617, -3.572200059890747, -4.1230998039245605, -4.225200176239014, -3.9337000846862793, -4.673799991607666, -4.431700229644775, -4.810400009155273, -3.947000026702881, -3.1745998859405518, -3.7939000129699707, -4.9756999015808105, -4.781300067901611, -4.84119987487793, -2.6939001083374023, -5.378499984741211, -4.0904998779296875, -5.1631999015808105], \"logprob\": [30.0, 29.0, 28.0, 27.0, 26.0, 25.0, 24.0, 23.0, 22.0, 21.0, 20.0, 19.0, 18.0, 17.0, 16.0, 15.0, 14.0, 13.0, 12.0, 11.0, 10.0, 9.0, 8.0, 7.0, 6.0, 5.0, 4.0, 3.0, 2.0, 1.0, -1.1466000080108643, -1.7359999418258667, -1.0343999862670898, -2.1572000980377197, -6.334099769592285, -3.55649995803833, -6.822800159454346, -11.923800468444824, -11.923800468444824, -11.923800468444824, -11.923800468444824, -11.923800468444824, -11.923800468444824, -11.923800468444824, -11.923800468444824, -11.923800468444824, -11.923800468444824, -11.923800468444824, -11.923800468444824, -11.923800468444824, -11.923800468444824, -11.923800468444824, -11.923800468444824, -11.923800468444824, -11.923800468444824, -11.923800468444824, -11.923800468444824, -11.923800468444824, -11.923800468444824, -11.923800468444824, -11.923800468444824, -11.923800468444824, -11.923800468444824, -11.923800468444824, -11.923800468444824, -7.252999782562256, -11.923800468444824, -11.923800468444824, -9.02280044555664, -11.923800468444824, -7.827499866485596, -8.838899612426758, -8.586400032043457, -8.537799835205078, -9.010700225830078, -8.910499572753906, -9.29069995880127, -9.685999870300293, -9.584500312805176, -9.702500343322754, -9.713800430297852, -9.734700202941895, -10.4822998046875, -10.375900268554688, -10.393799781799316, -10.766799926757812, -10.946200370788574, -11.203700065612793, -10.548199653625488, -10.872200012207031, -10.964699745178223, -11.062800407409668, -1.3394999504089355, -2.602400064468384, -1.628499984741211, -3.4856998920440674, -1.5789999961853027, -2.2281999588012695, -3.8371999263763428, -4.194200038909912, -2.525099992752075, -12.089500427246094, -12.089500427246094, -12.089500427246094, -12.089500427246094, -12.089500427246094, -12.089500427246094, -12.089500427246094, -12.089500427246094, -12.089500427246094, -12.089500427246094, -12.089500427246094, -12.089500427246094, -12.089500427246094, -12.089500427246094, -12.089500427246094, -12.089500427246094, -12.089500427246094, -12.089500427246094, -12.089500427246094, -12.089500427246094, -12.089500427246094, -5.291399955749512, -12.089500427246094, -12.089500427246094, -12.089500427246094, -9.812700271606445, -9.805800437927246, -12.089500427246094, -9.336199760437012, -10.134099960327148, -9.64229965209961, -9.661199569702148, -9.935400009155273, -9.68690013885498, -10.072600364685059, -10.7121000289917, -10.748000144958496, -11.44279956817627, -11.357000350952148, -11.199399948120117, -11.714300155639648, -11.608400344848633, -11.39490032196045, -11.652000427246094, -11.439299583435059, -11.588399887084961, -11.558300018310547, -11.608400344848633, -3.7667999267578125, -3.2170000076293945, -1.1556999683380127, -2.524199962615967, -1.8831000328063965, -1.648800015449524, -4.3719000816345215, -3.722599983215332, -4.970799922943115, -2.8808999061584473, -2.548799991607666, -8.665399551391602, -4.1880998611450195, -11.936800003051758, -11.936800003051758, -11.936800003051758, -11.936800003051758, -11.936800003051758, -11.936800003051758, -11.936800003051758, -11.936800003051758, -11.936800003051758, -11.936800003051758, -11.936800003051758, -11.936800003051758, -11.936800003051758, -11.936800003051758, -11.936800003051758, -11.936800003051758, -11.936800003051758, -7.469099998474121, -7.5644001960754395, -7.413300037384033, -8.974499702453613, -8.880599975585938, -8.467000007629395, -8.763400077819824, -9.094599723815918, -9.375100135803223, -9.351200103759766, -9.029999732971191, -9.873600006103516, -10.619799613952637, -10.094400405883789, -10.451800346374512, -10.502599716186523, -10.506699562072754, -10.210100173950195, -10.123900413513184, -10.426799774169922, -10.399999618530273, -5.703999996185303, -6.335000038146973, -2.106300115585327, -2.7983999252319336, -1.4629000425338745, -1.780400037765503, -2.2639999389648438, -1.405900001525879, -3.3060998916625977, -5.465700149536133, -4.583499908447266, -6.063799858093262, -12.045499801635742, -12.045499801635742, -12.045499801635742, -12.045499801635742, -12.045499801635742, -12.045499801635742, -12.045499801635742, -12.045499801635742, -12.045499801635742, -12.045499801635742, -12.045499801635742, -12.045499801635742, -12.045499801635742, -12.045499801635742, -12.045499801635742, -12.045499801635742, -12.045499801635742, -12.045499801635742, -12.045499801635742, -5.766499996185303, -7.705900192260742, -8.755999565124512, -6.9618000984191895, -6.771500110626221, -7.267000198364258, -7.355299949645996, -8.687000274658203, -8.745400428771973, -8.146699905395508, -9.819000244140625, -8.226400375366211, -8.759200096130371, -10.215900421142578, -9.124500274658203, -9.625800132751465, -9.400699615478516, -10.055700302124023, -1.4018000364303589, -4.346799850463867, -1.8250000476837158, -2.801100015640259, -1.7910000085830688, -1.5570000410079956, -8.145099639892578, -2.6138999462127686, -4.196899890899658, -11.623000144958496, -11.623000144958496, -11.623000144958496, -11.623000144958496, -11.623000144958496, -11.623000144958496, -11.623000144958496, -11.623000144958496, -11.623000144958496, -11.623000144958496, -11.623000144958496, -11.623000144958496, -11.623000144958496, -11.623000144958496, -11.623000144958496, -11.623000144958496, -11.623000144958496, -11.623000144958496, -11.623000144958496, -11.623000144958496, -11.623000144958496, -11.623000144958496, -11.623000144958496, -11.623000144958496, -11.623000144958496, -7.549799919128418, -4.052800178527832, -4.14709997177124, -8.088199615478516, -11.623000144958496, -5.3105998039245605, -5.441100120544434, -11.623000144958496, -5.814300060272217, -6.496099948883057, -7.495999813079834, -6.898499965667725, -8.732600212097168, -7.592299938201904, -8.591699600219727, -7.83489990234375, -9.375, -9.034299850463867, -8.602399826049805, -9.015800476074219, -9.487500190734863, -10.162300109863281, -9.661800384521484, -9.199199676513672, -9.649499893188477, -0.9404000043869019, -1.1480000019073486, -1.4368000030517578, -3.299299955368042, -5.991300106048584, -11.721699714660645, -11.721699714660645, -11.721699714660645, -11.721699714660645, -11.721699714660645, -11.721699714660645, -11.721699714660645, -11.721699714660645, -11.721699714660645, -11.721699714660645, -11.721699714660645, -11.721699714660645, -11.721699714660645, -11.721699714660645, -11.721699714660645, -11.721699714660645, -11.721699714660645, -11.721699714660645, -11.721699714660645, -11.721699714660645, -11.721699714660645, -11.721699714660645, -11.721699714660645, -11.721699714660645, -11.721699714660645, -11.721699714660645, -11.721699714660645, -11.721699714660645, -11.721699714660645, -11.721699714660645, -5.539899826049805, -4.9070000648498535, -6.548799991607666, -11.721699714660645, -8.628499984741211, -11.721699714660645, -8.72439956665039, -11.721699714660645, -8.532899856567383, -9.315199851989746, -11.721699714660645, -9.842900276184082, -10.286999702453613, -10.530699729919434, -9.729499816894531, -10.106599807739258, -10.27560043334961, -10.132399559020996, -10.036199569702148, -10.27929973602295, -10.111300468444824, -11.166999816894531, -10.496899604797363, -10.433300018310547, -10.731200218200684, -10.694600105285645, -10.498800277709961, -11.24269962310791, -10.781499862670898, -10.72130012512207, -11.013400077819824, -0.7336000204086304, -3.104599952697754, -1.8008999824523926, -1.8880000114440918, -1.9402999877929688, -11.845800399780273, -11.845800399780273, -11.845800399780273, -11.845800399780273, -11.845800399780273, -11.845800399780273, -11.845800399780273, -11.845800399780273, -11.845800399780273, -11.845800399780273, -11.845800399780273, -11.845800399780273, -11.845800399780273, -11.845800399780273, -11.845800399780273, -11.845800399780273, -11.845800399780273, -11.845800399780273, -11.845800399780273, -11.845800399780273, -11.845800399780273, -11.845800399780273, -11.845800399780273, -11.845800399780273, -11.845800399780273, -4.497600078582764, -11.845800399780273, -11.845800399780273, -11.845800399780273, -6.977399826049805, -11.845800399780273, -7.652100086212158, -11.845800399780273, -11.845800399780273, -8.373800277709961, -11.845800399780273, -9.9443998336792, -11.845800399780273, -9.600600242614746, -9.144499778747559, -11.845800399780273, -9.261199951171875, -9.212200164794922, -9.930899620056152, -9.546199798583984, -9.842700004577637, -10.046899795532227, -10.05210018157959, -10.116999626159668, -9.97599983215332, -10.737600326538086, -10.711299896240234, -10.572199821472168, -11.037300109863281, -10.47599983215332, -10.538399696350098, -10.713500022888184, -10.686100006103516, -10.9483003616333, -10.787400245666504, -1.6927000284194946, -2.3891000747680664, -1.1382999420166016, -1.1024999618530273, -4.476500034332275, -3.0274999141693115, -7.582200050354004, -11.536199569702148, -11.536199569702148, -11.536199569702148, -11.536199569702148, -11.536199569702148, -11.536199569702148, -11.536199569702148, -11.536199569702148, -11.536199569702148, -11.536199569702148, -11.536199569702148, -11.536199569702148, -11.536199569702148, -11.536199569702148, -11.536199569702148, -11.536199569702148, -11.536199569702148, -11.536199569702148, -11.536199569702148, -11.536199569702148, -11.536199569702148, -11.536199569702148, -11.536199569702148, -11.536199569702148, -11.536199569702148, -4.909999847412109, -11.536199569702148, -8.340200424194336, -11.536199569702148, -8.377599716186523, -11.536199569702148, -8.319499969482422, -7.9928998947143555, -8.128800392150879, -7.794899940490723, -7.970600128173828, -8.746500015258789, -9.44260025024414, -9.40719985961914, -10.073699951171875, -9.666799545288086, -10.312199592590332, -10.086799621582031, -10.727700233459473, -10.086600303649902, -10.481800079345703, -10.210100173950195, -10.480600357055664, -10.526300430297852, -10.645899772644043, -10.88290023803711, -0.817799985408783, -1.5805000066757202, -2.1066999435424805, -3.691999912261963, -3.3856000900268555, -2.8787999153137207, -2.67930006980896, -3.940000057220459, -11.984600067138672, -11.984600067138672, -11.984600067138672, -11.984600067138672, -11.984600067138672, -11.984600067138672, -11.984600067138672, -11.984600067138672, -11.984600067138672, -11.984600067138672, -11.984600067138672, -11.984600067138672, -11.984600067138672, -11.984600067138672, -11.984600067138672, -11.984600067138672, -11.984600067138672, -11.984600067138672, -11.984600067138672, -11.984600067138672, -11.984600067138672, -11.984600067138672, -5.076200008392334, -11.984600067138672, -6.135499954223633, -6.259399890899658, -11.984600067138672, -5.072299957275391, -11.984600067138672, -5.6757001876831055, -9.696100234985352, -6.351399898529053, -7.211400032043457, -6.2540998458862305, -7.021399974822998, -10.007399559020996, -8.203800201416016, -8.124199867248535, -9.256500244140625, -8.795900344848633, -8.856499671936035, -9.252599716186523, -9.569499969482422, -9.076600074768066, -9.925800323486328, -8.801300048828125, -9.468899726867676, -9.745599746704102, -2.271699905395508, -1.1201000213623047, -2.94320011138916, -3.5517001152038574, -3.5892999172210693, -4.372000217437744, -2.138400077819824, -2.2964000701904297, -2.991300106048584, -2.5185999870300293, -2.6201000213623047, -11.4975004196167, -11.4975004196167, -11.4975004196167, -11.4975004196167, -11.4975004196167, -11.4975004196167, -11.4975004196167, -11.4975004196167, -11.4975004196167, -11.4975004196167, -11.4975004196167, -11.4975004196167, -11.4975004196167, -11.4975004196167, -11.4975004196167, -11.4975004196167, -11.4975004196167, -11.4975004196167, -11.4975004196167, -4.510700225830078, -11.4975004196167, -11.4975004196167, -11.4975004196167, -11.4975004196167, -5.901400089263916, -7.093599796295166, -5.711100101470947, -6.50629997253418, -6.390200138092041, -7.842800140380859, -6.57919979095459, -11.4975004196167, -11.4975004196167, -11.4975004196167, -11.4975004196167, -11.4975004196167, -11.4975004196167, -11.4975004196167, -11.4975004196167, -11.4975004196167, -6.894899845123291, -9.588299751281738, -8.000100135803223, -7.985899925231934, -7.89769983291626, -9.081100463867188, -9.789600372314453, -9.582300186157227, -10.23799991607666, -9.642600059509277, -9.986800193786621, -9.653200149536133, -9.949199676513672, -3.4398999214172363, -4.291800022125244, -4.423999786376953, -2.3457999229431152, -0.7943999767303467, -2.4935998916625977, -2.489799976348877, -4.61460018157959, -2.793800115585327, -2.6666998863220215, -3.536900043487549, -3.5589001178741455, -11.845199584960938, -11.845199584960938, -11.845199584960938, -11.845199584960938, -11.845199584960938, -11.845199584960938, -11.845199584960938, -11.845199584960938, -11.845199584960938, -11.845199584960938, -11.845199584960938, -11.845199584960938, -11.845199584960938, -11.845199584960938, -11.845199584960938, -11.845199584960938, -11.845199584960938, -11.845199584960938, -11.845199584960938, -11.845199584960938, -11.845199584960938, -5.272900104522705, -4.294400215148926, -5.537600040435791, -8.203900337219238, -6.702400207519531, -6.700500011444092, -6.858399868011475, -11.845199584960938, -11.845199584960938, -11.845199584960938, -11.845199584960938, -11.845199584960938, -11.845199584960938, -11.845199584960938, -11.845199584960938, -6.3867998123168945, -8.180999755859375, -8.251999855041504, -8.874500274658203, -8.872099876403809, -8.49209976196289, -8.647000312805176, -8.554300308227539, -9.081600189208984, -9.506199836730957, -9.336899757385254, -2.451200008392334, -1.9124000072479248, -0.8482999801635742, -1.6083999872207642, -4.732999801635742, -2.3998000621795654, -5.233500003814697, -11.867899894714355, -11.867899894714355, -11.867899894714355, -11.867899894714355, -11.867899894714355, -11.867899894714355, -11.867899894714355, -11.867899894714355, -11.867899894714355, -11.867899894714355, -11.867899894714355, -11.867899894714355, -11.867899894714355, -11.867899894714355, -11.867899894714355, -11.867899894714355, -11.867899894714355, -11.867899894714355, -11.867899894714355, -11.867899894714355, -11.867899894714355, -11.867899894714355, -11.867899894714355, -11.867899894714355, -11.867899894714355, -3.795799970626831, -9.413100242614746, -8.858799934387207, -5.432600021362305, -11.867899894714355, -11.867899894714355, -6.406400203704834, -8.251399993896484, -7.21120023727417, -8.663700103759766, -7.666800022125244, -8.101400375366211, -9.196399688720703, -8.402999877929688, -9.207200050354004, -9.034299850463867, -9.003700256347656, -9.16469955444336, -9.9399995803833, -9.558799743652344, -9.429200172424316, -10.02180004119873, -9.681300163269043, -9.677200317382812, -9.787300109863281, -4.126800060272217, -3.496299982070923, -4.336100101470947, -3.8433001041412354, -0.9348000288009644, -2.219099998474121, -2.4433999061584473, -3.3350000381469727, -3.8046000003814697, -2.3343000411987305, -5.058899879455566, -3.5053999423980713, -2.833699941635132, -2.783099889755249, -11.577300071716309, -11.577300071716309, -11.577300071716309, -11.577300071716309, -11.577300071716309, -11.577300071716309, -11.577300071716309, -11.577300071716309, -11.577300071716309, -11.577300071716309, -11.577300071716309, -11.577300071716309, -11.577300071716309, -11.577300071716309, -11.577300071716309, -11.577300071716309, -11.577300071716309, -5.138700008392334, -6.964000225067139, -6.607399940490723, -6.996099948883057, -6.519000053405762, -7.284599781036377, -8.424699783325195, -7.476200103759766, -6.336299896240234, -6.66949987411499, -8.714099884033203, -6.676599979400635, -11.577300071716309, -11.577300071716309, -11.577300071716309, -11.577300071716309, -8.362099647521973, -9.180800437927246, -11.577300071716309, -8.655400276184082, -11.577300071716309, -9.134099960327148, -8.576000213623047, -8.91100025177002, -2.3554000854492188, -2.1159000396728516, -0.8572999835014343, -1.7963000535964966, -2.829900026321411, -11.067999839782715, -11.067999839782715, -11.067999839782715, -11.067999839782715, -11.067999839782715, -11.067999839782715, -11.067999839782715, -11.067999839782715, -11.067999839782715, -11.067999839782715, -11.067999839782715, -11.067999839782715, -11.067999839782715, -11.067999839782715, -11.067999839782715, -11.067999839782715, -11.067999839782715, -11.067999839782715, -11.067999839782715, -11.067999839782715, -11.067999839782715, -11.067999839782715, -11.067999839782715, -11.067999839782715, -11.067999839782715, -11.067999839782715, -11.067999839782715, -2.703700065612793, -11.067999839782715, -11.067999839782715, -4.037199974060059, -3.489000082015991, -11.067999839782715, -4.410099983215332, -11.067999839782715, -6.0569000244140625, -7.6346001625061035, -6.448599815368652, -9.023200035095215, -8.342499732971191, -7.964200019836426, -9.041299819946289, -9.168399810791016, -9.641500473022461, -9.596099853515625, -9.871700286865234, -9.696700096130371, -10.337400436401367, -10.188400268554688, -10.050000190734863, -10.158599853515625, -10.311599731445312, -10.226099967956543, -10.186599731445312, -10.399800300598145, -10.541600227355957, -10.408100128173828, -10.298800468444824, -10.322799682617188, -4.05649995803833, -5.293700218200684, -0.5889000296592712, -1.3312000036239624, -2.539099931716919, -5.166299819946289, -11.550000190734863, -11.550000190734863, -11.550000190734863, -11.550000190734863, -11.550000190734863, -11.550000190734863, -11.550000190734863, -11.550000190734863, -11.550000190734863, -11.550000190734863, -11.550000190734863, -11.550000190734863, -11.550000190734863, -11.550000190734863, -11.550000190734863, -11.550000190734863, -11.550000190734863, -11.550000190734863, -11.550000190734863, -11.550000190734863, -11.550000190734863, -11.550000190734863, -11.550000190734863, -11.550000190734863, -11.550000190734863, -11.550000190734863, -11.550000190734863, -11.550000190734863, -2.9895999431610107, -11.550000190734863, -4.801700115203857, -11.550000190734863, -5.655799865722656, -5.9496002197265625, -11.550000190734863, -6.469399929046631, -7.839700222015381, -6.218299865722656, -7.7906999588012695, -7.2357001304626465, -7.939000129699707, -7.781400203704834, -7.7652997970581055, -8.13949966430664, -8.263299942016602, -8.232399940490723, -9.232600212097168, -8.698100090026855, -9.565099716186523, -9.433799743652344, -10.02810001373291, -9.706500053405762, -9.708000183105469, -10.084099769592285, -9.546199798583984, -9.870599746704102, -2.7156999111175537, -0.5069000124931335, -2.205699920654297, -2.1410999298095703, -2.745699882507324, -11.133600234985352, -11.133600234985352, -11.133600234985352, -11.133600234985352, -11.133600234985352, -11.133600234985352, -11.133600234985352, -11.133600234985352, -11.133600234985352, -11.133600234985352, -11.133600234985352, -11.133600234985352, -11.133600234985352, -11.133600234985352, -11.133600234985352, -11.133600234985352, -11.133600234985352, -11.133600234985352, -11.133600234985352, -11.133600234985352, -11.133600234985352, -11.133600234985352, -11.133600234985352, -11.133600234985352, -11.133600234985352, -7.13070011138916, -11.133600234985352, -11.133600234985352, -11.133600234985352, -4.879300117492676, -4.532199859619141, -4.729000091552734, -11.133600234985352, -6.351900100708008, -11.133600234985352, -11.133600234985352, -8.006500244140625, -6.0777997970581055, -6.430500030517578, -7.94379997253418, -7.82420015335083, -7.457300186157227, -7.6697998046875, -7.519999980926514, -8.528300285339355, -8.409899711608887, -8.815199851989746, -9.81820011138916, -8.746399879455566, -9.424599647521973, -9.429300308227539, -10.366399765014648, -9.926199913024902, -10.069100379943848, -10.30270004272461, -10.081100463867188, -1.1708999872207642, -1.5782999992370605, -3.213200092315674, -4.58459997177124, -5.856100082397461, -4.394499778747559, -1.4838999509811401, -2.7509000301361084, -3.3011999130249023, -3.4907000064849854, -3.2797999382019043, -12.038800239562988, -12.038800239562988, -12.038800239562988, -12.038800239562988, -12.038800239562988, -12.038800239562988, -12.038800239562988, -12.038800239562988, -12.038800239562988, -12.038800239562988, -12.038800239562988, -12.038800239562988, -12.038800239562988, -12.038800239562988, -12.038800239562988, -12.038800239562988, -12.038800239562988, -12.038800239562988, -12.038800239562988, -4.329100131988525, -12.038800239562988, -5.319399833679199, -6.4359002113342285, -8.053099632263184, -8.298800468444824, -8.285099983215332, -9.03849983215332, -10.705300331115723, -8.665499687194824, -8.915200233459473, -9.646499633789062, -10.014399528503418, -9.752099990844727, -9.431400299072266, -9.928299903869629, -10.571599960327148, -10.391799926757812, -10.651900291442871, -10.101400375366211, -10.491299629211426, -10.434000015258789, -10.515800476074219, -0.5267999768257141, -3.044300079345703, -3.992000102996826, -2.8526999950408936, -1.6728999614715576, -3.6312999725341797, -2.986999988555908, -10.907500267028809, -10.907500267028809, -10.907500267028809, -10.907500267028809, -10.907500267028809, -10.907500267028809, -10.907500267028809, -10.907500267028809, -10.907500267028809, -10.907500267028809, -10.907500267028809, -10.907500267028809, -10.907500267028809, -10.907500267028809, -10.907500267028809, -10.907500267028809, -10.907500267028809, -10.907500267028809, -10.907500267028809, -10.907500267028809, -10.907500267028809, -10.907500267028809, -10.907500267028809, -10.907500267028809, -10.907500267028809, -4.690000057220459, -10.907500267028809, -10.907500267028809, -10.907500267028809, -10.907500267028809, -10.907500267028809, -10.907500267028809, -5.269199848175049, -10.907500267028809, -7.223400115966797, -6.877799987792969, -8.527199745178223, -7.442800045013428, -7.783299922943115, -7.907100200653076, -9.454000473022461, -8.926199913024902, -8.40530014038086, -8.876500129699707, -9.874099731445312, -9.706899642944336, -9.955699920654297, -10.187299728393555, -10.097100257873535, -10.344300270080566, -10.34220027923584, -10.638299942016602, -10.564200401306152, -10.541299819946289, -10.637499809265137, -10.61620044708252, -1.5261000394821167, -2.71370005607605, -0.7246000170707703, -3.723599910736084, -9.766400337219238, -9.766400337219238, -9.766400337219238, -9.766400337219238, -9.766400337219238, -9.766400337219238, -9.766400337219238, -9.766400337219238, -9.766400337219238, -9.766400337219238, -9.766400337219238, -9.766400337219238, -9.766400337219238, -9.766400337219238, -9.766400337219238, -9.766400337219238, -9.766400337219238, -9.766400337219238, -9.766400337219238, -9.766400337219238, -9.766400337219238, -9.766400337219238, -9.766400337219238, -9.766400337219238, -9.766400337219238, -9.766400337219238, -9.766400337219238, -9.766400337219238, -4.936399936676025, -9.766400337219238, -2.649399995803833, -3.013200044631958, -9.766400337219238, -9.766400337219238, -4.943399906158447, -3.3958001136779785, -4.296999931335449, -9.766400337219238, -6.013400077819824, -9.766400337219238, -5.1880998611450195, -6.609899997711182, -7.251100063323975, -6.558899879455566, -6.781400203704834, -7.598400115966797, -7.237800121307373, -7.205399990081787, -7.242099761962891, -7.6595001220703125, -8.586099624633789, -7.883800029754639, -7.944799900054932, -8.416899681091309, -8.154500007629395, -8.629300117492676, -8.751099586486816, -8.632200241088867, -8.437999725341797, -1.152400016784668, -4.5883002281188965, -4.68310022354126, -1.3066999912261963, -2.214400053024292, -1.7347999811172485, -3.3362998962402344, -10.91569995880127, -10.91569995880127, -10.91569995880127, -10.91569995880127, -10.91569995880127, -10.91569995880127, -10.91569995880127, -10.91569995880127, -10.91569995880127, -10.91569995880127, -10.91569995880127, -10.91569995880127, -10.91569995880127, -10.91569995880127, -10.91569995880127, -10.91569995880127, -10.91569995880127, -10.91569995880127, -10.91569995880127, -10.91569995880127, -10.91569995880127, -10.91569995880127, -10.91569995880127, -10.91569995880127, -10.91569995880127, -4.441500186920166, -10.91569995880127, -4.672599792480469, -10.91569995880127, -3.2934999465942383, -5.235199928283691, -10.91569995880127, -6.817299842834473, -6.074399948120117, -7.2434000968933105, -7.843100070953369, -10.91569995880127, -10.91569995880127, -10.91569995880127, -10.91569995880127, -7.769199848175049, -10.91569995880127, -7.759200096130371, -7.686999797821045, -8.479299545288086, -8.816300392150879, -9.368499755859375, -9.211899757385254, -9.712300300598145, -10.242799758911133, -9.913700103759766, -10.191399574279785, -9.91759967803955, -9.945899963378906, -10.277099609375, -10.151100158691406, -2.427299976348877, -2.0576999187469482, -1.6510000228881836, -5.652500152587891, -2.0343000888824463, -1.73580002784729, -4.098199844360352, -3.257499933242798, -2.97160005569458, -11.06350040435791, -11.06350040435791, -11.06350040435791, -11.06350040435791, -11.06350040435791, -11.06350040435791, -11.06350040435791, -11.06350040435791, -11.06350040435791, -11.06350040435791, -11.06350040435791, -11.06350040435791, -11.06350040435791, -11.06350040435791, -11.06350040435791, -11.06350040435791, -11.06350040435791, -11.06350040435791, -11.06350040435791, -11.06350040435791, -11.06350040435791, -2.9851999282836914, -11.06350040435791, -3.0562000274658203, -3.888000011444092, -3.703000068664551, -5.709000110626221, -4.855899810791016, -6.749300003051758, -7.316500186920166, -6.807499885559082, -6.033899784088135, -5.935800075531006, -6.2210001945495605, -7.014500141143799, -6.417699813842773, -8.629199981689453, -7.460400104522705, -7.708399772644043, -7.027200222015381, -7.100200176239014, -8.519499778747559, -7.184999942779541, -7.179500102996826, -7.643899917602539, -2.428800106048584, -2.470400094985962, -3.079400062561035, -3.7527999877929688, -2.1605000495910645, -1.4835000038146973, -1.7561999559402466, -2.3306000232696533, -5.3983001708984375, -5.848299980163574, -10.540200233459473, -10.540200233459473, -10.540200233459473, -10.540200233459473, -10.540200233459473, -10.540200233459473, -10.540200233459473, -10.540200233459473, -10.540200233459473, -10.540200233459473, -10.540200233459473, -10.540200233459473, -10.540200233459473, -10.540200233459473, -10.540200233459473, -10.540200233459473, -10.540200233459473, -10.540200233459473, -10.540200233459473, -10.540200233459473, -10.540200233459473, -10.540200233459473, -3.115499973297119, -4.415999889373779, -3.647900104522705, -3.259500026702881, -4.8678998947143555, -6.436100006103516, -7.166600227355957, -8.934800148010254, -7.530900001525879, -7.372900009155273, -7.543600082397461, -7.890500068664551, -8.277000427246094, -8.73740005493164, -8.62279987335205, -8.730799674987793, -8.4975004196167, -9.076399803161621, -9.03849983215332, -9.422200202941895, -1.0667999982833862, -2.108799934387207, -4.4390997886657715, -4.461999893188477, -2.5664000511169434, -4.769499778747559, -3.8654000759124756, -2.8278000354766846, -3.865299940109253, -2.2855000495910645, -2.6226999759674072, -3.1535000801086426, -10.62909984588623, -10.62909984588623, -10.62909984588623, -10.62909984588623, -10.62909984588623, -10.62909984588623, -10.62909984588623, -10.62909984588623, -10.62909984588623, -10.62909984588623, -10.62909984588623, -10.62909984588623, -10.62909984588623, -10.62909984588623, -10.62909984588623, -10.62909984588623, -10.62909984588623, -10.62909984588623, -10.62909984588623, -10.62909984588623, -2.6572000980377197, -10.62909984588623, -10.62909984588623, -10.62909984588623, -10.62909984588623, -10.62909984588623, -10.62909984588623, -10.62909984588623, -10.62909984588623, -4.809800148010254, -4.8983001708984375, -5.718299865722656, -5.979300022125244, -6.630899906158447, -6.051499843597412, -6.859899997711182, -7.083899974822998, -9.206100463867188, -6.507400035858154, -7.468299865722656, -7.0594000816345215, -7.2947001457214355, -7.690499782562256, -7.543900012969971, -9.460000038146973, -8.364899635314941, -8.659199714660645, -8.336000442504883, -8.352999687194824, -0.7993999719619751, -1.6763999462127686, -2.510200023651123, -2.353100061416626, -10.656299591064453, -10.656299591064453, -10.656299591064453, -10.656299591064453, -10.656299591064453, -10.656299591064453, -10.656299591064453, -10.656299591064453, -10.656299591064453, -10.656299591064453, -10.656299591064453, -10.656299591064453, -10.656299591064453, -10.656299591064453, -10.656299591064453, -10.656299591064453, -10.656299591064453, -10.656299591064453, -10.656299591064453, -10.656299591064453, -10.656299591064453, -10.656299591064453, -10.656299591064453, -10.656299591064453, -10.656299591064453, -10.656299591064453, -10.656299591064453, -2.1354000568389893, -3.9402999877929688, -10.656299591064453, -4.554900169372559, -4.649899959564209, -4.146599769592285, -10.656299591064453, -10.656299591064453, -10.656299591064453, -6.186699867248535, -10.656299591064453, -10.656299591064453, -7.277900218963623, -6.377500057220459, -7.290800094604492, -7.015999794006348, -9.054400444030762, -8.116100311279297, -7.695499897003174, -7.911300182342529, -7.7733001708984375, -7.98390007019043, -8.041899681091309, -8.807000160217285, -8.288299560546875, -8.371999740600586, -9.314800262451172, -8.619000434875488, -8.732000350952148, -8.706700325012207, -9.035499572753906, -9.713600158691406, -9.640000343322754, -2.4346001148223877, -0.715399980545044, -10.240099906921387, -1.6450999975204468, -10.509300231933594, -10.509300231933594, -10.509300231933594, -10.509300231933594, -10.509300231933594, -10.509300231933594, -10.509300231933594, -10.509300231933594, -10.509300231933594, -10.509300231933594, -10.509300231933594, -10.509300231933594, -10.509300231933594, -10.509300231933594, -10.509300231933594, -10.509300231933594, -10.509300231933594, -10.509300231933594, -10.509300231933594, -10.509300231933594, -10.509300231933594, -10.509300231933594, -10.509300231933594, -10.509300231933594, -10.509300231933594, -10.509300231933594, -10.509300231933594, -10.509300231933594, -2.2832000255584717, -2.7604000568389893, -10.509300231933594, -3.182800054550171, -10.509300231933594, -4.634099960327148, -10.509300231933594, -6.597400188446045, -6.420100212097168, -10.509300231933594, -6.550000190734863, -6.900100231170654, -10.509300231933594, -7.351600170135498, -7.443299770355225, -7.018499851226807, -7.861000061035156, -7.223299980163574, -8.102700233459473, -8.741900444030762, -9.269599914550781, -9.080499649047852, -8.96660041809082, -8.994799613952637, -9.649100303649902, -9.15839958190918, -9.254300117492676, -9.447600364685059, -9.595600128173828, -9.802399635314941, -9.659700393676758, -9.64109992980957, -1.8592000007629395, -2.2218000888824463, -3.336699962615967, -3.122999906539917, -0.6909999847412109, -3.7155001163482666, -10.253100395202637, -10.253100395202637, -10.253100395202637, -10.253100395202637, -10.253100395202637, -10.253100395202637, -10.253100395202637, -10.253100395202637, -10.253100395202637, -10.253100395202637, -10.253100395202637, -10.253100395202637, -10.253100395202637, -10.253100395202637, -10.253100395202637, -10.253100395202637, -10.253100395202637, -10.253100395202637, -10.253100395202637, -10.253100395202637, -10.253100395202637, -10.253100395202637, -10.253100395202637, -10.253100395202637, -10.253100395202637, -10.253100395202637, -10.253100395202637, -10.253100395202637, -3.5826001167297363, -3.062999963760376, -10.253100395202637, -10.253100395202637, -3.696899890899658, -4.79449987411499, -10.253100395202637, -10.253100395202637, -6.431000232696533, -10.253100395202637, -5.821000099182129, -5.91510009765625, -5.691699981689453, -6.690499782562256, -8.784000396728516, -6.559599876403809, -7.1508002281188965, -7.795300006866455, -7.9953999519348145, -8.056699752807617, -7.553699970245361, -7.633399963378906, -8.435799598693848, -8.589400291442871, -8.34160041809082, -8.562999725341797, -9.204500198364258, -9.018699645996094, -8.968899726867676, -8.991999626159668, -8.96969985961914, -0.5401999950408936, -10.071599960327148, -10.071599960327148, -10.071599960327148, -10.071599960327148, -10.071599960327148, -10.071599960327148, -10.071599960327148, -10.071599960327148, -10.071599960327148, -10.071599960327148, -10.071599960327148, -10.071599960327148, -10.071599960327148, -10.071599960327148, -10.071599960327148, -10.071599960327148, -10.071599960327148, -10.071599960327148, -10.071599960327148, -10.071599960327148, -10.071599960327148, -10.071599960327148, -10.071599960327148, -10.071599960327148, -10.071599960327148, -10.071599960327148, -10.071599960327148, -10.071599960327148, -10.071599960327148, -2.309000015258789, -10.071599960327148, -2.6328001022338867, -2.265399932861328, -10.071599960327148, -2.560699939727783, -4.1072001457214355, -5.211400032043457, -4.911499977111816, -10.071599960327148, -4.83519983291626, -6.321800231933594, -10.071599960327148, -4.953000068664551, -6.001999855041504, -6.694499969482422, -5.73829984664917, -6.747000217437744, -7.406899929046631, -7.044899940490723, -8.461099624633789, -8.759699821472168, -7.885000228881836, -8.201000213623047, -8.532099723815918, -8.133700370788574, -8.333800315856934, -8.437199592590332, -8.377599716186523, -9.084099769592285, -8.862000465393066, -8.733599662780762, -8.885700225830078, -8.746199607849121, -8.840800285339355, -1.763700008392334, -2.609999895095825, -2.657399892807007, -1.8208999633789062, -1.2222000360488892, -4.24370002746582, -6.994900226593018, -10.271599769592285, -10.271599769592285, -10.271599769592285, -10.271599769592285, -10.271599769592285, -10.271599769592285, -10.271599769592285, -10.271599769592285, -10.271599769592285, -10.271599769592285, -10.271599769592285, -10.271599769592285, -10.271599769592285, -10.271599769592285, -10.271599769592285, -10.271599769592285, -10.271599769592285, -10.271599769592285, -10.271599769592285, -10.271599769592285, -10.271599769592285, -10.271599769592285, -10.271599769592285, -10.271599769592285, -10.271599769592285, -10.271599769592285, -10.271599769592285, -10.271599769592285, -10.271599769592285, -10.271599769592285, -2.604599952697754, -3.427000045776367, -3.218100070953369, -3.441499948501587, -4.904699802398682, -5.145299911499023, -5.418099880218506, -6.212900161743164, -6.636300086975098, -5.939899921417236, -8.229000091552734, -6.616099834442139, -6.702300071716309, -7.720099925994873, -6.980299949645996, -7.458899974822998, -9.131699562072754, -8.57759952545166, -8.470100402832031, -8.772299766540527, -9.02239990234375, -9.29889965057373, -9.035200119018555, -9.120800018310547, -9.001799583435059, -1.1575000286102295, -1.3281999826431274, -2.6570000648498535, -2.871000051498413, -4.59630012512207, -2.7130000591278076, -2.467600107192993, -2.486999988555908, -10.773900032043457, -10.773900032043457, -10.773900032043457, -10.773900032043457, -10.773900032043457, -10.773900032043457, -10.773900032043457, -10.773900032043457, -10.773900032043457, -10.773900032043457, -10.773900032043457, -10.773900032043457, -10.773900032043457, -10.773900032043457, -10.773900032043457, -10.773900032043457, -10.773900032043457, -10.773900032043457, -10.773900032043457, -10.773900032043457, -10.773900032043457, -10.773900032043457, -10.773900032043457, -10.773900032043457, -10.773900032043457, -4.3495001792907715, -3.981100082397461, -5.228799819946289, -10.773900032043457, -5.595099925994873, -6.707900047302246, -6.718900203704834, -8.827199935913086, -7.070499897003174, -6.729499816894531, -8.407099723815918, -9.32409954071045, -8.412199974060059, -9.36520004272461, -9.160099983215332, -9.173600196838379, -9.54069995880127, -9.618300437927246, -9.590700149536133, -9.910599708557129, -10.051899909973145, -9.811800003051758, -10.391300201416016, -9.897199630737305, -9.874899864196777, -9.823599815368652, -0.6682000160217285, -3.0009000301361084, -1.9254000186920166, -1.985200047492981, -10.220800399780273, -10.220800399780273, -10.220800399780273, -10.220800399780273, -10.220800399780273, -10.220800399780273, -10.220800399780273, -10.220800399780273, -10.220800399780273, -10.220800399780273, -10.220800399780273, -10.220800399780273, -10.220800399780273, -10.220800399780273, -10.220800399780273, -10.220800399780273, -10.220800399780273, -10.220800399780273, -10.220800399780273, -10.220800399780273, -10.220800399780273, -10.220800399780273, -10.220800399780273, -10.220800399780273, -10.220800399780273, -10.220800399780273, -2.051300048828125, -10.220800399780273, -10.220800399780273, -10.220800399780273, -10.220800399780273, -7.022600173950195, -5.1097002029418945, -8.457900047302246, -10.220800399780273, -5.54580020904541, -10.220800399780273, -6.333799839019775, -6.189599990844727, -10.220800399780273, -7.253799915313721, -7.289000034332275, -7.115200042724609, -7.42140007019043, -7.2895002365112305, -7.9618000984191895, -8.126999855041504, -8.114899635314941, -8.255499839782715, -8.151700019836426, -8.890000343322754, -9.190999984741211, -9.128399848937988, -8.96500015258789, -9.07800006866455, -9.153599739074707, -9.574999809265137, -9.143799781799316, -9.416199684143066, -9.29640007019043]}, \"token.table\": {\"Topic\": [28, 5, 1, 2, 3, 4, 5, 6, 7, 8, 9, 10, 12, 13, 14, 15, 16, 17, 19, 21, 22, 23, 24, 25, 26, 27, 28, 22, 1, 5, 6, 8, 11, 12, 15, 18, 20, 22, 23, 24, 25, 29, 30, 9, 22, 24, 4, 8, 12, 21, 28, 4, 8, 12, 13, 21, 5, 11, 2, 3, 4, 5, 8, 9, 10, 12, 13, 14, 15, 16, 17, 19, 20, 21, 22, 23, 25, 26, 27, 28, 29, 29, 11, 17, 12, 11, 23, 23, 2, 3, 7, 19, 21, 24, 26, 1, 8, 23, 11, 19, 28, 3, 19, 21, 3, 4, 9, 10, 11, 15, 16, 17, 19, 20, 21, 23, 24, 26, 21, 1, 6, 8, 11, 18, 20, 22, 23, 27, 29, 30, 3, 4, 4, 8, 12, 13, 19, 20, 21, 23, 25, 16, 22, 21, 19, 28, 15, 29, 4, 8, 13, 14, 28, 3, 4, 5, 7, 9, 10, 11, 12, 13, 15, 17, 18, 19, 21, 22, 23, 24, 29, 29, 4, 14, 21, 22, 1, 18, 23, 19, 17, 15, 22, 13, 22, 29, 12, 13, 19, 5, 9, 10, 12, 13, 18, 26, 10, 13, 9, 17, 20, 21, 27, 4, 13, 3, 9, 10, 21, 27, 9, 13, 18, 22, 3, 4, 5, 6, 7, 8, 9, 10, 13, 14, 15, 16, 17, 19, 21, 22, 23, 24, 25, 27, 28, 1, 3, 4, 5, 9, 10, 11, 13, 15, 16, 18, 20, 21, 23, 24, 26, 27, 28, 3, 21, 16, 19, 21, 22, 13, 19, 21, 18, 19, 23, 2, 3, 14, 19, 24, 26, 1, 6, 11, 23, 30, 3, 9, 11, 16, 21, 25, 26, 6, 11, 5, 28, 5, 28, 11, 16, 17, 19, 22, 26, 28, 10, 13, 20, 20, 1, 8, 11, 19, 22, 29, 23, 8, 23, 5, 10, 13, 15, 27, 7, 12, 13, 15, 16, 17, 21, 25, 10, 13, 18, 26, 27, 28, 29, 18, 25, 1, 4, 5, 6, 11, 15, 18, 20, 23, 29, 30, 5, 13, 18, 2, 3, 4, 7, 9, 10, 14, 15, 16, 19, 21, 24, 25, 26, 27, 28, 10, 26, 10, 2, 3, 4, 5, 7, 9, 10, 13, 14, 19, 21, 24, 25, 26, 27, 28, 30, 17, 4, 28, 17, 26, 30, 11, 24, 30, 26, 1, 2, 3, 4, 5, 6, 7, 8, 9, 10, 11, 12, 13, 14, 15, 16, 17, 19, 20, 21, 22, 23, 24, 25, 26, 27, 28, 29, 30, 2, 3, 4, 5, 6, 7, 8, 9, 10, 11, 12, 13, 14, 15, 16, 17, 18, 19, 20, 21, 22, 23, 24, 25, 26, 27, 28, 29, 30, 1, 3, 4, 5, 7, 9, 10, 11, 12, 13, 14, 15, 16, 17, 19, 21, 22, 23, 24, 26, 27, 28, 30, 12, 21, 4, 5, 13, 16, 21, 23, 25, 23, 14, 4, 5, 7, 9, 11, 12, 13, 14, 15, 16, 18, 20, 21, 23, 28, 29, 11, 21, 24, 15, 16, 22, 3, 4, 5, 10, 11, 14, 16, 19, 21, 27, 2, 3, 4, 9, 15, 19, 21, 24, 25, 26, 27, 1, 6, 11, 23, 30, 1, 8, 22, 23, 11, 17, 15, 5, 26, 12, 16, 17, 1, 5, 6, 11, 20, 24, 29, 30, 10, 13, 3, 5, 13, 18, 1, 3, 5, 9, 10, 11, 13, 15, 16, 18, 20, 21, 23, 24, 26, 27, 28, 29, 30, 1, 5, 20, 2, 3, 9, 11, 20, 21, 24, 25, 30, 2, 3, 4, 5, 8, 9, 10, 13, 15, 17, 19, 20, 21, 25, 26, 27, 28, 30], \"Freq\": [0.9947372674942017, 0.9750296473503113, 0.00027668068651109934, 0.009960505180060863, 0.25454622507095337, 0.05616617947816849, 0.004426890984177589, 0.00027668068651109934, 0.015770798549056053, 0.05727290362119675, 0.022411135956645012, 0.001660084119066596, 0.004703571554273367, 0.0013834034325554967, 0.4114241898059845, 0.00027668068651109934, 0.006640336476266384, 0.010513866320252419, 0.031541597098112106, 0.012727311812341213, 0.0038735296111553907, 0.00027668068651109934, 0.04454559087753296, 0.004426890984177589, 0.00027668068651109934, 0.04233214631676674, 0.001660084119066596, 0.9740331172943115, 0.5137590169906616, 0.018205635249614716, 0.24947723746299744, 0.00020006192789878696, 0.05421678349375725, 0.0004001238557975739, 0.00020006192789878696, 0.002800866961479187, 0.08062496036291122, 0.00020006192789878696, 0.024407556280493736, 0.0004001238557975739, 0.00020006192789878696, 0.02340724691748619, 0.030609475448727608, 0.0012999271275475621, 0.003899781499058008, 0.9905444979667664, 0.031847286969423294, 0.9578683376312256, 0.002449791179969907, 0.002449791179969907, 0.002449791179969907, 0.0015868507325649261, 0.07775568217039108, 0.9124391674995422, 0.0047605521976947784, 0.0015868507325649261, 0.9992454051971436, 0.9701083898544312, 0.0002149110077880323, 0.0008596440311521292, 0.2009417861700058, 0.0002149110077880323, 0.2937833368778229, 0.0002149110077880323, 0.0008596440311521292, 0.07586358487606049, 0.07865742594003677, 0.12486329674720764, 0.0015043769963085651, 0.07887233793735504, 0.03997344523668289, 0.03546031564474106, 0.0002149110077880323, 0.011820104904472828, 0.017407791689038277, 0.0002149110077880323, 0.02192092314362526, 0.0002149110077880323, 0.0023640210274606943, 0.012249927036464214, 0.0010745549807325006, 0.9960227012634277, 0.0016554207541048527, 0.9965632557868958, 0.9949122071266174, 0.9901806116104126, 0.9924506545066833, 0.9613566994667053, 0.44083172082901, 0.08454307168722153, 0.4609610140323639, 0.004025860223919153, 0.0020129301119595766, 0.0020129301119595766, 0.0060387905687093735, 0.24883049726486206, 0.019140807911753654, 0.6890690922737122, 0.00208112015388906, 0.11654272675514221, 0.8782327175140381, 0.9567223787307739, 0.02372038923203945, 0.011860194616019726, 0.0004486418911255896, 0.0004486418911255896, 0.828192949295044, 0.0026918514631688595, 0.1444626897573471, 0.0004486418911255896, 0.0008972837822511792, 0.0004486418911255896, 0.0004486418911255896, 0.0004486418911255896, 0.0026918514631688595, 0.0017945675645023584, 0.014805182814598083, 0.0008972837822511792, 0.8751627206802368, 0.8722997307777405, 0.007981827482581139, 0.00038008703268133104, 0.04218966141343117, 0.00038008703268133104, 0.004561044275760651, 0.00038008703268133104, 0.06727540493011475, 0.00038008703268133104, 0.0030406962614506483, 0.00038008703268133104, 0.04812820628285408, 0.8663077354431152, 0.21969668567180634, 0.0006499902228824794, 0.506342351436615, 0.26714596152305603, 0.0006499902228824794, 0.0019499706104397774, 0.0012999804457649589, 0.0006499902228824794, 0.0006499902228824794, 0.006390414200723171, 0.9841238260269165, 0.9929419159889221, 0.06801573187112808, 0.9282147288322449, 0.0026541429106146097, 0.9926494359970093, 0.02089700661599636, 0.9649500250816345, 0.0061461785808205605, 0.0012292357860133052, 0.0024584715720266104, 0.0013447855599224567, 0.0017930475296452641, 0.0035860950592905283, 0.00044826188241131604, 0.0466192327439785, 0.00044826188241131604, 0.006723928265273571, 0.7468042969703674, 0.009861760772764683, 0.00044826188241131604, 0.00044826188241131604, 0.0013447855599224567, 0.00044826188241131604, 0.17706343531608582, 0.00044826188241131604, 0.00044826188241131604, 0.00044826188241131604, 0.0008965237648226321, 0.9857463836669922, 0.0046717580407857895, 0.9857409596443176, 0.0023358790203928947, 0.9864761829376221, 0.07061120867729187, 0.008826401084661484, 0.9091193675994873, 0.9894570708274841, 0.9646060466766357, 0.08254953473806381, 0.9123895764350891, 0.979964554309845, 0.99269700050354, 0.9774584770202637, 0.019487397745251656, 0.9548824429512024, 0.9966880083084106, 0.7788190245628357, 0.0024414388462901115, 0.004882877692580223, 0.05127021670341492, 0.058594536036252975, 0.004882877692580223, 0.09521611779928207, 0.9927908182144165, 0.0023470232263207436, 0.003299293341115117, 0.0010997643694281578, 0.0010997643694281578, 0.0010997643694281578, 0.9886882305145264, 0.00854987371712923, 0.9832354784011841, 0.001957970904186368, 0.017621738836169243, 0.94569993019104, 0.01370579656213522, 0.015663767233490944, 0.016468260437250137, 0.004117065109312534, 0.3252481520175934, 0.6484377980232239, 0.5824034214019775, 0.1764025092124939, 0.0006114472053013742, 0.0003057236026506871, 0.0006114472053013742, 0.0003057236026506871, 0.04341274872422218, 0.0042801303789019585, 0.0021400651894509792, 0.018954861909151077, 0.0006114472053013742, 0.0021400651894509792, 0.03301814943552017, 0.023846440017223358, 0.03515821322798729, 0.014674732461571693, 0.0003057236026506871, 0.005503024440258741, 0.020483480766415596, 0.033935319632291794, 0.0012228944106027484, 0.0006486596539616585, 0.0006486596539616585, 0.0032432982698082924, 0.5688745379447937, 0.002594638615846634, 0.007135256193578243, 0.01297319307923317, 0.21276037395000458, 0.007135256193578243, 0.0032432982698082924, 0.08951503038406372, 0.017513811588287354, 0.001297319307923317, 0.04800081625580788, 0.0006486596539616585, 0.0032432982698082924, 0.016216492280364037, 0.0019459789618849754, 0.9780834317207336, 0.006986310239881277, 0.002126403385773301, 0.036148857325315475, 0.07867692410945892, 0.8803310394287109, 0.009129313752055168, 0.006846985779702663, 0.981401264667511, 0.9901972413063049, 0.007941124960780144, 0.9343303442001343, 0.9885735511779785, 0.0015867954352870584, 0.004231454338878393, 0.0005289317923597991, 0.0005289317923597991, 0.0021157271694391966, 0.0027048594783991575, 0.9007182121276855, 0.0005409718723967671, 0.0010819437447935343, 0.09358813613653183, 0.0012606753734871745, 0.0012606753734871745, 0.0012606753734871745, 0.0012606753734871745, 0.002521350746974349, 0.9896302223205566, 0.0012606753734871745, 0.03351801633834839, 0.961709201335907, 0.028606118634343147, 0.9535373449325562, 0.08346689492464066, 0.8764023780822754, 0.0036533784586936235, 0.251352459192276, 0.0036533784586936235, 0.02338162250816822, 0.1293296068906784, 0.5816178917884827, 0.005845405627042055, 0.9752869009971619, 0.008630857802927494, 0.9063728451728821, 0.9257368445396423, 0.15118460357189178, 0.0007339058211073279, 0.0007339058211073279, 0.8285796642303467, 0.01614592783153057, 0.0014678116422146559, 0.9357235431671143, 0.04999402165412903, 0.8998923897743225, 0.0007416617008857429, 0.9916017055511475, 0.004449970088899136, 0.0007416617008857429, 0.0014833234017714858, 0.0003921874740626663, 0.0003921874740626663, 0.0003921874740626663, 0.0003921874740626663, 0.7369202375411987, 0.2596280872821808, 0.0003921874740626663, 0.0011765623930841684, 0.8366076946258545, 0.006091803312301636, 0.14823389053344727, 0.0020306012593209743, 0.0020306012593209743, 0.0595753937959671, 0.834055483341217, 0.9806919097900391, 0.992337167263031, 0.36295562982559204, 0.0004341574676800519, 0.011288094334304333, 0.08422654867172241, 0.1402328610420227, 0.002170787425711751, 0.0008683149353601038, 0.26874348521232605, 0.006078204605728388, 0.052098896354436874, 0.07076766341924667, 0.02379785105586052, 0.9638130068778992, 0.9912371635437012, 0.5752382278442383, 0.03780137002468109, 0.001643537892960012, 0.3467864990234375, 0.0028761911671608686, 0.000410884473240003, 0.01766803115606308, 0.000410884473240003, 0.000821768946480006, 0.000821768946480006, 0.001643537892960012, 0.0012326533906161785, 0.000821768946480006, 0.005341498181223869, 0.004519728943705559, 0.000821768946480006, 0.9737839698791504, 0.9960100650787354, 0.9895716309547424, 0.3417087495326996, 0.0787486582994461, 0.00023229692305903882, 0.00023229692305903882, 0.5698243379592896, 0.0018583753844723105, 0.00046459384611807764, 0.00023229692305903882, 0.0013937815092504025, 0.0006968907546252012, 0.00046459384611807764, 0.0006968907546252012, 0.00023229692305903882, 0.0011614846298471093, 0.0011614846298471093, 0.00023229692305903882, 0.00023229692305903882, 0.8280074596405029, 0.8984071612358093, 0.983798086643219, 0.9856139421463013, 0.9784949421882629, 0.9974099397659302, 0.007031847722828388, 0.970395028591156, 0.007031847722828388, 0.969752311706543, 0.00016080981004051864, 0.12350194156169891, 0.07606304436922073, 0.20664061605930328, 0.06191178038716316, 0.006271583028137684, 0.12430598586797714, 0.0003216196200810373, 0.03779030591249466, 0.05306724086403847, 0.008522920310497284, 0.0009648589184507728, 0.03569977730512619, 0.017206650227308273, 0.13861806690692902, 0.005467533599585295, 0.014312073588371277, 0.0003216196200810373, 0.0008040490793064237, 0.018171509727835655, 0.00016080981004051864, 0.0006432392401620746, 0.004341864958405495, 0.02637280896306038, 0.006271583028137684, 0.019136367365717888, 0.007397251669317484, 0.004181055352091789, 0.0011256687575951219, 0.07225184887647629, 0.14716094732284546, 0.17208845913410187, 0.010502457618713379, 0.0001265356404474005, 0.09287715703248978, 0.17930099368095398, 0.03631572797894478, 0.03770761936903, 0.0008857494685798883, 0.011008599773049355, 0.02960933931171894, 0.029735874384641647, 0.020751843228936195, 0.0035429978743195534, 0.013918919488787651, 0.0001265356404474005, 0.0003796069067902863, 0.010755528695881367, 0.013286241330206394, 0.008857494220137596, 0.0003796069067902863, 0.025307126343250275, 0.039226047694683075, 0.009363637305796146, 0.02024570107460022, 0.013412777334451675, 0.000253071280894801, 0.0006326781585812569, 0.00032081882818602026, 0.00032081882818602026, 0.0006416376563720405, 0.007378833368420601, 0.0016040941700339317, 0.16329678893089294, 0.002245731884613633, 0.5649619698524475, 0.00032081882818602026, 0.00032081882818602026, 0.06640949845314026, 0.08277126401662827, 0.06416376680135727, 0.00032081882818602026, 0.0006416376563720405, 0.001283275312744081, 0.00032081882818602026, 0.004170645028352737, 0.005133101250976324, 0.014116029255092144, 0.003849826054647565, 0.015078485943377018, 0.0006416376563720405, 0.0034616109915077686, 0.9900206923484802, 0.03490174934267998, 0.0006123113562352955, 0.9080577492713928, 0.0006123113562352955, 0.05265877768397331, 0.0006123113562352955, 0.0006123113562352955, 0.9977028965950012, 0.9948321580886841, 0.00253696390427649, 0.0021141364704817533, 0.00042282731737941504, 0.005919582210481167, 0.10063289850950241, 0.001268481952138245, 0.0021141364704817533, 0.00042282731737941504, 0.765317440032959, 0.00042282731737941504, 0.00042282731737941504, 0.1057068258523941, 0.0008456546347588301, 0.00253696390427649, 0.00042282731737941504, 0.007610891479998827, 0.9784847497940063, 0.006233816035091877, 0.9880598187446594, 0.9017937183380127, 0.9531181454658508, 0.03701429441571236, 0.0028930273838341236, 0.0028930273838341236, 0.0028930273838341236, 0.008679082617163658, 0.11282806843519211, 0.005786054767668247, 0.0028930273838341236, 0.0028930273838341236, 0.8476570248603821, 0.008679082617163658, 0.8278083205223083, 0.11892898380756378, 0.035991668701171875, 0.0015648551052436233, 0.0015648551052436233, 0.0015648551052436233, 0.0015648551052436233, 0.0015648551052436233, 0.0015648551052436233, 0.0015648551052436233, 0.0031297102104872465, 0.001456797355785966, 0.9949926137924194, 0.0004855991282965988, 0.0009711982565931976, 0.0009711982565931976, 0.007028134074062109, 0.007028134074062109, 0.03514067083597183, 0.9417699575424194, 0.001102045876905322, 0.9973515868186951, 0.9694305062294006, 0.005732240155339241, 0.9859452843666077, 0.45825615525245667, 0.026956243440508842, 0.48521238565444946, 0.8582150936126709, 0.0532592236995697, 0.005393338855355978, 0.003370836842805147, 0.01415751501917839, 0.0006741673569194973, 0.06337173283100128, 0.0006741673569194973, 0.9851825833320618, 0.00834900513291359, 0.0010420235339552164, 0.8825938701629639, 0.0875299721956253, 0.026050588116049767, 0.00045983196469023824, 0.00045983196469023824, 0.5094938278198242, 0.011955630965530872, 0.020692437887191772, 0.051961012184619904, 0.051961012184619904, 0.012415463104844093, 0.0022991597652435303, 0.23681345582008362, 0.03724638745188713, 0.00045983196469023824, 0.0579388253390789, 0.00045983196469023824, 0.00045983196469023824, 0.001839327858760953, 0.0009196639293804765, 0.00045983196469023824, 0.00045983196469023824, 0.001372845727019012, 0.004118537530303001, 0.9911946654319763, 0.10156923532485962, 0.31987714767456055, 0.5678643584251404, 0.0026381618808954954, 0.0006595404702238739, 0.00329770240932703, 0.0006595404702238739, 0.0013190809404477477, 0.0006595404702238739, 0.07768632471561432, 0.10502040386199951, 0.4855395257472992, 0.002157953567802906, 0.02229885198175907, 0.01870226301252842, 0.14817947149276733, 0.0971079096198082, 0.006473860237747431, 0.01007044967263937, 0.0007193178171291947, 0.0014386356342583895, 0.012228403240442276, 0.0014386356342583895, 0.0014386356342583895, 0.0007193178171291947, 0.007912496104836464, 0.9786220192909241], \"Term\": [\"African\", \"Alcohol\", \"American\", \"American\", \"American\", \"American\", \"American\", \"American\", \"American\", \"American\", \"American\", \"American\", \"American\", \"American\", \"American\", \"American\", \"American\", \"American\", \"American\", \"American\", \"American\", \"American\", \"American\", \"American\", \"American\", \"American\", \"American\", \"Argentinian\", \"Asian\", \"Asian\", \"Asian\", \"Asian\", \"Asian\", \"Asian\", \"Asian\", \"Asian\", \"Asian\", \"Asian\", \"Asian\", \"Asian\", \"Asian\", \"Asian\", \"Asian\", \"BBQ\", \"BBQ\", \"BBQ\", \"Bagels\", \"Bagels\", \"Bagels\", \"Bagels\", \"Bagels\", \"Bakery\", \"Bakery\", \"Bakery\", \"Bakery\", \"Bakery\", \"Bowls\", \"Brazilian\", \"Breakfast\", \"Breakfast\", \"Breakfast\", \"Breakfast\", \"Breakfast\", \"Breakfast\", \"Breakfast\", \"Breakfast\", \"Breakfast\", \"Breakfast\", \"Breakfast\", \"Breakfast\", \"Breakfast\", \"Breakfast\", \"Breakfast\", \"Breakfast\", \"Breakfast\", \"Breakfast\", \"Breakfast\", \"Breakfast\", \"Breakfast\", \"Breakfast\", \"Breakfast\", \"Bubble_Tea\", \"Burritos\", \"Burritos\", \"Cafe\", \"Cajun\", \"Cakes\", \"Californian\", \"Calzones\", \"Calzones\", \"Calzones\", \"Calzones\", \"Calzones\", \"Calzones\", \"Calzones\", \"Cantonese\", \"Cantonese\", \"Cantonese\", \"Caribbean\", \"Caribbean\", \"Caribbean\", \"Cheesesteaks\", \"Cheesesteaks\", \"Cheesesteaks\", \"Chicken\", \"Chicken\", \"Chicken\", \"Chicken\", \"Chicken\", \"Chicken\", \"Chicken\", \"Chicken\", \"Chicken\", \"Chicken\", \"Chicken\", \"Chicken\", \"Chicken\", \"Chicken\", \"Chili\", \"Chinese\", \"Chinese\", \"Chinese\", \"Chinese\", \"Chinese\", \"Chinese\", \"Chinese\", \"Chinese\", \"Chinese\", \"Chinese\", \"Chinese\", \"Classic\", \"Classic\", \"Coffee_and_Tea\", \"Coffee_and_Tea\", \"Coffee_and_Tea\", \"Coffee_and_Tea\", \"Coffee_and_Tea\", \"Coffee_and_Tea\", \"Coffee_and_Tea\", \"Coffee_and_Tea\", \"Coffee_and_Tea\", \"Colombian\", \"Colombian\", \"Crepes\", \"Cuban\", \"Cuban\", \"Curry\", \"Curry\", \"Deli\", \"Deli\", \"Deli\", \"Deli\", \"Deli\", \"Dessert\", \"Dessert\", \"Dessert\", \"Dessert\", \"Dessert\", \"Dessert\", \"Dessert\", \"Dessert\", \"Dessert\", \"Dessert\", \"Dessert\", \"Dessert\", \"Dessert\", \"Dessert\", \"Dessert\", \"Dessert\", \"Dessert\", \"Dessert\", \"Dim_Sum\", \"Diner\", \"Diner\", \"Diner\", \"Dominican\", \"Eclectic\", \"Eclectic\", \"Eclectic\", \"Ecuadorian\", \"El_Salvadoran\", \"Empanadas\", \"Empanadas\", \"Ethiopian\", \"Fine_Dining\", \"French\", \"Fresh_Fruits\", \"Fresh_Fruits\", \"Frozen_Yogurt\", \"Gluten-Free\", \"Gluten-Free\", \"Gluten-Free\", \"Gluten-Free\", \"Gluten-Free\", \"Gluten-Free\", \"Gluten-Free\", \"Greek\", \"Greek\", \"Grill\", \"Grill\", \"Grill\", \"Grill\", \"Grill\", \"Grocery_Items\", \"Grocery_Items\", \"Gyro\", \"Gyro\", \"Gyro\", \"Gyro\", \"Gyro\", \"Halal\", \"Halal\", \"Halal\", \"Halal\", \"Hamburgers\", \"Hamburgers\", \"Hamburgers\", \"Hamburgers\", \"Hamburgers\", \"Hamburgers\", \"Hamburgers\", \"Hamburgers\", \"Hamburgers\", \"Hamburgers\", \"Hamburgers\", \"Hamburgers\", \"Hamburgers\", \"Hamburgers\", \"Hamburgers\", \"Hamburgers\", \"Hamburgers\", \"Hamburgers\", \"Hamburgers\", \"Hamburgers\", \"Hamburgers\", \"Healthy\", \"Healthy\", \"Healthy\", \"Healthy\", \"Healthy\", \"Healthy\", \"Healthy\", \"Healthy\", \"Healthy\", \"Healthy\", \"Healthy\", \"Healthy\", \"Healthy\", \"Healthy\", \"Healthy\", \"Healthy\", \"Healthy\", \"Healthy\", \"Hoagies\", \"Hoagies\", \"Hot_Dogs\", \"Hot_Dogs\", \"Hot_Dogs\", \"Hot_Dogs\", \"Ice_Cream\", \"Ice_Cream\", \"Ice_Cream\", \"Indian\", \"Indian\", \"Indonesian\", \"Italian\", \"Italian\", \"Italian\", \"Italian\", \"Italian\", \"Italian\", \"Japanese\", \"Japanese\", \"Japanese\", \"Japanese\", \"Japanese\", \"Kids_Menu\", \"Kids_Menu\", \"Kids_Menu\", \"Kids_Menu\", \"Kids_Menu\", \"Kids_Menu\", \"Kids_Menu\", \"Korean\", \"Korean\", \"Kosher\", \"Kosher\", \"Kosher-Style\", \"Kosher-Style\", \"Latin_American\", \"Latin_American\", \"Latin_American\", \"Latin_American\", \"Latin_American\", \"Latin_American\", \"Latin_American\", \"Lebanese\", \"Lebanese\", \"Low_Carb\", \"Low_Fat\", \"Lunch_Specials\", \"Lunch_Specials\", \"Lunch_Specials\", \"Lunch_Specials\", \"Lunch_Specials\", \"Lunch_Specials\", \"Malaysian\", \"Mandarin\", \"Mandarin\", \"Mediterranean\", \"Mediterranean\", \"Mediterranean\", \"Mediterranean\", \"Mediterranean\", \"Mexican\", \"Mexican\", \"Mexican\", \"Mexican\", \"Mexican\", \"Mexican\", \"Mexican\", \"Mexican\", \"Middle_Eastern\", \"Middle_Eastern\", \"Middle_Eastern\", \"Middle_Eastern\", \"Middle_Eastern\", \"Moroccan\", \"Moroccan\", \"Nepalese\", \"New_American\", \"Noodles\", \"Noodles\", \"Noodles\", \"Noodles\", \"Noodles\", \"Noodles\", \"Noodles\", \"Noodles\", \"Noodles\", \"Noodles\", \"Noodles\", \"Organic\", \"Organic\", \"Pakistani\", \"Pasta\", \"Pasta\", \"Pasta\", \"Pasta\", \"Pasta\", \"Pasta\", \"Pasta\", \"Pasta\", \"Pasta\", \"Pasta\", \"Pasta\", \"Pasta\", \"Pasta\", \"Pasta\", \"Pasta\", \"Pasta\", \"Persian\", \"Peruvian\", \"Pitas\", \"Pizza\", \"Pizza\", \"Pizza\", \"Pizza\", \"Pizza\", \"Pizza\", \"Pizza\", \"Pizza\", \"Pizza\", \"Pizza\", \"Pizza\", \"Pizza\", \"Pizza\", \"Pizza\", \"Pizza\", \"Pizza\", \"Pizza\", \"Polish\", \"Portuguese\", \"Potato\", \"Pub_Food\", \"Puerto_Rican\", \"Ramen\", \"Ribs\", \"Ribs\", \"Ribs\", \"Russian\", \"Salads\", \"Salads\", \"Salads\", \"Salads\", \"Salads\", \"Salads\", \"Salads\", \"Salads\", \"Salads\", \"Salads\", \"Salads\", \"Salads\", \"Salads\", \"Salads\", \"Salads\", \"Salads\", \"Salads\", \"Salads\", \"Salads\", \"Salads\", \"Salads\", \"Salads\", \"Salads\", \"Salads\", \"Salads\", \"Salads\", \"Salads\", \"Salads\", \"Salads\", \"Sandwiches\", \"Sandwiches\", \"Sandwiches\", \"Sandwiches\", \"Sandwiches\", \"Sandwiches\", \"Sandwiches\", \"Sandwiches\", \"Sandwiches\", \"Sandwiches\", \"Sandwiches\", \"Sandwiches\", \"Sandwiches\", \"Sandwiches\", \"Sandwiches\", \"Sandwiches\", \"Sandwiches\", \"Sandwiches\", \"Sandwiches\", \"Sandwiches\", \"Sandwiches\", \"Sandwiches\", \"Sandwiches\", \"Sandwiches\", \"Sandwiches\", \"Sandwiches\", \"Sandwiches\", \"Sandwiches\", \"Sandwiches\", \"Seafood\", \"Seafood\", \"Seafood\", \"Seafood\", \"Seafood\", \"Seafood\", \"Seafood\", \"Seafood\", \"Seafood\", \"Seafood\", \"Seafood\", \"Seafood\", \"Seafood\", \"Seafood\", \"Seafood\", \"Seafood\", \"Seafood\", \"Seafood\", \"Seafood\", \"Seafood\", \"Seafood\", \"Seafood\", \"Seafood\", \"Shakes\", \"Shakes\", \"Smoothies_and_Juices\", \"Smoothies_and_Juices\", \"Smoothies_and_Juices\", \"Smoothies_and_Juices\", \"Smoothies_and_Juices\", \"Smoothies_and_Juices\", \"Smoothies_and_Juices\", \"Snacks\", \"Soul_Food\", \"Soup\", \"Soup\", \"Soup\", \"Soup\", \"Soup\", \"Soup\", \"Soup\", \"Soup\", \"Soup\", \"Soup\", \"Soup\", \"Soup\", \"Soup\", \"Soup\", \"Soup\", \"Soup\", \"South_American\", \"Southern\", \"Southern\", \"Southwestern\", \"Spanish\", \"Spanish\", \"Steak\", \"Steak\", \"Steak\", \"Steak\", \"Steak\", \"Steak\", \"Steak\", \"Steak\", \"Steak\", \"Steak\", \"Subs\", \"Subs\", \"Subs\", \"Subs\", \"Subs\", \"Subs\", \"Subs\", \"Subs\", \"Subs\", \"Subs\", \"Subs\", \"Sushi\", \"Sushi\", \"Sushi\", \"Sushi\", \"Sushi\", \"Szechwan\", \"Szechwan\", \"Szechwan\", \"Szechwan\", \"Tacos\", \"Tacos\", \"Taiwanese\", \"Tapas\", \"Tapas\", \"Tex-Mex\", \"Tex-Mex\", \"Tex-Mex\", \"Thai\", \"Thai\", \"Thai\", \"Thai\", \"Thai\", \"Thai\", \"Thai\", \"Thai\", \"Turkish\", \"Turkish\", \"Vegan\", \"Vegan\", \"Vegan\", \"Vegan\", \"Vegetarian\", \"Vegetarian\", \"Vegetarian\", \"Vegetarian\", \"Vegetarian\", \"Vegetarian\", \"Vegetarian\", \"Vegetarian\", \"Vegetarian\", \"Vegetarian\", \"Vegetarian\", \"Vegetarian\", \"Vegetarian\", \"Vegetarian\", \"Vegetarian\", \"Vegetarian\", \"Vegetarian\", \"Vegetarian\", \"Vegetarian\", \"Vietnamese\", \"Vietnamese\", \"Vietnamese\", \"Wings\", \"Wings\", \"Wings\", \"Wings\", \"Wings\", \"Wings\", \"Wings\", \"Wings\", \"Wings\", \"Wraps\", \"Wraps\", \"Wraps\", \"Wraps\", \"Wraps\", \"Wraps\", \"Wraps\", \"Wraps\", \"Wraps\", \"Wraps\", \"Wraps\", \"Wraps\", \"Wraps\", \"Wraps\", \"Wraps\", \"Wraps\", \"Wraps\", \"[]\"]}, \"R\": 30, \"lambda.step\": 0.01, \"plot.opts\": {\"xlab\": \"PC1\", \"ylab\": \"PC2\"}, \"topic.order\": [27, 18, 25, 4, 22, 21, 12, 1, 6, 14, 23, 26, 9, 16, 30, 11, 19, 13, 15, 8, 3, 29, 2, 20, 7, 10, 28, 5, 24, 17]};\n",
       "\n",
       "function LDAvis_load_lib(url, callback){\n",
       "  var s = document.createElement('script');\n",
       "  s.src = url;\n",
       "  s.async = true;\n",
       "  s.onreadystatechange = s.onload = callback;\n",
       "  s.onerror = function(){console.warn(\"failed to load library \" + url);};\n",
       "  document.getElementsByTagName(\"head\")[0].appendChild(s);\n",
       "}\n",
       "\n",
       "if(typeof(LDAvis) !== \"undefined\"){\n",
       "   // already loaded: just create the visualization\n",
       "   !function(LDAvis){\n",
       "       new LDAvis(\"#\" + \"ldavis_el319441399667130025764438658063\", ldavis_el319441399667130025764438658063_data);\n",
       "   }(LDAvis);\n",
       "}else if(typeof define === \"function\" && define.amd){\n",
       "   // require.js is available: use it to load d3/LDAvis\n",
       "   require.config({paths: {d3: \"https://cdnjs.cloudflare.com/ajax/libs/d3/3.5.5/d3.min\"}});\n",
       "   require([\"d3\"], function(d3){\n",
       "      window.d3 = d3;\n",
       "      LDAvis_load_lib(\"https://cdn.rawgit.com/bmabey/pyLDAvis/files/ldavis.v1.0.0.js\", function(){\n",
       "        new LDAvis(\"#\" + \"ldavis_el319441399667130025764438658063\", ldavis_el319441399667130025764438658063_data);\n",
       "      });\n",
       "    });\n",
       "}else{\n",
       "    // require.js not available: dynamically load d3 & LDAvis\n",
       "    LDAvis_load_lib(\"https://cdnjs.cloudflare.com/ajax/libs/d3/3.5.5/d3.min.js\", function(){\n",
       "         LDAvis_load_lib(\"https://cdn.rawgit.com/bmabey/pyLDAvis/files/ldavis.v1.0.0.js\", function(){\n",
       "                 new LDAvis(\"#\" + \"ldavis_el319441399667130025764438658063\", ldavis_el319441399667130025764438658063_data);\n",
       "            })\n",
       "         });\n",
       "}\n",
       "</script>"
      ],
      "text/plain": [
       "PreparedData(topic_coordinates=              x         y  topics  cluster      Freq\n",
       "topic                                               \n",
       "26    -0.394510 -0.020913       1        1  7.074811\n",
       "17     0.135571  0.252272       2        1  6.985334\n",
       "24     0.226268  0.155919       3        1  5.924227\n",
       "3      0.247738  0.021976       4        1  5.433795\n",
       "21    -0.115996  0.075732       5        1  5.146611\n",
       "20    -0.329370  0.003994       6        1  5.138105\n",
       "11     0.155102  0.247880       7        1  5.003363\n",
       "0      0.194731 -0.113771       8        1  4.178836\n",
       "5      0.083267  0.120418       9        1  4.095394\n",
       "13     0.070333  0.120199      10        1  4.013516\n",
       "22    -0.257368  0.067502      11        1  3.815671\n",
       "25     0.064854 -0.204512      12        1  3.811001\n",
       "8      0.090274 -0.053323      13        1  3.699737\n",
       "15     0.182810 -0.057793      14        1  3.432030\n",
       "29     0.014433  0.179003      15        1  3.194740\n",
       "10     0.056986 -0.262598      16        1  3.054047\n",
       "18     0.117367 -0.168513      17        1  2.858146\n",
       "12    -0.161251 -0.055072      18        1  2.687775\n",
       "14     0.049862 -0.229938      19        1  2.281606\n",
       "7     -0.310442  0.077020      20        1  2.239525\n",
       "2      0.130357 -0.046134      21        1  2.194307\n",
       "28     0.055955 -0.214491      22        1  1.786032\n",
       "1     -0.272209 -0.013364      23        1  1.704914\n",
       "19     0.106822  0.059685      24        1  1.660188\n",
       "6      0.179589  0.035599      25        1  1.572039\n",
       "9      0.028612 -0.052945      26        1  1.555813\n",
       "27     0.154057  0.088055      27        1  1.511322\n",
       "4      0.087940 -0.044935      28        1  1.403292\n",
       "23    -0.275945  0.019293      29        1  1.381952\n",
       "16    -0.315838  0.013755      30        1  1.161873, topic_info=   Category         Freq            Term        Total  loglift  logprob\n",
       "23  Default  4304.000000           Pizza  4304.000000  30.0000  30.0000\n",
       "5   Default  4998.000000           Asian  4998.000000  29.0000  29.0000\n",
       "26  Default  2549.000000         Mexican  2549.000000  28.0000  28.0000\n",
       "47  Default  2365.000000            Soup  2365.000000  27.0000  27.0000\n",
       "6   Default  2059.000000           Sushi  2059.000000  26.0000  26.0000\n",
       "..      ...          ...             ...          ...      ...      ...\n",
       "38  Topic30     0.125580  Latin_American  1368.596191  -4.8412  -9.1536\n",
       "50  Topic30     0.082390          Kosher   104.872665  -2.6939  -9.5750\n",
       "47  Topic30     0.126807            Soup  2365.031738  -5.3785  -9.1438\n",
       "43  Topic30     0.096568        Calzones   496.788208  -4.0905  -9.4162\n",
       "19  Topic30     0.108863          Indian  1637.047607  -5.1632  -9.2964\n",
       "\n",
       "[1827 rows x 6 columns], token_table=      Topic      Freq      Term\n",
       "term                           \n",
       "108      28  0.994737   African\n",
       "8         5  0.975030   Alcohol\n",
       "0         1  0.000277  American\n",
       "0         2  0.009961  American\n",
       "0         3  0.254546  American\n",
       "...     ...       ...       ...\n",
       "41       25  0.001439     Wraps\n",
       "41       26  0.001439     Wraps\n",
       "41       27  0.000719     Wraps\n",
       "41       28  0.007912     Wraps\n",
       "117      30  0.978622        []\n",
       "\n",
       "[606 rows x 3 columns], R=30, lambda_step=0.01, plot_opts={'xlab': 'PC1', 'ylab': 'PC2'}, topic_order=[27, 18, 25, 4, 22, 21, 12, 1, 6, 14, 23, 26, 9, 16, 30, 11, 19, 13, 15, 8, 3, 29, 2, 20, 7, 10, 28, 5, 24, 17])"
      ]
     },
     "execution_count": 173,
     "metadata": {},
     "output_type": "execute_result"
    }
   ],
   "source": [
    "pyLDAvis.enable_notebook()\n",
    "vis = pyLDAvis.gensim.prepare(lda, corpus, id2word)\n",
    "vis"
   ]
  },
  {
   "cell_type": "code",
   "execution_count": 9,
   "metadata": {},
   "outputs": [],
   "source": [
    "from pprint import pprint"
   ]
  },
  {
   "cell_type": "code",
   "execution_count": 175,
   "metadata": {},
   "outputs": [
    {
     "name": "stdout",
     "output_type": "stream",
     "text": [
      "[(10,\n",
      "  '0.602*\"Mexican\" + 0.118*\"Breakfast\" + 0.110*\"Latin_American\" + '\n",
      "  '0.066*\"Spanish\" + 0.064*\"Seafood\" + 0.011*\"Salads\" + 0.009*\"Sandwiches\" + '\n",
      "  '0.008*\"American\" + 0.002*\"Hamburgers\" + 0.002*\"Healthy\"'),\n",
      " (15,\n",
      "  '0.424*\"American\" + 0.166*\"Breakfast\" + 0.121*\"Diner\" + 0.095*\"Soul_Food\" + '\n",
      "  '0.067*\"Sandwiches\" + 0.059*\"Seafood\" + 0.031*\"Salads\" + 0.018*\"Hamburgers\" '\n",
      "  '+ 0.012*\"Pasta\" + 0.002*\"Italian\"'),\n",
      " (28,\n",
      "  '0.227*\"Hot_Dogs\" + 0.173*\"Halal\" + 0.115*\"Empanadas\" + '\n",
      "  '0.097*\"Latin_American\" + 0.088*\"Fine_Dining\" + 0.085*\"Colombian\" + '\n",
      "  '0.046*\"Dominican\" + 0.044*\"Breakfast\" + 0.038*\"Sandwiches\" + '\n",
      "  '0.026*\"Hamburgers\"'),\n",
      " (2,\n",
      "  '0.192*\"Ice_Cream\" + 0.176*\"Dessert\" + 0.131*\"Steak\" + 0.128*\"Shakes\" + '\n",
      "  '0.088*\"Crepes\" + 0.051*\"Hamburgers\" + 0.051*\"Salads\" + 0.047*\"Sandwiches\" + '\n",
      "  '0.038*\"Smoothies_and_Juices\" + 0.025*\"Breakfast\"'),\n",
      " (9,\n",
      "  '0.501*\"Latin_American\" + 0.156*\"Peruvian\" + 0.108*\"Tapas\" + '\n",
      "  '0.047*\"Sandwiches\" + 0.044*\"Puerto_Rican\" + 0.036*\"Russian\" + '\n",
      "  '0.028*\"Seafood\" + 0.025*\"Salads\" + 0.024*\"Gluten-Free\" + 0.008*\"Pasta\"'),\n",
      " (18,\n",
      "  '0.310*\"Tacos\" + 0.227*\"Mexican\" + 0.206*\"Burritos\" + 0.064*\"Breakfast\" + '\n",
      "  '0.040*\"Pub_Food\" + 0.038*\"Sandwiches\" + 0.037*\"Hamburgers\" + 0.030*\"Salads\" '\n",
      "  '+ 0.013*\"American\" + 0.012*\"Tex-Mex\"'),\n",
      " (25,\n",
      "  '0.428*\"Dessert\" + 0.200*\"Coffee_and_Tea\" + 0.148*\"Bakery\" + '\n",
      "  '0.091*\"Breakfast\" + 0.086*\"Cafe\" + 0.022*\"Sandwiches\" + 0.009*\"Tex-Mex\" + '\n",
      "  '0.005*\"Gluten-Free\" + 0.004*\"American\" + 0.002*\"Salads\"'),\n",
      " (8,\n",
      "  '0.393*\"Smoothies_and_Juices\" + 0.109*\"Coffee_and_Tea\" + 0.097*\"Breakfast\" + '\n",
      "  '0.087*\"Healthy\" + 0.062*\"Sandwiches\" + 0.059*\"Salads\" + 0.036*\"Wraps\" + '\n",
      "  '0.030*\"Grocery_Items\" + 0.030*\"Vegetarian\" + 0.022*\"Vegan\"'),\n",
      " (20,\n",
      "  '0.390*\"Sushi\" + 0.317*\"Japanese\" + 0.238*\"Asian\" + 0.037*\"Noodles\" + '\n",
      "  '0.007*\"Salads\" + 0.004*\"Chinese\" + 0.003*\"Korean\" + 0.001*\"Thai\" + '\n",
      "  '0.000*\"Sandwiches\" + 0.000*\"American\"'),\n",
      " (27,\n",
      "  '0.583*\"Grill\" + 0.104*\"Sandwiches\" + 0.099*\"American\" + 0.077*\"Salads\" + '\n",
      "  '0.072*\"Hamburgers\" + 0.016*\"Healthy\" + 0.008*\"Seafood\" + 0.007*\"Pasta\" + '\n",
      "  '0.007*\"Breakfast\" + 0.005*\"Gyro\"'),\n",
      " (4,\n",
      "  '0.295*\"Caribbean\" + 0.171*\"African\" + 0.162*\"Cuban\" + 0.074*\"Sandwiches\" + '\n",
      "  '0.074*\"Potato\" + 0.070*\"Kosher\" + 0.040*\"Breakfast\" + 0.032*\"Seafood\" + '\n",
      "  '0.032*\"Salads\" + 0.014*\"Kosher-Style\"'),\n",
      " (21,\n",
      "  '0.246*\"Bowls\" + 0.211*\"Vegetarian\" + 0.167*\"Healthy\" + 0.161*\"Vegan\" + '\n",
      "  '0.073*\"Salads\" + 0.061*\"Gluten-Free\" + 0.017*\"Asian\" + 0.016*\"Sandwiches\" + '\n",
      "  '0.015*\"Thai\" + 0.013*\"Alcohol\"'),\n",
      " (13,\n",
      "  '0.326*\"Mediterranean\" + 0.118*\"Gyro\" + 0.103*\"Greek\" + '\n",
      "  '0.101*\"Middle_Eastern\" + 0.081*\"Salads\" + 0.073*\"Sandwiches\" + '\n",
      "  '0.053*\"Pitas\" + 0.050*\"Wraps\" + 0.029*\"Turkish\" + 0.028*\"Lebanese\"'),\n",
      " (24,\n",
      "  '0.315*\"Hamburgers\" + 0.192*\"Sandwiches\" + 0.152*\"American\" + 0.080*\"Wings\" '\n",
      "  '+ 0.078*\"Salads\" + 0.056*\"Pizza\" + 0.040*\"Cheesesteaks\" + 0.024*\"Wraps\" + '\n",
      "  '0.023*\"Hoagies\" + 0.015*\"Pasta\"'),\n",
      " (11,\n",
      "  '0.480*\"Pizza\" + 0.165*\"Pasta\" + 0.151*\"Salads\" + 0.144*\"Sandwiches\" + '\n",
      "  '0.045*\"Calzones\" + 0.011*\"American\" + 0.001*\"Seafood\" + 0.000*\"Hamburgers\" '\n",
      "  '+ 0.000*\"Mexican\" + 0.000*\"Soup\"'),\n",
      " (3,\n",
      "  '0.245*\"Sandwiches\" + 0.232*\"Salads\" + 0.169*\"Breakfast\" + 0.122*\"Wraps\" + '\n",
      "  '0.104*\"Hamburgers\" + 0.061*\"Coffee_and_Tea\" + 0.037*\"American\" + '\n",
      "  '0.010*\"Smoothies_and_Juices\" + 0.004*\"Subs\" + 0.003*\"Classic\"'),\n",
      " (29,\n",
      "  '0.555*\"Soup\" + 0.264*\"Salads\" + 0.079*\"Seafood\" + 0.050*\"Sandwiches\" + '\n",
      "  '0.017*\"Taiwanese\" + 0.008*\"Vegetarian\" + 0.006*\"Empanadas\" + '\n",
      "  '0.005*\"Southwestern\" + 0.003*\"Healthy\" + 0.003*\"Wraps\"'),\n",
      " (12,\n",
      "  '0.591*\"Indian\" + 0.188*\"Vegetarian\" + 0.058*\"Halal\" + 0.050*\"Healthy\" + '\n",
      "  '0.048*\"Pakistani\" + 0.026*\"Middle_Eastern\" + 0.018*\"Nepalese\" + '\n",
      "  '0.009*\"Vegan\" + 0.005*\"Asian\" + 0.001*\"Dessert\"'),\n",
      " (0,\n",
      "  '0.332*\"Sandwiches\" + 0.320*\"Breakfast\" + 0.184*\"Deli\" + 0.092*\"Bagels\" + '\n",
      "  '0.048*\"American\" + 0.011*\"Bakery\" + 0.007*\"Wraps\" + 0.001*\"Mandarin\" + '\n",
      "  '0.000*\"Salads\" + 0.000*\"Asian\"'),\n",
      " (22,\n",
      "  '0.452*\"Seafood\" + 0.096*\"Korean\" + 0.083*\"Noodles\" + 0.083*\"Chicken\" + '\n",
      "  '0.069*\"Asian\" + 0.061*\"Soup\" + 0.032*\"Cajun\" + 0.029*\"Vegetarian\" + '\n",
      "  '0.028*\"Chinese\" + 0.014*\"Brazilian\"')]\n"
     ]
    }
   ],
   "source": [
    "pprint(lda.print_topics())\n",
    "# doc_lda = lda[corpus]"
   ]
  },
  {
   "cell_type": "markdown",
   "metadata": {},
   "source": [
    "#### Getting reduced dimensions"
   ]
  },
  {
   "cell_type": "code",
   "execution_count": 113,
   "metadata": {},
   "outputs": [],
   "source": [
    "cuisine_dim = pd.DataFrame()\n",
    "for i, row in enumerate(lda[corpus]):\n",
    "    cuisine_sparse = defaultdict(list)\n",
    "    for j, (topic_num, prop_topic) in enumerate(row):\n",
    "        cuisine_sparse[topic_num] = prop_topic\n",
    "        \n",
    "    cuisine_dim = cuisine_dim.append(pd.DataFrame(cuisine_sparse, index=[i,]))        \n",
    "    "
   ]
  },
  {
   "cell_type": "code",
   "execution_count": 114,
   "metadata": {},
   "outputs": [
    {
     "data": {
      "text/html": [
       "<div>\n",
       "<style scoped>\n",
       "    .dataframe tbody tr th:only-of-type {\n",
       "        vertical-align: middle;\n",
       "    }\n",
       "\n",
       "    .dataframe tbody tr th {\n",
       "        vertical-align: top;\n",
       "    }\n",
       "\n",
       "    .dataframe thead th {\n",
       "        text-align: right;\n",
       "    }\n",
       "</style>\n",
       "<table border=\"1\" class=\"dataframe\">\n",
       "  <thead>\n",
       "    <tr style=\"text-align: right;\">\n",
       "      <th></th>\n",
       "      <th>0</th>\n",
       "      <th>1</th>\n",
       "      <th>2</th>\n",
       "      <th>3</th>\n",
       "      <th>4</th>\n",
       "    </tr>\n",
       "  </thead>\n",
       "  <tbody>\n",
       "    <tr>\n",
       "      <th>cuisines_dim_1</th>\n",
       "      <td>NaN</td>\n",
       "      <td>NaN</td>\n",
       "      <td>NaN</td>\n",
       "      <td>NaN</td>\n",
       "      <td>NaN</td>\n",
       "    </tr>\n",
       "    <tr>\n",
       "      <th>cuisines_dim_2</th>\n",
       "      <td>NaN</td>\n",
       "      <td>NaN</td>\n",
       "      <td>NaN</td>\n",
       "      <td>NaN</td>\n",
       "      <td>NaN</td>\n",
       "    </tr>\n",
       "    <tr>\n",
       "      <th>cuisines_dim_3</th>\n",
       "      <td>NaN</td>\n",
       "      <td>NaN</td>\n",
       "      <td>NaN</td>\n",
       "      <td>NaN</td>\n",
       "      <td>NaN</td>\n",
       "    </tr>\n",
       "    <tr>\n",
       "      <th>cuisines_dim_4</th>\n",
       "      <td>NaN</td>\n",
       "      <td>NaN</td>\n",
       "      <td>NaN</td>\n",
       "      <td>NaN</td>\n",
       "      <td>NaN</td>\n",
       "    </tr>\n",
       "    <tr>\n",
       "      <th>cuisines_dim_5</th>\n",
       "      <td>NaN</td>\n",
       "      <td>NaN</td>\n",
       "      <td>NaN</td>\n",
       "      <td>NaN</td>\n",
       "      <td>NaN</td>\n",
       "    </tr>\n",
       "    <tr>\n",
       "      <th>cuisines_dim_6</th>\n",
       "      <td>NaN</td>\n",
       "      <td>NaN</td>\n",
       "      <td>0.245830</td>\n",
       "      <td>NaN</td>\n",
       "      <td>NaN</td>\n",
       "    </tr>\n",
       "    <tr>\n",
       "      <th>cuisines_dim_7</th>\n",
       "      <td>NaN</td>\n",
       "      <td>NaN</td>\n",
       "      <td>NaN</td>\n",
       "      <td>NaN</td>\n",
       "      <td>NaN</td>\n",
       "    </tr>\n",
       "    <tr>\n",
       "      <th>cuisines_dim_8</th>\n",
       "      <td>NaN</td>\n",
       "      <td>NaN</td>\n",
       "      <td>NaN</td>\n",
       "      <td>NaN</td>\n",
       "      <td>NaN</td>\n",
       "    </tr>\n",
       "    <tr>\n",
       "      <th>cuisines_dim_9</th>\n",
       "      <td>NaN</td>\n",
       "      <td>NaN</td>\n",
       "      <td>NaN</td>\n",
       "      <td>0.149027</td>\n",
       "      <td>NaN</td>\n",
       "    </tr>\n",
       "    <tr>\n",
       "      <th>cuisines_dim_10</th>\n",
       "      <td>NaN</td>\n",
       "      <td>NaN</td>\n",
       "      <td>NaN</td>\n",
       "      <td>NaN</td>\n",
       "      <td>NaN</td>\n",
       "    </tr>\n",
       "    <tr>\n",
       "      <th>cuisines_dim_11</th>\n",
       "      <td>NaN</td>\n",
       "      <td>NaN</td>\n",
       "      <td>NaN</td>\n",
       "      <td>NaN</td>\n",
       "      <td>NaN</td>\n",
       "    </tr>\n",
       "    <tr>\n",
       "      <th>cuisines_dim_12</th>\n",
       "      <td>NaN</td>\n",
       "      <td>NaN</td>\n",
       "      <td>NaN</td>\n",
       "      <td>NaN</td>\n",
       "      <td>NaN</td>\n",
       "    </tr>\n",
       "    <tr>\n",
       "      <th>cuisines_dim_13</th>\n",
       "      <td>NaN</td>\n",
       "      <td>NaN</td>\n",
       "      <td>NaN</td>\n",
       "      <td>0.329883</td>\n",
       "      <td>NaN</td>\n",
       "    </tr>\n",
       "    <tr>\n",
       "      <th>cuisines_dim_14</th>\n",
       "      <td>NaN</td>\n",
       "      <td>NaN</td>\n",
       "      <td>0.370487</td>\n",
       "      <td>NaN</td>\n",
       "      <td>NaN</td>\n",
       "    </tr>\n",
       "    <tr>\n",
       "      <th>cuisines_dim_15</th>\n",
       "      <td>NaN</td>\n",
       "      <td>NaN</td>\n",
       "      <td>NaN</td>\n",
       "      <td>NaN</td>\n",
       "      <td>NaN</td>\n",
       "    </tr>\n",
       "    <tr>\n",
       "      <th>cuisines_dim_16</th>\n",
       "      <td>NaN</td>\n",
       "      <td>NaN</td>\n",
       "      <td>NaN</td>\n",
       "      <td>NaN</td>\n",
       "      <td>0.189609</td>\n",
       "    </tr>\n",
       "    <tr>\n",
       "      <th>cuisines_dim_17</th>\n",
       "      <td>NaN</td>\n",
       "      <td>NaN</td>\n",
       "      <td>NaN</td>\n",
       "      <td>NaN</td>\n",
       "      <td>NaN</td>\n",
       "    </tr>\n",
       "    <tr>\n",
       "      <th>cuisines_dim_18</th>\n",
       "      <td>NaN</td>\n",
       "      <td>NaN</td>\n",
       "      <td>NaN</td>\n",
       "      <td>NaN</td>\n",
       "      <td>0.654835</td>\n",
       "    </tr>\n",
       "    <tr>\n",
       "      <th>cuisines_dim_19</th>\n",
       "      <td>NaN</td>\n",
       "      <td>NaN</td>\n",
       "      <td>NaN</td>\n",
       "      <td>NaN</td>\n",
       "      <td>NaN</td>\n",
       "    </tr>\n",
       "    <tr>\n",
       "      <th>cuisines_dim_20</th>\n",
       "      <td>NaN</td>\n",
       "      <td>NaN</td>\n",
       "      <td>NaN</td>\n",
       "      <td>NaN</td>\n",
       "      <td>NaN</td>\n",
       "    </tr>\n",
       "    <tr>\n",
       "      <th>cuisines_dim_21</th>\n",
       "      <td>NaN</td>\n",
       "      <td>0.343429</td>\n",
       "      <td>NaN</td>\n",
       "      <td>NaN</td>\n",
       "      <td>NaN</td>\n",
       "    </tr>\n",
       "    <tr>\n",
       "      <th>cuisines_dim_22</th>\n",
       "      <td>NaN</td>\n",
       "      <td>NaN</td>\n",
       "      <td>0.314453</td>\n",
       "      <td>0.408588</td>\n",
       "      <td>NaN</td>\n",
       "    </tr>\n",
       "    <tr>\n",
       "      <th>cuisines_dim_23</th>\n",
       "      <td>NaN</td>\n",
       "      <td>NaN</td>\n",
       "      <td>NaN</td>\n",
       "      <td>NaN</td>\n",
       "      <td>NaN</td>\n",
       "    </tr>\n",
       "    <tr>\n",
       "      <th>cuisines_dim_24</th>\n",
       "      <td>NaN</td>\n",
       "      <td>NaN</td>\n",
       "      <td>NaN</td>\n",
       "      <td>NaN</td>\n",
       "      <td>NaN</td>\n",
       "    </tr>\n",
       "    <tr>\n",
       "      <th>cuisines_dim_25</th>\n",
       "      <td>0.662176</td>\n",
       "      <td>NaN</td>\n",
       "      <td>NaN</td>\n",
       "      <td>NaN</td>\n",
       "      <td>NaN</td>\n",
       "    </tr>\n",
       "    <tr>\n",
       "      <th>cuisines_dim_26</th>\n",
       "      <td>NaN</td>\n",
       "      <td>NaN</td>\n",
       "      <td>NaN</td>\n",
       "      <td>NaN</td>\n",
       "      <td>NaN</td>\n",
       "    </tr>\n",
       "    <tr>\n",
       "      <th>cuisines_dim_27</th>\n",
       "      <td>NaN</td>\n",
       "      <td>0.423238</td>\n",
       "      <td>NaN</td>\n",
       "      <td>NaN</td>\n",
       "      <td>NaN</td>\n",
       "    </tr>\n",
       "    <tr>\n",
       "      <th>cuisines_dim_28</th>\n",
       "      <td>NaN</td>\n",
       "      <td>NaN</td>\n",
       "      <td>NaN</td>\n",
       "      <td>NaN</td>\n",
       "      <td>NaN</td>\n",
       "    </tr>\n",
       "    <tr>\n",
       "      <th>cuisines_dim_29</th>\n",
       "      <td>0.182269</td>\n",
       "      <td>NaN</td>\n",
       "      <td>NaN</td>\n",
       "      <td>NaN</td>\n",
       "      <td>NaN</td>\n",
       "    </tr>\n",
       "    <tr>\n",
       "      <th>cuisines_dim_30</th>\n",
       "      <td>NaN</td>\n",
       "      <td>NaN</td>\n",
       "      <td>NaN</td>\n",
       "      <td>NaN</td>\n",
       "      <td>NaN</td>\n",
       "    </tr>\n",
       "  </tbody>\n",
       "</table>\n",
       "</div>"
      ],
      "text/plain": [
       "                        0         1         2         3         4\n",
       "cuisines_dim_1        NaN       NaN       NaN       NaN       NaN\n",
       "cuisines_dim_2        NaN       NaN       NaN       NaN       NaN\n",
       "cuisines_dim_3        NaN       NaN       NaN       NaN       NaN\n",
       "cuisines_dim_4        NaN       NaN       NaN       NaN       NaN\n",
       "cuisines_dim_5        NaN       NaN       NaN       NaN       NaN\n",
       "cuisines_dim_6        NaN       NaN  0.245830       NaN       NaN\n",
       "cuisines_dim_7        NaN       NaN       NaN       NaN       NaN\n",
       "cuisines_dim_8        NaN       NaN       NaN       NaN       NaN\n",
       "cuisines_dim_9        NaN       NaN       NaN  0.149027       NaN\n",
       "cuisines_dim_10       NaN       NaN       NaN       NaN       NaN\n",
       "cuisines_dim_11       NaN       NaN       NaN       NaN       NaN\n",
       "cuisines_dim_12       NaN       NaN       NaN       NaN       NaN\n",
       "cuisines_dim_13       NaN       NaN       NaN  0.329883       NaN\n",
       "cuisines_dim_14       NaN       NaN  0.370487       NaN       NaN\n",
       "cuisines_dim_15       NaN       NaN       NaN       NaN       NaN\n",
       "cuisines_dim_16       NaN       NaN       NaN       NaN  0.189609\n",
       "cuisines_dim_17       NaN       NaN       NaN       NaN       NaN\n",
       "cuisines_dim_18       NaN       NaN       NaN       NaN  0.654835\n",
       "cuisines_dim_19       NaN       NaN       NaN       NaN       NaN\n",
       "cuisines_dim_20       NaN       NaN       NaN       NaN       NaN\n",
       "cuisines_dim_21       NaN  0.343429       NaN       NaN       NaN\n",
       "cuisines_dim_22       NaN       NaN  0.314453  0.408588       NaN\n",
       "cuisines_dim_23       NaN       NaN       NaN       NaN       NaN\n",
       "cuisines_dim_24       NaN       NaN       NaN       NaN       NaN\n",
       "cuisines_dim_25  0.662176       NaN       NaN       NaN       NaN\n",
       "cuisines_dim_26       NaN       NaN       NaN       NaN       NaN\n",
       "cuisines_dim_27       NaN  0.423238       NaN       NaN       NaN\n",
       "cuisines_dim_28       NaN       NaN       NaN       NaN       NaN\n",
       "cuisines_dim_29  0.182269       NaN       NaN       NaN       NaN\n",
       "cuisines_dim_30       NaN       NaN       NaN       NaN       NaN"
      ]
     },
     "execution_count": 114,
     "metadata": {},
     "output_type": "execute_result"
    }
   ],
   "source": [
    "cuisine_dim.columns = ['cuisines_dim_' + str(i + 1) for i in range(30)]\n",
    "cuisine_dim.head(5).T\n"
   ]
  },
  {
   "cell_type": "markdown",
   "metadata": {},
   "source": [
    "#### Getting and understanding of word distribution"
   ]
  },
  {
   "cell_type": "code",
   "execution_count": 55,
   "metadata": {},
   "outputs": [],
   "source": [
    "def format_topics_sentences(ldamodel, corpus, texts):\n",
    "    # Init output\n",
    "    sent_topics_df = pd.DataFrame()\n",
    "\n",
    "    # Get main topic in each document\n",
    "    for i, row in enumerate(ldamodel[corpus]):\n",
    "        row = sorted(row, key=lambda x: (x[1]), reverse=True)\n",
    "        # Get the Dominant topic, Perc Contribution and Keywords for each document\n",
    "        for j, (topic_num, prop_topic) in enumerate(row):\n",
    "            if j == 0:  # => dominant topic\n",
    "                wp = ldamodel.show_topic(topic_num)\n",
    "                topic_keywords = \", \".join([word for word, prop in wp])\n",
    "                sent_topics_df = sent_topics_df.append(pd.Series([int(topic_num), round(prop_topic,4), topic_keywords]), ignore_index=True)\n",
    "            else:\n",
    "                break\n",
    "    sent_topics_df.columns = ['Dominant_Topic', 'Perc_Contribution', 'Topic_Keywords']\n",
    "\n",
    "    # Add original text to the end of the output\n",
    "    contents = pd.Series(texts)\n",
    "    sent_topics_df = pd.concat([sent_topics_df, contents], axis=1)\n",
    "    return(sent_topics_df)\n",
    "\n",
    "cuisine_keywords = format_topics_sentences(ldamodel=lda, corpus=corpus, texts=lda_cuisines)\n"
   ]
  },
  {
   "cell_type": "code",
   "execution_count": 56,
   "metadata": {
    "scrolled": true
   },
   "outputs": [
    {
     "data": {
      "text/html": [
       "<div>\n",
       "<style scoped>\n",
       "    .dataframe tbody tr th:only-of-type {\n",
       "        vertical-align: middle;\n",
       "    }\n",
       "\n",
       "    .dataframe tbody tr th {\n",
       "        vertical-align: top;\n",
       "    }\n",
       "\n",
       "    .dataframe thead th {\n",
       "        text-align: right;\n",
       "    }\n",
       "</style>\n",
       "<table border=\"1\" class=\"dataframe\">\n",
       "  <thead>\n",
       "    <tr style=\"text-align: right;\">\n",
       "      <th></th>\n",
       "      <th>cuisine_dominant_topic</th>\n",
       "      <th>cuisine_perc_contribution</th>\n",
       "      <th>cuisine_topic_keywords</th>\n",
       "      <th>cuisine</th>\n",
       "    </tr>\n",
       "  </thead>\n",
       "  <tbody>\n",
       "    <tr>\n",
       "      <th>0</th>\n",
       "      <td>24.0</td>\n",
       "      <td>0.6621</td>\n",
       "      <td>Hamburgers, Sandwiches, American, Wings, Salad...</td>\n",
       "      <td>[American, Hamburgers, Hot_Dogs, Salads, Sandw...</td>\n",
       "    </tr>\n",
       "    <tr>\n",
       "      <th>1</th>\n",
       "      <td>26.0</td>\n",
       "      <td>0.4224</td>\n",
       "      <td>Asian, Chinese, Thai, Noodles, Lunch_Specials,...</td>\n",
       "      <td>[Asian, Sushi, Thai]</td>\n",
       "    </tr>\n",
       "    <tr>\n",
       "      <th>2</th>\n",
       "      <td>13.0</td>\n",
       "      <td>0.3704</td>\n",
       "      <td>Mediterranean, Gyro, Greek, Middle_Eastern, Sa...</td>\n",
       "      <td>[Alcohol, Chicken, Greek, Gyro, Hamburgers, He...</td>\n",
       "    </tr>\n",
       "    <tr>\n",
       "      <th>3</th>\n",
       "      <td>21.0</td>\n",
       "      <td>0.4093</td>\n",
       "      <td>Bowls, Vegetarian, Healthy, Vegan, Salads, Glu...</td>\n",
       "      <td>[Gluten-Free, Healthy, Indian, Middle_Eastern,...</td>\n",
       "    </tr>\n",
       "    <tr>\n",
       "      <th>4</th>\n",
       "      <td>17.0</td>\n",
       "      <td>0.6548</td>\n",
       "      <td>Italian, Pizza, Pasta, Salads, Sandwiches, Sub...</td>\n",
       "      <td>[American, Italian, Pasta, Pizza, Sandwiches]</td>\n",
       "    </tr>\n",
       "    <tr>\n",
       "      <th>5</th>\n",
       "      <td>26.0</td>\n",
       "      <td>0.7583</td>\n",
       "      <td>Asian, Chinese, Thai, Noodles, Lunch_Specials,...</td>\n",
       "      <td>[Asian, Noodles, Thai]</td>\n",
       "    </tr>\n",
       "    <tr>\n",
       "      <th>6</th>\n",
       "      <td>10.0</td>\n",
       "      <td>0.6778</td>\n",
       "      <td>Mexican, Breakfast, Latin_American, Spanish, S...</td>\n",
       "      <td>[Breakfast, Mexican]</td>\n",
       "    </tr>\n",
       "  </tbody>\n",
       "</table>\n",
       "</div>"
      ],
      "text/plain": [
       "   cuisine_dominant_topic  cuisine_perc_contribution  \\\n",
       "0                    24.0                     0.6621   \n",
       "1                    26.0                     0.4224   \n",
       "2                    13.0                     0.3704   \n",
       "3                    21.0                     0.4093   \n",
       "4                    17.0                     0.6548   \n",
       "5                    26.0                     0.7583   \n",
       "6                    10.0                     0.6778   \n",
       "\n",
       "                              cuisine_topic_keywords  \\\n",
       "0  Hamburgers, Sandwiches, American, Wings, Salad...   \n",
       "1  Asian, Chinese, Thai, Noodles, Lunch_Specials,...   \n",
       "2  Mediterranean, Gyro, Greek, Middle_Eastern, Sa...   \n",
       "3  Bowls, Vegetarian, Healthy, Vegan, Salads, Glu...   \n",
       "4  Italian, Pizza, Pasta, Salads, Sandwiches, Sub...   \n",
       "5  Asian, Chinese, Thai, Noodles, Lunch_Specials,...   \n",
       "6  Mexican, Breakfast, Latin_American, Spanish, S...   \n",
       "\n",
       "                                             cuisine  \n",
       "0  [American, Hamburgers, Hot_Dogs, Salads, Sandw...  \n",
       "1                               [Asian, Sushi, Thai]  \n",
       "2  [Alcohol, Chicken, Greek, Gyro, Hamburgers, He...  \n",
       "3  [Gluten-Free, Healthy, Indian, Middle_Eastern,...  \n",
       "4      [American, Italian, Pasta, Pizza, Sandwiches]  \n",
       "5                             [Asian, Noodles, Thai]  \n",
       "6                               [Breakfast, Mexican]  "
      ]
     },
     "execution_count": 56,
     "metadata": {},
     "output_type": "execute_result"
    }
   ],
   "source": [
    "# snapshot of cuisine allocation. this dataframe to concat with final topic modeled \n",
    "cuisine_keywords.columns = ['cuisine_dominant_topic','cuisine_perc_contribution', 'cuisine_topic_keywords','cuisine']\n",
    "cuisine_keywords.head(7)\n"
   ]
  },
  {
   "cell_type": "markdown",
   "metadata": {},
   "source": [
    "#### Having a deeper look at each topic"
   ]
  },
  {
   "cell_type": "code",
   "execution_count": 57,
   "metadata": {},
   "outputs": [
    {
     "data": {
      "text/html": [
       "<div>\n",
       "<style scoped>\n",
       "    .dataframe tbody tr th:only-of-type {\n",
       "        vertical-align: middle;\n",
       "    }\n",
       "\n",
       "    .dataframe tbody tr th {\n",
       "        vertical-align: top;\n",
       "    }\n",
       "\n",
       "    .dataframe thead th {\n",
       "        text-align: right;\n",
       "    }\n",
       "</style>\n",
       "<table border=\"1\" class=\"dataframe\">\n",
       "  <thead>\n",
       "    <tr style=\"text-align: right;\">\n",
       "      <th></th>\n",
       "      <th>cuisine_dominant_topic</th>\n",
       "      <th>top_doc_perc_contr</th>\n",
       "      <th>cuisine_topic_keywords</th>\n",
       "      <th>top_doc_cuisines</th>\n",
       "    </tr>\n",
       "  </thead>\n",
       "  <tbody>\n",
       "    <tr>\n",
       "      <th>475</th>\n",
       "      <td>0.0</td>\n",
       "      <td>0.8619</td>\n",
       "      <td>Sandwiches, Breakfast, Deli, Bagels, American,...</td>\n",
       "      <td>[American, Bagels, Breakfast, Deli, Sandwiches...</td>\n",
       "    </tr>\n",
       "    <tr>\n",
       "      <th>5227</th>\n",
       "      <td>1.0</td>\n",
       "      <td>0.8389</td>\n",
       "      <td>Snacks, Cakes, Chinese, Szechwan, Vegetarian, ...</td>\n",
       "      <td>[Asian, Cantonese, Chinese, Mandarin, Szechwan]</td>\n",
       "    </tr>\n",
       "  </tbody>\n",
       "</table>\n",
       "</div>"
      ],
      "text/plain": [
       "      cuisine_dominant_topic  top_doc_perc_contr  \\\n",
       "475                      0.0              0.8619   \n",
       "5227                     1.0              0.8389   \n",
       "\n",
       "                                 cuisine_topic_keywords  \\\n",
       "475   Sandwiches, Breakfast, Deli, Bagels, American,...   \n",
       "5227  Snacks, Cakes, Chinese, Szechwan, Vegetarian, ...   \n",
       "\n",
       "                                       top_doc_cuisines  \n",
       "475   [American, Bagels, Breakfast, Deli, Sandwiches...  \n",
       "5227    [Asian, Cantonese, Chinese, Mandarin, Szechwan]  "
      ]
     },
     "execution_count": 57,
     "metadata": {},
     "output_type": "execute_result"
    }
   ],
   "source": [
    "# getting top document for each cuisine type\n",
    "cuisine_topic_grped = cuisine_keywords.groupby('cuisine_dominant_topic')\n",
    "cuisines_topic = pd.DataFrame()\n",
    "\n",
    "for i, grp in cuisine_topic_grped :\n",
    "    cuisines_topic = pd.concat([cuisines_topic, grp.sort_values(['cuisine_perc_contribution'], ascending=[0]).head(1)], \n",
    "                                            axis=0)\n",
    "\n",
    "cuisines_topic.columns = ['cuisine_dominant_topic','top_doc_perc_contr','cuisine_topic_keywords','top_doc_cuisines']\n",
    "cuisines_topic.head(2)"
   ]
  },
  {
   "cell_type": "code",
   "execution_count": 58,
   "metadata": {},
   "outputs": [
    {
     "data": {
      "text/html": [
       "<div>\n",
       "<style scoped>\n",
       "    .dataframe tbody tr th:only-of-type {\n",
       "        vertical-align: middle;\n",
       "    }\n",
       "\n",
       "    .dataframe tbody tr th {\n",
       "        vertical-align: top;\n",
       "    }\n",
       "\n",
       "    .dataframe thead th {\n",
       "        text-align: right;\n",
       "    }\n",
       "</style>\n",
       "<table border=\"1\" class=\"dataframe\">\n",
       "  <thead>\n",
       "    <tr style=\"text-align: right;\">\n",
       "      <th></th>\n",
       "      <th>cuisine_dominant_topic</th>\n",
       "      <th>cuisine_count_topics</th>\n",
       "      <th>cuisine_topic_contribution</th>\n",
       "    </tr>\n",
       "  </thead>\n",
       "  <tbody>\n",
       "    <tr>\n",
       "      <th>0</th>\n",
       "      <td>26.0</td>\n",
       "      <td>3242</td>\n",
       "      <td>0.1140</td>\n",
       "    </tr>\n",
       "    <tr>\n",
       "      <th>1</th>\n",
       "      <td>17.0</td>\n",
       "      <td>2170</td>\n",
       "      <td>0.0763</td>\n",
       "    </tr>\n",
       "  </tbody>\n",
       "</table>\n",
       "</div>"
      ],
      "text/plain": [
       "   cuisine_dominant_topic  cuisine_count_topics  cuisine_topic_contribution\n",
       "0                    26.0                  3242                      0.1140\n",
       "1                    17.0                  2170                      0.0763"
      ]
     },
     "execution_count": 58,
     "metadata": {},
     "output_type": "execute_result"
    }
   ],
   "source": [
    "# getting count of restaurants in each topic\n",
    "topic_counts = cuisine_keywords['cuisine_dominant_topic'].value_counts()\n",
    "\n",
    "# getting topic contribution\n",
    "topic_contribution = round(topic_counts/topic_counts.sum(), 4)\n",
    "\n",
    "cuisine_topic_contribution =  pd.concat([topic_counts, topic_contribution], axis=1).reset_index()\n",
    "cuisine_topic_contribution.columns = ['cuisine_dominant_topic','cuisine_count_topics','cuisine_topic_contribution']\n",
    "cuisine_topic_contribution.head(2)\n",
    "# pd.merge(cuisines_topic,, how='inner',on='cuisine_dominant_topic')"
   ]
  },
  {
   "cell_type": "code",
   "execution_count": 59,
   "metadata": {
    "scrolled": true
   },
   "outputs": [
    {
     "data": {
      "text/html": [
       "<div>\n",
       "<style scoped>\n",
       "    .dataframe tbody tr th:only-of-type {\n",
       "        vertical-align: middle;\n",
       "    }\n",
       "\n",
       "    .dataframe tbody tr th {\n",
       "        vertical-align: top;\n",
       "    }\n",
       "\n",
       "    .dataframe thead th {\n",
       "        text-align: right;\n",
       "    }\n",
       "</style>\n",
       "<table border=\"1\" class=\"dataframe\">\n",
       "  <thead>\n",
       "    <tr style=\"text-align: right;\">\n",
       "      <th></th>\n",
       "      <th>cuisine_dominant_topic</th>\n",
       "      <th>top_doc_perc_contr</th>\n",
       "      <th>cuisine_topic_keywords</th>\n",
       "      <th>top_doc_cuisines</th>\n",
       "      <th>cuisine_count_topics</th>\n",
       "      <th>cuisine_topic_contribution</th>\n",
       "    </tr>\n",
       "  </thead>\n",
       "  <tbody>\n",
       "    <tr>\n",
       "      <th>0</th>\n",
       "      <td>0.0</td>\n",
       "      <td>0.8619</td>\n",
       "      <td>Sandwiches, Breakfast, Deli, Bagels, American,...</td>\n",
       "      <td>[American, Bagels, Breakfast, Deli, Sandwiches...</td>\n",
       "      <td>1555</td>\n",
       "      <td>0.0547</td>\n",
       "    </tr>\n",
       "    <tr>\n",
       "      <th>1</th>\n",
       "      <td>1.0</td>\n",
       "      <td>0.8389</td>\n",
       "      <td>Snacks, Cakes, Chinese, Szechwan, Vegetarian, ...</td>\n",
       "      <td>[Asian, Cantonese, Chinese, Mandarin, Szechwan]</td>\n",
       "      <td>211</td>\n",
       "      <td>0.0074</td>\n",
       "    </tr>\n",
       "    <tr>\n",
       "      <th>2</th>\n",
       "      <td>2.0</td>\n",
       "      <td>0.8389</td>\n",
       "      <td>Ice_Cream, Dessert, Steak, Shakes, Crepes, Ham...</td>\n",
       "      <td>[Crepes, Dessert, Hamburgers, Hot_Dogs, Salads]</td>\n",
       "      <td>403</td>\n",
       "      <td>0.0142</td>\n",
       "    </tr>\n",
       "    <tr>\n",
       "      <th>3</th>\n",
       "      <td>3.0</td>\n",
       "      <td>0.8792</td>\n",
       "      <td>Sandwiches, Salads, Breakfast, Wraps, Hamburge...</td>\n",
       "      <td>[American, Breakfast, Coffee_and_Tea, Hamburge...</td>\n",
       "      <td>1557</td>\n",
       "      <td>0.0548</td>\n",
       "    </tr>\n",
       "    <tr>\n",
       "      <th>4</th>\n",
       "      <td>4.0</td>\n",
       "      <td>0.8067</td>\n",
       "      <td>Caribbean, African, Cuban, Sandwiches, Potato,...</td>\n",
       "      <td>[Cuban, Salads, Sandwiches, Seafood]</td>\n",
       "      <td>278</td>\n",
       "      <td>0.0098</td>\n",
       "    </tr>\n",
       "    <tr>\n",
       "      <th>5</th>\n",
       "      <td>5.0</td>\n",
       "      <td>0.8619</td>\n",
       "      <td>Chicken, Wings, Seafood, Sandwiches, Salads, H...</td>\n",
       "      <td>[Bar_Food, Chicken, Dessert, Salads, Sandwiche...</td>\n",
       "      <td>973</td>\n",
       "      <td>0.0342</td>\n",
       "    </tr>\n",
       "  </tbody>\n",
       "</table>\n",
       "</div>"
      ],
      "text/plain": [
       "   cuisine_dominant_topic  top_doc_perc_contr  \\\n",
       "0                     0.0              0.8619   \n",
       "1                     1.0              0.8389   \n",
       "2                     2.0              0.8389   \n",
       "3                     3.0              0.8792   \n",
       "4                     4.0              0.8067   \n",
       "5                     5.0              0.8619   \n",
       "\n",
       "                              cuisine_topic_keywords  \\\n",
       "0  Sandwiches, Breakfast, Deli, Bagels, American,...   \n",
       "1  Snacks, Cakes, Chinese, Szechwan, Vegetarian, ...   \n",
       "2  Ice_Cream, Dessert, Steak, Shakes, Crepes, Ham...   \n",
       "3  Sandwiches, Salads, Breakfast, Wraps, Hamburge...   \n",
       "4  Caribbean, African, Cuban, Sandwiches, Potato,...   \n",
       "5  Chicken, Wings, Seafood, Sandwiches, Salads, H...   \n",
       "\n",
       "                                    top_doc_cuisines  cuisine_count_topics  \\\n",
       "0  [American, Bagels, Breakfast, Deli, Sandwiches...                  1555   \n",
       "1    [Asian, Cantonese, Chinese, Mandarin, Szechwan]                   211   \n",
       "2    [Crepes, Dessert, Hamburgers, Hot_Dogs, Salads]                   403   \n",
       "3  [American, Breakfast, Coffee_and_Tea, Hamburge...                  1557   \n",
       "4               [Cuban, Salads, Sandwiches, Seafood]                   278   \n",
       "5  [Bar_Food, Chicken, Dessert, Salads, Sandwiche...                   973   \n",
       "\n",
       "   cuisine_topic_contribution  \n",
       "0                      0.0547  \n",
       "1                      0.0074  \n",
       "2                      0.0142  \n",
       "3                      0.0548  \n",
       "4                      0.0098  \n",
       "5                      0.0342  "
      ]
     },
     "execution_count": 59,
     "metadata": {},
     "output_type": "execute_result"
    }
   ],
   "source": [
    "cuisine_topic_info = pd.merge(cuisines_topic,cuisine_topic_contribution,on='cuisine_dominant_topic')\n",
    "cuisine_topic_info.head(6)"
   ]
  },
  {
   "cell_type": "markdown",
   "metadata": {},
   "source": [
    "<a class=\"anchor\" id=\"lda_dishes\"></a>"
   ]
  },
  {
   "cell_type": "markdown",
   "metadata": {},
   "source": [
    "### LDA - dishes"
   ]
  },
  {
   "cell_type": "markdown",
   "metadata": {},
   "source": [
    "[Table of Contents](#toc)"
   ]
  },
  {
   "cell_type": "markdown",
   "metadata": {},
   "source": [
    "Prepare data"
   ]
  },
  {
   "cell_type": "code",
   "execution_count": 60,
   "metadata": {},
   "outputs": [],
   "source": [
    "dishes = joined_df['dish_compound']"
   ]
  },
  {
   "cell_type": "code",
   "execution_count": 66,
   "metadata": {},
   "outputs": [],
   "source": [
    "# Splitting text \n",
    "def split_text(texts):\n",
    "    texts_out = []\n",
    "    for sent in texts.str.split():\n",
    "        texts_out.append(sent)\n",
    "    return texts_out"
   ]
  },
  {
   "cell_type": "code",
   "execution_count": 67,
   "metadata": {
    "scrolled": true
   },
   "outputs": [
    {
     "data": {
      "text/plain": [
       "[['beef_sandwiches', 'sandwiches', 'appetizers', 'fries']]"
      ]
     },
     "execution_count": 67,
     "metadata": {},
     "output_type": "execute_result"
    }
   ],
   "source": [
    "lda_dishes = split_text(dishes)\n",
    "lda_dishes[:1]"
   ]
  },
  {
   "cell_type": "code",
   "execution_count": 68,
   "metadata": {},
   "outputs": [],
   "source": [
    "id2word = corpora.Dictionary(lda_dishes)\n",
    "\n",
    "corpus = [id2word.doc2bow(text) for text in lda_dishes]"
   ]
  },
  {
   "cell_type": "code",
   "execution_count": 69,
   "metadata": {
    "scrolled": true
   },
   "outputs": [],
   "source": [
    "# Create lda model\n",
    "lda = models.LdaModel(corpus=corpus, num_topics=30, id2word=id2word, random_state=12)"
   ]
  },
  {
   "cell_type": "code",
   "execution_count": 70,
   "metadata": {},
   "outputs": [
    {
     "data": {
      "text/plain": [
       "(30, 2239)"
      ]
     },
     "execution_count": 70,
     "metadata": {},
     "output_type": "execute_result"
    }
   ],
   "source": [
    "lda.get_topics().shape"
   ]
  },
  {
   "cell_type": "code",
   "execution_count": 18,
   "metadata": {
    "scrolled": true
   },
   "outputs": [
    {
     "name": "stdout",
     "output_type": "stream",
     "text": [
      "\n",
      "Perplexity:  -5.353588725092497\n"
     ]
    }
   ],
   "source": [
    "# Compute Perplexity\n",
    "print('\\nPerplexity: ', lda.log_perplexity(corpus))  # a measure of how good the model is. lower is better"
   ]
  },
  {
   "cell_type": "code",
   "execution_count": 190,
   "metadata": {},
   "outputs": [
    {
     "name": "stdout",
     "output_type": "stream",
     "text": [
      "\n",
      "Coherence Score:  0.5287354735940153\n"
     ]
    }
   ],
   "source": [
    "# Compute Coherence Score\n",
    "coherence_model_lda = CoherenceModel(model=lda, texts=lda_dishes, dictionary=id2word, coherence='c_v')\n",
    "coherence_lda = coherence_model_lda.get_coherence()\n",
    "print('\\nCoherence Score: ', coherence_lda)"
   ]
  },
  {
   "cell_type": "code",
   "execution_count": 21,
   "metadata": {},
   "outputs": [
    {
     "name": "stderr",
     "output_type": "stream",
     "text": [
      "/home/ubuntu/anaconda3/lib/python3.7/site-packages/pyLDAvis/_prepare.py:257: FutureWarning: Sorting because non-concatenation axis is not aligned. A future version\n",
      "of pandas will change to not sort by default.\n",
      "\n",
      "To accept the future behavior, pass 'sort=False'.\n",
      "\n",
      "To retain the current behavior and silence the warning, pass 'sort=True'.\n",
      "\n",
      "  return pd.concat([default_term_info] + list(topic_dfs))\n"
     ]
    },
    {
     "data": {
      "text/html": [
       "\n",
       "<link rel=\"stylesheet\" type=\"text/css\" href=\"https://cdn.rawgit.com/bmabey/pyLDAvis/files/ldavis.v1.0.0.css\">\n",
       "\n",
       "\n",
       "<div id=\"ldavis_el16594139657839195984465956016\"></div>\n",
       "<script type=\"text/javascript\">\n",
       "\n",
       "var ldavis_el16594139657839195984465956016_data = {\"mdsDat\": {\"x\": [-0.025347885994636676, -0.1496701292245758, -0.08478750386329274, 0.03496296117286454, -0.12658459662425417, 0.27268515855647213, -0.24599576854119748, -0.21017489915999724, 0.09923273228545397, -0.08121474623802803, -0.2866692499619987, 0.1978977215661373, 0.018176958303994285, 0.11995759944788456, -0.04115558366201557, 0.25424246979255877, 0.043383980226173936, -0.11906955021967904, 0.05123465258191936, 0.22411867757698634, 0.18919637498775158, 0.051302810531648, -0.07975356732822711, -0.15614247862417752, -0.07872165050688401, -0.1952273458562516, 0.19382111155601003, 0.03364583742463651, 0.11596734870465421, -0.019311438909928955], \"y\": [-0.10278057026129732, 0.14747172975758457, 0.0015173390404956953, -0.059644131853075, 0.16691888033922983, 0.06861009162038147, 0.10628021242008805, 0.0977660823359485, -0.11333961751505803, -0.022494099345606818, 0.03820647498019211, 0.07703531989481589, 0.12603566332354518, -0.08022263720255408, 0.026187020105370495, 0.12957139832070624, -0.1866717839894221, -0.06935678983126484, -0.14297953795356363, 0.10495857915822165, 0.14386682955567495, 0.16960461769612442, 0.02445273708991924, -0.06024285014062885, -0.08471008603093458, 0.002438381780402258, 0.11203200673975096, -0.2884631620157329, -0.24363331558650506, -0.08841478243280797], \"topics\": [1, 2, 3, 4, 5, 6, 7, 8, 9, 10, 11, 12, 13, 14, 15, 16, 17, 18, 19, 20, 21, 22, 23, 24, 25, 26, 27, 28, 29, 30], \"cluster\": [1, 1, 1, 1, 1, 1, 1, 1, 1, 1, 1, 1, 1, 1, 1, 1, 1, 1, 1, 1, 1, 1, 1, 1, 1, 1, 1, 1, 1, 1], \"Freq\": [1.184471845626831, 1.822369933128357, 2.583281993865967, 1.8156567811965942, 8.659310340881348, 2.7451424598693848, 7.830814361572266, 4.092654228210449, 3.729121685028076, 1.4744454622268677, 9.214171409606934, 2.140944004058838, 2.0515806674957275, 1.1048163175582886, 4.185135841369629, 3.494560718536377, 5.447193145751953, 0.7743114829063416, 2.67832350730896, 2.4277708530426025, 2.191279172897339, 1.1864351034164429, 2.1490793228149414, 5.398723602294922, 1.751293420791626, 4.7687835693359375, 2.6627516746520996, 4.5733747482299805, 5.0016703605651855, 0.860539436340332]}, \"tinfo\": {\"Category\": [\"Default\", \"Default\", \"Default\", \"Default\", \"Default\", \"Default\", \"Default\", \"Default\", \"Default\", \"Default\", \"Default\", \"Default\", \"Default\", \"Default\", \"Default\", \"Default\", \"Default\", \"Default\", \"Default\", \"Default\", \"Default\", \"Default\", \"Default\", \"Default\", \"Default\", \"Default\", \"Default\", \"Default\", \"Default\", \"Default\", \"Topic1\", \"Topic1\", \"Topic1\", \"Topic1\", \"Topic1\", \"Topic1\", \"Topic1\", \"Topic1\", \"Topic1\", \"Topic1\", \"Topic1\", \"Topic1\", \"Topic1\", \"Topic1\", \"Topic1\", \"Topic1\", \"Topic1\", \"Topic1\", \"Topic1\", \"Topic1\", \"Topic1\", \"Topic1\", \"Topic1\", \"Topic1\", \"Topic1\", \"Topic1\", \"Topic1\", \"Topic1\", \"Topic1\", \"Topic1\", \"Topic1\", \"Topic1\", \"Topic1\", \"Topic1\", \"Topic1\", \"Topic1\", \"Topic1\", \"Topic1\", \"Topic1\", \"Topic1\", \"Topic1\", \"Topic1\", \"Topic1\", \"Topic1\", \"Topic1\", \"Topic1\", \"Topic2\", \"Topic2\", \"Topic2\", \"Topic2\", \"Topic2\", \"Topic2\", \"Topic2\", \"Topic2\", \"Topic2\", \"Topic2\", \"Topic2\", \"Topic2\", \"Topic2\", \"Topic2\", \"Topic2\", \"Topic2\", \"Topic2\", \"Topic2\", \"Topic2\", \"Topic2\", \"Topic2\", \"Topic2\", \"Topic2\", \"Topic2\", \"Topic2\", \"Topic2\", \"Topic2\", \"Topic2\", \"Topic2\", \"Topic2\", \"Topic2\", \"Topic2\", \"Topic2\", \"Topic2\", \"Topic2\", \"Topic2\", \"Topic2\", \"Topic2\", \"Topic2\", \"Topic2\", \"Topic2\", \"Topic2\", \"Topic3\", \"Topic3\", \"Topic3\", \"Topic3\", \"Topic3\", \"Topic3\", \"Topic3\", \"Topic3\", \"Topic3\", \"Topic3\", \"Topic3\", \"Topic3\", \"Topic3\", \"Topic3\", \"Topic3\", \"Topic3\", \"Topic3\", \"Topic3\", \"Topic3\", \"Topic3\", \"Topic3\", \"Topic3\", \"Topic3\", \"Topic3\", \"Topic3\", \"Topic3\", \"Topic3\", \"Topic3\", \"Topic3\", \"Topic3\", \"Topic3\", \"Topic3\", \"Topic3\", \"Topic3\", \"Topic3\", \"Topic3\", \"Topic3\", \"Topic3\", \"Topic3\", \"Topic3\", \"Topic3\", \"Topic3\", \"Topic3\", \"Topic3\", \"Topic3\", \"Topic3\", \"Topic3\", \"Topic3\", \"Topic3\", \"Topic4\", \"Topic4\", \"Topic4\", \"Topic4\", \"Topic4\", \"Topic4\", \"Topic4\", \"Topic4\", \"Topic4\", \"Topic4\", \"Topic4\", \"Topic4\", \"Topic4\", \"Topic4\", \"Topic4\", \"Topic4\", \"Topic4\", \"Topic4\", \"Topic4\", \"Topic4\", \"Topic4\", \"Topic4\", \"Topic4\", \"Topic4\", \"Topic4\", \"Topic4\", \"Topic4\", \"Topic4\", \"Topic4\", \"Topic4\", \"Topic4\", \"Topic4\", \"Topic4\", \"Topic4\", \"Topic4\", \"Topic4\", \"Topic4\", \"Topic4\", \"Topic4\", \"Topic4\", \"Topic4\", \"Topic4\", \"Topic4\", \"Topic4\", \"Topic5\", \"Topic5\", \"Topic5\", \"Topic5\", \"Topic5\", \"Topic5\", \"Topic5\", \"Topic5\", \"Topic5\", \"Topic5\", \"Topic5\", \"Topic5\", \"Topic5\", \"Topic5\", \"Topic5\", \"Topic5\", \"Topic5\", \"Topic5\", \"Topic5\", \"Topic5\", \"Topic5\", \"Topic5\", \"Topic5\", \"Topic5\", \"Topic5\", \"Topic5\", \"Topic5\", \"Topic5\", \"Topic5\", \"Topic5\", \"Topic5\", \"Topic5\", \"Topic5\", \"Topic5\", \"Topic5\", \"Topic5\", \"Topic5\", \"Topic5\", \"Topic5\", \"Topic5\", \"Topic5\", \"Topic6\", \"Topic6\", \"Topic6\", \"Topic6\", \"Topic6\", \"Topic6\", \"Topic6\", \"Topic6\", \"Topic6\", \"Topic6\", \"Topic6\", \"Topic6\", \"Topic6\", \"Topic6\", \"Topic6\", \"Topic6\", \"Topic6\", \"Topic6\", \"Topic6\", \"Topic6\", \"Topic6\", \"Topic6\", \"Topic6\", \"Topic6\", \"Topic6\", \"Topic6\", \"Topic6\", \"Topic6\", \"Topic6\", \"Topic6\", \"Topic6\", \"Topic6\", \"Topic6\", \"Topic6\", \"Topic6\", \"Topic6\", \"Topic6\", \"Topic6\", \"Topic6\", \"Topic6\", \"Topic6\", \"Topic6\", \"Topic6\", \"Topic6\", \"Topic6\", \"Topic7\", \"Topic7\", \"Topic7\", \"Topic7\", \"Topic7\", \"Topic7\", \"Topic7\", \"Topic7\", \"Topic7\", \"Topic7\", \"Topic7\", \"Topic7\", \"Topic7\", \"Topic7\", \"Topic7\", \"Topic7\", \"Topic7\", \"Topic7\", \"Topic7\", \"Topic7\", \"Topic7\", \"Topic7\", \"Topic7\", \"Topic7\", \"Topic7\", \"Topic7\", \"Topic7\", \"Topic7\", \"Topic7\", \"Topic7\", \"Topic7\", \"Topic7\", \"Topic7\", \"Topic7\", \"Topic7\", \"Topic7\", \"Topic7\", \"Topic7\", \"Topic7\", \"Topic7\", \"Topic7\", \"Topic7\", \"Topic7\", \"Topic7\", \"Topic7\", \"Topic7\", \"Topic7\", \"Topic7\", \"Topic7\", \"Topic7\", \"Topic8\", \"Topic8\", \"Topic8\", \"Topic8\", \"Topic8\", \"Topic8\", \"Topic8\", \"Topic8\", \"Topic8\", \"Topic8\", \"Topic8\", \"Topic8\", \"Topic8\", \"Topic8\", \"Topic8\", \"Topic8\", \"Topic8\", \"Topic8\", \"Topic8\", \"Topic8\", \"Topic8\", \"Topic8\", \"Topic8\", \"Topic8\", \"Topic8\", \"Topic8\", \"Topic8\", \"Topic8\", \"Topic8\", \"Topic8\", \"Topic8\", \"Topic8\", \"Topic8\", \"Topic8\", \"Topic8\", \"Topic8\", \"Topic8\", \"Topic8\", \"Topic8\", \"Topic8\", \"Topic8\", \"Topic8\", \"Topic8\", \"Topic8\", \"Topic9\", \"Topic9\", \"Topic9\", \"Topic9\", \"Topic9\", \"Topic9\", \"Topic9\", \"Topic9\", \"Topic9\", \"Topic9\", \"Topic9\", \"Topic9\", \"Topic9\", \"Topic9\", \"Topic9\", \"Topic9\", \"Topic9\", \"Topic9\", \"Topic9\", \"Topic9\", \"Topic9\", \"Topic9\", \"Topic9\", \"Topic9\", \"Topic9\", \"Topic9\", \"Topic9\", \"Topic9\", \"Topic9\", \"Topic9\", \"Topic9\", \"Topic9\", \"Topic9\", \"Topic9\", \"Topic9\", \"Topic9\", \"Topic9\", \"Topic9\", \"Topic9\", \"Topic9\", \"Topic9\", \"Topic9\", \"Topic9\", \"Topic9\", \"Topic9\", \"Topic9\", \"Topic9\", \"Topic9\", \"Topic10\", \"Topic10\", \"Topic10\", \"Topic10\", \"Topic10\", \"Topic10\", \"Topic10\", \"Topic10\", \"Topic10\", \"Topic10\", \"Topic10\", \"Topic10\", \"Topic10\", \"Topic10\", \"Topic10\", \"Topic10\", \"Topic10\", \"Topic10\", \"Topic10\", \"Topic10\", \"Topic10\", \"Topic10\", \"Topic10\", \"Topic10\", \"Topic10\", \"Topic10\", \"Topic10\", \"Topic10\", \"Topic10\", \"Topic10\", \"Topic10\", \"Topic10\", \"Topic10\", \"Topic10\", \"Topic10\", \"Topic10\", \"Topic10\", \"Topic10\", \"Topic10\", \"Topic10\", \"Topic11\", \"Topic11\", \"Topic11\", \"Topic11\", \"Topic11\", \"Topic11\", \"Topic11\", \"Topic11\", \"Topic11\", \"Topic11\", \"Topic11\", \"Topic11\", \"Topic11\", \"Topic11\", \"Topic11\", \"Topic11\", \"Topic11\", \"Topic11\", \"Topic11\", \"Topic11\", \"Topic11\", \"Topic11\", \"Topic11\", \"Topic11\", \"Topic11\", \"Topic11\", \"Topic11\", \"Topic11\", \"Topic11\", \"Topic11\", \"Topic11\", \"Topic11\", \"Topic11\", \"Topic11\", \"Topic11\", \"Topic11\", \"Topic11\", \"Topic11\", \"Topic11\", \"Topic11\", \"Topic11\", \"Topic11\", \"Topic11\", \"Topic11\", \"Topic11\", \"Topic11\", \"Topic11\", \"Topic11\", \"Topic11\", \"Topic11\", \"Topic11\", \"Topic11\", \"Topic11\", \"Topic12\", \"Topic12\", \"Topic12\", \"Topic12\", \"Topic12\", \"Topic12\", \"Topic12\", \"Topic12\", \"Topic12\", \"Topic12\", \"Topic12\", \"Topic12\", \"Topic12\", \"Topic12\", \"Topic12\", \"Topic12\", \"Topic12\", \"Topic12\", \"Topic12\", \"Topic12\", \"Topic12\", \"Topic12\", \"Topic12\", \"Topic12\", \"Topic12\", \"Topic12\", \"Topic12\", \"Topic12\", \"Topic12\", \"Topic12\", \"Topic12\", \"Topic12\", \"Topic12\", \"Topic12\", \"Topic12\", \"Topic12\", \"Topic12\", \"Topic12\", \"Topic12\", \"Topic12\", \"Topic12\", \"Topic12\", \"Topic12\", \"Topic12\", \"Topic12\", \"Topic13\", \"Topic13\", \"Topic13\", \"Topic13\", \"Topic13\", \"Topic13\", \"Topic13\", \"Topic13\", \"Topic13\", \"Topic13\", \"Topic13\", \"Topic13\", \"Topic13\", \"Topic13\", \"Topic13\", \"Topic13\", \"Topic13\", \"Topic13\", \"Topic13\", \"Topic13\", \"Topic13\", \"Topic13\", \"Topic13\", \"Topic13\", \"Topic13\", \"Topic13\", \"Topic13\", \"Topic13\", \"Topic13\", \"Topic13\", \"Topic13\", \"Topic13\", \"Topic13\", \"Topic13\", \"Topic14\", \"Topic14\", \"Topic14\", \"Topic14\", \"Topic14\", \"Topic14\", \"Topic14\", \"Topic14\", \"Topic14\", \"Topic14\", \"Topic14\", \"Topic14\", \"Topic14\", \"Topic14\", \"Topic14\", \"Topic14\", \"Topic14\", \"Topic14\", \"Topic14\", \"Topic14\", \"Topic14\", \"Topic14\", \"Topic14\", \"Topic14\", \"Topic14\", \"Topic14\", \"Topic14\", \"Topic14\", \"Topic14\", \"Topic14\", \"Topic14\", \"Topic14\", \"Topic14\", \"Topic14\", \"Topic14\", \"Topic14\", \"Topic14\", \"Topic14\", \"Topic14\", \"Topic15\", \"Topic15\", \"Topic15\", \"Topic15\", \"Topic15\", \"Topic15\", \"Topic15\", \"Topic15\", \"Topic15\", \"Topic15\", \"Topic15\", \"Topic15\", \"Topic15\", \"Topic15\", \"Topic15\", \"Topic15\", \"Topic15\", \"Topic15\", \"Topic15\", \"Topic15\", \"Topic15\", \"Topic15\", \"Topic15\", \"Topic15\", \"Topic15\", \"Topic15\", \"Topic15\", \"Topic15\", \"Topic15\", \"Topic15\", \"Topic15\", \"Topic15\", \"Topic15\", \"Topic15\", \"Topic15\", \"Topic15\", \"Topic15\", \"Topic16\", \"Topic16\", \"Topic16\", \"Topic16\", \"Topic16\", \"Topic16\", \"Topic16\", \"Topic16\", \"Topic16\", \"Topic16\", \"Topic16\", \"Topic16\", \"Topic16\", \"Topic16\", \"Topic16\", \"Topic16\", \"Topic16\", \"Topic16\", \"Topic16\", \"Topic16\", \"Topic16\", \"Topic16\", \"Topic16\", \"Topic16\", \"Topic16\", \"Topic16\", \"Topic16\", \"Topic16\", \"Topic16\", \"Topic16\", \"Topic16\", \"Topic16\", \"Topic16\", \"Topic16\", \"Topic16\", \"Topic16\", \"Topic16\", \"Topic16\", \"Topic16\", \"Topic16\", \"Topic17\", \"Topic17\", \"Topic17\", \"Topic17\", \"Topic17\", \"Topic17\", \"Topic17\", \"Topic17\", \"Topic17\", \"Topic17\", \"Topic17\", \"Topic17\", \"Topic17\", \"Topic17\", \"Topic17\", \"Topic17\", \"Topic17\", \"Topic17\", \"Topic17\", \"Topic17\", \"Topic17\", \"Topic17\", \"Topic17\", \"Topic17\", \"Topic17\", \"Topic17\", \"Topic17\", \"Topic17\", \"Topic17\", \"Topic17\", \"Topic17\", \"Topic17\", \"Topic17\", \"Topic17\", \"Topic17\", \"Topic17\", \"Topic17\", \"Topic17\", \"Topic17\", \"Topic17\", \"Topic18\", \"Topic18\", \"Topic18\", \"Topic18\", \"Topic18\", \"Topic18\", \"Topic18\", \"Topic18\", \"Topic18\", \"Topic18\", \"Topic18\", \"Topic18\", \"Topic18\", \"Topic18\", \"Topic18\", \"Topic18\", \"Topic18\", \"Topic18\", \"Topic18\", \"Topic18\", \"Topic18\", \"Topic18\", \"Topic18\", \"Topic18\", \"Topic18\", \"Topic18\", \"Topic18\", \"Topic18\", \"Topic18\", \"Topic18\", \"Topic18\", \"Topic18\", \"Topic18\", \"Topic18\", \"Topic18\", \"Topic18\", \"Topic18\", \"Topic18\", \"Topic18\", \"Topic18\", \"Topic18\", \"Topic18\", \"Topic18\", \"Topic18\", \"Topic19\", \"Topic19\", \"Topic19\", \"Topic19\", \"Topic19\", \"Topic19\", \"Topic19\", \"Topic19\", \"Topic19\", \"Topic19\", \"Topic19\", \"Topic19\", \"Topic19\", \"Topic19\", \"Topic19\", \"Topic19\", \"Topic19\", \"Topic19\", \"Topic19\", \"Topic19\", \"Topic19\", \"Topic19\", \"Topic19\", \"Topic19\", \"Topic19\", \"Topic19\", \"Topic19\", \"Topic19\", \"Topic19\", \"Topic19\", \"Topic19\", \"Topic19\", \"Topic19\", \"Topic19\", \"Topic19\", \"Topic19\", \"Topic19\", \"Topic19\", \"Topic19\", \"Topic19\", \"Topic19\", \"Topic20\", \"Topic20\", \"Topic20\", \"Topic20\", \"Topic20\", \"Topic20\", \"Topic20\", \"Topic20\", \"Topic20\", \"Topic20\", \"Topic20\", \"Topic20\", \"Topic20\", \"Topic20\", \"Topic20\", \"Topic20\", \"Topic20\", \"Topic20\", \"Topic20\", \"Topic20\", \"Topic20\", \"Topic20\", \"Topic20\", \"Topic20\", \"Topic20\", \"Topic20\", \"Topic20\", \"Topic20\", \"Topic20\", \"Topic20\", \"Topic20\", \"Topic20\", \"Topic20\", \"Topic20\", \"Topic20\", \"Topic20\", \"Topic20\", \"Topic20\", \"Topic20\", \"Topic20\", \"Topic20\", \"Topic20\", \"Topic20\", \"Topic20\", \"Topic20\", \"Topic20\", \"Topic20\", \"Topic21\", \"Topic21\", \"Topic21\", \"Topic21\", \"Topic21\", \"Topic21\", \"Topic21\", \"Topic21\", \"Topic21\", \"Topic21\", \"Topic21\", \"Topic21\", \"Topic21\", \"Topic21\", \"Topic21\", \"Topic21\", \"Topic21\", \"Topic21\", \"Topic21\", \"Topic21\", \"Topic21\", \"Topic21\", \"Topic21\", \"Topic21\", \"Topic21\", \"Topic21\", \"Topic21\", \"Topic21\", \"Topic21\", \"Topic21\", \"Topic21\", \"Topic21\", \"Topic21\", \"Topic21\", \"Topic21\", \"Topic21\", \"Topic21\", \"Topic21\", \"Topic21\", \"Topic21\", \"Topic21\", \"Topic21\", \"Topic22\", \"Topic22\", \"Topic22\", \"Topic22\", \"Topic22\", \"Topic22\", \"Topic22\", \"Topic22\", \"Topic22\", \"Topic22\", \"Topic22\", \"Topic22\", \"Topic22\", \"Topic22\", \"Topic22\", \"Topic22\", \"Topic22\", \"Topic22\", \"Topic22\", \"Topic22\", \"Topic22\", \"Topic22\", \"Topic22\", \"Topic22\", \"Topic22\", \"Topic22\", \"Topic22\", \"Topic22\", \"Topic22\", \"Topic22\", \"Topic22\", \"Topic22\", \"Topic22\", \"Topic22\", \"Topic22\", \"Topic22\", \"Topic22\", \"Topic22\", \"Topic22\", \"Topic22\", \"Topic22\", \"Topic22\", \"Topic22\", \"Topic22\", \"Topic23\", \"Topic23\", \"Topic23\", \"Topic23\", \"Topic23\", \"Topic23\", \"Topic23\", \"Topic23\", \"Topic23\", \"Topic23\", \"Topic23\", \"Topic23\", \"Topic23\", \"Topic23\", \"Topic23\", \"Topic23\", \"Topic23\", \"Topic23\", \"Topic23\", \"Topic23\", \"Topic23\", \"Topic23\", \"Topic23\", \"Topic23\", \"Topic23\", \"Topic23\", \"Topic23\", \"Topic23\", \"Topic23\", \"Topic23\", \"Topic23\", \"Topic23\", \"Topic23\", \"Topic23\", \"Topic23\", \"Topic23\", \"Topic23\", \"Topic23\", \"Topic23\", \"Topic23\", \"Topic23\", \"Topic23\", \"Topic23\", \"Topic23\", \"Topic23\", \"Topic23\", \"Topic23\", \"Topic24\", \"Topic24\", \"Topic24\", \"Topic24\", \"Topic24\", \"Topic24\", \"Topic24\", \"Topic24\", \"Topic24\", \"Topic24\", \"Topic24\", \"Topic24\", \"Topic24\", \"Topic24\", \"Topic24\", \"Topic24\", \"Topic24\", \"Topic24\", \"Topic24\", \"Topic24\", \"Topic24\", \"Topic24\", \"Topic24\", \"Topic24\", \"Topic24\", \"Topic24\", \"Topic24\", \"Topic24\", \"Topic24\", \"Topic24\", \"Topic24\", \"Topic24\", \"Topic24\", \"Topic24\", \"Topic24\", \"Topic24\", \"Topic24\", \"Topic24\", \"Topic24\", \"Topic24\", \"Topic24\", \"Topic24\", \"Topic25\", \"Topic25\", \"Topic25\", \"Topic25\", \"Topic25\", \"Topic25\", \"Topic25\", \"Topic25\", \"Topic25\", \"Topic25\", \"Topic25\", \"Topic25\", \"Topic25\", \"Topic25\", \"Topic25\", \"Topic25\", \"Topic25\", \"Topic25\", \"Topic25\", \"Topic25\", \"Topic25\", \"Topic25\", \"Topic25\", \"Topic25\", \"Topic25\", \"Topic25\", \"Topic25\", \"Topic25\", \"Topic25\", \"Topic25\", \"Topic25\", \"Topic25\", \"Topic25\", \"Topic25\", \"Topic25\", \"Topic25\", \"Topic25\", \"Topic25\", \"Topic25\", \"Topic25\", \"Topic26\", \"Topic26\", \"Topic26\", \"Topic26\", \"Topic26\", \"Topic26\", \"Topic26\", \"Topic26\", \"Topic26\", \"Topic26\", \"Topic26\", \"Topic26\", \"Topic26\", \"Topic26\", \"Topic26\", \"Topic26\", \"Topic26\", \"Topic26\", \"Topic26\", \"Topic26\", \"Topic26\", \"Topic26\", \"Topic26\", \"Topic26\", \"Topic26\", \"Topic26\", \"Topic26\", \"Topic26\", \"Topic26\", \"Topic26\", \"Topic26\", \"Topic26\", \"Topic26\", \"Topic26\", \"Topic26\", \"Topic26\", \"Topic26\", \"Topic26\", \"Topic26\", \"Topic26\", \"Topic26\", \"Topic26\", \"Topic26\", \"Topic26\", \"Topic26\", \"Topic26\", \"Topic26\", \"Topic27\", \"Topic27\", \"Topic27\", \"Topic27\", \"Topic27\", \"Topic27\", \"Topic27\", \"Topic27\", \"Topic27\", \"Topic27\", \"Topic27\", \"Topic27\", \"Topic27\", \"Topic27\", \"Topic27\", \"Topic27\", \"Topic27\", \"Topic27\", \"Topic27\", \"Topic27\", \"Topic27\", \"Topic27\", \"Topic27\", \"Topic27\", \"Topic27\", \"Topic27\", \"Topic27\", \"Topic27\", \"Topic27\", \"Topic27\", \"Topic27\", \"Topic27\", \"Topic27\", \"Topic27\", \"Topic27\", \"Topic27\", \"Topic27\", \"Topic27\", \"Topic27\", \"Topic27\", \"Topic27\", \"Topic27\", \"Topic27\", \"Topic27\", \"Topic27\", \"Topic27\", \"Topic27\", \"Topic28\", \"Topic28\", \"Topic28\", \"Topic28\", \"Topic28\", \"Topic28\", \"Topic28\", \"Topic28\", \"Topic28\", \"Topic28\", \"Topic28\", \"Topic28\", \"Topic28\", \"Topic28\", \"Topic28\", \"Topic28\", \"Topic28\", \"Topic28\", \"Topic28\", \"Topic28\", \"Topic28\", \"Topic28\", \"Topic28\", \"Topic28\", \"Topic28\", \"Topic28\", \"Topic28\", \"Topic28\", \"Topic28\", \"Topic28\", \"Topic28\", \"Topic28\", \"Topic28\", \"Topic28\", \"Topic28\", \"Topic28\", \"Topic28\", \"Topic28\", \"Topic28\", \"Topic28\", \"Topic28\", \"Topic28\", \"Topic28\", \"Topic28\", \"Topic28\", \"Topic28\", \"Topic29\", \"Topic29\", \"Topic29\", \"Topic29\", \"Topic29\", \"Topic29\", \"Topic29\", \"Topic29\", \"Topic29\", \"Topic29\", \"Topic29\", \"Topic29\", \"Topic29\", \"Topic29\", \"Topic29\", \"Topic29\", \"Topic29\", \"Topic29\", \"Topic29\", \"Topic29\", \"Topic29\", \"Topic29\", \"Topic29\", \"Topic29\", \"Topic29\", \"Topic29\", \"Topic29\", \"Topic29\", \"Topic29\", \"Topic29\", \"Topic29\", \"Topic29\", \"Topic29\", \"Topic29\", \"Topic29\", \"Topic29\", \"Topic29\", \"Topic29\", \"Topic29\", \"Topic29\", \"Topic29\", \"Topic29\", \"Topic29\", \"Topic29\", \"Topic29\", \"Topic29\", \"Topic29\", \"Topic29\", \"Topic29\", \"Topic29\", \"Topic29\", \"Topic29\", \"Topic30\", \"Topic30\", \"Topic30\", \"Topic30\", \"Topic30\", \"Topic30\", \"Topic30\", \"Topic30\", \"Topic30\", \"Topic30\", \"Topic30\", \"Topic30\", \"Topic30\", \"Topic30\", \"Topic30\", \"Topic30\", \"Topic30\", \"Topic30\", \"Topic30\", \"Topic30\", \"Topic30\", \"Topic30\", \"Topic30\", \"Topic30\", \"Topic30\", \"Topic30\", \"Topic30\", \"Topic30\", \"Topic30\", \"Topic30\", \"Topic30\", \"Topic30\", \"Topic30\", \"Topic30\", \"Topic30\", \"Topic30\", \"Topic30\", \"Topic30\", \"Topic30\", \"Topic30\", \"Topic30\", \"Topic30\", \"Topic30\", \"Topic30\", \"Topic30\", \"Topic30\", \"Topic30\"], \"Freq\": [5308.0, 6239.0, 3985.0, 3886.0, 3778.0, 4584.0, 8348.0, 3958.0, 3094.0, 1705.0, 3608.0, 8547.0, 12327.0, 2545.0, 1960.0, 1494.0, 2347.0, 1812.0, 1403.0, 1488.0, 3506.0, 3292.0, 1965.0, 2511.0, 2093.0, 3413.0, 1626.0, 1942.0, 820.0, 2572.0, 137.66481018066406, 488.6983337402344, 83.62953186035156, 51.58119201660156, 41.004150390625, 50.514991760253906, 27.753524780273438, 22.300716400146484, 23.60344123840332, 20.059131622314453, 13.864705085754395, 9.638782501220703, 330.1980895996094, 19.810327529907227, 210.31175231933594, 23.30731201171875, 64.9490737915039, 38.16713333129883, 12.665668487548828, 20.490629196166992, 83.88850402832031, 16.226295471191406, 0.11158588528633118, 0.11158588528633118, 0.11158588528633118, 0.11158588528633118, 0.11158588528633118, 0.11158588528633118, 0.11158588528633118, 0.11158588528633118, 0.11158588528633118, 176.75619506835938, 0.11158588528633118, 0.11158588528633118, 0.11158588528633118, 0.11158588528633118, 6.84377908706665, 0.11158588528633118, 4.031537055969238, 41.502540588378906, 0.11158588528633118, 83.86568450927734, 14.936393737792969, 22.590028762817383, 52.74593734741211, 13.637083053588867, 360.0443420410156, 662.769775390625, 94.87194061279297, 42.134342193603516, 40.538108825683594, 27.874120712280273, 16.88235855102539, 12.484427452087402, 19.49677276611328, 11.035052299499512, 62.36326599121094, 9.188631057739258, 8.396512985229492, 7.872194290161133, 7.622747898101807, 7.255016326904297, 6.342294216156006, 53.66291427612305, 61.07884979248047, 5.454906940460205, 4.774477005004883, 3.9681668281555176, 82.21167755126953, 2.5431723594665527, 32.58729553222656, 2.0455100536346436, 55.03388595581055, 1091.188720703125, 44.047752380371094, 1.4420051574707031, 78.34931182861328, 24.010929107666016, 85.2854995727539, 97.5554428100586, 167.18431091308594, 46.50913619995117, 26.354141235351562, 23.506181716918945, 16.02776336669922, 11.488163948059082, 11.97426986694336, 11.369247436523438, 164.6135711669922, 106.43962860107422, 160.7330780029297, 68.95020294189453, 84.42347717285156, 68.34954071044922, 53.43360900878906, 63.239051818847656, 32.45624923706055, 31.067951202392578, 29.141586303710938, 28.343231201171875, 34.7322883605957, 25.45368194580078, 25.169710159301758, 23.92336654663086, 44.847633361816406, 22.903472900390625, 62.869571685791016, 14.882691383361816, 14.742077827453613, 50.056949615478516, 19.670236587524414, 11.397093772888184, 146.76673889160156, 9.17534351348877, 8.868054389953613, 8.545090675354004, 19.66140365600586, 7.855682373046875, 196.1294403076172, 398.36920166015625, 65.74413299560547, 30.172069549560547, 33.7169189453125, 1188.2088623046875, 139.9532012939453, 454.28704833984375, 230.701171875, 117.53874206542969, 60.12815856933594, 50.59922790527344, 84.05847930908203, 50.145042419433594, 52.38869857788086, 47.873382568359375, 49.03563690185547, 39.27675247192383, 35.13719177246094, 59.06187057495117, 93.14082336425781, 28.41021156311035, 24.547895431518555, 23.743045806884766, 20.693492889404297, 36.09172058105469, 30.381778717041016, 18.102285385131836, 17.773727416992188, 141.7321319580078, 16.145299911499023, 54.88736343383789, 13.330520629882812, 16.8251895904541, 12.030474662780762, 11.518792152404785, 11.206130981445312, 8.12868595123291, 7.660681247711182, 7.387688636779785, 109.27908325195312, 6.724956512451172, 6.6937479972839355, 6.617713451385498, 5.417236804962158, 279.97076416015625, 5.036046504974365, 3.568079948425293, 16.834352493286133, 1356.1619873046875, 104.56758880615234, 71.37491607666016, 16.856298446655273, 158.69479370117188, 80.92185974121094, 103.5213623046875, 16.528121948242188, 46.75531768798828, 33.18357849121094, 31.43490219116211, 29.92841148376465, 20.42094612121582, 18.219316482543945, 226.75094604492188, 595.999755859375, 328.11248779296875, 155.3047332763672, 266.9349365234375, 3668.39990234375, 3868.00146484375, 573.1055297851562, 237.2667694091797, 123.66181182861328, 382.3725891113281, 126.12661743164062, 59.86956024169922, 63.01998519897461, 465.66717529296875, 117.54660034179688, 130.933837890625, 58.951637268066406, 55.3922119140625, 52.978729248046875, 91.66895294189453, 45.886558532714844, 49.604454040527344, 113.25885009765625, 45.393341064453125, 109.8874740600586, 96.98330688476562, 811.3660888671875, 28.2684326171875, 25.323833465576172, 126.73163604736328, 151.55064392089844, 461.22442626953125, 695.066162109375, 353.5727844238281, 388.6785888671875, 850.8656616210938, 396.7131042480469, 534.4445190429688, 70.96644592285156, 90.79119873046875, 119.79070281982422, 90.60711669921875, 56.15161895751953, 54.020790100097656, 50.58369827270508, 41.06264114379883, 34.46407699584961, 32.84873580932617, 48.30575180053711, 19.463417053222656, 18.432044982910156, 102.35942840576172, 36.566402435302734, 13.959983825683594, 50.1274299621582, 195.0840606689453, 34.70039367675781, 8.40798282623291, 31.388914108276367, 35.57857894897461, 116.95556640625, 4.05412483215332, 5.657351970672607, 4.1011857986450195, 43.360416412353516, 511.355224609375, 112.10713195800781, 446.95806884765625, 1.4101264476776123, 14.19808578491211, 55.71234130859375, 878.4219360351562, 329.7441711425781, 138.35675048828125, 497.5516662597656, 337.53350830078125, 50.847251892089844, 60.91972351074219, 59.77429962158203, 94.47576141357422, 60.43373489379883, 46.89085388183594, 37.371742248535156, 37.55007553100586, 37.37513732910156, 627.525634765625, 388.0764465332031, 1115.5809326171875, 305.75042724609375, 247.2362060546875, 244.2294464111328, 208.60548400878906, 152.46185302734375, 117.96639251708984, 112.43740844726562, 106.40335845947266, 52.97488021850586, 129.6860809326172, 47.372032165527344, 38.52592086791992, 38.10859298706055, 37.37775421142578, 37.44218444824219, 33.24449157714844, 33.60517120361328, 28.767044067382812, 29.038631439208984, 24.53827476501465, 23.909969329833984, 27.108327865600586, 20.853567123413086, 19.322452545166016, 103.96309661865234, 18.02264976501465, 19.209619522094727, 2987.47265625, 147.04808044433594, 869.2368774414062, 73.05289459228516, 929.6981811523438, 603.7308349609375, 602.5513916015625, 693.4141235351562, 72.76017761230469, 1583.943603515625, 326.6685485839844, 386.5021057128906, 85.31394958496094, 142.8644256591797, 162.82461547851562, 200.95494079589844, 316.9762878417969, 246.4314727783203, 182.00328063964844, 137.10665893554688, 106.55780792236328, 124.46788787841797, 364.209716796875, 75.34796142578125, 79.65164184570312, 220.5457000732422, 75.04886627197266, 82.3521957397461, 47.77691650390625, 41.55704879760742, 37.72834014892578, 23.32680320739746, 21.544248580932617, 10.293340682983398, 84.2267837524414, 33.86054992675781, 4.485946178436279, 171.78579711914062, 23.853635787963867, 163.3368682861328, 179.76951599121094, 222.01998901367188, 158.29052734375, 15.688214302062988, 136.83004760742188, 166.56643676757812, 142.92840576171875, 14.128656387329102, 28.85909080505371, 40.396907806396484, 649.513671875, 421.2010803222656, 680.8975219726562, 268.1686706542969, 484.0948791503906, 912.6007080078125, 127.6280517578125, 265.5760498046875, 384.2297668457031, 100.2244644165039, 141.6437530517578, 247.9344482421875, 96.40019226074219, 78.9449462890625, 81.0002670288086, 57.333587646484375, 55.417274475097656, 55.25880432128906, 113.63700103759766, 48.77653503417969, 36.66898727416992, 31.511430740356445, 40.838069915771484, 44.24783706665039, 29.442079544067383, 73.33077239990234, 26.874114990234375, 24.040163040161133, 22.90044593811035, 21.59054183959961, 21.1803035736084, 25.426250457763672, 19.644224166870117, 12.907777786254883, 36.71583938598633, 12.437338829040527, 12.299023628234863, 11.18179988861084, 1127.1951904296875, 83.74555206298828, 42.9932975769043, 6.958024501800537, 6.020023822784424, 5.959367275238037, 22.59517478942871, 206.6825408935547, 117.38884735107422, 175.41331481933594, 677.0333862304688, 1752.8463134765625, 150.5308380126953, 68.42340850830078, 299.8852233886719, 145.11843872070312, 349.7622985839844, 286.2721252441406, 175.5721435546875, 56.98377990722656, 52.37765121459961, 67.27983093261719, 63.87944030761719, 53.212127685546875, 67.34673309326172, 73.08966827392578, 51.48151779174805, 51.74600601196289, 52.737693786621094, 35.031982421875, 42.295162200927734, 30.059467315673828, 24.703500747680664, 24.670257568359375, 19.11775779724121, 79.91285705566406, 14.996636390686035, 12.276433944702148, 28.506389617919922, 11.403362274169922, 21.781246185302734, 863.4873046875, 150.95887756347656, 6.042953968048096, 5.267401218414307, 3.8136167526245117, 293.10125732421875, 2.2470462322235107, 3.6361489295959473, 17.87096405029297, 113.57160186767578, 0.1579235941171646, 0.15792198479175568, 0.13412338495254517, 258.6420593261719, 11.075748443603516, 182.45700073242188, 58.64835739135742, 33.80207824707031, 28.22062110900879, 34.26417541503906, 16.80203628540039, 18.272808074951172, 14.688286781311035, 130.31082153320312, 155.26776123046875, 463.2208557128906, 236.00758361816406, 82.67476654052734, 85.33916473388672, 137.50741577148438, 163.86605834960938, 63.839481353759766, 53.856754302978516, 41.610774993896484, 198.51834106445312, 98.75448608398438, 34.318260192871094, 25.151805877685547, 26.70528221130371, 170.32041931152344, 22.503215789794922, 22.167667388916016, 15.087714195251465, 142.81320190429688, 10.717194557189941, 11.458107948303223, 10.191308975219727, 390.0489196777344, 9.283867835998535, 87.49542236328125, 8.522985458374023, 8.390869140625, 8.187565803527832, 1371.388916015625, 122.8744125366211, 92.38304138183594, 1409.12841796875, 240.63157653808594, 1765.923583984375, 219.71519470214844, 362.0954284667969, 1280.1112060546875, 485.5216979980469, 572.7604370117188, 272.6441345214844, 1848.3006591796875, 705.5511474609375, 323.7246398925781, 666.8087768554688, 1176.4188232421875, 341.1352233886719, 717.4554443359375, 439.28045654296875, 258.2812805175781, 165.578369140625, 139.6278533935547, 92.62142944335938, 84.90147399902344, 64.4815673828125, 45.326637268066406, 34.47975540161133, 32.85165023803711, 32.435394287109375, 29.835716247558594, 149.35671997070312, 35.93466567993164, 26.999170303344727, 26.848209381103516, 66.5345458984375, 24.890859603881836, 24.13009262084961, 21.016233444213867, 20.3499698638916, 19.337045669555664, 16.608863830566406, 24.437307357788086, 15.523897171020508, 15.394803047180176, 14.961523056030273, 118.08858489990234, 153.543212890625, 11.476428985595703, 217.6397705078125, 6.85068941116333, 20.735523223876953, 59.52071762084961, 271.24224853515625, 181.59873962402344, 861.4758911132812, 109.15535736083984, 215.27418518066406, 33.4399528503418, 41.66626739501953, 140.48109436035156, 114.3989486694336, 81.40377044677734, 48.174190521240234, 56.16780471801758, 39.75397872924805, 33.35760498046875, 30.392271041870117, 92.49446105957031, 68.85120391845703, 47.818206787109375, 35.30943298339844, 22.086910247802734, 20.876890182495117, 18.423480987548828, 22.131900787353516, 20.598587036132812, 62.158302307128906, 175.0235137939453, 440.7054443359375, 8.45898151397705, 6.982324123382568, 5.846856594085693, 451.736572265625, 5.0704522132873535, 4.987417221069336, 1229.489501953125, 2.989943504333496, 171.34640502929688, 0.8431218266487122, 41.737648010253906, 59.88282012939453, 1.6750982999801636, 75.50206756591797, 271.5791015625, 468.56085205078125, 93.53370666503906, 0.11267589777708054, 47.529422760009766, 20.086519241333008, 7.29005241394043, 6.275731563568115, 140.73779296875, 82.40605926513672, 123.50406646728516, 277.474609375, 46.81947708129883, 39.992061614990234, 35.2034797668457, 94.38703918457031, 34.229618072509766, 29.270626068115234, 24.282367706298828, 25.110815048217773, 21.785615921020508, 20.670854568481445, 19.303144454956055, 31.14716148376465, 17.270910263061523, 16.660871505737305, 16.87445640563965, 13.525492668151855, 6.685421943664551, 6.017956256866455, 48.691062927246094, 14.514022827148438, 6.709319114685059, 2.2461001873016357, 22.424745559692383, 1.100994348526001, 1.3307663202285767, 90.80381774902344, 128.95437622070312, 28.465818405151367, 135.25936889648438, 60.959842681884766, 99.32563781738281, 48.1084098815918, 64.3204574584961, 41.63845443725586, 42.660064697265625, 377.0437927246094, 170.13067626953125, 112.72541809082031, 140.25418090820312, 1427.142578125, 117.71961975097656, 69.62335968017578, 88.533203125, 90.97693634033203, 82.14407348632812, 107.49276733398438, 54.44165802001953, 61.36643981933594, 49.321720123291016, 47.97394943237305, 46.86594772338867, 545.8616943359375, 43.2484016418457, 73.35275268554688, 42.34941864013672, 657.395263671875, 35.901153564453125, 32.9261589050293, 28.821115493774414, 26.759807586669922, 27.93536376953125, 34.642398834228516, 21.018579483032227, 19.496917724609375, 1504.9969482421875, 206.61036682128906, 111.0053939819336, 906.9219360351562, 630.9511108398438, 31.156661987304688, 77.23851776123047, 54.73708724975586, 106.52363586425781, 125.14366149902344, 86.7123031616211, 386.2488098144531, 323.16851806640625, 292.3821716308594, 45.237674713134766, 52.21449661254883, 35.10728454589844, 21.400604248046875, 615.7741088867188, 12.133841514587402, 31.383792877197266, 177.5816192626953, 11.616974830627441, 9.149604797363281, 8.857976913452148, 7.655179023742676, 388.255859375, 3.9871442317962646, 8.0988187789917, 1779.101318359375, 21.298839569091797, 1250.1820068359375, 128.59548950195312, 61.27409362792969, 15.254268646240234, 66.83198547363281, 5.267203330993652, 85.75593566894531, 37.866886138916016, 351.77825927734375, 53.18495178222656, 40.59131622314453, 47.25731658935547, 23.069841384887695, 59.41438674926758, 40.813167572021484, 18.111215591430664, 29.537012100219727, 234.04763793945312, 67.08883666992188, 45.00341033935547, 42.29002380371094, 29.060401916503906, 18.8491153717041, 15.891402244567871, 129.90481567382812, 15.631083488464355, 17.638898849487305, 41.06760787963867, 122.76085662841797, 7.266752243041992, 472.28778076171875, 5.567824840545654, 1900.8446044921875, 163.1031951904297, 51.99848175048828, 294.85711669921875, 8.217923164367676, 129.994140625, 444.6011962890625, 175.31167602539062, 17.080915451049805, 27.89939308166504, 392.0950927734375, 403.0345764160156, 1564.3858642578125, 312.6361999511719, 816.779296875, 1329.068603515625, 513.0877075195312, 87.34983825683594, 333.9839172363281, 144.9817657470703, 286.7034912109375, 42.69013595581055, 33.79621124267578, 38.992225646972656, 32.96859359741211, 49.88325881958008, 47.814857482910156, 42.640052795410156, 38.60784912109375, 36.310569763183594, 30.51399040222168, 30.165447235107422, 45.97715759277344, 39.97894287109375, 25.265071868896484, 57.61955642700195, 16.78316307067871, 16.13799285888672, 20.482940673828125, 13.35938835144043, 13.95140552520752, 15.726551055908203, 10.2753267288208, 8.150247573852539, 6.975910186767578, 33.139102935791016, 5.692260265350342, 18.767356872558594, 4.89370059967041, 3.3014841079711914, 3.0542335510253906, 3.010695219039917, 3.3286705017089844, 20.157787322998047, 34.06708908081055, 11.59885311126709, 26.241586685180664, 18.65361785888672, 12.299010276794434, 66.21197509765625, 46.93446731567383, 49.73054885864258, 81.47974395751953, 44.513916015625, 39.192344665527344, 32.39461135864258, 23.303428649902344, 22.419139862060547, 19.393260955810547, 238.55413818359375, 137.33212280273438, 139.45970153808594, 113.2823715209961, 75.12260437011719, 65.32366180419922, 65.83592987060547, 67.10112762451172, 45.18926239013672, 1377.2884521484375, 37.526039123535156, 57.24345016479492, 45.05964279174805, 28.974836349487305, 39.242713928222656, 26.803327560424805, 179.26300048828125, 22.865219116210938, 21.072978973388672, 24.709583282470703, 17.006366729736328, 15.348268508911133, 14.482592582702637, 13.468925476074219, 13.410717010498047, 13.007122039794922, 12.620623588562012, 72.21148681640625, 14.548944473266602, 106.36039733886719, 51.671878814697266, 1196.3485107421875, 123.50462341308594, 148.01693725585938, 101.98062896728516, 53.89508056640625, 112.06969451904297, 34.96747589111328, 40.80652618408203, 60.76495361328125, 57.8225212097168, 186.33753967285156, 108.36529541015625, 662.9566040039062, 113.1092529296875, 85.65831756591797, 97.62512969970703, 42.22776794433594, 47.442955017089844, 29.14440155029297, 28.257787704467773, 25.700111389160156, 26.708972930908203, 23.837160110473633, 14.663589477539062, 22.25584602355957, 12.568822860717773, 19.07715606689453, 11.363285064697266, 10.904008865356445, 11.3983154296875, 59.353275299072266, 8.991071701049805, 8.786155700683594, 8.449356079101562, 7.759479999542236, 7.6926679611206055, 68.77276611328125, 33.733497619628906, 99.00271606445312, 5.656140327453613, 103.20708465576172, 1079.9473876953125, 117.85176086425781, 405.08367919921875, 129.01800537109375, 22.38412857055664, 243.4397430419922, 95.03121948242188, 23.35779571533203, 41.88639831542969, 28.982892990112305, 131.95562744140625, 87.38360595703125, 69.63052368164062, 33.44129943847656, 37.09039306640625, 28.739234924316406, 88.8289794921875, 72.69334411621094, 53.49369812011719, 48.70930862426758, 57.996150970458984, 107.72360229492188, 45.71530532836914, 497.03607177734375, 35.885738372802734, 31.340669631958008, 31.298625946044922, 36.53255081176758, 111.54540252685547, 60.86329650878906, 16.799806594848633, 18.98748016357422, 16.240148544311523, 14.611321449279785, 11.64486312866211, 97.79888916015625, 10.0086088180542, 7.791310787200928, 6.944738864898682, 6.121574878692627, 5.640377521514893, 10.330594062805176, 4.680575370788574, 4.161745548248291, 270.03912353515625, 10.639793395996094, 1540.642822265625, 187.86070251464844, 56.81492614746094, 141.4072723388672, 69.85259246826172, 82.6341552734375, 48.2924690246582, 89.61527252197266, 44.31821060180664, 42.76203918457031, 51.14004135131836, 46.72391891479492, 655.2947998046875, 38.190818786621094, 32.497623443603516, 27.132972717285156, 26.903852462768555, 20.740694046020508, 17.299333572387695, 16.337642669677734, 20.05364227294922, 15.79926872253418, 13.37482738494873, 14.150047302246094, 12.118614196777344, 11.906905174255371, 8.532058715820312, 8.04090404510498, 7.867444038391113, 7.5167927742004395, 6.680727005004883, 5.777875900268555, 4.131783485412598, 4.269203186035156, 3.434659004211426, 2.8495049476623535, 2.452294111251831, 2.3828935623168945, 2.296490430831909, 1.5181525945663452, 207.3494873046875, 13.080381393432617, 248.46487426757812, 196.7383575439453, 219.0632781982422, 94.5488510131836, 89.15751647949219, 25.861717224121094, 21.144786834716797, 17.429506301879883, 19.359352111816406, 15.557939529418945, 16.599109649658203, 11.743363380432129, 8.96673583984375, 9.299540519714355, 802.4649658203125, 1658.8287353515625, 35.18626403808594, 29.887435913085938, 68.85870361328125, 29.946378707885742, 34.852561950683594, 20.122817993164062, 191.2051239013672, 20.38518524169922, 18.134864807128906, 11.504071235656738, 8.84616756439209, 6.954349994659424, 5.636468887329102, 6.886834144592285, 376.4400329589844, 3.759110689163208, 283.79608154296875, 72.68135833740234, 0.27668651938438416, 0.11886661499738693, 0.10065322369337082, 0.10065322369337082, 0.10065322369337082, 0.10065322369337082, 0.10065322369337082, 0.10065322369337082, 0.10065322369337082, 0.10065322369337082, 1.6631145477294922, 12.40401554107666, 0.10065322369337082, 0.38197043538093567, 147.27996826171875, 45.6629753112793, 0.10065322369337082, 48.73614501953125, 51.633338928222656, 0.10065322369337082, 37.22793960571289, 2.169201374053955, 61.446407318115234, 72.03839111328125, 22.56902313232422, 14.065102577209473, 9.20057487487793, 376.0722961425781, 178.73818969726562, 832.6380615234375, 887.8428955078125, 475.62030029296875, 237.25157165527344, 82.91944885253906, 117.83170318603516, 85.35652160644531, 689.2500610351562, 506.6351013183594, 62.697914123535156, 75.746337890625, 62.25307846069336, 51.49042892456055, 62.80887222290039, 47.64506149291992, 53.44011688232422, 37.81057357788086, 44.92433547973633, 539.7427368164062, 35.28626251220703, 38.28916549682617, 36.1295280456543, 27.517702102661133, 25.998279571533203, 22.072704315185547, 20.350217819213867, 20.029024124145508, 17.506423950195312, 974.8928833007812, 29.225215911865234, 1349.4505615234375, 373.5910949707031, 449.30718994140625, 82.97283172607422, 83.42381286621094, 272.17852783203125, 484.0989074707031, 405.0060119628906, 326.89105224609375, 49.90045928955078, 209.9718780517578, 147.53997802734375, 86.69363403320312, 109.42387390136719, 57.865421295166016, 69.2334976196289, 173.6101837158203, 51.707706451416016, 37.31324768066406, 45.37293243408203, 32.471588134765625, 29.89261817932129, 28.314550399780273, 30.54169464111328, 23.922883987426758, 33.93985366821289, 67.87025451660156, 20.304462432861328, 110.89859008789062, 16.402708053588867, 27.94487762451172, 60.37568283081055, 6.721401691436768, 20.133670806884766, 21.935720443725586, 4.556327819824219, 3.7872140407562256, 4.695217132568359, 104.22887420654297, 2.885643720626831, 39.86771774291992, 536.6589965820312, 215.02362060546875, 338.70745849609375, 40.528419494628906, 68.00262451171875, 101.9276123046875, 53.611480712890625, 25.825908660888672, 28.508535385131836, 120.90206909179688, 61.40960693359375, 39.90249252319336, 39.96026611328125, 38.77680969238281, 42.99909973144531, 100.4877700805664, 28.51052474975586, 24.19232749938965, 18.029916763305664, 15.273799896240234, 36.2125358581543, 138.1127166748047, 85.77494049072266, 11.37018871307373, 7.456123352050781, 6.981103897094727, 428.4226379394531, 223.1125946044922, 41.09392166137695, 214.73370361328125, 22.2972354888916, 65.48328399658203, 20.289993286132812, 294.7403259277344, 9.956048011779785, 130.4296112060547, 1063.855224609375, 469.861328125, 253.2029571533203, 58.787837982177734, 1512.836669921875, 133.8942108154297, 121.5842514038086, 1206.4835205078125, 375.4744567871094, 191.99989318847656, 249.9626922607422, 198.1009521484375, 231.3800048828125, 115.04137420654297, 235.96229553222656, 168.60255432128906, 149.52822875976562, 84.4404296875, 119.4080581665039, 66.02079010009766, 73.95873260498047, 55.86655044555664, 33.00669479370117, 33.946266174316406, 34.51538848876953, 19.961332321166992, 18.130504608154297, 23.915361404418945, 15.499795913696289, 15.247903823852539, 14.427813529968262, 15.863625526428223, 13.581208229064941, 68.72455596923828, 88.41587829589844, 12.142974853515625, 11.397269248962402, 58.79695129394531, 24.611621856689453, 172.1709442138672, 9.37463092803955, 213.79803466796875, 283.2593078613281, 7.5138068199157715, 7.767453670501709, 7.286289215087891, 7.971861362457275, 5.540661334991455, 6.23544979095459, 5.017819881439209, 1930.06396484375, 245.10545349121094, 169.0863494873047, 14.481338500976562, 237.72479248046875, 328.8616943359375, 349.108642578125, 65.54283142089844, 51.821041107177734, 73.06275177001953, 51.8765754699707, 56.25264358520508, 43.00676727294922, 28.363988876342773, 35.38233184814453, 18.807376861572266, 22.84160614013672, 74.94412231445312, 55.10167694091797, 43.74062728881836, 42.482704162597656, 40.21915054321289, 35.365447998046875, 74.89508056640625, 24.166866302490234, 73.860595703125, 195.90293884277344, 241.72836303710938, 19.900558471679688, 21.760427474975586, 283.9577331542969, 422.5189514160156, 15.114557266235352, 14.704227447509766, 15.506640434265137, 90.01058959960938, 12.63027286529541, 12.095244407653809, 37.421607971191406, 41.12537384033203, 20.456195831298828, 11.832525253295898, 12.617777824401855, 114.33391571044922, 15.900650978088379, 9.427374839782715, 38.36463165283203, 3144.853515625, 1060.0517578125, 214.59422302246094, 36.2681770324707, 346.80035400390625, 466.62335205078125, 70.89833068847656, 285.309814453125, 93.80769348144531, 66.34618377685547, 327.9496154785156, 203.738037109375, 52.035369873046875, 131.326416015625, 68.6047134399414, 59.812110900878906, 123.6299819946289, 91.18541717529297, 76.00012969970703, 68.94215393066406, 61.027748107910156, 85.97626495361328, 76.985595703125, 41.2383918762207, 33.8535270690918, 33.344051361083984, 61.50626754760742, 25.836692810058594, 24.445636749267578, 23.956037521362305, 347.3747863769531, 18.74871826171875, 19.431339263916016, 17.808095932006836, 16.254898071289062, 15.741247177124023, 17.798768997192383, 16.713176727294922, 13.818885803222656, 13.625317573547363, 11.706128120422363, 26.31269645690918, 8.631109237670898, 81.16902160644531, 16.948205947875977, 160.27346801757812, 143.8513946533203, 115.5558853149414, 461.1010437011719, 1215.1009521484375, 556.3031005859375, 136.37916564941406, 233.5861053466797, 450.23150634765625, 413.1217346191406, 78.64434814453125, 1177.0050048828125, 111.22137451171875, 200.17083740234375, 501.70184326171875, 357.74639892578125, 239.53955078125, 176.24974060058594, 233.54678344726562, 262.164306640625, 268.4395446777344, 82.33108520507812, 99.98667907714844, 209.85089111328125, 32.686729431152344, 27.55644416809082, 27.00006866455078, 20.335895538330078, 26.483518600463867, 10.301236152648926, 222.22750854492188, 16.742937088012695, 3.2541608810424805, 97.87787628173828, 17.685482025146484, 89.3241195678711, 35.22370910644531, 61.55207824707031, 0.47824835777282715, 48.0481071472168, 5.722648620605469, 28.26943588256836, 31.937679290771484, 0.167467400431633, 296.37286376953125, 0.12796273827552795, 0.12796273827552795, 0.12796273827552795, 0.12796273827552795, 0.12796273827552795, 0.12796273827552795, 0.12796273827552795, 0.12796273827552795, 32.933048248291016, 2.4582808017730713, 24.41727638244629, 0.12796273827552795, 0.12796273827552795, 20.9006404876709, 11.865081787109375, 0.12796273827552795, 0.12796273827552795, 39.56831359863281, 1.3592021465301514, 0.12796273827552795, 12.317501068115234, 3.4050464630126953, 9.986023902893066, 19.656326293945312, 8.700621604919434], \"Term\": [\"pizza\", \"sandwiches\", \"sushi\", \"breakfast\", \"maki\", \"drinks\", \"side_dishes\", \"noodles\", \"salads\", \"seafood\", \"soups\", \"chicken_dishes\", \"appetizers\", \"combos\", \"pasta\", \"desserts\", \"curries\", \"burritos\", \"beef_dishes\", \"tacos\", \"chicken_entree\", \"wings\", \"cheese_pizza\", \"rice_entree\", \"fried_rice\", \"rice_dishes\", \"french_fries\", \"burgers\", \"fish\", \"dumplings\", \"pork_entree\", \"pork_dishes\", \"pita\", \"pork_chop\", \"rib_tips\", \"short_rib\", \"avocado_salads\", \"daily_specials\", \"beef_short_rib\", \"gyro_pita\", \"breadstick\", \"seafood_soup\", \"steak\", \"barbecue_rib\", \"ribs\", \"chicharron_de_pollo\", \"gyro\", \"special_dishes\", \"tofu_dishes\", \"hummus\", \"bread_varieties\", \"mixed_green_salads\", \"angel_roll\", \"floats\", \"frittata\", \"omelette_sandwich\", \"souvlaki_pita\", \"tart\", \"vegetable_cream_cheese\", \"capellini\", \"shrimp_avocado_roll\", \"chicken_dishes\", \"samosa_chaat\", \"rice_cake\", \"rock_roll\", \"chicken_scallopini\", \"shake\", \"plain_fried_rice\", \"milkshake\", \"salads\", \"skimmed_milk\", \"side_dishes\", \"french_fries\", \"wings\", \"appetizers\", \"soups\", \"ramen\", \"noodle_soup\", \"milk\", \"almond_milk\", \"combo_meal\", \"fruit_salads\", \"chow_fun\", \"grilled_chicken_wrap\", \"pork_pot_sticker\", \"fried_gyoza\", \"chicken_noodle_soup\", \"tempura_udon\", \"lunch_combos\", \"fruit_salad\", \"burrito_suizo\", \"santa_fe_salad\", \"spinach_salads\", \"tofu_dishes\", \"chicken_teriyaki\", \"tomato_pizza\", \"chicken_noodle\", \"bison_burger\", \"teriyaki_entree\", \"spaghettini\", \"vegetable_dumpling\", \"ham_steak\", \"dim_sum\", \"soups\", \"queso\", \"grilled_meat\", \"gyoza\", \"shumai\", \"dumplings\", \"rice_dishes\", \"appetizers\", \"noodles\", \"salads\", \"chicken_dishes\", \"side_dishes\", \"edamame\", \"spring_rolls\", \"rice_entree\", \"chicken_shawarma\", \"taquitos\", \"falafel\", \"katsu\", \"steak_taco\", \"fish_taco\", \"super_burrito\", \"chicken_shawarma_sandwich\", \"tamale\", \"chicken_breast_kebab\", \"enchilada_combo\", \"beef_shawarma\", \"duck_dishes\", \"chicken_katsu\", \"duck_entree\", \"tacos_dorado\", \"gyro_wrap\", \"enchilada_suizas\", \"pretzel\", \"chipotle_chicken\", \"chive_dumpling\", \"lentil_soup\", \"falafel_wrap\", \"peking_duck\", \"hummus\", \"falafel_pita\", \"saganaki\", \"sweet_potato\", \"fountain_drinks\", \"shish_taouk\", \"chicken_tenders\", \"fries\", \"shish_kebab\", \"shawarma\", \"chicken_shish_kebab\", \"appetizers\", \"kebab\", \"chicken_dishes\", \"chicken_entree\", \"burgers\", \"gyro\", \"chicken_kebab\", \"combos\", \"tacos\", \"sandwiches\", \"wings\", \"side_dishes\", \"soups\", \"nachos\", \"traditional_wings\", \"chicken_caesar_salads\", \"salmon_salads\", \"chicken_cobb_salad\", \"chicken_skewer\", \"mixed_grill\", \"classic_caesar_salad\", \"grilled_chicken_caesar_salad\", \"philly_sub\", \"green_smoothie\", \"cobb_salads\", \"bisque\", \"fish_salads\", \"baklava\", \"broccoli\", \"mesclun\", \"meatball_sub\", \"chicken_parmesan_sandwich\", \"chicken_marsala\", \"brie_sandwich\", \"white_pie\", \"chicken_salads\", \"chicken_breast_salad\", \"couscous\", \"jasmine_white_rice\", \"tomato_bisque\", \"caesar_salads\", \"veggie_egg_roll\", \"dolma\", \"tiramisu\", \"salads\", \"mixed_green_salads\", \"greek_salad\", \"garden_salad\", \"chicken_dishes\", \"sandwiches\", \"appetizers\", \"chicken_satay\", \"chicken_entree\", \"wings\", \"rice_dishes\", \"side_dishes\", \"subs\", \"burgers\", \"salmon_roll\", \"tuna_roll\", \"shrimp_tempura_roll\", \"rainbow_roll\", \"special_rolls\", \"maki\", \"sushi\", \"california_roll\", \"salmon_avocado_roll\", \"philadelphia_roll\", \"miso_soup\", \"bento\", \"beef_kebab\", \"alaskan_roll\", \"edamame\", \"sashimi\", \"temaki\", \"godzilla_roll\", \"nigiri\", \"tempura\", \"yellowtail\", \"spicy_tuna_roll\", \"eel\", \"crunchy_roll\", \"avocado_roll\", \"tempura_entree\", \"shrimp_tempura\", \"tuna\", \"eel_avocado_roll\", \"tuna_avocado_roll\", \"avocado\", \"shumai\", \"gyoza\", \"salmon\", \"shrimp\", \"dumplings\", \"appetizers\", \"soups\", \"side_dishes\", \"teriyaki_entree\", \"rice_dishes\", \"waffle\", \"granola\", \"avocado_sandwich\", \"bacon_cheeseburger\", \"pudding\", \"lox\", \"fish_tacos\", \"prosciutto\", \"lemonade\", \"italian_hoagie\", \"belgian_waffle\", \"vegetarian_sandwiches\", \"hoagie\", \"pelmeni\", \"tossed_salads\", \"cheeseburgers\", \"snapple\", \"ranch_wrap\", \"bacon_sandwich\", \"breakfast_wrap\", \"egg_sandwiches\", \"egg_wrap\", \"mixed_salad\", \"smoked_turkey_sandwich\", \"bottled_soda\", \"soft_drinks\", \"egg_dishes\", \"soda\", \"rice_pudding\", \"beef_burger\", \"ice_coffee\", \"drinks\", \"burgers\", \"coffee\", \"sandwiches\", \"breakfast\", \"omelettes\", \"subs\", \"wraps\", \"side_dishes\", \"salads\", \"appetizers\", \"hamburgers\", \"french_fries\", \"combos\", \"pad_see\", \"rice_noodles\", \"pad_thai\", \"drunken_noodle\", \"green_curries\", \"yellow_curry\", \"panang_curry\", \"thai_fried_rice\", \"lobster\", \"pineapple_fried_rice\", \"red_curries\", \"massaman_curry\", \"crispy_spring_roll\", \"thai_spring_roll\", \"tom_kha_soup\", \"tom_yum_soup\", \"spicy_noodle\", \"spicy_basil_fried_rice\", \"satay\", \"thai_dumpling\", \"coconut_soup\", \"veggie_roll\", \"chicken_pad_thai\", \"pizza_roll\", \"fried_rice_dinner\", \"spicy_fried_rice\", \"coconut_curry\", \"chicken_satay\", \"broad_noodle\", \"prawn\", \"noodles\", \"ice_tea\", \"spring_rolls\", \"summer_roll\", \"curries\", \"fried_rice\", \"rice_entree\", \"rice_dishes\", \"potsticker\", \"appetizers\", \"egg_roll\", \"crab_rangoon\", \"vegetable_spring_roll\", \"pot_sticker\", \"tea\", \"rangoon\", \"dumplings\", \"soups\", \"side_dishes\", \"drinks\", \"croissants\", \"boneless_ribs\", \"pho\", \"banh_mi\", \"beef_noodle_soup\", \"chicken_combos\", \"pho_tai\", \"general_tso_chicken_combo\", \"pulled_pork_sandwiches\", \"sesame_chicken_combo\", \"rib_combo\", \"shrimp_spring_roll\", \"pierogi\", \"tzatzikif\", \"fresh_spring_roll\", \"shrimp_egg_roll\", \"borscht\", \"steamed_dumpling\", \"vermicelli\", \"dumpling_soup\", \"fried_chicken_wing\", \"fried_dumpling\", \"broccoli_chicken\", \"shrimp_roll\", \"wonton\", \"ribs\", \"wonton_soup\", \"barbecue_rib\", \"scallion_pancake\", \"pork_egg_roll\", \"dumplings\", \"spring_rolls\", \"soups\", \"egg_roll\", \"combos\", \"appetizers\", \"platter\", \"chicken_entree\", \"chicken_dishes\", \"pork_dumpling\", \"crab_rangoon\", \"side_dishes\", \"general_tso_chicken\", \"rangoon\", \"goi_cuon\", \"bacon_burger\", \"lamb_gyro\", \"ribeye_steak\", \"cheese_fries\", \"chicken_gyro\", \"crispy_chicken_sandwich\", \"gyro_combo\", \"chicken_cheesesteak\", \"souvlaki\", \"chicken_gyro_sandwich\", \"side_salads\", \"steak_stromboli\", \"fillet_mignon\", \"italian_beef_sandwich\", \"beef_gyro\", \"cutlet\", \"chicken_souvlaki\", \"buffalo_chicken_cheesesteak\", \"zeppole\", \"sauces\", \"chicken_parmigiana_panini\", \"double_burger\", \"strawberry_smoothie\", \"french_fries\", \"classic_burger\", \"onion_rings\", \"poppers\", \"spinach\", \"ajiaco\", \"chicken_tender\", \"hamburgers\", \"chicken_sides\", \"gyro\", \"burgers\", \"side_dishes\", \"cheesesteak\", \"gyro_sandwich\", \"wings\", \"mozzarella_stick\", \"chicken_dishes\", \"sandwiches\", \"appetizers\", \"chicken_fingers\", \"steak\", \"combos\", \"drinks\", \"pizza\", \"soup_dumplings\", \"spare_rib\", \"curry_chicken\", \"sliders\", \"turkey_burgers\", \"veggie_juices\", \"ropa_vieja\", \"vaca_frita\", \"green_juice\", \"barbecue_pork_fried_rice\", \"lechon_asado\", \"churrascos\", \"sticky_rice\", \"cheese_roll\", \"chicken_enchilada\", \"bhaji\", \"arroz_con_pollo\", \"beef_dishes\", \"empanadas\", \"chicken_pita\", \"loco_moco\", \"shrimp_dumpling\", \"beef_entree\", \"mango_sticky_rice\", \"mediterranean_salad\", \"dim_sum\", \"burgers\", \"genoa_salami_sandwich\", \"hot_spicy_chicken\", \"chicken_sorrentino\", \"chicken_dishes\", \"hamburgers\", \"appetizers\", \"soups\", \"chicken_entree\", \"wings\", \"side_dishes\", \"desserts\", \"rice_dishes\", \"sandwiches\", \"hot_and_sour_soup\", \"shrimp_fried_rice\", \"orange_flavored_chicken\", \"chicken_fried_rice\", \"crab_cheese_wonton\", \"kung_pao_chicken\", \"mongolian_beef\", \"beef_broccoli\", \"fried_wonton\", \"chicken_chow_mein\", \"chicken_burger\", \"chicken_dinner\", \"specialty_burgers\", \"chicken_egg_roll\", \"singapore_rice_noodle\", \"beef_fried_rice\", \"chow_mein\", \"egg_drop\", \"lo_mein_noodle\", \"lemongrass_chicken\", \"pork_fried_rice\", \"salad_wraps\", \"general_chicken\", \"steakburger\", \"lo_mein\", \"rice_noodle\", \"chicken_lo_mein\", \"california_burger\", \"deluxe_sandwich\", \"sweet_and_sour\", \"fried_rice\", \"sweet_and_sour_chicken\", \"vegetable_egg_roll\", \"rice_entree\", \"pot_sticker\", \"rice_dishes\", \"wonton\", \"general_tso_chicken\", \"chicken_entree\", \"egg_roll\", \"crab_rangoon\", \"beef_entree\", \"chicken_dishes\", \"dumplings\", \"rangoon\", \"noodles\", \"appetizers\", \"beef_dishes\", \"side_dishes\", \"soups\", \"spring_rolls\", \"fried_dumpling\", \"wonton_soup\", \"miso_ramen\", \"pastrami_sandwich\", \"hash_brown\", \"hash\", \"scallop\", \"sancocho\", \"kids\", \"chorizos\", \"deli_sandwiches\", \"dessert_pie\", \"french_dip_sandwich\", \"beef_stew\", \"turkey_sandwiches\", \"chicken_steak\", \"steak_fry\", \"donburi\", \"tofu_soup\", \"patty_melt\", \"beef_soup\", \"italian_sub\", \"deluxe_burger\", \"pizza_puff\", \"corned_beef_sandwich\", \"philly_cheesesteak\", \"milkshake\", \"noodle_bowl\", \"shake\", \"scallop_roll\", \"ball_soup\", \"beef_sandwiches\", \"subs\", \"cheesesteak\", \"sandwiches\", \"classic_sandwiches\", \"drinks\", \"stew\", \"hero\", \"appetizers\", \"side_dishes\", \"soups\", \"fries\", \"burgers\", \"breakfast\", \"mozzarella_stick\", \"chicken_fingers\", \"grilled_beef\", \"carne_asada\", \"meat_combo\", \"shawarma_wrap\", \"sandwich_combos\", \"combo_sandwiches\", \"grain_salads\", \"fattoush_salad\", \"calamari\", \"cuban_sandwich\", \"chicken_kebab\", \"kebab\", \"angel_hair\", \"parrillada\", \"mozzarella_sandwiches\", \"platter\", \"roasted_turkey_sandwich\", \"chicken_parm_sandwich\", \"combos\", \"taboulli_salad\", \"wraps\", \"kebab_wrap\", \"gyro\", \"beef_entree\", \"italian_sub\", \"beef_dishes\", \"sandwiches\", \"appetizers\", \"salads\", \"fajita_burrito\", \"side_dishes\", \"rice_dishes\", \"soups\", \"chicken_dishes\", \"crepes\", \"brisket\", \"macaroni\", \"macaroni_and_cheese\", \"barbecue_chicken\", \"baby_back_ribs\", \"sweet_crepes\", \"fruit\", \"kale_salad\", \"pita_wrap\", \"ham_sandwiches\", \"scrambled_egg\", \"fried_ravioli\", \"buffalo_chicken_sandwich\", \"nutella_crepes\", \"fresh_fruit\", \"beef_rib\", \"thai_tea\", \"mashed_potato\", \"barbecue_chicken_salad\", \"cob\", \"dressings\", \"meat_lover_pizza\", \"avgolemono\", \"homemade_soup\", \"grilled_pork_chop\", \"ravioli\", \"california_salad\", \"pumpkin_curry\", \"ribs\", \"pasta\", \"mixed_green_salads\", \"breakfast\", \"burgers\", \"side_dishes\", \"wings\", \"chicken_dishes\", \"salads\", \"sandwiches\", \"enchiladas\", \"carne_asada_burrito\", \"carne_asada_taco\", \"guacamole\", \"tacos\", \"chicken_burritos\", \"al_pastor_taco\", \"chimichanga\", \"tortas\", \"fajitas\", \"chips_and_salsa\", \"taco_combo\", \"flautas\", \"pollo_taco\", \"shrimp_taco\", \"soft_taco\", \"nachos\", \"wet_burrito\", \"steak_burrito\", \"enchilada_verdes\", \"quesadillas\", \"peking_ravioli\", \"salsa\", \"cheese_quesadilla\", \"steak_quesadilla\", \"grilled_chicken_quesadilla\", \"rice_and_beans\", \"tostada\", \"chorizo_taco\", \"burritos\", \"chips\", \"queso\", \"appetizers\", \"side_dishes\", \"taco_salads\", \"combos\", \"drinks\", \"latte\", \"fruit_juices\", \"orange_juice\", \"smoothie\", \"juices\", \"bagel\", \"sweets\", \"bottled_water\", \"muffins\", \"colombian_coffee\", \"coffee\", \"cream_cheese_sandwich\", \"breakfast_specials\", \"ice_coffee\", \"fruit_smoothie\", \"avocado_wrap\", \"poland_spring\", \"turkey_melt\", \"tea\", \"apple_juice\", \"fountain_soda\", \"drinks\", \"breakfast_wrap\", \"breakfast\", \"toasts\", \"egg_sandwiches\", \"bacon_sandwich\", \"french_toast\", \"tuna_salad_sandwich\", \"egg_dishes\", \"special_dishes\", \"sandwiches\", \"pancakes\", \"omelettes\", \"wraps\", \"ice_tea\", \"side_dishes\", \"salads\", \"bacon\", \"burritos\", \"milk_tea\", \"pork_belly\", \"philly_steak\", \"sicilian_pizza\", \"sirloin_steak\", \"barbecue_pork_rib\", \"hero_sandwich\", \"plain_pizza\", \"chicken_parmesan_sub\", \"parmigiana_subs\", \"jalapeno_popper\", \"boneless_wings\", \"cavatelli\", \"buffalo_wing\", \"chicken_cutlet_sub\", \"wings\", \"chicken_fingers\", \"cheesesteak_sub\", \"fries\", \"chicken_parmigiana_sandwich\", \"chicken_tenders\", \"mozzarella_stick\", \"cheesesteak\", \"neapolitan_pizza\", \"bottled_soda\", \"soda\", \"soft_drinks\", \"chicken_dishes\", \"cheese_pizza\", \"pizza\", \"appetizers\", \"drinks\", \"subs\", \"sandwiches\", \"french_fries\", \"side_dishes\", \"meat_pizza\", \"calzones\", \"steak\", \"salads\", \"puffs\", \"garlic_chicken\", \"specialty_sandwich\", \"chocolate_chip_cookie\", \"garlic_noodle\", \"roast_beef_sandwich\", \"udon_noodle\", \"deep_dish_pizza\", \"curry_puff\", \"tagliatelle\", \"stir_fry\", \"arroz_chaufa\", \"chicken_pasta\", \"pan_pizza\", \"mei_fun\", \"canai\", \"vegetable_fried_rice\", \"pepperoni_roll\", \"egg_drop_soup\", \"chicken_parmigiana_sub\", \"house_fried_rice\", \"nasi_lemak\", \"coke\", \"pizza_combo\", \"bean_curd\", \"stuffed_pizza\", \"yang_chow_fried_rice\", \"vegetable_roll\", \"dinner_specials\", \"broccoli_dishes\", \"steamed_rice\", \"beef_patty\", \"special_dishes\", \"beef_sandwiches\", \"rice_dishes\", \"fried_rice\", \"rice_entree\", \"appetizers\", \"noodles\", \"chicken_dishes\", \"pizza\", \"beef_dishes\", \"wings\", \"side_dishes\", \"ice_creams\", \"donuts\", \"cookies\", \"pupusa\", \"meatball\", \"wing_combo\", \"cheesecakes\", \"pastries\", \"sundae\", \"desserts\", \"cheese_enchilada\", \"gnocchi\", \"fettuccine\", \"spaghetti_and_meatball\", \"chicken_parmesan\", \"linguini\", \"spaghetti\", \"frozen_yogurt\", \"ice_cream_sandwich\", \"pappardelle\", \"turkey_breast_sandwiches\", \"bagel_sandwich\", \"clam\", \"egg_salad_sandwich\", \"cannolis\", \"quiche\", \"chicken_club_sandwich\", \"rigatoni\", \"tortellini\", \"lasagna\", \"carbonara\", \"pasta\", \"fettuccine_alfredo\", \"parmigiana_and_parmesan_dishes\", \"penne\", \"chicken_parmigiana\", \"salads\", \"garlic_bread\", \"caesar_salads\", \"chicken_dishes\", \"side_dishes\", \"panini\", \"jerk_chicken\", \"hot_sandwiches\", \"reuben\", \"melt\", \"steak_sandwich\", \"cheeseburger_combo\", \"buttermilk_pancakes\", \"lamb_kebab\", \"salami_entrees\", \"espresso\", \"angus_burger\", \"falafel_sandwich\", \"tapas\", \"italian_sandwich\", \"roti\", \"triple_decker_sandwich\", \"schnitzel\", \"tuna_melt_sandwich\", \"chinese_chicken_salad\", \"hot_dogs\", \"kale_caesar_salad\", \"ciabatta\", \"turkey_sub\", \"goat_curry\", \"kebab_sandwich\", \"stew\", \"beef_burger\", \"gyro_sandwich\", \"fried_egg_sandwich\", \"greek_salad\", \"sandwiches\", \"hamburgers\", \"burgers\", \"classic_sandwiches\", \"shawarma\", \"salads\", \"wraps\", \"chicken_shish_kebab\", \"cheeseburgers\", \"shish_kebab\", \"appetizers\", \"breakfast\", \"side_dishes\", \"french_fries\", \"chicken_dishes\", \"soups\", \"empanada\", \"fillet\", \"fish_sandwiches\", \"grilled_chicken_sandwich\", \"buffalo_chicken_wrap\", \"club_sandwiches\", \"signature_sandwich\", \"chicken_sandwiches\", \"mofongo\", \"chicken_salad_sandwich\", \"family_combo\", \"cream_cheese\", \"chicken_soup\", \"blt_sandwich\", \"tortilla_soup\", \"chicken_cutlet_sandwich\", \"chicken_tortilla_soup\", \"meatball_sandwich\", \"shrimp_salads\", \"chicken_wraps\", \"vegetarian_pizza\", \"tomato_pie\", \"tilapia_fillet\", \"sesame_tofu\", \"quattro_formaggi_pizza\", \"soup_of_the_day\", \"cucumber_salad\", \"chicken_ranch_pizza\", \"classic_sandwiches\", \"chicken_parmigiana_sandwich\", \"sandwiches\", \"wraps\", \"empanadas\", \"soups\", \"burgers\", \"salads\", \"desserts\", \"side_dishes\", \"combos\", \"breakfast\", \"chicken_dishes\", \"appetizers\", \"poke\", \"bubble_tea\", \"item_combo\", \"hibachi\", \"fresh_roll\", \"tiger_roll\", \"maki_combo\", \"vegetable_combo\", \"volcano_roll\", \"philly_roll\", \"tibs\", \"roe\", \"girl_roll\", \"dynamite_roll\", \"spicy_roll\", \"chicken_hibachi\", \"salmon_teriyaki\", \"lover_roll\", \"sushi_combo\", \"iced_latte\", \"lobster_ravioli\", \"catering\", \"red_dragon_roll\", \"wat\", \"vegetable\", \"mezze\", \"navratan_korma\", \"combo_box\", \"wraps\", \"avocado\", \"salads\", \"sandwiches\", \"appetizers\", \"sushi\", \"maki\", \"tuna\", \"gyoza\", \"salmon\", \"dumplings\", \"soups\", \"side_dishes\", \"california_roll\", \"miso_soup\", \"combos\", \"fish\", \"seafood\", \"chowder\", \"clam_chowder\", \"popcorn_chicken\", \"antipasto\", \"sampler\", \"honey_chicken\", \"crab\", \"crab_roll\", \"shepherds_pie\", \"honey_garlic_chicken\", \"thai_curry\", \"curry_entree\", \"chaulafan\", \"kimchi\", \"shrimp\", \"soft_shell_crab\", \"salmon\", \"tuna\", \"octopus_salad\", \"tea_smoothie\", \"vegetable_cream_cheese\", \"floats\", \"plain_fried_rice\", \"frittata\", \"omelette_sandwich\", \"souvlaki_pita\", \"tart\", \"pear_juice\", \"fish_salads\", \"steak\", \"skimmed_milk\", \"general_chicken\", \"chicken_dishes\", \"combos\", \"samosa_chaat\", \"wings\", \"soups\", \"rock_roll\", \"rice_dishes\", \"veggies\", \"side_dishes\", \"appetizers\", \"chicken_entree\", \"burgers\", \"salads\", \"biryani\", \"chicken_biryani\", \"naan\", \"indian_breads\", \"garlic_naan\", \"butter_chicken\", \"paneer_tikka_masala\", \"korma\", \"chicken_curry\", \"tikka_masala\", \"chicken_tikka_masala\", \"cheese_naan\", \"vindaloo\", \"channa_masala\", \"dhal\", \"chicken_korma\", \"plain_naan\", \"tandoori_chicken\", \"flatbreads\", \"lassi\", \"samosa\", \"malai_kofta\", \"mango_lassi\", \"chicken_vindaloo\", \"makhni\", \"adana_kebab\", \"salmon_sandwich\", \"katsu_curry\", \"paratha\", \"potato_chips\", \"bread_varieties\", \"dosa\", \"curries\", \"rice_entree\", \"rice_dishes\", \"tandoori\", \"breads\", \"chicken_entree\", \"appetizers\", \"chicken_dishes\", \"side_dishes\", \"rice\", \"cakes\", \"banana\", \"whole_chicken\", \"rotisserie_chicken\", \"green_bean\", \"fried_plantain\", \"fruits\", \"tikka\", \"western_omelette\", \"chicken_tikka\", \"baguette\", \"pollo_a_la_brasa\", \"shell_taco\", \"chicken_nuggets\", \"barbecue_baby_back_rib\", \"chocolate_cakes\", \"lomo_saltado\", \"croquetas\", \"veggies\", \"vegetable_biryani\", \"eggplant_dishes\", \"chicharron_de_pollo\", \"oil\", \"grilled_chicken_salad\", \"half_chicken\", \"yellow_rice\", \"chicken_subs\", \"grilled_skirt_steak\", \"tandoori\", \"pilaf\", \"chicken_sides\", \"side_dishes\", \"chicken_entree\", \"chicken_dishes\", \"rice\", \"combos\", \"appetizers\", \"beef_dishes\", \"empanadas\", \"soups\", \"crab_puff\", \"dinner_combos\", \"chicken_dinner_combo\", \"chicharron\", \"berry_smoothie\", \"dan_dan_noodles\", \"crispy_chicken\", \"shrimp_lo_mein\", \"shrimp_basket\", \"rice_vermicelli\", \"beef_shish_kebab\", \"chefs_special\", \"bun\", \"chicken_strips\", \"combo_dinner\", \"doner_kebab\", \"smokehouse_burger\", \"pork_dumpling\", \"broccoli_chicken\", \"vegetable_lo_mein\", \"fried_chicken_wing\", \"dinner_specials\", \"pork_egg_roll\", \"vermicelli\", \"general_tso_chicken\", \"roast_pork\", \"wonton_soup\", \"chicken_entree\", \"crab_rangoon\", \"rangoon\", \"special_dishes\", \"chicken_dishes\", \"lo_mein\", \"fried_dumpling\", \"appetizers\", \"dumplings\", \"soda\", \"combos\", \"soft_drinks\", \"drinks\", \"egg_roll\", \"side_dishes\", \"soups\", \"noodles\", \"platter\", \"wings\", \"spring_rolls\", \"biscuits\", \"pernil\", \"grilled_steak\", \"chilaquiles\", \"chicken_caesar_wrap\", \"protein_shake\", \"vegetable_burrito\", \"oatmeal\", \"pesto_panini\", \"vegetarian_burrito\", \"chef_salad\", \"turkey_club_sandwich\", \"grilled_chicken_caesar_wrap\", \"potato\", \"bacon\", \"whole_rotisserie_chicken\", \"sopa_de_res\", \"home_fries\", \"pita_sandwich\", \"french_toast\", \"california_wrap\", \"omelettes\", \"toasts\", \"country_fried_steak\", \"rice_soup\", \"top_sirloin\", \"coleslaw\", \"soup_combo\", \"grilled_chicken_panini\", \"energy_drinks\", \"breakfast\", \"pancakes\", \"egg_dishes\", \"roast_pork\", \"burritos\", \"sandwiches\", \"side_dishes\", \"steak\", \"wraps\", \"chicken_dishes\", \"combos\", \"soups\", \"salads\", \"burgers\", \"appetizers\", \"white_rice\", \"french_fries\", \"house_salads\", \"fried_calamari\", \"vegetable_pizza\", \"antipasto_salad\", \"deluxe_pizza\", \"garlic_cheese_bread\", \"chopped_salads\", \"salad_bowl\", \"classic_pizza\", \"specialty_pizza\", \"margherita_pizza\", \"sausage_pizza\", \"hawaiian_pizza\", \"pepperoni_pizza\", \"meat_pizza\", \"veal_dishes\", \"bruschetta\", \"combo_pizza\", \"thin_crust_pizza\", \"cacio_e_pepe\", \"bianca_pizza\", \"thin_crust_cheese_pizza\", \"margarita_pizza\", \"mediterranean_salad\", \"cheesy_garlic_bread\", \"arugula_salad\", \"garlic_bread\", \"cheesy_bread\", \"traditional_cheese_pizza\", \"white_pizza\", \"pizza\", \"cheese_pizza\", \"mixed_green_salads\", \"ravioli\", \"pasta\", \"salads\", \"fettuccine_alfredo\", \"wings\", \"caesar_salads\", \"penne\", \"appetizers\", \"chicken_dishes\", \"breads\", \"side_dishes\", \"mozzarella_stick\", \"bread_varieties\", \"chicken_pizza\", \"ziti\", \"baked_ziti\", \"buffalo_chicken_pizza\", \"chicken_wing\", \"parmigiana_hero\", \"chicken_roll\", \"chicken_cutlet_parmigiana\", \"pie_pizza\", \"garlic_roll\", \"grandma_pizza\", \"buffalo_chicken_calzone\", \"tuna_salad\", \"turkey_bacon\", \"garlic_knot\", \"seafood_combo\", \"barbecue_chicken_pizza\", \"pasta_alla_vodka\", \"entrana\", \"strips\", \"mozzarella_cheese_stick\", \"boneless_buffalo_wing\", \"flan\", \"italian_pizza\", \"english_muffin\", \"deli_salads\", \"mozzarella_pizza\", \"curly_fry\", \"sauce_pizza\", \"calzones\", \"hero\", \"cheese_pie\", \"mozzarella_stick\", \"pizza\", \"cheese_pizza\", \"parmigiana_and_parmesan_dishes\", \"subs\", \"soft_drinks\", \"soda\", \"chicken_parmigiana\", \"side_dishes\", \"penne\", \"buffalo_wing\", \"drinks\", \"wings\", \"pasta\", \"french_fries\", \"sandwiches\", \"chicken_dishes\", \"appetizers\", \"chicken_fingers\", \"salads\", \"sausage\", \"french_onion_soup\", \"tomato_soup\", \"meatloaf\", \"baked_macaroni_and_cheese\", \"skirt_steak\", \"indian_bread\", \"pie\", \"yogurt\", \"raita\", \"cheese_pie\", \"dip\", \"breads\", \"classic_burger\", \"rice\", \"saffron_rice\", \"samosa\", \"tofu_dishes\", \"chicken_tikka_masala\", \"tikka_masala\", \"salad_shirazi\", \"side_dishes\", \"floats\", \"vegetable_cream_cheese\", \"plain_fried_rice\", \"frittata\", \"omelette_sandwich\", \"souvlaki_pita\", \"tart\", \"pear_juice\", \"bread_varieties\", \"side_salads\", \"indian_breads\", \"shrimp_avocado_roll\", \"skimmed_milk\", \"naan\", \"garlic_naan\", \"pasta_salad\", \"samosa_chaat\", \"curries\", \"vindaloo\", \"rock_roll\", \"burgers\", \"steak\", \"soups\", \"appetizers\", \"chicken_dishes\"], \"Total\": [5308.0, 6239.0, 3985.0, 3886.0, 3778.0, 4584.0, 8348.0, 3958.0, 3094.0, 1705.0, 3608.0, 8547.0, 12327.0, 2545.0, 1960.0, 1494.0, 2347.0, 1812.0, 1403.0, 1488.0, 3506.0, 3292.0, 1965.0, 2511.0, 2093.0, 3413.0, 1626.0, 1942.0, 820.0, 2572.0, 141.79159545898438, 508.884033203125, 88.49576568603516, 55.495765686035156, 44.8505973815918, 57.01403045654297, 31.56525421142578, 26.35831642150879, 28.148054122924805, 23.961013793945312, 17.67643165588379, 13.510833740234375, 556.4767456054688, 41.61278533935547, 479.31793212890625, 87.65422821044922, 350.6026306152344, 214.32931518554688, 86.92103576660156, 200.5702667236328, 1190.306640625, 375.2432556152344, 3.923314332962036, 3.923314332962036, 3.923314332962036, 3.923314332962036, 3.923314332962036, 3.923314332962036, 3.923314332962036, 3.923314332962036, 3.923314332962036, 8547.9423828125, 3.923314332962036, 3.923314332962036, 3.923314332962036, 3.923314332962036, 323.9964904785156, 3.923314332962036, 196.48326110839844, 3094.994873046875, 3.923314332962036, 8348.4375, 1626.2435302734375, 3292.980224609375, 12327.0703125, 3608.428955078125, 366.1533203125, 688.6676025390625, 98.68489837646484, 45.947288513183594, 44.81437683105469, 31.68706512451172, 20.742502212524414, 16.32099151611328, 25.805179595947266, 14.84799575805664, 86.05670166015625, 13.005629539489746, 12.212274551391602, 11.685138702392578, 11.435691833496094, 11.120904922485352, 10.15523910522461, 86.92103576660156, 102.51224517822266, 9.393536567687988, 8.647660255432129, 7.816310405731201, 178.2413787841797, 6.356115341186523, 85.27960968017578, 5.8973388671875, 168.6246795654297, 3608.428955078125, 160.07012939453125, 5.25494909286499, 634.31396484375, 184.3583221435547, 2572.60791015625, 3413.489013671875, 12327.0703125, 3958.226806640625, 3094.994873046875, 8547.9423828125, 8348.4375, 495.4190368652344, 1659.9427490234375, 2511.082275390625, 169.89706420898438, 110.46939849853516, 166.8706817626953, 72.75960540771484, 89.22149658203125, 72.25888061523438, 57.29106521606445, 67.87371063232422, 36.26557540893555, 34.9799690246582, 32.95092010498047, 32.202186584472656, 39.83999252319336, 29.263084411621094, 28.97903823852539, 27.7442569732666, 52.3863525390625, 27.3541202545166, 78.22654724121094, 18.692018508911133, 18.55140495300293, 64.75440979003906, 25.99285888671875, 15.2064208984375, 200.5702667236328, 13.034235000610352, 12.67738151550293, 12.354511260986328, 28.466856002807617, 11.665009498596191, 360.3362731933594, 779.5900268554688, 116.23666381835938, 56.40503692626953, 70.61296081542969, 12327.0703125, 607.4677734375, 8547.9423828125, 3506.100830078125, 1942.1707763671875, 350.6026306152344, 234.0598907470703, 2545.74267578125, 1488.934814453125, 6239.26953125, 3292.980224609375, 8348.4375, 3608.428955078125, 592.5288696289062, 63.03074264526367, 103.18783569335938, 32.16205596923828, 28.376554489135742, 27.494890213012695, 24.445337295532227, 42.98896026611328, 36.447509765625, 21.900888442993164, 21.545738220214844, 172.7563018798828, 19.897144317626953, 68.61397552490234, 17.08236312866211, 21.583648681640625, 15.829483985900879, 15.270635604858398, 15.301146507263184, 11.919684410095215, 11.412525177001953, 11.139533042907715, 166.89669799804688, 10.476800918579102, 10.445591926574707, 10.36955738067627, 9.16908073425293, 491.1341247558594, 8.842700958251953, 7.319922924041748, 35.74287796020508, 3094.994873046875, 375.2432556152344, 261.8044128417969, 56.94414138793945, 8547.9423828125, 6239.26953125, 12327.0703125, 124.9341812133789, 3506.100830078125, 3292.980224609375, 3413.489013671875, 8348.4375, 692.0171508789062, 1942.1707763671875, 231.83636474609375, 610.02587890625, 336.5809020996094, 159.3809814453125, 274.4215393066406, 3778.316162109375, 3985.88232421875, 590.7838745117188, 244.68362426757812, 128.99302673339844, 401.27105712890625, 132.60049438476562, 63.63701629638672, 67.00350952148438, 495.4190368652344, 125.11790466308594, 139.3853302001953, 62.87888717651367, 59.418819427490234, 56.968101501464844, 98.64423370361328, 49.7143440246582, 54.220191955566406, 123.8685531616211, 49.66875076293945, 120.60359191894531, 107.3613052368164, 919.385986328125, 32.16157150268555, 29.175315856933594, 146.26405334472656, 184.3583221435547, 634.31396484375, 1005.9990844726562, 750.349365234375, 2572.60791015625, 12327.0703125, 3608.428955078125, 8348.4375, 178.2413787841797, 3413.489013671875, 124.13704681396484, 94.4150161743164, 60.011932373046875, 57.93659210205078, 54.35581588745117, 45.101036071777344, 38.2361946105957, 36.668983459472656, 56.55340576171875, 23.23553466796875, 22.465486526489258, 125.67548370361328, 45.17708969116211, 17.732099533081055, 66.7284164428711, 261.9608459472656, 49.58588790893555, 12.180100440979004, 53.252288818359375, 61.264244079589844, 203.54373168945312, 7.826241970062256, 10.973626136779785, 7.957878112792969, 110.74176025390625, 1727.6240234375, 388.96087646484375, 1580.6900634765625, 5.182243347167969, 56.079315185546875, 240.47665405273438, 4584.42578125, 1942.1707763671875, 765.183349609375, 6239.26953125, 3886.878662109375, 314.53045654296875, 692.0171508789062, 865.997314453125, 8348.4375, 3094.994873046875, 12327.0703125, 390.47344970703125, 1626.2435302734375, 2545.74267578125, 634.0469970703125, 393.7796936035156, 1133.782958984375, 311.62286376953125, 252.0327606201172, 249.03285217285156, 213.8563690185547, 157.21041870117188, 121.74214935302734, 116.95355987548828, 110.72944641113281, 57.13860321044922, 140.5106964111328, 51.59616470336914, 42.398014068603516, 41.99702453613281, 41.350502014160156, 41.5160026550293, 37.13214111328125, 37.823158264160156, 32.721153259277344, 33.33515548706055, 28.353076934814453, 27.685726165771484, 31.42384910583496, 24.83871841430664, 23.098209381103516, 124.9341812133789, 21.890769958496094, 23.518211364746094, 3958.226806640625, 190.8938751220703, 1659.9427490234375, 110.03369903564453, 2347.056396484375, 2093.693603515625, 2511.082275390625, 3413.489013671875, 126.81529235839844, 12327.0703125, 1216.6787109375, 1613.728515625, 163.1234893798828, 404.4910583496094, 592.4701538085938, 885.4768676757812, 2572.60791015625, 3608.428955078125, 8348.4375, 4584.42578125, 110.34898376464844, 129.62245178222656, 380.44769287109375, 79.1391372680664, 83.76875305175781, 232.01312255859375, 79.02779388427734, 89.08668518066406, 52.54971694946289, 45.862979888916016, 41.67532730102539, 27.166976928710938, 25.38102149963379, 14.16885757446289, 126.6225357055664, 58.73445129394531, 8.277115821838379, 363.5018005371094, 50.89830017089844, 359.03009033203125, 415.3196716308594, 516.6608276367188, 408.8537902832031, 43.18729782104492, 389.8940734863281, 479.31793212890625, 419.62603759765625, 41.61278533935547, 90.22486114501953, 139.10418701171875, 2572.60791015625, 1659.9427490234375, 3608.428955078125, 1216.6787109375, 2545.74267578125, 12327.0703125, 753.6536254882812, 3506.100830078125, 8547.9423828125, 678.0950927734375, 1613.728515625, 8348.4375, 762.2132568359375, 885.4768676757812, 84.78633880615234, 61.190818786621094, 59.203346252441406, 59.04487609863281, 122.16475677490234, 52.893123626708984, 40.884708404541016, 35.29750442504883, 45.94769287109375, 49.84004592895508, 33.22815704345703, 83.32001495361328, 31.09552574157715, 27.826231002807617, 26.686513900756836, 25.436935424804688, 24.97858428955078, 29.998077392578125, 23.94488525390625, 16.71459197998047, 47.636688232421875, 16.223405838012695, 16.085092544555664, 14.96786880493164, 1626.2435302734375, 122.62737274169922, 63.321189880371094, 10.779348373413086, 9.806092262268066, 9.74543571472168, 37.33991622924805, 390.47344970703125, 220.62759399414062, 350.6026306152344, 1942.1707763671875, 8348.4375, 526.0145874023438, 175.3045196533203, 3292.980224609375, 1250.3541259765625, 8547.9423828125, 6239.26953125, 12327.0703125, 401.4630126953125, 556.4767456054688, 2545.74267578125, 4584.42578125, 5308.94140625, 71.50495147705078, 77.7518081665039, 55.28417205810547, 55.98826217651367, 57.747047424316406, 38.83463668823242, 46.92484664916992, 33.862125396728516, 28.50615119934082, 28.742219924926758, 22.920408248901367, 96.13229370117188, 18.932321548461914, 16.333166122436523, 38.05525588989258, 15.540229797363281, 29.78671646118164, 1403.647705078125, 246.5498046875, 9.96414566040039, 9.070052146911621, 7.6586761474609375, 649.6113891601562, 6.049696922302246, 27.905597686767578, 168.6246795654297, 1942.1707763671875, 3.9605746269226074, 3.960573196411133, 3.9611620903015137, 8547.9423828125, 390.47344970703125, 12327.0703125, 3608.428955078125, 3506.100830078125, 3292.980224609375, 8348.4375, 1494.4442138671875, 3413.489013671875, 6239.26953125, 135.018310546875, 161.77349853515625, 485.66827392578125, 247.72161865234375, 86.9498062133789, 89.89702606201172, 144.89373779296875, 172.78746032714844, 68.4609603881836, 58.09955978393555, 45.387359619140625, 219.84600830078125, 109.75711822509766, 38.16856384277344, 28.974443435668945, 30.820524215698242, 196.5850830078125, 26.317060470581055, 26.13175392150879, 18.882640838623047, 183.07623291015625, 14.49377727508545, 15.516007423400879, 14.038825035095215, 544.4503784179688, 13.060450553894043, 124.75008392333984, 12.299568176269531, 12.167451858520508, 11.96414852142334, 2093.693603515625, 185.50669860839844, 140.27891540527344, 2511.082275390625, 404.4910583496094, 3413.489013671875, 389.8940734863281, 762.2132568359375, 3506.100830078125, 1216.6787109375, 1613.728515625, 649.6113891601562, 8547.9423828125, 2572.60791015625, 885.4768676757812, 3958.226806640625, 12327.0703125, 1403.647705078125, 8348.4375, 3608.428955078125, 1659.9427490234375, 516.6608276367188, 419.62603759765625, 96.42002868652344, 90.0692138671875, 68.67618560791016, 49.43437576293945, 38.32443618774414, 36.72910690307617, 36.33623504638672, 33.63431930541992, 169.1624298095703, 40.96897506713867, 30.813976287841797, 30.646804809570312, 75.98601531982422, 28.73111915588379, 27.99854278564453, 24.814828872680664, 24.20151138305664, 23.564559936523438, 20.407459259033203, 30.295166015625, 19.385530471801758, 19.4277286529541, 18.950284957885742, 150.2902069091797, 196.48326110839844, 15.275023460388184, 323.9964904785156, 10.649283409118652, 34.02436447143555, 99.08390808105469, 692.0171508789062, 526.0145874023438, 6239.26953125, 527.6610717773438, 4584.42578125, 106.9774398803711, 229.8083038330078, 12327.0703125, 8348.4375, 3608.428955078125, 779.5900268554688, 1942.1707763671875, 3886.878662109375, 1250.3541259765625, 401.4630126953125, 96.83808135986328, 73.18123626708984, 51.67303466796875, 39.240657806396484, 26.023300170898438, 24.687528610229492, 22.914669036865234, 28.61297035217285, 26.71628761291504, 82.63160705566406, 234.0598907470703, 607.4677734375, 12.31974983215332, 10.828855514526367, 9.720561981201172, 753.6536254882812, 8.925135612487793, 8.871872901916504, 2545.74267578125, 7.010390281677246, 865.997314453125, 4.8020405769348145, 350.6026306152344, 649.6113891601562, 30.295166015625, 1403.647705078125, 6239.26953125, 12327.0703125, 3094.994873046875, 3.923314332962036, 8348.4375, 3413.489013671875, 3608.428955078125, 8547.9423828125, 144.63876342773438, 86.3559341430664, 132.91400146484375, 299.97344970703125, 51.19678497314453, 43.949501037597656, 39.10432052612305, 105.57006072998047, 38.309635162353516, 33.355770111083984, 28.096818923950195, 29.285680770874023, 25.600067138671875, 24.485305786132812, 23.117595672607422, 38.072792053222656, 21.177343368530273, 20.52666664123535, 21.05670738220215, 17.339942932128906, 10.499873161315918, 9.832406997680664, 80.33734130859375, 26.80750846862793, 15.277262687683105, 6.0730767250061035, 63.352630615234375, 4.915445327758789, 6.706210613250732, 479.31793212890625, 1960.0107421875, 375.2432556152344, 3886.878662109375, 1942.1707763671875, 8348.4375, 3292.980224609375, 8547.9423828125, 3094.994873046875, 6239.26953125, 385.347900390625, 174.90248107910156, 117.25365447998047, 146.18853759765625, 1488.934814453125, 123.3089828491211, 73.49365234375, 93.7314453125, 96.48408508300781, 87.37569427490234, 114.49488067626953, 58.29129409790039, 65.73497772216797, 53.12885665893555, 51.91952896118164, 50.79654312133789, 592.5288696289062, 47.055538177490234, 79.88409423828125, 46.2597770690918, 727.7587890625, 39.750667572021484, 36.854679107666016, 33.32622146606445, 31.32474136352539, 32.78123474121094, 41.138404846191406, 24.962146759033203, 23.304044723510742, 1812.028564453125, 256.26458740234375, 160.07012939453125, 12327.0703125, 8348.4375, 43.37220001220703, 2545.74267578125, 4584.42578125, 110.41685485839844, 130.06332397460938, 91.59770202636719, 408.88616943359375, 343.89227294921875, 312.6719055175781, 49.03484344482422, 57.711334228515625, 39.88653564453125, 25.344242095947266, 765.183349609375, 16.189537048339844, 42.13063049316406, 240.47665405273438, 15.809110641479492, 12.94676685333252, 12.655138969421387, 11.452341079711914, 592.4701538085938, 7.784305572509766, 16.077823638916016, 4584.42578125, 61.264244079589844, 3886.878662109375, 424.7898864746094, 203.54373168945312, 53.252288818359375, 248.176025390625, 23.2257137298584, 388.96087646484375, 214.32931518554688, 6239.26953125, 479.1434326171875, 314.53045654296875, 865.997314453125, 190.8938751220703, 8348.4375, 3094.994873046875, 115.15717315673828, 1812.028564453125, 237.81820678710938, 70.8593978881836, 48.77397537231445, 46.53936767578125, 32.95347595214844, 22.619672775268555, 19.77507781982422, 161.78463745117188, 19.579269409179688, 22.40033721923828, 53.28087615966797, 164.1017303466797, 11.037310600280762, 754.39892578125, 9.385074615478516, 3292.980224609375, 401.4630126953125, 134.26712036132812, 779.5900268554688, 22.671016693115234, 360.3362731933594, 1250.3541259765625, 526.0145874023438, 64.75038146972656, 110.74176025390625, 1580.6900634765625, 1727.6240234375, 8547.9423828125, 1965.0782470703125, 5308.94140625, 12327.0703125, 4584.42578125, 692.0171508789062, 6239.26953125, 1626.2435302734375, 8348.4375, 522.4226684570312, 247.6834259033203, 556.4767456054688, 3094.994873046875, 53.88883972167969, 51.88486099243164, 46.5916633605957, 42.41973114013672, 40.10708999633789, 34.351318359375, 33.96196746826172, 51.896183013916016, 45.973487854003906, 29.34153938293457, 67.2980728149414, 20.667829513549805, 19.93450355529785, 25.39110565185547, 17.155899047851562, 18.028173446655273, 20.62662696838379, 14.119961738586426, 12.164216995239258, 10.987244606018066, 53.84963607788086, 9.48877239227295, 33.26484680175781, 8.906696319580078, 7.31036376953125, 6.896310329437256, 6.8072075843811035, 7.589695930480957, 46.82075119018555, 80.44439697265625, 28.90358543395996, 70.51045227050781, 214.32931518554688, 99.08390808105469, 3413.489013671875, 2093.693603515625, 2511.082275390625, 12327.0703125, 3958.226806640625, 8547.9423828125, 5308.94140625, 1403.647705078125, 3292.980224609375, 8348.4375, 243.3739013671875, 141.26719665527344, 143.67864990234375, 118.72611236572266, 78.97039031982422, 69.17001342773438, 69.80877685546875, 71.24586486816406, 48.98894500732422, 1494.4442138671875, 41.325721740722656, 64.46204376220703, 51.0154914855957, 32.943580627441406, 44.72531509399414, 30.652902603149414, 206.69187927246094, 26.96702003479004, 24.87265396118164, 29.77349090576172, 20.921091079711914, 19.214996337890625, 18.28226661682129, 17.268600463867188, 17.251197814941406, 16.80679702758789, 16.420297622680664, 94.39442443847656, 19.04508399963379, 139.7147979736328, 69.29621887207031, 1960.0107421875, 209.7001190185547, 331.2743835449219, 297.41534423828125, 173.27285766601562, 3094.994873046875, 161.5193328857422, 491.1341247558594, 8547.9423828125, 8348.4375, 191.97613525390625, 112.26292419433594, 697.1439208984375, 121.68929290771484, 93.19261169433594, 106.98355102539062, 46.389747619628906, 52.224029541015625, 33.001853942871094, 32.12104034423828, 29.568771362304688, 32.302589416503906, 29.102611541748047, 18.588685989379883, 28.230852127075195, 16.426876068115234, 25.42400550842285, 15.294665336608887, 14.814642906188965, 15.564902305603027, 82.76956939697266, 12.854635238647461, 12.609496116638184, 12.35975170135498, 11.582819938659668, 11.769000053405762, 106.9774398803711, 56.079315185546875, 175.3045196533203, 10.592934608459473, 261.8044128417969, 6239.26953125, 390.47344970703125, 1942.1707763671875, 527.6610717773438, 56.40503692626953, 3094.994873046875, 865.997314453125, 70.61296081542969, 261.9608459472656, 116.23666381835938, 12327.0703125, 3886.878662109375, 8348.4375, 1626.2435302734375, 8547.9423828125, 3608.428955078125, 93.25370788574219, 76.8078384399414, 57.92390823364258, 53.212562561035156, 63.501522064208984, 118.00870513916016, 50.109073638916016, 548.9483032226562, 39.80939865112305, 35.186248779296875, 35.1483039855957, 41.2414665222168, 134.02748107910156, 73.36561584472656, 20.94381332397461, 23.736614227294922, 20.310440063476562, 18.447933197021484, 15.513272285461426, 130.512939453125, 13.896557807922363, 11.588770866394043, 10.742198944091797, 9.949902534484863, 9.437837600708008, 17.770967483520508, 8.478035926818848, 8.046466827392578, 527.6610717773438, 22.671016693115234, 6239.26953125, 865.997314453125, 246.5498046875, 3608.428955078125, 1942.1707763671875, 3094.994873046875, 1494.4442138671875, 8348.4375, 2545.74267578125, 3886.878662109375, 8547.9423828125, 12327.0703125, 659.57275390625, 42.080074310302734, 36.33876419067383, 30.99130630493164, 30.78877830505371, 24.58182716369629, 21.30511474609375, 20.178775787353516, 24.994693756103516, 19.89035987854004, 17.215961456298828, 18.400888442993164, 16.07259750366211, 15.804471015930176, 12.373193740844727, 11.897773742675781, 11.711395263671875, 11.357928276062012, 10.523502349853516, 9.621967315673828, 8.020587921142578, 8.504372596740723, 7.301641941070557, 6.690639495849609, 6.3437724113464355, 6.358471870422363, 6.1740875244140625, 6.191723346710205, 865.997314453125, 146.26405334472656, 3094.994873046875, 6239.26953125, 12327.0703125, 3985.88232421875, 3778.316162109375, 919.385986328125, 634.31396484375, 1005.9990844726562, 2572.60791015625, 3608.428955078125, 8348.4375, 590.7838745117188, 401.27105712890625, 2545.74267578125, 820.0631713867188, 1705.4246826171875, 39.00893020629883, 33.71010208129883, 79.08036804199219, 34.59297180175781, 41.17666244506836, 23.945478439331055, 231.5634307861328, 24.731351852416992, 22.123891830444336, 15.326732635498047, 12.717838287353516, 11.009300231933594, 9.480010986328125, 12.225905418395996, 750.349365234375, 7.6311259269714355, 1005.9990844726562, 919.385986328125, 4.0993475914001465, 3.952033519744873, 3.923314332962036, 3.923314332962036, 3.923314332962036, 3.923314332962036, 3.923314332962036, 3.923314332962036, 3.923314332962036, 3.923314332962036, 68.61397552490234, 556.4767456054688, 3.923314332962036, 15.516007423400879, 8547.9423828125, 2545.74267578125, 3.923314332962036, 3292.980224609375, 3608.428955078125, 3.923314332962036, 3413.489013671875, 136.02847290039062, 8348.4375, 12327.0703125, 3506.100830078125, 1942.1707763671875, 3094.994873046875, 381.292236328125, 183.0199737548828, 862.7852783203125, 922.2448120117188, 494.2580871582031, 247.8468780517578, 87.20999145507812, 124.56140899658203, 90.53303527832031, 731.3079223632812, 543.326904296875, 67.4140625, 81.6708984375, 67.13411712646484, 55.5474967956543, 68.028564453125, 51.735713958740234, 58.52625274658203, 41.66518020629883, 49.63447189331055, 599.5738525390625, 39.29413604736328, 42.696468353271484, 40.53779983520508, 31.47177505493164, 29.765785217285156, 26.10035514831543, 24.185462951660156, 23.836915969848633, 21.273929595947266, 1190.306640625, 35.53866958618164, 2347.056396484375, 2511.082275390625, 3413.489013671875, 222.36444091796875, 279.67742919921875, 3506.100830078125, 12327.0703125, 8547.9423828125, 8348.4375, 306.8620910644531, 216.52066040039062, 156.56500244140625, 92.33708953857422, 116.74768829345703, 62.2069206237793, 74.48497772216797, 189.35626220703125, 56.473167419433594, 41.135101318359375, 50.2861442565918, 36.257568359375, 33.77358627319336, 32.28635787963867, 35.23695373535156, 27.708858489990234, 39.98250961303711, 80.01111602783203, 24.267860412597656, 136.02847290039062, 20.27056884765625, 35.30049514770508, 87.65422821044922, 10.507920265197754, 32.36263656616211, 36.633705139160156, 8.467717170715332, 7.573188781738281, 9.939082145690918, 222.36444091796875, 6.671618461608887, 220.62759399414062, 8348.4375, 3506.100830078125, 8547.9423828125, 306.8620910644531, 2545.74267578125, 12327.0703125, 1403.647705078125, 246.5498046875, 3608.428955078125, 124.70420837402344, 65.2734146118164, 43.72039794921875, 43.82468795776367, 42.589481353759766, 47.37255859375, 112.40583038330078, 32.28948974609375, 27.976943969726562, 21.792591094970703, 19.0355281829834, 47.06214141845703, 181.73545837402344, 117.15602111816406, 15.546414375305176, 11.26675033569336, 10.750768661499023, 678.0950927734375, 408.8537902832031, 76.87112426757812, 415.3196716308594, 46.82075119018555, 139.10418701171875, 50.89830017089844, 762.2132568359375, 30.12596893310547, 419.62603759765625, 3506.100830078125, 1613.728515625, 885.4768676757812, 214.32931518554688, 8547.9423828125, 544.4503784179688, 516.6608276367188, 12327.0703125, 2572.60791015625, 1580.6900634765625, 2545.74267578125, 1727.6240234375, 4584.42578125, 1216.6787109375, 8348.4375, 3608.428955078125, 3958.226806640625, 753.6536254882812, 3292.980224609375, 1659.9427490234375, 78.20903015136719, 59.68510437011719, 37.09808349609375, 38.38578796386719, 39.203765869140625, 23.866519927978516, 22.04714584350586, 29.712356567382812, 19.345882415771484, 19.2337703704834, 18.243892669677734, 20.1143856048584, 17.478748321533203, 88.85005187988281, 115.15717315673828, 15.969209671020508, 15.208157539367676, 78.70665740966797, 34.365623474121094, 248.176025390625, 13.696986198425293, 314.53045654296875, 424.7898864746094, 11.324695587158203, 11.780319213867188, 11.09717845916748, 12.977924346923828, 9.351550102233887, 10.748178482055664, 8.82870864868164, 3886.878662109375, 479.1434326171875, 388.96087646484375, 30.12596893310547, 1812.028564453125, 6239.26953125, 8348.4375, 556.4767456054688, 865.997314453125, 8547.9423828125, 2545.74267578125, 3608.428955078125, 3094.994873046875, 1942.1707763671875, 12327.0703125, 103.71460723876953, 1626.2435302734375, 79.7282943725586, 59.43271255493164, 47.68675994873047, 46.87346649169922, 44.708438873291016, 39.40598678588867, 86.78556060791016, 28.10126304626465, 86.11012268066406, 228.57212829589844, 287.9118957519531, 23.99089241027832, 26.560659408569336, 350.24566650390625, 522.4226684570312, 18.961885452270508, 18.54207992553711, 19.55687141418457, 116.0694351196289, 16.46989631652832, 15.88497257232666, 50.153663635253906, 55.18001174926758, 27.905597686767578, 16.27828025817871, 17.67892837524414, 161.5193328857422, 22.622081756591797, 13.751809120178223, 56.75509262084961, 5308.94140625, 1965.0782470703125, 375.2432556152344, 63.352630615234375, 1960.0107421875, 3094.994873046875, 209.7001190185547, 3292.980224609375, 491.1341247558594, 297.41534423828125, 12327.0703125, 8547.9423828125, 279.67742919921875, 8348.4375, 1250.3541259765625, 1190.306640625, 128.41836547851562, 95.62498474121094, 80.33438873291016, 72.99813842773438, 65.02925109863281, 91.66908264160156, 85.06896209716797, 45.71434783935547, 37.585838317871094, 37.12192153930664, 68.6881332397461, 29.768375396728516, 28.173606872558594, 27.719684600830078, 405.4273986816406, 22.476688385009766, 23.312965393066406, 21.578445434570312, 19.982868194580078, 19.648534774780273, 22.246702194213867, 21.232975006103516, 17.63479995727539, 17.461641311645508, 15.434100151062012, 36.74998474121094, 12.485833168029785, 117.71747589111328, 25.954103469848633, 247.6834259033203, 229.8083038330078, 231.30889892578125, 1250.3541259765625, 5308.94140625, 1965.0782470703125, 331.2743835449219, 692.0171508789062, 1727.6240234375, 1580.6900634765625, 173.27285766601562, 8348.4375, 297.41534423828125, 754.39892578125, 4584.42578125, 3292.980224609375, 1960.0107421875, 1626.2435302734375, 6239.26953125, 8547.9423828125, 12327.0703125, 401.4630126953125, 3094.994873046875, 221.0084686279297, 37.07344055175781, 31.354063034057617, 30.875808715820312, 24.166479110717773, 34.193119049072266, 14.253852844238281, 319.7883605957031, 35.629112243652344, 7.127813816070557, 231.30889892578125, 45.568050384521484, 279.67742919921875, 122.62737274169922, 306.8620910644531, 4.3677825927734375, 599.5738525390625, 86.92103576660156, 543.326904296875, 731.3079223632812, 3.9628188610076904, 8348.4375, 3.923314332962036, 3.923314332962036, 3.923314332962036, 3.923314332962036, 3.923314332962036, 3.923314332962036, 3.923314332962036, 3.923314332962036, 1190.306640625, 83.32001495361328, 922.2448120117188, 3.923314332962036, 3.923314332962036, 862.7852783203125, 494.2580871582031, 3.923314332962036, 3.923314332962036, 2347.056396484375, 81.6708984375, 3.923314332962036, 1942.1707763671875, 556.4767456054688, 3608.428955078125, 12327.0703125, 8547.9423828125], \"loglift\": [30.0, 29.0, 28.0, 27.0, 26.0, 25.0, 24.0, 23.0, 22.0, 21.0, 20.0, 19.0, 18.0, 17.0, 16.0, 15.0, 14.0, 13.0, 12.0, 11.0, 10.0, 9.0, 8.0, 7.0, 6.0, 5.0, 4.0, 3.0, 2.0, 1.0, 4.406300067901611, 4.395400047302246, 4.379300117492676, 4.36269998550415, 4.346199989318848, 4.314799785614014, 4.307199954986572, 4.268700122833252, 4.259799957275391, 4.2581000328063965, 4.192999839782715, 4.098199844360352, 3.9138998985290527, 3.693700075149536, 3.6120998859405518, 3.1112000942230225, 2.749799966812134, 2.7102999687194824, 2.5097999572753906, 2.1547000408172607, 1.783400058746338, 1.2948999404907227, 0.8759999871253967, 0.8759999871253967, 0.8759999871253967, 0.8759999871253967, 0.8759999871253967, 0.8759999871253967, 0.8759999871253967, 0.8759999871253967, 0.8759999871253967, 0.557200014591217, 0.8759999871253967, 0.8759999871253967, 0.8759999871253967, 0.8759999871253967, 0.578499972820282, 0.8759999871253967, 0.5493999719619751, 0.12409999966621399, 0.8759999871253967, -0.1647000014781952, -0.25440001487731934, -0.5461999773979187, -1.0182000398635864, -1.1424000263214111, 3.9881999492645264, 3.9667000770568848, 3.96560001373291, 3.9184000492095947, 3.9047000408172607, 3.876800060272217, 3.799099922180176, 3.7370998859405518, 3.7246999740600586, 3.708199977874756, 3.683000087738037, 3.657599925994873, 3.6303999423980713, 3.610100030899048, 3.599400043487549, 3.577899932861328, 3.5343000888824463, 3.5227999687194824, 3.4872000217437744, 3.4614999294281006, 3.4110000133514404, 3.3271000385284424, 3.2311999797821045, 3.0889999866485596, 3.0429999828338623, 2.946199893951416, 2.8852999210357666, 2.809000015258789, 2.7146999835968018, 2.711899995803833, 1.913699984550476, 1.9666999578475952, 0.5983999967575073, 0.44999998807907104, -0.2953999936580658, -0.4388999938964844, -0.7609000205993652, -1.8911999464035034, -2.250499963760376, 0.24089999496936798, -0.9266999959945679, -1.3925000429153442, 3.624500036239624, 3.6189000606536865, 3.6185998916625977, 3.602299928665161, 3.600800037384033, 3.6005001068115234, 3.586400032043457, 3.585400104522705, 3.545099973678589, 3.5374999046325684, 3.5332999229431152, 3.5285000801086426, 3.518899917602539, 3.5165998935699463, 3.515199899673462, 3.5078999996185303, 3.500699996948242, 3.4784998893737793, 3.4375998973846436, 3.4282000064849854, 3.426300048828125, 3.398699998855591, 3.3773999214172363, 3.367799997329712, 3.3438000679016113, 3.305000066757202, 3.2987000942230225, 3.287400007247925, 3.2860000133514404, 3.2607998847961426, 3.047800064086914, 2.9846999645233154, 3.0862998962402344, 3.0304999351501465, 2.9168999195098877, 1.3167999982833862, 2.1881000995635986, 0.7214000225067139, 0.9350000023841858, 0.8513000011444092, 1.892899990081787, 2.124500036239624, 0.24539999663829803, 0.2651999890804291, -1.1238000392913818, -0.5748999714851379, -1.4811999797821045, -0.864300012588501, 0.8309999704360962, 3.943700075149536, 3.9063000679016113, 3.884700059890747, 3.863800048828125, 3.861999988555908, 3.842099905014038, 3.8338000774383545, 3.82669997215271, 3.81820011138916, 3.8162999153137207, 3.810800075531006, 3.799799919128418, 3.7855000495910645, 3.760699987411499, 3.759700059890747, 3.734299898147583, 3.726799964904785, 3.6972999572753906, 3.6259000301361084, 3.610100030899048, 3.5980000495910645, 3.5852999687194824, 3.5653998851776123, 3.563699960708618, 3.5596001148223877, 3.4825000762939453, 3.446700096130371, 3.4458000659942627, 3.2901999950408936, 3.2558000087738037, 3.1835999488830566, 2.7309999465942383, 2.7091000080108643, 2.7913999557495117, 0.022299999371170998, -0.33640000224113464, -0.7710999846458435, 1.9859999418258667, -0.3086000084877014, -0.5888000130653381, -0.6787999868392944, -1.6223000288009644, 0.48570001125335693, -0.6603999733924866, 2.4244000911712646, 2.42330002784729, 2.421099901199341, 2.420599937438965, 2.4189000129699707, 2.4170000553131104, 2.4165000915527344, 2.4161999225616455, 2.415800094604492, 2.4042999744415283, 2.3982999324798584, 2.3965001106262207, 2.385499954223633, 2.385200023651123, 2.3845999240875244, 2.3840999603271484, 2.384000062942505, 2.381999969482422, 2.3763999938964844, 2.3738999366760254, 2.373199939727783, 2.3664000034332275, 2.357599973678589, 2.3570001125335693, 2.3564999103546143, 2.3534998893737793, 2.344899892807007, 2.321500062942505, 2.317500114440918, 2.305000066757202, 2.3032000064849854, 2.2506000995635986, 2.1278998851776123, 2.0768001079559326, 1.694100022315979, 0.5565999746322632, -0.22679999470710754, 0.2387000024318695, -0.3021000027656555, 1.5255999565124512, -1.180400013923645, 3.5597000122070312, 3.5541999340057373, 3.5288000106811523, 3.525399923324585, 3.523400068283081, 3.501499891281128, 3.491499900817871, 3.485300064086914, 3.437700033187866, 3.4182000160217285, 3.39739990234375, 3.3901000022888184, 3.3838999271392822, 3.3561999797821045, 3.309299945831299, 3.300600051879883, 3.2383999824523926, 3.2246999740600586, 3.066800117492676, 3.0518999099731445, 3.041300058364868, 2.9375998973846436, 2.932800054550171, 2.932499885559082, 2.6577000617980957, 2.3778998851776123, 2.351300001144409, 2.332200050354004, 2.293800115585327, 2.2216999530792236, 2.1328999996185303, 1.9429999589920044, 1.822100043296814, 1.88510000705719, 1.0664000511169434, 1.1516000032424927, 1.7731000185012817, 1.1653000116348267, 0.921999990940094, -0.8860999941825867, -0.3407000005245209, -1.9764000177383423, 1.248900055885315, -0.17299999296665192, -0.6258000135421753, 2.536799907684326, 2.5325000286102295, 2.530900001525879, 2.52810001373291, 2.527899980545044, 2.527600049972534, 2.522200107574463, 2.516400098800659, 2.5155999660491943, 2.507699966430664, 2.5072999000549316, 2.471400022506714, 2.466900110244751, 2.461699962615967, 2.4512999057769775, 2.449899911880493, 2.4460999965667725, 2.4437999725341797, 2.436500072479248, 2.4289000034332275, 2.418299913406372, 2.40910005569458, 2.402600049972534, 2.4005000591278076, 2.399399995803833, 2.3722000122070312, 2.3685998916625977, 2.3633999824523926, 2.3526999950408936, 2.3447000980377197, 2.265700101852417, 2.286099910736084, 1.9002000093460083, 2.137500047683716, 1.621000051498413, 1.3035000562667847, 1.1197999715805054, 0.9531999826431274, 1.9915000200271606, 0.4952000081539154, 1.232200026512146, 1.117900013923645, 1.898900032043457, 1.5063999891281128, 1.2554999589920044, 1.0641000270843506, 0.45329999923706055, -0.13680000603199005, -1.2786999940872192, -0.9625999927520752, 3.1610000133514404, 3.155400037765503, 3.152400016784668, 3.146899938583374, 3.1456000804901123, 3.1452999114990234, 3.1442999839782715, 3.1173999309539795, 3.100800037384033, 3.097399950027466, 3.0964999198913574, 3.043600082397461, 3.032099962234497, 2.8763999938964844, 2.788300037384033, 2.64520001411438, 2.583400011062622, 2.4463999271392822, 2.4381000995635986, 2.408400058746338, 2.358599901199341, 2.3513998985290527, 2.2471001148223877, 2.183300018310547, 2.1487998962402344, 2.1389999389648438, 2.11899995803833, 2.115799903869629, 2.0560998916625977, 1.9594999551773071, 1.8194999694824219, 1.8244999647140503, 1.52839994430542, 1.6836999654769897, 1.5361000299453735, 0.5927000045776367, 1.420199990272522, 0.6155999898910522, 0.09380000084638596, 1.28410005569458, 0.7630000114440918, -0.3206999897956848, 1.1282999515533447, 0.7785999774932861, 3.243299961090088, 3.223900079727173, 3.222899913787842, 3.2227001190185547, 3.216599941253662, 3.2079999446868896, 3.1802000999450684, 3.17549991607666, 3.171099901199341, 3.1700000762939453, 3.1679999828338623, 3.16129994392395, 3.1431000232696533, 3.142699956893921, 3.135999917984009, 3.1250998973846436, 3.1240999698638916, 3.1236000061035156, 3.0910000801086426, 3.0304999351501465, 3.028599977493286, 3.023200035095215, 3.0206000804901123, 2.9974000453948975, 2.922499895095825, 2.907599925994873, 2.9017999172210693, 2.851300001144409, 2.801100015640259, 2.7971999645233154, 2.7867000102996826, 2.6528000831604004, 2.6579999923706055, 2.5964999198913574, 2.2351999282836914, 1.7281999588012695, 2.0378000736236572, 2.3482000827789307, 0.892799973487854, 1.1354000568389893, 0.09279999881982803, 0.20730000734329224, -0.9624999761581421, 1.3365999460220337, 0.9258999824523926, -0.3443000018596649, -0.9843999743461609, -1.3138999938964844, 4.1570000648498535, 4.155099868774414, 4.145599842071533, 4.1381001472473145, 4.126100063323975, 4.113800048828125, 4.11299991607666, 4.097799777984619, 4.073699951171875, 4.0640997886657715, 4.0355000495910645, 4.032100200653076, 3.983799934387207, 3.9314000606536865, 3.927999973297119, 3.907399892807007, 3.903899908065796, 3.7309999465942383, 3.726300001144409, 3.7167999744415283, 3.6733999252319336, 3.5195999145507812, 3.4210000038146973, 3.2265000343322754, 2.178999900817871, 1.9723999500274658, 1.3777999877929688, 0.9948999881744385, 0.9947999715805054, 0.8313999772071838, 0.7189000248908997, 0.6542999744415283, 0.003800000064074993, 0.09740000218153, -0.42480000853538513, -0.5425999760627747, -1.2788000106811523, -0.2711000144481659, -1.013200044631958, -1.8346999883651733, 2.348900079727173, 2.343400001525879, 2.337100028991699, 2.3359999656677246, 2.3340001106262207, 2.33240008354187, 2.3320999145507812, 2.331399917602539, 2.314500093460083, 2.3085999488830566, 2.297600030899048, 2.282399892807007, 2.2788000106811523, 2.27810001373291, 2.2428998947143555, 2.2411000728607178, 2.240999937057495, 2.2279000282287598, 2.219899892807007, 2.160099983215332, 2.1361000537872314, 2.0826001167297363, 2.0813000202178955, 2.0641000270843506, 2.0508999824523926, 2.043100118637085, 2.0297000408172607, 2.0176000595092773, 2.0127999782562256, 2.0051000118255615, 1.961300015449524, 1.972499966621399, 1.9666999578475952, 1.8066999912261963, 1.8651000261306763, 1.7253999710083008, 1.8108999729156494, 1.6401000022888184, 1.3768999576568604, 1.4658000469207764, 1.3486000299453735, 1.5161999464035034, 0.8529999852180481, 1.0907000303268433, 1.3782000541687012, 0.6033999919891357, 0.035100001841783524, 0.9699000120162964, -0.06970000267028809, 0.2784999907016754, 0.5238999724388123, 1.246500015258789, 1.284000039100647, 3.8036999702453613, 3.7848000526428223, 3.780900001525879, 3.757200002670288, 3.7381999492645264, 3.7323999404907227, 3.7304000854492188, 3.724100112915039, 3.719399929046631, 3.7128000259399414, 3.7118000984191895, 3.7116000652313232, 3.7111001014709473, 3.7004001140594482, 3.695199966430664, 3.677799940109253, 3.670599937438965, 3.646199941635132, 3.638000011444092, 3.628999948501587, 3.621799945831299, 3.611299991607666, 3.607599973678589, 3.602799892425537, 3.5973000526428223, 3.558000087738037, 3.446000099182129, 3.4028000831604004, 3.3487000465393066, 3.3343000411987305, 2.9072999954223633, 2.780400037765503, 1.8639999628067017, 2.268199920654297, 0.7853999733924866, 2.6810998916625977, 2.136399984359741, -0.6305999755859375, -0.44620001316070557, 0.052299998700618744, 1.059999942779541, 0.30070000886917114, -0.7386999726295471, 0.2199999988079071, 1.2630000114440918, 3.8406999111175537, 3.8255999088287354, 3.809000015258789, 3.7809998989105225, 3.722599983215332, 3.718899965286255, 3.6684000492095947, 3.629699945449829, 3.626499891281128, 3.601900100708008, 3.595900058746338, 3.5655999183654785, 3.5106000900268555, 3.447700023651123, 3.378200054168701, 3.3747000694274902, 3.3210999965667725, 3.3106000423431396, 3.1586999893188477, 3.03439998626709, 2.266400098800659, 2.146899938583374, 1.7582999467849731, 1.5025999546051025, 0.9914000034332275, 0.9639000296592712, 0.7522000074386597, 0.6166999936103821, 0.3873000144958496, 0.33640000224113464, -1.2819000482559204, -1.248900055885315, -2.318000078201294, -3.330199956893921, 4.4781999588012695, 4.458700180053711, 4.43209981918335, 4.427499771118164, 4.416100025177002, 4.411099910736084, 4.400400161743164, 4.393499851226807, 4.392899990081787, 4.374800205230713, 4.359600067138672, 4.3516998291015625, 4.344099998474121, 4.336100101470947, 4.325200080871582, 4.304699897766113, 4.301599979400635, 4.296800136566162, 4.28410005569458, 4.2571001052856445, 4.054100036621094, 4.014599800109863, 4.004799842834473, 3.891900062561035, 3.6826000213623047, 3.5107998847961426, 3.466900110244751, 3.0092999935150146, 2.888200044631958, 2.8417999744415283, 1.7841999530792236, 1.9265999794006348, 1.1473000049591064, 1.044100046157837, 0.07410000264644623, 0.2793999910354614, -0.3840999901294708, 0.19699999690055847, -0.4799000024795532, 3.1517999172210693, 3.1459999084472656, 3.134200096130371, 3.132200002670288, 3.131200075149536, 3.12719988822937, 3.119499921798706, 3.1166000366210938, 3.1149001121520996, 3.1119000911712646, 3.1105000972747803, 3.105299949645996, 3.1048998832702637, 3.099299907684326, 3.094599962234497, 3.093100070953369, 3.091599941253662, 3.0892999172210693, 3.0882999897003174, 3.0852999687194824, 3.071899890899658, 3.0717999935150146, 3.0608999729156494, 3.02839994430542, 3.0160999298095703, 3.013700008392334, 3.001800060272217, 3.001699924468994, 2.995300054550171, 2.98799991607666, 2.9583001136779785, 2.8076000213623047, 0.5641000270843506, 0.5910000205039978, 2.8427999019622803, -0.3215999901294708, -1.2541999816894531, 3.3180999755859375, 3.3153998851776123, 3.2992000579833984, 3.296999931335449, 3.291800022125244, 3.286900043487549, 3.273400068283081, 3.2539000511169434, 3.226300001144409, 3.184799909591675, 3.136699914932251, 3.0655999183654785, 3.059499979019165, 3.050800085067749, 3.045799970626831, 3.0067999362945557, 2.9972000122070312, 2.951200008392334, 2.931299924850464, 2.6849000453948975, 2.6682000160217285, 2.407399892807007, 2.2973999977111816, 2.219599962234497, 2.1589999198913574, 2.15339994430542, 2.103800058364868, 2.0420000553131104, 1.8702000379562378, 1.8420000076293945, 1.6204999685287476, 0.478300005197525, 1.1556999683380127, 1.306399941444397, 0.4456999897956848, 1.2408000230789185, -1.5913000106811523, -0.9746000170707703, 1.5041999816894531, -0.7626000046730042, 2.8940999507904053, 2.8554000854492188, 2.8296000957489014, 2.814300060272217, 2.7843000888824463, 2.7276999950408936, 2.6914000511169434, 2.6905999183654785, 2.6849000453948975, 2.671099901199341, 2.6496999263763428, 2.619800090789795, 2.4921000003814697, 2.441699981689453, 2.388000011444092, 2.360599994659424, 2.0092999935150146, 1.9615000486373901, 1.9378000497817993, 1.895300030708313, 1.8904999494552612, 1.876099944114685, 1.8113000392913818, 1.5774999856948853, 1.531499981880188, 1.5160000324249268, 1.4545999765396118, 1.211899995803833, 1.0717999935150146, 1.0383000373840332, 0.6827999949455261, 0.7200999855995178, 0.840399980545044, -0.017500000074505806, 0.4925999939441681, -0.46129998564720154, 0.40560001134872437, 0.9182999730110168, 0.251800000667572, -1.6318999528884888, 4.783699989318848, 4.779300212860107, 4.772299766540527, 4.7667999267578125, 4.761499881744385, 4.742499828338623, 4.742400169372559, 4.7399001121521, 4.721199989318848, 4.711400032043457, 4.705699920654297, 4.652699947357178, 4.649700164794922, 4.646100044250488, 4.610799789428711, 4.604599952697754, 4.589700222015381, 4.543099880218506, 4.4604997634887695, 4.406700134277344, 4.375500202178955, 4.349899768829346, 4.288599967956543, 4.2621002197265625, 4.065999984741211, 4.046500205993652, 4.045100212097168, 4.0366997718811035, 4.018199920654297, 4.001699924468994, 3.9479000568389893, 3.872499942779541, 2.4195001125335693, 2.7744998931884766, 0.9182999730110168, 1.062999963760376, 0.9391000270843506, -0.1581999957561493, 0.373199999332428, -0.5239999890327454, -0.23819999396800995, 0.7627000212669373, -0.12870000302791595, -1.2039999961853027, 3.5999999046325684, 3.5917000770568848, 3.5901999473571777, 3.572999954223633, 3.569999933242798, 3.5627999305725098, 3.5613999366760254, 3.559999942779541, 3.5392000675201416, 3.538300037384033, 3.5234999656677246, 3.501199960708618, 3.495800018310547, 3.4916000366210938, 3.4892001152038574, 3.48580002784729, 3.47760009765625, 3.4549999237060547, 3.454200029373169, 3.4335999488830566, 3.4128000736236572, 3.3952999114990234, 3.38700008392334, 3.371500015258789, 3.3682000637054443, 3.3636999130249023, 3.356800079345703, 3.352099895477295, 3.3506999015808105, 3.3471999168395996, 3.3264999389648438, 3.126300096511841, 3.09060001373291, 2.8143999576568604, 2.5495998859405518, 2.452199935913086, 0.30160000920295715, 2.0897998809814453, 1.132099986076355, -1.3265000581741333, -1.3524999618530273, 3.6884000301361084, 3.6828999519348145, 3.6679000854492188, 3.6451001167297363, 3.6338999271392822, 3.626699924468994, 3.6242001056671143, 3.6222000122070312, 3.593899965286255, 3.590100049972534, 3.578000068664551, 3.5280001163482666, 3.5185999870300293, 3.4809999465942383, 3.4804000854492188, 3.450500011444092, 3.430999994277954, 3.421099901199341, 3.4117000102996826, 3.406599998474121, 3.3856000900268555, 3.3606998920440674, 3.3568999767303467, 3.3378000259399414, 3.3176000118255615, 3.2929999828338623, 3.276400089263916, 3.20989990234375, 3.1468000411987305, 3.0908000469207764, 2.7873001098632812, 1.9642000198364258, 2.5202999114990234, 2.150700092315674, 2.3097000122070312, 2.7939999103546143, 1.1755000352859497, 1.5084999799728394, 2.6119000911712646, 1.8849999904632568, 2.3292999267578125, -0.8188999891281128, -0.07689999788999557, -1.0684000253677368, -0.16599999368190765, -1.7218999862670898, -1.1145999431610107, 3.7720999717712402, 3.7655999660491943, 3.7411000728607178, 3.732300043106079, 3.7300000190734863, 3.7295000553131104, 3.7288999557495117, 3.721299886703491, 3.716900110244751, 3.704900026321411, 3.704699993133545, 3.699399948120117, 3.6370999813079834, 3.6338999271392822, 3.6001999378204346, 3.597399950027466, 3.5969998836517334, 3.5875000953674316, 3.533900022506714, 3.532099962234497, 3.492500066757202, 3.4237000942230225, 3.384500026702881, 3.33489990234375, 3.3059000968933105, 3.2781999111175537, 3.226599931716919, 3.161400079727173, 3.1507999897003174, 3.064199924468994, 2.421999931335449, 2.2925000190734863, 2.3529000282287598, 0.5813000202178955, 0.49549999833106995, 0.19760000705718994, 0.38850000500679016, -0.7135999798774719, -0.23010000586509705, -0.6890000104904175, -1.298200011253357, -1.7546000480651855, 4.427700042724609, 4.337200164794922, 4.322500228881836, 4.301300048828125, 4.299300193786621, 4.2642998695373535, 4.225900173187256, 4.223100185394287, 4.214000225067139, 4.20389986038208, 4.18179988861084, 4.171500205993652, 4.151800155639648, 4.151000022888184, 4.0625, 4.042399883270264, 4.036399841308594, 4.021399974822998, 3.97979998588562, 3.9242000579833984, 3.770900011062622, 3.7451000213623047, 3.680000066757202, 3.580699920654297, 3.483799934387207, 3.452699899673462, 3.445199966430664, 3.0285000801086426, 3.004699945449829, 2.01990008354187, 1.9119999408721924, 0.9775000214576721, 0.40400001406669617, 0.692799985408783, 0.6876000165939331, 0.8633000254631042, 1.0331000089645386, 0.37860000133514404, -0.4553000032901764, -1.0121999979019165, -1.7862999439239502, 0.5160999894142151, 0.6330999732017517, -1.1779999732971191, 3.8183999061584473, 3.8124001026153564, 3.736999988555908, 3.7197999954223633, 3.70169997215271, 3.6958999633789062, 3.6733999252319336, 3.6661999225616455, 3.6486001014709473, 3.646899938583374, 3.6412999629974365, 3.5532000064849854, 3.477099895477295, 3.3808000087738037, 3.320199966430664, 3.266200065612793, 3.150399923324585, 3.1321001052856445, 2.574700117111206, 1.3025000095367432, 1.1444000005722046, 0.3361000120639801, 0.17710000276565552, 0.17710000276565552, 0.17710000276565552, 0.17710000276565552, 0.17710000276565552, 0.17710000276565552, 0.17710000276565552, 0.17710000276565552, 0.12030000239610672, 0.0364999994635582, 0.17710000276565552, 0.13580000400543213, -0.22100000083446503, -0.18080000579357147, 0.17710000276565552, -0.37299999594688416, -0.4066999852657318, 0.17710000276565552, -0.6783000230789185, -0.29840001463890076, -1.0714999437332153, -1.3021999597549438, -1.2056000232696533, -1.0877000093460083, -1.9780999422073364, 2.9052000045776367, 2.8952999114990234, 2.8833999633789062, 2.88100004196167, 2.8805999755859375, 2.8752999305725098, 2.8685998916625977, 2.8635001182556152, 2.860100030899048, 2.859800100326538, 2.849100112915039, 2.8464999198913574, 2.8436999320983887, 2.8434998989105225, 2.8431999683380127, 2.839200019836426, 2.8366000652313232, 2.8280999660491943, 2.821899890899658, 2.8192999362945557, 2.8138999938964844, 2.8113999366760254, 2.8101000785827637, 2.8039000034332275, 2.7846999168395996, 2.7836999893188477, 2.7513999938964844, 2.746299982070923, 2.744999885559082, 2.724100112915039, 2.719399929046631, 2.723400115966797, 2.365499973297119, 1.013700008392334, 0.8912000060081482, 1.9332000017166138, 1.7093000411987305, 0.36320000886917114, -0.3183000087738037, -0.13050000369548798, -0.32120001316070557, 1.1025999784469604, 4.014100074768066, 3.9853999614715576, 3.981800079345703, 3.9800000190734863, 3.9725000858306885, 3.9716999530792236, 3.9579999446868896, 3.956700086593628, 3.9472999572753906, 3.941999912261963, 3.934499979019165, 3.9226999282836914, 3.9135000705718994, 3.9017999172210693, 3.897900104522705, 3.88100004196167, 3.880199909210205, 3.866499900817871, 3.84060001373291, 3.8331000804901123, 3.811199903488159, 3.671999931335449, 3.5980000495910645, 3.570199966430664, 3.5320000648498535, 3.425100088119507, 3.351799964904785, 3.2948999404907227, 3.287100076675415, 3.206700086593628, 2.333899974822998, 1.3003000020980835, 1.2532999515533447, 0.8165000081062317, 2.020400047302246, 0.4221999943256378, -0.7505000233650208, 0.779699981212616, 1.788599967956543, -0.7960000038146973, 3.0120999813079834, 2.982100009918213, 2.95169997215271, 2.9507999420166016, 2.9493000507354736, 2.946199893951416, 2.930999994277954, 2.918600082397461, 2.897700071334839, 2.8534998893737793, 2.8229000568389893, 2.7809998989105225, 2.7685999870300293, 2.731300115585327, 2.7302000522613525, 2.6303000450134277, 2.611299991607666, 2.583899974822998, 2.4374001026153564, 2.416800022125244, 2.3833999633789062, 2.3011999130249023, 2.2897000312805176, 2.1233999729156494, 2.092900037765503, 1.9358999729156494, 1.874500036239624, 1.8504999876022339, 1.8092000484466553, 1.791100025177002, 1.749500036239624, 1.311400055885315, 1.6404000520706177, 1.5963000059127808, 0.718999981880188, 1.1186000108718872, 0.9350000023841858, 0.7221999764442444, 0.8773999810218811, 0.056699998676776886, 0.684499979019165, -0.5231000185012817, -0.020400000736117363, -0.2329999953508377, 0.854200005531311, -0.27390000224113464, -0.18150000274181366, 3.5699000358581543, 3.5597000122070312, 3.509000062942505, 3.5028998851776123, 3.4983999729156494, 3.4470999240875244, 3.4302000999450684, 3.408799886703491, 3.4042000770568848, 3.3935999870300293, 3.3910999298095703, 3.388400077819824, 3.373500108718872, 3.36899995803833, 3.361599922180176, 3.351900100708008, 3.337399959564209, 3.334199905395508, 3.2920000553131104, 3.260200023651123, 3.2465999126434326, 3.239799976348877, 3.220599889755249, 3.21560001373291, 3.2093000411987305, 3.2051000595092773, 3.1384999752044678, 3.102400064468384, 3.0813000202178955, 3.060800075531006, 2.925800085067749, 2.9554998874664307, 2.7927000522613525, 2.8933000564575195, 1.5946999788284302, 0.6827999949455261, 0.4514000117778778, 1.486899971961975, 0.8097000122070312, -1.136299967765808, -0.26750001311302185, -0.5353999733924866, -0.6503999829292297, -0.600600004196167, -2.2274999618530273, 1.9184000492095947, -0.6395999789237976, 3.0230000019073486, 3.0092999935150146, 2.998500108718872, 2.986599922180176, 2.979099988937378, 2.9767000675201416, 2.9375998973846436, 2.9340999126434326, 2.93149995803833, 2.9307000637054443, 2.910099983215332, 2.8980000019073486, 2.8856000900268555, 2.8750998973846436, 2.8726999759674072, 2.858099937438965, 2.8529999256134033, 2.8529000282287598, 2.830699920654297, 2.819499969482422, 2.8124001026153564, 2.792099952697754, 2.7908999919891357, 2.774399995803833, 2.765899896621704, 2.7476999759674072, 2.7393999099731445, 2.7323999404907227, 2.70740008354187, 2.6933000087738037, 2.561300039291382, 2.4677000045776367, 2.526099920272827, 2.527100086212158, 1.3530000448226929, 1.1928999423980713, 2.000499963760376, 0.6388999819755554, 1.4293999671936035, 1.5846999883651733, -0.5418000221252441, -0.6517000198364258, 1.4032000303268433, -1.067199945449829, 0.18209999799728394, 0.094200000166893, 2.95740008354187, 2.9479000568389893, 2.9398999214172363, 2.938199996948242, 2.9319000244140625, 2.931299924850464, 2.8956000804901123, 2.892400026321411, 2.8907999992370605, 2.8880999088287354, 2.884999990463257, 2.8536999225616455, 2.8534998893737793, 2.8494999408721924, 2.84089994430542, 2.813999891281128, 2.8132998943328857, 2.8034000396728516, 2.7888998985290527, 2.773699998855591, 2.7723000049591064, 2.75600004196167, 2.7516000270843506, 2.747299909591675, 2.718899965286255, 2.66129994392395, 2.626199960708618, 2.6236000061035156, 2.569200038909912, 2.5601000785827637, 2.526900053024292, 2.3013999462127686, 1.9977999925613403, 1.520799994468689, 1.7333999872207642, 2.1078999042510986, 1.9092999696731567, 1.6506999731063843, 1.653499960899353, 2.2054998874664307, 1.0362999439239502, 2.0118000507354736, 1.6685999631881714, 0.7829999923706055, 0.7756999731063843, 0.8934000134468079, 0.7732999920845032, -0.2897999882698059, -0.48910000920295715, -0.8314999938011169, 1.4110000133514404, -0.43709999322891235, 4.70359992980957, 4.62939977645874, 4.626299858093262, 4.621200084686279, 4.582799911499023, 4.499899864196777, 4.430600166320801, 4.39139986038208, 4.000199794769287, 3.971299886703491, 3.8952999114990234, 3.8089001178741455, 3.614000082015991, 3.5078999996185303, 3.148900032043457, 2.5434999465942383, 2.231300115585327, 2.0348000526428223, 1.799399971961975, 1.6243000030517578, 1.5914000272750854, 1.417199969291687, 1.3323999643325806, 1.3323999643325806, 1.3323999643325806, 1.3323999643325806, 1.3323999643325806, 1.3323999643325806, 1.3323999643325806, 1.3323999643325806, 1.1678999662399292, 1.232100009918213, 1.1238000392913818, 1.3323999643325806, 1.3323999643325806, 1.034999966621399, 1.0259000062942505, 1.3323999643325806, 1.3323999643325806, 0.6725000143051147, 0.659600019454956, 1.3323999643325806, -0.3052000105381012, -0.3409999907016754, -1.1345000267028809, -1.6857999563217163, -2.134700059890747], \"logprob\": [30.0, 29.0, 28.0, 27.0, 26.0, 25.0, 24.0, 23.0, 22.0, 21.0, 20.0, 19.0, 18.0, 17.0, 16.0, 15.0, 14.0, 13.0, 12.0, 11.0, 10.0, 9.0, 8.0, 7.0, 6.0, 5.0, 4.0, 3.0, 2.0, 1.0, -2.8880999088287354, -1.6211999654769897, -3.3864998817443848, -3.869800090789795, -4.099299907684326, -3.890700101852417, -4.48960018157959, -4.7083001136779785, -4.651500225067139, -4.814199924468994, -5.183599948883057, -5.547100067138672, -2.013200044631958, -4.826700210571289, -2.4642999172210693, -4.6641998291015625, -3.6393001079559326, -4.171000003814697, -5.27400016784668, -4.793000221252441, -3.3833999633789062, -5.026299953460693, -10.005900382995605, -10.005900382995605, -10.005900382995605, -10.005900382995605, -10.005900382995605, -10.005900382995605, -10.005900382995605, -10.005900382995605, -10.005900382995605, -2.638200044631958, -10.005900382995605, -10.005900382995605, -10.005900382995605, -10.005900382995605, -5.889599800109863, -10.005900382995605, -6.418799877166748, -4.087200164794922, -10.005900382995605, -3.383699893951416, -5.109099864959717, -4.695400238037109, -3.847399950027466, -5.200099945068359, -2.3575000762939453, -1.7473000288009644, -3.691200017929077, -4.502900123596191, -4.541500091552734, -4.916100025177002, -5.417500019073486, -5.719299793243408, -5.273499965667725, -5.842700004577637, -4.110799789428711, -6.0258002281188965, -6.116000175476074, -6.1803998947143555, -6.212600231170654, -6.2621002197265625, -6.396500110626221, -4.261000156402588, -4.1315999031066895, -6.547299861907959, -6.680500030517578, -6.865499973297119, -3.8345000743865967, -7.310400009155273, -4.759799957275391, -7.52810001373291, -4.235799789428711, -1.2487000226974487, -4.458499908447266, -7.877699851989746, -3.8826000690460205, -5.065299987792969, -3.797800064086914, -3.663300037384033, -3.1247000694274902, -4.404099941253662, -4.972099781036377, -5.08650016784668, -5.469399929046631, -5.8024001121521, -5.761000156402588, -5.812900066375732, -3.4890999794006348, -3.925100088119507, -3.5129001140594482, -4.359300136566162, -4.156799793243408, -4.368100166320801, -4.614299774169922, -4.445799827575684, -5.112800121307373, -5.156499862670898, -5.2204999923706055, -5.248300075531006, -5.045000076293945, -5.355800151824951, -5.367000102996826, -5.417799949645996, -4.789400100708008, -5.461400032043457, -4.451600074768066, -5.892499923706055, -5.9019999504089355, -4.679500102996826, -5.61359977722168, -6.159299850463867, -3.603800058364868, -6.376200199127197, -6.410200119018555, -6.447299957275391, -5.613999843597412, -6.531499862670898, -3.3138999938964844, -2.605299949645996, -4.406899929046631, -5.185800075531006, -5.074699878692627, -1.5125000476837158, -3.651400089263916, -2.4739999771118164, -3.151599884033203, -3.825900077819824, -4.496200084686279, -4.668799877166748, -4.161200046539307, -4.677800178527832, -4.633999824523926, -4.724100112915039, -4.700099945068359, -4.922100067138672, -5.033400058746338, -4.161499977111816, -3.7060000896453857, -4.8933000564575195, -5.0395002365112305, -5.072800159454346, -5.210299968719482, -4.6539998054504395, -4.826200008392334, -5.343999862670898, -5.362400054931641, -3.286099910736084, -5.458399772644043, -4.234799861907959, -5.650000095367432, -5.417200088500977, -5.752600193023682, -5.79610013961792, -5.823599815368652, -6.144700050354004, -6.203999996185303, -6.240300178527832, -3.5462000370025635, -6.3343000411987305, -6.338900089263916, -6.350299835205078, -6.55049991607666, -2.6054000854492188, -6.623499870300293, -6.9679999351501465, -5.4166998863220215, -1.0276999473571777, -3.5901999473571777, -3.972100019454956, -5.41540002822876, -3.173099994659424, -3.84660005569458, -3.6003000736236572, -5.434999942779541, -4.395100116729736, -4.73799991607666, -4.792200088500977, -4.841300010681152, -5.223499774932861, -5.337600231170654, -4.378399848937988, -3.4119999408721924, -4.008900165557861, -4.756899833679199, -4.2153000831604, -1.5947999954223633, -1.5418000221252441, -3.451200008392334, -4.333099842071533, -4.9847002029418945, -3.8559000492095947, -4.965000152587891, -5.710100173950195, -5.65880012512207, -3.658799886703491, -5.035399913787842, -4.927599906921387, -5.725500106811523, -5.787799835205078, -5.832399845123291, -5.28410005569458, -5.976099967956543, -5.898200035095215, -5.0725998878479, -5.9868998527526855, -5.102799892425537, -5.227700233459473, -3.1034998893737793, -6.4604997634887695, -6.570499897003174, -4.96019983291626, -4.781300067901611, -3.6684000492095947, -3.2583000659942627, -3.9342000484466553, -3.8394999504089355, -3.055999994277954, -3.8190999031066895, -3.5209999084472656, -5.54010009765625, -5.293700218200684, -3.8677000999450684, -4.146900177001953, -4.625400066375732, -4.664100170135498, -4.729800224304199, -4.938399791717529, -5.113500118255615, -5.161499977111816, -4.775899887084961, -5.684899806976318, -5.7393999099731445, -4.025000095367432, -5.054299831390381, -6.017300128936768, -4.738900184631348, -3.380000114440918, -5.1066999435424805, -6.5243000984191895, -5.206999778747559, -5.081699848175049, -3.891700029373169, -7.253699779510498, -6.920499801635742, -7.242199897766113, -4.883900165557861, -2.4163999557495117, -3.934000015258789, -2.5510001182556152, -8.309800148010254, -6.000400066375732, -4.633299827575684, -1.8753000497817993, -2.85509991645813, -3.723599910736084, -2.4437999725341797, -2.8317999839782715, -4.724599838256836, -4.543900012969971, -4.562900066375732, -4.105100154876709, -4.5518999099731445, -4.805600166320801, -5.03249979019165, -5.0278000831604, -5.03249979019165, -3.2599000930786133, -3.740499973297119, -2.6846001148223877, -3.9788999557495117, -4.191400051116943, -4.20359992980957, -4.361299991607666, -4.674799919128418, -4.931300163269043, -4.979300022125244, -5.0345001220703125, -5.731900215148926, -4.836599826812744, -5.843699932098389, -6.0503997802734375, -6.061299800872803, -6.080599784851074, -6.07889986038208, -6.197800159454346, -6.186999797821045, -6.34250020980835, -6.333099842071533, -6.501500129699707, -6.527400016784668, -6.401899814605713, -6.6641998291015625, -6.7403998374938965, -5.057700157165527, -6.810100078582764, -6.746300220489502, -1.6994999647140503, -4.710899829864502, -2.9340999126434326, -5.4105000495910645, -2.86680006980896, -3.2985999584198, -3.30049991607666, -3.160099983215332, -5.4145002365112305, -2.3340001106262207, -3.9128000736236572, -3.7446000576019287, -5.25540018081665, -4.739799976348877, -4.609000205993652, -4.398600101470947, -3.9428999423980713, -4.1946001052856445, -4.497700214385986, -4.780900001525879, -4.384099960327148, -4.228799819946289, -3.155100107192993, -4.7307000160217285, -4.67519998550415, -3.6566998958587646, -4.7347002029418945, -4.6417999267578125, -5.186299800872803, -5.325799942016602, -5.422399997711182, -5.903200149536133, -5.982699871063232, -6.72130012512207, -4.61929988861084, -5.530600070953369, -7.5518999099731445, -3.906599998474121, -5.880899906158447, -3.9570000171661377, -3.8610999584198, -3.650099992752075, -3.9883999824523926, -6.299900054931641, -4.134099960327148, -3.9374001026153564, -4.0904998779296875, -6.404600143432617, -5.690400123596191, -5.354100227355957, -2.5766000747680664, -3.009700059890747, -2.529400110244751, -3.461199998855591, -2.870500087738037, -2.2365000247955322, -4.203700065612793, -3.470900058746338, -3.101599931716919, -4.445400238037109, -4.0995001792907715, -3.5397000312805176, -4.484300136566162, -4.684100151062012, -4.565400123596191, -4.910900115966797, -4.944900035858154, -4.947800159454346, -4.226799964904785, -5.0725998878479, -5.357900142669678, -5.509500026702881, -5.250199794769287, -5.170000076293945, -5.577400207519531, -4.66480016708374, -5.668600082397461, -5.780099868774414, -5.82859992980957, -5.887499809265137, -5.906700134277344, -5.723999977111816, -5.98199987411499, -6.4019999504089355, -5.356599807739258, -6.4390997886657715, -6.450300216674805, -6.545499801635742, -1.9322999715805054, -4.5320000648498535, -5.198800086975098, -7.019899845123291, -7.164700031280518, -7.174799919128418, -5.842100143432617, -3.6285998821258545, -4.194300174713135, -3.7927000522613525, -2.4421000480651855, -1.4908000230789185, -3.9456000328063965, -4.734099864959717, -3.2564001083374023, -3.982300043106079, -3.1024999618530273, -3.3029000759124756, -3.791800022125244, -4.916999816894531, -5.001299858093262, -4.750899791717529, -4.802800178527832, -4.985499858856201, -3.8220999240875244, -3.7402000427246094, -4.090700149536133, -4.085599899291992, -4.0665998458862305, -4.4756999015808105, -4.287199974060059, -4.628699779510498, -4.824999809265137, -4.826300144195557, -5.081299781799316, -3.6510000228881836, -5.324100017547607, -5.524199962615967, -4.68179988861084, -5.5980000495910645, -4.950900077819824, -1.270900011062622, -3.014899969100952, -6.232999801635742, -6.3703999519348145, -6.693299770355225, -2.3513998985290527, -7.222300052642822, -6.741000175476074, -5.14870023727417, -3.299499988555908, -9.877599716186523, -9.877599716186523, -10.040900230407715, -2.4765000343322754, -5.627200126647949, -2.8254001140594482, -3.960400104522705, -4.51140022277832, -4.69189977645874, -4.497799873352051, -5.210400104522705, -5.126500129699707, -5.344900131225586, -4.9944000244140625, -4.819200038909912, -3.7262001037597656, -4.4004998207092285, -5.44950008392334, -5.417699813842773, -4.940700054168701, -4.7652997970581055, -5.708000183105469, -5.877999782562256, -6.136000156402588, -4.573500156402588, -5.271699905395508, -6.328700065612793, -6.639400005340576, -6.579500198364258, -4.7266998291015625, -6.750699996948242, -6.765699863433838, -7.1504998207092285, -4.9028000831604, -7.492499828338623, -7.4257001876831055, -7.542799949645996, -3.898099899291992, -7.636099815368652, -5.3927998542785645, -7.72160005569458, -7.737199783325195, -7.7617998123168945, -2.6407999992370605, -5.053199768066406, -5.338399887084961, -2.613600015640259, -4.381100177764893, -2.3879001140594482, -4.4720001220703125, -3.9725000858306885, -2.709700107574463, -3.6791000366210938, -3.5139000415802, -4.256199836730957, -2.342400074005127, -3.3053998947143555, -4.084499835968018, -3.3619000911712646, -2.794100046157837, -4.032100200653076, -3.2887001037597656, -3.7792000770568848, -4.310299873352051, -4.754899978637695, -4.9253997802734375, -3.8763999938964844, -3.963399887084961, -4.238500118255615, -4.591000080108643, -4.864500045776367, -4.912899971008301, -4.925600051879883, -5.009200096130371, -3.3984999656677246, -4.823200225830078, -5.109099864959717, -5.114699840545654, -4.207200050354004, -5.190400123596191, -5.221399784088135, -5.359600067138672, -5.3917999267578125, -5.44290018081665, -5.594900131225586, -5.208799839019775, -5.662499904632568, -5.67080020904541, -5.699399948120117, -3.6333999633789062, -3.3708999156951904, -5.964600086212158, -3.0220000743865967, -6.480500221252441, -5.373000144958496, -4.318600177764893, -2.8018999099731445, -3.2030999660491943, -1.6461999416351318, -3.712100028991699, -3.0329999923706055, -4.895100116729736, -4.67519998550415, -3.4598000049591064, -3.6651999950408936, -4.005499839782715, -4.530099868774414, -4.376500129699707, -4.7221999168396, -4.897600173950195, -4.990699768066406, -3.835099935531616, -4.130300045013428, -4.494800090789795, -4.798099994659424, -5.267300128936768, -5.323599815368652, -5.448599815368652, -5.265200138092041, -5.336999893188477, -4.232600212097168, -3.1972999572753906, -2.273900032043457, -6.2270002365112305, -6.418900012969971, -6.59630012512207, -2.2490999698638916, -6.738800048828125, -6.755300045013428, -1.2479000091552734, -7.267000198364258, -3.218600034713745, -8.532899856567383, -4.630799770355225, -4.269899845123291, -7.846399784088135, -4.038099765777588, -2.757999897003174, -2.212599992752075, -3.823899984359741, -10.545499801635742, -4.500899791717529, -5.362199783325195, -6.375699996948242, -6.525599956512451, -2.7964000701904297, -3.3315999507904053, -2.927000045776367, -2.1175999641418457, -3.8970000743865967, -4.054599761962891, -4.182199954986572, -3.1958999633789062, -4.21019983291626, -4.366700172424316, -4.553599834442139, -4.519999980926514, -4.662099838256836, -4.714600086212158, -4.7829999923706055, -4.304599761962891, -4.8942999839782715, -4.930200099945068, -4.917500019073486, -5.138700008392334, -5.843400001525879, -5.948599815368652, -3.857800006866455, -5.06820011138916, -5.839799880981445, -6.934100151062012, -4.6331000328063965, -7.64709997177124, -7.457600116729736, -3.234600067138672, -2.8838000297546387, -4.394599914550781, -2.8361001014709473, -3.6331000328063965, -3.14490008354187, -3.8698999881744385, -3.579400062561035, -4.0142998695373535, -3.990000009536743, -3.1428000926971436, -3.9386000633239746, -4.350200176239014, -4.131700038909912, -1.8116999864578247, -4.3069000244140625, -4.832099914550781, -4.591800212860107, -4.564599990844727, -4.6666998863220215, -4.39769983291626, -5.078000068664551, -4.9583001136779785, -5.176799774169922, -5.204500198364258, -5.22790002822876, -2.7727999687194824, -5.308199882507324, -4.779900074005127, -5.32919979095459, -2.586899995803833, -5.4944000244140625, -5.580900192260742, -5.714099884033203, -5.788300037384033, -5.745299816131592, -5.530099868774414, -6.029799938201904, -6.104899883270264, -1.7585999965667725, -3.74429988861084, -4.365600109100342, -2.2651000022888184, -2.6278998851776123, -5.636099815368652, -4.728300094604492, -5.0725998878479, -4.226500034332275, -4.065400123596191, -4.432199954986572, -2.9384000301361084, -3.1166999340057373, -3.2167999744415283, -5.082900047302246, -4.939499855041504, -5.336400032043457, -5.831399917602539, -2.4719998836517334, -6.398799896240234, -5.448500156402588, -3.715399980545044, -6.442399978637695, -6.681099891662598, -6.713500022888184, -6.859499931335449, -2.933199882507324, -7.5117998123168945, -6.803100109100342, -1.4110000133514404, -5.83620023727417, -1.763800024986267, -4.0381999015808105, -4.7795000076293945, -6.170000076293945, -4.692699909210205, -7.23330020904541, -4.443299770355225, -5.260799884796143, -3.0318000316619873, -4.92110013961792, -5.191299915313721, -5.0391998291015625, -5.75629997253418, -4.810299873352051, -5.185800075531006, -5.998300075531006, -5.509200096130371, -3.88319993019104, -5.132699966430664, -5.5320000648498535, -5.594200134277344, -5.969399929046631, -6.402299880981445, -6.572999954223633, -4.47189998626709, -6.5894999504089355, -6.468599796295166, -5.623499870300293, -4.528500080108643, -7.355400085449219, -3.1810998916625977, -7.621699810028076, -1.788699984550476, -4.24429988861084, -5.387499809265137, -3.6521999835968018, -7.232399940490723, -4.471199989318848, -3.2416000366210938, -4.1722002029418945, -6.500800132751465, -6.0100998878479, -3.3671998977661133, -3.3396999835968018, -1.9835000038146973, -3.5936999320983887, -2.6333999633789062, -2.1465001106262207, -3.098299980163574, -4.868800163269043, -3.527600049972534, -4.362100124359131, -3.680299997329712, -5.584799766540527, -5.818399906158447, -5.6753997802734375, -5.843200206756592, -3.4781999588012695, -3.5204999446868896, -3.6350998878479004, -3.7344000339508057, -3.7957000732421875, -3.9697000980377197, -3.9811999797821045, -3.5597000122070312, -3.69950008392334, -4.158400058746338, -3.3340001106262207, -4.567500114440918, -4.6066999435424805, -4.368299961090088, -4.795599937438965, -4.752299785614014, -4.632500171661377, -5.05810022354126, -5.28980016708374, -5.445400238037109, -3.8870999813079834, -5.64870023727417, -4.455699920654297, -5.799900054931641, -6.19350004196167, -6.271299839019775, -6.285699844360352, -6.185299873352051, -4.384300231933594, -3.859499931335449, -4.9369001388549805, -4.120500087738037, -4.4618000984191895, -4.878300189971924, -3.194999933242798, -3.539099931716919, -3.4811999797821045, -2.987499952316284, -3.5920000076293945, -3.719399929046631, -3.909899950027466, -4.239200115203857, -4.277900218963623, -4.422900199890137, -3.1542000770568848, -3.706399917602539, -3.690999984741211, -3.898900032043457, -4.309700012207031, -4.44950008392334, -4.441699981689453, -4.422599792480469, -4.817999839782715, -1.4009000062942505, -5.003799915313721, -4.581500053405762, -4.820799827575684, -5.262400150299072, -4.959099769592285, -5.3403000831604, -3.440000057220459, -5.499199867248535, -5.5808000564575195, -5.421599864959717, -5.795199871063232, -5.897799968719482, -5.955900192260742, -6.02839994430542, -6.032800197601318, -6.063300132751465, -6.093500137329102, -4.3491997718811035, -5.951300144195557, -3.9619998931884766, -4.683899879455566, -1.5418000221252441, -3.8125, -3.631500005722046, -4.004000186920166, -4.6417999267578125, -3.9096999168395996, -5.074399948120117, -4.920000076293945, -4.5218000411987305, -4.571400165557861, -3.302999973297119, -3.845099925994873, -2.033900022506714, -3.8022000789642334, -4.0802001953125, -3.94950008392334, -4.787499904632568, -4.67110013961792, -5.158299922943115, -5.189199924468994, -5.28410005569458, -5.24560022354126, -5.359399795532227, -5.845200061798096, -5.427999973297119, -5.9994001388549805, -5.582099914550781, -6.100200176239014, -6.141499996185303, -6.097099781036377, -4.4471001625061035, -6.334400177001953, -6.357399940490723, -6.396500110626221, -6.4816999435424805, -6.490300178527832, -4.299799919128418, -5.0121002197265625, -3.935499906539917, -6.797900199890137, -3.893899917602539, -1.5458999872207642, -3.761199951171875, -2.5264999866485596, -3.6707000732421875, -5.422299861907959, -3.0357000827789307, -3.9763998985290527, -5.379700183868408, -4.795599937438965, -5.163899898529053, -3.648099899291992, -4.060299873352051, -4.287399768829346, -5.0208001136779785, -4.917200088500977, -5.172299861907959, -3.9414000511169434, -4.141900062561035, -4.448599815368652, -4.542200088500977, -4.367700099945068, -3.748500108718872, -4.6057000160217285, -2.2195000648498535, -4.847799777984619, -4.9832000732421875, -4.984499931335449, -4.829899787902832, -3.71370005607605, -4.319499969482422, -5.6066999435424805, -5.484300136566162, -5.640600204467773, -5.746300220489502, -5.973199844360352, -3.8452000617980957, -6.12470006942749, -6.375100135803223, -6.490099906921387, -6.616300106048584, -6.698200225830078, -6.0929999351501465, -6.884699821472168, -7.002200126647949, -2.8294999599456787, -6.063499927520752, -1.0881999731063843, -3.1923999786376953, -4.388299942016602, -3.4765000343322754, -4.181700229644775, -4.013700008392334, -4.55079984664917, -3.9326000213623047, -4.63670015335083, -4.672500133514404, -4.493500232696533, -4.583899974822998, -1.3294999599456787, -4.171999931335449, -4.333399772644043, -4.513800144195557, -4.522299766540527, -4.78249979019165, -4.963900089263916, -5.021100044250488, -4.816199779510498, -5.054599761962891, -5.221199989318848, -5.164899826049805, -5.319799900054932, -5.337500095367432, -5.67080020904541, -5.730000019073486, -5.751800060272217, -5.797399997711182, -5.91540002822876, -6.060500144958496, -6.395899772644043, -6.3632001876831055, -6.580699920654297, -6.767399787902832, -6.917600154876709, -6.946300029754639, -6.9832000732421875, -7.39709997177124, -2.4802000522613525, -5.243500232696533, -2.299299955368042, -2.5327000617980957, -2.4251999855041504, -3.265500068664551, -3.324199914932251, -4.561800003051758, -4.763199806213379, -4.956399917602539, -4.851399898529053, -5.070000171661377, -5.005199909210205, -5.35129976272583, -5.621099948883057, -5.58459997177124, -1.7209999561309814, -0.9947999715805054, -4.8480000495910645, -5.011199951171875, -4.176599979400635, -5.009300231933594, -4.857500076293945, -5.406799793243408, -3.1552999019622803, -5.393899917602539, -5.510799884796143, -5.966000080108643, -6.228700160980225, -6.469299793243408, -6.6793999671936035, -6.479100227355957, -2.4779000282287598, -7.084499835968018, -2.7604000568389893, -4.122600078582764, -9.693499565124512, -10.538399696350098, -10.704700469970703, -10.704700469970703, -10.704700469970703, -10.704700469970703, -10.704700469970703, -10.704700469970703, -10.704700469970703, -10.704700469970703, -7.900000095367432, -5.890600204467773, -10.704700469970703, -9.371100425720215, -3.416300058364868, -4.587399959564209, -10.704700469970703, -4.522200107574463, -4.4644999504089355, -10.704700469970703, -4.791600227355957, -7.634300231933594, -4.290500164031982, -4.131499767303467, -5.292099952697754, -5.764999866485596, -6.1894001960754395, -3.4000000953674316, -4.143899917602539, -2.6052000522613525, -2.5409998893737793, -3.1651999950408936, -3.8606998920440674, -4.911900043487549, -4.560500144958496, -4.882999897003174, -2.7941999435424805, -3.1019999980926514, -5.191500186920166, -5.002399921417236, -5.198599815368652, -5.388400077819824, -5.189700126647949, -5.466000080108643, -5.351200103759766, -5.697199821472168, -5.524799823760986, -3.0387001037597656, -5.766300201416016, -5.684599876403809, -5.742700099945068, -6.014999866485596, -6.071800231933594, -6.235499858856201, -6.316699981689453, -6.332600116729736, -6.467199802398682, -2.447499990463257, -5.954800128936768, -2.122299909591675, -3.406599998474121, -3.222100019454956, -4.911300182342529, -4.905900001525879, -3.723299980163574, -3.1475000381469727, -3.325900077819824, -3.5401999950408936, -5.4197998046875, -2.8570001125335693, -3.20989990234375, -3.7416000366210938, -3.5088000297546387, -4.145899772644043, -3.9665000438690186, -3.0471999645233154, -4.258399963378906, -4.58459997177124, -4.389100074768066, -4.723599910736084, -4.806399822235107, -4.860599994659424, -4.784900188446045, -5.029099941253662, -4.6793999671936035, -3.9863998889923096, -5.1930999755859375, -3.4953999519348145, -5.406499862670898, -4.873799800872803, -4.103400230407715, -6.298699855804443, -5.201600074768066, -5.115900039672852, -6.6875, -6.872399806976318, -6.657400131225586, -3.5573999881744385, -7.144199848175049, -4.518400192260742, -1.9185999631881714, -2.833199977874756, -2.3787999153137207, -4.501999855041504, -3.9844000339508057, -3.579699993133545, -4.2221999168396, -4.952600002288818, -4.853799819946289, -4.410699844360352, -5.088200092315674, -5.5192999839782715, -5.5177998542785645, -5.547900199890137, -5.444499969482422, -4.595699787139893, -5.855400085449219, -6.019700050354004, -6.313700199127197, -6.479599952697754, -5.616300106048584, -4.277699947357178, -4.754000186920166, -6.774700164794922, -7.196700096130371, -7.262499809265137, -3.1456000804901123, -3.7980000972747803, -5.4899001121521, -3.8362998962402344, -6.10129976272583, -5.023900032043457, -6.1956000328063965, -3.5195999145507812, -6.90749979019165, -4.33489990234375, -2.2360999584198, -3.053299903869629, -3.6714999675750732, -5.131800174713135, -1.8839999437332153, -4.308700084686279, -4.405099868774414, -2.110300064086914, -3.2774999141693115, -3.948199987411499, -3.6844000816345215, -3.9168999195098877, -3.761699914932251, -4.460400104522705, -3.742000102996826, -4.078199863433838, -4.198200225830078, -4.769700050354004, -4.4232001304626465, -5.0157999992370605, -4.319499969482422, -4.599999904632568, -5.126299858093262, -5.098199844360352, -5.081600189208984, -5.629199981689453, -5.725399971008301, -5.448500156402588, -5.882199764251709, -5.898499965667725, -5.953800201416016, -5.859000205993652, -6.0142998695373535, -4.392899990081787, -4.140900135040283, -6.126200199127197, -6.189599990844727, -4.548900127410889, -5.4197998046875, -3.4744999408721924, -6.385000228881836, -3.257999897003174, -2.976599931716919, -6.606200218200684, -6.572999954223633, -6.63700008392334, -6.547100067138672, -6.910900115966797, -6.792699813842773, -7.010000228881836, -1.0577000379562378, -3.121299982070923, -3.4925999641418457, -5.950099945068359, -3.151900053024292, -2.827399969100952, -2.7676000595092773, -4.440299987792969, -4.67519998550415, -4.331699848175049, -4.674099922180176, -4.593100070953369, -4.861599922180176, -5.277900218963623, -5.05679988861084, -5.688700199127197, -5.4944000244140625, -4.847099781036377, -5.154699802398682, -5.3856000900268555, -5.41480016708374, -5.4695000648498535, -5.598100185394287, -4.847799777984619, -5.978899955749512, -4.861700057983398, -3.8863000869750977, -3.676100015640259, -6.173099994659424, -6.083799839019775, -3.5151000022888184, -3.1175999641418457, -6.448200225830078, -6.4756999015808105, -6.422599792480469, -4.664000034332275, -6.627799987792969, -6.67110013961792, -5.541600227355957, -5.447299957275391, -6.145599842071533, -6.692999839782715, -6.628799915313721, -4.424799919128418, -6.397500038146973, -6.920300006866455, -5.51669979095459, -1.1103999614715576, -2.1977999210357666, -3.795099973678589, -5.57289981842041, -3.3150999546051025, -3.018399953842163, -4.902599811553955, -3.5102999210357666, -4.622600078582764, -4.968999862670898, -3.371000051498413, -3.8469998836517334, -5.211999893188477, -4.286200046539307, -4.935500144958496, -5.072700023651123, -4.436100006103516, -4.740499973297119, -4.922699928283691, -5.020100116729736, -5.142099857330322, -4.799300193786621, -4.909800052642822, -5.533999919891357, -5.731400012969971, -5.746500015258789, -5.134300231933594, -6.0015997886657715, -6.057000160217285, -6.077199935913086, -3.4030001163482666, -6.322299957275391, -6.286499977111816, -6.373700141906738, -6.465000152587891, -6.497099876403809, -6.374300003051758, -6.43720006942749, -6.627399921417236, -6.641499996185303, -6.793300151824951, -5.983399868011475, -7.0980000495910645, -4.856900215148926, -6.4232001304626465, -4.176499843597412, -4.284599781036377, -4.503600120544434, -3.119800090789795, -2.1507999897003174, -2.9321000576019287, -4.3379998207092285, -3.7999000549316406, -3.1435999870300293, -3.2297000885009766, -4.888500213623047, -2.1826999187469482, -4.541900157928467, -3.954200029373169, -3.035399913787842, -3.3736000061035156, -3.7746999263763428, -4.081500053405762, -3.799999952316284, -3.6844000816345215, -3.660799980163574, -4.842700004577637, -4.648399829864502, -2.1470000743865967, -4.006499767303467, -4.177199840545654, -4.1975998878479, -4.480999946594238, -4.216899871826172, -5.161200046539307, -2.0896999835968018, -4.67549991607666, -6.313499927520752, -2.9096999168395996, -4.620699882507324, -3.001199960708618, -3.9316999912261963, -3.3736000061035156, -8.231100082397461, -3.6212000846862793, -5.749000072479248, -4.151700019836426, -4.029600143432617, -9.280400276184082, -1.801800012588501, -9.549400329589844, -9.549400329589844, -9.549400329589844, -9.549400329589844, -9.549400329589844, -9.549400329589844, -9.549400329589844, -9.549400329589844, -3.999000072479248, -6.593999862670898, -4.298099994659424, -9.549400329589844, -9.549400329589844, -4.453700065612793, -5.019800186157227, -9.549400329589844, -9.549400329589844, -3.8153998851776123, -7.186500072479248, -9.549400329589844, -4.982399940490723, -6.268199920654297, -5.192200183868408, -4.514999866485596, -5.329999923706055]}, \"token.table\": {\"Topic\": [24, 9, 15, 5, 2, 13, 9, 20, 23, 29, 28, 1, 2, 3, 4, 5, 6, 7, 8, 9, 10, 11, 12, 13, 14, 15, 16, 17, 18, 19, 20, 21, 22, 23, 24, 25, 26, 27, 28, 29, 30, 16, 18, 10, 25, 14, 28, 8, 9, 14, 2, 5, 8, 22, 23, 5, 1, 6, 16, 14, 6, 14, 16, 27, 29, 9, 6, 6, 16, 20, 6, 16, 29, 19, 25, 30, 29, 4, 12, 27, 9, 21, 25, 27, 8, 25, 3, 14, 29, 14, 10, 17, 1, 8, 11, 18, 8, 10, 11, 18, 26, 6, 9, 10, 11, 20, 1, 2, 3, 4, 8, 9, 10, 11, 12, 13, 14, 15, 17, 18, 19, 20, 22, 23, 25, 26, 27, 28, 29, 30, 3, 4, 8, 10, 11, 13, 14, 18, 23, 25, 26, 27, 29, 30, 11, 9, 5, 8, 18, 25, 28, 29, 14, 9, 12, 18, 3, 26, 1, 19, 12, 12, 6, 5, 22, 26, 10, 28, 24, 25, 6, 27, 2, 4, 12, 16, 21, 25, 29, 8, 26, 3, 4, 9, 17, 29, 8, 6, 17, 25, 26, 29, 6, 16, 1, 3, 4, 6, 7, 9, 13, 15, 18, 19, 20, 23, 24, 25, 28, 29, 30, 4, 9, 19, 24, 25, 28, 29, 30, 1, 2, 3, 4, 6, 7, 8, 9, 11, 12, 14, 15, 16, 19, 20, 21, 23, 24, 25, 26, 27, 29, 6, 12, 16, 29, 6, 12, 16, 4, 14, 7, 4, 9, 3, 8, 11, 15, 26, 7, 8, 16, 18, 28, 22, 29, 9, 25, 29, 14, 3, 21, 24, 1, 3, 4, 9, 12, 14, 17, 18, 21, 23, 25, 28, 29, 9, 11, 12, 15, 26, 3, 4, 6, 7, 9, 10, 11, 12, 14, 16, 17, 20, 21, 23, 25, 26, 27, 29, 30, 2, 3, 4, 5, 6, 9, 12, 15, 16, 20, 21, 25, 27, 29, 24, 25, 12, 20, 28, 4, 7, 17, 19, 20, 21, 27, 28, 29, 25, 29, 13, 28, 11, 5, 8, 9, 22, 14, 12, 27, 4, 9, 17, 18, 19, 28, 29, 18, 19, 19, 28, 13, 3, 15, 3, 15, 22, 29, 17, 24, 25, 23, 19, 9, 25, 29, 24, 25, 17, 28, 29, 30, 3, 4, 9, 10, 12, 14, 17, 18, 19, 21, 24, 25, 26, 28, 29, 15, 25, 10, 20, 6, 9, 12, 20, 19, 4, 6, 9, 12, 17, 25, 29, 4, 12, 17, 29, 9, 28, 29, 28, 29, 27, 5, 26, 26, 1, 25, 24, 3, 4, 11, 3, 9, 15, 4, 17, 27, 29, 4, 27, 9, 25, 11, 19, 4, 3, 8, 9, 26, 27, 24, 25, 4, 29, 6, 21, 17, 3, 11, 19, 27, 26, 1, 2, 3, 4, 5, 6, 7, 8, 9, 10, 11, 12, 13, 14, 15, 16, 17, 18, 19, 20, 21, 22, 23, 24, 25, 26, 27, 28, 29, 30, 11, 3, 10, 2, 3, 4, 5, 7, 8, 9, 10, 11, 13, 14, 15, 16, 17, 18, 19, 20, 21, 23, 24, 25, 26, 27, 29, 3, 4, 6, 9, 10, 11, 12, 14, 15, 17, 18, 20, 21, 25, 26, 27, 29, 2, 4, 5, 7, 11, 18, 26, 9, 9, 22, 3, 1, 3, 9, 13, 20, 6, 24, 25, 11, 26, 4, 2, 2, 8, 12, 21, 27, 11, 25, 7, 13, 4, 19, 4, 17, 4, 17, 19, 26, 28, 29, 9, 17, 21, 18, 18, 10, 29, 21, 18, 29, 21, 4, 14, 19, 20, 21, 25, 27, 28, 29, 3, 4, 6, 9, 12, 13, 14, 16, 17, 20, 21, 24, 4, 7, 3, 4, 3, 8, 3, 20, 26, 9, 15, 20, 25, 29, 4, 7, 12, 20, 21, 27, 29, 8, 9, 12, 9, 18, 26, 28, 29, 25, 9, 29, 3, 4, 6, 9, 12, 16, 17, 20, 27, 28, 29, 2, 5, 8, 6, 25, 9, 24, 25, 30, 21, 24, 29, 3, 20, 21, 24, 27, 6, 27, 3, 15, 20, 3, 3, 6, 12, 15, 19, 21, 25, 27, 3, 15, 25, 3, 25, 29, 18, 4, 14, 19, 26, 28, 15, 12, 2, 7, 11, 23, 10, 25, 20, 19, 23, 9, 30, 4, 17, 28, 29, 4, 9, 12, 14, 16, 19, 20, 21, 24, 27, 12, 19, 21, 27, 14, 4, 6, 12, 14, 19, 20, 27, 7, 7, 6, 12, 14, 16, 20, 25, 26, 29, 18, 29, 9, 27, 16, 5, 22, 2, 26, 2, 9, 28, 13, 2, 3, 4, 5, 6, 7, 8, 9, 11, 12, 13, 14, 15, 16, 17, 18, 19, 20, 21, 22, 23, 24, 25, 26, 27, 28, 29, 19, 12, 27, 4, 5, 7, 11, 22, 23, 11, 26, 2, 3, 4, 5, 7, 8, 11, 13, 15, 18, 23, 26, 23, 5, 21, 16, 14, 7, 26, 9, 24, 2, 7, 8, 11, 8, 25, 5, 22, 13, 17, 25, 21, 9, 12, 27, 29, 3, 4, 6, 7, 8, 9, 10, 11, 15, 17, 18, 23, 24, 25, 29, 30, 10, 23, 16, 18, 9, 1, 25, 26, 17, 18, 29, 28, 29, 6, 12, 16, 21, 12, 28, 11, 12, 29, 3, 4, 6, 7, 9, 10, 11, 14, 16, 17, 19, 21, 24, 25, 27, 28, 29, 24, 2, 7, 10, 11, 26, 4, 18, 26, 8, 9, 15, 30, 4, 12, 26, 19, 20, 24, 9, 14, 1, 2, 3, 4, 6, 7, 8, 9, 10, 11, 12, 14, 15, 16, 17, 18, 19, 20, 21, 22, 23, 24, 25, 26, 27, 28, 29, 7, 11, 3, 4, 3, 2, 3, 5, 7, 8, 11, 26, 2, 3, 4, 5, 7, 8, 9, 10, 11, 15, 18, 22, 23, 24, 25, 26, 22, 2, 5, 7, 8, 9, 15, 22, 23, 5, 22, 5, 6, 9, 12, 16, 17, 20, 25, 27, 29, 11, 18, 2, 3, 4, 5, 7, 8, 9, 10, 11, 15, 17, 18, 26, 29, 19, 6, 12, 16, 20, 27, 6, 3, 25, 3, 21, 6, 9, 10, 12, 13, 15, 21, 25, 29, 3, 3, 15, 3, 15, 25, 27, 29, 29, 20, 10, 15, 21, 3, 9, 26, 3, 3, 20, 3, 4, 24, 21, 3, 13, 19, 28, 4, 19, 28, 29, 21, 9, 5, 6, 7, 19, 21, 22, 23, 29, 4, 21, 23, 21, 24, 3, 6, 29, 24, 15, 25, 3, 29, 9, 12, 16, 27, 29, 12, 1, 3, 4, 6, 8, 9, 10, 11, 12, 13, 14, 15, 16, 17, 18, 20, 21, 24, 25, 26, 27, 28, 29, 12, 30, 6, 12, 16, 20, 27, 29, 14, 27, 22, 7, 8, 9, 28, 3, 7, 8, 11, 15, 26, 3, 4, 8, 11, 15, 18, 26, 12, 20, 2, 19, 25, 14, 2, 3, 4, 5, 7, 8, 10, 11, 15, 16, 17, 18, 23, 24, 26, 27, 29, 5, 7, 7, 11, 3, 4, 9, 12, 17, 18, 20, 24, 25, 26, 29, 19, 2, 14, 16, 2, 2, 16, 9, 21, 25, 27, 4, 6, 28, 29, 4, 9, 19, 24, 28, 29, 28, 18, 4, 17, 18, 28, 29, 9, 24, 25, 30, 18, 29, 11, 3, 4, 5, 8, 11, 18, 26, 3, 8, 26, 22, 19, 28, 20, 5, 9, 4, 13, 17, 18, 29, 6, 3, 4, 9, 12, 14, 17, 20, 27, 28, 29, 25, 27, 7, 10, 4, 13, 4, 29, 27, 27, 28, 15, 25, 25, 29, 21, 2, 2, 14, 15, 25, 27, 3, 15, 25, 2, 5, 7, 8, 9, 22, 23, 1, 3, 9, 12, 13, 26, 27, 9, 1, 4, 9, 20, 30, 3, 26, 3, 25, 14, 2, 3, 6, 9, 10, 11, 12, 14, 17, 20, 25, 27, 29, 30, 12, 29, 12, 29, 18, 28, 4, 6, 12, 17, 20, 21, 29, 17, 22, 6, 17, 6, 12, 27, 6, 12, 14, 27, 23, 23, 11, 18, 3, 12, 15, 20, 26, 2, 3, 6, 9, 12, 13, 14, 15, 16, 17, 20, 21, 24, 27, 28, 29, 7, 18, 28, 1, 3, 4, 9, 20, 26, 6, 12, 16, 29, 19, 6, 19, 7, 8, 16, 22, 30, 3, 6, 7, 9, 24, 25, 30, 9, 6, 29, 16, 20, 12, 13, 29, 22, 3, 9, 17, 4, 20, 6, 12, 16, 21, 27, 29, 20, 14, 3, 24, 1, 3, 5, 9, 13, 20, 24, 25, 26, 20, 13, 12, 19, 23, 6, 24, 25, 30, 11, 9, 20, 6, 19, 28, 29, 6, 24, 16, 10, 6, 16, 17, 26, 11, 3, 20, 26, 19, 3, 4, 7, 8, 11, 15, 18, 26, 11, 7, 22, 10, 18, 25, 22, 6, 2, 14, 17, 19, 3, 9, 14, 17, 19, 23, 29, 30, 24, 2, 4, 5, 7, 8, 9, 11, 15, 22, 23, 29, 22, 24, 6, 24, 10, 28, 29, 4, 19, 28, 29, 14, 7, 13, 14, 29, 4, 9, 14, 17, 18, 28, 29, 19, 21, 4, 30, 10, 28, 18, 20, 21, 27, 4, 22, 2, 17, 1, 3, 6, 9, 12, 16, 19, 20, 25, 29, 12, 2, 5, 8, 22, 23, 1, 4, 13, 14, 19, 20, 26, 28, 29, 4, 4, 6, 21, 10, 11, 18, 21, 29, 29, 13, 1, 3, 4, 6, 9, 10, 11, 12, 13, 14, 15, 16, 17, 18, 19, 20, 21, 24, 25, 26, 27, 28, 29, 16, 29, 3, 6, 9, 24, 25, 30, 3, 9, 10, 15, 25, 27, 18, 22, 17, 28, 29, 5, 12, 2, 7, 8, 11, 12, 22, 2, 3, 4, 5, 7, 8, 9, 10, 11, 12, 14, 15, 16, 17, 18, 21, 23, 24, 25, 26, 27, 29, 14, 14, 27, 25, 6, 12, 16, 20, 27, 29, 9, 12, 29, 4, 7, 11, 18, 26, 16, 4, 7, 18, 2, 4, 5, 7, 8, 11, 16, 18, 17, 18, 29, 4, 7, 2, 6, 7, 8, 9, 11, 12, 14, 15, 16, 20, 26, 27, 29, 24, 20, 27, 28, 19, 28, 24, 4, 17, 19, 26, 28, 29, 4, 29, 17, 18, 13, 2, 3, 4, 5, 6, 7, 9, 10, 14, 17, 18, 19, 20, 21, 23, 24, 25, 26, 28, 29, 29, 12, 19, 2, 12, 3, 15, 6, 4, 17, 19, 28, 29, 9, 17, 18, 28, 29, 18, 27, 27, 5, 22, 6, 9, 12, 17, 22, 17, 4, 2, 7, 8, 11, 21, 8, 17, 28, 29, 30, 29, 8, 25, 7, 1, 3, 3, 27, 14, 1, 3, 4, 5, 6, 7, 9, 10, 12, 14, 17, 18, 19, 20, 21, 24, 25, 26, 27, 28, 29, 30, 18, 12, 7, 24, 9, 12, 17, 18, 25, 29, 2, 3, 4, 6, 8, 9, 11, 12, 13, 15, 16, 17, 20, 21, 23, 25, 26, 27, 28, 22, 16, 25, 15, 17, 23, 9, 17, 1, 1, 7, 10, 11, 17, 25, 26, 27, 2, 3, 5, 7, 8, 9, 11, 13, 18, 26, 3, 8, 11, 26, 1, 8, 10, 11, 26, 2, 7, 2, 4, 5, 7, 10, 11, 26, 3, 9, 12, 20, 25, 27, 29, 24, 7, 11, 7, 17, 3, 16, 6, 27, 6, 18, 8, 24, 7, 14, 19, 27, 21, 2, 3, 6, 9, 10, 12, 15, 16, 21, 23, 25, 27, 2, 5, 15, 19, 5, 30, 2, 12, 22, 6, 2, 3, 4, 5, 7, 8, 11, 15, 18, 23, 26, 4, 14, 28, 7, 22, 12, 20, 8, 1, 9, 1, 3, 8, 9, 11, 14, 17, 19, 25, 26, 3, 5, 7, 9, 10, 11, 15, 18, 21, 22, 24, 25, 27, 29, 30, 9, 15, 27, 2, 3, 4, 5, 7, 8, 9, 10, 11, 12, 13, 14, 15, 16, 17, 18, 19, 20, 21, 23, 24, 25, 26, 27, 29, 30, 2, 3, 4, 5, 7, 8, 9, 10, 11, 15, 16, 17, 18, 23, 24, 25, 26, 27, 29, 11, 2, 7, 6, 27, 26, 4, 19, 28, 29, 18, 17, 26, 27, 13, 22, 10, 25, 20, 14, 25, 27, 3, 28, 11, 1, 2, 3, 4, 5, 6, 7, 9, 10, 11, 12, 13, 14, 15, 16, 17, 18, 19, 20, 21, 22, 23, 24, 25, 26, 27, 28, 29, 30, 20, 2, 5, 8, 9, 19, 22, 23, 29, 5, 8, 9, 22, 5, 22, 4, 24, 22, 15, 5, 6, 9, 15, 24, 25, 30, 3, 9, 23, 12, 13, 2, 3, 4, 6, 7, 8, 9, 10, 11, 12, 13, 14, 15, 16, 17, 18, 19, 20, 21, 22, 23, 24, 25, 26, 27, 28, 29, 30, 2, 5, 22, 7, 9, 14, 29, 5, 9, 27, 29, 20, 29, 30, 28, 8, 11, 12, 12, 20, 14, 3, 4, 5, 6, 7, 11, 12, 13, 15, 16, 17, 18, 19, 21, 22, 23, 28, 29, 29, 1, 3, 8, 21, 1, 3, 6, 9, 10, 12, 16, 19, 20, 25, 26, 27, 29, 3, 20, 13, 25, 23, 3, 20, 26, 3, 1, 19, 2, 5, 7, 8, 9, 11, 13, 15, 22, 23, 26, 26, 10, 8, 11, 26, 4, 7, 11, 18, 26, 5, 8, 21, 8, 15, 2, 5, 22, 5, 22, 2, 5, 9, 22, 17, 1, 2, 3, 4, 5, 6, 7, 8, 9, 10, 11, 12, 13, 14, 15, 16, 17, 18, 19, 20, 21, 22, 23, 24, 25, 26, 27, 28, 29, 30, 9, 27, 28, 30, 21, 11, 17, 25, 30, 10, 18, 6, 26, 4, 6, 14, 16, 20, 26, 27, 6, 12, 16, 17, 29, 1, 3, 4, 6, 8, 9, 10, 11, 12, 14, 15, 16, 17, 18, 20, 21, 22, 25, 26, 27, 28, 29, 1, 3, 4, 6, 8, 9, 10, 11, 12, 14, 15, 16, 17, 18, 20, 21, 22, 25, 26, 27, 28, 29, 23, 15, 27, 27, 10, 12, 20, 21, 27, 1, 2, 3, 4, 5, 6, 7, 8, 9, 10, 11, 12, 13, 14, 15, 17, 18, 19, 20, 21, 22, 23, 24, 25, 26, 27, 29, 30, 9, 27, 4, 19, 28, 29, 19, 2, 10, 29, 1, 4, 5, 6, 7, 12, 16, 18, 24, 25, 26, 27, 29, 5, 22, 2, 3, 11, 18, 28, 29, 18, 7, 7, 7, 22, 5, 9, 2, 2, 3, 4, 5, 7, 8, 10, 11, 16, 17, 18, 21, 23, 26, 1, 2, 3, 4, 9, 12, 15, 17, 19, 21, 23, 25, 27, 29, 30, 3, 15, 12, 15, 25, 9, 14, 20, 9, 3, 25, 11, 3, 7, 8, 11, 15, 18, 26, 11, 18, 1, 12, 20, 10, 18, 24, 9, 29, 18, 4, 6, 9, 12, 13, 14, 17, 18, 20, 21, 24, 29, 2, 7, 8, 21, 19, 3, 2, 4, 5, 7, 8, 9, 11, 15, 22, 23, 29, 22, 11, 3, 4, 8, 11, 18, 26, 14, 3, 16, 13, 15, 2, 10, 15, 21, 3, 6, 9, 15, 19, 25, 29, 3, 18, 3, 3, 6, 24, 25, 24, 25, 20, 3, 7, 8, 16, 17, 22, 5, 8, 22, 23, 5, 2, 5, 22, 2, 2, 4, 5, 8, 22, 23, 7, 7, 7, 14, 9, 17, 28, 29, 3, 9, 17, 18, 28, 29, 22, 22, 6, 25, 6, 9, 11, 24, 25, 30, 21, 4, 28, 6, 12, 16, 20, 27, 29, 1, 2, 8, 30, 12, 7, 7, 4, 21, 2, 30, 27, 3, 15, 19, 28, 21, 4, 6, 17, 28, 15, 4, 28, 4, 12, 20, 2, 5, 7, 8, 9, 15, 22, 23, 5, 20, 5, 8, 9, 22, 29, 12, 16, 21, 29, 19, 10, 11, 29, 27, 16, 6, 12, 20, 8, 18, 10, 28, 22, 25, 27, 22, 2, 7, 11, 7, 11, 5, 18, 11, 26, 28, 8, 18, 7, 11, 27, 21, 6, 12, 13, 16, 4, 10, 7, 4, 9, 19, 23, 24, 25, 27, 7, 8, 26, 24, 25, 30, 5, 22, 6, 22, 25, 15, 4, 9, 12, 28, 29, 7, 10, 11, 24, 27, 3, 9, 25, 26, 27, 19, 1, 3, 4, 7, 8, 9, 10, 11, 12, 14, 17, 18, 19, 20, 21, 23, 24, 25, 26, 27, 28, 29, 3, 5, 7, 8, 11, 15, 3, 8, 11, 26, 3, 4, 6, 9, 11, 12, 13, 14, 16, 17, 20, 21, 22, 23, 24, 26, 27, 18, 7, 25, 5, 22, 19, 30, 9, 29], \"Freq\": [0.8734861016273499, 0.6156728267669678, 0.9524632096290588, 0.9402492642402649, 0.9140909314155579, 0.6493638157844543, 0.03095727041363716, 0.8358463048934937, 0.8672282099723816, 0.02890760637819767, 0.8960292935371399, 0.004299480468034744, 0.013547420501708984, 0.09637326747179031, 0.008436717092990875, 0.06903505325317383, 0.003812747076153755, 0.12849768996238708, 0.07406463474035263, 0.014277520589530468, 0.014764253981411457, 0.09539979696273804, 0.011357118375599384, 0.038046348839998245, 0.0012168341781944036, 0.07357790321111679, 0.0009734673076309264, 0.10781150311231613, 0.006570904515683651, 0.0015413232613354921, 0.010708140209317207, 0.003812747076153755, 0.017765779048204422, 0.00584080396220088, 0.03926318138837814, 0.008274472318589687, 0.09783346205949783, 0.002839279593899846, 0.02660810574889183, 0.02174076996743679, 0.0016224455321207643, 0.513854444026947, 0.8225343823432922, 0.7385842800140381, 0.13428804278373718, 0.056564513593912125, 0.7353386878967285, 0.18651491403579712, 0.14921192824840546, 0.5595447421073914, 0.006836949847638607, 0.8682926297187805, 0.006836949847638607, 0.08888034522533417, 0.006836949847638607, 0.9060022234916687, 0.8870512843132019, 0.9331477284431458, 0.6951542496681213, 0.9101354479789734, 0.02605135180056095, 0.008683783933520317, 0.156308114528656, 0.7641729712486267, 0.008683783933520317, 0.9315122961997986, 0.9320534467697144, 0.5821346044540405, 0.2816780209541321, 0.056335605680942535, 0.04477537050843239, 0.9338862895965576, 0.003198240650817752, 0.7806402444839478, 0.8825743794441223, 0.8275926113128662, 0.9460456371307373, 0.7610188126564026, 0.6172047853469849, 0.23512563109397888, 0.0063871233724057674, 0.0063871233724057674, 0.9452942609786987, 0.019161369651556015, 0.9476979970932007, 0.8661490082740784, 0.019532475620508194, 0.9180263876914978, 0.814997136592865, 0.8073844313621521, 0.8698005676269531, 0.8399767875671387, 0.4806215167045593, 0.3364350497722626, 0.0961243063211441, 0.41037628054618835, 0.01736237108707428, 0.005787456873804331, 0.9491429328918457, 0.005787456873804331, 0.005787456873804331, 0.2496464103460312, 0.035663772374391556, 0.017831886187195778, 0.017831886187195778, 0.6062841415405273, 0.0007124294643290341, 0.0014248589286580682, 0.002137288451194763, 0.0014248589286580682, 0.0014248589286580682, 0.0007124294643290341, 0.6148266196250916, 0.24293845891952515, 0.0014248589286580682, 0.054144639521837234, 0.0007124294643290341, 0.0007124294643290341, 0.0007124294643290341, 0.0163858775049448, 0.0014248589286580682, 0.003562147496268153, 0.0007124294643290341, 0.0028497178573161364, 0.03847119212150574, 0.003562147496268153, 0.0028497178573161364, 0.0007124294643290341, 0.004987006541341543, 0.0014248589286580682, 0.0015393819194287062, 0.0015393819194287062, 0.0015393819194287062, 0.4510388970375061, 0.4202512502670288, 0.0923629105091095, 0.0015393819194287062, 0.007696909364312887, 0.0015393819194287062, 0.0015393819194287062, 0.0030787638388574123, 0.0015393819194287062, 0.0107756732031703, 0.0015393819194287062, 0.8760396242141724, 0.864884078502655, 0.942847490310669, 0.9550100564956665, 0.36873966455459595, 0.014182294718921185, 0.02836458943784237, 0.5247448682785034, 0.8027446866035461, 0.23212648928165436, 0.6055473685264587, 0.12110947072505951, 0.8695061802864075, 0.788000226020813, 0.8526344299316406, 0.03552643582224846, 0.8330287337303162, 0.8810054063796997, 0.8012290596961975, 0.9502227306365967, 0.015082900412380695, 0.9157190918922424, 0.7078402638435364, 0.7554309368133545, 0.9861202836036682, 0.0026226602494716644, 0.012786246836185455, 0.9461823105812073, 0.5117504000663757, 0.8041355013847351, 0.0681518167257309, 0.05452145263552666, 0.8314521908760071, 0.047096557915210724, 0.8006414771080017, 0.9566243886947632, 0.007714712992310524, 0.006093780975788832, 0.05484402924776077, 0.11578183621168137, 0.749535083770752, 0.048750247806310654, 0.4832601249217987, 0.38829073309898376, 0.25284048914909363, 0.00903001707047224, 0.04515008628368378, 0.26187050342559814, 0.017327619716525078, 0.9010362029075623, 0.07057005167007446, 0.001680239336565137, 0.0042005982249975204, 0.0008401196682825685, 0.0008401196682825685, 0.001680239336565137, 0.0008401196682825685, 0.0008401196682825685, 0.0008401196682825685, 0.014282033778727055, 0.001680239336565137, 0.0008401196682825685, 0.8191166520118713, 0.0025203588884323835, 0.050407178699970245, 0.0008401196682825685, 0.027723949402570724, 0.003575547831133008, 0.007151095662266016, 0.06793540716171265, 0.29677045345306396, 0.05720876529812813, 0.18592847883701324, 0.04290657117962837, 0.3182237446308136, 0.7920150756835938, 0.0007718275301158428, 0.0005145517061464489, 0.0002572758530732244, 0.08695923537015915, 0.0018009309424087405, 0.003601861884817481, 0.0002572758530732244, 0.0023154825903475285, 0.010291033424437046, 0.03473224118351936, 0.0015436550602316856, 0.32159480452537537, 0.0002572758530732244, 0.02238299883902073, 0.011062861420214176, 0.0005145517061464489, 0.0012863791780546308, 0.0002572758530732244, 0.0007718275301158428, 0.49654239416122437, 0.0012863791780546308, 0.14241419732570648, 0.02373570017516613, 0.7358067035675049, 0.02373570017516613, 0.5876184701919556, 0.016322733834385872, 0.34277743101119995, 0.7009842395782471, 0.9495583772659302, 0.8222643733024597, 0.7876332998275757, 0.04633136838674545, 0.0048917243257164955, 0.3864462077617645, 0.051363103091716766, 0.0024458621628582478, 0.5454272627830505, 0.21132609248161316, 0.28591176867485046, 0.03729283809661865, 0.4226521849632263, 0.8089707493782043, 0.9030402302742004, 0.8734101057052612, 0.8352514505386353, 0.0417625717818737, 0.9452295899391174, 0.857657253742218, 0.01574765332043171, 0.9133639335632324, 0.01574765332043171, 0.0013255586382001638, 0.0013255586382001638, 0.003976675681769848, 0.03313896432518959, 0.003976675681769848, 0.007953351363539696, 0.625663697719574, 0.0026511172764003277, 0.0013255586382001638, 0.0013255586382001638, 0.0026511172764003277, 0.046394553035497665, 0.2651117146015167, 0.011005006730556488, 0.06603004038333893, 0.14306509494781494, 0.005502503365278244, 0.7593454718589783, 0.060756757855415344, 0.009267980232834816, 0.16991296410560608, 0.0005148877971805632, 0.3485790193080902, 0.058697208762168884, 0.0036042144056409597, 0.028833715245127678, 0.0314081534743309, 0.004633990116417408, 0.006178653333336115, 0.2085295468568802, 0.036042146384716034, 0.0072084288112819195, 0.0005148877971805632, 0.0005148877971805632, 0.014416857622563839, 0.0030893266666680574, 0.006178653333336115, 0.6995641589164734, 0.011037353426218033, 0.0005518677062354982, 0.0005518677062354982, 0.0016556030604988337, 0.0005518677062354982, 0.0005518677062354982, 0.8305608630180359, 0.01655603013932705, 0.0022074708249419928, 0.0022074708249419928, 0.0016556030604988337, 0.1313445121049881, 0.0005518677062354982, 0.9562355875968933, 0.024208495393395424, 0.019148273393511772, 0.8999688625335693, 0.789318859577179, 0.5701090097427368, 0.0020361037459224463, 0.0407220721244812, 0.08348025381565094, 0.008144414983689785, 0.0020361037459224463, 0.0020361037459224463, 0.19139374792575836, 0.0916246622800827, 0.9698843359947205, 0.01385549083352089, 0.7860373258590698, 0.07486069947481155, 0.7317330241203308, 0.9698978066444397, 0.0016926663229241967, 0.0016926663229241967, 0.020311996340751648, 0.2034403681755066, 0.07300876080989838, 0.6570788621902466, 0.004037411883473396, 0.06459859013557434, 0.13727200031280518, 0.04441152885556221, 0.016149647533893585, 0.06863600015640259, 0.6459859013557434, 0.7765623331069946, 0.7535708546638489, 0.7504016757011414, 0.2020312249660492, 0.9428646564483643, 0.005717471707612276, 0.9719702005386353, 0.008528518490493298, 0.9637226462364197, 0.47034627199172974, 0.11758656799793243, 0.6342124938964844, 0.9235244989395142, 0.014895555563271046, 0.6329106688499451, 0.9195241928100586, 0.9331660270690918, 0.008185666985809803, 0.03274266794323921, 0.9345231056213379, 0.01483369991183281, 0.017292892560362816, 0.043232232332229614, 0.5014938712120056, 0.42367586493492126, 0.0005088855978101492, 0.002544427989050746, 0.007633283734321594, 0.0005088855978101492, 0.0005088855978101492, 0.0005088855978101492, 0.1592811942100525, 0.002544427989050746, 0.0005088855978101492, 0.0005088855978101492, 0.0005088855978101492, 0.0005088855978101492, 0.0005088855978101492, 0.5394186973571777, 0.2829403877258301, 0.8701856732368469, 0.030006401240825653, 0.73470139503479, 0.9053724408149719, 0.7443860769271851, 0.07634728401899338, 0.003817364340648055, 0.16032929718494415, 0.945439875125885, 0.0038021758664399385, 0.007604351732879877, 0.2870642840862274, 0.34599801898002625, 0.33269038796424866, 0.0038021758664399385, 0.015208703465759754, 0.007447839714586735, 0.2010916769504547, 0.3872876763343811, 0.3723919987678528, 0.04420459643006325, 0.707273542881012, 0.0884091928601265, 0.7371786236763, 0.06143154948949814, 0.7673801183700562, 0.1487395167350769, 0.7649460434913635, 0.9127275347709656, 0.26239463686943054, 0.6845077872276306, 0.9780353307723999, 0.8862214684486389, 0.6681429147720337, 0.9253677725791931, 0.00810970924794674, 0.00810970924794674, 0.9569457173347473, 0.9012690186500549, 0.029073193669319153, 0.009691065177321434, 0.019382130354642868, 0.02550775371491909, 0.8927713632583618, 0.8923190236091614, 0.02176387794315815, 0.9294390678405762, 0.7917030453681946, 0.8810089826583862, 0.012930302880704403, 0.9525323510169983, 0.004310100805014372, 0.012930302880704403, 0.004310100805014372, 0.9388837814331055, 0.011045691557228565, 0.021874969825148582, 0.8968737721443176, 0.04212900623679161, 0.8004511594772339, 0.6393129825592041, 0.07277821749448776, 0.9051790237426758, 0.004548638593405485, 0.004548638593405485, 0.914904773235321, 0.02070673741400242, 0.002807693323120475, 0.053112197667360306, 0.018600966781377792, 0.0005849361186847091, 0.00011698721937136725, 0.009709939360618591, 0.0449230931699276, 0.04094552621245384, 0.03029968962073326, 0.21619237959384918, 0.0015208338154479861, 0.0007019233307801187, 0.007487182039767504, 0.0012868593912571669, 0.000467948877485469, 0.18296800553798676, 0.0045625013299286366, 0.00713622011244297, 0.004328527022153139, 0.005966348107904196, 0.0002339744387427345, 0.017197120934724808, 0.04737982153892517, 0.03965866565704346, 0.17700165510177612, 0.00854006689041853, 0.023865392431616783, 0.030650651082396507, 0.0010528849670663476, 0.8907853960990906, 0.15766547620296478, 0.7620497941970825, 0.0002852171310223639, 0.06588515639305115, 0.013405204750597477, 0.0002852171310223639, 0.009126948192715645, 0.07586775720119476, 0.0017113027861341834, 0.00969738233834505, 0.3650779128074646, 0.0002852171310223639, 0.0017113027861341834, 0.0002852171310223639, 0.0002852171310223639, 0.0005704342620447278, 0.0039930399507284164, 0.0011408685240894556, 0.0005704342620447278, 0.0002852171310223639, 0.006559994071722031, 0.0775790587067604, 0.0613216832280159, 0.30347102880477905, 0.0011408685240894556, 0.0002852171310223639, 0.009963558055460453, 0.019927116110920906, 0.03985423222184181, 0.14198070764541626, 0.0024908895138651133, 0.03736334294080734, 0.07472668588161469, 0.0024908895138651133, 0.0024908895138651133, 0.40601497888565063, 0.0024908895138651133, 0.014945336617529392, 0.0024908895138651133, 0.0024908895138651133, 0.027399783954024315, 0.0049817790277302265, 0.2042529433965683, 0.008073578588664532, 0.004036789294332266, 0.008073578588664532, 0.004036789294332266, 0.9526823163032532, 0.004036789294332266, 0.004036789294332266, 0.9263964295387268, 0.8727537989616394, 0.6723946928977966, 0.8543186783790588, 0.008544821292161942, 0.21789294481277466, 0.004272410646080971, 0.747671902179718, 0.008544821292161942, 0.014699707739055157, 0.9260815978050232, 0.014699707739055157, 0.6973943114280701, 0.26452887058258057, 0.6711587309837341, 0.5781911015510559, 0.7204552292823792, 0.01162024587392807, 0.18592393398284912, 0.01162024587392807, 0.01162024587392807, 0.028379296883940697, 0.8797582387924194, 0.881738543510437, 0.5635788440704346, 0.04471740499138832, 0.871989369392395, 0.7189003825187683, 0.8171908855438232, 0.005771244410425425, 0.01154248882085085, 0.3116472065448761, 0.005771244410425425, 0.19622230529785156, 0.4559282958507538, 0.739672064781189, 0.35287344455718994, 0.48520100116729736, 0.6371024250984192, 0.8026284575462341, 0.6021590232849121, 0.9655939936637878, 0.49711260199546814, 0.047020673751831055, 0.9051479697227478, 0.8810259699821472, 0.6530985832214355, 0.029958652332425117, 0.011983460746705532, 0.14979325234889984, 0.059917304664850235, 0.023966921493411064, 0.011983460746705532, 0.005991730373352766, 0.029958652332425117, 0.009108325466513634, 0.003643330419436097, 0.003643330419436097, 0.01639498583972454, 0.0018216652097180486, 0.00546499527990818, 0.0018216652097180486, 0.0018216652097180486, 0.020038316026329994, 0.02185998111963272, 0.9053676128387451, 0.0018216652097180486, 0.13607165217399597, 0.8324383497238159, 0.971176266670227, 0.0058859167620539665, 0.9281944036483765, 0.01473324466496706, 0.48149800300598145, 0.3257192373275757, 0.1416170597076416, 0.5303053855895996, 0.004532524384558201, 0.009065048769116402, 0.18130098283290863, 0.2583538889884949, 0.8728894591331482, 0.007461156230419874, 0.014922312460839748, 0.007461156230419874, 0.8356494903564453, 0.11191734671592712, 0.007461156230419874, 0.03333546966314316, 0.8333867192268372, 0.8701366782188416, 0.05121375620365143, 0.008535626344382763, 0.7340638637542725, 0.1365700215101242, 0.03414250537753105, 0.5281791090965271, 0.6159628033638, 0.29459092020988464, 0.5439363718032837, 0.0027751855086535215, 0.0027751855086535215, 0.0027751855086535215, 0.008325556293129921, 0.0027751855086535215, 0.36077412962913513, 0.033302225172519684, 0.013875927776098251, 0.011100742034614086, 0.008325556293129921, 0.5950508713722229, 0.3414226174354553, 0.01950986497104168, 0.019886193796992302, 0.8948786854743958, 0.0018405126174911857, 0.9331398606300354, 0.0036810252349823713, 0.05153435096144676, 0.7877721786499023, 0.8880600333213806, 0.9380394220352173, 0.007662075571715832, 0.18388980627059937, 0.7508834004402161, 0.007662075571715832, 0.02298622578382492, 0.02605130895972252, 0.8857445120811462, 0.010668777860701084, 0.9495212435722351, 0.7067182064056396, 0.8024815320968628, 0.0039022169075906277, 0.0663376897573471, 0.0780443400144577, 0.8077588677406311, 0.0039022169075906277, 0.019511085003614426, 0.0039022169075906277, 0.0039022169075906277, 0.008734014816582203, 0.9345396161079407, 0.017468029633164406, 0.8085641264915466, 0.8503718376159668, 0.05002187192440033, 0.9193834662437439, 0.08065857738256454, 0.011522654443979263, 0.011522654443979263, 0.011522654443979263, 0.8641990423202515, 0.8153091073036194, 0.8919460773468018, 0.8195732235908508, 0.11191082745790482, 0.8647655248641968, 0.8972304463386536, 0.8321865200996399, 0.12482798099517822, 0.7137477993965149, 0.765769362449646, 0.8899409174919128, 0.6850020289421082, 0.2854175269603729, 0.8374242782592773, 0.06978535652160645, 0.8593646883964539, 0.10451732575893402, 0.001895155874080956, 0.001895155874080956, 0.20657199621200562, 0.007580623496323824, 0.009475779719650745, 0.001895155874080956, 0.2444751113653183, 0.5116921067237854, 0.001895155874080956, 0.003790311748161912, 0.016947902739048004, 0.008473951369524002, 0.9151867032051086, 0.025421854108572006, 0.6666747331619263, 0.8219671249389648, 0.0231540035456419, 0.01157700177282095, 0.005788500886410475, 0.01157700177282095, 0.10419301688671112, 0.005788500886410475, 0.8225745558738708, 0.8862768411636353, 0.1803489327430725, 0.0026137526147067547, 0.0013068763073533773, 0.8050358295440674, 0.0013068763073533773, 0.0013068763073533773, 0.0013068763073533773, 0.0026137526147067547, 0.5711735486984253, 0.33067941665649414, 0.07705392688512802, 0.6164314150810242, 0.8285905718803406, 0.16150592267513275, 0.3230118453502655, 0.06432351469993591, 0.7075586318969727, 0.9148849844932556, 0.022314267233014107, 0.8181267976760864, 0.8506319522857666, 0.003928126767277718, 0.03299626335501671, 0.00039281268254853785, 0.01924782060086727, 0.01453406922519207, 0.0007856253650970757, 0.1901213377714157, 0.026318449527025223, 0.003142501460388303, 0.002356876153498888, 0.4827667772769928, 0.00039281268254853785, 0.03024657629430294, 0.00039281268254853785, 0.001178438076749444, 0.00039281268254853785, 0.00039281268254853785, 0.001964063383638859, 0.017283758148550987, 0.0035353139974176884, 0.01806938275694847, 0.0015712507301941514, 0.02671126276254654, 0.09820316731929779, 0.020426258444786072, 0.0007856253650970757, 0.0007856253650970757, 0.9674367308616638, 0.7915448546409607, 0.7064207792282104, 0.6701391339302063, 0.1209171935915947, 0.012955413199961185, 0.0043184710666537285, 0.021592356264591217, 0.8248279690742493, 0.9545736908912659, 0.9702960252761841, 0.0018590487306937575, 0.0006196829490363598, 0.0030984145123511553, 0.01487238984555006, 0.2398172914981842, 0.08799497783184052, 0.3550783097743988, 0.0006196829490363598, 0.0006196829490363598, 0.0012393658980727196, 0.0006196829490363598, 0.29125097393989563, 0.8086901307106018, 0.024247439578175545, 0.8971552848815918, 0.7412194609642029, 0.9748424291610718, 0.07117068767547607, 0.8896335959434509, 0.9049838185310364, 0.024459023028612137, 0.028467584401369095, 0.9251964688301086, 0.014233792200684547, 0.007116896100342274, 0.9696509838104248, 0.8241353034973145, 0.9122573733329773, 0.056511517614126205, 0.7503182291984558, 0.012101906351745129, 0.19363050162792206, 0.5897592306137085, 0.2548474669456482, 0.008494915440678596, 0.008494915440678596, 0.6880881190299988, 0.0004260656132828444, 0.0004260656132828444, 0.0004260656132828444, 0.3962410092353821, 0.0004260656132828444, 0.0008521312265656888, 0.0004260656132828444, 0.0004260656132828444, 0.0004260656132828444, 0.0004260656132828444, 0.0004260656132828444, 0.0004260656132828444, 0.5747625231742859, 0.004686721600592136, 0.0004260656132828444, 0.017042623832821846, 0.9225063323974609, 0.635826051235199, 0.04350333288311958, 0.8700667023658752, 0.8407201766967773, 0.8346511721611023, 0.021109268069267273, 0.9076985120773315, 0.019269239157438278, 0.8863850235939026, 0.019269239157438278, 0.19047626852989197, 0.7074832916259766, 0.06502626091241837, 0.8808102607727051, 0.00591147830709815, 0.0118229566141963, 0.8253578543663025, 0.894685685634613, 0.6574918031692505, 0.8787137269973755, 0.024408714845776558, 0.0006691450835205615, 0.0006691450835205615, 0.004684015642851591, 0.0006691450835205615, 0.0006691450835205615, 0.011375466361641884, 0.004684015642851591, 0.001338290167041123, 0.012044611386954784, 0.0006691450835205615, 0.9214127659797668, 0.032118964940309525, 0.0006691450835205615, 0.0033457253593951464, 0.0006691450835205615, 0.0006691450835205615, 0.002676580334082246, 0.9181331992149353, 0.32616814970970154, 0.11267627030611038, 0.10674594342708588, 0.4329140782356262, 0.9345305562019348, 0.021358050405979156, 0.4271610379219055, 0.46987712383270264, 0.10972600430250168, 0.021945200860500336, 0.39501360058784485, 0.39501360058784485, 0.5464538335800171, 0.8462681770324707, 0.6212971806526184, 0.969793438911438, 0.08441509306430817, 0.8160125613212585, 0.7460324168205261, 0.6102269887924194, 0.0013087789993733168, 0.00043625966645777225, 0.0026175579987466335, 0.0008725193329155445, 0.19151799380779266, 0.029883787035942078, 0.013305919244885445, 0.013960309326648712, 0.0006543894996866584, 0.0008725193329155445, 0.04689791426062584, 0.0019631683826446533, 0.011997140012681484, 0.38805297017097473, 0.11190059781074524, 0.0013087789993733168, 0.0006543894996866584, 0.0023994280491024256, 0.0006543894996866584, 0.0006543894996866584, 0.00021812983322888613, 0.00894332304596901, 0.002835687715560198, 0.05038798972964287, 0.003490077331662178, 0.0019631683826446533, 0.1095011755824089, 0.9819561839103699, 0.003209007205441594, 0.8785142302513123, 0.025100406259298325, 0.8626925349235535, 0.002785281976684928, 0.002785281976684928, 0.022282255813479424, 0.12255240231752396, 0.45400094985961914, 0.32866325974464417, 0.05292035639286041, 0.033040400594472885, 0.0019435530994087458, 0.0007774212281219661, 0.15120843052864075, 0.1232212632894516, 0.25266191363334656, 0.0007774212281219661, 0.00038871061406098306, 0.27442967891693115, 0.0015548424562439322, 0.0007774212281219661, 0.007385501638054848, 0.00038871061406098306, 0.0038871061988174915, 0.00038871061406098306, 0.145766481757164, 0.7592788338661194, 0.02220342680811882, 0.9406178593635559, 0.006055479869246483, 0.004036986734718084, 0.002018493367359042, 0.002018493367359042, 0.016147946938872337, 0.002018493367359042, 0.9221656918525696, 0.018443314358592033, 0.8706042170524597, 0.2879467010498047, 0.0025709527544677258, 0.02313857339322567, 0.22110192477703094, 0.0025709527544677258, 0.012854763306677341, 0.0025709527544677258, 0.43449100852012634, 0.0025709527544677258, 0.8739578127861023, 0.6576666831970215, 0.0016438193852081895, 0.0016438193852081895, 0.004931457806378603, 0.0008219096926040947, 0.268764466047287, 0.22027179598808289, 0.0008219096926040947, 0.0008219096926040947, 0.39944809675216675, 0.0008219096926040947, 0.0008219096926040947, 0.0024657289031893015, 0.09451961517333984, 0.0008219096926040947, 0.7528114318847656, 0.574815034866333, 0.014738847501575947, 0.2996898889541626, 0.009825898334383965, 0.07860718667507172, 0.5111010074615479, 0.11331285536289215, 0.7931900024414062, 0.010723434388637543, 0.9543856382369995, 0.008111950941383839, 0.004055975470691919, 0.6124523282051086, 0.004055975470691919, 0.008111950941383839, 0.012167926877737045, 0.23119060695171356, 0.10545536875724792, 0.004055975470691919, 0.8800967931747437, 0.8408239483833313, 0.9079161882400513, 0.005190115422010422, 0.9783366918563843, 0.002595057711005211, 0.5663342475891113, 0.7774991393089294, 0.8006858825683594, 0.8793060779571533, 0.01144483033567667, 0.9384760856628418, 0.01144483033567667, 0.9648189544677734, 0.005992664489895105, 0.005992664489895105, 0.6904892921447754, 0.03436117619276047, 0.824668288230896, 0.769442081451416, 0.03847210481762886, 0.07694420963525772, 0.8819771409034729, 0.10484755784273148, 0.7688820958137512, 0.8820850253105164, 0.03920377790927887, 0.0047687143087387085, 0.5913205742835999, 0.3385787308216095, 0.04768714681267738, 0.9504238367080688, 0.8624955415725708, 0.006097091361880302, 0.0024388364981859922, 0.0012194182490929961, 0.0012194182490929961, 0.0012194182490929961, 0.0024388364981859922, 0.977973461151123, 0.0012194182490929961, 0.8015859723091125, 0.11659432202577591, 0.029148580506443977, 0.9149935245513916, 0.017264029011130333, 0.9410607814788818, 0.8892098069190979, 0.793884813785553, 0.9120325446128845, 0.9279686808586121, 0.01521260105073452, 0.702571451663971, 0.17564286291599274, 0.062197472900152206, 0.18659241497516632, 0.49757978320121765, 0.062197472900152206, 0.062197472900152206, 0.8762257695198059, 0.009223710745573044, 0.0030745703261345625, 0.0024596562143415213, 0.023366734385490417, 0.0006149140535853803, 0.6930081248283386, 0.00184474210254848, 0.00184474210254848, 0.01660268008708954, 0.0006149140535853803, 0.0024596562143415213, 0.00184474210254848, 0.00368948420509696, 0.08916253596544266, 0.0012298281071707606, 0.020292162895202637, 0.0024596562143415213, 0.0006149140535853803, 0.00184474210254848, 0.0006149140535853803, 0.014143023639917374, 0.0012298281071707606, 0.10822487622499466, 0.026973487809300423, 0.8901250958442688, 0.00805879570543766, 0.00402939785271883, 0.2699696719646454, 0.00805879570543766, 0.6930564641952515, 0.00402939785271883, 0.8142297267913818, 0.07879642397165298, 0.8769428730010986, 0.300104558467865, 0.6633890271186829, 0.00789748877286911, 0.9254162907600403, 0.007223351392894983, 0.012038919143378735, 0.43340110778808594, 0.019262271001935005, 0.0024077838752418756, 0.5176735520362854, 0.001935505773872137, 0.001935505773872137, 0.42968228459358215, 0.3212939500808716, 0.001935505773872137, 0.001935505773872137, 0.2361316978931427, 0.09440254420042038, 0.5664152503013611, 0.7408407330513, 0.013425526209175587, 0.9263612627983093, 0.8593727350234985, 0.004298623185604811, 0.0009552495903335512, 0.0019104991806671023, 0.011462995782494545, 0.2884853780269623, 0.00238812412135303, 0.0004776247951667756, 0.6548236012458801, 0.0004776247951667756, 0.0004776247951667756, 0.0004776247951667756, 0.02244836650788784, 0.0009552495903335512, 0.0004776247951667756, 0.007641996722668409, 0.0004776247951667756, 0.0004776247951667756, 0.031822964549064636, 0.859220027923584, 0.014606865122914314, 0.9348393678665161, 0.5105247497558594, 0.006413627415895462, 0.01026180386543274, 0.061570823192596436, 0.37840402126312256, 0.002565450966358185, 0.019240882247686386, 0.0012827254831790924, 0.0012827254831790924, 0.0012827254831790924, 0.0038481764495372772, 0.8528936505317688, 0.06630668044090271, 0.8904039859771729, 0.9610702991485596, 0.684630274772644, 0.8836413025856018, 0.7590559720993042, 0.005281050689518452, 0.005281050689518452, 0.9189028143882751, 0.05281050503253937, 0.2985381782054901, 0.017561068758368492, 0.47414886951446533, 0.15804962813854218, 0.006191209424287081, 0.006191209424287081, 0.21669232845306396, 0.006191209424287081, 0.7057978510856628, 0.030956046655774117, 0.8881899118423462, 0.9251253604888916, 0.0024665328674018383, 0.03699799254536629, 0.0024665328674018383, 0.08879518508911133, 0.8558868765830994, 0.002023234497755766, 0.9630596041679382, 0.002023234497755766, 0.02427881397306919, 0.8975968956947327, 0.8889626264572144, 0.7089452743530273, 0.0026239375583827496, 0.0013119687791913748, 0.0013119687791913748, 0.12594901025295258, 0.4749327003955841, 0.0013119687791913748, 0.38703078031539917, 0.011225022375583649, 0.920451819896698, 0.022450044751167297, 0.7466123700141907, 0.8842412829399109, 0.04653901606798172, 0.6906781196594238, 0.938311755657196, 0.9553425908088684, 0.04364016652107239, 0.785522997379303, 0.04367566481232643, 0.01455855555832386, 0.9026304483413696, 0.963829755783081, 0.022917872294783592, 0.27119481563568115, 0.030557163059711456, 0.003819645382463932, 0.003819645382463932, 0.034376807510852814, 0.393423467874527, 0.019098225980997086, 0.12222865223884583, 0.08403220027685165, 0.9323721528053284, 0.016075382009148598, 0.9800313115119934, 0.8770036697387695, 0.8354320526123047, 0.9500394463539124, 0.8231015205383301, 0.05487343296408653, 0.8009727001190186, 0.5582340955734253, 0.09303902089595795, 0.85414719581604, 0.030505256727337837, 0.6179966330528259, 0.278098464012146, 0.9208351969718933, 0.7352494597434998, 0.19029679894447327, 0.32932236790657043, 0.10061290860176086, 0.5030645728111267, 0.8895338177680969, 0.006840481422841549, 0.9576674103736877, 0.006840481422841549, 0.12296749651432037, 0.7267694473266602, 0.10404942184686661, 0.0031530128326267004, 0.0015765064163133502, 0.03310663253068924, 0.0015765064163133502, 0.18539507687091827, 0.17113390564918518, 0.49914059042930603, 0.008556695654988289, 0.11979373544454575, 0.002852231962606311, 0.002852231962606311, 0.9065796732902527, 0.834689199924469, 0.017113078385591507, 0.38789644837379456, 0.5647315979003906, 0.005704359617084265, 0.8590023517608643, 0.07635576277971268, 0.3002699315547943, 0.6005398631095886, 0.8541892170906067, 0.339136004447937, 0.002560993656516075, 0.09475675970315933, 0.5301256775856018, 0.028170930221676826, 0.002560993656516075, 0.0102439746260643, 0.007682980969548225, 0.002560993656516075, 0.30219724774360657, 0.002560993656516075, 0.002560993656516075, 0.002560993656516075, 0.007682980969548225, 0.9102977514266968, 0.020228838548064232, 0.9319096207618713, 0.01456108782440424, 0.037649668753147125, 0.8282926678657532, 0.013054358772933483, 0.14359794557094574, 0.18276101350784302, 0.013054358772933483, 0.004351452924311161, 0.004351452924311161, 0.626609206199646, 0.8090991973876953, 0.8712120652198792, 0.818999171257019, 0.11067556589841843, 0.17787568271160126, 0.025410810485482216, 0.7496189475059509, 0.13091351091861725, 0.06545675545930862, 0.4581972658634186, 0.13091351091861725, 0.8352307677268982, 0.7829457521438599, 0.9628323912620544, 0.007406402844935656, 0.08457214385271072, 0.14498081803321838, 0.012081734836101532, 0.7128223776817322, 0.012081734836101532, 0.0014344240771606565, 0.004303272347897291, 0.004303272347897291, 0.002868848154321313, 0.0014344240771606565, 0.004303272347897291, 0.002868848154321313, 0.0071721202693879604, 0.0014344240771606565, 0.0014344240771606565, 0.9510231614112854, 0.0071721202693879604, 0.0014344240771606565, 0.002868848154321313, 0.0014344240771606565, 0.0014344240771606565, 0.31569385528564453, 0.6128175258636475, 0.9406949281692505, 0.09971567988395691, 0.7329102158546448, 0.009971567429602146, 0.004985783714801073, 0.11965881288051605, 0.004985783714801073, 0.23287083208560944, 0.004158407915383577, 0.7401965856552124, 0.004158407915383577, 0.8443007469177246, 0.004108903929591179, 0.982028067111969, 0.7700613737106323, 0.08381620049476624, 0.12048579007387161, 0.6235731244087219, 0.7015647292137146, 0.0010843108175322413, 0.0010843108175322413, 0.0010843108175322413, 0.0010843108175322413, 0.9628679752349854, 0.0010843108175322413, 0.026023458689451218, 0.8618585467338562, 0.8177130818367004, 0.8017573952674866, 0.07084447890520096, 0.7792892456054688, 0.7922055721282959, 0.06601713597774506, 0.03300856798887253, 0.8806023001670837, 0.03753691911697388, 0.11261075735092163, 0.7695068717002869, 0.6750529408454895, 0.9620273113250732, 0.03489464893937111, 0.005815774668008089, 0.9392476081848145, 0.0029078873340040445, 0.005815774668008089, 0.0029078873340040445, 0.7001365423202515, 0.8875051736831665, 0.9483283758163452, 0.826943039894104, 0.0065847113728523254, 0.230464905500412, 0.0016461778432130814, 0.0016461778432130814, 0.7259644269943237, 0.016461778432130814, 0.0016461778432130814, 0.0016461778432130814, 0.009877067059278488, 0.6797518730163574, 0.20824480056762695, 0.8806636333465576, 0.1635870635509491, 0.5725547075271606, 0.008028168231248856, 0.9473239183425903, 0.008028168231248856, 0.008028168231248856, 0.9455263018608093, 0.9290015697479248, 0.878738522529602, 0.007157437968999147, 0.7586884498596191, 0.18609338998794556, 0.014314875937998295, 0.020147288218140602, 0.9066279530525208, 0.9690549373626709, 0.8289555907249451, 0.8487552404403687, 0.017682401463389397, 0.017682401463389397, 0.05304720252752304, 0.7943804264068604, 0.7721481919288635, 0.13898667693138123, 0.015442963689565659, 0.8808301091194153, 0.0018367146840319037, 0.0018367146840319037, 0.0036734293680638075, 0.022040575742721558, 0.7163187265396118, 0.0018367146840319037, 0.0018367146840319037, 0.24611976742744446, 0.8418875932693481, 0.9692617058753967, 0.4987165629863739, 0.551264762878418, 0.09998610615730286, 0.8498818874359131, 0.7043538093566895, 0.9090700149536133, 0.655078649520874, 0.932934045791626, 0.007523661945015192, 0.03761830925941467, 0.003333628410473466, 0.026669027283787727, 0.9234150648117065, 0.006667256820946932, 0.010000885464251041, 0.006667256820946932, 0.003333628410473466, 0.006667256820946932, 0.8896860480308533, 0.0007940044743008912, 0.00026466816780157387, 0.9708028435707092, 0.00026466816780157387, 0.0010586726712062955, 0.0007940044743008912, 0.00026466816780157387, 0.0005293363356031477, 0.023555466905236244, 0.0007940044743008912, 0.00026466816780157387, 0.7979304790496826, 0.8907181620597839, 0.023421140387654305, 0.8900033235549927, 0.33059507608413696, 0.7430226802825928, 0.18122504651546478, 0.0034732846543192863, 0.0034732846543192863, 0.8405349254608154, 0.13893139362335205, 0.8073437213897705, 0.9275690317153931, 0.9289177656173706, 0.6099280714988708, 0.3485303223133087, 0.0019141589291393757, 0.0019141589291393757, 0.0019141589291393757, 0.08230883628129959, 0.0038283178582787514, 0.8096892237663269, 0.09379378706216812, 0.9497230648994446, 0.813099205493927, 0.7858219146728516, 0.8744710087776184, 0.14334042370319366, 0.7167021036148071, 0.7577568292617798, 0.9228199124336243, 0.02146092802286148, 0.01073046401143074, 0.7580790519714355, 0.3145409822463989, 0.9626599550247192, 0.983944833278656, 0.020357968285679817, 0.005089492071419954, 0.03562644496560097, 0.1068793311715126, 0.7837817668914795, 0.010178984142839909, 0.005089492071419954, 0.01526847667992115, 0.005089492071419954, 0.005089492071419954, 0.9645298719406128, 0.007476243190467358, 0.9519749879837036, 0.0024920811410993338, 0.0224287286400795, 0.0024920811410993338, 0.042639005929231644, 0.27981847524642944, 0.0026649378705769777, 0.07461826503276825, 0.0053298757411539555, 0.007994813844561577, 0.0026649378705769777, 0.572961688041687, 0.0026649378705769777, 0.8590595126152039, 0.18225516378879547, 0.5467655062675476, 0.9043090343475342, 0.013803219422698021, 0.9524221420288086, 0.0069016097113490105, 0.04495048150420189, 0.8091086745262146, 0.7208169102668762, 0.6172482371330261, 0.0007997734355740249, 0.008797507733106613, 0.008797507733106613, 0.028791842982172966, 0.11596714705228806, 0.0015995468711480498, 0.0007997734355740249, 0.02639252319931984, 0.0015995468711480498, 0.0015995468711480498, 0.0007997734355740249, 0.0015995468711480498, 0.3558991849422455, 0.0031990937422960997, 0.0007997734355740249, 0.011996601708233356, 0.0015995468711480498, 0.0007997734355740249, 0.0007997734355740249, 0.0007997734355740249, 0.002399320248514414, 0.055184368044137955, 0.36869555711746216, 0.8774890899658203, 0.025071116164326668, 0.0011590368812903762, 0.0011590368812903762, 0.0011590368812903762, 0.9654777646064758, 0.0011590368812903762, 0.024339774623513222, 0.05906885117292404, 0.0016876815352588892, 0.005063044372946024, 0.9214740991592407, 0.005063044372946024, 0.0033753630705177784, 0.6323262453079224, 0.32393449544906616, 0.26254671812057495, 0.3552102744579315, 0.3243224024772644, 0.925632655620575, 0.7201298475265503, 0.9627286195755005, 0.0014520793920382857, 0.010164555162191391, 0.0029041587840765715, 0.01597287319600582, 0.0014520793920382857, 0.01187400333583355, 0.00025263839052058756, 0.0007579151424579322, 0.0015158302849158645, 0.7546308636665344, 0.009852896444499493, 0.00025263839052058756, 0.00025263839052058756, 0.16850979626178741, 0.00025263839052058756, 0.00025263839052058756, 0.00025263839052058756, 0.0005052767810411751, 0.00025263839052058756, 0.011368727311491966, 0.00025263839052058756, 0.00025263839052058756, 0.0005052767810411751, 0.00025263839052058756, 0.03789575770497322, 0.00025263839052058756, 0.00025263839052058756, 0.8218847513198853, 0.06731206178665161, 0.8077447414398193, 0.6661641597747803, 0.1621464639902115, 0.0031793422531336546, 0.13035303354263306, 0.009538027457892895, 0.6803792715072632, 0.0031793422531336546, 0.6790775656700134, 0.23688752949237823, 0.031585004180669785, 0.002059018472209573, 0.028826260939240456, 0.953325629234314, 0.002059018472209573, 0.002059018472209573, 0.949805498123169, 0.0015771701000630856, 0.9904628396034241, 0.0015771701000630856, 0.0026460089720785618, 0.0008820030489005148, 0.0017640060978010297, 0.9843153953552246, 0.0026460089720785618, 0.0026460089720785618, 0.0008820030489005148, 0.0008820030489005148, 0.039383869618177414, 0.7876774072647095, 0.039383869618177414, 0.004676035605370998, 0.977291464805603, 0.010435288771986961, 0.022957634180784225, 0.03756703808903694, 0.10017877072095871, 0.002087057800963521, 0.1732257902622223, 0.006261173170059919, 0.002087057800963521, 0.002087057800963521, 0.11061406135559082, 0.008348231203854084, 0.006261173170059919, 0.5113291144371033, 0.002087057800963521, 0.9517258405685425, 0.9688704013824463, 0.00520898075774312, 0.00520898075774312, 0.8396731019020081, 0.03358692303299904, 0.8390347361564636, 0.00603729160502553, 0.00603729160502553, 0.44675955176353455, 0.003018645802512765, 0.11168988794088364, 0.4105358123779297, 0.010908802971243858, 0.9381570816040039, 0.8035593032836914, 0.04464218392968178, 0.6464210152626038, 0.0005102012655697763, 0.0005102012655697763, 0.00408161012455821, 0.0005102012655697763, 0.0015306038549169898, 0.0010204025311395526, 0.0005102012655697763, 0.0005102012655697763, 0.06581596285104752, 0.01020402554422617, 0.0010204025311395526, 0.6102007627487183, 0.0005102012655697763, 0.0005102012655697763, 0.0005102012655697763, 0.0010204025311395526, 0.0005102012655697763, 0.0010204025311395526, 0.17703984677791595, 0.12244831025600433, 0.8341657519340515, 0.943718671798706, 0.9404054284095764, 0.04243660718202591, 0.8062955737113953, 0.7233786582946777, 0.9056451916694641, 0.7895286083221436, 0.0033623012714087963, 0.03698531538248062, 0.34295472502708435, 0.22191189229488373, 0.3732154369354248, 0.0028551388531923294, 0.08850930631160736, 0.0028551388531923294, 0.8108594417572021, 0.0827990248799324, 0.708217203617096, 0.9382575750350952, 0.7753587961196899, 0.9612922668457031, 0.015504714101552963, 0.013307587243616581, 0.12642207741737366, 0.7851476073265076, 0.04657655581831932, 0.8044098019599915, 0.9226231575012207, 0.8218844532966614, 0.007885446771979332, 0.018399376422166824, 0.9567675590515137, 0.0026284821797162294, 0.005256964359432459, 0.9490332007408142, 0.043778955936431885, 0.03752481937408447, 0.21264062821865082, 0.6942091584205627, 0.9045960307121277, 0.8667894005775452, 0.44966599345207214, 0.957645058631897, 0.9491979479789734, 0.011299975216388702, 0.17459307610988617, 0.7274711728096008, 0.8694148063659668, 0.00018836147501133382, 0.0007534459000453353, 0.0020719761960208416, 0.00018836147501133382, 0.00018836147501133382, 0.00018836147501133382, 0.009983157739043236, 0.00018836147501133382, 0.0007534459000453353, 0.0007534459000453353, 0.15389132499694824, 0.006027567200362682, 0.0007534459000453353, 0.00018836147501133382, 0.0007534459000453353, 0.000565084395930171, 0.00037672295002266765, 0.00037672295002266765, 0.00018836147501133382, 0.5923967957496643, 0.22885918617248535, 0.00018836147501133382, 0.5613753795623779, 0.772092342376709, 0.8668726682662964, 0.9277923703193665, 0.07417267560958862, 0.01236211322247982, 0.8035373687744141, 0.00618105661123991, 0.00618105661123991, 0.0803537368774414, 0.0013268694747239351, 0.007961217314004898, 0.0013268694747239351, 0.04644043371081352, 0.1698392927646637, 0.02521052025258541, 0.0013268694747239351, 0.003980608657002449, 0.5997450351715088, 0.0026537389494478703, 0.0013268694747239351, 0.0013268694747239351, 0.003980608657002449, 0.006634347606450319, 0.0013268694747239351, 0.0013268694747239351, 0.11145703494548798, 0.013268695212900639, 0.0013268694747239351, 0.9930670857429504, 0.7111735343933105, 0.8882681131362915, 0.9222859740257263, 0.08851754665374756, 0.8725301027297974, 0.649389922618866, 0.9455344080924988, 0.9370084404945374, 0.9609261751174927, 0.001965084346011281, 0.001965084346011281, 0.011790505610406399, 0.001965084346011281, 0.001965084346011281, 0.009825421497225761, 0.003930168692022562, 0.0014747193781659007, 0.004424158483743668, 0.04719102010130882, 0.0029494387563318014, 0.14747193455696106, 0.0014747193781659007, 0.156320258975029, 0.0014747193781659007, 0.0014747193781659007, 0.631179928779602, 0.007188856136053801, 0.28755423426628113, 0.20847682654857635, 0.4672756493091583, 0.9732593894004822, 0.06554646790027618, 0.016386616975069046, 0.7810953855514526, 0.11470631510019302, 0.7362862825393677, 0.07750382274389267, 0.012361212633550167, 0.019777940586209297, 0.004944485146552324, 0.3535306751728058, 0.002472242573276162, 0.5958104729652405, 0.004944485146552324, 0.011254917830228806, 0.04501967132091522, 0.011254917830228806, 0.04501967132091522, 0.011254917830228806, 0.7765893340110779, 0.07878442108631134, 0.8461060523986816, 0.5756403803825378, 0.39427420496940613, 0.8078845739364624, 0.04252023994922638, 0.8053532242774963, 0.15340061485767365, 0.8999431133270264, 0.8379939794540405, 0.9382620453834534, 0.9278358817100525, 0.9134207367897034, 0.01902959868311882, 0.29823100566864014, 0.14911550283432007, 0.9517704248428345, 0.016845494508743286, 0.6357388496398926, 0.0013740817084908485, 0.01374081615358591, 0.032977961003780365, 0.01511489786207676, 0.004122245125472546, 0.002748163416981697, 0.9027716517448425, 0.0013740817084908485, 0.002748163416981697, 0.0013740817084908485, 0.01374081615358591, 0.004122245125472546, 0.274879515171051, 0.006247261539101601, 0.6934460401535034, 0.7734965682029724, 0.9725125432014465, 0.42088642716407776, 0.9831947088241577, 0.002731096465140581, 0.002731096465140581, 0.6568090319633484, 0.002258670050650835, 0.0011293350253254175, 0.003388004843145609, 0.019198695197701454, 0.22699633240699768, 0.08921746164560318, 0.3659045398235321, 0.0011293350253254175, 0.0011293350253254175, 0.0011293350253254175, 0.2857217490673065, 0.01578466407954693, 0.3472626209259033, 0.56824791431427, 0.9572882652282715, 0.41086649894714355, 0.03287059813737869, 0.9285944104194641, 0.9118104577064514, 0.9141461253166199, 0.9314948916435242, 0.43812257051467896, 0.0020862978417426348, 0.3484117388725281, 0.0020862978417426348, 0.006258893758058548, 0.18985311686992645, 0.0020862978417426348, 0.0020862978417426348, 0.0020862978417426348, 0.0041725956834852695, 0.0032587929163128138, 0.01955275796353817, 0.24115067720413208, 0.0032587929163128138, 0.0065175858326256275, 0.12057533860206604, 0.0814698189496994, 0.009776378981769085, 0.0032587929163128138, 0.0032587929163128138, 0.1629396378993988, 0.13361050188541412, 0.0032587929163128138, 0.0032587929163128138, 0.20204515755176544, 0.024308186024427414, 0.8507865071296692, 0.04861637204885483, 0.02870962768793106, 0.004980241414159536, 0.009081616997718811, 0.02665894106030464, 0.20301808416843414, 0.005566152278333902, 0.0017577323596924543, 0.005273196846246719, 0.51735919713974, 0.0011718216119334102, 0.005859107710421085, 0.0005859108059667051, 0.004687286447733641, 0.00029295540298335254, 0.00029295540298335254, 0.019335055723786354, 0.00029295540298335254, 0.00029295540298335254, 0.0029295538552105427, 0.010839349590241909, 0.13153697550296783, 0.004980241414159536, 0.009374572895467281, 0.0032225092872977257, 0.00029295540298335254, 0.0005859108059667051, 0.004380581434816122, 0.0007964693359099329, 0.0015929386718198657, 0.008362927474081516, 0.24013550579547882, 0.0023894079495221376, 0.0003982346679549664, 0.0003982346679549664, 0.561112642288208, 0.0003982346679549664, 0.0003982346679549664, 0.0003982346679549664, 0.019911732524633408, 0.0019911732524633408, 0.14893975853919983, 0.0003982346679549664, 0.006769989151507616, 0.0003982346679549664, 0.0003982346679549664, 0.6891033053398132, 0.0025394910480827093, 0.9853225350379944, 0.19296662509441376, 0.6790987253189087, 0.8259688019752502, 0.010593846440315247, 0.7627569437026978, 0.1800953894853592, 0.010593846440315247, 0.9024398922920227, 0.06638790667057037, 0.3319395184516907, 0.4647153317928314, 0.5602155923843384, 0.7608328461647034, 0.895048201084137, 0.021310672163963318, 0.7913860082626343, 0.008565479889512062, 0.9336373209953308, 0.025696439668536186, 0.7099257707595825, 0.8540541529655457, 0.758946418762207, 0.013570297509431839, 0.008400660008192062, 0.007431352976709604, 0.43812674283981323, 0.0019386138301342726, 0.019386138767004013, 0.0009693069150671363, 0.004523432347923517, 0.0012924092588946223, 0.0003231023147236556, 0.004846534691751003, 0.030371617525815964, 0.013570297509431839, 0.004846534691751003, 0.013247194699943066, 0.010662375949323177, 0.0003231023147236556, 0.03618745878338814, 0.07851386070251465, 0.02681749127805233, 0.08012937009334564, 0.0029079208616167307, 0.0003231023147236556, 0.0029079208616167307, 0.0006462046294473112, 0.013893399387598038, 0.15088878571987152, 0.032310232520103455, 0.0003231023147236556, 0.8717027902603149, 0.0009940366726368666, 0.6908555030822754, 0.0009940366726368666, 0.0009940366726368666, 0.0009940366726368666, 0.01689862459897995, 0.282306432723999, 0.0009940366726368666, 0.9685977101325989, 0.004086910281330347, 0.004086910281330347, 0.008173820562660694, 0.9791389107704163, 0.004313386976718903, 0.8705911040306091, 0.8429003953933716, 0.683095395565033, 0.8954086899757385, 0.0016678512329235673, 0.0016678512329235673, 0.0016678512329235673, 0.0016678512329235673, 0.9006396532058716, 0.006671404931694269, 0.08005686104297638, 0.04857120290398598, 0.02428560145199299, 0.849996030330658, 0.8984699845314026, 0.8453962206840515, 0.00048082551802508533, 0.008334308862686157, 0.012982289306819439, 0.079817034304142, 0.0003205503453500569, 0.0011219262378290296, 0.045838698744773865, 0.0024041275028139353, 0.0003205503453500569, 0.13799692690372467, 0.0435948483645916, 0.00689183222129941, 0.00048082551802508533, 0.05641686171293259, 0.05353190749883652, 0.0006411006907001138, 0.0020835772156715393, 0.17309719324111938, 0.24698403477668762, 0.03157420828938484, 0.0003205503453500569, 0.0009616510360501707, 0.002564402762800455, 0.00048082551802508533, 0.05273053050041199, 0.0003205503453500569, 0.03750438988208771, 0.0003205503453500569, 0.6294451951980591, 0.9431104063987732, 0.023977383971214294, 0.8887179493904114, 0.07705910503864288, 0.11558865755796432, 0.6550024151802063, 0.020992223173379898, 0.7767122387886047, 0.08396889269351959, 0.041984446346759796, 0.022623566910624504, 0.009049426764249802, 0.9501898288726807, 0.8336496949195862, 0.3214191794395447, 0.6317549347877502, 0.887162446975708, 0.6573212146759033, 0.7192050218582153, 0.8536595106124878, 0.0005863641854375601, 0.0005863641854375601, 0.011727284640073776, 0.0005863641854375601, 0.0023454567417502403, 0.0011727283708751202, 0.0005863641854375601, 0.0011727283708751202, 0.0005863641854375601, 0.0005863641854375601, 0.0005863641854375601, 0.0005863641854375601, 0.0011727283708751202, 0.0005863641854375601, 0.0023454567417502403, 0.9727782011032104, 0.0005863641854375601, 0.0005863641854375601, 0.8453202843666077, 0.7401467561721802, 0.021804077550768852, 0.9157713055610657, 0.603020966053009, 0.021605173125863075, 0.0030864530708640814, 0.09568005055189133, 0.09568005055189133, 0.0030864530708640814, 0.672846794128418, 0.05555615574121475, 0.0030864530708640814, 0.01543226558715105, 0.0030864530708640814, 0.0030864530708640814, 0.021605173125863075, 0.0030864530708640814, 0.5318673849105835, 0.39003607630729675, 0.8919320702552795, 0.8672393560409546, 0.8136000633239746, 0.5678070783615112, 0.24949099123477936, 0.15485647320747375, 0.6858116984367371, 0.89451664686203, 0.05261862650513649, 0.0013327124761417508, 0.4717802405357361, 0.0013327124761417508, 0.010661699809134007, 0.0013327124761417508, 0.0013327124761417508, 0.0013327124761417508, 0.0013327124761417508, 0.005330849904567003, 0.5010998845100403, 0.0013327124761417508, 0.8578492403030396, 0.5222834944725037, 0.5788766145706177, 0.2043093889951706, 0.15323203802108765, 0.006181482225656509, 0.006181482225656509, 0.9581297636032104, 0.006181482225656509, 0.8981250524520874, 0.5557189583778381, 0.3704793155193329, 0.7735311985015869, 0.8466160893440247, 0.9245076179504395, 0.037257369607686996, 0.9034912586212158, 0.018628684803843498, 0.9745056629180908, 0.008913161233067513, 0.13018126785755157, 0.8244813680648804, 0.005424219649285078, 0.021696878597140312, 0.9024617671966553, 0.010061763226985931, 0.0019165263511240482, 0.005869361571967602, 0.0035934867337346077, 0.06396406143903732, 0.0112595921382308, 0.021800486370921135, 0.029706157743930817, 0.20997941493988037, 0.004072618205100298, 0.08588433265686035, 0.013655249960720539, 0.005749579053372145, 0.011858506128191948, 0.07558300346136093, 0.007067190948873758, 0.03437769040465355, 0.0022758750710636377, 0.006947407964617014, 0.008384802378714085, 0.010780460201203823, 0.002036309102550149, 0.00730675645172596, 0.039169006049633026, 0.06432341039180756, 0.028268763795495033, 0.041804227977991104, 0.01569155976176262, 0.1409844607114792, 0.03545573726296425, 0.8761399984359741, 0.024003835394978523, 0.024003835394978523, 0.024003835394978523, 0.917997419834137, 0.862829327583313, 0.8800285458564758, 0.116982601583004, 0.7603868842124939, 0.928766131401062, 0.017860885709524155, 0.5026465654373169, 0.6511162519454956, 0.0024456684477627277, 0.012228341773152351, 0.0024456684477627277, 0.9440280199050903, 0.012228341773152351, 0.0024456684477627277, 0.014674010686576366, 0.7058460116386414, 0.020167028531432152, 0.10083514451980591, 0.040334057062864304, 0.060501083731651306, 0.0006326350849121809, 0.0018979052547365427, 0.0018979052547365427, 0.28278788924217224, 0.022142227739095688, 0.01581587642431259, 0.0006326350849121809, 0.0012652701698243618, 0.010754796676337719, 0.0006326350849121809, 0.011387431994080544, 0.0031631754245609045, 0.24799294769763947, 0.0018979052547365427, 0.0006326350849121809, 0.0006326350849121809, 0.0006326350849121809, 0.005693715997040272, 0.12146593630313873, 0.0025305403396487236, 0.0037958105094730854, 0.26127830147743225, 0.000578829669393599, 0.002315318677574396, 0.0017364888917654753, 0.2957819402217865, 0.021416697651147842, 0.01620722934603691, 0.000578829669393599, 0.001157659338787198, 0.014470741152763367, 0.000578829669393599, 0.015049571171402931, 0.004630637355148792, 0.2332683503627777, 0.0017364888917654753, 0.000578829669393599, 0.000578829669393599, 0.000578829669393599, 0.0052094669081270695, 0.1146082729101181, 0.0028941482305526733, 0.004051807336509228, 0.2604733407497406, 0.5241690278053284, 0.9252598285675049, 0.723296046257019, 0.6416048407554626, 0.9369980692863464, 0.11254311352968216, 0.05627155676484108, 0.5627155900001526, 0.05627155676484108, 0.00387980486266315, 0.30234766006469727, 0.010808027349412441, 0.004434062633663416, 0.11002017557621002, 0.000554257829207927, 0.06817371398210526, 0.18872478604316711, 0.0016627735458314419, 0.016350606456398964, 0.12165959179401398, 0.02244744263589382, 0.001939902431331575, 0.001939902431331575, 0.002217031316831708, 0.0002771289146039635, 0.000554257829207927, 0.002217031316831708, 0.008036738261580467, 0.039075177162885666, 0.004434062633663416, 0.01441070344299078, 0.0002771289146039635, 0.008036738261580467, 0.046834785491228104, 0.0155192194506526, 0.000554257829207927, 0.002771289087831974, 0.8828242421150208, 0.020064186304807663, 0.004838119260966778, 0.8660233616828918, 0.10643862932920456, 0.004838119260966778, 0.8802928924560547, 0.47198641300201416, 0.9388849139213562, 0.012861437164247036, 0.17729726433753967, 0.0046657174825668335, 0.14463724195957184, 0.009331434965133667, 0.027994304895401, 0.0046657174825668335, 0.17729726433753967, 0.08864863216876984, 0.027994304895401, 0.0419914573431015, 0.275277316570282, 0.0046657174825668335, 0.0046657174825668335, 0.9729557037353516, 0.010932086035609245, 0.018222052603960037, 0.05466615781188011, 0.901991605758667, 0.00437498651444912, 0.8574973940849304, 0.11812464147806168, 0.9229118824005127, 0.8912225961685181, 0.8454542756080627, 0.8947896361351013, 0.7273789048194885, 0.9252862930297852, 0.6118645071983337, 0.5908280611038208, 0.00722916517406702, 0.001807291293516755, 0.00361458258703351, 0.007831595838069916, 0.5235120058059692, 0.25362321734428406, 0.0012048608623445034, 0.15542705357074738, 0.0006024304311722517, 0.0006024304311722517, 0.0012048608623445034, 0.0006024304311722517, 0.0006024304311722517, 0.03976040706038475, 0.5930166840553284, 0.0017970203189179301, 0.0035940406378358603, 0.0017970203189179301, 0.0934450551867485, 0.05211358889937401, 0.023361263796687126, 0.07008378952741623, 0.0017970203189179301, 0.0035940406378358603, 0.021564243361353874, 0.0017970203189179301, 0.11860334128141403, 0.0017970203189179301, 0.0053910608403384686, 0.025036273524165154, 0.9138239622116089, 0.8571874499320984, 0.8619384765625, 0.031923647969961166, 0.046736158430576324, 0.00934723112732172, 0.9160286784172058, 0.8682920932769775, 0.9414771199226379, 0.011208061128854752, 0.7123103141784668, 0.0027510179206728935, 0.1650610864162445, 0.4731751084327698, 0.3218691051006317, 0.005502035841345787, 0.0027510179206728935, 0.022008143365383148, 0.4497711956501007, 0.41517341136932373, 0.00934776570647955, 0.3084762692451477, 0.6449958086013794, 0.7922958731651306, 0.8618374466896057, 0.08915559947490692, 0.7349075675010681, 0.8143100738525391, 0.4350152313709259, 0.02890101820230484, 0.0881481021642685, 0.00722525455057621, 0.3916088044643402, 0.0014450509333983064, 0.0014450509333983064, 0.12571942806243896, 0.0014450509333983064, 0.00722525455057621, 0.0014450509333983064, 0.0014450509333983064, 0.33814191818237305, 0.027264375239610672, 0.6634331345558167, 0.23629124462604523, 0.036352500319480896, 0.9185745716094971, 0.9251006245613098, 0.0007526564295403659, 0.0002508854668121785, 0.970425009727478, 0.000501770933624357, 0.001003541867248714, 0.0007526564295403659, 0.0002508854668121785, 0.000501770933624357, 0.023834120482206345, 0.0007526564295403659, 0.0002508854668121785, 0.6651777625083923, 0.6686643958091736, 0.005390640813857317, 0.005390640813857317, 0.048515766859054565, 0.6630488038063049, 0.005390640813857317, 0.2587507665157318, 0.8950417637825012, 0.7284788489341736, 0.9177147746086121, 0.42793622612953186, 0.9263818860054016, 0.16139370203018188, 0.023056242614984512, 0.7147435545921326, 0.023056242614984512, 0.03358105197548866, 0.0013432421255856752, 0.0006716210627928376, 0.9584032893180847, 0.0006716210627928376, 0.0020148633047938347, 0.0006716210627928376, 0.8650438785552979, 0.8520343899726868, 0.8823794722557068, 0.13491365313529968, 0.004497122019529343, 0.37326112389564514, 0.46770069003105164, 0.9055765271186829, 0.017086349427700043, 0.8069424629211426, 0.9595417380332947, 0.2751193344593048, 0.05569900944828987, 0.6548852920532227, 0.005063546355813742, 0.0016878487076610327, 0.9398406744003296, 0.014348712749779224, 0.007174356374889612, 0.007174356374889612, 0.9303451776504517, 0.03316650912165642, 0.9120789766311646, 0.01658325456082821, 0.6920080184936523, 0.4600503146648407, 0.011220739223062992, 0.3983362317085266, 0.07293480634689331, 0.03927258774638176, 0.7076674103736877, 0.8989201784133911, 0.9668570160865784, 0.9109204411506653, 0.8281909823417664, 0.019938722252845764, 0.11963233351707458, 0.7377327680587769, 0.03987744450569153, 0.008615532889962196, 0.017231065779924393, 0.017231065779924393, 0.09477085620164871, 0.7753979563713074, 0.060308728367090225, 0.7551132440567017, 0.8542896509170532, 0.017707524821162224, 0.9207912683486938, 0.0013674130896106362, 0.0013674130896106362, 0.0013674130896106362, 0.9421476125717163, 0.0041022393852472305, 0.04375721886754036, 0.6516356468200684, 0.47561922669410706, 0.41966402530670166, 0.007062315009534359, 0.0023541050031781197, 0.30367955565452576, 0.009416420012712479, 0.666211724281311, 0.004708210006356239, 0.14956103265285492, 0.6212535500526428, 0.12655164301395416, 0.06902816891670227, 0.8263946771621704, 0.9198544025421143, 0.9048259854316711, 0.545310914516449, 0.6903234124183655, 0.5322808623313904, 0.8930262327194214, 0.6307909488677979, 0.020728807896375656, 0.9431607127189636, 0.787604808807373, 0.05250698700547218, 0.8116955757141113, 0.014986119233071804, 0.7493059635162354, 0.014986119233071804, 0.1498611867427826, 0.8412737846374512, 0.07271770387887955, 0.6544593572616577, 0.9360511898994446, 0.11799871921539307, 0.7473251819610596, 0.001087682438082993, 0.8821104764938354, 0.001087682438082993, 0.002175364876165986, 0.001087682438082993, 0.001087682438082993, 0.02827974408864975, 0.07940081506967545, 0.8568887710571289, 0.742508590221405, 0.9770077466964722, 0.0016392747638747096, 0.0016392747638747096, 0.011474923230707645, 0.8518611192703247, 0.5597244501113892, 0.21527864038944244, 0.04305572807788849, 0.8658106923103333, 0.8125771284103394, 0.9177958369255066, 0.017316902056336403, 0.017316902056336403, 0.7954505681991577, 0.6985471248626709, 0.06580158323049545, 0.8817411661148071, 0.6472622156143188, 0.7057731747627258, 0.8833410739898682, 0.8859455585479736, 0.7910605669021606, 0.3152698278427124, 0.7893217206001282, 0.8164322376251221, 0.7929123044013977, 0.3869623839855194, 0.42214077711105347, 0.14071358740329742, 0.3065321743488312, 0.655836284160614, 0.04848102480173111, 0.7756963968276978, 0.41628116369247437, 0.5333602428436279, 0.9226879477500916, 0.13175758719444275, 0.39527276158332825, 0.5210776329040527, 0.44751372933387756, 0.7798783183097839, 0.719602644443512, 0.8116141557693481, 0.039785005152225494, 0.007957001216709614, 0.1034410148859024, 0.5654380917549133, 0.9012572765350342, 0.8699524402618408, 0.007351402193307877, 0.007351402193307877, 0.014702804386615753, 0.014702804386615753, 0.11027102917432785, 0.8160056471824646, 0.007351402193307877, 0.0589410662651062, 0.4715285301208496, 0.3929404318332672, 0.9305640459060669, 0.012244263663887978, 0.012244263663887978, 0.04000849276781082, 0.800169825553894, 0.9666735529899597, 0.44838762283325195, 0.89947509765625, 0.9138137698173523, 0.6283925771713257, 0.08809781819581985, 0.01761956512928009, 0.669543445110321, 0.15857607126235962, 0.37603190541267395, 0.009641843847930431, 0.1542695015668869, 0.23140424489974976, 0.18319502472877502, 0.010829884558916092, 0.010829884558916092, 0.9421999454498291, 0.010829884558916092, 0.7514460682868958, 0.9397135376930237, 0.006984554696828127, 0.014576462097465992, 0.01002131775021553, 0.00151838141027838, 0.00151838141027838, 0.09110288321971893, 0.008502935990691185, 0.008806612342596054, 0.001822057762183249, 0.014576462097465992, 0.5772886276245117, 0.006680878344923258, 0.00030367629369720817, 0.00151838141027838, 0.0021257339976727962, 0.014880137518048286, 0.00151838141027838, 0.003947791643440723, 0.036137476563453674, 0.00030367629369720817, 0.08654773980379105, 0.10871610790491104, 0.0025647992733865976, 0.01025919709354639, 0.056425582617521286, 0.3513774871826172, 0.5642558336257935, 0.0025647992733865976, 0.0023830742575228214, 0.3407796025276184, 0.33363038301467896, 0.3097996413707733, 0.02540423534810543, 0.005773690063506365, 0.06928428262472153, 0.001154738012701273, 0.001154738012701273, 0.006928428076207638, 0.19746018946170807, 0.002309476025402546, 0.05427268519997597, 0.002309476025402546, 0.10970010608434677, 0.21709074079990387, 0.23903076350688934, 0.001154738012701273, 0.001154738012701273, 0.001154738012701273, 0.060046374797821045, 0.44070935249328613, 0.9797903895378113, 0.5904779434204102, 0.9326444864273071, 0.03041232004761696, 0.4210040271282196, 0.47713789343833923, 0.7777635455131531, 0.9516341090202332], \"Term\": [\"adana_kebab\", \"ajiaco\", \"al_pastor_taco\", \"alaskan_roll\", \"almond_milk\", \"angel_hair\", \"angus_burger\", \"angus_burger\", \"antipasto\", \"antipasto\", \"antipasto_salad\", \"appetizers\", \"appetizers\", \"appetizers\", \"appetizers\", \"appetizers\", \"appetizers\", \"appetizers\", \"appetizers\", \"appetizers\", \"appetizers\", \"appetizers\", \"appetizers\", \"appetizers\", \"appetizers\", \"appetizers\", \"appetizers\", \"appetizers\", \"appetizers\", \"appetizers\", \"appetizers\", \"appetizers\", \"appetizers\", \"appetizers\", \"appetizers\", \"appetizers\", \"appetizers\", \"appetizers\", \"appetizers\", \"appetizers\", \"appetizers\", \"apple_juice\", \"arroz_chaufa\", \"arroz_con_pollo\", \"arroz_con_pollo\", \"arugula_salad\", \"arugula_salad\", \"avgolemono\", \"avgolemono\", \"avgolemono\", \"avocado\", \"avocado\", \"avocado\", \"avocado\", \"avocado\", \"avocado_roll\", \"avocado_salads\", \"avocado_sandwich\", \"avocado_wrap\", \"baby_back_ribs\", \"bacon\", \"bacon\", \"bacon\", \"bacon\", \"bacon\", \"bacon_burger\", \"bacon_cheeseburger\", \"bacon_sandwich\", \"bacon_sandwich\", \"bacon_sandwich\", \"bagel\", \"bagel\", \"bagel\", \"bagel_sandwich\", \"baguette\", \"baked_macaroni_and_cheese\", \"baked_ziti\", \"baklava\", \"ball_soup\", \"ball_soup\", \"banana\", \"banana\", \"banana\", \"banana\", \"banh_mi\", \"barbecue_baby_back_rib\", \"barbecue_chicken\", \"barbecue_chicken\", \"barbecue_chicken_pizza\", \"barbecue_chicken_salad\", \"barbecue_pork_fried_rice\", \"barbecue_pork_rib\", \"barbecue_rib\", \"barbecue_rib\", \"barbecue_rib\", \"bean_curd\", \"beef_broccoli\", \"beef_broccoli\", \"beef_broccoli\", \"beef_broccoli\", \"beef_broccoli\", \"beef_burger\", \"beef_burger\", \"beef_burger\", \"beef_burger\", \"beef_burger\", \"beef_dishes\", \"beef_dishes\", \"beef_dishes\", \"beef_dishes\", \"beef_dishes\", \"beef_dishes\", \"beef_dishes\", \"beef_dishes\", \"beef_dishes\", \"beef_dishes\", \"beef_dishes\", \"beef_dishes\", \"beef_dishes\", \"beef_dishes\", \"beef_dishes\", \"beef_dishes\", \"beef_dishes\", \"beef_dishes\", \"beef_dishes\", \"beef_dishes\", \"beef_dishes\", \"beef_dishes\", \"beef_dishes\", \"beef_dishes\", \"beef_entree\", \"beef_entree\", \"beef_entree\", \"beef_entree\", \"beef_entree\", \"beef_entree\", \"beef_entree\", \"beef_entree\", \"beef_entree\", \"beef_entree\", \"beef_entree\", \"beef_entree\", \"beef_entree\", \"beef_entree\", \"beef_fried_rice\", \"beef_gyro\", \"beef_kebab\", \"beef_noodle_soup\", \"beef_patty\", \"beef_patty\", \"beef_patty\", \"beef_patty\", \"beef_rib\", \"beef_sandwiches\", \"beef_sandwiches\", \"beef_sandwiches\", \"beef_shawarma\", \"beef_shish_kebab\", \"beef_short_rib\", \"beef_short_rib\", \"beef_soup\", \"beef_stew\", \"belgian_waffle\", \"bento\", \"bento\", \"berry_smoothie\", \"bhaji\", \"bianca_pizza\", \"biryani\", \"biryani\", \"biscuits\", \"biscuits\", \"bison_burger\", \"bisque\", \"blt_sandwich\", \"blt_sandwich\", \"blt_sandwich\", \"boneless_buffalo_wing\", \"boneless_buffalo_wing\", \"boneless_ribs\", \"boneless_ribs\", \"boneless_wings\", \"boneless_wings\", \"boneless_wings\", \"boneless_wings\", \"boneless_wings\", \"borscht\", \"bottled_soda\", \"bottled_soda\", \"bottled_soda\", \"bottled_soda\", \"bottled_soda\", \"bottled_water\", \"bottled_water\", \"bread_varieties\", \"bread_varieties\", \"bread_varieties\", \"bread_varieties\", \"bread_varieties\", \"bread_varieties\", \"bread_varieties\", \"bread_varieties\", \"bread_varieties\", \"bread_varieties\", \"bread_varieties\", \"bread_varieties\", \"bread_varieties\", \"bread_varieties\", \"bread_varieties\", \"bread_varieties\", \"bread_varieties\", \"breads\", \"breads\", \"breads\", \"breads\", \"breads\", \"breads\", \"breads\", \"breads\", \"breadstick\", \"breakfast\", \"breakfast\", \"breakfast\", \"breakfast\", \"breakfast\", \"breakfast\", \"breakfast\", \"breakfast\", \"breakfast\", \"breakfast\", \"breakfast\", \"breakfast\", \"breakfast\", \"breakfast\", \"breakfast\", \"breakfast\", \"breakfast\", \"breakfast\", \"breakfast\", \"breakfast\", \"breakfast\", \"breakfast_specials\", \"breakfast_specials\", \"breakfast_specials\", \"breakfast_specials\", \"breakfast_wrap\", \"breakfast_wrap\", \"breakfast_wrap\", \"brie_sandwich\", \"brisket\", \"broad_noodle\", \"broccoli\", \"broccoli\", \"broccoli_chicken\", \"broccoli_chicken\", \"broccoli_chicken\", \"broccoli_chicken\", \"broccoli_chicken\", \"broccoli_dishes\", \"broccoli_dishes\", \"broccoli_dishes\", \"broccoli_dishes\", \"bruschetta\", \"bubble_tea\", \"buffalo_chicken_calzone\", \"buffalo_chicken_cheesesteak\", \"buffalo_chicken_cheesesteak\", \"buffalo_chicken_pizza\", \"buffalo_chicken_sandwich\", \"buffalo_chicken_wrap\", \"buffalo_chicken_wrap\", \"buffalo_chicken_wrap\", \"buffalo_wing\", \"buffalo_wing\", \"buffalo_wing\", \"buffalo_wing\", \"buffalo_wing\", \"buffalo_wing\", \"buffalo_wing\", \"buffalo_wing\", \"buffalo_wing\", \"buffalo_wing\", \"buffalo_wing\", \"buffalo_wing\", \"buffalo_wing\", \"bun\", \"bun\", \"bun\", \"bun\", \"bun\", \"burgers\", \"burgers\", \"burgers\", \"burgers\", \"burgers\", \"burgers\", \"burgers\", \"burgers\", \"burgers\", \"burgers\", \"burgers\", \"burgers\", \"burgers\", \"burgers\", \"burgers\", \"burgers\", \"burgers\", \"burgers\", \"burgers\", \"burrito_suizo\", \"burritos\", \"burritos\", \"burritos\", \"burritos\", \"burritos\", \"burritos\", \"burritos\", \"burritos\", \"burritos\", \"burritos\", \"burritos\", \"burritos\", \"burritos\", \"butter_chicken\", \"butter_chicken\", \"buttermilk_pancakes\", \"buttermilk_pancakes\", \"cacio_e_pepe\", \"caesar_salads\", \"caesar_salads\", \"caesar_salads\", \"caesar_salads\", \"caesar_salads\", \"caesar_salads\", \"caesar_salads\", \"caesar_salads\", \"caesar_salads\", \"cakes\", \"cakes\", \"calamari\", \"calamari\", \"california_burger\", \"california_roll\", \"california_roll\", \"california_roll\", \"california_roll\", \"california_salad\", \"california_wrap\", \"california_wrap\", \"calzones\", \"calzones\", \"calzones\", \"calzones\", \"calzones\", \"calzones\", \"calzones\", \"canai\", \"cannolis\", \"carbonara\", \"carbonara\", \"carne_asada\", \"carne_asada_burrito\", \"carne_asada_burrito\", \"carne_asada_taco\", \"carne_asada_taco\", \"catering\", \"catering\", \"cavatelli\", \"channa_masala\", \"channa_masala\", \"chaulafan\", \"cheese_enchilada\", \"cheese_fries\", \"cheese_fries\", \"cheese_fries\", \"cheese_naan\", \"cheese_naan\", \"cheese_pie\", \"cheese_pie\", \"cheese_pie\", \"cheese_pie\", \"cheese_pizza\", \"cheese_pizza\", \"cheese_pizza\", \"cheese_pizza\", \"cheese_pizza\", \"cheese_pizza\", \"cheese_pizza\", \"cheese_pizza\", \"cheese_pizza\", \"cheese_pizza\", \"cheese_pizza\", \"cheese_pizza\", \"cheese_pizza\", \"cheese_pizza\", \"cheese_pizza\", \"cheese_quesadilla\", \"cheese_quesadilla\", \"cheese_roll\", \"cheeseburger_combo\", \"cheeseburgers\", \"cheeseburgers\", \"cheeseburgers\", \"cheeseburgers\", \"cheesecakes\", \"cheesesteak\", \"cheesesteak\", \"cheesesteak\", \"cheesesteak\", \"cheesesteak\", \"cheesesteak\", \"cheesesteak\", \"cheesesteak_sub\", \"cheesesteak_sub\", \"cheesesteak_sub\", \"cheesesteak_sub\", \"cheesy_bread\", \"cheesy_bread\", \"cheesy_bread\", \"cheesy_garlic_bread\", \"cheesy_garlic_bread\", \"chef_salad\", \"chefs_special\", \"chefs_special\", \"chicharron\", \"chicharron_de_pollo\", \"chicharron_de_pollo\", \"chicken_biryani\", \"chicken_breast_kebab\", \"chicken_breast_salad\", \"chicken_burger\", \"chicken_burritos\", \"chicken_burritos\", \"chicken_burritos\", \"chicken_caesar_salads\", \"chicken_caesar_salads\", \"chicken_caesar_salads\", \"chicken_caesar_salads\", \"chicken_caesar_wrap\", \"chicken_caesar_wrap\", \"chicken_cheesesteak\", \"chicken_cheesesteak\", \"chicken_chow_mein\", \"chicken_club_sandwich\", \"chicken_cobb_salad\", \"chicken_combos\", \"chicken_combos\", \"chicken_combos\", \"chicken_combos\", \"chicken_combos\", \"chicken_curry\", \"chicken_curry\", \"chicken_cutlet_parmigiana\", \"chicken_cutlet_parmigiana\", \"chicken_cutlet_sandwich\", \"chicken_cutlet_sandwich\", \"chicken_cutlet_sub\", \"chicken_dinner\", \"chicken_dinner\", \"chicken_dinner\", \"chicken_dinner\", \"chicken_dinner_combo\", \"chicken_dishes\", \"chicken_dishes\", \"chicken_dishes\", \"chicken_dishes\", \"chicken_dishes\", \"chicken_dishes\", \"chicken_dishes\", \"chicken_dishes\", \"chicken_dishes\", \"chicken_dishes\", \"chicken_dishes\", \"chicken_dishes\", \"chicken_dishes\", \"chicken_dishes\", \"chicken_dishes\", \"chicken_dishes\", \"chicken_dishes\", \"chicken_dishes\", \"chicken_dishes\", \"chicken_dishes\", \"chicken_dishes\", \"chicken_dishes\", \"chicken_dishes\", \"chicken_dishes\", \"chicken_dishes\", \"chicken_dishes\", \"chicken_dishes\", \"chicken_dishes\", \"chicken_dishes\", \"chicken_dishes\", \"chicken_egg_roll\", \"chicken_enchilada\", \"chicken_enchilada\", \"chicken_entree\", \"chicken_entree\", \"chicken_entree\", \"chicken_entree\", \"chicken_entree\", \"chicken_entree\", \"chicken_entree\", \"chicken_entree\", \"chicken_entree\", \"chicken_entree\", \"chicken_entree\", \"chicken_entree\", \"chicken_entree\", \"chicken_entree\", \"chicken_entree\", \"chicken_entree\", \"chicken_entree\", \"chicken_entree\", \"chicken_entree\", \"chicken_entree\", \"chicken_entree\", \"chicken_entree\", \"chicken_entree\", \"chicken_entree\", \"chicken_fingers\", \"chicken_fingers\", \"chicken_fingers\", \"chicken_fingers\", \"chicken_fingers\", \"chicken_fingers\", \"chicken_fingers\", \"chicken_fingers\", \"chicken_fingers\", \"chicken_fingers\", \"chicken_fingers\", \"chicken_fingers\", \"chicken_fingers\", \"chicken_fingers\", \"chicken_fingers\", \"chicken_fingers\", \"chicken_fingers\", \"chicken_fried_rice\", \"chicken_fried_rice\", \"chicken_fried_rice\", \"chicken_fried_rice\", \"chicken_fried_rice\", \"chicken_fried_rice\", \"chicken_fried_rice\", \"chicken_gyro\", \"chicken_gyro_sandwich\", \"chicken_hibachi\", \"chicken_katsu\", \"chicken_kebab\", \"chicken_kebab\", \"chicken_kebab\", \"chicken_kebab\", \"chicken_kebab\", \"chicken_korma\", \"chicken_korma\", \"chicken_korma\", \"chicken_lo_mein\", \"chicken_lo_mein\", \"chicken_marsala\", \"chicken_noodle\", \"chicken_noodle_soup\", \"chicken_noodle_soup\", \"chicken_noodle_soup\", \"chicken_noodle_soup\", \"chicken_noodle_soup\", \"chicken_nuggets\", \"chicken_nuggets\", \"chicken_pad_thai\", \"chicken_parm_sandwich\", \"chicken_parmesan\", \"chicken_parmesan\", \"chicken_parmesan_sandwich\", \"chicken_parmesan_sub\", \"chicken_parmigiana\", \"chicken_parmigiana\", \"chicken_parmigiana\", \"chicken_parmigiana\", \"chicken_parmigiana\", \"chicken_parmigiana\", \"chicken_parmigiana_panini\", \"chicken_parmigiana_sandwich\", \"chicken_parmigiana_sandwich\", \"chicken_parmigiana_sub\", \"chicken_pasta\", \"chicken_pita\", \"chicken_pizza\", \"chicken_ranch_pizza\", \"chicken_roll\", \"chicken_roll\", \"chicken_salad_sandwich\", \"chicken_salads\", \"chicken_salads\", \"chicken_salads\", \"chicken_salads\", \"chicken_salads\", \"chicken_salads\", \"chicken_salads\", \"chicken_salads\", \"chicken_salads\", \"chicken_sandwiches\", \"chicken_sandwiches\", \"chicken_sandwiches\", \"chicken_sandwiches\", \"chicken_sandwiches\", \"chicken_sandwiches\", \"chicken_sandwiches\", \"chicken_sandwiches\", \"chicken_sandwiches\", \"chicken_sandwiches\", \"chicken_sandwiches\", \"chicken_sandwiches\", \"chicken_satay\", \"chicken_satay\", \"chicken_shawarma\", \"chicken_shawarma\", \"chicken_shawarma_sandwich\", \"chicken_shawarma_sandwich\", \"chicken_shish_kebab\", \"chicken_shish_kebab\", \"chicken_shish_kebab\", \"chicken_sides\", \"chicken_sides\", \"chicken_sides\", \"chicken_sides\", \"chicken_sides\", \"chicken_skewer\", \"chicken_soup\", \"chicken_soup\", \"chicken_soup\", \"chicken_soup\", \"chicken_soup\", \"chicken_soup\", \"chicken_souvlaki\", \"chicken_souvlaki\", \"chicken_steak\", \"chicken_strips\", \"chicken_strips\", \"chicken_strips\", \"chicken_strips\", \"chicken_strips\", \"chicken_subs\", \"chicken_tender\", \"chicken_tender\", \"chicken_tenders\", \"chicken_tenders\", \"chicken_tenders\", \"chicken_tenders\", \"chicken_tenders\", \"chicken_tenders\", \"chicken_tenders\", \"chicken_tenders\", \"chicken_tenders\", \"chicken_tenders\", \"chicken_tenders\", \"chicken_teriyaki\", \"chicken_teriyaki\", \"chicken_teriyaki\", \"chicken_tikka\", \"chicken_tikka\", \"chicken_tikka_masala\", \"chicken_tikka_masala\", \"chicken_tikka_masala\", \"chicken_tikka_masala\", \"chicken_tortilla_soup\", \"chicken_vindaloo\", \"chicken_wing\", \"chicken_wraps\", \"chicken_wraps\", \"chicken_wraps\", \"chicken_wraps\", \"chicken_wraps\", \"chilaquiles\", \"chilaquiles\", \"chimichanga\", \"chimichanga\", \"chinese_chicken_salad\", \"chipotle_chicken\", \"chips\", \"chips\", \"chips\", \"chips\", \"chips\", \"chips\", \"chips\", \"chips\", \"chips_and_salsa\", \"chips_and_salsa\", \"chips_and_salsa\", \"chive_dumpling\", \"chocolate_cakes\", \"chocolate_cakes\", \"chocolate_chip_cookie\", \"chopped_salads\", \"chopped_salads\", \"chopped_salads\", \"chopped_salads\", \"chopped_salads\", \"chorizo_taco\", \"chorizos\", \"chow_fun\", \"chow_mein\", \"chow_mein\", \"chowder\", \"churrascos\", \"churrascos\", \"ciabatta\", \"clam\", \"clam_chowder\", \"classic_burger\", \"classic_burger\", \"classic_caesar_salad\", \"classic_caesar_salad\", \"classic_pizza\", \"classic_pizza\", \"classic_sandwiches\", \"classic_sandwiches\", \"classic_sandwiches\", \"classic_sandwiches\", \"classic_sandwiches\", \"classic_sandwiches\", \"classic_sandwiches\", \"classic_sandwiches\", \"classic_sandwiches\", \"classic_sandwiches\", \"club_sandwiches\", \"club_sandwiches\", \"club_sandwiches\", \"club_sandwiches\", \"cob\", \"cobb_salads\", \"cobb_salads\", \"cobb_salads\", \"cobb_salads\", \"cobb_salads\", \"cobb_salads\", \"cobb_salads\", \"coconut_curry\", \"coconut_soup\", \"coffee\", \"coffee\", \"coffee\", \"coffee\", \"coffee\", \"coffee\", \"coffee\", \"coffee\", \"coke\", \"coke\", \"coleslaw\", \"coleslaw\", \"colombian_coffee\", \"combo_box\", \"combo_box\", \"combo_dinner\", \"combo_dinner\", \"combo_meal\", \"combo_meal\", \"combo_pizza\", \"combo_sandwiches\", \"combos\", \"combos\", \"combos\", \"combos\", \"combos\", \"combos\", \"combos\", \"combos\", \"combos\", \"combos\", \"combos\", \"combos\", \"combos\", \"combos\", \"combos\", \"combos\", \"combos\", \"combos\", \"combos\", \"combos\", \"combos\", \"combos\", \"combos\", \"combos\", \"combos\", \"combos\", \"combos\", \"cookies\", \"corned_beef_sandwich\", \"country_fried_steak\", \"couscous\", \"crab\", \"crab\", \"crab\", \"crab\", \"crab\", \"crab_cheese_wonton\", \"crab_puff\", \"crab_rangoon\", \"crab_rangoon\", \"crab_rangoon\", \"crab_rangoon\", \"crab_rangoon\", \"crab_rangoon\", \"crab_rangoon\", \"crab_rangoon\", \"crab_rangoon\", \"crab_rangoon\", \"crab_rangoon\", \"crab_rangoon\", \"crab_roll\", \"cream_cheese\", \"cream_cheese\", \"cream_cheese_sandwich\", \"crepes\", \"crispy_chicken\", \"crispy_chicken\", \"crispy_chicken_sandwich\", \"crispy_chicken_sandwich\", \"crispy_spring_roll\", \"crispy_spring_roll\", \"crispy_spring_roll\", \"crispy_spring_roll\", \"croissants\", \"croquetas\", \"crunchy_roll\", \"crunchy_roll\", \"cuban_sandwich\", \"cuban_sandwich\", \"cuban_sandwich\", \"cucumber_salad\", \"curly_fry\", \"curly_fry\", \"curly_fry\", \"curly_fry\", \"curries\", \"curries\", \"curries\", \"curries\", \"curries\", \"curries\", \"curries\", \"curries\", \"curries\", \"curries\", \"curries\", \"curries\", \"curries\", \"curries\", \"curries\", \"curries\", \"curry_chicken\", \"curry_entree\", \"curry_puff\", \"curry_puff\", \"cutlet\", \"daily_specials\", \"dan_dan_noodles\", \"dan_dan_noodles\", \"deep_dish_pizza\", \"deep_dish_pizza\", \"deep_dish_pizza\", \"deli_salads\", \"deli_salads\", \"deli_sandwiches\", \"deli_sandwiches\", \"deli_sandwiches\", \"deli_sandwiches\", \"deluxe_burger\", \"deluxe_pizza\", \"deluxe_sandwich\", \"dessert_pie\", \"dessert_pie\", \"desserts\", \"desserts\", \"desserts\", \"desserts\", \"desserts\", \"desserts\", \"desserts\", \"desserts\", \"desserts\", \"desserts\", \"desserts\", \"desserts\", \"desserts\", \"desserts\", \"desserts\", \"desserts\", \"desserts\", \"dhal\", \"dim_sum\", \"dim_sum\", \"dim_sum\", \"dim_sum\", \"dinner_combos\", \"dinner_specials\", \"dinner_specials\", \"dinner_specials\", \"dip\", \"dip\", \"dip\", \"dip\", \"dolma\", \"donburi\", \"doner_kebab\", \"donuts\", \"dosa\", \"dosa\", \"double_burger\", \"dressings\", \"drinks\", \"drinks\", \"drinks\", \"drinks\", \"drinks\", \"drinks\", \"drinks\", \"drinks\", \"drinks\", \"drinks\", \"drinks\", \"drinks\", \"drinks\", \"drinks\", \"drinks\", \"drinks\", \"drinks\", \"drinks\", \"drinks\", \"drinks\", \"drinks\", \"drinks\", \"drinks\", \"drinks\", \"drinks\", \"drinks\", \"drinks\", \"drunken_noodle\", \"drunken_noodle\", \"duck_dishes\", \"duck_dishes\", \"duck_entree\", \"dumpling_soup\", \"dumpling_soup\", \"dumpling_soup\", \"dumpling_soup\", \"dumpling_soup\", \"dumpling_soup\", \"dumpling_soup\", \"dumplings\", \"dumplings\", \"dumplings\", \"dumplings\", \"dumplings\", \"dumplings\", \"dumplings\", \"dumplings\", \"dumplings\", \"dumplings\", \"dumplings\", \"dumplings\", \"dumplings\", \"dumplings\", \"dumplings\", \"dumplings\", \"dynamite_roll\", \"edamame\", \"edamame\", \"edamame\", \"edamame\", \"edamame\", \"edamame\", \"edamame\", \"edamame\", \"eel\", \"eel\", \"eel_avocado_roll\", \"egg_dishes\", \"egg_dishes\", \"egg_dishes\", \"egg_dishes\", \"egg_dishes\", \"egg_dishes\", \"egg_dishes\", \"egg_dishes\", \"egg_dishes\", \"egg_drop\", \"egg_drop_soup\", \"egg_roll\", \"egg_roll\", \"egg_roll\", \"egg_roll\", \"egg_roll\", \"egg_roll\", \"egg_roll\", \"egg_roll\", \"egg_roll\", \"egg_roll\", \"egg_roll\", \"egg_roll\", \"egg_roll\", \"egg_roll\", \"egg_salad_sandwich\", \"egg_sandwiches\", \"egg_sandwiches\", \"egg_sandwiches\", \"egg_sandwiches\", \"egg_sandwiches\", \"egg_wrap\", \"eggplant_dishes\", \"eggplant_dishes\", \"empanada\", \"empanada\", \"empanadas\", \"empanadas\", \"empanadas\", \"empanadas\", \"empanadas\", \"empanadas\", \"empanadas\", \"empanadas\", \"empanadas\", \"enchilada_combo\", \"enchilada_suizas\", \"enchilada_verdes\", \"enchiladas\", \"enchiladas\", \"enchiladas\", \"energy_drinks\", \"english_muffin\", \"entrana\", \"espresso\", \"fajitas\", \"fajitas\", \"fajitas\", \"falafel\", \"falafel\", \"falafel\", \"falafel_pita\", \"falafel_sandwich\", \"falafel_sandwich\", \"falafel_wrap\", \"falafel_wrap\", \"falafel_wrap\", \"family_combo\", \"fattoush_salad\", \"fattoush_salad\", \"fettuccine\", \"fettuccine\", \"fettuccine_alfredo\", \"fettuccine_alfredo\", \"fettuccine_alfredo\", \"fettuccine_alfredo\", \"fillet\", \"fillet_mignon\", \"fish\", \"fish\", \"fish\", \"fish\", \"fish\", \"fish\", \"fish\", \"fish\", \"fish_salads\", \"fish_salads\", \"fish_salads\", \"fish_sandwiches\", \"fish_sandwiches\", \"fish_taco\", \"fish_tacos\", \"flan\", \"flatbreads\", \"flautas\", \"flautas\", \"fountain_drinks\", \"fountain_drinks\", \"fountain_soda\", \"fountain_soda\", \"fountain_soda\", \"fountain_soda\", \"fountain_soda\", \"french_dip_sandwich\", \"french_fries\", \"french_fries\", \"french_fries\", \"french_fries\", \"french_fries\", \"french_fries\", \"french_fries\", \"french_fries\", \"french_fries\", \"french_fries\", \"french_fries\", \"french_fries\", \"french_fries\", \"french_fries\", \"french_fries\", \"french_fries\", \"french_fries\", \"french_fries\", \"french_fries\", \"french_fries\", \"french_fries\", \"french_fries\", \"french_fries\", \"french_onion_soup\", \"french_onion_soup\", \"french_toast\", \"french_toast\", \"french_toast\", \"french_toast\", \"french_toast\", \"french_toast\", \"fresh_fruit\", \"fresh_fruit\", \"fresh_roll\", \"fresh_spring_roll\", \"fresh_spring_roll\", \"fresh_spring_roll\", \"fried_calamari\", \"fried_chicken_wing\", \"fried_chicken_wing\", \"fried_chicken_wing\", \"fried_chicken_wing\", \"fried_chicken_wing\", \"fried_chicken_wing\", \"fried_dumpling\", \"fried_dumpling\", \"fried_dumpling\", \"fried_dumpling\", \"fried_dumpling\", \"fried_dumpling\", \"fried_dumpling\", \"fried_egg_sandwich\", \"fried_egg_sandwich\", \"fried_gyoza\", \"fried_plantain\", \"fried_plantain\", \"fried_ravioli\", \"fried_rice\", \"fried_rice\", \"fried_rice\", \"fried_rice\", \"fried_rice\", \"fried_rice\", \"fried_rice\", \"fried_rice\", \"fried_rice\", \"fried_rice\", \"fried_rice\", \"fried_rice\", \"fried_rice\", \"fried_rice\", \"fried_rice\", \"fried_rice\", \"fried_rice\", \"fried_rice_dinner\", \"fried_rice_dinner\", \"fried_wonton\", \"fried_wonton\", \"fries\", \"fries\", \"fries\", \"fries\", \"fries\", \"fries\", \"fries\", \"fries\", \"fries\", \"fries\", \"fries\", \"frozen_yogurt\", \"fruit\", \"fruit\", \"fruit_juices\", \"fruit_salad\", \"fruit_salads\", \"fruit_smoothie\", \"fruits\", \"fruits\", \"fruits\", \"fruits\", \"garden_salad\", \"garden_salad\", \"garden_salad\", \"garden_salad\", \"garlic_bread\", \"garlic_bread\", \"garlic_bread\", \"garlic_bread\", \"garlic_bread\", \"garlic_bread\", \"garlic_cheese_bread\", \"garlic_chicken\", \"garlic_knot\", \"garlic_knot\", \"garlic_knot\", \"garlic_knot\", \"garlic_knot\", \"garlic_naan\", \"garlic_naan\", \"garlic_naan\", \"garlic_naan\", \"garlic_noodle\", \"garlic_roll\", \"general_chicken\", \"general_tso_chicken\", \"general_tso_chicken\", \"general_tso_chicken\", \"general_tso_chicken\", \"general_tso_chicken\", \"general_tso_chicken\", \"general_tso_chicken\", \"general_tso_chicken_combo\", \"general_tso_chicken_combo\", \"general_tso_chicken_combo\", \"girl_roll\", \"gnocchi\", \"gnocchi\", \"goat_curry\", \"godzilla_roll\", \"goi_cuon\", \"grain_salads\", \"grain_salads\", \"grandma_pizza\", \"grandma_pizza\", \"grandma_pizza\", \"granola\", \"greek_salad\", \"greek_salad\", \"greek_salad\", \"greek_salad\", \"greek_salad\", \"greek_salad\", \"greek_salad\", \"greek_salad\", \"greek_salad\", \"greek_salad\", \"green_bean\", \"green_bean\", \"green_curries\", \"green_juice\", \"green_smoothie\", \"grilled_beef\", \"grilled_chicken_caesar_salad\", \"grilled_chicken_caesar_salad\", \"grilled_chicken_caesar_wrap\", \"grilled_chicken_panini\", \"grilled_chicken_panini\", \"grilled_chicken_quesadilla\", \"grilled_chicken_quesadilla\", \"grilled_chicken_salad\", \"grilled_chicken_salad\", \"grilled_chicken_sandwich\", \"grilled_chicken_wrap\", \"grilled_meat\", \"grilled_pork_chop\", \"grilled_skirt_steak\", \"grilled_skirt_steak\", \"grilled_steak\", \"guacamole\", \"guacamole\", \"guacamole\", \"gyoza\", \"gyoza\", \"gyoza\", \"gyoza\", \"gyoza\", \"gyoza\", \"gyoza\", \"gyro\", \"gyro\", \"gyro\", \"gyro\", \"gyro\", \"gyro\", \"gyro\", \"gyro_combo\", \"gyro_pita\", \"gyro_sandwich\", \"gyro_sandwich\", \"gyro_sandwich\", \"gyro_sandwich\", \"gyro_wrap\", \"gyro_wrap\", \"half_chicken\", \"half_chicken\", \"ham_sandwiches\", \"ham_steak\", \"hamburgers\", \"hamburgers\", \"hamburgers\", \"hamburgers\", \"hamburgers\", \"hamburgers\", \"hamburgers\", \"hamburgers\", \"hamburgers\", \"hamburgers\", \"hamburgers\", \"hamburgers\", \"hamburgers\", \"hash\", \"hash\", \"hash_brown\", \"hash_brown\", \"hawaiian_pizza\", \"hawaiian_pizza\", \"hero\", \"hero\", \"hero\", \"hero\", \"hero\", \"hero\", \"hero\", \"hero_sandwich\", \"hibachi\", \"hoagie\", \"hoagie\", \"home_fries\", \"home_fries\", \"home_fries\", \"homemade_soup\", \"homemade_soup\", \"homemade_soup\", \"homemade_soup\", \"honey_chicken\", \"honey_garlic_chicken\", \"hot_and_sour_soup\", \"hot_and_sour_soup\", \"hot_dogs\", \"hot_dogs\", \"hot_dogs\", \"hot_dogs\", \"hot_dogs\", \"hot_sandwiches\", \"hot_sandwiches\", \"hot_sandwiches\", \"hot_sandwiches\", \"hot_sandwiches\", \"hot_sandwiches\", \"hot_sandwiches\", \"hot_sandwiches\", \"hot_sandwiches\", \"hot_sandwiches\", \"hot_sandwiches\", \"hot_sandwiches\", \"hot_sandwiches\", \"hot_sandwiches\", \"hot_sandwiches\", \"hot_sandwiches\", \"house_fried_rice\", \"house_fried_rice\", \"house_salads\", \"hummus\", \"hummus\", \"hummus\", \"hummus\", \"hummus\", \"hummus\", \"ice_coffee\", \"ice_coffee\", \"ice_coffee\", \"ice_coffee\", \"ice_cream_sandwich\", \"ice_creams\", \"ice_creams\", \"ice_tea\", \"ice_tea\", \"ice_tea\", \"iced_latte\", \"indian_bread\", \"indian_breads\", \"indian_breads\", \"indian_breads\", \"indian_breads\", \"indian_breads\", \"indian_breads\", \"indian_breads\", \"italian_beef_sandwich\", \"italian_hoagie\", \"italian_pizza\", \"italian_sandwich\", \"italian_sandwich\", \"italian_sub\", \"italian_sub\", \"italian_sub\", \"item_combo\", \"jalapeno_popper\", \"jalapeno_popper\", \"jalapeno_popper\", \"jasmine_white_rice\", \"jerk_chicken\", \"juices\", \"juices\", \"juices\", \"juices\", \"juices\", \"juices\", \"kale_caesar_salad\", \"kale_salad\", \"katsu\", \"katsu_curry\", \"kebab\", \"kebab\", \"kebab\", \"kebab\", \"kebab\", \"kebab\", \"kebab\", \"kebab\", \"kebab\", \"kebab_sandwich\", \"kebab_wrap\", \"kids\", \"kimchi\", \"kimchi\", \"korma\", \"korma\", \"korma\", \"korma\", \"kung_pao_chicken\", \"lamb_gyro\", \"lamb_kebab\", \"lasagna\", \"lasagna\", \"lasagna\", \"lasagna\", \"lassi\", \"lassi\", \"latte\", \"lechon_asado\", \"lemonade\", \"lemonade\", \"lemonade\", \"lemonade\", \"lemongrass_chicken\", \"lentil_soup\", \"lentil_soup\", \"lentil_soup\", \"linguini\", \"lo_mein\", \"lo_mein\", \"lo_mein\", \"lo_mein\", \"lo_mein\", \"lo_mein\", \"lo_mein\", \"lo_mein\", \"lo_mein_noodle\", \"lobster\", \"lobster_ravioli\", \"loco_moco\", \"lomo_saltado\", \"lomo_saltado\", \"lover_roll\", \"lox\", \"lunch_combos\", \"macaroni\", \"macaroni\", \"macaroni\", \"macaroni_and_cheese\", \"macaroni_and_cheese\", \"macaroni_and_cheese\", \"macaroni_and_cheese\", \"macaroni_and_cheese\", \"macaroni_and_cheese\", \"macaroni_and_cheese\", \"macaroni_and_cheese\", \"makhni\", \"maki\", \"maki\", \"maki\", \"maki\", \"maki\", \"maki\", \"maki\", \"maki\", \"maki\", \"maki\", \"maki\", \"maki_combo\", \"malai_kofta\", \"mango_lassi\", \"mango_lassi\", \"mango_sticky_rice\", \"margarita_pizza\", \"margarita_pizza\", \"margherita_pizza\", \"margherita_pizza\", \"margherita_pizza\", \"margherita_pizza\", \"mashed_potato\", \"massaman_curry\", \"meat_combo\", \"meat_lover_pizza\", \"meat_lover_pizza\", \"meat_pizza\", \"meat_pizza\", \"meat_pizza\", \"meat_pizza\", \"meat_pizza\", \"meat_pizza\", \"meat_pizza\", \"meatball\", \"meatball_sandwich\", \"meatball_sub\", \"meatloaf\", \"mediterranean_salad\", \"mediterranean_salad\", \"mei_fun\", \"melt\", \"melt\", \"melt\", \"mesclun\", \"mezze\", \"milk\", \"milk_tea\", \"milkshake\", \"milkshake\", \"milkshake\", \"milkshake\", \"milkshake\", \"milkshake\", \"milkshake\", \"milkshake\", \"milkshake\", \"milkshake\", \"miso_ramen\", \"miso_soup\", \"miso_soup\", \"miso_soup\", \"miso_soup\", \"miso_soup\", \"mixed_green_salads\", \"mixed_green_salads\", \"mixed_green_salads\", \"mixed_green_salads\", \"mixed_green_salads\", \"mixed_green_salads\", \"mixed_green_salads\", \"mixed_green_salads\", \"mixed_green_salads\", \"mixed_grill\", \"mixed_salad\", \"mixed_salad\", \"mofongo\", \"mongolian_beef\", \"mongolian_beef\", \"mongolian_beef\", \"mozzarella_cheese_stick\", \"mozzarella_cheese_stick\", \"mozzarella_pizza\", \"mozzarella_sandwiches\", \"mozzarella_stick\", \"mozzarella_stick\", \"mozzarella_stick\", \"mozzarella_stick\", \"mozzarella_stick\", \"mozzarella_stick\", \"mozzarella_stick\", \"mozzarella_stick\", \"mozzarella_stick\", \"mozzarella_stick\", \"mozzarella_stick\", \"mozzarella_stick\", \"mozzarella_stick\", \"mozzarella_stick\", \"mozzarella_stick\", \"mozzarella_stick\", \"mozzarella_stick\", \"mozzarella_stick\", \"mozzarella_stick\", \"mozzarella_stick\", \"mozzarella_stick\", \"mozzarella_stick\", \"mozzarella_stick\", \"muffins\", \"muffins\", \"naan\", \"naan\", \"naan\", \"naan\", \"naan\", \"naan\", \"nachos\", \"nachos\", \"nachos\", \"nachos\", \"nachos\", \"nachos\", \"nasi_lemak\", \"navratan_korma\", \"neapolitan_pizza\", \"neapolitan_pizza\", \"neapolitan_pizza\", \"nigiri\", \"noodle_bowl\", \"noodle_soup\", \"noodle_soup\", \"noodle_soup\", \"noodle_soup\", \"noodle_soup\", \"noodle_soup\", \"noodles\", \"noodles\", \"noodles\", \"noodles\", \"noodles\", \"noodles\", \"noodles\", \"noodles\", \"noodles\", \"noodles\", \"noodles\", \"noodles\", \"noodles\", \"noodles\", \"noodles\", \"noodles\", \"noodles\", \"noodles\", \"noodles\", \"noodles\", \"noodles\", \"noodles\", \"nutella_crepes\", \"oatmeal\", \"oatmeal\", \"oil\", \"omelettes\", \"omelettes\", \"omelettes\", \"omelettes\", \"omelettes\", \"omelettes\", \"onion_rings\", \"onion_rings\", \"onion_rings\", \"orange_flavored_chicken\", \"orange_flavored_chicken\", \"orange_flavored_chicken\", \"orange_flavored_chicken\", \"orange_flavored_chicken\", \"orange_juice\", \"pad_see\", \"pad_see\", \"pad_see\", \"pad_thai\", \"pad_thai\", \"pad_thai\", \"pad_thai\", \"pad_thai\", \"pad_thai\", \"pad_thai\", \"pad_thai\", \"pan_pizza\", \"pan_pizza\", \"pan_pizza\", \"panang_curry\", \"panang_curry\", \"pancakes\", \"pancakes\", \"pancakes\", \"pancakes\", \"pancakes\", \"pancakes\", \"pancakes\", \"pancakes\", \"pancakes\", \"pancakes\", \"pancakes\", \"pancakes\", \"pancakes\", \"pancakes\", \"paneer_tikka_masala\", \"panini\", \"panini\", \"panini\", \"pappardelle\", \"pappardelle\", \"paratha\", \"parmigiana_and_parmesan_dishes\", \"parmigiana_and_parmesan_dishes\", \"parmigiana_and_parmesan_dishes\", \"parmigiana_and_parmesan_dishes\", \"parmigiana_and_parmesan_dishes\", \"parmigiana_and_parmesan_dishes\", \"parmigiana_hero\", \"parmigiana_hero\", \"parmigiana_subs\", \"parmigiana_subs\", \"parrillada\", \"pasta\", \"pasta\", \"pasta\", \"pasta\", \"pasta\", \"pasta\", \"pasta\", \"pasta\", \"pasta\", \"pasta\", \"pasta\", \"pasta\", \"pasta\", \"pasta\", \"pasta\", \"pasta\", \"pasta\", \"pasta\", \"pasta\", \"pasta\", \"pasta_alla_vodka\", \"pastrami_sandwich\", \"pastries\", \"patty_melt\", \"patty_melt\", \"peking_duck\", \"peking_ravioli\", \"pelmeni\", \"penne\", \"penne\", \"penne\", \"penne\", \"penne\", \"pepperoni_pizza\", \"pepperoni_pizza\", \"pepperoni_pizza\", \"pepperoni_pizza\", \"pepperoni_pizza\", \"pepperoni_roll\", \"pernil\", \"pesto_panini\", \"philadelphia_roll\", \"philadelphia_roll\", \"philly_cheesesteak\", \"philly_cheesesteak\", \"philly_cheesesteak\", \"philly_cheesesteak\", \"philly_roll\", \"philly_steak\", \"philly_sub\", \"pho\", \"pho\", \"pho\", \"pho\", \"pho\", \"pho_tai\", \"pie\", \"pie\", \"pie\", \"pie\", \"pie_pizza\", \"pierogi\", \"pilaf\", \"pineapple_fried_rice\", \"pita\", \"pita\", \"pita_sandwich\", \"pita_sandwich\", \"pita_wrap\", \"pizza\", \"pizza\", \"pizza\", \"pizza\", \"pizza\", \"pizza\", \"pizza\", \"pizza\", \"pizza\", \"pizza\", \"pizza\", \"pizza\", \"pizza\", \"pizza\", \"pizza\", \"pizza\", \"pizza\", \"pizza\", \"pizza\", \"pizza\", \"pizza\", \"pizza\", \"pizza_combo\", \"pizza_puff\", \"pizza_roll\", \"plain_naan\", \"plain_pizza\", \"plain_pizza\", \"plain_pizza\", \"plain_pizza\", \"plain_pizza\", \"plain_pizza\", \"platter\", \"platter\", \"platter\", \"platter\", \"platter\", \"platter\", \"platter\", \"platter\", \"platter\", \"platter\", \"platter\", \"platter\", \"platter\", \"platter\", \"platter\", \"platter\", \"platter\", \"platter\", \"platter\", \"poke\", \"poland_spring\", \"pollo_a_la_brasa\", \"pollo_taco\", \"popcorn_chicken\", \"popcorn_chicken\", \"poppers\", \"pork_belly\", \"pork_chop\", \"pork_dishes\", \"pork_dishes\", \"pork_dishes\", \"pork_dishes\", \"pork_dishes\", \"pork_dishes\", \"pork_dishes\", \"pork_dishes\", \"pork_dumpling\", \"pork_dumpling\", \"pork_dumpling\", \"pork_dumpling\", \"pork_dumpling\", \"pork_dumpling\", \"pork_dumpling\", \"pork_dumpling\", \"pork_dumpling\", \"pork_dumpling\", \"pork_egg_roll\", \"pork_egg_roll\", \"pork_egg_roll\", \"pork_egg_roll\", \"pork_entree\", \"pork_fried_rice\", \"pork_fried_rice\", \"pork_fried_rice\", \"pork_fried_rice\", \"pork_pot_sticker\", \"pork_pot_sticker\", \"pot_sticker\", \"pot_sticker\", \"pot_sticker\", \"pot_sticker\", \"pot_sticker\", \"pot_sticker\", \"pot_sticker\", \"potato\", \"potato\", \"potato\", \"potato\", \"potato\", \"potato\", \"potato\", \"potato_chips\", \"potsticker\", \"potsticker\", \"prawn\", \"prawn\", \"pretzel\", \"pretzel\", \"prosciutto\", \"protein_shake\", \"pudding\", \"puffs\", \"pulled_pork_sandwiches\", \"pulled_pork_sandwiches\", \"pumpkin_curry\", \"pumpkin_curry\", \"pupusa\", \"pupusa\", \"quattro_formaggi_pizza\", \"quesadillas\", \"quesadillas\", \"quesadillas\", \"quesadillas\", \"quesadillas\", \"quesadillas\", \"quesadillas\", \"quesadillas\", \"quesadillas\", \"quesadillas\", \"quesadillas\", \"quesadillas\", \"queso\", \"queso\", \"queso\", \"quiche\", \"rainbow_roll\", \"raita\", \"ramen\", \"ramen\", \"ramen\", \"ranch_wrap\", \"rangoon\", \"rangoon\", \"rangoon\", \"rangoon\", \"rangoon\", \"rangoon\", \"rangoon\", \"rangoon\", \"rangoon\", \"rangoon\", \"rangoon\", \"ravioli\", \"ravioli\", \"ravioli\", \"red_curries\", \"red_dragon_roll\", \"reuben\", \"reuben\", \"rib_combo\", \"rib_tips\", \"ribeye_steak\", \"ribs\", \"ribs\", \"ribs\", \"ribs\", \"ribs\", \"ribs\", \"ribs\", \"ribs\", \"ribs\", \"ribs\", \"rice\", \"rice\", \"rice\", \"rice\", \"rice\", \"rice\", \"rice\", \"rice\", \"rice\", \"rice\", \"rice\", \"rice\", \"rice\", \"rice\", \"rice\", \"rice_and_beans\", \"rice_and_beans\", \"rice_and_beans\", \"rice_dishes\", \"rice_dishes\", \"rice_dishes\", \"rice_dishes\", \"rice_dishes\", \"rice_dishes\", \"rice_dishes\", \"rice_dishes\", \"rice_dishes\", \"rice_dishes\", \"rice_dishes\", \"rice_dishes\", \"rice_dishes\", \"rice_dishes\", \"rice_dishes\", \"rice_dishes\", \"rice_dishes\", \"rice_dishes\", \"rice_dishes\", \"rice_dishes\", \"rice_dishes\", \"rice_dishes\", \"rice_dishes\", \"rice_dishes\", \"rice_dishes\", \"rice_dishes\", \"rice_entree\", \"rice_entree\", \"rice_entree\", \"rice_entree\", \"rice_entree\", \"rice_entree\", \"rice_entree\", \"rice_entree\", \"rice_entree\", \"rice_entree\", \"rice_entree\", \"rice_entree\", \"rice_entree\", \"rice_entree\", \"rice_entree\", \"rice_entree\", \"rice_entree\", \"rice_entree\", \"rice_entree\", \"rice_noodle\", \"rice_noodles\", \"rice_noodles\", \"rice_pudding\", \"rice_soup\", \"rice_vermicelli\", \"rigatoni\", \"rigatoni\", \"rigatoni\", \"rigatoni\", \"roast_beef_sandwich\", \"roast_pork\", \"roast_pork\", \"roast_pork\", \"roasted_turkey_sandwich\", \"roe\", \"ropa_vieja\", \"ropa_vieja\", \"roti\", \"rotisserie_chicken\", \"rotisserie_chicken\", \"rotisserie_chicken\", \"saganaki\", \"salad_bowl\", \"salad_wraps\", \"salads\", \"salads\", \"salads\", \"salads\", \"salads\", \"salads\", \"salads\", \"salads\", \"salads\", \"salads\", \"salads\", \"salads\", \"salads\", \"salads\", \"salads\", \"salads\", \"salads\", \"salads\", \"salads\", \"salads\", \"salads\", \"salads\", \"salads\", \"salads\", \"salads\", \"salads\", \"salads\", \"salads\", \"salads\", \"salami_entrees\", \"salmon\", \"salmon\", \"salmon\", \"salmon\", \"salmon\", \"salmon\", \"salmon\", \"salmon\", \"salmon_avocado_roll\", \"salmon_avocado_roll\", \"salmon_avocado_roll\", \"salmon_avocado_roll\", \"salmon_roll\", \"salmon_roll\", \"salmon_salads\", \"salmon_sandwich\", \"salmon_teriyaki\", \"salsa\", \"samosa\", \"samosa\", \"samosa\", \"samosa\", \"samosa\", \"samosa\", \"samosa\", \"sampler\", \"sampler\", \"sampler\", \"sancocho\", \"sandwich_combos\", \"sandwiches\", \"sandwiches\", \"sandwiches\", \"sandwiches\", \"sandwiches\", \"sandwiches\", \"sandwiches\", \"sandwiches\", \"sandwiches\", \"sandwiches\", \"sandwiches\", \"sandwiches\", \"sandwiches\", \"sandwiches\", \"sandwiches\", \"sandwiches\", \"sandwiches\", \"sandwiches\", \"sandwiches\", \"sandwiches\", \"sandwiches\", \"sandwiches\", \"sandwiches\", \"sandwiches\", \"sandwiches\", \"sandwiches\", \"sandwiches\", \"sandwiches\", \"santa_fe_salad\", \"sashimi\", \"sashimi\", \"satay\", \"sauce_pizza\", \"sauce_pizza\", \"sauce_pizza\", \"sauces\", \"sauces\", \"sauces\", \"sauces\", \"sausage\", \"sausage\", \"sausage\", \"sausage_pizza\", \"scallion_pancake\", \"scallion_pancake\", \"scallop\", \"scallop_roll\", \"schnitzel\", \"scrambled_egg\", \"seafood\", \"seafood\", \"seafood\", \"seafood\", \"seafood\", \"seafood\", \"seafood\", \"seafood\", \"seafood\", \"seafood\", \"seafood\", \"seafood\", \"seafood\", \"seafood\", \"seafood\", \"seafood\", \"seafood\", \"seafood\", \"seafood_combo\", \"seafood_soup\", \"sesame_chicken_combo\", \"sesame_chicken_combo\", \"sesame_tofu\", \"shake\", \"shake\", \"shake\", \"shake\", \"shake\", \"shake\", \"shake\", \"shake\", \"shake\", \"shake\", \"shake\", \"shake\", \"shake\", \"shawarma\", \"shawarma\", \"shawarma_wrap\", \"shell_taco\", \"shepherds_pie\", \"shish_kebab\", \"shish_kebab\", \"shish_kebab\", \"shish_taouk\", \"short_rib\", \"short_rib\", \"shrimp\", \"shrimp\", \"shrimp\", \"shrimp\", \"shrimp\", \"shrimp\", \"shrimp\", \"shrimp\", \"shrimp\", \"shrimp\", \"shrimp\", \"shrimp_basket\", \"shrimp_dumpling\", \"shrimp_egg_roll\", \"shrimp_egg_roll\", \"shrimp_egg_roll\", \"shrimp_fried_rice\", \"shrimp_fried_rice\", \"shrimp_fried_rice\", \"shrimp_fried_rice\", \"shrimp_lo_mein\", \"shrimp_roll\", \"shrimp_roll\", \"shrimp_salads\", \"shrimp_spring_roll\", \"shrimp_taco\", \"shrimp_tempura\", \"shrimp_tempura\", \"shrimp_tempura\", \"shrimp_tempura_roll\", \"shrimp_tempura_roll\", \"shumai\", \"shumai\", \"shumai\", \"shumai\", \"sicilian_pizza\", \"side_dishes\", \"side_dishes\", \"side_dishes\", \"side_dishes\", \"side_dishes\", \"side_dishes\", \"side_dishes\", \"side_dishes\", \"side_dishes\", \"side_dishes\", \"side_dishes\", \"side_dishes\", \"side_dishes\", \"side_dishes\", \"side_dishes\", \"side_dishes\", \"side_dishes\", \"side_dishes\", \"side_dishes\", \"side_dishes\", \"side_dishes\", \"side_dishes\", \"side_dishes\", \"side_dishes\", \"side_dishes\", \"side_dishes\", \"side_dishes\", \"side_dishes\", \"side_dishes\", \"side_dishes\", \"side_salads\", \"side_salads\", \"side_salads\", \"side_salads\", \"signature_sandwich\", \"singapore_rice_noodle\", \"sirloin_steak\", \"skirt_steak\", \"skirt_steak\", \"sliders\", \"sliders\", \"smoked_turkey_sandwich\", \"smokehouse_burger\", \"smoothie\", \"smoothie\", \"smoothie\", \"smoothie\", \"smoothie\", \"smoothie\", \"smoothie\", \"snapple\", \"snapple\", \"snapple\", \"snapple\", \"snapple\", \"soda\", \"soda\", \"soda\", \"soda\", \"soda\", \"soda\", \"soda\", \"soda\", \"soda\", \"soda\", \"soda\", \"soda\", \"soda\", \"soda\", \"soda\", \"soda\", \"soda\", \"soda\", \"soda\", \"soda\", \"soda\", \"soda\", \"soft_drinks\", \"soft_drinks\", \"soft_drinks\", \"soft_drinks\", \"soft_drinks\", \"soft_drinks\", \"soft_drinks\", \"soft_drinks\", \"soft_drinks\", \"soft_drinks\", \"soft_drinks\", \"soft_drinks\", \"soft_drinks\", \"soft_drinks\", \"soft_drinks\", \"soft_drinks\", \"soft_drinks\", \"soft_drinks\", \"soft_drinks\", \"soft_drinks\", \"soft_drinks\", \"soft_drinks\", \"soft_shell_crab\", \"soft_taco\", \"sopa_de_res\", \"soup_combo\", \"soup_dumplings\", \"soup_of_the_day\", \"soup_of_the_day\", \"soup_of_the_day\", \"soup_of_the_day\", \"soups\", \"soups\", \"soups\", \"soups\", \"soups\", \"soups\", \"soups\", \"soups\", \"soups\", \"soups\", \"soups\", \"soups\", \"soups\", \"soups\", \"soups\", \"soups\", \"soups\", \"soups\", \"soups\", \"soups\", \"soups\", \"soups\", \"soups\", \"soups\", \"soups\", \"soups\", \"soups\", \"soups\", \"souvlaki\", \"souvlaki\", \"spaghetti\", \"spaghetti\", \"spaghetti\", \"spaghetti\", \"spaghetti_and_meatball\", \"spaghettini\", \"spare_rib\", \"spare_rib\", \"special_dishes\", \"special_dishes\", \"special_dishes\", \"special_dishes\", \"special_dishes\", \"special_dishes\", \"special_dishes\", \"special_dishes\", \"special_dishes\", \"special_dishes\", \"special_dishes\", \"special_dishes\", \"special_dishes\", \"special_rolls\", \"special_rolls\", \"specialty_burgers\", \"specialty_burgers\", \"specialty_burgers\", \"specialty_pizza\", \"specialty_pizza\", \"specialty_pizza\", \"specialty_sandwich\", \"spicy_basil_fried_rice\", \"spicy_fried_rice\", \"spicy_noodle\", \"spicy_roll\", \"spicy_tuna_roll\", \"spinach\", \"spinach_salads\", \"spring_rolls\", \"spring_rolls\", \"spring_rolls\", \"spring_rolls\", \"spring_rolls\", \"spring_rolls\", \"spring_rolls\", \"spring_rolls\", \"spring_rolls\", \"spring_rolls\", \"spring_rolls\", \"spring_rolls\", \"spring_rolls\", \"spring_rolls\", \"steak\", \"steak\", \"steak\", \"steak\", \"steak\", \"steak\", \"steak\", \"steak\", \"steak\", \"steak\", \"steak\", \"steak\", \"steak\", \"steak\", \"steak\", \"steak_burrito\", \"steak_burrito\", \"steak_fry\", \"steak_quesadilla\", \"steak_quesadilla\", \"steak_sandwich\", \"steak_sandwich\", \"steak_sandwich\", \"steak_stromboli\", \"steak_taco\", \"steak_taco\", \"steakburger\", \"steamed_dumpling\", \"steamed_dumpling\", \"steamed_dumpling\", \"steamed_dumpling\", \"steamed_dumpling\", \"steamed_dumpling\", \"steamed_dumpling\", \"steamed_rice\", \"steamed_rice\", \"stew\", \"stew\", \"stew\", \"sticky_rice\", \"stir_fry\", \"stir_fry\", \"strawberry_smoothie\", \"strips\", \"stuffed_pizza\", \"subs\", \"subs\", \"subs\", \"subs\", \"subs\", \"subs\", \"subs\", \"subs\", \"subs\", \"subs\", \"subs\", \"subs\", \"summer_roll\", \"summer_roll\", \"summer_roll\", \"summer_roll\", \"sundae\", \"super_burrito\", \"sushi\", \"sushi\", \"sushi\", \"sushi\", \"sushi\", \"sushi\", \"sushi\", \"sushi\", \"sushi\", \"sushi\", \"sushi\", \"sushi_combo\", \"sweet_and_sour\", \"sweet_and_sour_chicken\", \"sweet_and_sour_chicken\", \"sweet_and_sour_chicken\", \"sweet_and_sour_chicken\", \"sweet_and_sour_chicken\", \"sweet_and_sour_chicken\", \"sweet_crepes\", \"sweet_potato\", \"sweets\", \"taboulli_salad\", \"taco_combo\", \"taco_salads\", \"taco_salads\", \"taco_salads\", \"taco_salads\", \"tacos\", \"tacos\", \"tacos\", \"tacos\", \"tacos\", \"tacos\", \"tacos\", \"tacos_dorado\", \"tagliatelle\", \"tamale\", \"tandoori\", \"tandoori\", \"tandoori\", \"tandoori\", \"tandoori_chicken\", \"tandoori_chicken\", \"tapas\", \"taquitos\", \"tea\", \"tea\", \"tea\", \"tea\", \"tea\", \"temaki\", \"temaki\", \"temaki\", \"temaki\", \"tempura\", \"tempura_entree\", \"tempura_entree\", \"tempura_entree\", \"tempura_udon\", \"teriyaki_entree\", \"teriyaki_entree\", \"teriyaki_entree\", \"teriyaki_entree\", \"teriyaki_entree\", \"thai_curry\", \"thai_dumpling\", \"thai_fried_rice\", \"thai_spring_roll\", \"thai_tea\", \"thin_crust_cheese_pizza\", \"thin_crust_cheese_pizza\", \"thin_crust_cheese_pizza\", \"thin_crust_cheese_pizza\", \"thin_crust_pizza\", \"thin_crust_pizza\", \"thin_crust_pizza\", \"thin_crust_pizza\", \"thin_crust_pizza\", \"thin_crust_pizza\", \"tibs\", \"tiger_roll\", \"tikka\", \"tikka\", \"tikka_masala\", \"tikka_masala\", \"tikka_masala\", \"tikka_masala\", \"tikka_masala\", \"tikka_masala\", \"tilapia_fillet\", \"tiramisu\", \"tiramisu\", \"toasts\", \"toasts\", \"toasts\", \"toasts\", \"toasts\", \"toasts\", \"tofu_dishes\", \"tofu_dishes\", \"tofu_dishes\", \"tofu_dishes\", \"tofu_soup\", \"tom_kha_soup\", \"tom_yum_soup\", \"tomato_bisque\", \"tomato_pie\", \"tomato_pizza\", \"tomato_soup\", \"top_sirloin\", \"tortas\", \"tortas\", \"tortellini\", \"tortellini\", \"tortilla_soup\", \"tossed_salads\", \"tossed_salads\", \"tossed_salads\", \"tossed_salads\", \"tostada\", \"traditional_cheese_pizza\", \"traditional_cheese_pizza\", \"traditional_wings\", \"triple_decker_sandwich\", \"triple_decker_sandwich\", \"tuna\", \"tuna\", \"tuna\", \"tuna\", \"tuna\", \"tuna\", \"tuna\", \"tuna\", \"tuna_avocado_roll\", \"tuna_melt_sandwich\", \"tuna_roll\", \"tuna_roll\", \"tuna_roll\", \"tuna_roll\", \"tuna_salad\", \"tuna_salad_sandwich\", \"tuna_salad_sandwich\", \"tuna_salad_sandwich\", \"turkey_bacon\", \"turkey_breast_sandwiches\", \"turkey_burgers\", \"turkey_burgers\", \"turkey_burgers\", \"turkey_club_sandwich\", \"turkey_melt\", \"turkey_sandwiches\", \"turkey_sandwiches\", \"turkey_sub\", \"tzatzikif\", \"udon_noodle\", \"vaca_frita\", \"veal_dishes\", \"vegetable\", \"vegetable_biryani\", \"vegetable_burrito\", \"vegetable_combo\", \"vegetable_dumpling\", \"vegetable_dumpling\", \"vegetable_dumpling\", \"vegetable_egg_roll\", \"vegetable_egg_roll\", \"vegetable_fried_rice\", \"vegetable_fried_rice\", \"vegetable_lo_mein\", \"vegetable_lo_mein\", \"vegetable_pizza\", \"vegetable_roll\", \"vegetable_roll\", \"vegetable_spring_roll\", \"vegetable_spring_roll\", \"vegetarian_burrito\", \"vegetarian_pizza\", \"vegetarian_sandwiches\", \"vegetarian_sandwiches\", \"vegetarian_sandwiches\", \"vegetarian_sandwiches\", \"veggie_egg_roll\", \"veggie_juices\", \"veggie_roll\", \"veggies\", \"veggies\", \"veggies\", \"veggies\", \"veggies\", \"veggies\", \"veggies\", \"vermicelli\", \"vermicelli\", \"vermicelli\", \"vindaloo\", \"vindaloo\", \"vindaloo\", \"volcano_roll\", \"volcano_roll\", \"waffle\", \"wat\", \"western_omelette\", \"wet_burrito\", \"white_pie\", \"white_pizza\", \"white_pizza\", \"white_pizza\", \"white_pizza\", \"white_rice\", \"white_rice\", \"white_rice\", \"white_rice\", \"white_rice\", \"whole_chicken\", \"whole_chicken\", \"whole_chicken\", \"whole_chicken\", \"whole_rotisserie_chicken\", \"wing_combo\", \"wings\", \"wings\", \"wings\", \"wings\", \"wings\", \"wings\", \"wings\", \"wings\", \"wings\", \"wings\", \"wings\", \"wings\", \"wings\", \"wings\", \"wings\", \"wings\", \"wings\", \"wings\", \"wings\", \"wings\", \"wings\", \"wings\", \"wonton\", \"wonton\", \"wonton\", \"wonton\", \"wonton\", \"wonton\", \"wonton_soup\", \"wonton_soup\", \"wonton_soup\", \"wonton_soup\", \"wraps\", \"wraps\", \"wraps\", \"wraps\", \"wraps\", \"wraps\", \"wraps\", \"wraps\", \"wraps\", \"wraps\", \"wraps\", \"wraps\", \"wraps\", \"wraps\", \"wraps\", \"wraps\", \"wraps\", \"yang_chow_fried_rice\", \"yellow_curry\", \"yellow_rice\", \"yellowtail\", \"yellowtail\", \"yogurt\", \"yogurt\", \"zeppole\", \"ziti\"]}, \"R\": 30, \"lambda.step\": 0.01, \"plot.opts\": {\"xlab\": \"PC1\", \"ylab\": \"PC2\"}, \"topic.order\": [1, 2, 3, 4, 5, 6, 7, 8, 9, 10, 11, 12, 13, 14, 15, 16, 17, 18, 19, 20, 21, 22, 23, 24, 25, 26, 27, 28, 29, 30]};\n",
       "\n",
       "function LDAvis_load_lib(url, callback){\n",
       "  var s = document.createElement('script');\n",
       "  s.src = url;\n",
       "  s.async = true;\n",
       "  s.onreadystatechange = s.onload = callback;\n",
       "  s.onerror = function(){console.warn(\"failed to load library \" + url);};\n",
       "  document.getElementsByTagName(\"head\")[0].appendChild(s);\n",
       "}\n",
       "\n",
       "if(typeof(LDAvis) !== \"undefined\"){\n",
       "   // already loaded: just create the visualization\n",
       "   !function(LDAvis){\n",
       "       new LDAvis(\"#\" + \"ldavis_el16594139657839195984465956016\", ldavis_el16594139657839195984465956016_data);\n",
       "   }(LDAvis);\n",
       "}else if(typeof define === \"function\" && define.amd){\n",
       "   // require.js is available: use it to load d3/LDAvis\n",
       "   require.config({paths: {d3: \"https://cdnjs.cloudflare.com/ajax/libs/d3/3.5.5/d3.min\"}});\n",
       "   require([\"d3\"], function(d3){\n",
       "      window.d3 = d3;\n",
       "      LDAvis_load_lib(\"https://cdn.rawgit.com/bmabey/pyLDAvis/files/ldavis.v1.0.0.js\", function(){\n",
       "        new LDAvis(\"#\" + \"ldavis_el16594139657839195984465956016\", ldavis_el16594139657839195984465956016_data);\n",
       "      });\n",
       "    });\n",
       "}else{\n",
       "    // require.js not available: dynamically load d3 & LDAvis\n",
       "    LDAvis_load_lib(\"https://cdnjs.cloudflare.com/ajax/libs/d3/3.5.5/d3.min.js\", function(){\n",
       "         LDAvis_load_lib(\"https://cdn.rawgit.com/bmabey/pyLDAvis/files/ldavis.v1.0.0.js\", function(){\n",
       "                 new LDAvis(\"#\" + \"ldavis_el16594139657839195984465956016\", ldavis_el16594139657839195984465956016_data);\n",
       "            })\n",
       "         });\n",
       "}\n",
       "</script>"
      ],
      "text/plain": [
       "PreparedData(topic_coordinates=              x         y  topics  cluster      Freq\n",
       "topic                                               \n",
       "0     -0.025348 -0.102781       1        1  1.184472\n",
       "1     -0.149670  0.147472       2        1  1.822370\n",
       "2     -0.084788  0.001517       3        1  2.583282\n",
       "3      0.034963 -0.059644       4        1  1.815657\n",
       "4     -0.126585  0.166919       5        1  8.659310\n",
       "5      0.272685  0.068610       6        1  2.745142\n",
       "6     -0.245996  0.106280       7        1  7.830814\n",
       "7     -0.210175  0.097766       8        1  4.092654\n",
       "8      0.099233 -0.113340       9        1  3.729122\n",
       "9     -0.081215 -0.022494      10        1  1.474445\n",
       "10    -0.286669  0.038206      11        1  9.214171\n",
       "11     0.197898  0.077035      12        1  2.140944\n",
       "12     0.018177  0.126036      13        1  2.051581\n",
       "13     0.119958 -0.080223      14        1  1.104816\n",
       "14    -0.041156  0.026187      15        1  4.185136\n",
       "15     0.254242  0.129571      16        1  3.494561\n",
       "16     0.043384 -0.186672      17        1  5.447193\n",
       "17    -0.119070 -0.069357      18        1  0.774311\n",
       "18     0.051235 -0.142980      19        1  2.678324\n",
       "19     0.224119  0.104959      20        1  2.427771\n",
       "20     0.189196  0.143867      21        1  2.191279\n",
       "21     0.051303  0.169605      22        1  1.186435\n",
       "22    -0.079754  0.024453      23        1  2.149079\n",
       "23    -0.156142 -0.060243      24        1  5.398724\n",
       "24    -0.078722 -0.084710      25        1  1.751293\n",
       "25    -0.195227  0.002438      26        1  4.768784\n",
       "26     0.193821  0.112032      27        1  2.662752\n",
       "27     0.033646 -0.288463      28        1  4.573375\n",
       "28     0.115967 -0.243633      29        1  5.001670\n",
       "29    -0.019311 -0.088415      30        1  0.860539, topic_info=    Category         Freq            Term         Total  loglift  logprob\n",
       "54   Default  5308.000000           pizza   5308.000000  30.0000  30.0000\n",
       "3    Default  6239.000000      sandwiches   6239.000000  29.0000  29.0000\n",
       "109  Default  3985.000000           sushi   3985.000000  28.0000  28.0000\n",
       "41   Default  3886.000000       breakfast   3886.000000  27.0000  27.0000\n",
       "108  Default  3778.000000            maki   3778.000000  26.0000  26.0000\n",
       "..       ...          ...             ...           ...      ...      ...\n",
       "116  Topic30    12.317501         burgers   1942.170776  -0.3052  -4.9824\n",
       "75   Topic30     3.405046           steak    556.476746  -0.3410  -6.2682\n",
       "39   Topic30     9.986024           soups   3608.428955  -1.1345  -5.1922\n",
       "0    Topic30    19.656326      appetizers  12327.070312  -1.6858  -4.5150\n",
       "4    Topic30     8.700622  chicken_dishes   8547.942383  -2.1347  -5.3300\n",
       "\n",
       "[1353 rows x 6 columns], token_table=      Topic      Freq            Term\n",
       "term                                 \n",
       "1116     24  0.873486     adana_kebab\n",
       "1122      9  0.615673          ajiaco\n",
       "698      15  0.952463  al_pastor_taco\n",
       "692       5  0.940249    alaskan_roll\n",
       "860       2  0.914091     almond_milk\n",
       "...     ...       ...             ...\n",
       "364      22  0.030412      yellowtail\n",
       "441      19  0.421004          yogurt\n",
       "441      30  0.477138          yogurt\n",
       "1043      9  0.777764         zeppole\n",
       "331      29  0.951634            ziti\n",
       "\n",
       "[2745 rows x 3 columns], R=30, lambda_step=0.01, plot_opts={'xlab': 'PC1', 'ylab': 'PC2'}, topic_order=[1, 2, 3, 4, 5, 6, 7, 8, 9, 10, 11, 12, 13, 14, 15, 16, 17, 18, 19, 20, 21, 22, 23, 24, 25, 26, 27, 28, 29, 30])"
      ]
     },
     "execution_count": 21,
     "metadata": {},
     "output_type": "execute_result"
    }
   ],
   "source": [
    "pyLDAvis.enable_notebook()\n",
    "vis = pyLDAvis.gensim.prepare(lda, corpus, id2word, sort_topics=False)\n",
    "vis"
   ]
  },
  {
   "cell_type": "markdown",
   "metadata": {},
   "source": [
    "#### Getting reduced dimensions"
   ]
  },
  {
   "cell_type": "code",
   "execution_count": 71,
   "metadata": {},
   "outputs": [],
   "source": [
    "dish_dim = pd.DataFrame()\n",
    "for i, row in enumerate(lda[corpus]):\n",
    "    dish_sparse = defaultdict(list)\n",
    "    for j, (topic_num, prop_topic) in enumerate(row):\n",
    "        dish_sparse[topic_num] = prop_topic\n",
    "    \n",
    "    dish_dim = dish_dim.append(pd.DataFrame(dish_sparse, index=[i,]))        \n",
    "    "
   ]
  },
  {
   "cell_type": "code",
   "execution_count": 73,
   "metadata": {},
   "outputs": [
    {
     "data": {
      "text/html": [
       "<div>\n",
       "<style scoped>\n",
       "    .dataframe tbody tr th:only-of-type {\n",
       "        vertical-align: middle;\n",
       "    }\n",
       "\n",
       "    .dataframe tbody tr th {\n",
       "        vertical-align: top;\n",
       "    }\n",
       "\n",
       "    .dataframe thead th {\n",
       "        text-align: right;\n",
       "    }\n",
       "</style>\n",
       "<table border=\"1\" class=\"dataframe\">\n",
       "  <thead>\n",
       "    <tr style=\"text-align: right;\">\n",
       "      <th></th>\n",
       "      <th>0</th>\n",
       "      <th>1</th>\n",
       "      <th>2</th>\n",
       "      <th>3</th>\n",
       "      <th>4</th>\n",
       "      <th>5</th>\n",
       "      <th>6</th>\n",
       "    </tr>\n",
       "  </thead>\n",
       "  <tbody>\n",
       "    <tr>\n",
       "      <th>dishes_dim_1</th>\n",
       "      <td>0</td>\n",
       "      <td>0</td>\n",
       "      <td>0</td>\n",
       "      <td>0</td>\n",
       "      <td>0</td>\n",
       "      <td>0</td>\n",
       "      <td>0</td>\n",
       "    </tr>\n",
       "    <tr>\n",
       "      <th>dishes_dim_2</th>\n",
       "      <td>0</td>\n",
       "      <td>0</td>\n",
       "      <td>0</td>\n",
       "      <td>0</td>\n",
       "      <td>0</td>\n",
       "      <td>0</td>\n",
       "      <td>0</td>\n",
       "    </tr>\n",
       "    <tr>\n",
       "      <th>dishes_dim_3</th>\n",
       "      <td>0.341488</td>\n",
       "      <td>0</td>\n",
       "      <td>0.413164</td>\n",
       "      <td>0</td>\n",
       "      <td>0</td>\n",
       "      <td>0</td>\n",
       "      <td>0</td>\n",
       "    </tr>\n",
       "    <tr>\n",
       "      <th>dishes_dim_4</th>\n",
       "      <td>0</td>\n",
       "      <td>0.035346</td>\n",
       "      <td>0</td>\n",
       "      <td>0</td>\n",
       "      <td>0</td>\n",
       "      <td>0</td>\n",
       "      <td>0</td>\n",
       "    </tr>\n",
       "    <tr>\n",
       "      <th>dishes_dim_5</th>\n",
       "      <td>0</td>\n",
       "      <td>0</td>\n",
       "      <td>0</td>\n",
       "      <td>0</td>\n",
       "      <td>0</td>\n",
       "      <td>0</td>\n",
       "      <td>0</td>\n",
       "    </tr>\n",
       "    <tr>\n",
       "      <th>dishes_dim_6</th>\n",
       "      <td>0</td>\n",
       "      <td>0</td>\n",
       "      <td>0</td>\n",
       "      <td>0</td>\n",
       "      <td>0</td>\n",
       "      <td>0</td>\n",
       "      <td>0</td>\n",
       "    </tr>\n",
       "    <tr>\n",
       "      <th>dishes_dim_7</th>\n",
       "      <td>0</td>\n",
       "      <td>0.476015</td>\n",
       "      <td>0</td>\n",
       "      <td>0</td>\n",
       "      <td>0</td>\n",
       "      <td>0.953968</td>\n",
       "      <td>0</td>\n",
       "    </tr>\n",
       "    <tr>\n",
       "      <th>dishes_dim_8</th>\n",
       "      <td>0</td>\n",
       "      <td>0</td>\n",
       "      <td>0</td>\n",
       "      <td>0</td>\n",
       "      <td>0</td>\n",
       "      <td>0</td>\n",
       "      <td>0</td>\n",
       "    </tr>\n",
       "    <tr>\n",
       "      <th>dishes_dim_9</th>\n",
       "      <td>0</td>\n",
       "      <td>0</td>\n",
       "      <td>0</td>\n",
       "      <td>0</td>\n",
       "      <td>0</td>\n",
       "      <td>0</td>\n",
       "      <td>0</td>\n",
       "    </tr>\n",
       "    <tr>\n",
       "      <th>dishes_dim_10</th>\n",
       "      <td>0</td>\n",
       "      <td>0</td>\n",
       "      <td>0</td>\n",
       "      <td>0</td>\n",
       "      <td>0</td>\n",
       "      <td>0</td>\n",
       "      <td>0</td>\n",
       "    </tr>\n",
       "    <tr>\n",
       "      <th>dishes_dim_11</th>\n",
       "      <td>0</td>\n",
       "      <td>0.356087</td>\n",
       "      <td>0</td>\n",
       "      <td>0</td>\n",
       "      <td>0</td>\n",
       "      <td>0</td>\n",
       "      <td>0</td>\n",
       "    </tr>\n",
       "    <tr>\n",
       "      <th>dishes_dim_12</th>\n",
       "      <td>0.471844</td>\n",
       "      <td>0</td>\n",
       "      <td>0</td>\n",
       "      <td>0</td>\n",
       "      <td>0</td>\n",
       "      <td>0</td>\n",
       "      <td>0</td>\n",
       "    </tr>\n",
       "    <tr>\n",
       "      <th>dishes_dim_13</th>\n",
       "      <td>0</td>\n",
       "      <td>0</td>\n",
       "      <td>0</td>\n",
       "      <td>0</td>\n",
       "      <td>0</td>\n",
       "      <td>0</td>\n",
       "      <td>0</td>\n",
       "    </tr>\n",
       "    <tr>\n",
       "      <th>dishes_dim_14</th>\n",
       "      <td>0</td>\n",
       "      <td>0</td>\n",
       "      <td>0.0612572</td>\n",
       "      <td>0</td>\n",
       "      <td>0</td>\n",
       "      <td>0</td>\n",
       "      <td>0</td>\n",
       "    </tr>\n",
       "    <tr>\n",
       "      <th>dishes_dim_15</th>\n",
       "      <td>0</td>\n",
       "      <td>0</td>\n",
       "      <td>0</td>\n",
       "      <td>0</td>\n",
       "      <td>0</td>\n",
       "      <td>0</td>\n",
       "      <td>0.879166</td>\n",
       "    </tr>\n",
       "    <tr>\n",
       "      <th>dishes_dim_16</th>\n",
       "      <td>0</td>\n",
       "      <td>0</td>\n",
       "      <td>0</td>\n",
       "      <td>0</td>\n",
       "      <td>0</td>\n",
       "      <td>0</td>\n",
       "      <td>0</td>\n",
       "    </tr>\n",
       "    <tr>\n",
       "      <th>dishes_dim_17</th>\n",
       "      <td>0</td>\n",
       "      <td>0</td>\n",
       "      <td>0</td>\n",
       "      <td>0</td>\n",
       "      <td>0.196209</td>\n",
       "      <td>0</td>\n",
       "      <td>0</td>\n",
       "    </tr>\n",
       "    <tr>\n",
       "      <th>dishes_dim_18</th>\n",
       "      <td>0</td>\n",
       "      <td>0</td>\n",
       "      <td>0</td>\n",
       "      <td>0</td>\n",
       "      <td>0</td>\n",
       "      <td>0</td>\n",
       "      <td>0</td>\n",
       "    </tr>\n",
       "    <tr>\n",
       "      <th>dishes_dim_19</th>\n",
       "      <td>0</td>\n",
       "      <td>0</td>\n",
       "      <td>0</td>\n",
       "      <td>0</td>\n",
       "      <td>0</td>\n",
       "      <td>0</td>\n",
       "      <td>0</td>\n",
       "    </tr>\n",
       "    <tr>\n",
       "      <th>dishes_dim_20</th>\n",
       "      <td>0</td>\n",
       "      <td>0</td>\n",
       "      <td>0.417849</td>\n",
       "      <td>0</td>\n",
       "      <td>0</td>\n",
       "      <td>0</td>\n",
       "      <td>0</td>\n",
       "    </tr>\n",
       "    <tr>\n",
       "      <th>dishes_dim_21</th>\n",
       "      <td>0</td>\n",
       "      <td>0</td>\n",
       "      <td>0</td>\n",
       "      <td>0</td>\n",
       "      <td>0</td>\n",
       "      <td>0</td>\n",
       "      <td>0</td>\n",
       "    </tr>\n",
       "    <tr>\n",
       "      <th>dishes_dim_22</th>\n",
       "      <td>0</td>\n",
       "      <td>0</td>\n",
       "      <td>0</td>\n",
       "      <td>0</td>\n",
       "      <td>0</td>\n",
       "      <td>0</td>\n",
       "      <td>0</td>\n",
       "    </tr>\n",
       "    <tr>\n",
       "      <th>dishes_dim_23</th>\n",
       "      <td>0</td>\n",
       "      <td>0.104587</td>\n",
       "      <td>0</td>\n",
       "      <td>0</td>\n",
       "      <td>0</td>\n",
       "      <td>0</td>\n",
       "      <td>0</td>\n",
       "    </tr>\n",
       "    <tr>\n",
       "      <th>dishes_dim_24</th>\n",
       "      <td>0</td>\n",
       "      <td>0</td>\n",
       "      <td>0</td>\n",
       "      <td>0.804417</td>\n",
       "      <td>0</td>\n",
       "      <td>0</td>\n",
       "      <td>0</td>\n",
       "    </tr>\n",
       "    <tr>\n",
       "      <th>dishes_dim_25</th>\n",
       "      <td>0</td>\n",
       "      <td>0</td>\n",
       "      <td>0</td>\n",
       "      <td>0</td>\n",
       "      <td>0</td>\n",
       "      <td>0</td>\n",
       "      <td>0</td>\n",
       "    </tr>\n",
       "    <tr>\n",
       "      <th>dishes_dim_26</th>\n",
       "      <td>0</td>\n",
       "      <td>0</td>\n",
       "      <td>0</td>\n",
       "      <td>0</td>\n",
       "      <td>0</td>\n",
       "      <td>0</td>\n",
       "      <td>0</td>\n",
       "    </tr>\n",
       "    <tr>\n",
       "      <th>dishes_dim_27</th>\n",
       "      <td>0</td>\n",
       "      <td>0</td>\n",
       "      <td>0</td>\n",
       "      <td>0.102248</td>\n",
       "      <td>0</td>\n",
       "      <td>0</td>\n",
       "      <td>0</td>\n",
       "    </tr>\n",
       "    <tr>\n",
       "      <th>dishes_dim_28</th>\n",
       "      <td>0</td>\n",
       "      <td>0</td>\n",
       "      <td>0</td>\n",
       "      <td>0</td>\n",
       "      <td>0.754669</td>\n",
       "      <td>0</td>\n",
       "      <td>0</td>\n",
       "    </tr>\n",
       "    <tr>\n",
       "      <th>dishes_dim_29</th>\n",
       "      <td>0</td>\n",
       "      <td>0</td>\n",
       "      <td>0</td>\n",
       "      <td>0</td>\n",
       "      <td>0</td>\n",
       "      <td>0</td>\n",
       "      <td>0</td>\n",
       "    </tr>\n",
       "    <tr>\n",
       "      <th>dishes_dim_30</th>\n",
       "      <td>0</td>\n",
       "      <td>0</td>\n",
       "      <td>0.0595801</td>\n",
       "      <td>0</td>\n",
       "      <td>0</td>\n",
       "      <td>0</td>\n",
       "      <td>0</td>\n",
       "    </tr>\n",
       "  </tbody>\n",
       "</table>\n",
       "</div>"
      ],
      "text/plain": [
       "                      0         1          2         3         4         5  \\\n",
       "dishes_dim_1          0         0          0         0         0         0   \n",
       "dishes_dim_2          0         0          0         0         0         0   \n",
       "dishes_dim_3   0.341488         0   0.413164         0         0         0   \n",
       "dishes_dim_4          0  0.035346          0         0         0         0   \n",
       "dishes_dim_5          0         0          0         0         0         0   \n",
       "dishes_dim_6          0         0          0         0         0         0   \n",
       "dishes_dim_7          0  0.476015          0         0         0  0.953968   \n",
       "dishes_dim_8          0         0          0         0         0         0   \n",
       "dishes_dim_9          0         0          0         0         0         0   \n",
       "dishes_dim_10         0         0          0         0         0         0   \n",
       "dishes_dim_11         0  0.356087          0         0         0         0   \n",
       "dishes_dim_12  0.471844         0          0         0         0         0   \n",
       "dishes_dim_13         0         0          0         0         0         0   \n",
       "dishes_dim_14         0         0  0.0612572         0         0         0   \n",
       "dishes_dim_15         0         0          0         0         0         0   \n",
       "dishes_dim_16         0         0          0         0         0         0   \n",
       "dishes_dim_17         0         0          0         0  0.196209         0   \n",
       "dishes_dim_18         0         0          0         0         0         0   \n",
       "dishes_dim_19         0         0          0         0         0         0   \n",
       "dishes_dim_20         0         0   0.417849         0         0         0   \n",
       "dishes_dim_21         0         0          0         0         0         0   \n",
       "dishes_dim_22         0         0          0         0         0         0   \n",
       "dishes_dim_23         0  0.104587          0         0         0         0   \n",
       "dishes_dim_24         0         0          0  0.804417         0         0   \n",
       "dishes_dim_25         0         0          0         0         0         0   \n",
       "dishes_dim_26         0         0          0         0         0         0   \n",
       "dishes_dim_27         0         0          0  0.102248         0         0   \n",
       "dishes_dim_28         0         0          0         0  0.754669         0   \n",
       "dishes_dim_29         0         0          0         0         0         0   \n",
       "dishes_dim_30         0         0  0.0595801         0         0         0   \n",
       "\n",
       "                      6  \n",
       "dishes_dim_1          0  \n",
       "dishes_dim_2          0  \n",
       "dishes_dim_3          0  \n",
       "dishes_dim_4          0  \n",
       "dishes_dim_5          0  \n",
       "dishes_dim_6          0  \n",
       "dishes_dim_7          0  \n",
       "dishes_dim_8          0  \n",
       "dishes_dim_9          0  \n",
       "dishes_dim_10         0  \n",
       "dishes_dim_11         0  \n",
       "dishes_dim_12         0  \n",
       "dishes_dim_13         0  \n",
       "dishes_dim_14         0  \n",
       "dishes_dim_15  0.879166  \n",
       "dishes_dim_16         0  \n",
       "dishes_dim_17         0  \n",
       "dishes_dim_18         0  \n",
       "dishes_dim_19         0  \n",
       "dishes_dim_20         0  \n",
       "dishes_dim_21         0  \n",
       "dishes_dim_22         0  \n",
       "dishes_dim_23         0  \n",
       "dishes_dim_24         0  \n",
       "dishes_dim_25         0  \n",
       "dishes_dim_26         0  \n",
       "dishes_dim_27         0  \n",
       "dishes_dim_28         0  \n",
       "dishes_dim_29         0  \n",
       "dishes_dim_30         0  "
      ]
     },
     "execution_count": 73,
     "metadata": {},
     "output_type": "execute_result"
    }
   ],
   "source": [
    "dish_dim.columns = ['dishes_dim_' + str(i + 1) for i in range(30)]\n",
    "dish_dim.head(7).T\n"
   ]
  },
  {
   "cell_type": "code",
   "execution_count": 74,
   "metadata": {},
   "outputs": [
    {
     "name": "stdout",
     "output_type": "stream",
     "text": [
      "Pretty printing has been turned OFF\n"
     ]
    }
   ],
   "source": [
    "pprint(lda.print_topics())"
   ]
  },
  {
   "cell_type": "code",
   "execution_count": 75,
   "metadata": {
    "scrolled": true
   },
   "outputs": [
    {
     "data": {
      "text/html": [
       "<div>\n",
       "<style scoped>\n",
       "    .dataframe tbody tr th:only-of-type {\n",
       "        vertical-align: middle;\n",
       "    }\n",
       "\n",
       "    .dataframe tbody tr th {\n",
       "        vertical-align: top;\n",
       "    }\n",
       "\n",
       "    .dataframe thead th {\n",
       "        text-align: right;\n",
       "    }\n",
       "</style>\n",
       "<table border=\"1\" class=\"dataframe\">\n",
       "  <thead>\n",
       "    <tr style=\"text-align: right;\">\n",
       "      <th></th>\n",
       "      <th>dish_dominant_topic</th>\n",
       "      <th>dish_perc_contribution</th>\n",
       "      <th>dish_topic_keywords</th>\n",
       "      <th>dishes</th>\n",
       "    </tr>\n",
       "  </thead>\n",
       "  <tbody>\n",
       "    <tr>\n",
       "      <th>0</th>\n",
       "      <td>11.0</td>\n",
       "      <td>0.4684</td>\n",
       "      <td>sandwiches, subs, shake, drinks, cheesesteak, ...</td>\n",
       "      <td>[beef_sandwiches, sandwiches, appetizers, fries]</td>\n",
       "    </tr>\n",
       "    <tr>\n",
       "      <th>1</th>\n",
       "      <td>6.0</td>\n",
       "      <td>0.4761</td>\n",
       "      <td>noodles, appetizers, pad_thai, curries, spring...</td>\n",
       "      <td>[appetizers, crab_rangoon, crab_rangoon, rango...</td>\n",
       "    </tr>\n",
       "    <tr>\n",
       "      <th>2</th>\n",
       "      <td>19.0</td>\n",
       "      <td>0.4180</td>\n",
       "      <td>sandwiches, hot_sandwiches, burgers, salads, p...</td>\n",
       "      <td>[classic_sandwiches, sandwiches, hummus, appet...</td>\n",
       "    </tr>\n",
       "    <tr>\n",
       "      <th>3</th>\n",
       "      <td>23.0</td>\n",
       "      <td>0.8044</td>\n",
       "      <td>curries, bread_varieties, indian_breads, naan,...</td>\n",
       "      <td>[bread_varieties, garlic_naan, indian_breads, ...</td>\n",
       "    </tr>\n",
       "    <tr>\n",
       "      <th>4</th>\n",
       "      <td>27.0</td>\n",
       "      <td>0.7548</td>\n",
       "      <td>pizza, cheese_pizza, salads, meat_pizza, pasta...</td>\n",
       "      <td>[cheese_pizza, pizza, thin_crust_cheese_pizza,...</td>\n",
       "    </tr>\n",
       "    <tr>\n",
       "      <th>5</th>\n",
       "      <td>6.0</td>\n",
       "      <td>0.9540</td>\n",
       "      <td>noodles, appetizers, pad_thai, curries, spring...</td>\n",
       "      <td>[appetizers, crab_rangoon, crab_rangoon, rango...</td>\n",
       "    </tr>\n",
       "  </tbody>\n",
       "</table>\n",
       "</div>"
      ],
      "text/plain": [
       "   dish_dominant_topic  dish_perc_contribution  \\\n",
       "0                 11.0                  0.4684   \n",
       "1                  6.0                  0.4761   \n",
       "2                 19.0                  0.4180   \n",
       "3                 23.0                  0.8044   \n",
       "4                 27.0                  0.7548   \n",
       "5                  6.0                  0.9540   \n",
       "\n",
       "                                 dish_topic_keywords  \\\n",
       "0  sandwiches, subs, shake, drinks, cheesesteak, ...   \n",
       "1  noodles, appetizers, pad_thai, curries, spring...   \n",
       "2  sandwiches, hot_sandwiches, burgers, salads, p...   \n",
       "3  curries, bread_varieties, indian_breads, naan,...   \n",
       "4  pizza, cheese_pizza, salads, meat_pizza, pasta...   \n",
       "5  noodles, appetizers, pad_thai, curries, spring...   \n",
       "\n",
       "                                              dishes  \n",
       "0   [beef_sandwiches, sandwiches, appetizers, fries]  \n",
       "1  [appetizers, crab_rangoon, crab_rangoon, rango...  \n",
       "2  [classic_sandwiches, sandwiches, hummus, appet...  \n",
       "3  [bread_varieties, garlic_naan, indian_breads, ...  \n",
       "4  [cheese_pizza, pizza, thin_crust_cheese_pizza,...  \n",
       "5  [appetizers, crab_rangoon, crab_rangoon, rango...  "
      ]
     },
     "execution_count": 75,
     "metadata": {},
     "output_type": "execute_result"
    }
   ],
   "source": [
    "dishes_keywords = format_topics_sentences(ldamodel=lda, corpus=corpus, texts=lda_dishes)\n",
    "# snapshot of cuisine allocation. this dataframe to concat with final topic modeled \n",
    "dishes_keywords.columns = ['dish_dominant_topic','dish_perc_contribution', 'dish_topic_keywords','dishes']\n",
    "dishes_keywords.head(6)\n"
   ]
  },
  {
   "cell_type": "code",
   "execution_count": 76,
   "metadata": {},
   "outputs": [
    {
     "data": {
      "text/plain": [
       "[('appetizers', 0.05041361), ('rice_dishes', 0.040967047), ('stir_fry', 0.035650697), ('puffs', 0.03086405), ('rice_entree', 0.030769566), ('garlic_chicken', 0.029584277), ('fried_rice', 0.029039558), ('deep_dish_pizza', 0.028447246), ('noodles', 0.0275419), ('specialty_sandwich', 0.026382495)]"
      ]
     },
     "execution_count": 76,
     "metadata": {},
     "output_type": "execute_result"
    }
   ],
   "source": [
    "lda.show_topic(17)"
   ]
  },
  {
   "cell_type": "code",
   "execution_count": 77,
   "metadata": {
    "scrolled": true
   },
   "outputs": [
    {
     "data": {
      "text/html": [
       "<div>\n",
       "<style scoped>\n",
       "    .dataframe tbody tr th:only-of-type {\n",
       "        vertical-align: middle;\n",
       "    }\n",
       "\n",
       "    .dataframe tbody tr th {\n",
       "        vertical-align: top;\n",
       "    }\n",
       "\n",
       "    .dataframe thead th {\n",
       "        text-align: right;\n",
       "    }\n",
       "</style>\n",
       "<table border=\"1\" class=\"dataframe\">\n",
       "  <thead>\n",
       "    <tr style=\"text-align: right;\">\n",
       "      <th></th>\n",
       "      <th>dish_dominant_topic</th>\n",
       "      <th>top_doc_perc_contr</th>\n",
       "      <th>dish_topic_keywords</th>\n",
       "      <th>top_doc_dish</th>\n",
       "    </tr>\n",
       "  </thead>\n",
       "  <tbody>\n",
       "    <tr>\n",
       "      <th>1602</th>\n",
       "      <td>0.0</td>\n",
       "      <td>0.9033</td>\n",
       "      <td>pork_dishes, steak, ribs, chicken_dishes, pork...</td>\n",
       "      <td>[avocado_salads, mixed_green_salads, salads, c...</td>\n",
       "    </tr>\n",
       "    <tr>\n",
       "      <th>7285</th>\n",
       "      <td>1.0</td>\n",
       "      <td>0.8926</td>\n",
       "      <td>soups, noodle_soup, ramen, appetizers, rice_di...</td>\n",
       "      <td>[noodle_soup, ramen, shoyu_ramen, soups, noodl...</td>\n",
       "    </tr>\n",
       "    <tr>\n",
       "      <th>5231</th>\n",
       "      <td>2.0</td>\n",
       "      <td>0.9256</td>\n",
       "      <td>appetizers, chicken_dishes, fries, chicken_ent...</td>\n",
       "      <td>[chicken_dishes, chicken_entree, half_chicken,...</td>\n",
       "    </tr>\n",
       "    <tr>\n",
       "      <th>2693</th>\n",
       "      <td>3.0</td>\n",
       "      <td>0.8792</td>\n",
       "      <td>salads, caesar_salads, chicken_dishes, cobb_sa...</td>\n",
       "      <td>[asian_chicken_salad, chicken_salads, salads, ...</td>\n",
       "    </tr>\n",
       "    <tr>\n",
       "      <th>6600</th>\n",
       "      <td>4.0</td>\n",
       "      <td>0.9724</td>\n",
       "      <td>sushi, maki, appetizers, tuna, salmon, tuna_ro...</td>\n",
       "      <td>[miso_soup, side_dishes, soups, maki, special_...</td>\n",
       "    </tr>\n",
       "    <tr>\n",
       "      <th>2692</th>\n",
       "      <td>5.0</td>\n",
       "      <td>0.9396</td>\n",
       "      <td>drinks, soft_drinks, sandwiches, soda, breakfa...</td>\n",
       "      <td>[coffee, drinks, ice_coffee, bottled_soda, dri...</td>\n",
       "    </tr>\n",
       "    <tr>\n",
       "      <th>1677</th>\n",
       "      <td>6.0</td>\n",
       "      <td>0.9678</td>\n",
       "      <td>noodles, appetizers, pad_thai, curries, spring...</td>\n",
       "      <td>[appetizers, spring_rolls, thai_spring_roll, a...</td>\n",
       "    </tr>\n",
       "  </tbody>\n",
       "</table>\n",
       "</div>"
      ],
      "text/plain": [
       "      dish_dominant_topic  top_doc_perc_contr  \\\n",
       "1602                  0.0              0.9033   \n",
       "7285                  1.0              0.8926   \n",
       "5231                  2.0              0.9256   \n",
       "2693                  3.0              0.8792   \n",
       "6600                  4.0              0.9724   \n",
       "2692                  5.0              0.9396   \n",
       "1677                  6.0              0.9678   \n",
       "\n",
       "                                    dish_topic_keywords  \\\n",
       "1602  pork_dishes, steak, ribs, chicken_dishes, pork...   \n",
       "7285  soups, noodle_soup, ramen, appetizers, rice_di...   \n",
       "5231  appetizers, chicken_dishes, fries, chicken_ent...   \n",
       "2693  salads, caesar_salads, chicken_dishes, cobb_sa...   \n",
       "6600  sushi, maki, appetizers, tuna, salmon, tuna_ro...   \n",
       "2692  drinks, soft_drinks, sandwiches, soda, breakfa...   \n",
       "1677  noodles, appetizers, pad_thai, curries, spring...   \n",
       "\n",
       "                                           top_doc_dish  \n",
       "1602  [avocado_salads, mixed_green_salads, salads, c...  \n",
       "7285  [noodle_soup, ramen, shoyu_ramen, soups, noodl...  \n",
       "5231  [chicken_dishes, chicken_entree, half_chicken,...  \n",
       "2693  [asian_chicken_salad, chicken_salads, salads, ...  \n",
       "6600  [miso_soup, side_dishes, soups, maki, special_...  \n",
       "2692  [coffee, drinks, ice_coffee, bottled_soda, dri...  \n",
       "1677  [appetizers, spring_rolls, thai_spring_roll, a...  "
      ]
     },
     "execution_count": 77,
     "metadata": {},
     "output_type": "execute_result"
    }
   ],
   "source": [
    "# getting top document for each dish type\n",
    "dish_topic_grped = dishes_keywords.groupby('dish_dominant_topic')\n",
    "dish_topic = pd.DataFrame()\n",
    "\n",
    "for i, grp in dish_topic_grped :\n",
    "    dish_topic = pd.concat([dish_topic, grp.sort_values(['dish_perc_contribution'], ascending=[0]).head(1)], \n",
    "                                            axis=0)\n",
    "\n",
    "dish_topic.columns = ['dish_dominant_topic','top_doc_perc_contr','dish_topic_keywords','top_doc_dish']\n",
    "dish_topic.head(7)\n"
   ]
  },
  {
   "cell_type": "code",
   "execution_count": 78,
   "metadata": {},
   "outputs": [
    {
     "data": {
      "text/html": [
       "<div>\n",
       "<style scoped>\n",
       "    .dataframe tbody tr th:only-of-type {\n",
       "        vertical-align: middle;\n",
       "    }\n",
       "\n",
       "    .dataframe tbody tr th {\n",
       "        vertical-align: top;\n",
       "    }\n",
       "\n",
       "    .dataframe thead th {\n",
       "        text-align: right;\n",
       "    }\n",
       "</style>\n",
       "<table border=\"1\" class=\"dataframe\">\n",
       "  <thead>\n",
       "    <tr style=\"text-align: right;\">\n",
       "      <th></th>\n",
       "      <th>dish_dominant_topic</th>\n",
       "      <th>dish_count_topics</th>\n",
       "      <th>dish_topic_contribution</th>\n",
       "    </tr>\n",
       "  </thead>\n",
       "  <tbody>\n",
       "    <tr>\n",
       "      <th>0</th>\n",
       "      <td>29.0</td>\n",
       "      <td>1</td>\n",
       "      <td>0.0333</td>\n",
       "    </tr>\n",
       "    <tr>\n",
       "      <th>1</th>\n",
       "      <td>28.0</td>\n",
       "      <td>1</td>\n",
       "      <td>0.0333</td>\n",
       "    </tr>\n",
       "  </tbody>\n",
       "</table>\n",
       "</div>"
      ],
      "text/plain": [
       "   dish_dominant_topic  dish_count_topics  dish_topic_contribution\n",
       "0                 29.0                  1                   0.0333\n",
       "1                 28.0                  1                   0.0333"
      ]
     },
     "execution_count": 78,
     "metadata": {},
     "output_type": "execute_result"
    }
   ],
   "source": [
    "# getting count of restaurants in each topic\n",
    "topic_counts = dish_topic['dish_dominant_topic'].value_counts()\n",
    "\n",
    "# getting topic contribution\n",
    "topic_contribution = round(topic_counts/topic_counts.sum(), 4)\n",
    "\n",
    "dish_topic_contribution =  pd.concat([topic_counts, topic_contribution], axis=1).reset_index()\n",
    "dish_topic_contribution.columns = ['dish_dominant_topic','dish_count_topics','dish_topic_contribution']\n",
    "dish_topic_contribution.head(2)"
   ]
  },
  {
   "cell_type": "code",
   "execution_count": 79,
   "metadata": {},
   "outputs": [
    {
     "data": {
      "text/html": [
       "<div>\n",
       "<style scoped>\n",
       "    .dataframe tbody tr th:only-of-type {\n",
       "        vertical-align: middle;\n",
       "    }\n",
       "\n",
       "    .dataframe tbody tr th {\n",
       "        vertical-align: top;\n",
       "    }\n",
       "\n",
       "    .dataframe thead th {\n",
       "        text-align: right;\n",
       "    }\n",
       "</style>\n",
       "<table border=\"1\" class=\"dataframe\">\n",
       "  <thead>\n",
       "    <tr style=\"text-align: right;\">\n",
       "      <th></th>\n",
       "      <th>dish_dominant_topic</th>\n",
       "      <th>top_doc_perc_contr</th>\n",
       "      <th>dish_topic_keywords</th>\n",
       "      <th>top_doc_dish</th>\n",
       "      <th>dish_count_topics</th>\n",
       "      <th>dish_topic_contribution</th>\n",
       "    </tr>\n",
       "  </thead>\n",
       "  <tbody>\n",
       "    <tr>\n",
       "      <th>0</th>\n",
       "      <td>0.0</td>\n",
       "      <td>0.9033</td>\n",
       "      <td>pork_dishes, steak, ribs, chicken_dishes, pork...</td>\n",
       "      <td>[avocado_salads, mixed_green_salads, salads, c...</td>\n",
       "      <td>1</td>\n",
       "      <td>0.0333</td>\n",
       "    </tr>\n",
       "    <tr>\n",
       "      <th>1</th>\n",
       "      <td>1.0</td>\n",
       "      <td>0.8926</td>\n",
       "      <td>soups, noodle_soup, ramen, appetizers, rice_di...</td>\n",
       "      <td>[noodle_soup, ramen, shoyu_ramen, soups, noodl...</td>\n",
       "      <td>1</td>\n",
       "      <td>0.0333</td>\n",
       "    </tr>\n",
       "  </tbody>\n",
       "</table>\n",
       "</div>"
      ],
      "text/plain": [
       "   dish_dominant_topic  top_doc_perc_contr  \\\n",
       "0                  0.0              0.9033   \n",
       "1                  1.0              0.8926   \n",
       "\n",
       "                                 dish_topic_keywords  \\\n",
       "0  pork_dishes, steak, ribs, chicken_dishes, pork...   \n",
       "1  soups, noodle_soup, ramen, appetizers, rice_di...   \n",
       "\n",
       "                                        top_doc_dish  dish_count_topics  \\\n",
       "0  [avocado_salads, mixed_green_salads, salads, c...                  1   \n",
       "1  [noodle_soup, ramen, shoyu_ramen, soups, noodl...                  1   \n",
       "\n",
       "   dish_topic_contribution  \n",
       "0                   0.0333  \n",
       "1                   0.0333  "
      ]
     },
     "execution_count": 79,
     "metadata": {},
     "output_type": "execute_result"
    }
   ],
   "source": [
    "# pd.merge(cuisines_topic,, how='inner',on='cuisine_dominant_topic')\n",
    "\n",
    "dish_topic_info = pd.merge(dish_topic,dish_topic_contribution,on='dish_dominant_topic')\n",
    "dish_topic_info.head(2)"
   ]
  },
  {
   "cell_type": "markdown",
   "metadata": {},
   "source": [
    "<a class=\"anchor\" id=\"cluster\"></a>"
   ]
  },
  {
   "cell_type": "markdown",
   "metadata": {},
   "source": [
    "## Clustering"
   ]
  },
  {
   "cell_type": "markdown",
   "metadata": {},
   "source": [
    "[Table of Contents](#toc)"
   ]
  },
  {
   "cell_type": "markdown",
   "metadata": {},
   "source": [
    "#### Combining the dimensions"
   ]
  },
  {
   "cell_type": "code",
   "execution_count": 132,
   "metadata": {},
   "outputs": [],
   "source": [
    "level2_joined = pd.concat([joined_df, cuisine_dim, dish_dim], axis=1)\n",
    "level2_joined = level2_joined.fillna(0)"
   ]
  },
  {
   "cell_type": "code",
   "execution_count": 133,
   "metadata": {},
   "outputs": [],
   "source": [
    "variability = ['count_top_dishes']\n",
    "price = ['max_price']\n",
    "cuisines_nlp = ['cuisines_dim_4', 'cuisines_dim_5', 'cuisines_dim_6',\n",
    "       'cuisines_dim_7', 'cuisines_dim_8', 'cuisines_dim_9', 'cuisines_dim_10',\n",
    "       'cuisines_dim_11', 'cuisines_dim_12', 'cuisines_dim_13',\n",
    "       'cuisines_dim_14', 'cuisines_dim_15', 'cuisines_dim_16',\n",
    "       'cuisines_dim_17', 'cuisines_dim_18', 'cuisines_dim_19',\n",
    "       'cuisines_dim_20', 'cuisines_dim_21', 'cuisines_dim_22',\n",
    "       'cuisines_dim_23','cuisines_dim_24','cuisines_dim_25','cuisines_dim_26',\n",
    "     'cuisines_dim_27','cuisines_dim_28','cuisines_dim_29','cuisines_dim_30']\n",
    "dish_nlp = ['dishes_dim_1', 'dishes_dim_2', 'dishes_dim_3',\n",
    "       'dishes_dim_4', 'dishes_dim_5', 'dishes_dim_6', 'dishes_dim_7',\n",
    "       'dishes_dim_8', 'dishes_dim_9', 'dishes_dim_10', 'dishes_dim_11',\n",
    "       'dishes_dim_12', 'dishes_dim_13', 'dishes_dim_14', 'dishes_dim_15',\n",
    "       'dishes_dim_16', 'dishes_dim_17', 'dishes_dim_18', 'dishes_dim_19',\n",
    "       'dishes_dim_20', 'dishes_dim_21', 'dishes_dim_22', 'dishes_dim_23',\n",
    "        'dishes_dim_24', 'dishes_dim_25', 'dishes_dim_26', 'dishes_dim_27',\n",
    "        'dishes_dim_28', 'dishes_dim_29', 'dishes_dim_30']"
   ]
  },
  {
   "cell_type": "code",
   "execution_count": 134,
   "metadata": {},
   "outputs": [],
   "source": [
    "data = level2_joined[variability + price + cuisines_nlp + dish_nlp]"
   ]
  },
  {
   "cell_type": "code",
   "execution_count": 135,
   "metadata": {},
   "outputs": [
    {
     "data": {
      "text/html": [
       "<div>\n",
       "<style scoped>\n",
       "    .dataframe tbody tr th:only-of-type {\n",
       "        vertical-align: middle;\n",
       "    }\n",
       "\n",
       "    .dataframe tbody tr th {\n",
       "        vertical-align: top;\n",
       "    }\n",
       "\n",
       "    .dataframe thead th {\n",
       "        text-align: right;\n",
       "    }\n",
       "</style>\n",
       "<table border=\"1\" class=\"dataframe\">\n",
       "  <thead>\n",
       "    <tr style=\"text-align: right;\">\n",
       "      <th></th>\n",
       "      <th>count_top_dishes</th>\n",
       "      <th>max_price</th>\n",
       "      <th>cuisines_dim_4</th>\n",
       "      <th>cuisines_dim_5</th>\n",
       "      <th>cuisines_dim_6</th>\n",
       "      <th>cuisines_dim_7</th>\n",
       "      <th>cuisines_dim_8</th>\n",
       "      <th>cuisines_dim_9</th>\n",
       "      <th>cuisines_dim_10</th>\n",
       "      <th>cuisines_dim_11</th>\n",
       "      <th>cuisines_dim_12</th>\n",
       "      <th>cuisines_dim_13</th>\n",
       "      <th>cuisines_dim_14</th>\n",
       "      <th>cuisines_dim_15</th>\n",
       "      <th>cuisines_dim_16</th>\n",
       "      <th>cuisines_dim_17</th>\n",
       "      <th>cuisines_dim_18</th>\n",
       "      <th>cuisines_dim_19</th>\n",
       "      <th>cuisines_dim_20</th>\n",
       "      <th>cuisines_dim_21</th>\n",
       "      <th>cuisines_dim_22</th>\n",
       "      <th>cuisines_dim_23</th>\n",
       "      <th>cuisines_dim_24</th>\n",
       "      <th>cuisines_dim_25</th>\n",
       "      <th>cuisines_dim_26</th>\n",
       "      <th>cuisines_dim_27</th>\n",
       "      <th>cuisines_dim_28</th>\n",
       "      <th>cuisines_dim_29</th>\n",
       "      <th>cuisines_dim_30</th>\n",
       "      <th>dishes_dim_1</th>\n",
       "      <th>dishes_dim_2</th>\n",
       "      <th>dishes_dim_3</th>\n",
       "      <th>dishes_dim_4</th>\n",
       "      <th>dishes_dim_5</th>\n",
       "      <th>dishes_dim_6</th>\n",
       "      <th>dishes_dim_7</th>\n",
       "      <th>dishes_dim_8</th>\n",
       "      <th>dishes_dim_9</th>\n",
       "      <th>dishes_dim_10</th>\n",
       "      <th>dishes_dim_11</th>\n",
       "      <th>dishes_dim_12</th>\n",
       "      <th>dishes_dim_13</th>\n",
       "      <th>dishes_dim_14</th>\n",
       "      <th>dishes_dim_15</th>\n",
       "      <th>dishes_dim_16</th>\n",
       "      <th>dishes_dim_17</th>\n",
       "      <th>dishes_dim_18</th>\n",
       "      <th>dishes_dim_19</th>\n",
       "      <th>dishes_dim_20</th>\n",
       "      <th>dishes_dim_21</th>\n",
       "      <th>dishes_dim_22</th>\n",
       "      <th>dishes_dim_23</th>\n",
       "      <th>dishes_dim_24</th>\n",
       "      <th>dishes_dim_25</th>\n",
       "      <th>dishes_dim_26</th>\n",
       "      <th>dishes_dim_27</th>\n",
       "      <th>dishes_dim_28</th>\n",
       "      <th>dishes_dim_29</th>\n",
       "      <th>dishes_dim_30</th>\n",
       "    </tr>\n",
       "  </thead>\n",
       "  <tbody>\n",
       "    <tr>\n",
       "      <th>0</th>\n",
       "      <td>5</td>\n",
       "      <td>975</td>\n",
       "      <td>0.0</td>\n",
       "      <td>0.0</td>\n",
       "      <td>0.0</td>\n",
       "      <td>0.0</td>\n",
       "      <td>0.0</td>\n",
       "      <td>0.0</td>\n",
       "      <td>0.0</td>\n",
       "      <td>0.0</td>\n",
       "      <td>0.0</td>\n",
       "      <td>0.0</td>\n",
       "      <td>0.0</td>\n",
       "      <td>0.0</td>\n",
       "      <td>0.0</td>\n",
       "      <td>0.0</td>\n",
       "      <td>0.0</td>\n",
       "      <td>0.0</td>\n",
       "      <td>0.0</td>\n",
       "      <td>0.000000</td>\n",
       "      <td>0.0</td>\n",
       "      <td>0.0</td>\n",
       "      <td>0.0</td>\n",
       "      <td>0.662176</td>\n",
       "      <td>0.0</td>\n",
       "      <td>0.000000</td>\n",
       "      <td>0.0</td>\n",
       "      <td>0.182269</td>\n",
       "      <td>0.0</td>\n",
       "      <td>0</td>\n",
       "      <td>0</td>\n",
       "      <td>0.341488</td>\n",
       "      <td>0</td>\n",
       "      <td>0</td>\n",
       "      <td>0</td>\n",
       "      <td>0</td>\n",
       "      <td>0</td>\n",
       "      <td>0</td>\n",
       "      <td>0</td>\n",
       "      <td>0</td>\n",
       "      <td>0.471844</td>\n",
       "      <td>0</td>\n",
       "      <td>0</td>\n",
       "      <td>0</td>\n",
       "      <td>0</td>\n",
       "      <td>0</td>\n",
       "      <td>0</td>\n",
       "      <td>0</td>\n",
       "      <td>0</td>\n",
       "      <td>0</td>\n",
       "      <td>0</td>\n",
       "      <td>0</td>\n",
       "      <td>0</td>\n",
       "      <td>0</td>\n",
       "      <td>0</td>\n",
       "      <td>0</td>\n",
       "      <td>0</td>\n",
       "      <td>0</td>\n",
       "      <td>0</td>\n",
       "    </tr>\n",
       "    <tr>\n",
       "      <th>1</th>\n",
       "      <td>10</td>\n",
       "      <td>1150</td>\n",
       "      <td>0.0</td>\n",
       "      <td>0.0</td>\n",
       "      <td>0.0</td>\n",
       "      <td>0.0</td>\n",
       "      <td>0.0</td>\n",
       "      <td>0.0</td>\n",
       "      <td>0.0</td>\n",
       "      <td>0.0</td>\n",
       "      <td>0.0</td>\n",
       "      <td>0.0</td>\n",
       "      <td>0.0</td>\n",
       "      <td>0.0</td>\n",
       "      <td>0.0</td>\n",
       "      <td>0.0</td>\n",
       "      <td>0.0</td>\n",
       "      <td>0.0</td>\n",
       "      <td>0.0</td>\n",
       "      <td>0.343429</td>\n",
       "      <td>0.0</td>\n",
       "      <td>0.0</td>\n",
       "      <td>0.0</td>\n",
       "      <td>0.000000</td>\n",
       "      <td>0.0</td>\n",
       "      <td>0.423238</td>\n",
       "      <td>0.0</td>\n",
       "      <td>0.000000</td>\n",
       "      <td>0.0</td>\n",
       "      <td>0</td>\n",
       "      <td>0</td>\n",
       "      <td>0</td>\n",
       "      <td>0.035346</td>\n",
       "      <td>0</td>\n",
       "      <td>0</td>\n",
       "      <td>0.476015</td>\n",
       "      <td>0</td>\n",
       "      <td>0</td>\n",
       "      <td>0</td>\n",
       "      <td>0.356087</td>\n",
       "      <td>0</td>\n",
       "      <td>0</td>\n",
       "      <td>0</td>\n",
       "      <td>0</td>\n",
       "      <td>0</td>\n",
       "      <td>0</td>\n",
       "      <td>0</td>\n",
       "      <td>0</td>\n",
       "      <td>0</td>\n",
       "      <td>0</td>\n",
       "      <td>0</td>\n",
       "      <td>0.104587</td>\n",
       "      <td>0</td>\n",
       "      <td>0</td>\n",
       "      <td>0</td>\n",
       "      <td>0</td>\n",
       "      <td>0</td>\n",
       "      <td>0</td>\n",
       "      <td>0</td>\n",
       "    </tr>\n",
       "  </tbody>\n",
       "</table>\n",
       "</div>"
      ],
      "text/plain": [
       "   count_top_dishes  max_price  cuisines_dim_4  cuisines_dim_5  \\\n",
       "0                 5        975             0.0             0.0   \n",
       "1                10       1150             0.0             0.0   \n",
       "\n",
       "   cuisines_dim_6  cuisines_dim_7  cuisines_dim_8  cuisines_dim_9  \\\n",
       "0             0.0             0.0             0.0             0.0   \n",
       "1             0.0             0.0             0.0             0.0   \n",
       "\n",
       "   cuisines_dim_10  cuisines_dim_11  cuisines_dim_12  cuisines_dim_13  \\\n",
       "0              0.0              0.0              0.0              0.0   \n",
       "1              0.0              0.0              0.0              0.0   \n",
       "\n",
       "   cuisines_dim_14  cuisines_dim_15  cuisines_dim_16  cuisines_dim_17  \\\n",
       "0              0.0              0.0              0.0              0.0   \n",
       "1              0.0              0.0              0.0              0.0   \n",
       "\n",
       "   cuisines_dim_18  cuisines_dim_19  cuisines_dim_20  cuisines_dim_21  \\\n",
       "0              0.0              0.0              0.0         0.000000   \n",
       "1              0.0              0.0              0.0         0.343429   \n",
       "\n",
       "   cuisines_dim_22  cuisines_dim_23  cuisines_dim_24  cuisines_dim_25  \\\n",
       "0              0.0              0.0              0.0         0.662176   \n",
       "1              0.0              0.0              0.0         0.000000   \n",
       "\n",
       "   cuisines_dim_26  cuisines_dim_27  cuisines_dim_28  cuisines_dim_29  \\\n",
       "0              0.0         0.000000              0.0         0.182269   \n",
       "1              0.0         0.423238              0.0         0.000000   \n",
       "\n",
       "   cuisines_dim_30 dishes_dim_1 dishes_dim_2 dishes_dim_3 dishes_dim_4  \\\n",
       "0              0.0            0            0     0.341488            0   \n",
       "1              0.0            0            0            0     0.035346   \n",
       "\n",
       "  dishes_dim_5 dishes_dim_6 dishes_dim_7 dishes_dim_8 dishes_dim_9  \\\n",
       "0            0            0            0            0            0   \n",
       "1            0            0     0.476015            0            0   \n",
       "\n",
       "  dishes_dim_10 dishes_dim_11 dishes_dim_12 dishes_dim_13 dishes_dim_14  \\\n",
       "0             0             0      0.471844             0             0   \n",
       "1             0      0.356087             0             0             0   \n",
       "\n",
       "  dishes_dim_15 dishes_dim_16 dishes_dim_17 dishes_dim_18 dishes_dim_19  \\\n",
       "0             0             0             0             0             0   \n",
       "1             0             0             0             0             0   \n",
       "\n",
       "  dishes_dim_20 dishes_dim_21 dishes_dim_22 dishes_dim_23 dishes_dim_24  \\\n",
       "0             0             0             0             0             0   \n",
       "1             0             0             0      0.104587             0   \n",
       "\n",
       "  dishes_dim_25 dishes_dim_26 dishes_dim_27 dishes_dim_28 dishes_dim_29  \\\n",
       "0             0             0             0             0             0   \n",
       "1             0             0             0             0             0   \n",
       "\n",
       "  dishes_dim_30  \n",
       "0             0  \n",
       "1             0  "
      ]
     },
     "execution_count": 135,
     "metadata": {},
     "output_type": "execute_result"
    }
   ],
   "source": [
    "pd.set_option('display.max_columns', None)\n",
    "data.head(2)"
   ]
  },
  {
   "cell_type": "markdown",
   "metadata": {},
   "source": [
    "<a class=\"anchor\" id=\"dbscan\"></a>"
   ]
  },
  {
   "cell_type": "markdown",
   "metadata": {},
   "source": [
    "#### DBSCAN"
   ]
  },
  {
   "cell_type": "code",
   "execution_count": 118,
   "metadata": {},
   "outputs": [],
   "source": [
    "X = StandardScaler().fit_transform(data)"
   ]
  },
  {
   "cell_type": "code",
   "execution_count": 119,
   "metadata": {},
   "outputs": [],
   "source": [
    "clustering = DBSCAN(eps=.80, min_samples=15).fit(data)"
   ]
  },
  {
   "cell_type": "code",
   "execution_count": 120,
   "metadata": {},
   "outputs": [
    {
     "data": {
      "text/plain": [
       "(5688,)"
      ]
     },
     "execution_count": 120,
     "metadata": {},
     "output_type": "execute_result"
    }
   ],
   "source": [
    "clustering.core_sample_indices_.shape\n"
   ]
  },
  {
   "cell_type": "code",
   "execution_count": 121,
   "metadata": {},
   "outputs": [
    {
     "data": {
      "text/plain": [
       "187"
      ]
     },
     "execution_count": 121,
     "metadata": {},
     "output_type": "execute_result"
    }
   ],
   "source": [
    "max(clustering.labels_)"
   ]
  },
  {
   "cell_type": "code",
   "execution_count": 122,
   "metadata": {},
   "outputs": [
    {
     "data": {
      "image/png": "[encoded data removed]",
      "text/plain": [
       "<Figure size 432x288 with 1 Axes>"
      ]
     },
     "metadata": {
      "needs_background": "light"
     },
     "output_type": "display_data"
    }
   ],
   "source": [
    "plt.hist(clustering.labels_,bins=60)\n",
    "plt.xlabel(\"Topic Number\")\n",
    "plt.ylabel(\"Number of Restaurants\")\n",
    "plt.title(\"DBSCAN Clustering Results\");"
   ]
  },
  {
   "cell_type": "markdown",
   "metadata": {},
   "source": [
    "<a class=\"anchor\" id=\"meanshift\"></a>"
   ]
  },
  {
   "cell_type": "markdown",
   "metadata": {},
   "source": [
    "### Mean Shift\n"
   ]
  },
  {
   "cell_type": "markdown",
   "metadata": {},
   "source": [
    "[Table of Contents](#toc)"
   ]
  },
  {
   "cell_type": "code",
   "execution_count": 123,
   "metadata": {},
   "outputs": [],
   "source": [
    "X = StandardScaler().fit_transform(data)"
   ]
  },
  {
   "cell_type": "code",
   "execution_count": 124,
   "metadata": {},
   "outputs": [
    {
     "name": "stdout",
     "output_type": "stream",
     "text": [
      "number of estimated clusters : 197\n"
     ]
    }
   ],
   "source": [
    "# estimate bandwidth \n",
    "bandwidth = estimate_bandwidth(X, quantile=0.02, n_samples=1500)\n",
    "\n",
    "ms = MeanShift(bandwidth=bandwidth, bin_seeding=True)\n",
    "ms.fit(X)\n",
    "labels = ms.labels_\n",
    "cluster_centers = ms.cluster_centers_\n",
    "\n",
    "labels_unique = np.unique(labels)\n",
    "n_clusters_ = len(labels_unique)\n",
    "\n",
    "print(\"number of estimated clusters : %d\" % n_clusters_)"
   ]
  },
  {
   "cell_type": "code",
   "execution_count": 125,
   "metadata": {},
   "outputs": [
    {
     "data": {
      "text/plain": [
       "array([0, 0, 0, ..., 0, 0, 0])"
      ]
     },
     "execution_count": 125,
     "metadata": {},
     "output_type": "execute_result"
    }
   ],
   "source": [
    "labels"
   ]
  },
  {
   "cell_type": "code",
   "execution_count": 126,
   "metadata": {},
   "outputs": [
    {
     "data": {
      "image/png": "[encoded data removed]",
      "text/plain": [
       "<Figure size 432x288 with 1 Axes>"
      ]
     },
     "metadata": {
      "needs_background": "light"
     },
     "output_type": "display_data"
    }
   ],
   "source": [
    "plt.hist(labels, bins=7);"
   ]
  },
  {
   "cell_type": "markdown",
   "metadata": {},
   "source": [
    "<a class=\"anchor\" id=\"kmeans\"></a>"
   ]
  },
  {
   "cell_type": "markdown",
   "metadata": {},
   "source": [
    "### k-means"
   ]
  },
  {
   "cell_type": "code",
   "execution_count": 137,
   "metadata": {},
   "outputs": [],
   "source": [
    "from sklearn.cluster import KMeans"
   ]
  },
  {
   "cell_type": "code",
   "execution_count": 141,
   "metadata": {},
   "outputs": [],
   "source": [
    "data = level2_joined[variability + cuisines_nlp + price + dish_nlp ]\n",
    "X = StandardScaler().fit_transform(data)"
   ]
  },
  {
   "cell_type": "code",
   "execution_count": 142,
   "metadata": {},
   "outputs": [],
   "source": [
    "inertia_set = []\n",
    "\n",
    "for i in range (15,80):\n",
    "    km = KMeans(n_clusters=i)\n",
    "    km.fit(X)\n",
    "    inertia_set.append(km.inertia_)\n"
   ]
  },
  {
   "cell_type": "code",
   "execution_count": 1,
   "metadata": {},
   "outputs": [],
   "source": [
    "plt.plot(np.arange(15,80),inertia_set)"
   ]
  },
  {
   "cell_type": "code",
   "execution_count": 143,
   "metadata": {
    "scrolled": true
   },
   "outputs": [
    {
     "data": {
      "text/plain": [
       "''"
      ]
     },
     "execution_count": 143,
     "metadata": {},
     "output_type": "execute_result"
    },
    {
     "data": {
      "image/png": "[encoded data removed]",
      "text/plain": [
       "<Figure size 432x288 with 1 Axes>"
      ]
     },
     "metadata": {
      "needs_background": "light"
     },
     "output_type": "display_data"
    }
   ],
   "source": [
    "# choosing 30 clusters\n",
    "\n",
    "num_clusters = 30\n",
    "km = KMeans(n_clusters=num_clusters, random_state = 42)\n",
    "km.fit(X)\n",
    "\n",
    "# let's just try with 30\n",
    "plt.hist(km.labels_, bins=30)\n",
    ";\n"
   ]
  },
  {
   "cell_type": "code",
   "execution_count": 145,
   "metadata": {},
   "outputs": [
    {
     "data": {
      "text/html": [
       "<div>\n",
       "<style scoped>\n",
       "    .dataframe tbody tr th:only-of-type {\n",
       "        vertical-align: middle;\n",
       "    }\n",
       "\n",
       "    .dataframe tbody tr th {\n",
       "        vertical-align: top;\n",
       "    }\n",
       "\n",
       "    .dataframe thead th {\n",
       "        text-align: right;\n",
       "    }\n",
       "</style>\n",
       "<table border=\"1\" class=\"dataframe\">\n",
       "  <thead>\n",
       "    <tr style=\"text-align: right;\">\n",
       "      <th></th>\n",
       "      <th>cuisines</th>\n",
       "      <th>price_rating</th>\n",
       "      <th>restaurant_id</th>\n",
       "      <th>max_price</th>\n",
       "      <th>count_top_dishes</th>\n",
       "      <th>dish_compound</th>\n",
       "      <th>unique_dishes</th>\n",
       "      <th>unique_hashtag_count</th>\n",
       "      <th>km_label</th>\n",
       "    </tr>\n",
       "  </thead>\n",
       "  <tbody>\n",
       "    <tr>\n",
       "      <th>0</th>\n",
       "      <td>['American', 'Hamburgers', 'Hot Dogs', 'Salads...</td>\n",
       "      <td>2.0</td>\n",
       "      <td>188</td>\n",
       "      <td>975</td>\n",
       "      <td>5</td>\n",
       "      <td>beef_sandwiches sandwiches appetizers fries</td>\n",
       "      <td>2</td>\n",
       "      <td>4</td>\n",
       "      <td>23</td>\n",
       "    </tr>\n",
       "    <tr>\n",
       "      <th>1</th>\n",
       "      <td>['Asian', 'Sushi', 'Thai']</td>\n",
       "      <td>2.0</td>\n",
       "      <td>190</td>\n",
       "      <td>1150</td>\n",
       "      <td>10</td>\n",
       "      <td>appetizers crab_rangoon crab_rangoon rangoon a...</td>\n",
       "      <td>10</td>\n",
       "      <td>25</td>\n",
       "      <td>5</td>\n",
       "    </tr>\n",
       "    <tr>\n",
       "      <th>2</th>\n",
       "      <td>['Alcohol', 'Chicken', 'Greek', 'Gyro', 'Hambu...</td>\n",
       "      <td>3.0</td>\n",
       "      <td>191</td>\n",
       "      <td>1495</td>\n",
       "      <td>10</td>\n",
       "      <td>classic_sandwiches sandwiches hummus appetizer...</td>\n",
       "      <td>9</td>\n",
       "      <td>14</td>\n",
       "      <td>4</td>\n",
       "    </tr>\n",
       "    <tr>\n",
       "      <th>3</th>\n",
       "      <td>['Gluten-Free', 'Healthy', 'Indian', 'Middle E...</td>\n",
       "      <td>3.0</td>\n",
       "      <td>194</td>\n",
       "      <td>1200</td>\n",
       "      <td>4</td>\n",
       "      <td>bread_varieties garlic_naan indian_breads naan...</td>\n",
       "      <td>4</td>\n",
       "      <td>10</td>\n",
       "      <td>2</td>\n",
       "    </tr>\n",
       "    <tr>\n",
       "      <th>4</th>\n",
       "      <td>['American', 'Italian', 'Pasta', 'Pizza', 'San...</td>\n",
       "      <td>2.0</td>\n",
       "      <td>240</td>\n",
       "      <td>899</td>\n",
       "      <td>8</td>\n",
       "      <td>cheese_pizza pizza thin_crust_cheese_pizza che...</td>\n",
       "      <td>7</td>\n",
       "      <td>12</td>\n",
       "      <td>0</td>\n",
       "    </tr>\n",
       "  </tbody>\n",
       "</table>\n",
       "</div>"
      ],
      "text/plain": [
       "                                            cuisines  price_rating  \\\n",
       "0  ['American', 'Hamburgers', 'Hot Dogs', 'Salads...           2.0   \n",
       "1                         ['Asian', 'Sushi', 'Thai']           2.0   \n",
       "2  ['Alcohol', 'Chicken', 'Greek', 'Gyro', 'Hambu...           3.0   \n",
       "3  ['Gluten-Free', 'Healthy', 'Indian', 'Middle E...           3.0   \n",
       "4  ['American', 'Italian', 'Pasta', 'Pizza', 'San...           2.0   \n",
       "\n",
       "   restaurant_id  max_price  count_top_dishes  \\\n",
       "0            188        975                 5   \n",
       "1            190       1150                10   \n",
       "2            191       1495                10   \n",
       "3            194       1200                 4   \n",
       "4            240        899                 8   \n",
       "\n",
       "                                       dish_compound  unique_dishes  \\\n",
       "0        beef_sandwiches sandwiches appetizers fries              2   \n",
       "1  appetizers crab_rangoon crab_rangoon rangoon a...             10   \n",
       "2  classic_sandwiches sandwiches hummus appetizer...              9   \n",
       "3  bread_varieties garlic_naan indian_breads naan...              4   \n",
       "4  cheese_pizza pizza thin_crust_cheese_pizza che...              7   \n",
       "\n",
       "   unique_hashtag_count  km_label  \n",
       "0                     4        23  \n",
       "1                    25         5  \n",
       "2                    14         4  \n",
       "3                    10         2  \n",
       "4                    12         0  "
      ]
     },
     "execution_count": 145,
     "metadata": {},
     "output_type": "execute_result"
    }
   ],
   "source": [
    "km_label = pd.DataFrame(km.labels_.T)\n",
    "km_label.columns = ['km_label']\n",
    "df_km = pd.concat([joined_df,km_label],axis=1)\n",
    "df_km.head()"
   ]
  },
  {
   "cell_type": "code",
   "execution_count": null,
   "metadata": {},
   "outputs": [],
   "source": []
  },
  {
   "cell_type": "markdown",
   "metadata": {},
   "source": [
    "### Agglomerative clustering "
   ]
  },
  {
   "cell_type": "code",
   "execution_count": 57,
   "metadata": {},
   "outputs": [],
   "source": [
    "from sklearn.cluster import AgglomerativeClustering"
   ]
  },
  {
   "cell_type": "code",
   "execution_count": 60,
   "metadata": {},
   "outputs": [],
   "source": [
    "data = level2_joined[variability + cuisines_nlp + dish_nlp ]"
   ]
  },
  {
   "cell_type": "code",
   "execution_count": null,
   "metadata": {
    "scrolled": true
   },
   "outputs": [],
   "source": [
    "cllustering = AgglomerativeClustering(linkage='complete', n_clusters=30)\n",
    "custering.fit(data)"
   ]
  },
  {
   "cell_type": "markdown",
   "metadata": {},
   "source": [
    "<a class=\"anchor\" id=\"save_final\"></a>"
   ]
  },
  {
   "cell_type": "markdown",
   "metadata": {},
   "source": [
    "## Save Final Table"
   ]
  },
  {
   "cell_type": "markdown",
   "metadata": {},
   "source": [
    "[Table of Contents](#toc)"
   ]
  },
  {
   "cell_type": "code",
   "execution_count": 193,
   "metadata": {},
   "outputs": [],
   "source": [
    "# merging chosen clustering (k-means and dish, cuisine topics)\n",
    "df_labeled = pd.concat([pd.DataFrame(df_km).drop(['cuisines','dish_compound'],axis=1),dishes_keywords,cuisine_keywords],axis=1)"
   ]
  },
  {
   "cell_type": "code",
   "execution_count": 194,
   "metadata": {},
   "outputs": [],
   "source": [
    "# merging labeled df with restaurant profile\n",
    "df_complete = pd.merge(df_rest,df_labeled,how='inner',on='restaurant_id')"
   ]
  },
  {
   "cell_type": "code",
   "execution_count": 195,
   "metadata": {},
   "outputs": [],
   "source": [
    "# saving two separate dataframes (cuisine and dish)\n",
    "cuisine_topic_info['cuisine_topic'] = cuisine_topic_info['cuisine_dominant_topic'] + 1\n",
    "\n",
    "dish_topic_info['dish_topic'] = dish_topic_info['dish_dominant_topic'] + 1"
   ]
  },
  {
   "cell_type": "code",
   "execution_count": 196,
   "metadata": {},
   "outputs": [],
   "source": [
    "with open('df_complete.pickle', 'wb') as to_write:\n",
    "    pickle.dump(df_complete, to_write)\n",
    "    \n",
    "with open('cuisine_topic_info.pickle', 'wb') as to_write:\n",
    "    pickle.dump(cuisine_topic_info, to_write)\n",
    "    \n",
    "with open('dish_topic_info.pickle', 'wb') as to_write:\n",
    "    pickle.dump(dish_topic_info, to_write)"
   ]
  },
  {
   "cell_type": "code",
   "execution_count": null,
   "metadata": {},
   "outputs": [],
   "source": [
    "with open('df_complete.pickle','rb') as read_file:\n",
    "    df_complete = pickle.load(read_file)\n",
    "    \n",
    "with open('cuisine_topic_info.pickle','rb') as read_file:\n",
    "    cuisine_topic_info = pickle.load(read_file)\n",
    "    \n",
    "with open('dish_topic_info.pickle','rb') as read_file:\n",
    "    dish_topic_info = pickle.load(read_file)"
   ]
  }
 ],
 "metadata": {
  "kernelspec": {
   "display_name": "Python 3",
   "language": "python",
   "name": "python3"
  },
  "language_info": {
   "codemirror_mode": {
    "name": "ipython",
    "version": 3
   },
   "file_extension": ".py",
   "mimetype": "text/x-python",
   "name": "python",
   "nbconvert_exporter": "python",
   "pygments_lexer": "ipython3",
   "version": "3.7.5"
  }
 },
 "nbformat": 4,
 "nbformat_minor": 2
}
